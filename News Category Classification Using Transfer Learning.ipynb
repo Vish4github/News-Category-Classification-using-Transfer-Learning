{
  "nbformat": 4,
  "nbformat_minor": 0,
  "metadata": {
    "colab": {
      "name": "News Category Classification Using Transfer Learning",
      "provenance": [],
      "collapsed_sections": [],
      "authorship_tag": "ABX9TyMmOEA1FQib1CtlECLr9g8w",
      "include_colab_link": true
    },
    "kernelspec": {
      "name": "python3",
      "display_name": "Python 3"
    },
    "accelerator": "GPU"
  },
  "cells": [
    {
      "cell_type": "markdown",
      "metadata": {
        "id": "view-in-github",
        "colab_type": "text"
      },
      "source": [
        "<a href=\"https://colab.research.google.com/github/Vish4github/Projects/blob/master/News%20Category%20Classification%20Using%20Transfer%20Learning.ipynb\" target=\"_parent\"><img src=\"https://colab.research.google.com/assets/colab-badge.svg\" alt=\"Open In Colab\"/></a>"
      ]
    },
    {
      "cell_type": "code",
      "metadata": {
        "id": "0ysgsRb92F5T",
        "colab_type": "code",
        "colab": {}
      },
      "source": [
        "!pip install fastai==0.7.0"
      ],
      "execution_count": 0,
      "outputs": []
    },
    {
      "cell_type": "code",
      "metadata": {
        "id": "9yGfZeiv_pQr",
        "colab_type": "code",
        "colab": {}
      },
      "source": [
        "!pip3 install torchvision\n",
        "!pip install torch==1.5.0+cu101 torchvision==0.6.0+cu101 -f https://download.pytorch.org/whl/torch_stable.html"
      ],
      "execution_count": 0,
      "outputs": []
    },
    {
      "cell_type": "code",
      "metadata": {
        "id": "1g41oGTM_p8b",
        "colab_type": "code",
        "colab": {}
      },
      "source": [
        "from fastai.imports import *"
      ],
      "execution_count": 0,
      "outputs": []
    },
    {
      "cell_type": "code",
      "metadata": {
        "id": "91RyXf3P_p_r",
        "colab_type": "code",
        "colab": {}
      },
      "source": [
        "from torch import * \n",
        "!pip install Pillow==4.1.1\n",
        "!pip install image\n",
        "%matplotlib inline\n",
        "from fastai.imports import *"
      ],
      "execution_count": 0,
      "outputs": []
    },
    {
      "cell_type": "code",
      "metadata": {
        "id": "Bmm4A_ZB_qE0",
        "colab_type": "code",
        "colab": {}
      },
      "source": [
        "!pip install \"torchtext==0.2.3\""
      ],
      "execution_count": 0,
      "outputs": []
    },
    {
      "cell_type": "code",
      "metadata": {
        "id": "ddqdVzCt_qH4",
        "colab_type": "code",
        "colab": {}
      },
      "source": [
        "!pip3 install spacy \n",
        "!python -m spacy download en"
      ],
      "execution_count": 0,
      "outputs": []
    },
    {
      "cell_type": "code",
      "metadata": {
        "id": "QPS1-KP5ICRG",
        "colab_type": "code",
        "colab": {}
      },
      "source": [
        "!nvcc --version"
      ],
      "execution_count": 0,
      "outputs": []
    },
    {
      "cell_type": "code",
      "metadata": {
        "id": "u-f_MEa7JALt",
        "colab_type": "code",
        "colab": {
          "base_uri": "https://localhost:8080/",
          "height": 34
        },
        "outputId": "9f0ff29f-d16c-4e81-aba4-998b32f3384b"
      },
      "source": [
        "import torch\n",
        "torch.cuda.is_available()\n",
        "#torch.backends.cudnn.enabled\n",
        "#!nvidia-smi\n",
        "#!python --version"
      ],
      "execution_count": 12,
      "outputs": [
        {
          "output_type": "execute_result",
          "data": {
            "text/plain": [
              "True"
            ]
          },
          "metadata": {
            "tags": []
          },
          "execution_count": 12
        }
      ]
    },
    {
      "cell_type": "code",
      "metadata": {
        "id": "D-M8UTiiX7aJ",
        "colab_type": "code",
        "colab": {}
      },
      "source": [
        "#!pip install fastai\n",
        "!pip install fastai --upgrade\n"
      ],
      "execution_count": 0,
      "outputs": []
    },
    {
      "cell_type": "code",
      "metadata": {
        "id": "TEnMArz1bt5_",
        "colab_type": "code",
        "colab": {
          "base_uri": "https://localhost:8080/",
          "height": 34
        },
        "outputId": "8c84d172-2cc0-42f0-87c5-269f39a8243a"
      },
      "source": [
        "%reload_ext autoreload\n",
        "%autoreload 2\n",
        "%matplotlib inline\n",
        "\n",
        "from fastai import *\n",
        "from fastai.text import *\n",
        "from fastai.text import Tokenizer, Vocab\n",
        "from keras.preprocessing.text import Tokenizer, text_to_word_sequence"
      ],
      "execution_count": 1,
      "outputs": [
        {
          "output_type": "stream",
          "text": [
            "Using TensorFlow backend.\n"
          ],
          "name": "stderr"
        }
      ]
    },
    {
      "cell_type": "code",
      "metadata": {
        "id": "8z73icjb34yD",
        "colab_type": "code",
        "colab": {
          "base_uri": "https://localhost:8080/",
          "height": 153
        },
        "outputId": "e87c9a1f-16a0-413b-928d-0a8b9620e03d"
      },
      "source": [
        "import numpy as np\n",
        "import pandas as pd\n",
        "import re\n",
        "import string\n",
        "import pickle\n",
        "import time\n",
        "import sys\n",
        "#!{sys.executable} -m spacy download en\n",
        "import math\n",
        "from pprint import pprint\n",
        "import warnings\n",
        "from sklearn.model_selection import train_test_split\n",
        "from sklearn.feature_extraction.text import TfidfVectorizer\n",
        "from sklearn.naive_bayes import MultinomialNB\n",
        "from sklearn.linear_model import LogisticRegression\n",
        "from sklearn.metrics import accuracy_score ,confusion_matrix\n",
        "\n",
        "# Gensim\n",
        "import gensim, logging, warnings\n",
        "import gensim.corpora as corpora\n",
        "from gensim.utils import lemmatize, simple_preprocess\n",
        "from gensim.models import CoherenceModel\n",
        "\n",
        "# NLTK\n",
        "import nltk\n",
        "from nltk.tokenize import word_tokenize\n",
        "from nltk.tokenize import sent_tokenize\n",
        "from nltk.probability import FreqDist\n",
        "from nltk.corpus import stopwords\n",
        "from nltk.stem import PorterStemmer\n",
        "from nltk.stem.wordnet import WordNetLemmatizer\n",
        "from nltk.stem.snowball import SnowballStemmer\n",
        "nltk.download('stopwords')\n",
        "nltk.download('wordnet')\n",
        "nltk.download('punkt')\n",
        "nltk.download('movie_reviews')\n",
        "\n",
        "#tfidf_vectorizer = TfidfVectorizer(max_df=0.9, min_df=0.05, stop_words=\"english\")\n",
        "\n",
        "# SpaCy\n",
        "import spacy\n",
        "nlp = spacy.load('en_core_web_sm')"
      ],
      "execution_count": 1,
      "outputs": [
        {
          "output_type": "stream",
          "text": [
            "[nltk_data] Downloading package stopwords to /root/nltk_data...\n",
            "[nltk_data]   Package stopwords is already up-to-date!\n",
            "[nltk_data] Downloading package wordnet to /root/nltk_data...\n",
            "[nltk_data]   Package wordnet is already up-to-date!\n",
            "[nltk_data] Downloading package punkt to /root/nltk_data...\n",
            "[nltk_data]   Package punkt is already up-to-date!\n",
            "[nltk_data] Downloading package movie_reviews to /root/nltk_data...\n",
            "[nltk_data]   Package movie_reviews is already up-to-date!\n"
          ],
          "name": "stdout"
        }
      ]
    },
    {
      "cell_type": "code",
      "metadata": {
        "id": "405IgRcpYPZO",
        "colab_type": "code",
        "colab": {
          "base_uri": "https://localhost:8080/",
          "height": 309
        },
        "outputId": "772a244f-fcdd-46ba-81d2-705f6b3feb1d"
      },
      "source": [
        "import pandas as pd\n",
        "from google.colab import drive\n",
        "drive.mount('/content/drive')\n",
        "path = \"/content/drive/My Drive/Data/News_Category_Dataset_v2.json\"\n",
        "df =  pd.read_json(path,lines=True)\n",
        "df.head()"
      ],
      "execution_count": 2,
      "outputs": [
        {
          "output_type": "stream",
          "text": [
            "Go to this URL in a browser: https://accounts.google.com/o/oauth2/auth?client_id=947318989803-6bn6qk8qdgf4n4g3pfee6491hc0brc4i.apps.googleusercontent.com&redirect_uri=urn%3aietf%3awg%3aoauth%3a2.0%3aoob&response_type=code&scope=email%20https%3a%2f%2fwww.googleapis.com%2fauth%2fdocs.test%20https%3a%2f%2fwww.googleapis.com%2fauth%2fdrive%20https%3a%2f%2fwww.googleapis.com%2fauth%2fdrive.photos.readonly%20https%3a%2f%2fwww.googleapis.com%2fauth%2fpeopleapi.readonly\n",
            "\n",
            "Enter your authorization code:\n",
            "··········\n",
            "Mounted at /content/drive\n"
          ],
          "name": "stdout"
        },
        {
          "output_type": "execute_result",
          "data": {
            "text/html": [
              "<div>\n",
              "<style scoped>\n",
              "    .dataframe tbody tr th:only-of-type {\n",
              "        vertical-align: middle;\n",
              "    }\n",
              "\n",
              "    .dataframe tbody tr th {\n",
              "        vertical-align: top;\n",
              "    }\n",
              "\n",
              "    .dataframe thead th {\n",
              "        text-align: right;\n",
              "    }\n",
              "</style>\n",
              "<table border=\"1\" class=\"dataframe\">\n",
              "  <thead>\n",
              "    <tr style=\"text-align: right;\">\n",
              "      <th></th>\n",
              "      <th>category</th>\n",
              "      <th>headline</th>\n",
              "      <th>authors</th>\n",
              "      <th>link</th>\n",
              "      <th>short_description</th>\n",
              "      <th>date</th>\n",
              "    </tr>\n",
              "  </thead>\n",
              "  <tbody>\n",
              "    <tr>\n",
              "      <th>0</th>\n",
              "      <td>CRIME</td>\n",
              "      <td>There Were 2 Mass Shootings In Texas Last Week...</td>\n",
              "      <td>Melissa Jeltsen</td>\n",
              "      <td>https://www.huffingtonpost.com/entry/texas-ama...</td>\n",
              "      <td>She left her husband. He killed their children...</td>\n",
              "      <td>2018-05-26</td>\n",
              "    </tr>\n",
              "    <tr>\n",
              "      <th>1</th>\n",
              "      <td>ENTERTAINMENT</td>\n",
              "      <td>Will Smith Joins Diplo And Nicky Jam For The 2...</td>\n",
              "      <td>Andy McDonald</td>\n",
              "      <td>https://www.huffingtonpost.com/entry/will-smit...</td>\n",
              "      <td>Of course it has a song.</td>\n",
              "      <td>2018-05-26</td>\n",
              "    </tr>\n",
              "    <tr>\n",
              "      <th>2</th>\n",
              "      <td>ENTERTAINMENT</td>\n",
              "      <td>Hugh Grant Marries For The First Time At Age 57</td>\n",
              "      <td>Ron Dicker</td>\n",
              "      <td>https://www.huffingtonpost.com/entry/hugh-gran...</td>\n",
              "      <td>The actor and his longtime girlfriend Anna Ebe...</td>\n",
              "      <td>2018-05-26</td>\n",
              "    </tr>\n",
              "    <tr>\n",
              "      <th>3</th>\n",
              "      <td>ENTERTAINMENT</td>\n",
              "      <td>Jim Carrey Blasts 'Castrato' Adam Schiff And D...</td>\n",
              "      <td>Ron Dicker</td>\n",
              "      <td>https://www.huffingtonpost.com/entry/jim-carre...</td>\n",
              "      <td>The actor gives Dems an ass-kicking for not fi...</td>\n",
              "      <td>2018-05-26</td>\n",
              "    </tr>\n",
              "    <tr>\n",
              "      <th>4</th>\n",
              "      <td>ENTERTAINMENT</td>\n",
              "      <td>Julianna Margulies Uses Donald Trump Poop Bags...</td>\n",
              "      <td>Ron Dicker</td>\n",
              "      <td>https://www.huffingtonpost.com/entry/julianna-...</td>\n",
              "      <td>The \"Dietland\" actress said using the bags is ...</td>\n",
              "      <td>2018-05-26</td>\n",
              "    </tr>\n",
              "  </tbody>\n",
              "</table>\n",
              "</div>"
            ],
            "text/plain": [
              "        category  ...       date\n",
              "0          CRIME  ... 2018-05-26\n",
              "1  ENTERTAINMENT  ... 2018-05-26\n",
              "2  ENTERTAINMENT  ... 2018-05-26\n",
              "3  ENTERTAINMENT  ... 2018-05-26\n",
              "4  ENTERTAINMENT  ... 2018-05-26\n",
              "\n",
              "[5 rows x 6 columns]"
            ]
          },
          "metadata": {
            "tags": []
          },
          "execution_count": 2
        }
      ]
    },
    {
      "cell_type": "code",
      "metadata": {
        "id": "_c3Nr_Kqn52K",
        "colab_type": "code",
        "colab": {
          "base_uri": "https://localhost:8080/",
          "height": 765
        },
        "outputId": "175316cb-96ed-4c90-cf44-2c7077829410"
      },
      "source": [
        "cates = df.groupby('category')\n",
        "print(\"total categories:\", cates.ngroups)\n",
        "print(cates.size())"
      ],
      "execution_count": 3,
      "outputs": [
        {
          "output_type": "stream",
          "text": [
            "total categories: 41\n",
            "category\n",
            "ARTS               1509\n",
            "ARTS & CULTURE     1339\n",
            "BLACK VOICES       4528\n",
            "BUSINESS           5937\n",
            "COLLEGE            1144\n",
            "COMEDY             5175\n",
            "CRIME              3405\n",
            "CULTURE & ARTS     1030\n",
            "DIVORCE            3426\n",
            "EDUCATION          1004\n",
            "ENTERTAINMENT     16058\n",
            "ENVIRONMENT        1323\n",
            "FIFTY              1401\n",
            "FOOD & DRINK       6226\n",
            "GOOD NEWS          1398\n",
            "GREEN              2622\n",
            "HEALTHY LIVING     6694\n",
            "HOME & LIVING      4195\n",
            "IMPACT             3459\n",
            "LATINO VOICES      1129\n",
            "MEDIA              2815\n",
            "MONEY              1707\n",
            "PARENTING          8677\n",
            "PARENTS            3955\n",
            "POLITICS          32739\n",
            "QUEER VOICES       6314\n",
            "RELIGION           2556\n",
            "SCIENCE            2178\n",
            "SPORTS             4884\n",
            "STYLE              2254\n",
            "STYLE & BEAUTY     9649\n",
            "TASTE              2096\n",
            "TECH               2082\n",
            "THE WORLDPOST      3664\n",
            "TRAVEL             9887\n",
            "WEDDINGS           3651\n",
            "WEIRD NEWS         2670\n",
            "WELLNESS          17827\n",
            "WOMEN              3490\n",
            "WORLD NEWS         2177\n",
            "WORLDPOST          2579\n",
            "dtype: int64\n"
          ],
          "name": "stdout"
        }
      ]
    },
    {
      "cell_type": "markdown",
      "metadata": {
        "id": "7I_F2hSAyiJq",
        "colab_type": "text"
      },
      "source": [
        "Some of the above categories can be combined under a broader umbrella - comdey and entertainment ; style and style & beauty etc"
      ]
    },
    {
      "cell_type": "code",
      "metadata": {
        "id": "4aZUJ6Dusj80",
        "colab_type": "code",
        "colab": {
          "base_uri": "https://localhost:8080/",
          "height": 204
        },
        "outputId": "4671dfde-e41b-4173-fa69-903731ba3ef6"
      },
      "source": [
        "df.loc[(df.category =='WORLD NEWS')][['headline','short_description','category']].tail()"
      ],
      "execution_count": 4,
      "outputs": [
        {
          "output_type": "execute_result",
          "data": {
            "text/html": [
              "<div>\n",
              "<style scoped>\n",
              "    .dataframe tbody tr th:only-of-type {\n",
              "        vertical-align: middle;\n",
              "    }\n",
              "\n",
              "    .dataframe tbody tr th {\n",
              "        vertical-align: top;\n",
              "    }\n",
              "\n",
              "    .dataframe thead th {\n",
              "        text-align: right;\n",
              "    }\n",
              "</style>\n",
              "<table border=\"1\" class=\"dataframe\">\n",
              "  <thead>\n",
              "    <tr style=\"text-align: right;\">\n",
              "      <th></th>\n",
              "      <th>headline</th>\n",
              "      <th>short_description</th>\n",
              "      <th>category</th>\n",
              "    </tr>\n",
              "  </thead>\n",
              "  <tbody>\n",
              "    <tr>\n",
              "      <th>26030</th>\n",
              "      <td>The Riyadh Summits: A Workshop For A Global Fr...</td>\n",
              "      <td>Donald Trump’s presidency is currently undergo...</td>\n",
              "      <td>WORLD NEWS</td>\n",
              "    </tr>\n",
              "    <tr>\n",
              "      <th>26039</th>\n",
              "      <td>Donald Of Arabia</td>\n",
              "      <td>If Trump continues on this path, the future is...</td>\n",
              "      <td>WORLD NEWS</td>\n",
              "    </tr>\n",
              "    <tr>\n",
              "      <th>26047</th>\n",
              "      <td>Resistance Grows Against Hungarian Government'...</td>\n",
              "      <td>Budapest is seeing its largest anti-government...</td>\n",
              "      <td>WORLD NEWS</td>\n",
              "    </tr>\n",
              "    <tr>\n",
              "      <th>26109</th>\n",
              "      <td>Trump’s Counter-Extremism Effort Should Addres...</td>\n",
              "      <td>The president will have to address incitement ...</td>\n",
              "      <td>WORLD NEWS</td>\n",
              "    </tr>\n",
              "    <tr>\n",
              "      <th>29757</th>\n",
              "      <td>What You Need To Know About North Korea's Nucl...</td>\n",
              "      <td>Experts say the country's nuclear weapons test...</td>\n",
              "      <td>WORLD NEWS</td>\n",
              "    </tr>\n",
              "  </tbody>\n",
              "</table>\n",
              "</div>"
            ],
            "text/plain": [
              "                                                headline  ...    category\n",
              "26030  The Riyadh Summits: A Workshop For A Global Fr...  ...  WORLD NEWS\n",
              "26039                                   Donald Of Arabia  ...  WORLD NEWS\n",
              "26047  Resistance Grows Against Hungarian Government'...  ...  WORLD NEWS\n",
              "26109  Trump’s Counter-Extremism Effort Should Addres...  ...  WORLD NEWS\n",
              "29757  What You Need To Know About North Korea's Nucl...  ...  WORLD NEWS\n",
              "\n",
              "[5 rows x 3 columns]"
            ]
          },
          "metadata": {
            "tags": []
          },
          "execution_count": 4
        }
      ]
    },
    {
      "cell_type": "code",
      "metadata": {
        "id": "XJYSXWzBrdZm",
        "colab_type": "code",
        "colab": {
          "base_uri": "https://localhost:8080/",
          "height": 204
        },
        "outputId": "13ab370a-86b1-4e44-f967-c1da71361c27"
      },
      "source": [
        "df.loc[(df.category =='WORLDPOST')][['headline','short_description','category']].head()"
      ],
      "execution_count": 5,
      "outputs": [
        {
          "output_type": "execute_result",
          "data": {
            "text/html": [
              "<div>\n",
              "<style scoped>\n",
              "    .dataframe tbody tr th:only-of-type {\n",
              "        vertical-align: middle;\n",
              "    }\n",
              "\n",
              "    .dataframe tbody tr th {\n",
              "        vertical-align: top;\n",
              "    }\n",
              "\n",
              "    .dataframe thead th {\n",
              "        text-align: right;\n",
              "    }\n",
              "</style>\n",
              "<table border=\"1\" class=\"dataframe\">\n",
              "  <thead>\n",
              "    <tr style=\"text-align: right;\">\n",
              "      <th></th>\n",
              "      <th>headline</th>\n",
              "      <th>short_description</th>\n",
              "      <th>category</th>\n",
              "    </tr>\n",
              "  </thead>\n",
              "  <tbody>\n",
              "    <tr>\n",
              "      <th>34622</th>\n",
              "      <td>A New American Strategy in the Middle East</td>\n",
              "      <td></td>\n",
              "      <td>WORLDPOST</td>\n",
              "    </tr>\n",
              "    <tr>\n",
              "      <th>34626</th>\n",
              "      <td>Islamic Republic of Iran's Lobbyists and Spies...</td>\n",
              "      <td></td>\n",
              "      <td>WORLDPOST</td>\n",
              "    </tr>\n",
              "    <tr>\n",
              "      <th>34704</th>\n",
              "      <td>Brexit And Northern Ireland: Fact vs. Fiction</td>\n",
              "      <td>Since the Brexit referendum last summer, there...</td>\n",
              "      <td>WORLDPOST</td>\n",
              "    </tr>\n",
              "    <tr>\n",
              "      <th>34705</th>\n",
              "      <td>Leave No Person With Disabilities Behind</td>\n",
              "      <td>I am one of many in Bangladesh and around the ...</td>\n",
              "      <td>WORLDPOST</td>\n",
              "    </tr>\n",
              "    <tr>\n",
              "      <th>34719</th>\n",
              "      <td>How to Put America First--While Engaging the R...</td>\n",
              "      <td></td>\n",
              "      <td>WORLDPOST</td>\n",
              "    </tr>\n",
              "  </tbody>\n",
              "</table>\n",
              "</div>"
            ],
            "text/plain": [
              "                                                headline  ...   category\n",
              "34622         A New American Strategy in the Middle East  ...  WORLDPOST\n",
              "34626  Islamic Republic of Iran's Lobbyists and Spies...  ...  WORLDPOST\n",
              "34704      Brexit And Northern Ireland: Fact vs. Fiction  ...  WORLDPOST\n",
              "34705           Leave No Person With Disabilities Behind  ...  WORLDPOST\n",
              "34719  How to Put America First--While Engaging the R...  ...  WORLDPOST\n",
              "\n",
              "[5 rows x 3 columns]"
            ]
          },
          "metadata": {
            "tags": []
          },
          "execution_count": 5
        }
      ]
    },
    {
      "cell_type": "code",
      "metadata": {
        "id": "FcwTRrHytfKF",
        "colab_type": "code",
        "colab": {
          "base_uri": "https://localhost:8080/",
          "height": 204
        },
        "outputId": "0462cad7-1d02-4fc9-a6e6-2c1d0a5bbfae"
      },
      "source": [
        "df.loc[(df.category =='LATINO VOICES')][['headline','short_description','category']].tail()"
      ],
      "execution_count": 6,
      "outputs": [
        {
          "output_type": "execute_result",
          "data": {
            "text/html": [
              "<div>\n",
              "<style scoped>\n",
              "    .dataframe tbody tr th:only-of-type {\n",
              "        vertical-align: middle;\n",
              "    }\n",
              "\n",
              "    .dataframe tbody tr th {\n",
              "        vertical-align: top;\n",
              "    }\n",
              "\n",
              "    .dataframe thead th {\n",
              "        text-align: right;\n",
              "    }\n",
              "</style>\n",
              "<table border=\"1\" class=\"dataframe\">\n",
              "  <thead>\n",
              "    <tr style=\"text-align: right;\">\n",
              "      <th></th>\n",
              "      <th>headline</th>\n",
              "      <th>short_description</th>\n",
              "      <th>category</th>\n",
              "    </tr>\n",
              "  </thead>\n",
              "  <tbody>\n",
              "    <tr>\n",
              "      <th>124413</th>\n",
              "      <td>LOOK: Latin Billboard Music Awards Fashion Hit...</td>\n",
              "      <td></td>\n",
              "      <td>LATINO VOICES</td>\n",
              "    </tr>\n",
              "    <tr>\n",
              "      <th>124434</th>\n",
              "      <td>Are Deportations Rising or Falling? A Focus on...</td>\n",
              "      <td>Although clear and correct statistics are no d...</td>\n",
              "      <td>LATINO VOICES</td>\n",
              "    </tr>\n",
              "    <tr>\n",
              "      <th>124624</th>\n",
              "      <td>When I Chose to Stop Feeling Small: The Story ...</td>\n",
              "      <td>No woman in my family had ever been this tall,...</td>\n",
              "      <td>LATINO VOICES</td>\n",
              "    </tr>\n",
              "    <tr>\n",
              "      <th>124644</th>\n",
              "      <td>More Latino Than White Students Admitted To UC</td>\n",
              "      <td></td>\n",
              "      <td>LATINO VOICES</td>\n",
              "    </tr>\n",
              "    <tr>\n",
              "      <th>124667</th>\n",
              "      <td>Living and Breathing Gabriel García Márquez</td>\n",
              "      <td>Thirty years ago I lived García Márquez. Maybe...</td>\n",
              "      <td>LATINO VOICES</td>\n",
              "    </tr>\n",
              "  </tbody>\n",
              "</table>\n",
              "</div>"
            ],
            "text/plain": [
              "                                                 headline  ...       category\n",
              "124413  LOOK: Latin Billboard Music Awards Fashion Hit...  ...  LATINO VOICES\n",
              "124434  Are Deportations Rising or Falling? A Focus on...  ...  LATINO VOICES\n",
              "124624  When I Chose to Stop Feeling Small: The Story ...  ...  LATINO VOICES\n",
              "124644     More Latino Than White Students Admitted To UC  ...  LATINO VOICES\n",
              "124667        Living and Breathing Gabriel García Márquez  ...  LATINO VOICES\n",
              "\n",
              "[5 rows x 3 columns]"
            ]
          },
          "metadata": {
            "tags": []
          },
          "execution_count": 6
        }
      ]
    },
    {
      "cell_type": "code",
      "metadata": {
        "id": "8XqQgr3yxY69",
        "colab_type": "code",
        "colab": {}
      },
      "source": [
        "df.category = df.category.map(lambda x: \"WORLD NEWS\" if x == \"THE WORLDPOST\" else x)\n",
        "df.category = df.category.map(lambda x: \"ENVIRONMENT\" if x == \"GREEN\" else x)\n",
        "df.category = df.category.map(lambda x: \"ARTS & CULTURE\" if x == \"CULTURE & ARTS\" else x)\n",
        "df.category = df.category.map(lambda x: \"ENTERTAINMENT\" if x == \"COMEDY\" else x)\n",
        "df.category = df.category.map(lambda x: \"EDUCATION\" if x == \"COLLEGE\" else x)\n",
        "df.category = df.category.map(lambda x: \"FOOD & DRINK\" if x == \"TASTE\" else x)\n",
        "df.category = df.category.map(lambda x: \"HEALTHY LIVING\" if x == \"WELLNESS\" else x)\n",
        "df.category = df.category.map(lambda x: \"STYLE & BEAUTY\" if x == \"STYLE\" else x)\n",
        "df.category = df.category.map(lambda x: \"PARENTS\" if x == \"PARENTING\" else x)\n",
        "df.category = df.category.map(lambda x: \"WORLD NEWS\" if x == \"WORLDPOST\" else x)"
      ],
      "execution_count": 0,
      "outputs": []
    },
    {
      "cell_type": "markdown",
      "metadata": {
        "id": "-3zHTsgRy9G1",
        "colab_type": "text"
      },
      "source": [
        "We have reduced the category dimensions from 41 to 31 "
      ]
    },
    {
      "cell_type": "code",
      "metadata": {
        "id": "YoQW6yZkw16z",
        "colab_type": "code",
        "colab": {
          "base_uri": "https://localhost:8080/",
          "height": 595
        },
        "outputId": "e86a5dbf-b579-4cfc-83a9-bb2c10d4d1ba"
      },
      "source": [
        "cates = df.groupby('category')\n",
        "print(\"total categories:\", cates.ngroups)\n",
        "print(cates.size())"
      ],
      "execution_count": 8,
      "outputs": [
        {
          "output_type": "stream",
          "text": [
            "total categories: 31\n",
            "category\n",
            "ARTS               1509\n",
            "ARTS & CULTURE     2369\n",
            "BLACK VOICES       4528\n",
            "BUSINESS           5937\n",
            "CRIME              3405\n",
            "DIVORCE            3426\n",
            "EDUCATION          2148\n",
            "ENTERTAINMENT     21233\n",
            "ENVIRONMENT        3945\n",
            "FIFTY              1401\n",
            "FOOD & DRINK       8322\n",
            "GOOD NEWS          1398\n",
            "HEALTHY LIVING    24521\n",
            "HOME & LIVING      4195\n",
            "IMPACT             3459\n",
            "LATINO VOICES      1129\n",
            "MEDIA              2815\n",
            "MONEY              1707\n",
            "PARENTS           12632\n",
            "POLITICS          32739\n",
            "QUEER VOICES       6314\n",
            "RELIGION           2556\n",
            "SCIENCE            2178\n",
            "SPORTS             4884\n",
            "STYLE & BEAUTY    11903\n",
            "TECH               2082\n",
            "TRAVEL             9887\n",
            "WEDDINGS           3651\n",
            "WEIRD NEWS         2670\n",
            "WOMEN              3490\n",
            "WORLD NEWS         8420\n",
            "dtype: int64\n"
          ],
          "name": "stdout"
        }
      ]
    },
    {
      "cell_type": "markdown",
      "metadata": {
        "id": "ujw1OODa4QQd",
        "colab_type": "text"
      },
      "source": [
        "Clean module"
      ]
    },
    {
      "cell_type": "code",
      "metadata": {
        "id": "-3XZ4S0N3f77",
        "colab_type": "code",
        "colab": {}
      },
      "source": [
        "lemma = WordNetLemmatizer()\n",
        "spacy_stopwords = spacy.lang.en.stop_words.STOP_WORDS\n",
        "def clean_text(text):\n",
        "    lower = text.lower()\n",
        "    # Split into list\n",
        "    wordList = lower.split()\n",
        "    # Remove punctuation\n",
        "    wordList_punc = [\"\".join(i for i in word if (i==\"'\")|(i not in string.punctuation)) for word in wordList]\n",
        "    # Remove stopwords\n",
        "    wordList_stop = [word for word in wordList_punc if word not in list(spacy_stopwords)]\n",
        "    # Remove other keywords\n",
        "    #wordList_key = [word for word in wordList_stop if word not in keywords]\n",
        "    # Stemming\n",
        "    #words_stemmed= [stemmer.stem(word) for word in wordList_key]\n",
        "    # Lemmatisation\n",
        "    #lemma_word = nlp(wordList)\n",
        "    wordList_clean = [lemma.lemmatize(word) for word in wordList_stop]\n",
        "    #wordList = [word.lemma_ for word in wordList]\n",
        "    return \" \".join(wordList_clean)\n"
      ],
      "execution_count": 0,
      "outputs": []
    },
    {
      "cell_type": "code",
      "metadata": {
        "id": "vd5NSgRW4LEU",
        "colab_type": "code",
        "colab": {
          "base_uri": "https://localhost:8080/",
          "height": 51
        },
        "outputId": "cc9b892e-569e-4808-d4de-8560a7e8dca5"
      },
      "source": [
        "%%time\n",
        "df['Clean_headline'] = df.headline.map(clean_text)\n",
        "df['Clean_description'] = df.short_description.map(clean_text)"
      ],
      "execution_count": 10,
      "outputs": [
        {
          "output_type": "stream",
          "text": [
            "CPU times: user 56 s, sys: 126 ms, total: 56.1 s\n",
            "Wall time: 56.1 s\n"
          ],
          "name": "stdout"
        }
      ]
    },
    {
      "cell_type": "code",
      "metadata": {
        "id": "6sI6lfxw5LPJ",
        "colab_type": "code",
        "colab": {
          "base_uri": "https://localhost:8080/",
          "height": 289
        },
        "outputId": "3f10eabb-24b1-476d-d965-1cdcd945b284"
      },
      "source": [
        "df.head()"
      ],
      "execution_count": 11,
      "outputs": [
        {
          "output_type": "execute_result",
          "data": {
            "text/html": [
              "<div>\n",
              "<style scoped>\n",
              "    .dataframe tbody tr th:only-of-type {\n",
              "        vertical-align: middle;\n",
              "    }\n",
              "\n",
              "    .dataframe tbody tr th {\n",
              "        vertical-align: top;\n",
              "    }\n",
              "\n",
              "    .dataframe thead th {\n",
              "        text-align: right;\n",
              "    }\n",
              "</style>\n",
              "<table border=\"1\" class=\"dataframe\">\n",
              "  <thead>\n",
              "    <tr style=\"text-align: right;\">\n",
              "      <th></th>\n",
              "      <th>category</th>\n",
              "      <th>headline</th>\n",
              "      <th>authors</th>\n",
              "      <th>link</th>\n",
              "      <th>short_description</th>\n",
              "      <th>date</th>\n",
              "      <th>Clean_headline</th>\n",
              "      <th>Clean_description</th>\n",
              "    </tr>\n",
              "  </thead>\n",
              "  <tbody>\n",
              "    <tr>\n",
              "      <th>0</th>\n",
              "      <td>CRIME</td>\n",
              "      <td>There Were 2 Mass Shootings In Texas Last Week...</td>\n",
              "      <td>Melissa Jeltsen</td>\n",
              "      <td>https://www.huffingtonpost.com/entry/texas-ama...</td>\n",
              "      <td>She left her husband. He killed their children...</td>\n",
              "      <td>2018-05-26</td>\n",
              "      <td>2 mass shooting texas week 1 tv</td>\n",
              "      <td>left husband killed child day america</td>\n",
              "    </tr>\n",
              "    <tr>\n",
              "      <th>1</th>\n",
              "      <td>ENTERTAINMENT</td>\n",
              "      <td>Will Smith Joins Diplo And Nicky Jam For The 2...</td>\n",
              "      <td>Andy McDonald</td>\n",
              "      <td>https://www.huffingtonpost.com/entry/will-smit...</td>\n",
              "      <td>Of course it has a song.</td>\n",
              "      <td>2018-05-26</td>\n",
              "      <td>smith join diplo nicky jam 2018 world cup's of...</td>\n",
              "      <td>course song</td>\n",
              "    </tr>\n",
              "    <tr>\n",
              "      <th>2</th>\n",
              "      <td>ENTERTAINMENT</td>\n",
              "      <td>Hugh Grant Marries For The First Time At Age 57</td>\n",
              "      <td>Ron Dicker</td>\n",
              "      <td>https://www.huffingtonpost.com/entry/hugh-gran...</td>\n",
              "      <td>The actor and his longtime girlfriend Anna Ebe...</td>\n",
              "      <td>2018-05-26</td>\n",
              "      <td>hugh grant marries time age 57</td>\n",
              "      <td>actor longtime girlfriend anna eberstein tied ...</td>\n",
              "    </tr>\n",
              "    <tr>\n",
              "      <th>3</th>\n",
              "      <td>ENTERTAINMENT</td>\n",
              "      <td>Jim Carrey Blasts 'Castrato' Adam Schiff And D...</td>\n",
              "      <td>Ron Dicker</td>\n",
              "      <td>https://www.huffingtonpost.com/entry/jim-carre...</td>\n",
              "      <td>The actor gives Dems an ass-kicking for not fi...</td>\n",
              "      <td>2018-05-26</td>\n",
              "      <td>jim carrey blast 'castrato' adam schiff democr...</td>\n",
              "      <td>actor give dems asskicking fighting hard donal...</td>\n",
              "    </tr>\n",
              "    <tr>\n",
              "      <th>4</th>\n",
              "      <td>ENTERTAINMENT</td>\n",
              "      <td>Julianna Margulies Uses Donald Trump Poop Bags...</td>\n",
              "      <td>Ron Dicker</td>\n",
              "      <td>https://www.huffingtonpost.com/entry/julianna-...</td>\n",
              "      <td>The \"Dietland\" actress said using the bags is ...</td>\n",
              "      <td>2018-05-26</td>\n",
              "      <td>julianna margulies us donald trump poop bag pi...</td>\n",
              "      <td>dietland actress said bag cathartic therapeuti...</td>\n",
              "    </tr>\n",
              "  </tbody>\n",
              "</table>\n",
              "</div>"
            ],
            "text/plain": [
              "        category  ...                                  Clean_description\n",
              "0          CRIME  ...              left husband killed child day america\n",
              "1  ENTERTAINMENT  ...                                        course song\n",
              "2  ENTERTAINMENT  ...  actor longtime girlfriend anna eberstein tied ...\n",
              "3  ENTERTAINMENT  ...  actor give dems asskicking fighting hard donal...\n",
              "4  ENTERTAINMENT  ...  dietland actress said bag cathartic therapeuti...\n",
              "\n",
              "[5 rows x 8 columns]"
            ]
          },
          "metadata": {
            "tags": []
          },
          "execution_count": 11
        }
      ]
    },
    {
      "cell_type": "code",
      "metadata": {
        "id": "bW40xqwaDDT0",
        "colab_type": "code",
        "colab": {}
      },
      "source": [
        "# using headlines and short_description as input X\n",
        "\n",
        "df['text'] = df.headline + \" \" + df.short_description\n",
        "df['text_cleaned'] = df.Clean_headline + \" \" + df.Clean_description"
      ],
      "execution_count": 0,
      "outputs": []
    },
    {
      "cell_type": "code",
      "metadata": {
        "id": "TFFuuQOOC0A_",
        "colab_type": "code",
        "colab": {}
      },
      "source": [
        "# Split the data into train and test.\n",
        "X_train, X_test, Y_train, Y_test = train_test_split(df['text_cleaned'], df['category'], test_size=0.33)"
      ],
      "execution_count": 0,
      "outputs": []
    },
    {
      "cell_type": "code",
      "metadata": {
        "id": "5inlFk3SM-ay",
        "colab_type": "code",
        "colab": {}
      },
      "source": [
        "tfidf_vectorizer = TfidfVectorizer(ngram_range=(1,2), min_df = 5)\n",
        "\n",
        "tfidf_train = tfidf_vectorizer.fit_transform(X_train)\n",
        "tfidf_test = tfidf_vectorizer.transform(X_test)"
      ],
      "execution_count": 0,
      "outputs": []
    },
    {
      "cell_type": "code",
      "metadata": {
        "id": "6LsQskf6LqmR",
        "colab_type": "code",
        "colab": {
          "base_uri": "https://localhost:8080/",
          "height": 34
        },
        "outputId": "4ccbf680-94e1-4c32-a74c-3e37167ef8d5"
      },
      "source": [
        "tfidf_train.shape"
      ],
      "execution_count": 15,
      "outputs": [
        {
          "output_type": "execute_result",
          "data": {
            "text/plain": [
              "(134571, 60412)"
            ]
          },
          "metadata": {
            "tags": []
          },
          "execution_count": 15
        }
      ]
    },
    {
      "cell_type": "code",
      "metadata": {
        "id": "HJw4_jXVIKcT",
        "colab_type": "code",
        "colab": {
          "base_uri": "https://localhost:8080/",
          "height": 68
        },
        "outputId": "e494ae6e-6d5e-4bfc-bf52-01004bf31559"
      },
      "source": [
        "%%time\n",
        "from sklearn.svm import LinearSVC\n",
        "\n",
        "model = LinearSVC()\n",
        "model.fit(tfidf_train,Y_train)\n",
        "Y_predict = model.predict(tfidf_test)\n",
        "accuracy = accuracy_score(Y_test,Y_predict)*100\n",
        "print('The accuracy of SVM is', format(accuracy, '.2f'))"
      ],
      "execution_count": 16,
      "outputs": [
        {
          "output_type": "stream",
          "text": [
            "The accuracy of SVM is 67.72\n",
            "CPU times: user 17.5 s, sys: 9.05 ms, total: 17.5 s\n",
            "Wall time: 17.5 s\n"
          ],
          "name": "stdout"
        }
      ]
    },
    {
      "cell_type": "code",
      "metadata": {
        "id": "jgwc4k27OTLk",
        "colab_type": "code",
        "colab": {
          "base_uri": "https://localhost:8080/",
          "height": 204
        },
        "outputId": "d06ee3f6-7295-4e9c-8db5-235f573fc7c7"
      },
      "source": [
        "%%time\n",
        "\n",
        "logistic_Regression = LogisticRegression()\n",
        "logistic_Regression.fit(tfidf_train,Y_train)\n",
        "Y_predict = logistic_Regression.predict(tfidf_test)\n",
        "accuracy = accuracy_score(Y_test,Y_predict)*100\n",
        "print('The accuracy of Logistic Regression is', format(accuracy, '.2f'))"
      ],
      "execution_count": 17,
      "outputs": [
        {
          "output_type": "stream",
          "text": [
            "/usr/local/lib/python3.6/dist-packages/sklearn/linear_model/_logistic.py:940: ConvergenceWarning: lbfgs failed to converge (status=1):\n",
            "STOP: TOTAL NO. of ITERATIONS REACHED LIMIT.\n",
            "\n",
            "Increase the number of iterations (max_iter) or scale the data as shown in:\n",
            "    https://scikit-learn.org/stable/modules/preprocessing.html\n",
            "Please also refer to the documentation for alternative solver options:\n",
            "    https://scikit-learn.org/stable/modules/linear_model.html#logistic-regression\n",
            "  extra_warning_msg=_LOGISTIC_SOLVER_CONVERGENCE_MSG)\n"
          ],
          "name": "stderr"
        },
        {
          "output_type": "stream",
          "text": [
            "The accuracy of Logistic Regression is 66.70\n",
            "CPU times: user 1min 36s, sys: 33 s, total: 2min 9s\n",
            "Wall time: 1min 27s\n"
          ],
          "name": "stdout"
        }
      ]
    },
    {
      "cell_type": "code",
      "metadata": {
        "id": "sDML_kgpR1Gb",
        "colab_type": "code",
        "colab": {
          "base_uri": "https://localhost:8080/",
          "height": 68
        },
        "outputId": "4fde4b74-a0eb-4b39-d043-a688065545d2"
      },
      "source": [
        "%%time\n",
        "from sklearn.neighbors import KNeighborsClassifier\n",
        "\n",
        "model = KNeighborsClassifier()\n",
        "model.fit(tfidf_train, Y_train)\n",
        "prediction_knn = model.predict(tfidf_test)\n",
        "accuracy = accuracy_score(prediction_knn,Y_test)*100\n",
        "print('The accuracy of KNeighbours Classifier is', format(accuracy, '.2f'))"
      ],
      "execution_count": 18,
      "outputs": [
        {
          "output_type": "stream",
          "text": [
            "The accuracy of KNeighbours Classifier is 14.41\n",
            "CPU times: user 3min 4s, sys: 1.07 s, total: 3min 5s\n",
            "Wall time: 3min 5s\n"
          ],
          "name": "stdout"
        }
      ]
    },
    {
      "cell_type": "code",
      "metadata": {
        "id": "uXYPYMAVR8Dg",
        "colab_type": "code",
        "colab": {
          "base_uri": "https://localhost:8080/",
          "height": 68
        },
        "outputId": "91ba28f2-f39a-4d97-81cf-8e6d5b6b753b"
      },
      "source": [
        "%%time\n",
        "\n",
        "from sklearn.tree import DecisionTreeClassifier\n",
        "\n",
        "model = DecisionTreeClassifier()\n",
        "model.fit(tfidf_train, Y_train)\n",
        "prediction_decision_tree = model.predict(tfidf_test)\n",
        "accuracy = accuracy_score(prediction_decision_tree,Y_test)*100\n",
        "print('The accuracy of Decision Tree is', format(accuracy, '.2f'))"
      ],
      "execution_count": 19,
      "outputs": [
        {
          "output_type": "stream",
          "text": [
            "The accuracy of Decision Tree is 48.46\n",
            "CPU times: user 4min 41s, sys: 41.3 ms, total: 4min 41s\n",
            "Wall time: 4min 42s\n"
          ],
          "name": "stdout"
        }
      ]
    },
    {
      "cell_type": "code",
      "metadata": {
        "id": "TNtpAPOJRtC1",
        "colab_type": "code",
        "colab": {
          "base_uri": "https://localhost:8080/",
          "height": 68
        },
        "outputId": "5edb20e9-c8ae-46ef-98ba-b8e60cb66a1b"
      },
      "source": [
        "%%time\n",
        "\n",
        "from sklearn.naive_bayes import MultinomialNB\n",
        "\n",
        "model = MultinomialNB(alpha=0.1)\n",
        "model.fit(tfidf_train,Y_train)\n",
        "Y_predict = model.predict(tfidf_test)\n",
        "accuracy = accuracy_score(Y_predict,Y_test)*100\n",
        "print('The accuracy of Naive Bayes is',format(accuracy, '.2f'))"
      ],
      "execution_count": 20,
      "outputs": [
        {
          "output_type": "stream",
          "text": [
            "The accuracy of Naive Bayes is 64.14\n",
            "CPU times: user 1.85 s, sys: 5.07 ms, total: 1.86 s\n",
            "Wall time: 1.86 s\n"
          ],
          "name": "stdout"
        }
      ]
    },
    {
      "cell_type": "markdown",
      "metadata": {
        "id": "FKb9NnWLPTWI",
        "colab_type": "text"
      },
      "source": [
        "Preprocessing for Transfer Learning model"
      ]
    },
    {
      "cell_type": "code",
      "metadata": {
        "id": "4xxUxLi8W5X5",
        "colab_type": "code",
        "colab": {}
      },
      "source": [
        "# tokenizing\n",
        "tokenizer = Tokenizer()\n",
        "#tokenizer.process_text(df.text)\n",
        "tokenizer.fit_on_texts(df.text)\n",
        "X = tokenizer.texts_to_sequences(df.text)\n",
        "df['words'] = X\n",
        "\n",
        "# delete some empty and short data\n",
        "\n",
        "df['word_length'] = df.words.apply(lambda i: len(i))\n",
        "df = df[df.word_length >= 5]"
      ],
      "execution_count": 0,
      "outputs": []
    },
    {
      "cell_type": "code",
      "metadata": {
        "id": "7H8GL9h_I8Xs",
        "colab_type": "code",
        "colab": {
          "base_uri": "https://localhost:8080/",
          "height": 34
        },
        "outputId": "d0197826-58b7-4f98-d389-451a0f6227ce"
      },
      "source": [
        "df.head()\n",
        "df = df.drop(df.columns[[1,2,3,4,5,6,7,9,10,11]], axis=1)\n",
        "df.shape"
      ],
      "execution_count": 176,
      "outputs": [
        {
          "output_type": "execute_result",
          "data": {
            "text/plain": [
              "(199914, 2)"
            ]
          },
          "metadata": {
            "tags": []
          },
          "execution_count": 176
        }
      ]
    },
    {
      "cell_type": "code",
      "metadata": {
        "id": "LEJdwylGRQ8X",
        "colab_type": "code",
        "colab": {}
      },
      "source": [
        "df.to_csv('/content/drive/My Drive/Data/cleaned.csv',encoding='utf-8')"
      ],
      "execution_count": 0,
      "outputs": []
    },
    {
      "cell_type": "code",
      "metadata": {
        "id": "TqP8_sh2Q1qv",
        "colab_type": "code",
        "colab": {
          "base_uri": "https://localhost:8080/",
          "height": 204
        },
        "outputId": "ce041e48-722d-4595-e953-5a635c0cba5f"
      },
      "source": [
        "df2 = pd.read_csv('/content/drive/My Drive/Data/cleaned.csv')\n",
        "df2.head()"
      ],
      "execution_count": 3,
      "outputs": [
        {
          "output_type": "execute_result",
          "data": {
            "text/html": [
              "<div>\n",
              "<style scoped>\n",
              "    .dataframe tbody tr th:only-of-type {\n",
              "        vertical-align: middle;\n",
              "    }\n",
              "\n",
              "    .dataframe tbody tr th {\n",
              "        vertical-align: top;\n",
              "    }\n",
              "\n",
              "    .dataframe thead th {\n",
              "        text-align: right;\n",
              "    }\n",
              "</style>\n",
              "<table border=\"1\" class=\"dataframe\">\n",
              "  <thead>\n",
              "    <tr style=\"text-align: right;\">\n",
              "      <th></th>\n",
              "      <th>Unnamed: 0</th>\n",
              "      <th>category</th>\n",
              "      <th>text</th>\n",
              "    </tr>\n",
              "  </thead>\n",
              "  <tbody>\n",
              "    <tr>\n",
              "      <th>0</th>\n",
              "      <td>0</td>\n",
              "      <td>CRIME</td>\n",
              "      <td>There Were 2 Mass Shootings In Texas Last Week...</td>\n",
              "    </tr>\n",
              "    <tr>\n",
              "      <th>1</th>\n",
              "      <td>1</td>\n",
              "      <td>ENTERTAINMENT</td>\n",
              "      <td>Will Smith Joins Diplo And Nicky Jam For The 2...</td>\n",
              "    </tr>\n",
              "    <tr>\n",
              "      <th>2</th>\n",
              "      <td>2</td>\n",
              "      <td>ENTERTAINMENT</td>\n",
              "      <td>Hugh Grant Marries For The First Time At Age 5...</td>\n",
              "    </tr>\n",
              "    <tr>\n",
              "      <th>3</th>\n",
              "      <td>3</td>\n",
              "      <td>ENTERTAINMENT</td>\n",
              "      <td>Jim Carrey Blasts 'Castrato' Adam Schiff And D...</td>\n",
              "    </tr>\n",
              "    <tr>\n",
              "      <th>4</th>\n",
              "      <td>4</td>\n",
              "      <td>ENTERTAINMENT</td>\n",
              "      <td>Julianna Margulies Uses Donald Trump Poop Bags...</td>\n",
              "    </tr>\n",
              "  </tbody>\n",
              "</table>\n",
              "</div>"
            ],
            "text/plain": [
              "   Unnamed: 0       category                                               text\n",
              "0           0          CRIME  There Were 2 Mass Shootings In Texas Last Week...\n",
              "1           1  ENTERTAINMENT  Will Smith Joins Diplo And Nicky Jam For The 2...\n",
              "2           2  ENTERTAINMENT  Hugh Grant Marries For The First Time At Age 5...\n",
              "3           3  ENTERTAINMENT  Jim Carrey Blasts 'Castrato' Adam Schiff And D...\n",
              "4           4  ENTERTAINMENT  Julianna Margulies Uses Donald Trump Poop Bags..."
            ]
          },
          "metadata": {
            "tags": []
          },
          "execution_count": 3
        }
      ]
    },
    {
      "cell_type": "code",
      "metadata": {
        "id": "DQkC11hLW6vV",
        "colab_type": "code",
        "colab": {
          "base_uri": "https://localhost:8080/",
          "height": 255
        },
        "outputId": "7a9256f4-3dd5-410a-8abe-72ed91d58424"
      },
      "source": [
        "df2 = pd.read_csv('/content/drive/My Drive/Data/cleaned.csv')\n",
        "df3 = df2\n",
        "df3.head()\n",
        "\n",
        "X=df3.sample(frac=0.85,random_state=200)\n",
        "test=df3.drop(X.index)\n",
        "train=X.sample(frac=0.85,random_state=200)\n",
        "val=X.drop(train.index)\n",
        "\n",
        "print(train.shape)\n",
        "print(val.shape)\n",
        "print(test.shape)\n",
        "train.to_csv('/content/drive/My Drive/Data/train.csv',encoding='utf-8',index=False)\n",
        "val.to_csv('/content/drive/My Drive/Data/val.csv',encoding='utf-8',index=False)\n",
        "test.to_csv('/content/drive/My Drive/Data/test.csv',encoding='utf-8',index=False)\n",
        "\n",
        "df3.head()"
      ],
      "execution_count": 5,
      "outputs": [
        {
          "output_type": "stream",
          "text": [
            "(144438, 3)\n",
            "(25489, 3)\n",
            "(29987, 3)\n"
          ],
          "name": "stdout"
        },
        {
          "output_type": "execute_result",
          "data": {
            "text/html": [
              "<div>\n",
              "<style scoped>\n",
              "    .dataframe tbody tr th:only-of-type {\n",
              "        vertical-align: middle;\n",
              "    }\n",
              "\n",
              "    .dataframe tbody tr th {\n",
              "        vertical-align: top;\n",
              "    }\n",
              "\n",
              "    .dataframe thead th {\n",
              "        text-align: right;\n",
              "    }\n",
              "</style>\n",
              "<table border=\"1\" class=\"dataframe\">\n",
              "  <thead>\n",
              "    <tr style=\"text-align: right;\">\n",
              "      <th></th>\n",
              "      <th>Unnamed: 0</th>\n",
              "      <th>category</th>\n",
              "      <th>text</th>\n",
              "    </tr>\n",
              "  </thead>\n",
              "  <tbody>\n",
              "    <tr>\n",
              "      <th>0</th>\n",
              "      <td>0</td>\n",
              "      <td>CRIME</td>\n",
              "      <td>There Were 2 Mass Shootings In Texas Last Week...</td>\n",
              "    </tr>\n",
              "    <tr>\n",
              "      <th>1</th>\n",
              "      <td>1</td>\n",
              "      <td>ENTERTAINMENT</td>\n",
              "      <td>Will Smith Joins Diplo And Nicky Jam For The 2...</td>\n",
              "    </tr>\n",
              "    <tr>\n",
              "      <th>2</th>\n",
              "      <td>2</td>\n",
              "      <td>ENTERTAINMENT</td>\n",
              "      <td>Hugh Grant Marries For The First Time At Age 5...</td>\n",
              "    </tr>\n",
              "    <tr>\n",
              "      <th>3</th>\n",
              "      <td>3</td>\n",
              "      <td>ENTERTAINMENT</td>\n",
              "      <td>Jim Carrey Blasts 'Castrato' Adam Schiff And D...</td>\n",
              "    </tr>\n",
              "    <tr>\n",
              "      <th>4</th>\n",
              "      <td>4</td>\n",
              "      <td>ENTERTAINMENT</td>\n",
              "      <td>Julianna Margulies Uses Donald Trump Poop Bags...</td>\n",
              "    </tr>\n",
              "  </tbody>\n",
              "</table>\n",
              "</div>"
            ],
            "text/plain": [
              "   Unnamed: 0       category                                               text\n",
              "0           0          CRIME  There Were 2 Mass Shootings In Texas Last Week...\n",
              "1           1  ENTERTAINMENT  Will Smith Joins Diplo And Nicky Jam For The 2...\n",
              "2           2  ENTERTAINMENT  Hugh Grant Marries For The First Time At Age 5...\n",
              "3           3  ENTERTAINMENT  Jim Carrey Blasts 'Castrato' Adam Schiff And D...\n",
              "4           4  ENTERTAINMENT  Julianna Margulies Uses Donald Trump Poop Bags..."
            ]
          },
          "metadata": {
            "tags": []
          },
          "execution_count": 5
        }
      ]
    },
    {
      "cell_type": "code",
      "metadata": {
        "id": "MEMxhQfZLdxO",
        "colab_type": "code",
        "colab": {}
      },
      "source": [
        "train_df=pd.read_csv('/content/drive/My Drive/Data/train.csv')\n",
        "train_df=train_df[['category','text']]"
      ],
      "execution_count": 0,
      "outputs": []
    },
    {
      "cell_type": "code",
      "metadata": {
        "id": "sfibI96dPlZC",
        "colab_type": "code",
        "colab": {}
      },
      "source": [
        "valid_df=pd.read_csv('/content/drive/My Drive/Data/val.csv')\n",
        "valid_df=valid_df[['category','text']]"
      ],
      "execution_count": 0,
      "outputs": []
    },
    {
      "cell_type": "code",
      "metadata": {
        "id": "lgOBgGfRZJkL",
        "colab_type": "code",
        "colab": {
          "base_uri": "https://localhost:8080/",
          "height": 34
        },
        "outputId": "dc93ea4d-c4de-4b04-c1df-45c3ed3aafe0"
      },
      "source": [
        "#from sklearn.model_selection import train_test_split\n",
        "#train_df,valid_df=train_test_split(df_text, shuffle=True, test_size=0.25)\n",
        "len(train_df),len(valid_df)"
      ],
      "execution_count": 8,
      "outputs": [
        {
          "output_type": "execute_result",
          "data": {
            "text/plain": [
              "(144438, 25489)"
            ]
          },
          "metadata": {
            "tags": []
          },
          "execution_count": 8
        }
      ]
    },
    {
      "cell_type": "code",
      "metadata": {
        "id": "76fKR-2icNs-",
        "colab_type": "code",
        "colab": {
          "base_uri": "https://localhost:8080/",
          "height": 221
        },
        "outputId": "e6fd4b71-7257-45f7-9f0f-1739204497e7"
      },
      "source": [
        "train_df.head(),valid_df.head()"
      ],
      "execution_count": 9,
      "outputs": [
        {
          "output_type": "execute_result",
          "data": {
            "text/plain": [
              "(         category                                               text\n",
              " 0    FOOD & DRINK  Luke From 'Gilmore Girls' Is Getting His Own L...\n",
              " 1            TECH  The Huffington Post Is Hiring A Tech Reporter ...\n",
              " 2    FOOD & DRINK  Simple Greek: Baked Sardines From Diane Kochil...\n",
              " 3  HEALTHY LIVING  Political Workout Music For The Convention Glu...\n",
              " 4    BLACK VOICES  AP Uses Jordan Peele Photo While Tweeting Abou...,\n",
              "          category                                               text\n",
              " 0        BUSINESS  ‘Nobody Speak’: How Billionaires Are Silencing...\n",
              " 1  HEALTHY LIVING  This Couple's Biggest Adventure Began When The...\n",
              " 2      WORLD NEWS  An Interview With Former President Of The EU P...\n",
              " 3          TRAVEL  5 Things You Must Do Before You File Your Trav...\n",
              " 4  STYLE & BEAUTY  28 Valentine's Day Nail Art Ideas To Put You I...)"
            ]
          },
          "metadata": {
            "tags": []
          },
          "execution_count": 9
        }
      ]
    },
    {
      "cell_type": "code",
      "metadata": {
        "id": "AJ6TwpNgQbrj",
        "colab_type": "code",
        "colab": {}
      },
      "source": [
        "bs,bptt=64,60"
      ],
      "execution_count": 0,
      "outputs": []
    },
    {
      "cell_type": "markdown",
      "metadata": {
        "id": "989QfD3fRkBn",
        "colab_type": "text"
      },
      "source": [
        "A text is,unlike images which can be fed directly into a model, is composed of words, and we can't apply mathematical functions to them directly. We first have to convert them to numbers. This is done in two differents steps: tokenization and numericalization. A TextDataBunch does all of that behind the scenes."
      ]
    },
    {
      "cell_type": "code",
      "metadata": {
        "id": "TfuXglkceKxf",
        "colab_type": "code",
        "colab": {
          "base_uri": "https://localhost:8080/",
          "height": 17
        },
        "outputId": "ec988d80-baa5-46fa-8b9c-adb6f720b0af"
      },
      "source": [
        "# Language model data\n",
        "data_lm = TextLMDataBunch.from_df(path,train_df=train_df,valid_df=valid_df,text_cols='text', label_cols='category',bs=bs)\n",
        "\n",
        "# Classification model data\n",
        "data_clas = TextClasDataBunch.from_df(path, train_df=train_df,valid_df=valid_df, vocab=data_lm.train_ds.vocab, text_cols = 'text', label_cols = 'category',bs=bs)\n"
      ],
      "execution_count": 11,
      "outputs": [
        {
          "output_type": "display_data",
          "data": {
            "text/html": [
              ""
            ],
            "text/plain": [
              "<IPython.core.display.HTML object>"
            ]
          },
          "metadata": {
            "tags": []
          }
        },
        {
          "output_type": "display_data",
          "data": {
            "text/html": [
              ""
            ],
            "text/plain": [
              "<IPython.core.display.HTML object>"
            ]
          },
          "metadata": {
            "tags": []
          }
        },
        {
          "output_type": "display_data",
          "data": {
            "text/html": [
              ""
            ],
            "text/plain": [
              "<IPython.core.display.HTML object>"
            ]
          },
          "metadata": {
            "tags": []
          }
        },
        {
          "output_type": "display_data",
          "data": {
            "text/html": [
              ""
            ],
            "text/plain": [
              "<IPython.core.display.HTML object>"
            ]
          },
          "metadata": {
            "tags": []
          }
        }
      ]
    },
    {
      "cell_type": "markdown",
      "metadata": {
        "id": "daajkKujTWkr",
        "colab_type": "text"
      },
      "source": [
        "Once we have extracted tokens from our texts, we convert to integers by creating a list of all the words used ( Vocab or dictionary). We only keep the ones that appear atleast twice with a maximum vocabulary size of 60,000 (by default) and the ones that don't make the cut are tagged as UNK"
      ]
    },
    {
      "cell_type": "markdown",
      "metadata": {
        "id": "GyS9EwFLTWvP",
        "colab_type": "text"
      },
      "source": [
        "Once we have extracted tokens from our texts, we convert to integers by creating a list of all the words used ( Vocab or dictionary). We only keep the ones that appear atleast twice with a maximum vocabulary size of 60,000 (by default) and the ones that don't make the cut are tagged as UNK"
      ]
    },
    {
      "cell_type": "markdown",
      "metadata": {
        "id": "PXZG77aGTWzn",
        "colab_type": "text"
      },
      "source": [
        ".itos and .stoi will give us information on how our tokens and numericalized and stored "
      ]
    },
    {
      "cell_type": "code",
      "metadata": {
        "id": "ByMN7oo7Tz87",
        "colab_type": "code",
        "colab": {
          "base_uri": "https://localhost:8080/",
          "height": 187
        },
        "outputId": "eef4dac2-19b5-4960-c496-ff7f39b49c12"
      },
      "source": [
        "data_lm.vocab.itos[:10]  # first 10 tokens in our vocab"
      ],
      "execution_count": 13,
      "outputs": [
        {
          "output_type": "execute_result",
          "data": {
            "text/plain": [
              "['xxunk',\n",
              " 'xxpad',\n",
              " 'xxbos',\n",
              " 'xxeos',\n",
              " 'xxfld',\n",
              " 'xxmaj',\n",
              " 'xxup',\n",
              " 'xxrep',\n",
              " 'xxwrep',\n",
              " 'the']"
            ]
          },
          "metadata": {
            "tags": []
          },
          "execution_count": 13
        }
      ]
    },
    {
      "cell_type": "code",
      "metadata": {
        "id": "HhjzrUh1U1IJ",
        "colab_type": "code",
        "colab": {
          "base_uri": "https://localhost:8080/",
          "height": 34
        },
        "outputId": "60395616-0017-45a0-f989-75928de6184f"
      },
      "source": [
        "data_lm.vocab.itos[448]"
      ],
      "execution_count": 14,
      "outputs": [
        {
          "output_type": "execute_result",
          "data": {
            "text/plain": [
              "'weight'"
            ]
          },
          "metadata": {
            "tags": []
          },
          "execution_count": 14
        }
      ]
    },
    {
      "cell_type": "code",
      "metadata": {
        "id": "astpdbGKUBPt",
        "colab_type": "code",
        "colab": {
          "base_uri": "https://localhost:8080/",
          "height": 34
        },
        "outputId": "feb6356a-30a1-4814-db00-2eaea06f54d7"
      },
      "source": [
        "data_lm.train_ds[0][0].data[:10]  # first sentence in our training dataset"
      ],
      "execution_count": 15,
      "outputs": [
        {
          "output_type": "execute_result",
          "data": {
            "text/plain": [
              "array([   2,    5, 5112,    5,   42,   21,    5, 8016,    5,  478])"
            ]
          },
          "metadata": {
            "tags": []
          },
          "execution_count": 15
        }
      ]
    },
    {
      "cell_type": "code",
      "metadata": {
        "id": "fMIBF001U4xr",
        "colab_type": "code",
        "colab": {
          "base_uri": "https://localhost:8080/",
          "height": 34
        },
        "outputId": "2ac72d7b-f42e-4979-d96f-b8d7129db9d4"
      },
      "source": [
        "len(data_lm.vocab.itos),len(data_lm.train_ds)"
      ],
      "execution_count": 16,
      "outputs": [
        {
          "output_type": "execute_result",
          "data": {
            "text/plain": [
              "(48368, 144438)"
            ]
          },
          "metadata": {
            "tags": []
          },
          "execution_count": 16
        }
      ]
    },
    {
      "cell_type": "code",
      "metadata": {
        "id": "u4vA3qKHmEpF",
        "colab_type": "code",
        "colab": {
          "base_uri": "https://localhost:8080/",
          "height": 289
        },
        "outputId": "1045b567-43ad-4939-ce8a-43ed2883a0cd"
      },
      "source": [
        "data_clas.show_batch()  # shows a portion of the data loaded for the huffpost language model"
      ],
      "execution_count": 17,
      "outputs": [
        {
          "output_type": "display_data",
          "data": {
            "text/html": [
              "<table border=\"1\" class=\"dataframe\">\n",
              "  <thead>\n",
              "    <tr style=\"text-align: right;\">\n",
              "      <th>text</th>\n",
              "      <th>target</th>\n",
              "    </tr>\n",
              "  </thead>\n",
              "  <tbody>\n",
              "    <tr>\n",
              "      <td>xxbos xxmaj sunday xxmaj roundup xxmaj this week the nation came one step closer to giving itself over to the most dangerous and unstable potential leader in xxup u.s. history , as xxmaj donald xxmaj trump \" humbly \" accepted the xxmaj republican presidential nomination - so humbly , in fact , that he went on to claim that \" i alone can fix \" xxmaj america . xxmaj it</td>\n",
              "      <td>POLITICS</td>\n",
              "    </tr>\n",
              "    <tr>\n",
              "      <td>xxbos xxmaj sunday xxmaj roundup xxmaj this week , the nation was reminded , in ways both good and bad , that elections matter . xxmaj on xxmaj monday , a xxmaj supreme xxmaj court that will likely see multiple appointments from the next president delivered a landmark decision for reproductive rights . xxmaj on xxmaj tuesday , terrorists bombed the xxmaj istanbul airport , leaving 42 dead . xxmaj</td>\n",
              "      <td>POLITICS</td>\n",
              "    </tr>\n",
              "    <tr>\n",
              "      <td>xxbos xxmaj sunday xxmaj roundup xxmaj this week , as the xxmaj east xxmaj coast basked in balmy xxmaj june temperatures , we saw both urgency and action on climate change . xxmaj the urgency arrived on xxmaj thursday in the form of a major report compiled from 33 different research groups that found that \" human - caused climate change \" played a role in at least 14 extreme</td>\n",
              "      <td>POLITICS</td>\n",
              "    </tr>\n",
              "    <tr>\n",
              "      <td>xxbos xxmaj weekend xxmaj roundup : a xxmaj pattern of xxmaj crises xxmaj connects xxmaj cologne and xxmaj istanbul xxmaj even before the \" xxmaj night of xxmaj shame \" on xxmaj new xxmaj year 's xxmaj eve in xxmaj cologne further fueled an already fervent anti - foreigner backlash , xxmaj german leaders were desperately looking to xxmaj turkey to stem the flow of refugees headed to xxmaj europe</td>\n",
              "      <td>WORLD NEWS</td>\n",
              "    </tr>\n",
              "    <tr>\n",
              "      <td>xxbos xxmaj how to xxmaj read the xxmaj week 's xxmaj economic and xxmaj market xxmaj signals xxmaj expect next week 's policy meetings to signal that central bank stand ready to step in , once again , to maintain the disconnect between buoyant equity markets and sluggish economic conditions -- not as an end in itself but , given xxmaj congressional dysfunction , as virtually the only way today</td>\n",
              "      <td>BUSINESS</td>\n",
              "    </tr>\n",
              "  </tbody>\n",
              "</table>"
            ],
            "text/plain": [
              "<IPython.core.display.HTML object>"
            ]
          },
          "metadata": {
            "tags": []
          }
        }
      ]
    },
    {
      "cell_type": "markdown",
      "metadata": {
        "id": "4L4nZabzU7gq",
        "colab_type": "text"
      },
      "source": [
        "The intention is not to train a model that classifies the news categories from scratch. Like in computer vision, we'll use a model pretrained on a bigger dataset (a cleaned subset of wikipedia called wikitext-103). That model has been trained to guess what the next word, its input being all the previous words. It has a recurrent structure and a hidden state that is updated each time it sees a new word. This hidden state thus contains information about the sentence up to that point.\n",
        "\n",
        "We are going to use that 'knowledge' of the English language to build our classifier, but first, like for computer vision, we need to fine-tune the pretrained model to our particular dataset. Because the English of the news headlines and descriptions on huffpost isn't the same as the English of wikipedia, we'll need to adjust a little bit the parameters of our model.Also there might be some words extremely common in that dataset that were barely present in wikipedia, and therefore might no be part of the vocabulary the model was trained on."
      ]
    },
    {
      "cell_type": "code",
      "metadata": {
        "id": "usz_DUPgeypj",
        "colab_type": "code",
        "colab": {}
      },
      "source": [
        "#Saving the datasets\n",
        "data_lm.save('/content/drive/My Drive/Data/data_lm_export.pkl')\n",
        "data_clas.save('/content/drive/My Drive/Data/data_clas_export.pkl')"
      ],
      "execution_count": 0,
      "outputs": []
    },
    {
      "cell_type": "code",
      "metadata": {
        "id": "NoJUAuW8jgQs",
        "colab_type": "code",
        "colab": {}
      },
      "source": [
        "path = '/content/drive/My Drive/Data/'"
      ],
      "execution_count": 0,
      "outputs": []
    },
    {
      "cell_type": "code",
      "metadata": {
        "id": "aOKsOdE7io6V",
        "colab_type": "code",
        "colab": {}
      },
      "source": [
        "data_lm = load_data(path, 'data_lm_export.pkl',bs=bs,bptt=bptt)   #bptt = back propagation through time\n",
        "data_clas = load_data(path, 'data_clas_export.pkl', bs=bs)\n",
        "data_bwd = load_data(path, 'data_lm_export.pkl', bs=bs,bptt=bptt, backwards=True)"
      ],
      "execution_count": 0,
      "outputs": []
    },
    {
      "cell_type": "code",
      "metadata": {
        "id": "bYgZ_WDLEiof",
        "colab_type": "code",
        "colab": {
          "base_uri": "https://localhost:8080/",
          "height": 272
        },
        "outputId": "96493559-3124-439e-d6f4-5f5b1b15eea5"
      },
      "source": [
        "data_bwd.show_batch()"
      ],
      "execution_count": 21,
      "outputs": [
        {
          "output_type": "display_data",
          "data": {
            "text/html": [
              "<table border=\"1\" class=\"dataframe\">\n",
              "  <thead>\n",
              "    <tr style=\"text-align: right;\">\n",
              "      <th>idx</th>\n",
              "      <th>text</th>\n",
              "    </tr>\n",
              "  </thead>\n",
              "  <tbody>\n",
              "    <tr>\n",
              "      <td>0</td>\n",
              "      <td>xxmaj . out this print xxmaj . what you tell xxmaj . probably , yes xxmaj ? blog a in online week free - screen about write to silly it is xxmaj bicycle xxmaj a ride xxmaj to learn xxmaj and outside xxmaj go xxmaj : week xxmaj free xxmaj - screen xxmaj xxbos following 're you think you if</td>\n",
              "    </tr>\n",
              "    <tr>\n",
              "      <td>1</td>\n",
              "      <td>is pundit the xxmaj isis xxup fight xxmaj to xxmaj troops xxmaj 50,000 for xxmaj calls xxmaj kristol xxmaj bill xxmaj xxbos \" . story goliath xxmaj and david xxmaj a of bit a ’s it xxmaj \" them xxmaj save xxmaj to xxmaj fighting xxmaj community xxmaj the xxmaj and xxmaj ― forests xxmaj ’s cambodia xxmaj ravaging xxmaj</td>\n",
              "    </tr>\n",
              "    <tr>\n",
              "      <td>2</td>\n",
              "      <td>sophisticated such on energies our all focusing than rather , if happen would what xxmaj sweeter xxmaj even xxmaj life xxmaj make xxmaj can xxmaj plans xxmaj careful xxmaj your xxmaj abandoning xxmaj xxbos was administration cheney xxmaj / bush xxmaj the as commodity media hot a was , ) 2003 - 1999 ( minnesota xxmaj of governor former ,</td>\n",
              "    </tr>\n",
              "    <tr>\n",
              "      <td>3</td>\n",
              "      <td>lasting its as up store to determine seems generation this that crises environmental the to solution a find will generations future that think to seem still over world the leaders , evidence clear and documented - well despite xxmaj crises xxmaj environmental xxmaj towards xxmaj sleepwalking xxmaj of danger xxmaj the xxmaj xxbos . bigotry based - religion public your</td>\n",
              "    </tr>\n",
              "    <tr>\n",
              "      <td>4</td>\n",
              "      <td>i \" prague xxmaj of xxmaj views xxmaj unique xxmaj captures xxmaj pražák xxmaj jan xxmaj user xxmaj instagram xxmaj xxbos . dress killer a off pull also could xxunk xxmaj the out turns xxmaj ) photos xxup ( style xxmaj big xxmaj to xxmaj hair xxmaj big xxmaj from xxmaj went xxmaj guru xxmaj diet xxmaj the xxmaj :</td>\n",
              "    </tr>\n",
              "  </tbody>\n",
              "</table>"
            ],
            "text/plain": [
              "<IPython.core.display.HTML object>"
            ]
          },
          "metadata": {
            "tags": []
          }
        }
      ]
    },
    {
      "cell_type": "markdown",
      "metadata": {
        "id": "JF_45q_Ce-RY",
        "colab_type": "text"
      },
      "source": [
        "Fine tuning the language model"
      ]
    },
    {
      "cell_type": "markdown",
      "metadata": {
        "id": "1BJxmaoffN2f",
        "colab_type": "text"
      },
      "source": [
        "The idea behind the ULMFit paper is to use transfer learning for this classification task. Our language model isn't randomly initialized but with the weights of a model pretrained on a larger corpus, Wikitext 103. The vocabulary of the two datasets are slightly different, so when loading the weights, we take care to put the embedding weights at the right place, and we rando;ly initiliaze the embeddings for words in the huff post vocab that weren't in the wikitext-103 vocabulary of our pretrained model.\n",
        "\n",
        "This is all done by the first line of code that will download the pretrained model at the first use. The second line is to use Mixed Precision Training, which enables us to use a higher batch size by training part of our model in FP16 precision, and also speeds up training by a factor 2 to 3 on modern GPUs."
      ]
    },
    {
      "cell_type": "code",
      "metadata": {
        "id": "rBnxvGzPjmRz",
        "colab_type": "code",
        "colab": {
          "base_uri": "https://localhost:8080/",
          "height": 34
        },
        "outputId": "6ff08bff-cbdd-4c59-ca83-563f9c3bad4b"
      },
      "source": [
        "learn_model = language_model_learner(data_lm, AWD_LSTM,drop_mult=0.3)"
      ],
      "execution_count": 22,
      "outputs": [
        {
          "output_type": "stream",
          "text": [
            "Downloading https://s3.amazonaws.com/fast-ai-modelzoo/wt103-fwd.tgz\n"
          ],
          "name": "stdout"
        },
        {
          "output_type": "display_data",
          "data": {
            "text/html": [
              ""
            ],
            "text/plain": [
              "<IPython.core.display.HTML object>"
            ]
          },
          "metadata": {
            "tags": []
          }
        }
      ]
    },
    {
      "cell_type": "code",
      "metadata": {
        "id": "RBWJmZa_pjWU",
        "colab_type": "code",
        "colab": {}
      },
      "source": [
        "#learn_model = learn_model.to_fp16(clip=0.1)"
      ],
      "execution_count": 0,
      "outputs": []
    },
    {
      "cell_type": "code",
      "metadata": {
        "id": "9rgUK8ZT2c3j",
        "colab_type": "code",
        "colab": {
          "base_uri": "https://localhost:8080/",
          "height": 112
        },
        "outputId": "c6028a0e-4c7a-4c9e-f78f-ef9b0d7aec11"
      },
      "source": [
        "learn_model.lr_find() # to find appropriate LR"
      ],
      "execution_count": 23,
      "outputs": [
        {
          "output_type": "display_data",
          "data": {
            "text/html": [
              "\n",
              "    <div>\n",
              "        <style>\n",
              "            /* Turns off some styling */\n",
              "            progress {\n",
              "                /* gets rid of default border in Firefox and Opera. */\n",
              "                border: none;\n",
              "                /* Needs to be in here for Safari polyfill so background images work as expected. */\n",
              "                background-size: auto;\n",
              "            }\n",
              "            .progress-bar-interrupted, .progress-bar-interrupted::-webkit-progress-bar {\n",
              "                background: #F44336;\n",
              "            }\n",
              "        </style>\n",
              "      <progress value='0' class='' max='1' style='width:300px; height:20px; vertical-align: middle;'></progress>\n",
              "      0.00% [0/1 00:00<00:00]\n",
              "    </div>\n",
              "    \n",
              "<table border=\"1\" class=\"dataframe\">\n",
              "  <thead>\n",
              "    <tr style=\"text-align: left;\">\n",
              "      <th>epoch</th>\n",
              "      <th>train_loss</th>\n",
              "      <th>valid_loss</th>\n",
              "      <th>accuracy</th>\n",
              "      <th>time</th>\n",
              "    </tr>\n",
              "  </thead>\n",
              "  <tbody>\n",
              "  </tbody>\n",
              "</table><p>\n",
              "\n",
              "    <div>\n",
              "        <style>\n",
              "            /* Turns off some styling */\n",
              "            progress {\n",
              "                /* gets rid of default border in Firefox and Opera. */\n",
              "                border: none;\n",
              "                /* Needs to be in here for Safari polyfill so background images work as expected. */\n",
              "                background-size: auto;\n",
              "            }\n",
              "            .progress-bar-interrupted, .progress-bar-interrupted::-webkit-progress-bar {\n",
              "                background: #F44336;\n",
              "            }\n",
              "        </style>\n",
              "      <progress value='99' class='' max='1772' style='width:300px; height:20px; vertical-align: middle;'></progress>\n",
              "      5.59% [99/1772 00:26<07:21 9.9961]\n",
              "    </div>\n",
              "    "
            ],
            "text/plain": [
              "<IPython.core.display.HTML object>"
            ]
          },
          "metadata": {
            "tags": []
          }
        },
        {
          "output_type": "stream",
          "text": [
            "LR Finder is complete, type {learner_name}.recorder.plot() to see the graph.\n"
          ],
          "name": "stdout"
        }
      ]
    },
    {
      "cell_type": "code",
      "metadata": {
        "id": "M5ViFNJr2hzX",
        "colab_type": "code",
        "colab": {
          "base_uri": "https://localhost:8080/",
          "height": 279
        },
        "outputId": "f074ca1d-8ac8-47f5-99f7-f273c413e92c"
      },
      "source": [
        "learn_model.recorder.plot(skip_end=15) # to plot the LR"
      ],
      "execution_count": 24,
      "outputs": [
        {
          "output_type": "display_data",
          "data": {
            "image/png": "[encoded data removed]",
            "text/plain": [
              "<Figure size 432x288 with 1 Axes>"
            ]
          },
          "metadata": {
            "tags": [],
            "needs_background": "light"
          }
        }
      ]
    },
    {
      "cell_type": "code",
      "metadata": {
        "id": "5Cx5JCkT2k_0",
        "colab_type": "code",
        "colab": {}
      },
      "source": [
        "lr = 1e-2\n",
        "lr *= bs/48"
      ],
      "execution_count": 0,
      "outputs": []
    },
    {
      "cell_type": "code",
      "metadata": {
        "id": "HOs_rEdzL5dT",
        "colab_type": "code",
        "outputId": "d89227c6-ba17-47d5-cd42-30bfb709080c",
        "colab": {
          "base_uri": "https://localhost:8080/",
          "height": 80
        }
      },
      "source": [
        "learn_model.fit_one_cycle(1, 1e-2, moms=(0.8,0.7), wd=0.1)"
      ],
      "execution_count": 26,
      "outputs": [
        {
          "output_type": "display_data",
          "data": {
            "text/html": [
              "<table border=\"1\" class=\"dataframe\">\n",
              "  <thead>\n",
              "    <tr style=\"text-align: left;\">\n",
              "      <th>epoch</th>\n",
              "      <th>train_loss</th>\n",
              "      <th>valid_loss</th>\n",
              "      <th>accuracy</th>\n",
              "      <th>time</th>\n",
              "    </tr>\n",
              "  </thead>\n",
              "  <tbody>\n",
              "    <tr>\n",
              "      <td>0</td>\n",
              "      <td>3.846271</td>\n",
              "      <td>3.716349</td>\n",
              "      <td>0.394125</td>\n",
              "      <td>08:47</td>\n",
              "    </tr>\n",
              "  </tbody>\n",
              "</table>"
            ],
            "text/plain": [
              "<IPython.core.display.HTML object>"
            ]
          },
          "metadata": {
            "tags": []
          }
        }
      ]
    },
    {
      "cell_type": "markdown",
      "metadata": {
        "id": "AVGMyX4ctu2y",
        "colab_type": "text"
      },
      "source": [
        "Now we unfreeze the layers, not just one as in the previous step"
      ]
    },
    {
      "cell_type": "code",
      "metadata": {
        "id": "pdD6a5cEtuCK",
        "colab_type": "code",
        "colab": {}
      },
      "source": [
        "learn_model.unfreeze()"
      ],
      "execution_count": 0,
      "outputs": []
    },
    {
      "cell_type": "code",
      "metadata": {
        "id": "iCWwSZpZt4IM",
        "colab_type": "code",
        "colab": {
          "base_uri": "https://localhost:8080/",
          "height": 359
        },
        "outputId": "e37c70b0-d64b-4a89-ed33-233f78c6a516"
      },
      "source": [
        "learn_model.fit_one_cycle(10, lr, moms=(0.8,0.7), wd=0.1)  # we can adjust the learning rate and run the model again if required"
      ],
      "execution_count": 28,
      "outputs": [
        {
          "output_type": "display_data",
          "data": {
            "text/html": [
              "<table border=\"1\" class=\"dataframe\">\n",
              "  <thead>\n",
              "    <tr style=\"text-align: left;\">\n",
              "      <th>epoch</th>\n",
              "      <th>train_loss</th>\n",
              "      <th>valid_loss</th>\n",
              "      <th>accuracy</th>\n",
              "      <th>time</th>\n",
              "    </tr>\n",
              "  </thead>\n",
              "  <tbody>\n",
              "    <tr>\n",
              "      <td>0</td>\n",
              "      <td>3.658939</td>\n",
              "      <td>3.610447</td>\n",
              "      <td>0.407588</td>\n",
              "      <td>10:10</td>\n",
              "    </tr>\n",
              "    <tr>\n",
              "      <td>1</td>\n",
              "      <td>3.900976</td>\n",
              "      <td>3.820876</td>\n",
              "      <td>0.389882</td>\n",
              "      <td>10:09</td>\n",
              "    </tr>\n",
              "    <tr>\n",
              "      <td>2</td>\n",
              "      <td>3.988875</td>\n",
              "      <td>3.912119</td>\n",
              "      <td>0.382812</td>\n",
              "      <td>10:09</td>\n",
              "    </tr>\n",
              "    <tr>\n",
              "      <td>3</td>\n",
              "      <td>3.940277</td>\n",
              "      <td>3.860862</td>\n",
              "      <td>0.386535</td>\n",
              "      <td>10:09</td>\n",
              "    </tr>\n",
              "    <tr>\n",
              "      <td>4</td>\n",
              "      <td>3.878322</td>\n",
              "      <td>3.803739</td>\n",
              "      <td>0.391520</td>\n",
              "      <td>10:10</td>\n",
              "    </tr>\n",
              "    <tr>\n",
              "      <td>5</td>\n",
              "      <td>3.776120</td>\n",
              "      <td>3.700991</td>\n",
              "      <td>0.401105</td>\n",
              "      <td>10:10</td>\n",
              "    </tr>\n",
              "    <tr>\n",
              "      <td>6</td>\n",
              "      <td>3.640770</td>\n",
              "      <td>3.592224</td>\n",
              "      <td>0.410946</td>\n",
              "      <td>10:09</td>\n",
              "    </tr>\n",
              "    <tr>\n",
              "      <td>7</td>\n",
              "      <td>3.497311</td>\n",
              "      <td>3.468571</td>\n",
              "      <td>0.423438</td>\n",
              "      <td>10:10</td>\n",
              "    </tr>\n",
              "    <tr>\n",
              "      <td>8</td>\n",
              "      <td>3.281701</td>\n",
              "      <td>3.382878</td>\n",
              "      <td>0.433480</td>\n",
              "      <td>10:10</td>\n",
              "    </tr>\n",
              "    <tr>\n",
              "      <td>9</td>\n",
              "      <td>3.075202</td>\n",
              "      <td>3.373697</td>\n",
              "      <td>0.434912</td>\n",
              "      <td>10:09</td>\n",
              "    </tr>\n",
              "  </tbody>\n",
              "</table>"
            ],
            "text/plain": [
              "<IPython.core.display.HTML object>"
            ]
          },
          "metadata": {
            "tags": []
          }
        }
      ]
    },
    {
      "cell_type": "code",
      "metadata": {
        "id": "2hw6kkLhvUrW",
        "colab_type": "code",
        "colab": {}
      },
      "source": [
        "#learn_model.fit_one_cycle(1, lr*10, moms=(0.8,0.7))"
      ],
      "execution_count": 0,
      "outputs": []
    },
    {
      "cell_type": "markdown",
      "metadata": {
        "id": "-gmWn5ipuHRd",
        "colab_type": "text"
      },
      "source": [
        "Now we will save just the encoder which will be later used for classification"
      ]
    },
    {
      "cell_type": "code",
      "metadata": {
        "id": "jmwZks5vuNf6",
        "colab_type": "code",
        "colab": {}
      },
      "source": [
        "learn_model.save_encoder('fwd_enc')\n",
        "#learn_lm.save('fit_1')  # saving the fine tuned language model\n",
        "#learn_lm.load('fit_1')"
      ],
      "execution_count": 0,
      "outputs": []
    },
    {
      "cell_type": "markdown",
      "metadata": {
        "id": "zVtOiJb0VfZG",
        "colab_type": "text"
      },
      "source": [
        "Backwards model\n",
        "\n",
        "You can't directly train a bidirectional RNN for language modeling, but you can always enseble a forward and backward model. fastai provides a pretrained forward and backawrd model, so we can repeat the previous step to fine-tune the pretrained backward model. The command language_model_learner checks the data object you pass to automatically decide if it should use the pretrained forward or backward model."
      ]
    },
    {
      "cell_type": "code",
      "metadata": {
        "id": "zh4I4pnrVb2x",
        "colab_type": "code",
        "colab": {
          "base_uri": "https://localhost:8080/",
          "height": 34
        },
        "outputId": "15276f72-13b4-4099-a801-ed953cec707b"
      },
      "source": [
        "learn_model = language_model_learner(data_bwd, AWD_LSTM,drop_mult=0.3)"
      ],
      "execution_count": 30,
      "outputs": [
        {
          "output_type": "stream",
          "text": [
            "Downloading https://s3.amazonaws.com/fast-ai-modelzoo/wt103-bwd.tgz\n"
          ],
          "name": "stdout"
        },
        {
          "output_type": "display_data",
          "data": {
            "text/html": [
              ""
            ],
            "text/plain": [
              "<IPython.core.display.HTML object>"
            ]
          },
          "metadata": {
            "tags": []
          }
        }
      ]
    },
    {
      "cell_type": "code",
      "metadata": {
        "id": "QHCU8MQUVxd3",
        "colab_type": "code",
        "colab": {
          "base_uri": "https://localhost:8080/",
          "height": 80
        },
        "outputId": "5314e9d9-14e5-45a3-8b43-503c6888dc3c"
      },
      "source": [
        "learn_model.fit_one_cycle(1, lr, moms=(0.8,0.7), wd=0.1)"
      ],
      "execution_count": 31,
      "outputs": [
        {
          "output_type": "display_data",
          "data": {
            "text/html": [
              "<table border=\"1\" class=\"dataframe\">\n",
              "  <thead>\n",
              "    <tr style=\"text-align: left;\">\n",
              "      <th>epoch</th>\n",
              "      <th>train_loss</th>\n",
              "      <th>valid_loss</th>\n",
              "      <th>accuracy</th>\n",
              "      <th>time</th>\n",
              "    </tr>\n",
              "  </thead>\n",
              "  <tbody>\n",
              "    <tr>\n",
              "      <td>0</td>\n",
              "      <td>3.867663</td>\n",
              "      <td>3.715333</td>\n",
              "      <td>0.425850</td>\n",
              "      <td>08:50</td>\n",
              "    </tr>\n",
              "  </tbody>\n",
              "</table>"
            ],
            "text/plain": [
              "<IPython.core.display.HTML object>"
            ]
          },
          "metadata": {
            "tags": []
          }
        }
      ]
    },
    {
      "cell_type": "code",
      "metadata": {
        "id": "rtF9C1f_V1aR",
        "colab_type": "code",
        "colab": {}
      },
      "source": [
        "learn_model.unfreeze()"
      ],
      "execution_count": 0,
      "outputs": []
    },
    {
      "cell_type": "code",
      "metadata": {
        "id": "PaDRgDvSV1eP",
        "colab_type": "code",
        "colab": {
          "base_uri": "https://localhost:8080/",
          "height": 359
        },
        "outputId": "b381d444-dd4e-4613-d6f3-e27da975a14f"
      },
      "source": [
        "learn_model.fit_one_cycle(10, lr, moms=(0.8,0.7),wd=0.1)"
      ],
      "execution_count": 33,
      "outputs": [
        {
          "output_type": "display_data",
          "data": {
            "text/html": [
              "<table border=\"1\" class=\"dataframe\">\n",
              "  <thead>\n",
              "    <tr style=\"text-align: left;\">\n",
              "      <th>epoch</th>\n",
              "      <th>train_loss</th>\n",
              "      <th>valid_loss</th>\n",
              "      <th>accuracy</th>\n",
              "      <th>time</th>\n",
              "    </tr>\n",
              "  </thead>\n",
              "  <tbody>\n",
              "    <tr>\n",
              "      <td>0</td>\n",
              "      <td>3.644809</td>\n",
              "      <td>3.595366</td>\n",
              "      <td>0.439338</td>\n",
              "      <td>10:10</td>\n",
              "    </tr>\n",
              "    <tr>\n",
              "      <td>1</td>\n",
              "      <td>3.888639</td>\n",
              "      <td>3.809960</td>\n",
              "      <td>0.422575</td>\n",
              "      <td>10:09</td>\n",
              "    </tr>\n",
              "    <tr>\n",
              "      <td>2</td>\n",
              "      <td>3.973485</td>\n",
              "      <td>3.888426</td>\n",
              "      <td>0.414317</td>\n",
              "      <td>10:09</td>\n",
              "    </tr>\n",
              "    <tr>\n",
              "      <td>3</td>\n",
              "      <td>3.938116</td>\n",
              "      <td>3.853100</td>\n",
              "      <td>0.417584</td>\n",
              "      <td>10:10</td>\n",
              "    </tr>\n",
              "    <tr>\n",
              "      <td>4</td>\n",
              "      <td>3.864467</td>\n",
              "      <td>3.786871</td>\n",
              "      <td>0.424581</td>\n",
              "      <td>10:10</td>\n",
              "    </tr>\n",
              "    <tr>\n",
              "      <td>5</td>\n",
              "      <td>3.758890</td>\n",
              "      <td>3.693187</td>\n",
              "      <td>0.432540</td>\n",
              "      <td>10:10</td>\n",
              "    </tr>\n",
              "    <tr>\n",
              "      <td>6</td>\n",
              "      <td>3.649447</td>\n",
              "      <td>3.586125</td>\n",
              "      <td>0.442901</td>\n",
              "      <td>10:10</td>\n",
              "    </tr>\n",
              "    <tr>\n",
              "      <td>7</td>\n",
              "      <td>3.498498</td>\n",
              "      <td>3.465934</td>\n",
              "      <td>0.454821</td>\n",
              "      <td>10:09</td>\n",
              "    </tr>\n",
              "    <tr>\n",
              "      <td>8</td>\n",
              "      <td>3.278994</td>\n",
              "      <td>3.380776</td>\n",
              "      <td>0.464244</td>\n",
              "      <td>10:09</td>\n",
              "    </tr>\n",
              "    <tr>\n",
              "      <td>9</td>\n",
              "      <td>3.083931</td>\n",
              "      <td>3.371076</td>\n",
              "      <td>0.465724</td>\n",
              "      <td>10:09</td>\n",
              "    </tr>\n",
              "  </tbody>\n",
              "</table>"
            ],
            "text/plain": [
              "<IPython.core.display.HTML object>"
            ]
          },
          "metadata": {
            "tags": []
          }
        }
      ]
    },
    {
      "cell_type": "code",
      "metadata": {
        "id": "3SC3HXVAWGRp",
        "colab_type": "code",
        "colab": {}
      },
      "source": [
        "learn_model.save_encoder('bwd_enc')"
      ],
      "execution_count": 0,
      "outputs": []
    },
    {
      "cell_type": "code",
      "metadata": {
        "id": "1VIHtnLAgvGT",
        "colab_type": "code",
        "colab": {}
      },
      "source": [
        "vocab = data_lm.vocab"
      ],
      "execution_count": 0,
      "outputs": []
    },
    {
      "cell_type": "code",
      "metadata": {
        "id": "YYDfngJggvKa",
        "colab_type": "code",
        "colab": {
          "base_uri": "https://localhost:8080/",
          "height": 34
        },
        "outputId": "8fd589cf-2226-4f87-c8e2-b6ad56242928"
      },
      "source": [
        "vocab.stoi[\"stingray\"]\n"
      ],
      "execution_count": 36,
      "outputs": [
        {
          "output_type": "execute_result",
          "data": {
            "text/plain": [
              "23100"
            ]
          },
          "metadata": {
            "tags": []
          },
          "execution_count": 36
        }
      ]
    },
    {
      "cell_type": "code",
      "metadata": {
        "id": "d19LleyIW1ap",
        "colab_type": "code",
        "colab": {}
      },
      "source": [
        "awd = learn_model.model[0]"
      ],
      "execution_count": 0,
      "outputs": []
    },
    {
      "cell_type": "code",
      "metadata": {
        "id": "H57cRO-5hK7W",
        "colab_type": "code",
        "colab": {
          "base_uri": "https://localhost:8080/",
          "height": 34
        },
        "outputId": "39a1d07f-c30c-4ec1-fa27-55680b2bb7a3"
      },
      "source": [
        "enc = learn_model.model[0].encoder\n",
        "enc.weight.size()"
      ],
      "execution_count": 38,
      "outputs": [
        {
          "output_type": "execute_result",
          "data": {
            "text/plain": [
              "torch.Size([48368, 400])"
            ]
          },
          "metadata": {
            "tags": []
          },
          "execution_count": 38
        }
      ]
    },
    {
      "cell_type": "code",
      "metadata": {
        "id": "yCMz5ul4oRwE",
        "colab_type": "code",
        "colab": {
          "base_uri": "https://localhost:8080/",
          "height": 34
        },
        "outputId": "62ad8a30-8afe-4a01-f209-f766f6abbf7c"
      },
      "source": [
        "vocab.stoi[\"trump\"]"
      ],
      "execution_count": 39,
      "outputs": [
        {
          "output_type": "execute_result",
          "data": {
            "text/plain": [
              "52"
            ]
          },
          "metadata": {
            "tags": []
          },
          "execution_count": 39
        }
      ]
    },
    {
      "cell_type": "code",
      "metadata": {
        "id": "c6tFemWPohd1",
        "colab_type": "code",
        "colab": {}
      },
      "source": [
        "TEXT = \"Trump is\"\n",
        "N_WORDS = 30\n",
        "N_SENTENCES = 1"
      ],
      "execution_count": 0,
      "outputs": []
    },
    {
      "cell_type": "code",
      "metadata": {
        "id": "LtXlHL2Eohon",
        "colab_type": "code",
        "colab": {
          "base_uri": "https://localhost:8080/",
          "height": 34
        },
        "outputId": "dcabc85d-0550-416b-a0e8-a427194d47f7"
      },
      "source": [
        "print(\"\\n\".join(learn_model.predict(TEXT, N_WORDS, temperature=0.75) for _ in range(N_SENTENCES)))  #wont make sense since this is the output from the backward model"
      ],
      "execution_count": 41,
      "outputs": [
        {
          "output_type": "stream",
          "text": [
            "Trump is , \" ? \" trump President ? spot expensive most 's trump With on going 's what so . really , well ? election\n"
          ],
          "name": "stdout"
        }
      ]
    },
    {
      "cell_type": "code",
      "metadata": {
        "id": "_MmqBGCPtMon",
        "colab_type": "code",
        "colab": {
          "base_uri": "https://localhost:8080/",
          "height": 34
        },
        "outputId": "611fc691-43de-4cb6-fac6-d81c110b4f65"
      },
      "source": [
        "learn_model.predict(\"This is a review about\", n_words=20)"
      ],
      "execution_count": 42,
      "outputs": [
        {
          "output_type": "execute_result",
          "data": {
            "text/plain": [
              "'This is a review about professed who woman international an , memoir the of author , tripping Sally To goes product the'"
            ]
          },
          "metadata": {
            "tags": []
          },
          "execution_count": 42
        }
      ]
    },
    {
      "cell_type": "markdown",
      "metadata": {
        "id": "e46273t_ugpY",
        "colab_type": "text"
      },
      "source": [
        "Classifier"
      ]
    },
    {
      "cell_type": "code",
      "metadata": {
        "id": "nVG2qrWRqVat",
        "colab_type": "code",
        "colab": {}
      },
      "source": [
        "bs=32"
      ],
      "execution_count": 0,
      "outputs": []
    },
    {
      "cell_type": "code",
      "metadata": {
        "id": "H4kLALivp_SV",
        "colab_type": "code",
        "colab": {
          "base_uri": "https://localhost:8080/",
          "height": 289
        },
        "outputId": "f5d39afb-bda7-456f-8c6e-18b794be82b4"
      },
      "source": [
        "data_clas.show_batch()"
      ],
      "execution_count": 44,
      "outputs": [
        {
          "output_type": "display_data",
          "data": {
            "text/html": [
              "<table border=\"1\" class=\"dataframe\">\n",
              "  <thead>\n",
              "    <tr style=\"text-align: right;\">\n",
              "      <th>text</th>\n",
              "      <th>target</th>\n",
              "    </tr>\n",
              "  </thead>\n",
              "  <tbody>\n",
              "    <tr>\n",
              "      <td>xxbos xxmaj sunday xxmaj roundup xxmaj this week the nation came one step closer to giving itself over to the most dangerous and unstable potential leader in xxup u.s. history , as xxmaj donald xxmaj trump \" humbly \" accepted the xxmaj republican presidential nomination - so humbly , in fact , that he went on to claim that \" i alone can fix \" xxmaj america . xxmaj it</td>\n",
              "      <td>POLITICS</td>\n",
              "    </tr>\n",
              "    <tr>\n",
              "      <td>xxbos xxmaj weekend xxmaj roundup xxmaj this week , while the xxup u.s. celebrates its independence , the world watches a modern xxmaj greek tragedy unfold as xxmaj greece votes on austere bailout terms imposed by the country 's creditors . xxmaj however the vote goes , one thing is clear : xxmaj the austerity that came with the two previous bailouts has utterly broken the xxmaj greek economy .</td>\n",
              "      <td>POLITICS</td>\n",
              "    </tr>\n",
              "    <tr>\n",
              "      <td>xxbos xxmaj what xxmaj to xxmaj do xxmaj when xxmaj you 're a xxmaj pregnant xxmaj bridesmaid ( xxup photos ) xxmaj imagine that your closest friend or sister is engaged and wants you to be her bridesmaid . xxmaj after thanking her for the honor ( and asking who else will be a bridesmaid ) , you begin to wonder what you 're going to have to wear .</td>\n",
              "      <td>STYLE &amp; BEAUTY</td>\n",
              "    </tr>\n",
              "    <tr>\n",
              "      <td>xxbos xxmaj sunday xxmaj roundup xxmaj this week was dominated by news from xxmaj ferguson -- but much of what was really happening went untold by the media . xxmaj while xxup tv viewers were mostly presented with endless images of tear gas , violence and division , a fuller depiction would have revealed a community challenged by adversity , xxunk and institutional failure that responded with remarkable empathy ,</td>\n",
              "      <td>POLITICS</td>\n",
              "    </tr>\n",
              "    <tr>\n",
              "      <td>xxbos xxmaj the xxmaj impending ' xxmaj peaceful xxmaj war ' xxmaj between xxmaj china and xxmaj america xxmaj over xxmaj xxunk xxmaj unlike the xxmaj cold xxmaj war period -- in which the xxmaj soviet xxmaj union was isolated from the global economy -- commercial interests and trade secrets underpin the intrinsically entangled xxmaj sino - xxmaj american economic relations . xxmaj the xxunk - xxunk distinction between national</td>\n",
              "      <td>WORLD NEWS</td>\n",
              "    </tr>\n",
              "  </tbody>\n",
              "</table>"
            ],
            "text/plain": [
              "<IPython.core.display.HTML object>"
            ]
          },
          "metadata": {
            "tags": []
          }
        }
      ]
    },
    {
      "cell_type": "code",
      "metadata": {
        "id": "FyPgXOaRqS5D",
        "colab_type": "code",
        "colab": {}
      },
      "source": [
        "data_clas_bwd = load_data(path, 'data_clas_export.pkl', bs=bs, backwards=True)   #loading data for the backward classifier"
      ],
      "execution_count": 0,
      "outputs": []
    },
    {
      "cell_type": "code",
      "metadata": {
        "id": "Oo4NAKzpqguj",
        "colab_type": "code",
        "colab": {
          "base_uri": "https://localhost:8080/",
          "height": 289
        },
        "outputId": "e16b42c9-6130-4838-953e-7203580de35e"
      },
      "source": [
        "data_clas_bwd.show_batch()"
      ],
      "execution_count": 46,
      "outputs": [
        {
          "output_type": "display_data",
          "data": {
            "text/html": [
              "<table border=\"1\" class=\"dataframe\">\n",
              "  <thead>\n",
              "    <tr style=\"text-align: right;\">\n",
              "      <th>text</th>\n",
              "      <th>target</th>\n",
              "    </tr>\n",
              "  </thead>\n",
              "  <tbody>\n",
              "    <tr>\n",
              "      <td>. hearts and minds our in but polls the at only not - reject must we bet the 's that and xxmaj . bet his 's that xxmaj . america xxmaj shorting , essence in , is trump xxmaj . fear of nurturing cynical and manipulation the but fear to nothing have we , fdr xxup paraphrase to , but xxmaj . minds our in place that building by wins</td>\n",
              "      <td>POLITICS</td>\n",
              "    </tr>\n",
              "    <tr>\n",
              "      <td>. size hand to unrelated is responsibility of sense 's one apparently but , party of ahead country putting for much so xxmaj . problem no , sure , yeah xxmaj , effect in , said candidates other the of three all nominee as him support 'd they if asked when , country the to danger a and fraud a as trump xxmaj attacking after xxmaj . end the at</td>\n",
              "      <td>POLITICS</td>\n",
              "    </tr>\n",
              "    <tr>\n",
              "      <td>. street xxmaj wall xxmaj by paid highly , fact in , is he that disclosing without often , loves street xxmaj wall xxmaj that policies advocated long has hubbard xxmaj : huge are interest of conflicts those , least not but last and xxmaj . interest of conflicts own his and issues policy both discussing when dishonest even and , misleading , evasive been has hubbard xxmaj , experience</td>\n",
              "      <td>BUSINESS</td>\n",
              "    </tr>\n",
              "    <tr>\n",
              "      <td>. sponsors street xxmaj wall xxmaj her to acceptable be will that one the and wage to needs clinton xxmaj campaign the between fight the is watch to contest the , no xxmaj . rivals republican xxmaj her and clinton xxmaj between campaign likely the even or nomination the for battle the not is come to contest political interesting most the , ways many in xxmaj . specific very getting</td>\n",
              "      <td>POLITICS</td>\n",
              "    </tr>\n",
              "    <tr>\n",
              "      <td>. up ice n't do lighthouses the so , suppressed are spray and splashing the and , over freeze to tends michigan xxmaj lake xxmaj and , later any xxmaj . liquid still is lake the and , windy , xxunk icing for time typical the is december xxmaj late to mid , rule a as xxmaj . ice in covered completely was michigan xxmaj , joseph xxmaj st. xxmaj</td>\n",
              "      <td>ENVIRONMENT</td>\n",
              "    </tr>\n",
              "  </tbody>\n",
              "</table>"
            ],
            "text/plain": [
              "<IPython.core.display.HTML object>"
            ]
          },
          "metadata": {
            "tags": []
          }
        }
      ]
    },
    {
      "cell_type": "markdown",
      "metadata": {
        "id": "AEB-z32cocwx",
        "colab_type": "text"
      },
      "source": [
        "Fine tuning the forward classifier\n",
        "\n",
        "The classifier needs a little less dropout, so we pass drop_mult=0.5 to multiply all the dropouts by this amount (it's easier than adjusting all the five different values manually). We don't load the pretrained model, but instead our fine-tuned encoder from the previous section."
      ]
    },
    {
      "cell_type": "code",
      "metadata": {
        "id": "zD2aciTwubtq",
        "colab_type": "code",
        "colab": {
          "base_uri": "https://localhost:8080/",
          "height": 1000
        },
        "outputId": "fc9ce374-5f8e-4e79-cfca-435654849cde"
      },
      "source": [
        "learn = text_classifier_learner(data_clas, AWD_LSTM, drop_mult=0.5, pretrained=False)\n",
        "learn.load_encoder('fwd_enc')"
      ],
      "execution_count": 47,
      "outputs": [
        {
          "output_type": "execute_result",
          "data": {
            "text/plain": [
              "RNNLearner(data=TextClasDataBunch;\n",
              "\n",
              "Train: LabelList (144438 items)\n",
              "x: TextList\n",
              "xxbos xxmaj luke xxmaj from ' xxmaj gilmore xxmaj girls ' xxmaj is xxmaj getting xxmaj his xxmaj own xxmaj line xxmaj of xxmaj coffee xxmaj we have a feeling xxmaj lorelai would 've loved this .,xxbos xxmaj the xxmaj huffington xxmaj post xxmaj is xxmaj hiring a xxmaj tech xxmaj reporter xxmaj the ideal candidate will have at least three years of experience writing for major publications and a demonstrated interest in gadgets , tech business , the future of our planet and sustainability .,xxbos xxmaj simple xxmaj greek : xxmaj baked xxmaj sardines xxmaj from xxmaj diane xxmaj kochilas xxmaj diane xxmaj kochilas of xxmaj molyvos gives her advice for cooking xxmaj greek food -- such as ingredients like olives , oregano , fennel , feta cheese and citrus -- and then she showcases a traditional recipe from xxmaj lesvos , baked sardines . xxmaj she shows us how to make baked sardines and explains why it is such an essential dish for xxmaj greece .,xxbos xxmaj political xxmaj workout xxmaj music xxmaj for xxmaj the xxmaj convention xxmaj glued to the conventions ? xxmaj if around - the - clock coverage of the xxmaj republican xxmaj national xxmaj convention is getting in the way of your exercise regime , we 're here to help .,xxbos xxup ap xxmaj uses xxmaj jordan xxmaj peele xxmaj photo xxmaj while xxmaj tweeting xxmaj about xxmaj james xxmaj franco xxmaj misconduct xxmaj allegations “ xxmaj um ... weird photo choice ? ” xxmaj peele tweeted in response to the mistake .\n",
              "y: CategoryList\n",
              "FOOD & DRINK,TECH,FOOD & DRINK,HEALTHY LIVING,BLACK VOICES\n",
              "Path: /content/drive/My Drive/Data/News_Category_Dataset_v2.json;\n",
              "\n",
              "Valid: LabelList (25489 items)\n",
              "x: TextList\n",
              "xxbos ‘ xxmaj nobody xxmaj speak ’ : xxmaj how xxmaj billionaires xxmaj are xxmaj silencing the xxmaj first xxmaj amendment xxmaj when documentary filmmaker xxmaj brian xxmaj xxunk set out to make a film about xxmaj hulk xxmaj hogan ’s lawsuit against xxmaj gawker xxmaj media , he,xxbos xxmaj this xxmaj couple 's xxmaj biggest xxmaj adventure xxmaj began xxmaj when xxmaj they xxmaj switched xxmaj from xxmaj coffee xxmaj to xxmaj green xxmaj tea,xxbos xxmaj an xxmaj interview xxmaj with xxmaj former xxmaj president xxmaj of xxmaj the xxup eu xxmaj parliament xxmaj nicole xxmaj fontaine : xxmaj brexit , xxmaj the xxmaj trump xxmaj administration , xxmaj and xxmaj advice xxmaj for xxmaj women xxmaj in xxmaj the xxmaj workplace a charming woman with a fiery spirit , xxmaj fontaine pulls no punches when speaking about the shortcomings of the xxmaj european xxmaj union .,xxbos 5 xxmaj things xxmaj you xxmaj must xxmaj do xxmaj before xxmaj you xxmaj file xxmaj your xxmaj travel xxmaj insurance xxmaj claim xxmaj peter xxmaj xxunk was set for the vacation of a lifetime -- a nine - day xxmaj ireland tour from xxmaj dublin to xxmaj xxunk booked through,xxbos 28 xxmaj valentine 's xxmaj day xxmaj nail xxmaj art xxmaj ideas xxmaj to xxmaj put xxmaj you xxmaj in xxmaj the xxmaj mood xxmaj for xxmaj love ( xxup photos ) xxmaj not every girl 's idea of dressing up for xxmaj valentine 's xxmaj day includes head - to - toe bubblegum pink or cherry red . xxmaj and i wo n't even\n",
              "y: CategoryList\n",
              "BUSINESS,HEALTHY LIVING,WORLD NEWS,TRAVEL,STYLE & BEAUTY\n",
              "Path: /content/drive/My Drive/Data/News_Category_Dataset_v2.json;\n",
              "\n",
              "Test: None, model=SequentialRNN(\n",
              "  (0): MultiBatchEncoder(\n",
              "    (module): AWD_LSTM(\n",
              "      (encoder): Embedding(48368, 400, padding_idx=1)\n",
              "      (encoder_dp): EmbeddingDropout(\n",
              "        (emb): Embedding(48368, 400, padding_idx=1)\n",
              "      )\n",
              "      (rnns): ModuleList(\n",
              "        (0): WeightDropout(\n",
              "          (module): LSTM(400, 1152, batch_first=True)\n",
              "        )\n",
              "        (1): WeightDropout(\n",
              "          (module): LSTM(1152, 1152, batch_first=True)\n",
              "        )\n",
              "        (2): WeightDropout(\n",
              "          (module): LSTM(1152, 400, batch_first=True)\n",
              "        )\n",
              "      )\n",
              "      (input_dp): RNNDropout()\n",
              "      (hidden_dps): ModuleList(\n",
              "        (0): RNNDropout()\n",
              "        (1): RNNDropout()\n",
              "        (2): RNNDropout()\n",
              "      )\n",
              "    )\n",
              "  )\n",
              "  (1): PoolingLinearClassifier(\n",
              "    (layers): Sequential(\n",
              "      (0): BatchNorm1d(1200, eps=1e-05, momentum=0.1, affine=True, track_running_stats=True)\n",
              "      (1): Dropout(p=0.2, inplace=False)\n",
              "      (2): Linear(in_features=1200, out_features=50, bias=True)\n",
              "      (3): ReLU(inplace=True)\n",
              "      (4): BatchNorm1d(50, eps=1e-05, momentum=0.1, affine=True, track_running_stats=True)\n",
              "      (5): Dropout(p=0.1, inplace=False)\n",
              "      (6): Linear(in_features=50, out_features=31, bias=True)\n",
              "    )\n",
              "  )\n",
              "), opt_func=functools.partial(<class 'torch.optim.adam.Adam'>, betas=(0.9, 0.99)), loss_func=FlattenedLoss of CrossEntropyLoss(), metrics=[<function accuracy at 0x7fc653751378>], true_wd=True, bn_wd=True, wd=0.01, train_bn=True, path=PosixPath('/content/drive/My Drive/Data'), model_dir='models', callback_fns=[functools.partial(<class 'fastai.basic_train.Recorder'>, add_time=True, silent=False)], callbacks=[RNNTrainer\n",
              "learn: RNNLearner(data=TextClasDataBunch;\n",
              "\n",
              "Train: LabelList (144438 items)\n",
              "x: TextList\n",
              "xxbos xxmaj luke xxmaj from ' xxmaj gilmore xxmaj girls ' xxmaj is xxmaj getting xxmaj his xxmaj own xxmaj line xxmaj of xxmaj coffee xxmaj we have a feeling xxmaj lorelai would 've loved this .,xxbos xxmaj the xxmaj huffington xxmaj post xxmaj is xxmaj hiring a xxmaj tech xxmaj reporter xxmaj the ideal candidate will have at least three years of experience writing for major publications and a demonstrated interest in gadgets , tech business , the future of our planet and sustainability .,xxbos xxmaj simple xxmaj greek : xxmaj baked xxmaj sardines xxmaj from xxmaj diane xxmaj kochilas xxmaj diane xxmaj kochilas of xxmaj molyvos gives her advice for cooking xxmaj greek food -- such as ingredients like olives , oregano , fennel , feta cheese and citrus -- and then she showcases a traditional recipe from xxmaj lesvos , baked sardines . xxmaj she shows us how to make baked sardines and explains why it is such an essential dish for xxmaj greece .,xxbos xxmaj political xxmaj workout xxmaj music xxmaj for xxmaj the xxmaj convention xxmaj glued to the conventions ? xxmaj if around - the - clock coverage of the xxmaj republican xxmaj national xxmaj convention is getting in the way of your exercise regime , we 're here to help .,xxbos xxup ap xxmaj uses xxmaj jordan xxmaj peele xxmaj photo xxmaj while xxmaj tweeting xxmaj about xxmaj james xxmaj franco xxmaj misconduct xxmaj allegations “ xxmaj um ... weird photo choice ? ” xxmaj peele tweeted in response to the mistake .\n",
              "y: CategoryList\n",
              "FOOD & DRINK,TECH,FOOD & DRINK,HEALTHY LIVING,BLACK VOICES\n",
              "Path: /content/drive/My Drive/Data/News_Category_Dataset_v2.json;\n",
              "\n",
              "Valid: LabelList (25489 items)\n",
              "x: TextList\n",
              "xxbos ‘ xxmaj nobody xxmaj speak ’ : xxmaj how xxmaj billionaires xxmaj are xxmaj silencing the xxmaj first xxmaj amendment xxmaj when documentary filmmaker xxmaj brian xxmaj xxunk set out to make a film about xxmaj hulk xxmaj hogan ’s lawsuit against xxmaj gawker xxmaj media , he,xxbos xxmaj this xxmaj couple 's xxmaj biggest xxmaj adventure xxmaj began xxmaj when xxmaj they xxmaj switched xxmaj from xxmaj coffee xxmaj to xxmaj green xxmaj tea,xxbos xxmaj an xxmaj interview xxmaj with xxmaj former xxmaj president xxmaj of xxmaj the xxup eu xxmaj parliament xxmaj nicole xxmaj fontaine : xxmaj brexit , xxmaj the xxmaj trump xxmaj administration , xxmaj and xxmaj advice xxmaj for xxmaj women xxmaj in xxmaj the xxmaj workplace a charming woman with a fiery spirit , xxmaj fontaine pulls no punches when speaking about the shortcomings of the xxmaj european xxmaj union .,xxbos 5 xxmaj things xxmaj you xxmaj must xxmaj do xxmaj before xxmaj you xxmaj file xxmaj your xxmaj travel xxmaj insurance xxmaj claim xxmaj peter xxmaj xxunk was set for the vacation of a lifetime -- a nine - day xxmaj ireland tour from xxmaj dublin to xxmaj xxunk booked through,xxbos 28 xxmaj valentine 's xxmaj day xxmaj nail xxmaj art xxmaj ideas xxmaj to xxmaj put xxmaj you xxmaj in xxmaj the xxmaj mood xxmaj for xxmaj love ( xxup photos ) xxmaj not every girl 's idea of dressing up for xxmaj valentine 's xxmaj day includes head - to - toe bubblegum pink or cherry red . xxmaj and i wo n't even\n",
              "y: CategoryList\n",
              "BUSINESS,HEALTHY LIVING,WORLD NEWS,TRAVEL,STYLE & BEAUTY\n",
              "Path: /content/drive/My Drive/Data/News_Category_Dataset_v2.json;\n",
              "\n",
              "Test: None, model=SequentialRNN(\n",
              "  (0): MultiBatchEncoder(\n",
              "    (module): AWD_LSTM(\n",
              "      (encoder): Embedding(48368, 400, padding_idx=1)\n",
              "      (encoder_dp): EmbeddingDropout(\n",
              "        (emb): Embedding(48368, 400, padding_idx=1)\n",
              "      )\n",
              "      (rnns): ModuleList(\n",
              "        (0): WeightDropout(\n",
              "          (module): LSTM(400, 1152, batch_first=True)\n",
              "        )\n",
              "        (1): WeightDropout(\n",
              "          (module): LSTM(1152, 1152, batch_first=True)\n",
              "        )\n",
              "        (2): WeightDropout(\n",
              "          (module): LSTM(1152, 400, batch_first=True)\n",
              "        )\n",
              "      )\n",
              "      (input_dp): RNNDropout()\n",
              "      (hidden_dps): ModuleList(\n",
              "        (0): RNNDropout()\n",
              "        (1): RNNDropout()\n",
              "        (2): RNNDropout()\n",
              "      )\n",
              "    )\n",
              "  )\n",
              "  (1): PoolingLinearClassifier(\n",
              "    (layers): Sequential(\n",
              "      (0): BatchNorm1d(1200, eps=1e-05, momentum=0.1, affine=True, track_running_stats=True)\n",
              "      (1): Dropout(p=0.2, inplace=False)\n",
              "      (2): Linear(in_features=1200, out_features=50, bias=True)\n",
              "      (3): ReLU(inplace=True)\n",
              "      (4): BatchNorm1d(50, eps=1e-05, momentum=0.1, affine=True, track_running_stats=True)\n",
              "      (5): Dropout(p=0.1, inplace=False)\n",
              "      (6): Linear(in_features=50, out_features=31, bias=True)\n",
              "    )\n",
              "  )\n",
              "), opt_func=functools.partial(<class 'torch.optim.adam.Adam'>, betas=(0.9, 0.99)), loss_func=FlattenedLoss of CrossEntropyLoss(), metrics=[<function accuracy at 0x7fc653751378>], true_wd=True, bn_wd=True, wd=0.01, train_bn=True, path=PosixPath('/content/drive/My Drive/Data'), model_dir='models', callback_fns=[functools.partial(<class 'fastai.basic_train.Recorder'>, add_time=True, silent=False)], callbacks=[...], layer_groups=[Sequential(\n",
              "  (0): Embedding(48368, 400, padding_idx=1)\n",
              "  (1): EmbeddingDropout(\n",
              "    (emb): Embedding(48368, 400, padding_idx=1)\n",
              "  )\n",
              "), Sequential(\n",
              "  (0): WeightDropout(\n",
              "    (module): LSTM(400, 1152, batch_first=True)\n",
              "  )\n",
              "  (1): RNNDropout()\n",
              "), Sequential(\n",
              "  (0): WeightDropout(\n",
              "    (module): LSTM(1152, 1152, batch_first=True)\n",
              "  )\n",
              "  (1): RNNDropout()\n",
              "), Sequential(\n",
              "  (0): WeightDropout(\n",
              "    (module): LSTM(1152, 400, batch_first=True)\n",
              "  )\n",
              "  (1): RNNDropout()\n",
              "), Sequential(\n",
              "  (0): PoolingLinearClassifier(\n",
              "    (layers): Sequential(\n",
              "      (0): BatchNorm1d(1200, eps=1e-05, momentum=0.1, affine=True, track_running_stats=True)\n",
              "      (1): Dropout(p=0.2, inplace=False)\n",
              "      (2): Linear(in_features=1200, out_features=50, bias=True)\n",
              "      (3): ReLU(inplace=True)\n",
              "      (4): BatchNorm1d(50, eps=1e-05, momentum=0.1, affine=True, track_running_stats=True)\n",
              "      (5): Dropout(p=0.1, inplace=False)\n",
              "      (6): Linear(in_features=50, out_features=31, bias=True)\n",
              "    )\n",
              "  )\n",
              ")], add_time=True, silent=False)\n",
              "alpha: 2.0\n",
              "beta: 1.0], layer_groups=[Sequential(\n",
              "  (0): Embedding(48368, 400, padding_idx=1)\n",
              "  (1): EmbeddingDropout(\n",
              "    (emb): Embedding(48368, 400, padding_idx=1)\n",
              "  )\n",
              "), Sequential(\n",
              "  (0): WeightDropout(\n",
              "    (module): LSTM(400, 1152, batch_first=True)\n",
              "  )\n",
              "  (1): RNNDropout()\n",
              "), Sequential(\n",
              "  (0): WeightDropout(\n",
              "    (module): LSTM(1152, 1152, batch_first=True)\n",
              "  )\n",
              "  (1): RNNDropout()\n",
              "), Sequential(\n",
              "  (0): WeightDropout(\n",
              "    (module): LSTM(1152, 400, batch_first=True)\n",
              "  )\n",
              "  (1): RNNDropout()\n",
              "), Sequential(\n",
              "  (0): PoolingLinearClassifier(\n",
              "    (layers): Sequential(\n",
              "      (0): BatchNorm1d(1200, eps=1e-05, momentum=0.1, affine=True, track_running_stats=True)\n",
              "      (1): Dropout(p=0.2, inplace=False)\n",
              "      (2): Linear(in_features=1200, out_features=50, bias=True)\n",
              "      (3): ReLU(inplace=True)\n",
              "      (4): BatchNorm1d(50, eps=1e-05, momentum=0.1, affine=True, track_running_stats=True)\n",
              "      (5): Dropout(p=0.1, inplace=False)\n",
              "      (6): Linear(in_features=50, out_features=31, bias=True)\n",
              "    )\n",
              "  )\n",
              ")], add_time=True, silent=False)"
            ]
          },
          "metadata": {
            "tags": []
          },
          "execution_count": 47
        }
      ]
    },
    {
      "cell_type": "code",
      "metadata": {
        "id": "RO_syx50uiB7",
        "colab_type": "code",
        "colab": {
          "base_uri": "https://localhost:8080/",
          "height": 289
        },
        "outputId": "42eaebd9-f7d6-459d-e56f-92d50574e70e"
      },
      "source": [
        "data_clas.show_batch()"
      ],
      "execution_count": 48,
      "outputs": [
        {
          "output_type": "display_data",
          "data": {
            "text/html": [
              "<table border=\"1\" class=\"dataframe\">\n",
              "  <thead>\n",
              "    <tr style=\"text-align: right;\">\n",
              "      <th>text</th>\n",
              "      <th>target</th>\n",
              "    </tr>\n",
              "  </thead>\n",
              "  <tbody>\n",
              "    <tr>\n",
              "      <td>xxbos xxmaj sunday xxmaj roundup xxmaj this week the nation came one step closer to giving itself over to the most dangerous and unstable potential leader in xxup u.s. history , as xxmaj donald xxmaj trump \" humbly \" accepted the xxmaj republican presidential nomination - so humbly , in fact , that he went on to claim that \" i alone can fix \" xxmaj america . xxmaj it</td>\n",
              "      <td>POLITICS</td>\n",
              "    </tr>\n",
              "    <tr>\n",
              "      <td>xxbos xxmaj weekend xxmaj roundup : xxmaj greece xxmaj revolts ! xxmaj no sooner did the global elites leave their annual talking shop high in the xxmaj alps at xxmaj davos last week than the people spoke in xxmaj greece . xxmaj in a mutiny against an untenable status quo , those who are run over have revolted against those who run things . xxmaj now righteous populism must face</td>\n",
              "      <td>WORLD NEWS</td>\n",
              "    </tr>\n",
              "    <tr>\n",
              "      <td>xxbos xxmaj weekend xxmaj roundup : a xxmaj pattern of xxmaj crises xxmaj connects xxmaj cologne and xxmaj istanbul xxmaj even before the \" xxmaj night of xxmaj shame \" on xxmaj new xxmaj year 's xxmaj eve in xxmaj cologne further fueled an already fervent anti - foreigner backlash , xxmaj german leaders were desperately looking to xxmaj turkey to stem the flow of refugees headed to xxmaj europe</td>\n",
              "      <td>WORLD NEWS</td>\n",
              "    </tr>\n",
              "    <tr>\n",
              "      <td>xxbos xxmaj sunday xxmaj roundup xxmaj happy 4th of xxmaj july weekend ! xxmaj the week leading up to the holiday gave us much to celebrate -- and much not to celebrate . xxmaj we can certainly rejoice that xxmaj hurricane xxmaj arthur failed to do much damage before weakening and heading out to sea . xxmaj but there can only be consternation at the xxmaj supreme xxmaj court 's</td>\n",
              "      <td>POLITICS</td>\n",
              "    </tr>\n",
              "    <tr>\n",
              "      <td>xxbos xxmaj as a xxmaj millennial : xxmaj these are ( some of ) my issues for the xxmaj upcoming xxmaj election xxmaj part xxup ii xxmaj even more important , is for presidential candidates to take the campaigning process seriously . xxmaj as xxmaj florida xxmaj senator xxmaj marco xxmaj rubio pointed out earlier this week , \" this is n't joke , this is serious \" , and</td>\n",
              "      <td>POLITICS</td>\n",
              "    </tr>\n",
              "  </tbody>\n",
              "</table>"
            ],
            "text/plain": [
              "<IPython.core.display.HTML object>"
            ]
          },
          "metadata": {
            "tags": []
          }
        }
      ]
    },
    {
      "cell_type": "code",
      "metadata": {
        "id": "L3nrwvKYulmI",
        "colab_type": "code",
        "colab": {
          "base_uri": "https://localhost:8080/",
          "height": 80
        },
        "outputId": "5d7c078e-9f9f-4a11-d3c6-f9efdcbf6e70"
      },
      "source": [
        "lr = 1e-2\n",
        "learn.fit_one_cycle(1, lr, moms=(0.8,0.7), wd=0.1)"
      ],
      "execution_count": 49,
      "outputs": [
        {
          "output_type": "display_data",
          "data": {
            "text/html": [
              "<table border=\"1\" class=\"dataframe\">\n",
              "  <thead>\n",
              "    <tr style=\"text-align: left;\">\n",
              "      <th>epoch</th>\n",
              "      <th>train_loss</th>\n",
              "      <th>valid_loss</th>\n",
              "      <th>accuracy</th>\n",
              "      <th>time</th>\n",
              "    </tr>\n",
              "  </thead>\n",
              "  <tbody>\n",
              "    <tr>\n",
              "      <td>0</td>\n",
              "      <td>1.251260</td>\n",
              "      <td>1.114925</td>\n",
              "      <td>0.675978</td>\n",
              "      <td>02:29</td>\n",
              "    </tr>\n",
              "  </tbody>\n",
              "</table>"
            ],
            "text/plain": [
              "<IPython.core.display.HTML object>"
            ]
          },
          "metadata": {
            "tags": []
          }
        }
      ]
    },
    {
      "cell_type": "code",
      "metadata": {
        "id": "9nF2_UvsutPF",
        "colab_type": "code",
        "colab": {
          "base_uri": "https://localhost:8080/",
          "height": 80
        },
        "outputId": "2778aedb-eadb-45d0-8428-5c693d835d23"
      },
      "source": [
        "learn.freeze_to(-2)\n",
        "lr /= 2\n",
        "learn.fit_one_cycle(1, slice(lr/(2.6**4),lr), moms=(0.8,0.7), wd=0.1)"
      ],
      "execution_count": 50,
      "outputs": [
        {
          "output_type": "display_data",
          "data": {
            "text/html": [
              "<table border=\"1\" class=\"dataframe\">\n",
              "  <thead>\n",
              "    <tr style=\"text-align: left;\">\n",
              "      <th>epoch</th>\n",
              "      <th>train_loss</th>\n",
              "      <th>valid_loss</th>\n",
              "      <th>accuracy</th>\n",
              "      <th>time</th>\n",
              "    </tr>\n",
              "  </thead>\n",
              "  <tbody>\n",
              "    <tr>\n",
              "      <td>0</td>\n",
              "      <td>1.127856</td>\n",
              "      <td>1.016343</td>\n",
              "      <td>0.704696</td>\n",
              "      <td>02:45</td>\n",
              "    </tr>\n",
              "  </tbody>\n",
              "</table>"
            ],
            "text/plain": [
              "<IPython.core.display.HTML object>"
            ]
          },
          "metadata": {
            "tags": []
          }
        }
      ]
    },
    {
      "cell_type": "code",
      "metadata": {
        "id": "xiIkMiRaEnCR",
        "colab_type": "code",
        "colab": {}
      },
      "source": [
        "learn.save('last2')"
      ],
      "execution_count": 0,
      "outputs": []
    },
    {
      "cell_type": "code",
      "metadata": {
        "id": "XqbGXHrPEsVT",
        "colab_type": "code",
        "colab": {
          "base_uri": "https://localhost:8080/",
          "height": 1000
        },
        "outputId": "2e00e9ea-d556-49ad-cad9-98537dd1680f"
      },
      "source": [
        "learn.load('last2')"
      ],
      "execution_count": 52,
      "outputs": [
        {
          "output_type": "execute_result",
          "data": {
            "text/plain": [
              "RNNLearner(data=TextClasDataBunch;\n",
              "\n",
              "Train: LabelList (144438 items)\n",
              "x: TextList\n",
              "xxbos xxmaj luke xxmaj from ' xxmaj gilmore xxmaj girls ' xxmaj is xxmaj getting xxmaj his xxmaj own xxmaj line xxmaj of xxmaj coffee xxmaj we have a feeling xxmaj lorelai would 've loved this .,xxbos xxmaj the xxmaj huffington xxmaj post xxmaj is xxmaj hiring a xxmaj tech xxmaj reporter xxmaj the ideal candidate will have at least three years of experience writing for major publications and a demonstrated interest in gadgets , tech business , the future of our planet and sustainability .,xxbos xxmaj simple xxmaj greek : xxmaj baked xxmaj sardines xxmaj from xxmaj diane xxmaj kochilas xxmaj diane xxmaj kochilas of xxmaj molyvos gives her advice for cooking xxmaj greek food -- such as ingredients like olives , oregano , fennel , feta cheese and citrus -- and then she showcases a traditional recipe from xxmaj lesvos , baked sardines . xxmaj she shows us how to make baked sardines and explains why it is such an essential dish for xxmaj greece .,xxbos xxmaj political xxmaj workout xxmaj music xxmaj for xxmaj the xxmaj convention xxmaj glued to the conventions ? xxmaj if around - the - clock coverage of the xxmaj republican xxmaj national xxmaj convention is getting in the way of your exercise regime , we 're here to help .,xxbos xxup ap xxmaj uses xxmaj jordan xxmaj peele xxmaj photo xxmaj while xxmaj tweeting xxmaj about xxmaj james xxmaj franco xxmaj misconduct xxmaj allegations “ xxmaj um ... weird photo choice ? ” xxmaj peele tweeted in response to the mistake .\n",
              "y: CategoryList\n",
              "FOOD & DRINK,TECH,FOOD & DRINK,HEALTHY LIVING,BLACK VOICES\n",
              "Path: /content/drive/My Drive/Data/News_Category_Dataset_v2.json;\n",
              "\n",
              "Valid: LabelList (25489 items)\n",
              "x: TextList\n",
              "xxbos ‘ xxmaj nobody xxmaj speak ’ : xxmaj how xxmaj billionaires xxmaj are xxmaj silencing the xxmaj first xxmaj amendment xxmaj when documentary filmmaker xxmaj brian xxmaj xxunk set out to make a film about xxmaj hulk xxmaj hogan ’s lawsuit against xxmaj gawker xxmaj media , he,xxbos xxmaj this xxmaj couple 's xxmaj biggest xxmaj adventure xxmaj began xxmaj when xxmaj they xxmaj switched xxmaj from xxmaj coffee xxmaj to xxmaj green xxmaj tea,xxbos xxmaj an xxmaj interview xxmaj with xxmaj former xxmaj president xxmaj of xxmaj the xxup eu xxmaj parliament xxmaj nicole xxmaj fontaine : xxmaj brexit , xxmaj the xxmaj trump xxmaj administration , xxmaj and xxmaj advice xxmaj for xxmaj women xxmaj in xxmaj the xxmaj workplace a charming woman with a fiery spirit , xxmaj fontaine pulls no punches when speaking about the shortcomings of the xxmaj european xxmaj union .,xxbos 5 xxmaj things xxmaj you xxmaj must xxmaj do xxmaj before xxmaj you xxmaj file xxmaj your xxmaj travel xxmaj insurance xxmaj claim xxmaj peter xxmaj xxunk was set for the vacation of a lifetime -- a nine - day xxmaj ireland tour from xxmaj dublin to xxmaj xxunk booked through,xxbos 28 xxmaj valentine 's xxmaj day xxmaj nail xxmaj art xxmaj ideas xxmaj to xxmaj put xxmaj you xxmaj in xxmaj the xxmaj mood xxmaj for xxmaj love ( xxup photos ) xxmaj not every girl 's idea of dressing up for xxmaj valentine 's xxmaj day includes head - to - toe bubblegum pink or cherry red . xxmaj and i wo n't even\n",
              "y: CategoryList\n",
              "BUSINESS,HEALTHY LIVING,WORLD NEWS,TRAVEL,STYLE & BEAUTY\n",
              "Path: /content/drive/My Drive/Data/News_Category_Dataset_v2.json;\n",
              "\n",
              "Test: None, model=SequentialRNN(\n",
              "  (0): MultiBatchEncoder(\n",
              "    (module): AWD_LSTM(\n",
              "      (encoder): Embedding(48368, 400, padding_idx=1)\n",
              "      (encoder_dp): EmbeddingDropout(\n",
              "        (emb): Embedding(48368, 400, padding_idx=1)\n",
              "      )\n",
              "      (rnns): ModuleList(\n",
              "        (0): WeightDropout(\n",
              "          (module): LSTM(400, 1152, batch_first=True)\n",
              "        )\n",
              "        (1): WeightDropout(\n",
              "          (module): LSTM(1152, 1152, batch_first=True)\n",
              "        )\n",
              "        (2): WeightDropout(\n",
              "          (module): LSTM(1152, 400, batch_first=True)\n",
              "        )\n",
              "      )\n",
              "      (input_dp): RNNDropout()\n",
              "      (hidden_dps): ModuleList(\n",
              "        (0): RNNDropout()\n",
              "        (1): RNNDropout()\n",
              "        (2): RNNDropout()\n",
              "      )\n",
              "    )\n",
              "  )\n",
              "  (1): PoolingLinearClassifier(\n",
              "    (layers): Sequential(\n",
              "      (0): BatchNorm1d(1200, eps=1e-05, momentum=0.1, affine=True, track_running_stats=True)\n",
              "      (1): Dropout(p=0.2, inplace=False)\n",
              "      (2): Linear(in_features=1200, out_features=50, bias=True)\n",
              "      (3): ReLU(inplace=True)\n",
              "      (4): BatchNorm1d(50, eps=1e-05, momentum=0.1, affine=True, track_running_stats=True)\n",
              "      (5): Dropout(p=0.1, inplace=False)\n",
              "      (6): Linear(in_features=50, out_features=31, bias=True)\n",
              "    )\n",
              "  )\n",
              "), opt_func=functools.partial(<class 'torch.optim.adam.Adam'>, betas=(0.9, 0.99)), loss_func=FlattenedLoss of CrossEntropyLoss(), metrics=[<function accuracy at 0x7fc653751378>], true_wd=True, bn_wd=True, wd=0.01, train_bn=True, path=PosixPath('/content/drive/My Drive/Data'), model_dir='models', callback_fns=[functools.partial(<class 'fastai.basic_train.Recorder'>, add_time=True, silent=False)], callbacks=[RNNTrainer\n",
              "learn: RNNLearner(data=TextClasDataBunch;\n",
              "\n",
              "Train: LabelList (144438 items)\n",
              "x: TextList\n",
              "xxbos xxmaj luke xxmaj from ' xxmaj gilmore xxmaj girls ' xxmaj is xxmaj getting xxmaj his xxmaj own xxmaj line xxmaj of xxmaj coffee xxmaj we have a feeling xxmaj lorelai would 've loved this .,xxbos xxmaj the xxmaj huffington xxmaj post xxmaj is xxmaj hiring a xxmaj tech xxmaj reporter xxmaj the ideal candidate will have at least three years of experience writing for major publications and a demonstrated interest in gadgets , tech business , the future of our planet and sustainability .,xxbos xxmaj simple xxmaj greek : xxmaj baked xxmaj sardines xxmaj from xxmaj diane xxmaj kochilas xxmaj diane xxmaj kochilas of xxmaj molyvos gives her advice for cooking xxmaj greek food -- such as ingredients like olives , oregano , fennel , feta cheese and citrus -- and then she showcases a traditional recipe from xxmaj lesvos , baked sardines . xxmaj she shows us how to make baked sardines and explains why it is such an essential dish for xxmaj greece .,xxbos xxmaj political xxmaj workout xxmaj music xxmaj for xxmaj the xxmaj convention xxmaj glued to the conventions ? xxmaj if around - the - clock coverage of the xxmaj republican xxmaj national xxmaj convention is getting in the way of your exercise regime , we 're here to help .,xxbos xxup ap xxmaj uses xxmaj jordan xxmaj peele xxmaj photo xxmaj while xxmaj tweeting xxmaj about xxmaj james xxmaj franco xxmaj misconduct xxmaj allegations “ xxmaj um ... weird photo choice ? ” xxmaj peele tweeted in response to the mistake .\n",
              "y: CategoryList\n",
              "FOOD & DRINK,TECH,FOOD & DRINK,HEALTHY LIVING,BLACK VOICES\n",
              "Path: /content/drive/My Drive/Data/News_Category_Dataset_v2.json;\n",
              "\n",
              "Valid: LabelList (25489 items)\n",
              "x: TextList\n",
              "xxbos ‘ xxmaj nobody xxmaj speak ’ : xxmaj how xxmaj billionaires xxmaj are xxmaj silencing the xxmaj first xxmaj amendment xxmaj when documentary filmmaker xxmaj brian xxmaj xxunk set out to make a film about xxmaj hulk xxmaj hogan ’s lawsuit against xxmaj gawker xxmaj media , he,xxbos xxmaj this xxmaj couple 's xxmaj biggest xxmaj adventure xxmaj began xxmaj when xxmaj they xxmaj switched xxmaj from xxmaj coffee xxmaj to xxmaj green xxmaj tea,xxbos xxmaj an xxmaj interview xxmaj with xxmaj former xxmaj president xxmaj of xxmaj the xxup eu xxmaj parliament xxmaj nicole xxmaj fontaine : xxmaj brexit , xxmaj the xxmaj trump xxmaj administration , xxmaj and xxmaj advice xxmaj for xxmaj women xxmaj in xxmaj the xxmaj workplace a charming woman with a fiery spirit , xxmaj fontaine pulls no punches when speaking about the shortcomings of the xxmaj european xxmaj union .,xxbos 5 xxmaj things xxmaj you xxmaj must xxmaj do xxmaj before xxmaj you xxmaj file xxmaj your xxmaj travel xxmaj insurance xxmaj claim xxmaj peter xxmaj xxunk was set for the vacation of a lifetime -- a nine - day xxmaj ireland tour from xxmaj dublin to xxmaj xxunk booked through,xxbos 28 xxmaj valentine 's xxmaj day xxmaj nail xxmaj art xxmaj ideas xxmaj to xxmaj put xxmaj you xxmaj in xxmaj the xxmaj mood xxmaj for xxmaj love ( xxup photos ) xxmaj not every girl 's idea of dressing up for xxmaj valentine 's xxmaj day includes head - to - toe bubblegum pink or cherry red . xxmaj and i wo n't even\n",
              "y: CategoryList\n",
              "BUSINESS,HEALTHY LIVING,WORLD NEWS,TRAVEL,STYLE & BEAUTY\n",
              "Path: /content/drive/My Drive/Data/News_Category_Dataset_v2.json;\n",
              "\n",
              "Test: None, model=SequentialRNN(\n",
              "  (0): MultiBatchEncoder(\n",
              "    (module): AWD_LSTM(\n",
              "      (encoder): Embedding(48368, 400, padding_idx=1)\n",
              "      (encoder_dp): EmbeddingDropout(\n",
              "        (emb): Embedding(48368, 400, padding_idx=1)\n",
              "      )\n",
              "      (rnns): ModuleList(\n",
              "        (0): WeightDropout(\n",
              "          (module): LSTM(400, 1152, batch_first=True)\n",
              "        )\n",
              "        (1): WeightDropout(\n",
              "          (module): LSTM(1152, 1152, batch_first=True)\n",
              "        )\n",
              "        (2): WeightDropout(\n",
              "          (module): LSTM(1152, 400, batch_first=True)\n",
              "        )\n",
              "      )\n",
              "      (input_dp): RNNDropout()\n",
              "      (hidden_dps): ModuleList(\n",
              "        (0): RNNDropout()\n",
              "        (1): RNNDropout()\n",
              "        (2): RNNDropout()\n",
              "      )\n",
              "    )\n",
              "  )\n",
              "  (1): PoolingLinearClassifier(\n",
              "    (layers): Sequential(\n",
              "      (0): BatchNorm1d(1200, eps=1e-05, momentum=0.1, affine=True, track_running_stats=True)\n",
              "      (1): Dropout(p=0.2, inplace=False)\n",
              "      (2): Linear(in_features=1200, out_features=50, bias=True)\n",
              "      (3): ReLU(inplace=True)\n",
              "      (4): BatchNorm1d(50, eps=1e-05, momentum=0.1, affine=True, track_running_stats=True)\n",
              "      (5): Dropout(p=0.1, inplace=False)\n",
              "      (6): Linear(in_features=50, out_features=31, bias=True)\n",
              "    )\n",
              "  )\n",
              "), opt_func=functools.partial(<class 'torch.optim.adam.Adam'>, betas=(0.9, 0.99)), loss_func=FlattenedLoss of CrossEntropyLoss(), metrics=[<function accuracy at 0x7fc653751378>], true_wd=True, bn_wd=True, wd=0.01, train_bn=True, path=PosixPath('/content/drive/My Drive/Data'), model_dir='models', callback_fns=[functools.partial(<class 'fastai.basic_train.Recorder'>, add_time=True, silent=False)], callbacks=[...], layer_groups=[Sequential(\n",
              "  (0): Embedding(48368, 400, padding_idx=1)\n",
              "  (1): EmbeddingDropout(\n",
              "    (emb): Embedding(48368, 400, padding_idx=1)\n",
              "  )\n",
              "), Sequential(\n",
              "  (0): WeightDropout(\n",
              "    (module): LSTM(400, 1152, batch_first=True)\n",
              "  )\n",
              "  (1): RNNDropout()\n",
              "), Sequential(\n",
              "  (0): WeightDropout(\n",
              "    (module): LSTM(1152, 1152, batch_first=True)\n",
              "  )\n",
              "  (1): RNNDropout()\n",
              "), Sequential(\n",
              "  (0): WeightDropout(\n",
              "    (module): LSTM(1152, 400, batch_first=True)\n",
              "  )\n",
              "  (1): RNNDropout()\n",
              "), Sequential(\n",
              "  (0): PoolingLinearClassifier(\n",
              "    (layers): Sequential(\n",
              "      (0): BatchNorm1d(1200, eps=1e-05, momentum=0.1, affine=True, track_running_stats=True)\n",
              "      (1): Dropout(p=0.2, inplace=False)\n",
              "      (2): Linear(in_features=1200, out_features=50, bias=True)\n",
              "      (3): ReLU(inplace=True)\n",
              "      (4): BatchNorm1d(50, eps=1e-05, momentum=0.1, affine=True, track_running_stats=True)\n",
              "      (5): Dropout(p=0.1, inplace=False)\n",
              "      (6): Linear(in_features=50, out_features=31, bias=True)\n",
              "    )\n",
              "  )\n",
              ")], add_time=True, silent=False)\n",
              "alpha: 2.0\n",
              "beta: 1.0], layer_groups=[Sequential(\n",
              "  (0): Embedding(48368, 400, padding_idx=1)\n",
              "  (1): EmbeddingDropout(\n",
              "    (emb): Embedding(48368, 400, padding_idx=1)\n",
              "  )\n",
              "), Sequential(\n",
              "  (0): WeightDropout(\n",
              "    (module): LSTM(400, 1152, batch_first=True)\n",
              "  )\n",
              "  (1): RNNDropout()\n",
              "), Sequential(\n",
              "  (0): WeightDropout(\n",
              "    (module): LSTM(1152, 1152, batch_first=True)\n",
              "  )\n",
              "  (1): RNNDropout()\n",
              "), Sequential(\n",
              "  (0): WeightDropout(\n",
              "    (module): LSTM(1152, 400, batch_first=True)\n",
              "  )\n",
              "  (1): RNNDropout()\n",
              "), Sequential(\n",
              "  (0): PoolingLinearClassifier(\n",
              "    (layers): Sequential(\n",
              "      (0): BatchNorm1d(1200, eps=1e-05, momentum=0.1, affine=True, track_running_stats=True)\n",
              "      (1): Dropout(p=0.2, inplace=False)\n",
              "      (2): Linear(in_features=1200, out_features=50, bias=True)\n",
              "      (3): ReLU(inplace=True)\n",
              "      (4): BatchNorm1d(50, eps=1e-05, momentum=0.1, affine=True, track_running_stats=True)\n",
              "      (5): Dropout(p=0.1, inplace=False)\n",
              "      (6): Linear(in_features=50, out_features=31, bias=True)\n",
              "    )\n",
              "  )\n",
              ")], add_time=True, silent=False)"
            ]
          },
          "metadata": {
            "tags": []
          },
          "execution_count": 52
        }
      ]
    },
    {
      "cell_type": "code",
      "metadata": {
        "id": "uDMJNoZJuz_w",
        "colab_type": "code",
        "colab": {
          "base_uri": "https://localhost:8080/",
          "height": 80
        },
        "outputId": "465ed487-6878-4739-f3b9-a605b290fad0"
      },
      "source": [
        "learn.freeze_to(-3)\n",
        "lr /= 2\n",
        "learn.fit_one_cycle(1, slice(lr/(2.6**4),lr), moms=(0.8,0.7), wd=0.1)"
      ],
      "execution_count": 53,
      "outputs": [
        {
          "output_type": "display_data",
          "data": {
            "text/html": [
              "<table border=\"1\" class=\"dataframe\">\n",
              "  <thead>\n",
              "    <tr style=\"text-align: left;\">\n",
              "      <th>epoch</th>\n",
              "      <th>train_loss</th>\n",
              "      <th>valid_loss</th>\n",
              "      <th>accuracy</th>\n",
              "      <th>time</th>\n",
              "    </tr>\n",
              "  </thead>\n",
              "  <tbody>\n",
              "    <tr>\n",
              "      <td>0</td>\n",
              "      <td>1.059443</td>\n",
              "      <td>0.947615</td>\n",
              "      <td>0.720154</td>\n",
              "      <td>04:30</td>\n",
              "    </tr>\n",
              "  </tbody>\n",
              "</table>"
            ],
            "text/plain": [
              "<IPython.core.display.HTML object>"
            ]
          },
          "metadata": {
            "tags": []
          }
        }
      ]
    },
    {
      "cell_type": "code",
      "metadata": {
        "id": "_H4Wt-qvFD8-",
        "colab_type": "code",
        "colab": {}
      },
      "source": [
        "learn.save('last3')"
      ],
      "execution_count": 0,
      "outputs": []
    },
    {
      "cell_type": "code",
      "metadata": {
        "id": "o7HLw_LHFGuL",
        "colab_type": "code",
        "colab": {
          "base_uri": "https://localhost:8080/",
          "height": 1000
        },
        "outputId": "0590527d-57f5-4b43-f1ad-8c2a68951e71"
      },
      "source": [
        "learn.load('last3')"
      ],
      "execution_count": 55,
      "outputs": [
        {
          "output_type": "execute_result",
          "data": {
            "text/plain": [
              "RNNLearner(data=TextClasDataBunch;\n",
              "\n",
              "Train: LabelList (144438 items)\n",
              "x: TextList\n",
              "xxbos xxmaj luke xxmaj from ' xxmaj gilmore xxmaj girls ' xxmaj is xxmaj getting xxmaj his xxmaj own xxmaj line xxmaj of xxmaj coffee xxmaj we have a feeling xxmaj lorelai would 've loved this .,xxbos xxmaj the xxmaj huffington xxmaj post xxmaj is xxmaj hiring a xxmaj tech xxmaj reporter xxmaj the ideal candidate will have at least three years of experience writing for major publications and a demonstrated interest in gadgets , tech business , the future of our planet and sustainability .,xxbos xxmaj simple xxmaj greek : xxmaj baked xxmaj sardines xxmaj from xxmaj diane xxmaj kochilas xxmaj diane xxmaj kochilas of xxmaj molyvos gives her advice for cooking xxmaj greek food -- such as ingredients like olives , oregano , fennel , feta cheese and citrus -- and then she showcases a traditional recipe from xxmaj lesvos , baked sardines . xxmaj she shows us how to make baked sardines and explains why it is such an essential dish for xxmaj greece .,xxbos xxmaj political xxmaj workout xxmaj music xxmaj for xxmaj the xxmaj convention xxmaj glued to the conventions ? xxmaj if around - the - clock coverage of the xxmaj republican xxmaj national xxmaj convention is getting in the way of your exercise regime , we 're here to help .,xxbos xxup ap xxmaj uses xxmaj jordan xxmaj peele xxmaj photo xxmaj while xxmaj tweeting xxmaj about xxmaj james xxmaj franco xxmaj misconduct xxmaj allegations “ xxmaj um ... weird photo choice ? ” xxmaj peele tweeted in response to the mistake .\n",
              "y: CategoryList\n",
              "FOOD & DRINK,TECH,FOOD & DRINK,HEALTHY LIVING,BLACK VOICES\n",
              "Path: /content/drive/My Drive/Data/News_Category_Dataset_v2.json;\n",
              "\n",
              "Valid: LabelList (25489 items)\n",
              "x: TextList\n",
              "xxbos ‘ xxmaj nobody xxmaj speak ’ : xxmaj how xxmaj billionaires xxmaj are xxmaj silencing the xxmaj first xxmaj amendment xxmaj when documentary filmmaker xxmaj brian xxmaj xxunk set out to make a film about xxmaj hulk xxmaj hogan ’s lawsuit against xxmaj gawker xxmaj media , he,xxbos xxmaj this xxmaj couple 's xxmaj biggest xxmaj adventure xxmaj began xxmaj when xxmaj they xxmaj switched xxmaj from xxmaj coffee xxmaj to xxmaj green xxmaj tea,xxbos xxmaj an xxmaj interview xxmaj with xxmaj former xxmaj president xxmaj of xxmaj the xxup eu xxmaj parliament xxmaj nicole xxmaj fontaine : xxmaj brexit , xxmaj the xxmaj trump xxmaj administration , xxmaj and xxmaj advice xxmaj for xxmaj women xxmaj in xxmaj the xxmaj workplace a charming woman with a fiery spirit , xxmaj fontaine pulls no punches when speaking about the shortcomings of the xxmaj european xxmaj union .,xxbos 5 xxmaj things xxmaj you xxmaj must xxmaj do xxmaj before xxmaj you xxmaj file xxmaj your xxmaj travel xxmaj insurance xxmaj claim xxmaj peter xxmaj xxunk was set for the vacation of a lifetime -- a nine - day xxmaj ireland tour from xxmaj dublin to xxmaj xxunk booked through,xxbos 28 xxmaj valentine 's xxmaj day xxmaj nail xxmaj art xxmaj ideas xxmaj to xxmaj put xxmaj you xxmaj in xxmaj the xxmaj mood xxmaj for xxmaj love ( xxup photos ) xxmaj not every girl 's idea of dressing up for xxmaj valentine 's xxmaj day includes head - to - toe bubblegum pink or cherry red . xxmaj and i wo n't even\n",
              "y: CategoryList\n",
              "BUSINESS,HEALTHY LIVING,WORLD NEWS,TRAVEL,STYLE & BEAUTY\n",
              "Path: /content/drive/My Drive/Data/News_Category_Dataset_v2.json;\n",
              "\n",
              "Test: None, model=SequentialRNN(\n",
              "  (0): MultiBatchEncoder(\n",
              "    (module): AWD_LSTM(\n",
              "      (encoder): Embedding(48368, 400, padding_idx=1)\n",
              "      (encoder_dp): EmbeddingDropout(\n",
              "        (emb): Embedding(48368, 400, padding_idx=1)\n",
              "      )\n",
              "      (rnns): ModuleList(\n",
              "        (0): WeightDropout(\n",
              "          (module): LSTM(400, 1152, batch_first=True)\n",
              "        )\n",
              "        (1): WeightDropout(\n",
              "          (module): LSTM(1152, 1152, batch_first=True)\n",
              "        )\n",
              "        (2): WeightDropout(\n",
              "          (module): LSTM(1152, 400, batch_first=True)\n",
              "        )\n",
              "      )\n",
              "      (input_dp): RNNDropout()\n",
              "      (hidden_dps): ModuleList(\n",
              "        (0): RNNDropout()\n",
              "        (1): RNNDropout()\n",
              "        (2): RNNDropout()\n",
              "      )\n",
              "    )\n",
              "  )\n",
              "  (1): PoolingLinearClassifier(\n",
              "    (layers): Sequential(\n",
              "      (0): BatchNorm1d(1200, eps=1e-05, momentum=0.1, affine=True, track_running_stats=True)\n",
              "      (1): Dropout(p=0.2, inplace=False)\n",
              "      (2): Linear(in_features=1200, out_features=50, bias=True)\n",
              "      (3): ReLU(inplace=True)\n",
              "      (4): BatchNorm1d(50, eps=1e-05, momentum=0.1, affine=True, track_running_stats=True)\n",
              "      (5): Dropout(p=0.1, inplace=False)\n",
              "      (6): Linear(in_features=50, out_features=31, bias=True)\n",
              "    )\n",
              "  )\n",
              "), opt_func=functools.partial(<class 'torch.optim.adam.Adam'>, betas=(0.9, 0.99)), loss_func=FlattenedLoss of CrossEntropyLoss(), metrics=[<function accuracy at 0x7fc653751378>], true_wd=True, bn_wd=True, wd=0.01, train_bn=True, path=PosixPath('/content/drive/My Drive/Data'), model_dir='models', callback_fns=[functools.partial(<class 'fastai.basic_train.Recorder'>, add_time=True, silent=False)], callbacks=[RNNTrainer\n",
              "learn: RNNLearner(data=TextClasDataBunch;\n",
              "\n",
              "Train: LabelList (144438 items)\n",
              "x: TextList\n",
              "xxbos xxmaj luke xxmaj from ' xxmaj gilmore xxmaj girls ' xxmaj is xxmaj getting xxmaj his xxmaj own xxmaj line xxmaj of xxmaj coffee xxmaj we have a feeling xxmaj lorelai would 've loved this .,xxbos xxmaj the xxmaj huffington xxmaj post xxmaj is xxmaj hiring a xxmaj tech xxmaj reporter xxmaj the ideal candidate will have at least three years of experience writing for major publications and a demonstrated interest in gadgets , tech business , the future of our planet and sustainability .,xxbos xxmaj simple xxmaj greek : xxmaj baked xxmaj sardines xxmaj from xxmaj diane xxmaj kochilas xxmaj diane xxmaj kochilas of xxmaj molyvos gives her advice for cooking xxmaj greek food -- such as ingredients like olives , oregano , fennel , feta cheese and citrus -- and then she showcases a traditional recipe from xxmaj lesvos , baked sardines . xxmaj she shows us how to make baked sardines and explains why it is such an essential dish for xxmaj greece .,xxbos xxmaj political xxmaj workout xxmaj music xxmaj for xxmaj the xxmaj convention xxmaj glued to the conventions ? xxmaj if around - the - clock coverage of the xxmaj republican xxmaj national xxmaj convention is getting in the way of your exercise regime , we 're here to help .,xxbos xxup ap xxmaj uses xxmaj jordan xxmaj peele xxmaj photo xxmaj while xxmaj tweeting xxmaj about xxmaj james xxmaj franco xxmaj misconduct xxmaj allegations “ xxmaj um ... weird photo choice ? ” xxmaj peele tweeted in response to the mistake .\n",
              "y: CategoryList\n",
              "FOOD & DRINK,TECH,FOOD & DRINK,HEALTHY LIVING,BLACK VOICES\n",
              "Path: /content/drive/My Drive/Data/News_Category_Dataset_v2.json;\n",
              "\n",
              "Valid: LabelList (25489 items)\n",
              "x: TextList\n",
              "xxbos ‘ xxmaj nobody xxmaj speak ’ : xxmaj how xxmaj billionaires xxmaj are xxmaj silencing the xxmaj first xxmaj amendment xxmaj when documentary filmmaker xxmaj brian xxmaj xxunk set out to make a film about xxmaj hulk xxmaj hogan ’s lawsuit against xxmaj gawker xxmaj media , he,xxbos xxmaj this xxmaj couple 's xxmaj biggest xxmaj adventure xxmaj began xxmaj when xxmaj they xxmaj switched xxmaj from xxmaj coffee xxmaj to xxmaj green xxmaj tea,xxbos xxmaj an xxmaj interview xxmaj with xxmaj former xxmaj president xxmaj of xxmaj the xxup eu xxmaj parliament xxmaj nicole xxmaj fontaine : xxmaj brexit , xxmaj the xxmaj trump xxmaj administration , xxmaj and xxmaj advice xxmaj for xxmaj women xxmaj in xxmaj the xxmaj workplace a charming woman with a fiery spirit , xxmaj fontaine pulls no punches when speaking about the shortcomings of the xxmaj european xxmaj union .,xxbos 5 xxmaj things xxmaj you xxmaj must xxmaj do xxmaj before xxmaj you xxmaj file xxmaj your xxmaj travel xxmaj insurance xxmaj claim xxmaj peter xxmaj xxunk was set for the vacation of a lifetime -- a nine - day xxmaj ireland tour from xxmaj dublin to xxmaj xxunk booked through,xxbos 28 xxmaj valentine 's xxmaj day xxmaj nail xxmaj art xxmaj ideas xxmaj to xxmaj put xxmaj you xxmaj in xxmaj the xxmaj mood xxmaj for xxmaj love ( xxup photos ) xxmaj not every girl 's idea of dressing up for xxmaj valentine 's xxmaj day includes head - to - toe bubblegum pink or cherry red . xxmaj and i wo n't even\n",
              "y: CategoryList\n",
              "BUSINESS,HEALTHY LIVING,WORLD NEWS,TRAVEL,STYLE & BEAUTY\n",
              "Path: /content/drive/My Drive/Data/News_Category_Dataset_v2.json;\n",
              "\n",
              "Test: None, model=SequentialRNN(\n",
              "  (0): MultiBatchEncoder(\n",
              "    (module): AWD_LSTM(\n",
              "      (encoder): Embedding(48368, 400, padding_idx=1)\n",
              "      (encoder_dp): EmbeddingDropout(\n",
              "        (emb): Embedding(48368, 400, padding_idx=1)\n",
              "      )\n",
              "      (rnns): ModuleList(\n",
              "        (0): WeightDropout(\n",
              "          (module): LSTM(400, 1152, batch_first=True)\n",
              "        )\n",
              "        (1): WeightDropout(\n",
              "          (module): LSTM(1152, 1152, batch_first=True)\n",
              "        )\n",
              "        (2): WeightDropout(\n",
              "          (module): LSTM(1152, 400, batch_first=True)\n",
              "        )\n",
              "      )\n",
              "      (input_dp): RNNDropout()\n",
              "      (hidden_dps): ModuleList(\n",
              "        (0): RNNDropout()\n",
              "        (1): RNNDropout()\n",
              "        (2): RNNDropout()\n",
              "      )\n",
              "    )\n",
              "  )\n",
              "  (1): PoolingLinearClassifier(\n",
              "    (layers): Sequential(\n",
              "      (0): BatchNorm1d(1200, eps=1e-05, momentum=0.1, affine=True, track_running_stats=True)\n",
              "      (1): Dropout(p=0.2, inplace=False)\n",
              "      (2): Linear(in_features=1200, out_features=50, bias=True)\n",
              "      (3): ReLU(inplace=True)\n",
              "      (4): BatchNorm1d(50, eps=1e-05, momentum=0.1, affine=True, track_running_stats=True)\n",
              "      (5): Dropout(p=0.1, inplace=False)\n",
              "      (6): Linear(in_features=50, out_features=31, bias=True)\n",
              "    )\n",
              "  )\n",
              "), opt_func=functools.partial(<class 'torch.optim.adam.Adam'>, betas=(0.9, 0.99)), loss_func=FlattenedLoss of CrossEntropyLoss(), metrics=[<function accuracy at 0x7fc653751378>], true_wd=True, bn_wd=True, wd=0.01, train_bn=True, path=PosixPath('/content/drive/My Drive/Data'), model_dir='models', callback_fns=[functools.partial(<class 'fastai.basic_train.Recorder'>, add_time=True, silent=False)], callbacks=[...], layer_groups=[Sequential(\n",
              "  (0): Embedding(48368, 400, padding_idx=1)\n",
              "  (1): EmbeddingDropout(\n",
              "    (emb): Embedding(48368, 400, padding_idx=1)\n",
              "  )\n",
              "), Sequential(\n",
              "  (0): WeightDropout(\n",
              "    (module): LSTM(400, 1152, batch_first=True)\n",
              "  )\n",
              "  (1): RNNDropout()\n",
              "), Sequential(\n",
              "  (0): WeightDropout(\n",
              "    (module): LSTM(1152, 1152, batch_first=True)\n",
              "  )\n",
              "  (1): RNNDropout()\n",
              "), Sequential(\n",
              "  (0): WeightDropout(\n",
              "    (module): LSTM(1152, 400, batch_first=True)\n",
              "  )\n",
              "  (1): RNNDropout()\n",
              "), Sequential(\n",
              "  (0): PoolingLinearClassifier(\n",
              "    (layers): Sequential(\n",
              "      (0): BatchNorm1d(1200, eps=1e-05, momentum=0.1, affine=True, track_running_stats=True)\n",
              "      (1): Dropout(p=0.2, inplace=False)\n",
              "      (2): Linear(in_features=1200, out_features=50, bias=True)\n",
              "      (3): ReLU(inplace=True)\n",
              "      (4): BatchNorm1d(50, eps=1e-05, momentum=0.1, affine=True, track_running_stats=True)\n",
              "      (5): Dropout(p=0.1, inplace=False)\n",
              "      (6): Linear(in_features=50, out_features=31, bias=True)\n",
              "    )\n",
              "  )\n",
              ")], add_time=True, silent=False)\n",
              "alpha: 2.0\n",
              "beta: 1.0], layer_groups=[Sequential(\n",
              "  (0): Embedding(48368, 400, padding_idx=1)\n",
              "  (1): EmbeddingDropout(\n",
              "    (emb): Embedding(48368, 400, padding_idx=1)\n",
              "  )\n",
              "), Sequential(\n",
              "  (0): WeightDropout(\n",
              "    (module): LSTM(400, 1152, batch_first=True)\n",
              "  )\n",
              "  (1): RNNDropout()\n",
              "), Sequential(\n",
              "  (0): WeightDropout(\n",
              "    (module): LSTM(1152, 1152, batch_first=True)\n",
              "  )\n",
              "  (1): RNNDropout()\n",
              "), Sequential(\n",
              "  (0): WeightDropout(\n",
              "    (module): LSTM(1152, 400, batch_first=True)\n",
              "  )\n",
              "  (1): RNNDropout()\n",
              "), Sequential(\n",
              "  (0): PoolingLinearClassifier(\n",
              "    (layers): Sequential(\n",
              "      (0): BatchNorm1d(1200, eps=1e-05, momentum=0.1, affine=True, track_running_stats=True)\n",
              "      (1): Dropout(p=0.2, inplace=False)\n",
              "      (2): Linear(in_features=1200, out_features=50, bias=True)\n",
              "      (3): ReLU(inplace=True)\n",
              "      (4): BatchNorm1d(50, eps=1e-05, momentum=0.1, affine=True, track_running_stats=True)\n",
              "      (5): Dropout(p=0.1, inplace=False)\n",
              "      (6): Linear(in_features=50, out_features=31, bias=True)\n",
              "    )\n",
              "  )\n",
              ")], add_time=True, silent=False)"
            ]
          },
          "metadata": {
            "tags": []
          },
          "execution_count": 55
        }
      ]
    },
    {
      "cell_type": "code",
      "metadata": {
        "id": "m260FSSGu04B",
        "colab_type": "code",
        "colab": {
          "base_uri": "https://localhost:8080/",
          "height": 359
        },
        "outputId": "3b4b0cba-9a73-409e-e51f-4b216a4c3afa"
      },
      "source": [
        "learn.unfreeze()\n",
        "lr /= 5\n",
        "learn.fit_one_cycle(10, slice(lr/(2.6**4),lr), moms=(0.8,0.7), wd=0.1)"
      ],
      "execution_count": 56,
      "outputs": [
        {
          "output_type": "display_data",
          "data": {
            "text/html": [
              "<table border=\"1\" class=\"dataframe\">\n",
              "  <thead>\n",
              "    <tr style=\"text-align: left;\">\n",
              "      <th>epoch</th>\n",
              "      <th>train_loss</th>\n",
              "      <th>valid_loss</th>\n",
              "      <th>accuracy</th>\n",
              "      <th>time</th>\n",
              "    </tr>\n",
              "  </thead>\n",
              "  <tbody>\n",
              "    <tr>\n",
              "      <td>0</td>\n",
              "      <td>0.975720</td>\n",
              "      <td>0.936779</td>\n",
              "      <td>0.723606</td>\n",
              "      <td>06:09</td>\n",
              "    </tr>\n",
              "    <tr>\n",
              "      <td>1</td>\n",
              "      <td>0.952977</td>\n",
              "      <td>0.929297</td>\n",
              "      <td>0.726784</td>\n",
              "      <td>06:27</td>\n",
              "    </tr>\n",
              "    <tr>\n",
              "      <td>2</td>\n",
              "      <td>0.936199</td>\n",
              "      <td>0.916819</td>\n",
              "      <td>0.730668</td>\n",
              "      <td>06:28</td>\n",
              "    </tr>\n",
              "    <tr>\n",
              "      <td>3</td>\n",
              "      <td>0.909337</td>\n",
              "      <td>0.906673</td>\n",
              "      <td>0.732983</td>\n",
              "      <td>05:57</td>\n",
              "    </tr>\n",
              "    <tr>\n",
              "      <td>4</td>\n",
              "      <td>0.852579</td>\n",
              "      <td>0.905054</td>\n",
              "      <td>0.734552</td>\n",
              "      <td>06:05</td>\n",
              "    </tr>\n",
              "    <tr>\n",
              "      <td>5</td>\n",
              "      <td>0.841902</td>\n",
              "      <td>0.902857</td>\n",
              "      <td>0.736788</td>\n",
              "      <td>06:30</td>\n",
              "    </tr>\n",
              "    <tr>\n",
              "      <td>6</td>\n",
              "      <td>0.793678</td>\n",
              "      <td>0.902617</td>\n",
              "      <td>0.735965</td>\n",
              "      <td>06:25</td>\n",
              "    </tr>\n",
              "    <tr>\n",
              "      <td>7</td>\n",
              "      <td>0.732816</td>\n",
              "      <td>0.900760</td>\n",
              "      <td>0.738240</td>\n",
              "      <td>05:53</td>\n",
              "    </tr>\n",
              "    <tr>\n",
              "      <td>8</td>\n",
              "      <td>0.687144</td>\n",
              "      <td>0.904889</td>\n",
              "      <td>0.738397</td>\n",
              "      <td>06:30</td>\n",
              "    </tr>\n",
              "    <tr>\n",
              "      <td>9</td>\n",
              "      <td>0.724657</td>\n",
              "      <td>0.901386</td>\n",
              "      <td>0.738358</td>\n",
              "      <td>05:47</td>\n",
              "    </tr>\n",
              "  </tbody>\n",
              "</table>"
            ],
            "text/plain": [
              "<IPython.core.display.HTML object>"
            ]
          },
          "metadata": {
            "tags": []
          }
        }
      ]
    },
    {
      "cell_type": "code",
      "metadata": {
        "id": "JVUAvlg62GHg",
        "colab_type": "code",
        "colab": {}
      },
      "source": [
        "learn.save('fwd_clas')"
      ],
      "execution_count": 0,
      "outputs": []
    },
    {
      "cell_type": "code",
      "metadata": {
        "id": "Yu-eet51O2KT",
        "colab_type": "code",
        "outputId": "92ba636f-8983-4dc1-86e1-671b0234bc66",
        "colab": {
          "base_uri": "https://localhost:8080/",
          "height": 17
        }
      },
      "source": [
        "preds,targs = learn.get_preds(ordered=True)"
      ],
      "execution_count": 58,
      "outputs": [
        {
          "output_type": "display_data",
          "data": {
            "text/html": [
              ""
            ],
            "text/plain": [
              "<IPython.core.display.HTML object>"
            ]
          },
          "metadata": {
            "tags": []
          }
        }
      ]
    },
    {
      "cell_type": "code",
      "metadata": {
        "id": "Qgpgo8SjO98q",
        "colab_type": "code",
        "outputId": "9e24d588-d637-4550-c379-3a719f80410c",
        "colab": {
          "base_uri": "https://localhost:8080/",
          "height": 34
        }
      },
      "source": [
        "accuracy(preds,targs)"
      ],
      "execution_count": 59,
      "outputs": [
        {
          "output_type": "execute_result",
          "data": {
            "text/plain": [
              "tensor(0.7384)"
            ]
          },
          "metadata": {
            "tags": []
          },
          "execution_count": 59
        }
      ]
    },
    {
      "cell_type": "code",
      "metadata": {
        "id": "RNnSiJ5KF--Z",
        "colab_type": "code",
        "colab": {
          "base_uri": "https://localhost:8080/",
          "height": 1000
        },
        "outputId": "dda20597-df6a-4939-da0d-1a556319ce38"
      },
      "source": [
        "learn.load('fwd_clas')"
      ],
      "execution_count": 60,
      "outputs": [
        {
          "output_type": "execute_result",
          "data": {
            "text/plain": [
              "RNNLearner(data=TextClasDataBunch;\n",
              "\n",
              "Train: LabelList (144438 items)\n",
              "x: TextList\n",
              "xxbos xxmaj luke xxmaj from ' xxmaj gilmore xxmaj girls ' xxmaj is xxmaj getting xxmaj his xxmaj own xxmaj line xxmaj of xxmaj coffee xxmaj we have a feeling xxmaj lorelai would 've loved this .,xxbos xxmaj the xxmaj huffington xxmaj post xxmaj is xxmaj hiring a xxmaj tech xxmaj reporter xxmaj the ideal candidate will have at least three years of experience writing for major publications and a demonstrated interest in gadgets , tech business , the future of our planet and sustainability .,xxbos xxmaj simple xxmaj greek : xxmaj baked xxmaj sardines xxmaj from xxmaj diane xxmaj kochilas xxmaj diane xxmaj kochilas of xxmaj molyvos gives her advice for cooking xxmaj greek food -- such as ingredients like olives , oregano , fennel , feta cheese and citrus -- and then she showcases a traditional recipe from xxmaj lesvos , baked sardines . xxmaj she shows us how to make baked sardines and explains why it is such an essential dish for xxmaj greece .,xxbos xxmaj political xxmaj workout xxmaj music xxmaj for xxmaj the xxmaj convention xxmaj glued to the conventions ? xxmaj if around - the - clock coverage of the xxmaj republican xxmaj national xxmaj convention is getting in the way of your exercise regime , we 're here to help .,xxbos xxup ap xxmaj uses xxmaj jordan xxmaj peele xxmaj photo xxmaj while xxmaj tweeting xxmaj about xxmaj james xxmaj franco xxmaj misconduct xxmaj allegations “ xxmaj um ... weird photo choice ? ” xxmaj peele tweeted in response to the mistake .\n",
              "y: CategoryList\n",
              "FOOD & DRINK,TECH,FOOD & DRINK,HEALTHY LIVING,BLACK VOICES\n",
              "Path: /content/drive/My Drive/Data/News_Category_Dataset_v2.json;\n",
              "\n",
              "Valid: LabelList (25489 items)\n",
              "x: TextList\n",
              "xxbos ‘ xxmaj nobody xxmaj speak ’ : xxmaj how xxmaj billionaires xxmaj are xxmaj silencing the xxmaj first xxmaj amendment xxmaj when documentary filmmaker xxmaj brian xxmaj xxunk set out to make a film about xxmaj hulk xxmaj hogan ’s lawsuit against xxmaj gawker xxmaj media , he,xxbos xxmaj this xxmaj couple 's xxmaj biggest xxmaj adventure xxmaj began xxmaj when xxmaj they xxmaj switched xxmaj from xxmaj coffee xxmaj to xxmaj green xxmaj tea,xxbos xxmaj an xxmaj interview xxmaj with xxmaj former xxmaj president xxmaj of xxmaj the xxup eu xxmaj parliament xxmaj nicole xxmaj fontaine : xxmaj brexit , xxmaj the xxmaj trump xxmaj administration , xxmaj and xxmaj advice xxmaj for xxmaj women xxmaj in xxmaj the xxmaj workplace a charming woman with a fiery spirit , xxmaj fontaine pulls no punches when speaking about the shortcomings of the xxmaj european xxmaj union .,xxbos 5 xxmaj things xxmaj you xxmaj must xxmaj do xxmaj before xxmaj you xxmaj file xxmaj your xxmaj travel xxmaj insurance xxmaj claim xxmaj peter xxmaj xxunk was set for the vacation of a lifetime -- a nine - day xxmaj ireland tour from xxmaj dublin to xxmaj xxunk booked through,xxbos 28 xxmaj valentine 's xxmaj day xxmaj nail xxmaj art xxmaj ideas xxmaj to xxmaj put xxmaj you xxmaj in xxmaj the xxmaj mood xxmaj for xxmaj love ( xxup photos ) xxmaj not every girl 's idea of dressing up for xxmaj valentine 's xxmaj day includes head - to - toe bubblegum pink or cherry red . xxmaj and i wo n't even\n",
              "y: CategoryList\n",
              "BUSINESS,HEALTHY LIVING,WORLD NEWS,TRAVEL,STYLE & BEAUTY\n",
              "Path: /content/drive/My Drive/Data/News_Category_Dataset_v2.json;\n",
              "\n",
              "Test: None, model=SequentialRNN(\n",
              "  (0): MultiBatchEncoder(\n",
              "    (module): AWD_LSTM(\n",
              "      (encoder): Embedding(48368, 400, padding_idx=1)\n",
              "      (encoder_dp): EmbeddingDropout(\n",
              "        (emb): Embedding(48368, 400, padding_idx=1)\n",
              "      )\n",
              "      (rnns): ModuleList(\n",
              "        (0): WeightDropout(\n",
              "          (module): LSTM(400, 1152, batch_first=True)\n",
              "        )\n",
              "        (1): WeightDropout(\n",
              "          (module): LSTM(1152, 1152, batch_first=True)\n",
              "        )\n",
              "        (2): WeightDropout(\n",
              "          (module): LSTM(1152, 400, batch_first=True)\n",
              "        )\n",
              "      )\n",
              "      (input_dp): RNNDropout()\n",
              "      (hidden_dps): ModuleList(\n",
              "        (0): RNNDropout()\n",
              "        (1): RNNDropout()\n",
              "        (2): RNNDropout()\n",
              "      )\n",
              "    )\n",
              "  )\n",
              "  (1): PoolingLinearClassifier(\n",
              "    (layers): Sequential(\n",
              "      (0): BatchNorm1d(1200, eps=1e-05, momentum=0.1, affine=True, track_running_stats=True)\n",
              "      (1): Dropout(p=0.2, inplace=False)\n",
              "      (2): Linear(in_features=1200, out_features=50, bias=True)\n",
              "      (3): ReLU(inplace=True)\n",
              "      (4): BatchNorm1d(50, eps=1e-05, momentum=0.1, affine=True, track_running_stats=True)\n",
              "      (5): Dropout(p=0.1, inplace=False)\n",
              "      (6): Linear(in_features=50, out_features=31, bias=True)\n",
              "    )\n",
              "  )\n",
              "), opt_func=functools.partial(<class 'torch.optim.adam.Adam'>, betas=(0.9, 0.99)), loss_func=FlattenedLoss of CrossEntropyLoss(), metrics=[<function accuracy at 0x7fc653751378>], true_wd=True, bn_wd=True, wd=0.01, train_bn=True, path=PosixPath('/content/drive/My Drive/Data'), model_dir='models', callback_fns=[functools.partial(<class 'fastai.basic_train.Recorder'>, add_time=True, silent=False)], callbacks=[RNNTrainer\n",
              "learn: RNNLearner(data=TextClasDataBunch;\n",
              "\n",
              "Train: LabelList (144438 items)\n",
              "x: TextList\n",
              "xxbos xxmaj luke xxmaj from ' xxmaj gilmore xxmaj girls ' xxmaj is xxmaj getting xxmaj his xxmaj own xxmaj line xxmaj of xxmaj coffee xxmaj we have a feeling xxmaj lorelai would 've loved this .,xxbos xxmaj the xxmaj huffington xxmaj post xxmaj is xxmaj hiring a xxmaj tech xxmaj reporter xxmaj the ideal candidate will have at least three years of experience writing for major publications and a demonstrated interest in gadgets , tech business , the future of our planet and sustainability .,xxbos xxmaj simple xxmaj greek : xxmaj baked xxmaj sardines xxmaj from xxmaj diane xxmaj kochilas xxmaj diane xxmaj kochilas of xxmaj molyvos gives her advice for cooking xxmaj greek food -- such as ingredients like olives , oregano , fennel , feta cheese and citrus -- and then she showcases a traditional recipe from xxmaj lesvos , baked sardines . xxmaj she shows us how to make baked sardines and explains why it is such an essential dish for xxmaj greece .,xxbos xxmaj political xxmaj workout xxmaj music xxmaj for xxmaj the xxmaj convention xxmaj glued to the conventions ? xxmaj if around - the - clock coverage of the xxmaj republican xxmaj national xxmaj convention is getting in the way of your exercise regime , we 're here to help .,xxbos xxup ap xxmaj uses xxmaj jordan xxmaj peele xxmaj photo xxmaj while xxmaj tweeting xxmaj about xxmaj james xxmaj franco xxmaj misconduct xxmaj allegations “ xxmaj um ... weird photo choice ? ” xxmaj peele tweeted in response to the mistake .\n",
              "y: CategoryList\n",
              "FOOD & DRINK,TECH,FOOD & DRINK,HEALTHY LIVING,BLACK VOICES\n",
              "Path: /content/drive/My Drive/Data/News_Category_Dataset_v2.json;\n",
              "\n",
              "Valid: LabelList (25489 items)\n",
              "x: TextList\n",
              "xxbos ‘ xxmaj nobody xxmaj speak ’ : xxmaj how xxmaj billionaires xxmaj are xxmaj silencing the xxmaj first xxmaj amendment xxmaj when documentary filmmaker xxmaj brian xxmaj xxunk set out to make a film about xxmaj hulk xxmaj hogan ’s lawsuit against xxmaj gawker xxmaj media , he,xxbos xxmaj this xxmaj couple 's xxmaj biggest xxmaj adventure xxmaj began xxmaj when xxmaj they xxmaj switched xxmaj from xxmaj coffee xxmaj to xxmaj green xxmaj tea,xxbos xxmaj an xxmaj interview xxmaj with xxmaj former xxmaj president xxmaj of xxmaj the xxup eu xxmaj parliament xxmaj nicole xxmaj fontaine : xxmaj brexit , xxmaj the xxmaj trump xxmaj administration , xxmaj and xxmaj advice xxmaj for xxmaj women xxmaj in xxmaj the xxmaj workplace a charming woman with a fiery spirit , xxmaj fontaine pulls no punches when speaking about the shortcomings of the xxmaj european xxmaj union .,xxbos 5 xxmaj things xxmaj you xxmaj must xxmaj do xxmaj before xxmaj you xxmaj file xxmaj your xxmaj travel xxmaj insurance xxmaj claim xxmaj peter xxmaj xxunk was set for the vacation of a lifetime -- a nine - day xxmaj ireland tour from xxmaj dublin to xxmaj xxunk booked through,xxbos 28 xxmaj valentine 's xxmaj day xxmaj nail xxmaj art xxmaj ideas xxmaj to xxmaj put xxmaj you xxmaj in xxmaj the xxmaj mood xxmaj for xxmaj love ( xxup photos ) xxmaj not every girl 's idea of dressing up for xxmaj valentine 's xxmaj day includes head - to - toe bubblegum pink or cherry red . xxmaj and i wo n't even\n",
              "y: CategoryList\n",
              "BUSINESS,HEALTHY LIVING,WORLD NEWS,TRAVEL,STYLE & BEAUTY\n",
              "Path: /content/drive/My Drive/Data/News_Category_Dataset_v2.json;\n",
              "\n",
              "Test: None, model=SequentialRNN(\n",
              "  (0): MultiBatchEncoder(\n",
              "    (module): AWD_LSTM(\n",
              "      (encoder): Embedding(48368, 400, padding_idx=1)\n",
              "      (encoder_dp): EmbeddingDropout(\n",
              "        (emb): Embedding(48368, 400, padding_idx=1)\n",
              "      )\n",
              "      (rnns): ModuleList(\n",
              "        (0): WeightDropout(\n",
              "          (module): LSTM(400, 1152, batch_first=True)\n",
              "        )\n",
              "        (1): WeightDropout(\n",
              "          (module): LSTM(1152, 1152, batch_first=True)\n",
              "        )\n",
              "        (2): WeightDropout(\n",
              "          (module): LSTM(1152, 400, batch_first=True)\n",
              "        )\n",
              "      )\n",
              "      (input_dp): RNNDropout()\n",
              "      (hidden_dps): ModuleList(\n",
              "        (0): RNNDropout()\n",
              "        (1): RNNDropout()\n",
              "        (2): RNNDropout()\n",
              "      )\n",
              "    )\n",
              "  )\n",
              "  (1): PoolingLinearClassifier(\n",
              "    (layers): Sequential(\n",
              "      (0): BatchNorm1d(1200, eps=1e-05, momentum=0.1, affine=True, track_running_stats=True)\n",
              "      (1): Dropout(p=0.2, inplace=False)\n",
              "      (2): Linear(in_features=1200, out_features=50, bias=True)\n",
              "      (3): ReLU(inplace=True)\n",
              "      (4): BatchNorm1d(50, eps=1e-05, momentum=0.1, affine=True, track_running_stats=True)\n",
              "      (5): Dropout(p=0.1, inplace=False)\n",
              "      (6): Linear(in_features=50, out_features=31, bias=True)\n",
              "    )\n",
              "  )\n",
              "), opt_func=functools.partial(<class 'torch.optim.adam.Adam'>, betas=(0.9, 0.99)), loss_func=FlattenedLoss of CrossEntropyLoss(), metrics=[<function accuracy at 0x7fc653751378>], true_wd=True, bn_wd=True, wd=0.01, train_bn=True, path=PosixPath('/content/drive/My Drive/Data'), model_dir='models', callback_fns=[functools.partial(<class 'fastai.basic_train.Recorder'>, add_time=True, silent=False)], callbacks=[...], layer_groups=[Sequential(\n",
              "  (0): Embedding(48368, 400, padding_idx=1)\n",
              "  (1): EmbeddingDropout(\n",
              "    (emb): Embedding(48368, 400, padding_idx=1)\n",
              "  )\n",
              "), Sequential(\n",
              "  (0): WeightDropout(\n",
              "    (module): LSTM(400, 1152, batch_first=True)\n",
              "  )\n",
              "  (1): RNNDropout()\n",
              "), Sequential(\n",
              "  (0): WeightDropout(\n",
              "    (module): LSTM(1152, 1152, batch_first=True)\n",
              "  )\n",
              "  (1): RNNDropout()\n",
              "), Sequential(\n",
              "  (0): WeightDropout(\n",
              "    (module): LSTM(1152, 400, batch_first=True)\n",
              "  )\n",
              "  (1): RNNDropout()\n",
              "), Sequential(\n",
              "  (0): PoolingLinearClassifier(\n",
              "    (layers): Sequential(\n",
              "      (0): BatchNorm1d(1200, eps=1e-05, momentum=0.1, affine=True, track_running_stats=True)\n",
              "      (1): Dropout(p=0.2, inplace=False)\n",
              "      (2): Linear(in_features=1200, out_features=50, bias=True)\n",
              "      (3): ReLU(inplace=True)\n",
              "      (4): BatchNorm1d(50, eps=1e-05, momentum=0.1, affine=True, track_running_stats=True)\n",
              "      (5): Dropout(p=0.1, inplace=False)\n",
              "      (6): Linear(in_features=50, out_features=31, bias=True)\n",
              "    )\n",
              "  )\n",
              ")], add_time=True, silent=False)\n",
              "alpha: 2.0\n",
              "beta: 1.0], layer_groups=[Sequential(\n",
              "  (0): Embedding(48368, 400, padding_idx=1)\n",
              "  (1): EmbeddingDropout(\n",
              "    (emb): Embedding(48368, 400, padding_idx=1)\n",
              "  )\n",
              "), Sequential(\n",
              "  (0): WeightDropout(\n",
              "    (module): LSTM(400, 1152, batch_first=True)\n",
              "  )\n",
              "  (1): RNNDropout()\n",
              "), Sequential(\n",
              "  (0): WeightDropout(\n",
              "    (module): LSTM(1152, 1152, batch_first=True)\n",
              "  )\n",
              "  (1): RNNDropout()\n",
              "), Sequential(\n",
              "  (0): WeightDropout(\n",
              "    (module): LSTM(1152, 400, batch_first=True)\n",
              "  )\n",
              "  (1): RNNDropout()\n",
              "), Sequential(\n",
              "  (0): PoolingLinearClassifier(\n",
              "    (layers): Sequential(\n",
              "      (0): BatchNorm1d(1200, eps=1e-05, momentum=0.1, affine=True, track_running_stats=True)\n",
              "      (1): Dropout(p=0.2, inplace=False)\n",
              "      (2): Linear(in_features=1200, out_features=50, bias=True)\n",
              "      (3): ReLU(inplace=True)\n",
              "      (4): BatchNorm1d(50, eps=1e-05, momentum=0.1, affine=True, track_running_stats=True)\n",
              "      (5): Dropout(p=0.1, inplace=False)\n",
              "      (6): Linear(in_features=50, out_features=31, bias=True)\n",
              "    )\n",
              "  )\n",
              ")], add_time=True, silent=False)"
            ]
          },
          "metadata": {
            "tags": []
          },
          "execution_count": 60
        }
      ]
    },
    {
      "cell_type": "markdown",
      "metadata": {
        "id": "Z5cOAgFio1Z9",
        "colab_type": "text"
      },
      "source": [
        "Same thing backwards\n",
        "\n",
        "Then we do the same thing for the backward model, the only thigns to adjust are the names of the data object and the fine-tuned encoder we load."
      ]
    },
    {
      "cell_type": "code",
      "metadata": {
        "id": "RafFwojiFbmY",
        "colab_type": "code",
        "colab": {
          "base_uri": "https://localhost:8080/",
          "height": 1000
        },
        "outputId": "454793b3-a12a-4cc6-dd89-0b1fc3710980"
      },
      "source": [
        "learn_bwd = text_classifier_learner(data_clas_bwd, AWD_LSTM, drop_mult=0.5, pretrained=False)\n",
        "learn_bwd.load_encoder('bwd_enc')"
      ],
      "execution_count": 61,
      "outputs": [
        {
          "output_type": "execute_result",
          "data": {
            "text/plain": [
              "RNNLearner(data=TextClasDataBunch;\n",
              "\n",
              "Train: LabelList (144438 items)\n",
              "x: TextList\n",
              "xxbos xxmaj luke xxmaj from ' xxmaj gilmore xxmaj girls ' xxmaj is xxmaj getting xxmaj his xxmaj own xxmaj line xxmaj of xxmaj coffee xxmaj we have a feeling xxmaj lorelai would 've loved this .,xxbos xxmaj the xxmaj huffington xxmaj post xxmaj is xxmaj hiring a xxmaj tech xxmaj reporter xxmaj the ideal candidate will have at least three years of experience writing for major publications and a demonstrated interest in gadgets , tech business , the future of our planet and sustainability .,xxbos xxmaj simple xxmaj greek : xxmaj baked xxmaj sardines xxmaj from xxmaj diane xxmaj kochilas xxmaj diane xxmaj kochilas of xxmaj molyvos gives her advice for cooking xxmaj greek food -- such as ingredients like olives , oregano , fennel , feta cheese and citrus -- and then she showcases a traditional recipe from xxmaj lesvos , baked sardines . xxmaj she shows us how to make baked sardines and explains why it is such an essential dish for xxmaj greece .,xxbos xxmaj political xxmaj workout xxmaj music xxmaj for xxmaj the xxmaj convention xxmaj glued to the conventions ? xxmaj if around - the - clock coverage of the xxmaj republican xxmaj national xxmaj convention is getting in the way of your exercise regime , we 're here to help .,xxbos xxup ap xxmaj uses xxmaj jordan xxmaj peele xxmaj photo xxmaj while xxmaj tweeting xxmaj about xxmaj james xxmaj franco xxmaj misconduct xxmaj allegations “ xxmaj um ... weird photo choice ? ” xxmaj peele tweeted in response to the mistake .\n",
              "y: CategoryList\n",
              "FOOD & DRINK,TECH,FOOD & DRINK,HEALTHY LIVING,BLACK VOICES\n",
              "Path: /content/drive/My Drive/Data/News_Category_Dataset_v2.json;\n",
              "\n",
              "Valid: LabelList (25489 items)\n",
              "x: TextList\n",
              "xxbos ‘ xxmaj nobody xxmaj speak ’ : xxmaj how xxmaj billionaires xxmaj are xxmaj silencing the xxmaj first xxmaj amendment xxmaj when documentary filmmaker xxmaj brian xxmaj xxunk set out to make a film about xxmaj hulk xxmaj hogan ’s lawsuit against xxmaj gawker xxmaj media , he,xxbos xxmaj this xxmaj couple 's xxmaj biggest xxmaj adventure xxmaj began xxmaj when xxmaj they xxmaj switched xxmaj from xxmaj coffee xxmaj to xxmaj green xxmaj tea,xxbos xxmaj an xxmaj interview xxmaj with xxmaj former xxmaj president xxmaj of xxmaj the xxup eu xxmaj parliament xxmaj nicole xxmaj fontaine : xxmaj brexit , xxmaj the xxmaj trump xxmaj administration , xxmaj and xxmaj advice xxmaj for xxmaj women xxmaj in xxmaj the xxmaj workplace a charming woman with a fiery spirit , xxmaj fontaine pulls no punches when speaking about the shortcomings of the xxmaj european xxmaj union .,xxbos 5 xxmaj things xxmaj you xxmaj must xxmaj do xxmaj before xxmaj you xxmaj file xxmaj your xxmaj travel xxmaj insurance xxmaj claim xxmaj peter xxmaj xxunk was set for the vacation of a lifetime -- a nine - day xxmaj ireland tour from xxmaj dublin to xxmaj xxunk booked through,xxbos 28 xxmaj valentine 's xxmaj day xxmaj nail xxmaj art xxmaj ideas xxmaj to xxmaj put xxmaj you xxmaj in xxmaj the xxmaj mood xxmaj for xxmaj love ( xxup photos ) xxmaj not every girl 's idea of dressing up for xxmaj valentine 's xxmaj day includes head - to - toe bubblegum pink or cherry red . xxmaj and i wo n't even\n",
              "y: CategoryList\n",
              "BUSINESS,HEALTHY LIVING,WORLD NEWS,TRAVEL,STYLE & BEAUTY\n",
              "Path: /content/drive/My Drive/Data/News_Category_Dataset_v2.json;\n",
              "\n",
              "Test: None, model=SequentialRNN(\n",
              "  (0): MultiBatchEncoder(\n",
              "    (module): AWD_LSTM(\n",
              "      (encoder): Embedding(48368, 400, padding_idx=1)\n",
              "      (encoder_dp): EmbeddingDropout(\n",
              "        (emb): Embedding(48368, 400, padding_idx=1)\n",
              "      )\n",
              "      (rnns): ModuleList(\n",
              "        (0): WeightDropout(\n",
              "          (module): LSTM(400, 1152, batch_first=True)\n",
              "        )\n",
              "        (1): WeightDropout(\n",
              "          (module): LSTM(1152, 1152, batch_first=True)\n",
              "        )\n",
              "        (2): WeightDropout(\n",
              "          (module): LSTM(1152, 400, batch_first=True)\n",
              "        )\n",
              "      )\n",
              "      (input_dp): RNNDropout()\n",
              "      (hidden_dps): ModuleList(\n",
              "        (0): RNNDropout()\n",
              "        (1): RNNDropout()\n",
              "        (2): RNNDropout()\n",
              "      )\n",
              "    )\n",
              "  )\n",
              "  (1): PoolingLinearClassifier(\n",
              "    (layers): Sequential(\n",
              "      (0): BatchNorm1d(1200, eps=1e-05, momentum=0.1, affine=True, track_running_stats=True)\n",
              "      (1): Dropout(p=0.2, inplace=False)\n",
              "      (2): Linear(in_features=1200, out_features=50, bias=True)\n",
              "      (3): ReLU(inplace=True)\n",
              "      (4): BatchNorm1d(50, eps=1e-05, momentum=0.1, affine=True, track_running_stats=True)\n",
              "      (5): Dropout(p=0.1, inplace=False)\n",
              "      (6): Linear(in_features=50, out_features=31, bias=True)\n",
              "    )\n",
              "  )\n",
              "), opt_func=functools.partial(<class 'torch.optim.adam.Adam'>, betas=(0.9, 0.99)), loss_func=FlattenedLoss of CrossEntropyLoss(), metrics=[<function accuracy at 0x7fc653751378>], true_wd=True, bn_wd=True, wd=0.01, train_bn=True, path=PosixPath('/content/drive/My Drive/Data'), model_dir='models', callback_fns=[functools.partial(<class 'fastai.basic_train.Recorder'>, add_time=True, silent=False)], callbacks=[RNNTrainer\n",
              "learn: RNNLearner(data=TextClasDataBunch;\n",
              "\n",
              "Train: LabelList (144438 items)\n",
              "x: TextList\n",
              "xxbos xxmaj luke xxmaj from ' xxmaj gilmore xxmaj girls ' xxmaj is xxmaj getting xxmaj his xxmaj own xxmaj line xxmaj of xxmaj coffee xxmaj we have a feeling xxmaj lorelai would 've loved this .,xxbos xxmaj the xxmaj huffington xxmaj post xxmaj is xxmaj hiring a xxmaj tech xxmaj reporter xxmaj the ideal candidate will have at least three years of experience writing for major publications and a demonstrated interest in gadgets , tech business , the future of our planet and sustainability .,xxbos xxmaj simple xxmaj greek : xxmaj baked xxmaj sardines xxmaj from xxmaj diane xxmaj kochilas xxmaj diane xxmaj kochilas of xxmaj molyvos gives her advice for cooking xxmaj greek food -- such as ingredients like olives , oregano , fennel , feta cheese and citrus -- and then she showcases a traditional recipe from xxmaj lesvos , baked sardines . xxmaj she shows us how to make baked sardines and explains why it is such an essential dish for xxmaj greece .,xxbos xxmaj political xxmaj workout xxmaj music xxmaj for xxmaj the xxmaj convention xxmaj glued to the conventions ? xxmaj if around - the - clock coverage of the xxmaj republican xxmaj national xxmaj convention is getting in the way of your exercise regime , we 're here to help .,xxbos xxup ap xxmaj uses xxmaj jordan xxmaj peele xxmaj photo xxmaj while xxmaj tweeting xxmaj about xxmaj james xxmaj franco xxmaj misconduct xxmaj allegations “ xxmaj um ... weird photo choice ? ” xxmaj peele tweeted in response to the mistake .\n",
              "y: CategoryList\n",
              "FOOD & DRINK,TECH,FOOD & DRINK,HEALTHY LIVING,BLACK VOICES\n",
              "Path: /content/drive/My Drive/Data/News_Category_Dataset_v2.json;\n",
              "\n",
              "Valid: LabelList (25489 items)\n",
              "x: TextList\n",
              "xxbos ‘ xxmaj nobody xxmaj speak ’ : xxmaj how xxmaj billionaires xxmaj are xxmaj silencing the xxmaj first xxmaj amendment xxmaj when documentary filmmaker xxmaj brian xxmaj xxunk set out to make a film about xxmaj hulk xxmaj hogan ’s lawsuit against xxmaj gawker xxmaj media , he,xxbos xxmaj this xxmaj couple 's xxmaj biggest xxmaj adventure xxmaj began xxmaj when xxmaj they xxmaj switched xxmaj from xxmaj coffee xxmaj to xxmaj green xxmaj tea,xxbos xxmaj an xxmaj interview xxmaj with xxmaj former xxmaj president xxmaj of xxmaj the xxup eu xxmaj parliament xxmaj nicole xxmaj fontaine : xxmaj brexit , xxmaj the xxmaj trump xxmaj administration , xxmaj and xxmaj advice xxmaj for xxmaj women xxmaj in xxmaj the xxmaj workplace a charming woman with a fiery spirit , xxmaj fontaine pulls no punches when speaking about the shortcomings of the xxmaj european xxmaj union .,xxbos 5 xxmaj things xxmaj you xxmaj must xxmaj do xxmaj before xxmaj you xxmaj file xxmaj your xxmaj travel xxmaj insurance xxmaj claim xxmaj peter xxmaj xxunk was set for the vacation of a lifetime -- a nine - day xxmaj ireland tour from xxmaj dublin to xxmaj xxunk booked through,xxbos 28 xxmaj valentine 's xxmaj day xxmaj nail xxmaj art xxmaj ideas xxmaj to xxmaj put xxmaj you xxmaj in xxmaj the xxmaj mood xxmaj for xxmaj love ( xxup photos ) xxmaj not every girl 's idea of dressing up for xxmaj valentine 's xxmaj day includes head - to - toe bubblegum pink or cherry red . xxmaj and i wo n't even\n",
              "y: CategoryList\n",
              "BUSINESS,HEALTHY LIVING,WORLD NEWS,TRAVEL,STYLE & BEAUTY\n",
              "Path: /content/drive/My Drive/Data/News_Category_Dataset_v2.json;\n",
              "\n",
              "Test: None, model=SequentialRNN(\n",
              "  (0): MultiBatchEncoder(\n",
              "    (module): AWD_LSTM(\n",
              "      (encoder): Embedding(48368, 400, padding_idx=1)\n",
              "      (encoder_dp): EmbeddingDropout(\n",
              "        (emb): Embedding(48368, 400, padding_idx=1)\n",
              "      )\n",
              "      (rnns): ModuleList(\n",
              "        (0): WeightDropout(\n",
              "          (module): LSTM(400, 1152, batch_first=True)\n",
              "        )\n",
              "        (1): WeightDropout(\n",
              "          (module): LSTM(1152, 1152, batch_first=True)\n",
              "        )\n",
              "        (2): WeightDropout(\n",
              "          (module): LSTM(1152, 400, batch_first=True)\n",
              "        )\n",
              "      )\n",
              "      (input_dp): RNNDropout()\n",
              "      (hidden_dps): ModuleList(\n",
              "        (0): RNNDropout()\n",
              "        (1): RNNDropout()\n",
              "        (2): RNNDropout()\n",
              "      )\n",
              "    )\n",
              "  )\n",
              "  (1): PoolingLinearClassifier(\n",
              "    (layers): Sequential(\n",
              "      (0): BatchNorm1d(1200, eps=1e-05, momentum=0.1, affine=True, track_running_stats=True)\n",
              "      (1): Dropout(p=0.2, inplace=False)\n",
              "      (2): Linear(in_features=1200, out_features=50, bias=True)\n",
              "      (3): ReLU(inplace=True)\n",
              "      (4): BatchNorm1d(50, eps=1e-05, momentum=0.1, affine=True, track_running_stats=True)\n",
              "      (5): Dropout(p=0.1, inplace=False)\n",
              "      (6): Linear(in_features=50, out_features=31, bias=True)\n",
              "    )\n",
              "  )\n",
              "), opt_func=functools.partial(<class 'torch.optim.adam.Adam'>, betas=(0.9, 0.99)), loss_func=FlattenedLoss of CrossEntropyLoss(), metrics=[<function accuracy at 0x7fc653751378>], true_wd=True, bn_wd=True, wd=0.01, train_bn=True, path=PosixPath('/content/drive/My Drive/Data'), model_dir='models', callback_fns=[functools.partial(<class 'fastai.basic_train.Recorder'>, add_time=True, silent=False)], callbacks=[...], layer_groups=[Sequential(\n",
              "  (0): Embedding(48368, 400, padding_idx=1)\n",
              "  (1): EmbeddingDropout(\n",
              "    (emb): Embedding(48368, 400, padding_idx=1)\n",
              "  )\n",
              "), Sequential(\n",
              "  (0): WeightDropout(\n",
              "    (module): LSTM(400, 1152, batch_first=True)\n",
              "  )\n",
              "  (1): RNNDropout()\n",
              "), Sequential(\n",
              "  (0): WeightDropout(\n",
              "    (module): LSTM(1152, 1152, batch_first=True)\n",
              "  )\n",
              "  (1): RNNDropout()\n",
              "), Sequential(\n",
              "  (0): WeightDropout(\n",
              "    (module): LSTM(1152, 400, batch_first=True)\n",
              "  )\n",
              "  (1): RNNDropout()\n",
              "), Sequential(\n",
              "  (0): PoolingLinearClassifier(\n",
              "    (layers): Sequential(\n",
              "      (0): BatchNorm1d(1200, eps=1e-05, momentum=0.1, affine=True, track_running_stats=True)\n",
              "      (1): Dropout(p=0.2, inplace=False)\n",
              "      (2): Linear(in_features=1200, out_features=50, bias=True)\n",
              "      (3): ReLU(inplace=True)\n",
              "      (4): BatchNorm1d(50, eps=1e-05, momentum=0.1, affine=True, track_running_stats=True)\n",
              "      (5): Dropout(p=0.1, inplace=False)\n",
              "      (6): Linear(in_features=50, out_features=31, bias=True)\n",
              "    )\n",
              "  )\n",
              ")], add_time=True, silent=False)\n",
              "alpha: 2.0\n",
              "beta: 1.0], layer_groups=[Sequential(\n",
              "  (0): Embedding(48368, 400, padding_idx=1)\n",
              "  (1): EmbeddingDropout(\n",
              "    (emb): Embedding(48368, 400, padding_idx=1)\n",
              "  )\n",
              "), Sequential(\n",
              "  (0): WeightDropout(\n",
              "    (module): LSTM(400, 1152, batch_first=True)\n",
              "  )\n",
              "  (1): RNNDropout()\n",
              "), Sequential(\n",
              "  (0): WeightDropout(\n",
              "    (module): LSTM(1152, 1152, batch_first=True)\n",
              "  )\n",
              "  (1): RNNDropout()\n",
              "), Sequential(\n",
              "  (0): WeightDropout(\n",
              "    (module): LSTM(1152, 400, batch_first=True)\n",
              "  )\n",
              "  (1): RNNDropout()\n",
              "), Sequential(\n",
              "  (0): PoolingLinearClassifier(\n",
              "    (layers): Sequential(\n",
              "      (0): BatchNorm1d(1200, eps=1e-05, momentum=0.1, affine=True, track_running_stats=True)\n",
              "      (1): Dropout(p=0.2, inplace=False)\n",
              "      (2): Linear(in_features=1200, out_features=50, bias=True)\n",
              "      (3): ReLU(inplace=True)\n",
              "      (4): BatchNorm1d(50, eps=1e-05, momentum=0.1, affine=True, track_running_stats=True)\n",
              "      (5): Dropout(p=0.1, inplace=False)\n",
              "      (6): Linear(in_features=50, out_features=31, bias=True)\n",
              "    )\n",
              "  )\n",
              ")], add_time=True, silent=False)"
            ]
          },
          "metadata": {
            "tags": []
          },
          "execution_count": 61
        }
      ]
    },
    {
      "cell_type": "code",
      "metadata": {
        "id": "kAloyLuApAOY",
        "colab_type": "code",
        "colab": {
          "base_uri": "https://localhost:8080/",
          "height": 80
        },
        "outputId": "082c950f-d236-4116-b58f-126c496fff00"
      },
      "source": [
        "lr = 1e-2\n",
        "learn_bwd.fit_one_cycle(1, lr, moms=(0.8,0.7), wd=0.1)"
      ],
      "execution_count": 62,
      "outputs": [
        {
          "output_type": "display_data",
          "data": {
            "text/html": [
              "<table border=\"1\" class=\"dataframe\">\n",
              "  <thead>\n",
              "    <tr style=\"text-align: left;\">\n",
              "      <th>epoch</th>\n",
              "      <th>train_loss</th>\n",
              "      <th>valid_loss</th>\n",
              "      <th>accuracy</th>\n",
              "      <th>time</th>\n",
              "    </tr>\n",
              "  </thead>\n",
              "  <tbody>\n",
              "    <tr>\n",
              "      <td>0</td>\n",
              "      <td>1.610163</td>\n",
              "      <td>1.376194</td>\n",
              "      <td>0.610577</td>\n",
              "      <td>02:49</td>\n",
              "    </tr>\n",
              "  </tbody>\n",
              "</table>"
            ],
            "text/plain": [
              "<IPython.core.display.HTML object>"
            ]
          },
          "metadata": {
            "tags": []
          }
        }
      ]
    },
    {
      "cell_type": "code",
      "metadata": {
        "id": "0VN8SMZwpG47",
        "colab_type": "code",
        "colab": {
          "base_uri": "https://localhost:8080/",
          "height": 80
        },
        "outputId": "491d6174-35e5-4b64-c5b2-baf47b79efc8"
      },
      "source": [
        "learn_bwd.freeze_to(-2)\n",
        "lr /= 2\n",
        "learn_bwd.fit_one_cycle(1, slice(lr/(2.6**4),lr), moms=(0.8,0.7), wd=0.1)"
      ],
      "execution_count": 63,
      "outputs": [
        {
          "output_type": "display_data",
          "data": {
            "text/html": [
              "<table border=\"1\" class=\"dataframe\">\n",
              "  <thead>\n",
              "    <tr style=\"text-align: left;\">\n",
              "      <th>epoch</th>\n",
              "      <th>train_loss</th>\n",
              "      <th>valid_loss</th>\n",
              "      <th>accuracy</th>\n",
              "      <th>time</th>\n",
              "    </tr>\n",
              "  </thead>\n",
              "  <tbody>\n",
              "    <tr>\n",
              "      <td>0</td>\n",
              "      <td>1.249493</td>\n",
              "      <td>1.073496</td>\n",
              "      <td>0.691789</td>\n",
              "      <td>03:20</td>\n",
              "    </tr>\n",
              "  </tbody>\n",
              "</table>"
            ],
            "text/plain": [
              "<IPython.core.display.HTML object>"
            ]
          },
          "metadata": {
            "tags": []
          }
        }
      ]
    },
    {
      "cell_type": "code",
      "metadata": {
        "id": "VBbEj8KAPN5P",
        "colab_type": "code",
        "colab": {}
      },
      "source": [
        "learn_bwd.save('twolayers_bwd')"
      ],
      "execution_count": 0,
      "outputs": []
    },
    {
      "cell_type": "code",
      "metadata": {
        "id": "jVdO69HSPUVy",
        "colab_type": "code",
        "colab": {}
      },
      "source": [
        "learn_bwd.load('twolayers_bwd')"
      ],
      "execution_count": 0,
      "outputs": []
    },
    {
      "cell_type": "code",
      "metadata": {
        "id": "7BArgd8gpQXo",
        "colab_type": "code",
        "colab": {
          "base_uri": "https://localhost:8080/",
          "height": 80
        },
        "outputId": "f0025b16-ed80-4da2-e070-63b085105643"
      },
      "source": [
        "learn_bwd.freeze_to(-3)\n",
        "lr /= 2\n",
        "learn_bwd.fit_one_cycle(1, slice(lr/(2.6**4),lr), moms=(0.8,0.7), wd=0.1)"
      ],
      "execution_count": 66,
      "outputs": [
        {
          "output_type": "display_data",
          "data": {
            "text/html": [
              "<table border=\"1\" class=\"dataframe\">\n",
              "  <thead>\n",
              "    <tr style=\"text-align: left;\">\n",
              "      <th>epoch</th>\n",
              "      <th>train_loss</th>\n",
              "      <th>valid_loss</th>\n",
              "      <th>accuracy</th>\n",
              "      <th>time</th>\n",
              "    </tr>\n",
              "  </thead>\n",
              "  <tbody>\n",
              "    <tr>\n",
              "      <td>0</td>\n",
              "      <td>1.058453</td>\n",
              "      <td>0.972882</td>\n",
              "      <td>0.717054</td>\n",
              "      <td>05:32</td>\n",
              "    </tr>\n",
              "  </tbody>\n",
              "</table>"
            ],
            "text/plain": [
              "<IPython.core.display.HTML object>"
            ]
          },
          "metadata": {
            "tags": []
          }
        }
      ]
    },
    {
      "cell_type": "code",
      "metadata": {
        "id": "QQSeFo0FdNfj",
        "colab_type": "code",
        "colab": {}
      },
      "source": [
        "learn_bwd.save('threelayer_bwd')"
      ],
      "execution_count": 0,
      "outputs": []
    },
    {
      "cell_type": "code",
      "metadata": {
        "id": "cwgZylMSdSmN",
        "colab_type": "code",
        "colab": {}
      },
      "source": [
        "learn_bwd.load('threelayer_bwd')"
      ],
      "execution_count": 0,
      "outputs": []
    },
    {
      "cell_type": "code",
      "metadata": {
        "id": "yd2wB_FNpSK1",
        "colab_type": "code",
        "colab": {
          "base_uri": "https://localhost:8080/",
          "height": 359
        },
        "outputId": "59c01f73-e282-4cd2-efaa-e578ff05b736"
      },
      "source": [
        "learn_bwd.unfreeze()\n",
        "lr /= 5\n",
        "learn_bwd.fit_one_cycle(10, slice(lr/(2.6**4),lr), moms=(0.8,0.7), wd=0.1)"
      ],
      "execution_count": 69,
      "outputs": [
        {
          "output_type": "display_data",
          "data": {
            "text/html": [
              "<table border=\"1\" class=\"dataframe\">\n",
              "  <thead>\n",
              "    <tr style=\"text-align: left;\">\n",
              "      <th>epoch</th>\n",
              "      <th>train_loss</th>\n",
              "      <th>valid_loss</th>\n",
              "      <th>accuracy</th>\n",
              "      <th>time</th>\n",
              "    </tr>\n",
              "  </thead>\n",
              "  <tbody>\n",
              "    <tr>\n",
              "      <td>0</td>\n",
              "      <td>0.980517</td>\n",
              "      <td>0.961231</td>\n",
              "      <td>0.720664</td>\n",
              "      <td>07:06</td>\n",
              "    </tr>\n",
              "    <tr>\n",
              "      <td>1</td>\n",
              "      <td>0.996031</td>\n",
              "      <td>0.946244</td>\n",
              "      <td>0.724783</td>\n",
              "      <td>07:39</td>\n",
              "    </tr>\n",
              "    <tr>\n",
              "      <td>2</td>\n",
              "      <td>0.958775</td>\n",
              "      <td>0.931075</td>\n",
              "      <td>0.727765</td>\n",
              "      <td>07:23</td>\n",
              "    </tr>\n",
              "    <tr>\n",
              "      <td>3</td>\n",
              "      <td>0.920023</td>\n",
              "      <td>0.927698</td>\n",
              "      <td>0.731139</td>\n",
              "      <td>07:14</td>\n",
              "    </tr>\n",
              "    <tr>\n",
              "      <td>4</td>\n",
              "      <td>0.896530</td>\n",
              "      <td>0.914094</td>\n",
              "      <td>0.734317</td>\n",
              "      <td>07:23</td>\n",
              "    </tr>\n",
              "    <tr>\n",
              "      <td>5</td>\n",
              "      <td>0.875249</td>\n",
              "      <td>0.909889</td>\n",
              "      <td>0.738397</td>\n",
              "      <td>07:19</td>\n",
              "    </tr>\n",
              "    <tr>\n",
              "      <td>6</td>\n",
              "      <td>0.767028</td>\n",
              "      <td>0.904272</td>\n",
              "      <td>0.742046</td>\n",
              "      <td>07:00</td>\n",
              "    </tr>\n",
              "    <tr>\n",
              "      <td>7</td>\n",
              "      <td>0.760504</td>\n",
              "      <td>0.913675</td>\n",
              "      <td>0.742438</td>\n",
              "      <td>07:22</td>\n",
              "    </tr>\n",
              "    <tr>\n",
              "      <td>8</td>\n",
              "      <td>0.737534</td>\n",
              "      <td>0.905788</td>\n",
              "      <td>0.743183</td>\n",
              "      <td>07:16</td>\n",
              "    </tr>\n",
              "    <tr>\n",
              "      <td>9</td>\n",
              "      <td>0.710762</td>\n",
              "      <td>0.905992</td>\n",
              "      <td>0.743536</td>\n",
              "      <td>07:42</td>\n",
              "    </tr>\n",
              "  </tbody>\n",
              "</table>"
            ],
            "text/plain": [
              "<IPython.core.display.HTML object>"
            ]
          },
          "metadata": {
            "tags": []
          }
        }
      ]
    },
    {
      "cell_type": "code",
      "metadata": {
        "id": "Mqrd7oByeJPd",
        "colab_type": "code",
        "outputId": "36f37227-2531-4f54-f9f0-95ba0241540d",
        "colab": {
          "base_uri": "https://localhost:8080/",
          "height": 34
        }
      },
      "source": [
        "preds_bwd,targs_bwd = learn_bwd.get_preds(ordered=True)\n",
        "accuracy(preds_bwd,targs_bwd)"
      ],
      "execution_count": 70,
      "outputs": [
        {
          "output_type": "display_data",
          "data": {
            "text/html": [
              ""
            ],
            "text/plain": [
              "<IPython.core.display.HTML object>"
            ]
          },
          "metadata": {
            "tags": []
          }
        },
        {
          "output_type": "execute_result",
          "data": {
            "text/plain": [
              "tensor(0.7435)"
            ]
          },
          "metadata": {
            "tags": []
          },
          "execution_count": 70
        }
      ]
    },
    {
      "cell_type": "code",
      "metadata": {
        "id": "mij4E2fSpWL_",
        "colab_type": "code",
        "colab": {}
      },
      "source": [
        "learn_bwd.save('bwd_clas')"
      ],
      "execution_count": 0,
      "outputs": []
    },
    {
      "cell_type": "markdown",
      "metadata": {
        "id": "MMS06JdSpafP",
        "colab_type": "text"
      },
      "source": [
        "Ensembling the two models\n",
        "\n",
        "\n",
        "For our final results, we'll take the average of the predictions of the forward and the backward models. SInce the samples are sorted by text lengths for batching, we pass the argument ordered=True to get the predictions in the order of the texts."
      ]
    },
    {
      "cell_type": "code",
      "metadata": {
        "id": "1kOGkdUipfU3",
        "colab_type": "code",
        "colab": {
          "base_uri": "https://localhost:8080/",
          "height": 17
        },
        "outputId": "b2bdf85f-0b30-40b4-c0d6-f9f3a21eb762"
      },
      "source": [
        "pred_fwd,lbl_fwd = learn.get_preds(ordered=True)"
      ],
      "execution_count": 72,
      "outputs": [
        {
          "output_type": "display_data",
          "data": {
            "text/html": [
              ""
            ],
            "text/plain": [
              "<IPython.core.display.HTML object>"
            ]
          },
          "metadata": {
            "tags": []
          }
        }
      ]
    },
    {
      "cell_type": "code",
      "metadata": {
        "id": "CTWtJmXVph0E",
        "colab_type": "code",
        "colab": {
          "base_uri": "https://localhost:8080/",
          "height": 17
        },
        "outputId": "3247a71c-57b5-4765-d72d-25ace920db68"
      },
      "source": [
        "pred_bwd,lbl_bwd = learn_bwd.get_preds(ordered=True)"
      ],
      "execution_count": 73,
      "outputs": [
        {
          "output_type": "display_data",
          "data": {
            "text/html": [
              ""
            ],
            "text/plain": [
              "<IPython.core.display.HTML object>"
            ]
          },
          "metadata": {
            "tags": []
          }
        }
      ]
    },
    {
      "cell_type": "code",
      "metadata": {
        "id": "VcUO-_F4pkMw",
        "colab_type": "code",
        "colab": {}
      },
      "source": [
        "final_pred = (pred_fwd+pred_bwd)/2"
      ],
      "execution_count": 0,
      "outputs": []
    },
    {
      "cell_type": "code",
      "metadata": {
        "id": "-kESFytJpq7a",
        "colab_type": "code",
        "colab": {
          "base_uri": "https://localhost:8080/",
          "height": 34
        },
        "outputId": "55ba5d37-43cb-45ae-d7f8-854abc1174ba"
      },
      "source": [
        "accuracy(final_pred, lbl_fwd)\n",
        "#tensor(0.7516)"
      ],
      "execution_count": 75,
      "outputs": [
        {
          "output_type": "execute_result",
          "data": {
            "text/plain": [
              "tensor(0.7516)"
            ]
          },
          "metadata": {
            "tags": []
          },
          "execution_count": 75
        }
      ]
    },
    {
      "cell_type": "code",
      "metadata": {
        "id": "P192whqcVp8B",
        "colab_type": "code",
        "colab": {}
      },
      "source": [
        ""
      ],
      "execution_count": 0,
      "outputs": []
    }
  ]
}