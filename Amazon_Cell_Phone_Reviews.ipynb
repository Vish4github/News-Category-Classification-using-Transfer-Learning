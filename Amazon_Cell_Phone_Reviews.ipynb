{
  "nbformat": 4,
  "nbformat_minor": 0,
  "metadata": {
    "colab": {
      "name": "Amazon Cell Phone Reviews.ipynb",
      "provenance": [],
      "collapsed_sections": [],
      "toc_visible": true,
      "include_colab_link": true
    },
    "kernelspec": {
      "name": "python3",
      "display_name": "Python 3"
    },
    "accelerator": "GPU"
  },
  "cells": [
    {
      "cell_type": "markdown",
      "metadata": {
        "id": "view-in-github",
        "colab_type": "text"
      },
      "source": [
        "<a href=\"https://colab.research.google.com/github/Vish4github/Projects/blob/master/Amazon_Cell_Phone_Reviews.ipynb\" target=\"_parent\"><img src=\"https://colab.research.google.com/assets/colab-badge.svg\" alt=\"Open In Colab\"/></a>"
      ]
    },
    {
      "cell_type": "markdown",
      "metadata": {
        "id": "XDbkLhjirs04",
        "colab_type": "text"
      },
      "source": [
        "# Python Libraries"
      ]
    },
    {
      "cell_type": "code",
      "metadata": {
        "id": "YvKBs7h5rjwL",
        "colab_type": "code",
        "outputId": "7251aab0-ab4f-4656-8a89-61c5fa4d277c",
        "colab": {
          "base_uri": "https://localhost:8080/",
          "height": 153
        }
      },
      "source": [
        "from __future__ import print_function\n",
        "\n",
        "import seaborn as sns\n",
        "sns.set(style=\"darkgrid\")\n",
        "sns.set(font_scale=1.3)\n",
        "import numpy as np\n",
        "import pandas as pd\n",
        "import re\n",
        "import string\n",
        "import nltk\n",
        "from nltk.tokenize import word_tokenize\n",
        "from nltk.tokenize import sent_tokenize\n",
        "from nltk.probability import FreqDist\n",
        "nltk.download('stopwords')\n",
        "from nltk.corpus import stopwords\n",
        "from nltk.stem import PorterStemmer\n",
        "nltk.download('wordnet')\n",
        "from nltk.stem.wordnet import WordNetLemmatizer\n",
        "nltk.download('punkt')\n",
        "\n",
        "from sklearn.feature_extraction.text import CountVectorizer\n",
        "\n",
        "from wordcloud import WordCloud\n",
        "\n",
        "import matplotlib.pyplot as plt\n",
        "\n",
        "from google.colab import files\n",
        "from google.colab import drive as drive_colab\n",
        "from google.colab import auth\n",
        "\n",
        "from pydrive.auth import GoogleAuth\n",
        "from pydrive.drive import GoogleDrive\n",
        "\n",
        "from oauth2client.client import GoogleCredentials"
      ],
      "execution_count": 0,
      "outputs": [
        {
          "output_type": "stream",
          "text": [
            "/usr/local/lib/python3.6/dist-packages/statsmodels/tools/_testing.py:19: FutureWarning: pandas.util.testing is deprecated. Use the functions in the public API at pandas.testing instead.\n",
            "  import pandas.util.testing as tm\n"
          ],
          "name": "stderr"
        },
        {
          "output_type": "stream",
          "text": [
            "[nltk_data] Downloading package stopwords to /root/nltk_data...\n",
            "[nltk_data]   Unzipping corpora/stopwords.zip.\n",
            "[nltk_data] Downloading package wordnet to /root/nltk_data...\n",
            "[nltk_data]   Package wordnet is already up-to-date!\n",
            "[nltk_data] Downloading package punkt to /root/nltk_data...\n",
            "[nltk_data]   Unzipping tokenizers/punkt.zip.\n"
          ],
          "name": "stdout"
        }
      ]
    },
    {
      "cell_type": "code",
      "metadata": {
        "id": "h1ZaFQx_RnLI",
        "colab_type": "code",
        "outputId": "233babf2-8d49-4b13-89ac-43b156346123",
        "colab": {
          "base_uri": "https://localhost:8080/",
          "height": 122
        }
      },
      "source": [
        "# Authenticate user\n",
        "## You must go to the link and copy access code\n",
        "auth.authenticate_user()\n",
        "gauth = GoogleAuth()\n",
        "gauth.credentials = GoogleCredentials.get_application_default()\n",
        "drive = GoogleDrive(gauth)\n",
        "\n",
        "# Load all the required files\n",
        "file_id = '17-i-_a2zKwXJCNoOCt6R-Ezr2swO8x8r'\n",
        "downloaded = drive.CreateFile({'id': file_id})\n",
        "downloaded.GetContentFile('items.csv')\n",
        "\n",
        "file_id = '1flTqx4fnPVrk5zyydJDvh67z4IIN-2Ei'\n",
        "downloaded = drive.CreateFile({'id': file_id})\n",
        "downloaded.GetContentFile('reviews.csv')\n",
        "\n",
        "# Mount the drive to access files\n",
        "drive_colab.mount('/content/drive', force_remount=True)"
      ],
      "execution_count": 0,
      "outputs": [
        {
          "output_type": "stream",
          "text": [
            "Go to this URL in a browser: https://accounts.google.com/o/oauth2/auth?client_id=947318989803-6bn6qk8qdgf4n4g3pfee6491hc0brc4i.apps.googleusercontent.com&redirect_uri=urn%3aietf%3awg%3aoauth%3a2.0%3aoob&response_type=code&scope=email%20https%3a%2f%2fwww.googleapis.com%2fauth%2fdocs.test%20https%3a%2f%2fwww.googleapis.com%2fauth%2fdrive%20https%3a%2f%2fwww.googleapis.com%2fauth%2fdrive.photos.readonly%20https%3a%2f%2fwww.googleapis.com%2fauth%2fpeopleapi.readonly\n",
            "\n",
            "Enter your authorization code:\n",
            "··········\n",
            "Mounted at /content/drive\n"
          ],
          "name": "stdout"
        }
      ]
    },
    {
      "cell_type": "markdown",
      "metadata": {
        "id": "g3EATMG2NpXT",
        "colab_type": "text"
      },
      "source": [
        "# Data"
      ]
    },
    {
      "cell_type": "markdown",
      "metadata": {
        "id": "WIJ5MnLmsvwU",
        "colab_type": "text"
      },
      "source": [
        "## File Upload\n",
        "Upload all the required files"
      ]
    },
    {
      "cell_type": "code",
      "metadata": {
        "id": "Bh9lspLasD2J",
        "colab_type": "code",
        "colab": {}
      },
      "source": [
        "reviews = pd.read_csv('reviews.csv')\n",
        "items = pd.read_csv('items.csv')"
      ],
      "execution_count": 0,
      "outputs": []
    },
    {
      "cell_type": "markdown",
      "metadata": {
        "id": "dQZdq3VDV0-c",
        "colab_type": "text"
      },
      "source": [
        "## Items Dataset\n",
        "Ratings is numerical and mostly others are strings.   \n",
        "No significant NA's in this dataset.  \n",
        "We see Samsung has the highest phones with 346.  \n",
        "Motorola is second with 105 and Apple has 63 phones.  "
      ]
    },
    {
      "cell_type": "code",
      "metadata": {
        "id": "b1QY54i5WLtH",
        "colab_type": "code",
        "outputId": "8ee357c9-b92b-462e-831c-e37243cdb82e",
        "colab": {
          "base_uri": "https://localhost:8080/",
          "height": 204
        }
      },
      "source": [
        "items.dtypes"
      ],
      "execution_count": 0,
      "outputs": [
        {
          "output_type": "execute_result",
          "data": {
            "text/plain": [
              "asin              object\n",
              "brand             object\n",
              "title             object\n",
              "url               object\n",
              "image             object\n",
              "rating           float64\n",
              "reviewUrl         object\n",
              "totalReviews       int64\n",
              "price            float64\n",
              "originalPrice    float64\n",
              "dtype: object"
            ]
          },
          "metadata": {
            "tags": []
          },
          "execution_count": 13
        }
      ]
    },
    {
      "cell_type": "code",
      "metadata": {
        "id": "EFn0fpEiOZAq",
        "colab_type": "code",
        "outputId": "2bd3cdf2-0224-4c95-8747-7f5e8a74e924",
        "colab": {
          "base_uri": "https://localhost:8080/",
          "height": 97
        }
      },
      "source": [
        "items.head(1)"
      ],
      "execution_count": 0,
      "outputs": [
        {
          "output_type": "execute_result",
          "data": {
            "text/html": [
              "<div>\n",
              "<style scoped>\n",
              "    .dataframe tbody tr th:only-of-type {\n",
              "        vertical-align: middle;\n",
              "    }\n",
              "\n",
              "    .dataframe tbody tr th {\n",
              "        vertical-align: top;\n",
              "    }\n",
              "\n",
              "    .dataframe thead th {\n",
              "        text-align: right;\n",
              "    }\n",
              "</style>\n",
              "<table border=\"1\" class=\"dataframe\">\n",
              "  <thead>\n",
              "    <tr style=\"text-align: right;\">\n",
              "      <th></th>\n",
              "      <th>asin</th>\n",
              "      <th>brand</th>\n",
              "      <th>title</th>\n",
              "      <th>url</th>\n",
              "      <th>image</th>\n",
              "      <th>rating</th>\n",
              "      <th>reviewUrl</th>\n",
              "      <th>totalReviews</th>\n",
              "      <th>price</th>\n",
              "      <th>originalPrice</th>\n",
              "    </tr>\n",
              "  </thead>\n",
              "  <tbody>\n",
              "    <tr>\n",
              "      <th>0</th>\n",
              "      <td>B0000SX2UC</td>\n",
              "      <td>NaN</td>\n",
              "      <td>Dual-Band / Tri-Mode Sprint PCS Phone w/ Voice...</td>\n",
              "      <td>https://www.amazon.com/Dual-Band-Tri-Mode-Acti...</td>\n",
              "      <td>https://m.media-amazon.com/images/I/2143EBQ210...</td>\n",
              "      <td>3.0</td>\n",
              "      <td>https://www.amazon.com/product-reviews/B0000SX2UC</td>\n",
              "      <td>14</td>\n",
              "      <td>0.0</td>\n",
              "      <td>0.0</td>\n",
              "    </tr>\n",
              "  </tbody>\n",
              "</table>\n",
              "</div>"
            ],
            "text/plain": [
              "         asin brand  ... price originalPrice\n",
              "0  B0000SX2UC   NaN  ...   0.0           0.0\n",
              "\n",
              "[1 rows x 10 columns]"
            ]
          },
          "metadata": {
            "tags": []
          },
          "execution_count": 14
        }
      ]
    },
    {
      "cell_type": "code",
      "metadata": {
        "id": "3FW7WPhIWLvx",
        "colab_type": "code",
        "outputId": "5de99325-c9ef-4bed-9d6f-a11995dab1c6",
        "colab": {
          "base_uri": "https://localhost:8080/",
          "height": 204
        }
      },
      "source": [
        "items.isna().sum()"
      ],
      "execution_count": 0,
      "outputs": [
        {
          "output_type": "execute_result",
          "data": {
            "text/plain": [
              "asin             0\n",
              "brand            4\n",
              "title            0\n",
              "url              0\n",
              "image            0\n",
              "rating           0\n",
              "reviewUrl        0\n",
              "totalReviews     0\n",
              "price            0\n",
              "originalPrice    0\n",
              "dtype: int64"
            ]
          },
          "metadata": {
            "tags": []
          },
          "execution_count": 15
        }
      ]
    },
    {
      "cell_type": "code",
      "metadata": {
        "id": "gwdj5f6wWP6v",
        "colab_type": "code",
        "outputId": "a124bc0d-7fc9-46b8-9ea3-293230a038fe",
        "colab": {
          "base_uri": "https://localhost:8080/",
          "height": 421
        }
      },
      "source": [
        "  items.groupby('brand').agg({'asin':['count'], 'rating':['mean']})"
      ],
      "execution_count": 0,
      "outputs": [
        {
          "output_type": "execute_result",
          "data": {
            "text/html": [
              "<div>\n",
              "<style scoped>\n",
              "    .dataframe tbody tr th:only-of-type {\n",
              "        vertical-align: middle;\n",
              "    }\n",
              "\n",
              "    .dataframe tbody tr th {\n",
              "        vertical-align: top;\n",
              "    }\n",
              "\n",
              "    .dataframe thead tr th {\n",
              "        text-align: left;\n",
              "    }\n",
              "\n",
              "    .dataframe thead tr:last-of-type th {\n",
              "        text-align: right;\n",
              "    }\n",
              "</style>\n",
              "<table border=\"1\" class=\"dataframe\">\n",
              "  <thead>\n",
              "    <tr>\n",
              "      <th></th>\n",
              "      <th>asin</th>\n",
              "      <th>rating</th>\n",
              "    </tr>\n",
              "    <tr>\n",
              "      <th></th>\n",
              "      <th>count</th>\n",
              "      <th>mean</th>\n",
              "    </tr>\n",
              "    <tr>\n",
              "      <th>brand</th>\n",
              "      <th></th>\n",
              "      <th></th>\n",
              "    </tr>\n",
              "  </thead>\n",
              "  <tbody>\n",
              "    <tr>\n",
              "      <th>ASUS</th>\n",
              "      <td>5</td>\n",
              "      <td>3.860000</td>\n",
              "    </tr>\n",
              "    <tr>\n",
              "      <th>Apple</th>\n",
              "      <td>63</td>\n",
              "      <td>3.782540</td>\n",
              "    </tr>\n",
              "    <tr>\n",
              "      <th>Google</th>\n",
              "      <td>38</td>\n",
              "      <td>3.771053</td>\n",
              "    </tr>\n",
              "    <tr>\n",
              "      <th>HUAWEI</th>\n",
              "      <td>32</td>\n",
              "      <td>4.021875</td>\n",
              "    </tr>\n",
              "    <tr>\n",
              "      <th>Motorola</th>\n",
              "      <td>105</td>\n",
              "      <td>3.643810</td>\n",
              "    </tr>\n",
              "    <tr>\n",
              "      <th>Nokia</th>\n",
              "      <td>44</td>\n",
              "      <td>3.386364</td>\n",
              "    </tr>\n",
              "    <tr>\n",
              "      <th>OnePlus</th>\n",
              "      <td>10</td>\n",
              "      <td>3.580000</td>\n",
              "    </tr>\n",
              "    <tr>\n",
              "      <th>Samsung</th>\n",
              "      <td>346</td>\n",
              "      <td>3.632659</td>\n",
              "    </tr>\n",
              "    <tr>\n",
              "      <th>Sony</th>\n",
              "      <td>27</td>\n",
              "      <td>3.788889</td>\n",
              "    </tr>\n",
              "    <tr>\n",
              "      <th>Xiaomi</th>\n",
              "      <td>46</td>\n",
              "      <td>4.415217</td>\n",
              "    </tr>\n",
              "  </tbody>\n",
              "</table>\n",
              "</div>"
            ],
            "text/plain": [
              "          asin    rating\n",
              "         count      mean\n",
              "brand                   \n",
              "ASUS         5  3.860000\n",
              "Apple       63  3.782540\n",
              "Google      38  3.771053\n",
              "HUAWEI      32  4.021875\n",
              "Motorola   105  3.643810\n",
              "Nokia       44  3.386364\n",
              "OnePlus     10  3.580000\n",
              "Samsung    346  3.632659\n",
              "Sony        27  3.788889\n",
              "Xiaomi      46  4.415217"
            ]
          },
          "metadata": {
            "tags": []
          },
          "execution_count": 16
        }
      ]
    },
    {
      "cell_type": "markdown",
      "metadata": {
        "id": "yJXEk7wVV9_q",
        "colab_type": "text"
      },
      "source": [
        "## Reviews Dataset\n",
        "Mostly string features.  \n",
        "Very few NA's and can be ignored compared to rest of data.  \n"
      ]
    },
    {
      "cell_type": "code",
      "metadata": {
        "id": "iwYOOw16WFvz",
        "colab_type": "code",
        "outputId": "832e002c-c483-4052-f2c8-616732e70b7a",
        "colab": {
          "base_uri": "https://localhost:8080/",
          "height": 170
        }
      },
      "source": [
        "reviews.dtypes"
      ],
      "execution_count": 0,
      "outputs": [
        {
          "output_type": "execute_result",
          "data": {
            "text/plain": [
              "asin             object\n",
              "name             object\n",
              "rating            int64\n",
              "date             object\n",
              "verified           bool\n",
              "title            object\n",
              "body             object\n",
              "helpfulVotes    float64\n",
              "dtype: object"
            ]
          },
          "metadata": {
            "tags": []
          },
          "execution_count": 17
        }
      ]
    },
    {
      "cell_type": "code",
      "metadata": {
        "id": "wAAniTzIWvg2",
        "colab_type": "code",
        "outputId": "ffa868c6-5662-4be4-ccc7-861c5cd155ac",
        "colab": {
          "base_uri": "https://localhost:8080/",
          "height": 170
        }
      },
      "source": [
        "reviews.isna().sum()"
      ],
      "execution_count": 0,
      "outputs": [
        {
          "output_type": "execute_result",
          "data": {
            "text/plain": [
              "asin                0\n",
              "name                2\n",
              "rating              0\n",
              "date                0\n",
              "verified            0\n",
              "title              14\n",
              "body               21\n",
              "helpfulVotes    40771\n",
              "dtype: int64"
            ]
          },
          "metadata": {
            "tags": []
          },
          "execution_count": 18
        }
      ]
    },
    {
      "cell_type": "code",
      "metadata": {
        "id": "-EreXKhfsIy0",
        "colab_type": "code",
        "outputId": "ade46e79-5f9d-4902-eae3-dd9339cbd864",
        "colab": {
          "base_uri": "https://localhost:8080/",
          "height": 204
        }
      },
      "source": [
        "reviews.head()"
      ],
      "execution_count": 0,
      "outputs": [
        {
          "output_type": "execute_result",
          "data": {
            "text/html": [
              "<div>\n",
              "<style scoped>\n",
              "    .dataframe tbody tr th:only-of-type {\n",
              "        vertical-align: middle;\n",
              "    }\n",
              "\n",
              "    .dataframe tbody tr th {\n",
              "        vertical-align: top;\n",
              "    }\n",
              "\n",
              "    .dataframe thead th {\n",
              "        text-align: right;\n",
              "    }\n",
              "</style>\n",
              "<table border=\"1\" class=\"dataframe\">\n",
              "  <thead>\n",
              "    <tr style=\"text-align: right;\">\n",
              "      <th></th>\n",
              "      <th>asin</th>\n",
              "      <th>name</th>\n",
              "      <th>rating</th>\n",
              "      <th>date</th>\n",
              "      <th>verified</th>\n",
              "      <th>title</th>\n",
              "      <th>body</th>\n",
              "      <th>helpfulVotes</th>\n",
              "    </tr>\n",
              "  </thead>\n",
              "  <tbody>\n",
              "    <tr>\n",
              "      <th>0</th>\n",
              "      <td>B0000SX2UC</td>\n",
              "      <td>Janet</td>\n",
              "      <td>3</td>\n",
              "      <td>October 11, 2005</td>\n",
              "      <td>False</td>\n",
              "      <td>Def not best, but not worst</td>\n",
              "      <td>I had the Samsung A600 for awhile which is abs...</td>\n",
              "      <td>1.0</td>\n",
              "    </tr>\n",
              "    <tr>\n",
              "      <th>1</th>\n",
              "      <td>B0000SX2UC</td>\n",
              "      <td>Luke Wyatt</td>\n",
              "      <td>1</td>\n",
              "      <td>January 7, 2004</td>\n",
              "      <td>False</td>\n",
              "      <td>Text Messaging Doesn't Work</td>\n",
              "      <td>Due to a software issue between Nokia and Spri...</td>\n",
              "      <td>17.0</td>\n",
              "    </tr>\n",
              "    <tr>\n",
              "      <th>2</th>\n",
              "      <td>B0000SX2UC</td>\n",
              "      <td>Brooke</td>\n",
              "      <td>5</td>\n",
              "      <td>December 30, 2003</td>\n",
              "      <td>False</td>\n",
              "      <td>Love This Phone</td>\n",
              "      <td>This is a great, reliable phone. I also purcha...</td>\n",
              "      <td>5.0</td>\n",
              "    </tr>\n",
              "    <tr>\n",
              "      <th>3</th>\n",
              "      <td>B0000SX2UC</td>\n",
              "      <td>amy m. teague</td>\n",
              "      <td>3</td>\n",
              "      <td>March 18, 2004</td>\n",
              "      <td>False</td>\n",
              "      <td>Love the Phone, BUT...!</td>\n",
              "      <td>I love the phone and all, because I really did...</td>\n",
              "      <td>1.0</td>\n",
              "    </tr>\n",
              "    <tr>\n",
              "      <th>4</th>\n",
              "      <td>B0000SX2UC</td>\n",
              "      <td>tristazbimmer</td>\n",
              "      <td>4</td>\n",
              "      <td>August 28, 2005</td>\n",
              "      <td>False</td>\n",
              "      <td>Great phone service and options, lousy case!</td>\n",
              "      <td>The phone has been great for every purpose it ...</td>\n",
              "      <td>1.0</td>\n",
              "    </tr>\n",
              "  </tbody>\n",
              "</table>\n",
              "</div>"
            ],
            "text/plain": [
              "         asin  ... helpfulVotes\n",
              "0  B0000SX2UC  ...          1.0\n",
              "1  B0000SX2UC  ...         17.0\n",
              "2  B0000SX2UC  ...          5.0\n",
              "3  B0000SX2UC  ...          1.0\n",
              "4  B0000SX2UC  ...          1.0\n",
              "\n",
              "[5 rows x 8 columns]"
            ]
          },
          "metadata": {
            "tags": []
          },
          "execution_count": 19
        }
      ]
    },
    {
      "cell_type": "markdown",
      "metadata": {
        "id": "dbOayCrlWBfd",
        "colab_type": "text"
      },
      "source": [
        "## Merged Dataset"
      ]
    },
    {
      "cell_type": "code",
      "metadata": {
        "id": "WB5Zk8GYOk1x",
        "colab_type": "code",
        "outputId": "d555d3f5-60db-446f-d243-f313cf650e3b",
        "colab": {
          "base_uri": "https://localhost:8080/",
          "height": 34
        }
      },
      "source": [
        "df = pd.merge(reviews, items, on='asin')\n",
        "brand_count = df.groupby('brand').agg({'asin':['count'], 'rating_x':['mean']}).reset_index()\n",
        "brand_count.columns = [\"_\".join(x) for x in brand_count.columns.ravel()]\n",
        "brand_count.sort_values(by='asin_count',ascending=False)\n",
        "df.shape"
      ],
      "execution_count": 0,
      "outputs": [
        {
          "output_type": "execute_result",
          "data": {
            "text/plain": [
              "(67986, 17)"
            ]
          },
          "metadata": {
            "tags": []
          },
          "execution_count": 20
        }
      ]
    },
    {
      "cell_type": "markdown",
      "metadata": {
        "id": "2YlyiVKDbn2n",
        "colab_type": "text"
      },
      "source": [
        "## Cleaning"
      ]
    },
    {
      "cell_type": "code",
      "metadata": {
        "id": "EntmmEBYRM-7",
        "colab_type": "code",
        "colab": {}
      },
      "source": [
        "df_reviews = df['body'].reset_index()\n",
        "df_reviews.head()\n",
        "df_reviews['body'] = df_reviews['body'].fillna(\"\")\n",
        "df_reviews['word_count'] = 0\n",
        "df_reviews['most_common'] = \"\"\n",
        "df_reviews['common_count'] = 0"
      ],
      "execution_count": 0,
      "outputs": []
    },
    {
      "cell_type": "code",
      "metadata": {
        "id": "MD0TqqJWRM0b",
        "colab_type": "code",
        "outputId": "fb37de6f-e328-441d-f0f4-26907e2d578d",
        "colab": {
          "base_uri": "https://localhost:8080/",
          "height": 204
        }
      },
      "source": [
        "df_reviews.head()"
      ],
      "execution_count": 0,
      "outputs": [
        {
          "output_type": "execute_result",
          "data": {
            "text/html": [
              "<div>\n",
              "<style scoped>\n",
              "    .dataframe tbody tr th:only-of-type {\n",
              "        vertical-align: middle;\n",
              "    }\n",
              "\n",
              "    .dataframe tbody tr th {\n",
              "        vertical-align: top;\n",
              "    }\n",
              "\n",
              "    .dataframe thead th {\n",
              "        text-align: right;\n",
              "    }\n",
              "</style>\n",
              "<table border=\"1\" class=\"dataframe\">\n",
              "  <thead>\n",
              "    <tr style=\"text-align: right;\">\n",
              "      <th></th>\n",
              "      <th>index</th>\n",
              "      <th>body</th>\n",
              "      <th>word_count</th>\n",
              "      <th>most_common</th>\n",
              "      <th>common_count</th>\n",
              "    </tr>\n",
              "  </thead>\n",
              "  <tbody>\n",
              "    <tr>\n",
              "      <th>0</th>\n",
              "      <td>0</td>\n",
              "      <td>I had the Samsung A600 for awhile which is abs...</td>\n",
              "      <td>0</td>\n",
              "      <td></td>\n",
              "      <td>0</td>\n",
              "    </tr>\n",
              "    <tr>\n",
              "      <th>1</th>\n",
              "      <td>1</td>\n",
              "      <td>Due to a software issue between Nokia and Spri...</td>\n",
              "      <td>0</td>\n",
              "      <td></td>\n",
              "      <td>0</td>\n",
              "    </tr>\n",
              "    <tr>\n",
              "      <th>2</th>\n",
              "      <td>2</td>\n",
              "      <td>This is a great, reliable phone. I also purcha...</td>\n",
              "      <td>0</td>\n",
              "      <td></td>\n",
              "      <td>0</td>\n",
              "    </tr>\n",
              "    <tr>\n",
              "      <th>3</th>\n",
              "      <td>3</td>\n",
              "      <td>I love the phone and all, because I really did...</td>\n",
              "      <td>0</td>\n",
              "      <td></td>\n",
              "      <td>0</td>\n",
              "    </tr>\n",
              "    <tr>\n",
              "      <th>4</th>\n",
              "      <td>4</td>\n",
              "      <td>The phone has been great for every purpose it ...</td>\n",
              "      <td>0</td>\n",
              "      <td></td>\n",
              "      <td>0</td>\n",
              "    </tr>\n",
              "  </tbody>\n",
              "</table>\n",
              "</div>"
            ],
            "text/plain": [
              "   index  ... common_count\n",
              "0      0  ...            0\n",
              "1      1  ...            0\n",
              "2      2  ...            0\n",
              "3      3  ...            0\n",
              "4      4  ...            0\n",
              "\n",
              "[5 rows x 5 columns]"
            ]
          },
          "metadata": {
            "tags": []
          },
          "execution_count": 22
        }
      ]
    },
    {
      "cell_type": "code",
      "metadata": {
        "id": "O5FhN0ggRMl0",
        "colab_type": "code",
        "outputId": "7059e008-670d-4d0e-c85c-fcf6aa0d9333",
        "colab": {
          "base_uri": "https://localhost:8080/",
          "height": 374
        }
      },
      "source": [
        "stop_words = set(stopwords.words(\"english\"))\n",
        "for i in range(df_reviews.shape[0]):\n",
        "    #Pick reviews one-by-one\n",
        "    rev = df_reviews.iloc[i,1]\n",
        "    \n",
        "    # Make text lowercase, remove punctuation and remove words containing numbers\n",
        "    rev = rev.lower()\n",
        "    rev = rev.replace(\".\",\" .\")\n",
        "    rev = rev.replace(\"’\",\" ’\")\n",
        "    rev = re.sub('[%s]' % re.escape(string.punctuation), '', rev)\n",
        "    rev = re.sub('\\w*\\d\\w*', '', rev)\n",
        "\n",
        "    # Tokenize the review\n",
        "    tok_rev = word_tokenize(rev)\n",
        "    \n",
        "    #remove stop words\n",
        "    filtered_rev = []\n",
        "    for w in tok_rev:\n",
        "        if w not in stop_words:\n",
        "            filtered_rev.append(w)\n",
        "    \n",
        "    #Compute number of words\n",
        "    df_reviews.iloc[i,2] = len(filtered_rev)\n",
        "    \n",
        "    #Find the most common word and its count\n",
        "    fdist = FreqDist(filtered_rev)\n",
        "    \n",
        "    if len(filtered_rev) > 1:\n",
        "        df_reviews.iloc[i,3] = fdist.most_common(1)[0][0]\n",
        "        df_reviews.iloc[i,4] = fdist.most_common(1)[0][1]\n",
        "    else:\n",
        "        df_reviews.iloc[i,3] = \"\"\n",
        "        df_reviews.iloc[i,4] = 0"
      ],
      "execution_count": 0,
      "outputs": [
        {
          "output_type": "error",
          "ename": "KeyboardInterrupt",
          "evalue": "ignored",
          "traceback": [
            "\u001b[0;31m---------------------------------------------------------------------------\u001b[0m",
            "\u001b[0;31mKeyboardInterrupt\u001b[0m                         Traceback (most recent call last)",
            "\u001b[0;32m<ipython-input-24-4a590a2a74c3>\u001b[0m in \u001b[0;36m<module>\u001b[0;34m()\u001b[0m\n\u001b[1;32m     27\u001b[0m \u001b[0;34m\u001b[0m\u001b[0m\n\u001b[1;32m     28\u001b[0m     \u001b[0;32mif\u001b[0m \u001b[0mlen\u001b[0m\u001b[0;34m(\u001b[0m\u001b[0mfiltered_rev\u001b[0m\u001b[0;34m)\u001b[0m \u001b[0;34m>\u001b[0m \u001b[0;36m1\u001b[0m\u001b[0;34m:\u001b[0m\u001b[0;34m\u001b[0m\u001b[0;34m\u001b[0m\u001b[0m\n\u001b[0;32m---> 29\u001b[0;31m         \u001b[0mdf_reviews\u001b[0m\u001b[0;34m.\u001b[0m\u001b[0miloc\u001b[0m\u001b[0;34m[\u001b[0m\u001b[0mi\u001b[0m\u001b[0;34m,\u001b[0m\u001b[0;36m3\u001b[0m\u001b[0;34m]\u001b[0m \u001b[0;34m=\u001b[0m \u001b[0mfdist\u001b[0m\u001b[0;34m.\u001b[0m\u001b[0mmost_common\u001b[0m\u001b[0;34m(\u001b[0m\u001b[0;36m1\u001b[0m\u001b[0;34m)\u001b[0m\u001b[0;34m[\u001b[0m\u001b[0;36m0\u001b[0m\u001b[0;34m]\u001b[0m\u001b[0;34m[\u001b[0m\u001b[0;36m0\u001b[0m\u001b[0;34m]\u001b[0m\u001b[0;34m\u001b[0m\u001b[0;34m\u001b[0m\u001b[0m\n\u001b[0m\u001b[1;32m     30\u001b[0m         \u001b[0mdf_reviews\u001b[0m\u001b[0;34m.\u001b[0m\u001b[0miloc\u001b[0m\u001b[0;34m[\u001b[0m\u001b[0mi\u001b[0m\u001b[0;34m,\u001b[0m\u001b[0;36m4\u001b[0m\u001b[0;34m]\u001b[0m \u001b[0;34m=\u001b[0m \u001b[0mfdist\u001b[0m\u001b[0;34m.\u001b[0m\u001b[0mmost_common\u001b[0m\u001b[0;34m(\u001b[0m\u001b[0;36m1\u001b[0m\u001b[0;34m)\u001b[0m\u001b[0;34m[\u001b[0m\u001b[0;36m0\u001b[0m\u001b[0;34m]\u001b[0m\u001b[0;34m[\u001b[0m\u001b[0;36m1\u001b[0m\u001b[0;34m]\u001b[0m\u001b[0;34m\u001b[0m\u001b[0;34m\u001b[0m\u001b[0m\n\u001b[1;32m     31\u001b[0m     \u001b[0;32melse\u001b[0m\u001b[0;34m:\u001b[0m\u001b[0;34m\u001b[0m\u001b[0;34m\u001b[0m\u001b[0m\n",
            "\u001b[0;32m/usr/local/lib/python3.6/dist-packages/pandas/core/indexing.py\u001b[0m in \u001b[0;36m__setitem__\u001b[0;34m(self, key, value)\u001b[0m\n\u001b[1;32m    669\u001b[0m             \u001b[0mkey\u001b[0m \u001b[0;34m=\u001b[0m \u001b[0mcom\u001b[0m\u001b[0;34m.\u001b[0m\u001b[0mapply_if_callable\u001b[0m\u001b[0;34m(\u001b[0m\u001b[0mkey\u001b[0m\u001b[0;34m,\u001b[0m \u001b[0mself\u001b[0m\u001b[0;34m.\u001b[0m\u001b[0mobj\u001b[0m\u001b[0;34m)\u001b[0m\u001b[0;34m\u001b[0m\u001b[0;34m\u001b[0m\u001b[0m\n\u001b[1;32m    670\u001b[0m         \u001b[0mindexer\u001b[0m \u001b[0;34m=\u001b[0m \u001b[0mself\u001b[0m\u001b[0;34m.\u001b[0m\u001b[0m_get_setitem_indexer\u001b[0m\u001b[0;34m(\u001b[0m\u001b[0mkey\u001b[0m\u001b[0;34m)\u001b[0m\u001b[0;34m\u001b[0m\u001b[0;34m\u001b[0m\u001b[0m\n\u001b[0;32m--> 671\u001b[0;31m         \u001b[0mself\u001b[0m\u001b[0;34m.\u001b[0m\u001b[0m_setitem_with_indexer\u001b[0m\u001b[0;34m(\u001b[0m\u001b[0mindexer\u001b[0m\u001b[0;34m,\u001b[0m \u001b[0mvalue\u001b[0m\u001b[0;34m)\u001b[0m\u001b[0;34m\u001b[0m\u001b[0;34m\u001b[0m\u001b[0m\n\u001b[0m\u001b[1;32m    672\u001b[0m \u001b[0;34m\u001b[0m\u001b[0m\n\u001b[1;32m    673\u001b[0m     \u001b[0;32mdef\u001b[0m \u001b[0m_validate_key\u001b[0m\u001b[0;34m(\u001b[0m\u001b[0mself\u001b[0m\u001b[0;34m,\u001b[0m \u001b[0mkey\u001b[0m\u001b[0;34m,\u001b[0m \u001b[0maxis\u001b[0m\u001b[0;34m:\u001b[0m \u001b[0mint\u001b[0m\u001b[0;34m)\u001b[0m\u001b[0;34m:\u001b[0m\u001b[0;34m\u001b[0m\u001b[0;34m\u001b[0m\u001b[0m\n",
            "\u001b[0;32m/usr/local/lib/python3.6/dist-packages/pandas/core/indexing.py\u001b[0m in \u001b[0;36m_setitem_with_indexer\u001b[0;34m(self, indexer, value)\u001b[0m\n\u001b[1;32m   1027\u001b[0m                 \u001b[0;31m# scalar\u001b[0m\u001b[0;34m\u001b[0m\u001b[0;34m\u001b[0m\u001b[0;34m\u001b[0m\u001b[0m\n\u001b[1;32m   1028\u001b[0m                 \u001b[0;32mfor\u001b[0m \u001b[0mitem\u001b[0m \u001b[0;32min\u001b[0m \u001b[0mlabels\u001b[0m\u001b[0;34m:\u001b[0m\u001b[0;34m\u001b[0m\u001b[0;34m\u001b[0m\u001b[0m\n\u001b[0;32m-> 1029\u001b[0;31m                     \u001b[0msetter\u001b[0m\u001b[0;34m(\u001b[0m\u001b[0mitem\u001b[0m\u001b[0;34m,\u001b[0m \u001b[0mvalue\u001b[0m\u001b[0;34m)\u001b[0m\u001b[0;34m\u001b[0m\u001b[0;34m\u001b[0m\u001b[0m\n\u001b[0m\u001b[1;32m   1030\u001b[0m \u001b[0;34m\u001b[0m\u001b[0m\n\u001b[1;32m   1031\u001b[0m         \u001b[0;32melse\u001b[0m\u001b[0;34m:\u001b[0m\u001b[0;34m\u001b[0m\u001b[0;34m\u001b[0m\u001b[0m\n",
            "\u001b[0;32m/usr/local/lib/python3.6/dist-packages/pandas/core/indexing.py\u001b[0m in \u001b[0;36msetter\u001b[0;34m(item, v)\u001b[0m\n\u001b[1;32m    964\u001b[0m \u001b[0;34m\u001b[0m\u001b[0m\n\u001b[1;32m    965\u001b[0m                 \u001b[0;31m# reset the sliced object if unique\u001b[0m\u001b[0;34m\u001b[0m\u001b[0;34m\u001b[0m\u001b[0;34m\u001b[0m\u001b[0m\n\u001b[0;32m--> 966\u001b[0;31m                 \u001b[0mself\u001b[0m\u001b[0;34m.\u001b[0m\u001b[0mobj\u001b[0m\u001b[0;34m[\u001b[0m\u001b[0mitem\u001b[0m\u001b[0;34m]\u001b[0m \u001b[0;34m=\u001b[0m \u001b[0ms\u001b[0m\u001b[0;34m\u001b[0m\u001b[0;34m\u001b[0m\u001b[0m\n\u001b[0m\u001b[1;32m    967\u001b[0m \u001b[0;34m\u001b[0m\u001b[0m\n\u001b[1;32m    968\u001b[0m             \u001b[0;31m# we need an iterable, with a ndim of at least 1\u001b[0m\u001b[0;34m\u001b[0m\u001b[0;34m\u001b[0m\u001b[0;34m\u001b[0m\u001b[0m\n",
            "\u001b[0;32m/usr/local/lib/python3.6/dist-packages/pandas/core/frame.py\u001b[0m in \u001b[0;36m__setitem__\u001b[0;34m(self, key, value)\u001b[0m\n\u001b[1;32m   2936\u001b[0m         \u001b[0;32melse\u001b[0m\u001b[0;34m:\u001b[0m\u001b[0;34m\u001b[0m\u001b[0;34m\u001b[0m\u001b[0m\n\u001b[1;32m   2937\u001b[0m             \u001b[0;31m# set column\u001b[0m\u001b[0;34m\u001b[0m\u001b[0;34m\u001b[0m\u001b[0;34m\u001b[0m\u001b[0m\n\u001b[0;32m-> 2938\u001b[0;31m             \u001b[0mself\u001b[0m\u001b[0;34m.\u001b[0m\u001b[0m_set_item\u001b[0m\u001b[0;34m(\u001b[0m\u001b[0mkey\u001b[0m\u001b[0;34m,\u001b[0m \u001b[0mvalue\u001b[0m\u001b[0;34m)\u001b[0m\u001b[0;34m\u001b[0m\u001b[0;34m\u001b[0m\u001b[0m\n\u001b[0m\u001b[1;32m   2939\u001b[0m \u001b[0;34m\u001b[0m\u001b[0m\n\u001b[1;32m   2940\u001b[0m     \u001b[0;32mdef\u001b[0m \u001b[0m_setitem_slice\u001b[0m\u001b[0;34m(\u001b[0m\u001b[0mself\u001b[0m\u001b[0;34m,\u001b[0m \u001b[0mkey\u001b[0m\u001b[0;34m,\u001b[0m \u001b[0mvalue\u001b[0m\u001b[0;34m)\u001b[0m\u001b[0;34m:\u001b[0m\u001b[0;34m\u001b[0m\u001b[0;34m\u001b[0m\u001b[0m\n",
            "\u001b[0;32m/usr/local/lib/python3.6/dist-packages/pandas/core/frame.py\u001b[0m in \u001b[0;36m_set_item\u001b[0;34m(self, key, value)\u001b[0m\n\u001b[1;32m   2999\u001b[0m         \u001b[0mself\u001b[0m\u001b[0;34m.\u001b[0m\u001b[0m_ensure_valid_index\u001b[0m\u001b[0;34m(\u001b[0m\u001b[0mvalue\u001b[0m\u001b[0;34m)\u001b[0m\u001b[0;34m\u001b[0m\u001b[0;34m\u001b[0m\u001b[0m\n\u001b[1;32m   3000\u001b[0m         \u001b[0mvalue\u001b[0m \u001b[0;34m=\u001b[0m \u001b[0mself\u001b[0m\u001b[0;34m.\u001b[0m\u001b[0m_sanitize_column\u001b[0m\u001b[0;34m(\u001b[0m\u001b[0mkey\u001b[0m\u001b[0;34m,\u001b[0m \u001b[0mvalue\u001b[0m\u001b[0;34m)\u001b[0m\u001b[0;34m\u001b[0m\u001b[0;34m\u001b[0m\u001b[0m\n\u001b[0;32m-> 3001\u001b[0;31m         \u001b[0mNDFrame\u001b[0m\u001b[0;34m.\u001b[0m\u001b[0m_set_item\u001b[0m\u001b[0;34m(\u001b[0m\u001b[0mself\u001b[0m\u001b[0;34m,\u001b[0m \u001b[0mkey\u001b[0m\u001b[0;34m,\u001b[0m \u001b[0mvalue\u001b[0m\u001b[0;34m)\u001b[0m\u001b[0;34m\u001b[0m\u001b[0;34m\u001b[0m\u001b[0m\n\u001b[0m\u001b[1;32m   3002\u001b[0m \u001b[0;34m\u001b[0m\u001b[0m\n\u001b[1;32m   3003\u001b[0m         \u001b[0;31m# check if we are modifying a copy\u001b[0m\u001b[0;34m\u001b[0m\u001b[0;34m\u001b[0m\u001b[0;34m\u001b[0m\u001b[0m\n",
            "\u001b[0;32m/usr/local/lib/python3.6/dist-packages/pandas/core/generic.py\u001b[0m in \u001b[0;36m_set_item\u001b[0;34m(self, key, value)\u001b[0m\n\u001b[1;32m   3622\u001b[0m \u001b[0;34m\u001b[0m\u001b[0m\n\u001b[1;32m   3623\u001b[0m     \u001b[0;32mdef\u001b[0m \u001b[0m_set_item\u001b[0m\u001b[0;34m(\u001b[0m\u001b[0mself\u001b[0m\u001b[0;34m,\u001b[0m \u001b[0mkey\u001b[0m\u001b[0;34m,\u001b[0m \u001b[0mvalue\u001b[0m\u001b[0;34m)\u001b[0m \u001b[0;34m->\u001b[0m \u001b[0;32mNone\u001b[0m\u001b[0;34m:\u001b[0m\u001b[0;34m\u001b[0m\u001b[0;34m\u001b[0m\u001b[0m\n\u001b[0;32m-> 3624\u001b[0;31m         \u001b[0mself\u001b[0m\u001b[0;34m.\u001b[0m\u001b[0m_data\u001b[0m\u001b[0;34m.\u001b[0m\u001b[0mset\u001b[0m\u001b[0;34m(\u001b[0m\u001b[0mkey\u001b[0m\u001b[0;34m,\u001b[0m \u001b[0mvalue\u001b[0m\u001b[0;34m)\u001b[0m\u001b[0;34m\u001b[0m\u001b[0;34m\u001b[0m\u001b[0m\n\u001b[0m\u001b[1;32m   3625\u001b[0m         \u001b[0mself\u001b[0m\u001b[0;34m.\u001b[0m\u001b[0m_clear_item_cache\u001b[0m\u001b[0;34m(\u001b[0m\u001b[0;34m)\u001b[0m\u001b[0;34m\u001b[0m\u001b[0;34m\u001b[0m\u001b[0m\n\u001b[1;32m   3626\u001b[0m \u001b[0;34m\u001b[0m\u001b[0m\n",
            "\u001b[0;32m/usr/local/lib/python3.6/dist-packages/pandas/core/internals/managers.py\u001b[0m in \u001b[0;36mset\u001b[0;34m(self, item, value)\u001b[0m\n\u001b[1;32m   1088\u001b[0m             \u001b[0mblk_locs\u001b[0m \u001b[0;34m=\u001b[0m \u001b[0mblklocs\u001b[0m\u001b[0;34m[\u001b[0m\u001b[0mval_locs\u001b[0m\u001b[0;34m.\u001b[0m\u001b[0mindexer\u001b[0m\u001b[0;34m]\u001b[0m\u001b[0;34m\u001b[0m\u001b[0;34m\u001b[0m\u001b[0m\n\u001b[1;32m   1089\u001b[0m             \u001b[0;32mif\u001b[0m \u001b[0mblk\u001b[0m\u001b[0;34m.\u001b[0m\u001b[0mshould_store\u001b[0m\u001b[0;34m(\u001b[0m\u001b[0mvalue\u001b[0m\u001b[0;34m)\u001b[0m\u001b[0;34m:\u001b[0m\u001b[0;34m\u001b[0m\u001b[0;34m\u001b[0m\u001b[0m\n\u001b[0;32m-> 1090\u001b[0;31m                 \u001b[0mblk\u001b[0m\u001b[0;34m.\u001b[0m\u001b[0mset\u001b[0m\u001b[0;34m(\u001b[0m\u001b[0mblk_locs\u001b[0m\u001b[0;34m,\u001b[0m \u001b[0mvalue_getitem\u001b[0m\u001b[0;34m(\u001b[0m\u001b[0mval_locs\u001b[0m\u001b[0;34m)\u001b[0m\u001b[0;34m)\u001b[0m\u001b[0;34m\u001b[0m\u001b[0;34m\u001b[0m\u001b[0m\n\u001b[0m\u001b[1;32m   1091\u001b[0m             \u001b[0;32melse\u001b[0m\u001b[0;34m:\u001b[0m\u001b[0;34m\u001b[0m\u001b[0;34m\u001b[0m\u001b[0m\n\u001b[1;32m   1092\u001b[0m                 \u001b[0munfit_mgr_locs\u001b[0m\u001b[0;34m.\u001b[0m\u001b[0mappend\u001b[0m\u001b[0;34m(\u001b[0m\u001b[0mblk\u001b[0m\u001b[0;34m.\u001b[0m\u001b[0mmgr_locs\u001b[0m\u001b[0;34m.\u001b[0m\u001b[0mas_array\u001b[0m\u001b[0;34m[\u001b[0m\u001b[0mblk_locs\u001b[0m\u001b[0;34m]\u001b[0m\u001b[0;34m)\u001b[0m\u001b[0;34m\u001b[0m\u001b[0;34m\u001b[0m\u001b[0m\n",
            "\u001b[0;32m/usr/local/lib/python3.6/dist-packages/pandas/core/internals/blocks.py\u001b[0m in \u001b[0;36mset\u001b[0;34m(self, locs, values)\u001b[0m\n\u001b[1;32m    374\u001b[0m         \u001b[0;32mNone\u001b[0m\u001b[0;34m\u001b[0m\u001b[0;34m\u001b[0m\u001b[0m\n\u001b[1;32m    375\u001b[0m         \"\"\"\n\u001b[0;32m--> 376\u001b[0;31m         \u001b[0mself\u001b[0m\u001b[0;34m.\u001b[0m\u001b[0mvalues\u001b[0m\u001b[0;34m[\u001b[0m\u001b[0mlocs\u001b[0m\u001b[0;34m]\u001b[0m \u001b[0;34m=\u001b[0m \u001b[0mvalues\u001b[0m\u001b[0;34m\u001b[0m\u001b[0;34m\u001b[0m\u001b[0m\n\u001b[0m\u001b[1;32m    377\u001b[0m \u001b[0;34m\u001b[0m\u001b[0m\n\u001b[1;32m    378\u001b[0m     \u001b[0;32mdef\u001b[0m \u001b[0mdelete\u001b[0m\u001b[0;34m(\u001b[0m\u001b[0mself\u001b[0m\u001b[0;34m,\u001b[0m \u001b[0mloc\u001b[0m\u001b[0;34m)\u001b[0m\u001b[0;34m:\u001b[0m\u001b[0;34m\u001b[0m\u001b[0;34m\u001b[0m\u001b[0m\n",
            "\u001b[0;31mKeyboardInterrupt\u001b[0m: "
          ]
        }
      ]
    },
    {
      "cell_type": "code",
      "metadata": {
        "id": "grFRd9yaRTyl",
        "colab_type": "code",
        "outputId": "220cda3d-0fff-4ae6-e0ed-2f03e4c4b3f9",
        "colab": {
          "base_uri": "https://localhost:8080/",
          "height": 206
        }
      },
      "source": [
        "df_reviews.head()"
      ],
      "execution_count": 0,
      "outputs": [
        {
          "output_type": "execute_result",
          "data": {
            "text/html": [
              "<div>\n",
              "<style scoped>\n",
              "    .dataframe tbody tr th:only-of-type {\n",
              "        vertical-align: middle;\n",
              "    }\n",
              "\n",
              "    .dataframe tbody tr th {\n",
              "        vertical-align: top;\n",
              "    }\n",
              "\n",
              "    .dataframe thead th {\n",
              "        text-align: right;\n",
              "    }\n",
              "</style>\n",
              "<table border=\"1\" class=\"dataframe\">\n",
              "  <thead>\n",
              "    <tr style=\"text-align: right;\">\n",
              "      <th></th>\n",
              "      <th>index</th>\n",
              "      <th>body</th>\n",
              "      <th>word_count</th>\n",
              "      <th>most_common</th>\n",
              "      <th>common_count</th>\n",
              "    </tr>\n",
              "  </thead>\n",
              "  <tbody>\n",
              "    <tr>\n",
              "      <th>0</th>\n",
              "      <td>0</td>\n",
              "      <td>I had the Samsung A600 for awhile which is abs...</td>\n",
              "      <td>166</td>\n",
              "      <td>phone</td>\n",
              "      <td>7</td>\n",
              "    </tr>\n",
              "    <tr>\n",
              "      <th>1</th>\n",
              "      <td>1</td>\n",
              "      <td>Due to a software issue between Nokia and Spri...</td>\n",
              "      <td>68</td>\n",
              "      <td>sprint</td>\n",
              "      <td>3</td>\n",
              "    </tr>\n",
              "    <tr>\n",
              "      <th>2</th>\n",
              "      <td>2</td>\n",
              "      <td>This is a great, reliable phone. I also purcha...</td>\n",
              "      <td>69</td>\n",
              "      <td>phone</td>\n",
              "      <td>3</td>\n",
              "    </tr>\n",
              "    <tr>\n",
              "      <th>3</th>\n",
              "      <td>3</td>\n",
              "      <td>I love the phone and all, because I really did...</td>\n",
              "      <td>44</td>\n",
              "      <td>phone</td>\n",
              "      <td>5</td>\n",
              "    </tr>\n",
              "    <tr>\n",
              "      <th>4</th>\n",
              "      <td>4</td>\n",
              "      <td>The phone has been great for every purpose it ...</td>\n",
              "      <td>57</td>\n",
              "      <td>get</td>\n",
              "      <td>5</td>\n",
              "    </tr>\n",
              "  </tbody>\n",
              "</table>\n",
              "</div>"
            ],
            "text/plain": [
              "   index  ... common_count\n",
              "0      0  ...            7\n",
              "1      1  ...            3\n",
              "2      2  ...            3\n",
              "3      3  ...            5\n",
              "4      4  ...            5\n",
              "\n",
              "[5 rows x 5 columns]"
            ]
          },
          "metadata": {
            "tags": []
          },
          "execution_count": 21
        }
      ]
    },
    {
      "cell_type": "code",
      "metadata": {
        "id": "-Z2T5IEwRTtK",
        "colab_type": "code",
        "outputId": "0e05cdc1-8814-4a8b-fed3-a1218074cadc",
        "colab": {
          "base_uri": "https://localhost:8080/",
          "height": 36
        }
      },
      "source": [
        "df_reviews['word_count'].mean()"
      ],
      "execution_count": 0,
      "outputs": [
        {
          "output_type": "execute_result",
          "data": {
            "text/plain": [
              "28.143558968022827"
            ]
          },
          "metadata": {
            "tags": []
          },
          "execution_count": 22
        }
      ]
    },
    {
      "cell_type": "code",
      "metadata": {
        "id": "Zn8-iBImRTmo",
        "colab_type": "code",
        "colab": {}
      },
      "source": [
        "top_words = df_reviews.groupby('most_common').agg({'index':['count']})\n",
        "top_words.columns = [\"_\".join(x) for x in top_words.columns.ravel()]\n",
        "top_words = top_words.sort_values(by='index_count',ascending=False)"
      ],
      "execution_count": 0,
      "outputs": []
    },
    {
      "cell_type": "code",
      "metadata": {
        "id": "D99Iy85RRTdR",
        "colab_type": "code",
        "outputId": "bb51a69c-b320-40b2-9302-3e448f102e74",
        "colab": {
          "base_uri": "https://localhost:8080/",
          "height": 646
        }
      },
      "source": [
        "def plot_10_most_common_words(count_data, count_vectorizer):  \n",
        "    words = count_vectorizer.get_feature_names()  \n",
        "    total_counts = np.zeros(len(words))  \n",
        "    for t in count_data:  \n",
        "        total_counts+=t.toarray()[0] \n",
        "        count_dict = (zip(words, total_counts))  \n",
        "        count_dict = sorted(count_dict, key=lambda x:x[1], reverse=True)[0:10]  \n",
        "        words = [w[0] for w in count_dict]  \n",
        "        counts = [w[1] for w in count_dict]  \n",
        "        x_pos = np.arange(len(words))   \n",
        "     \n",
        "    plt.figure(2, figsize=(15, 15/1.6180))  \n",
        "    plt.subplot(title='10 most common words')  \n",
        "    sns.set_context(\"notebook\", font_scale=1.25, rc={\"lines.linewidth\": 2.5})  \n",
        "    sns.barplot(x_pos, counts, palette='husl')  \n",
        "    plt.xticks(x_pos, words, rotation=90)   \n",
        "    plt.xlabel('words')  \n",
        "    plt.ylabel('counts')  \n",
        "    plt.show()\n",
        "count_vectorizer = CountVectorizer(stop_words='english')  \n",
        "count_data = count_vectorizer.fit_transform(df_reviews['body'])\n",
        "plot_10_most_common_words(count_data, count_vectorizer)"
      ],
      "execution_count": 0,
      "outputs": [
        {
          "output_type": "display_data",
          "data": {
            "image/png": "[encoded data removed]",
            "text/plain": [
              "<Figure size 1080x667.491 with 1 Axes>"
            ]
          },
          "metadata": {
            "tags": []
          }
        }
      ]
    },
    {
      "cell_type": "code",
      "metadata": {
        "id": "gs4vAk4KdSV1",
        "colab_type": "code",
        "outputId": "93f50639-7019-44ec-ecd1-c7c157d1594f",
        "colab": {
          "base_uri": "https://localhost:8080/",
          "height": 310
        }
      },
      "source": [
        "wc = WordCloud(stopwords=stop_words, background_color=\"white\", colormap=\"Dark2\",\n",
        "               max_font_size=150, random_state=42)\n",
        "wc.generate(str(df_reviews.body))\n",
        "plt.figure( figsize=(10,10) )\n",
        "plt.imshow(wc, interpolation='bilinear')\n",
        "plt.axis(\"off\")\n",
        "plt.show()"
      ],
      "execution_count": 0,
      "outputs": [
        {
          "output_type": "display_data",
          "data": {
            "image/png": "[encoded data removed]",
            "text/plain": [
              "<Figure size 720x720 with 1 Axes>"
            ]
          },
          "metadata": {
            "tags": []
          }
        }
      ]
    },
    {
      "cell_type": "code",
      "metadata": {
        "id": "5-78xGB3J2q-",
        "colab_type": "code",
        "colab": {}
      },
      "source": [
        ""
      ],
      "execution_count": 0,
      "outputs": []
    },
    {
      "cell_type": "code",
      "metadata": {
        "id": "kvPeX7JNf3j7",
        "colab_type": "code",
        "colab": {}
      },
      "source": [
        ""
      ],
      "execution_count": 0,
      "outputs": []
    },
    {
      "cell_type": "markdown",
      "metadata": {
        "id": "2DCHI1jVgbQz",
        "colab_type": "text"
      },
      "source": [
        "# Topic Modeling"
      ]
    },
    {
      "cell_type": "code",
      "metadata": {
        "id": "5NfLp2CHgnyb",
        "colab_type": "code",
        "outputId": "cc9ce6de-0a62-41ca-d5fe-18b7034994f9",
        "colab": {
          "base_uri": "https://localhost:8080/",
          "height": 102
        }
      },
      "source": [
        "import nltk\n",
        "from nltk.stem.wordnet import WordNetLemmatizer\n",
        "from nltk.corpus import stopwords\n",
        "import string\n",
        "import time\n",
        "from sklearn.feature_extraction.text import TfidfVectorizer\n",
        "from sklearn.decomposition import LatentDirichletAllocation\n",
        "tfidf_vectorizer = TfidfVectorizer(max_df=0.9, min_df=0.05, stop_words=\"english\")\n",
        "nltk.download('stopwords')\n",
        "nltk.download('wordnet')"
      ],
      "execution_count": 0,
      "outputs": [
        {
          "output_type": "stream",
          "text": [
            "[nltk_data] Downloading package stopwords to /root/nltk_data...\n",
            "[nltk_data]   Package stopwords is already up-to-date!\n",
            "[nltk_data] Downloading package wordnet to /root/nltk_data...\n",
            "[nltk_data]   Package wordnet is already up-to-date!\n"
          ],
          "name": "stdout"
        },
        {
          "output_type": "execute_result",
          "data": {
            "text/plain": [
              "True"
            ]
          },
          "metadata": {
            "tags": []
          },
          "execution_count": 26
        }
      ]
    },
    {
      "cell_type": "markdown",
      "metadata": {
        "id": "pNyhhyKGkODF",
        "colab_type": "text"
      },
      "source": [
        "Just importing, imputing and cleaning the data again. Not required but for testing purposes"
      ]
    },
    {
      "cell_type": "code",
      "metadata": {
        "id": "uQkVv6DohwH1",
        "colab_type": "code",
        "outputId": "2f344a84-46e0-4bb6-8b1d-2131165fb601",
        "colab": {
          "base_uri": "https://localhost:8080/",
          "height": 34
        }
      },
      "source": [
        "items_df=items.copy()\n",
        "reviews_df=reviews.copy()\n",
        "items_df['brand'] = np.where((items_df.asin == 'B0000SX2UC'),'Nokia',items_df.brand)\n",
        "items_df['brand'] = np.where((items_df.asin == 'B01EWKHIAI'),'Nokia',items_df.brand)\n",
        "items_df['brand'] = np.where((items_df.asin == 'B07JHXX5YR'),'ASUS',items_df.brand)\n",
        "items_df['brand'] = np.where((items_df.asin == 'B07T3KMJW8'),'Xiaomi',items_df.brand)\n",
        "merged_data=pd.merge (items_df,reviews_df,how='left',on='asin')\n",
        "merged_data.shape"
      ],
      "execution_count": 0,
      "outputs": [
        {
          "output_type": "execute_result",
          "data": {
            "text/plain": [
              "(67986, 17)"
            ]
          },
          "metadata": {
            "tags": []
          },
          "execution_count": 27
        }
      ]
    },
    {
      "cell_type": "markdown",
      "metadata": {
        "id": "B5mhcuH0kaZd",
        "colab_type": "text"
      },
      "source": [
        "## Cleaning using NLTK"
      ]
    },
    {
      "cell_type": "markdown",
      "metadata": {
        "id": "ei1sLfFfkjkS",
        "colab_type": "text"
      },
      "source": [
        "Need further cleaning but this woud serve for now"
      ]
    },
    {
      "cell_type": "code",
      "metadata": {
        "id": "frOsrEYujrHD",
        "colab_type": "code",
        "outputId": "f2c3f314-17a0-4f98-9ef3-fd1372171a34",
        "colab": {
          "base_uri": "https://localhost:8080/",
          "height": 34
        }
      },
      "source": [
        "stop = set(stopwords.words('english'))\n",
        "punc = set(string.punctuation)\n",
        "keywords = merged_data[\"brand\"].apply(lambda x: x.lower()).unique().tolist()\n",
        "keywords.append(\"phone\")\n",
        "lemma = WordNetLemmatizer()\n",
        "def clean_text(text):\n",
        "    # Convert the text into lowercase\n",
        "    text = text.lower()\n",
        "    # Split into list\n",
        "    wordList = text.split()\n",
        "    # Remove punctuation\n",
        "    wordList = [\"\".join(x for x in word if (x==\"'\")|(x not in punc)) for word in wordList]\n",
        "    # Remove stopwords\n",
        "    wordList = [word for word in wordList if word not in stop]\n",
        "    # Remove other keywords\n",
        "    wordList = [word for word in wordList if word not in keywords]\n",
        "    # Lemmatisation\n",
        "    wordList = [lemma.lemmatize(word) for word in wordList]\n",
        "    return \" \".join(wordList)\n",
        "clean_text('This is our collaboratory notebook for Data Mining Project. Okay you should be excited reading this!')"
      ],
      "execution_count": 0,
      "outputs": [
        {
          "output_type": "execute_result",
          "data": {
            "text/plain": [
              "'collaboratory notebook data mining project okay excited reading'"
            ]
          },
          "metadata": {
            "tags": []
          },
          "execution_count": 28
        }
      ]
    },
    {
      "cell_type": "code",
      "metadata": {
        "id": "kBF6iF4Qf5L4",
        "colab_type": "code",
        "colab": {}
      },
      "source": [
        "merged_data[\"body\"] = merged_data[\"body\"].astype(\"str\")\n",
        "merged_data[\"clean_text\"] = merged_data[\"body\"].apply(clean_text)"
      ],
      "execution_count": 0,
      "outputs": []
    },
    {
      "cell_type": "markdown",
      "metadata": {
        "id": "IcJCKBN-kr5I",
        "colab_type": "text"
      },
      "source": [
        "Creating an Apple only dataset"
      ]
    },
    {
      "cell_type": "code",
      "metadata": {
        "id": "acRk9nIujYS1",
        "colab_type": "code",
        "colab": {}
      },
      "source": [
        "merged_data[\"clean_text\"].head().values\n",
        "apple = merged_data[merged_data[\"brand\"]==\"Apple\"].sort_values(by=[\"date\"], ascending=False)"
      ],
      "execution_count": 0,
      "outputs": []
    },
    {
      "cell_type": "code",
      "metadata": {
        "id": "b5hN8VtwgmYI",
        "colab_type": "code",
        "outputId": "1d1e332e-b822-47b6-80eb-c4e4736fd36b",
        "colab": {
          "base_uri": "https://localhost:8080/",
          "height": 751
        }
      },
      "source": [
        "apple.head()"
      ],
      "execution_count": 0,
      "outputs": [
        {
          "output_type": "execute_result",
          "data": {
            "text/html": [
              "<div>\n",
              "<style scoped>\n",
              "    .dataframe tbody tr th:only-of-type {\n",
              "        vertical-align: middle;\n",
              "    }\n",
              "\n",
              "    .dataframe tbody tr th {\n",
              "        vertical-align: top;\n",
              "    }\n",
              "\n",
              "    .dataframe thead th {\n",
              "        text-align: right;\n",
              "    }\n",
              "</style>\n",
              "<table border=\"1\" class=\"dataframe\">\n",
              "  <thead>\n",
              "    <tr style=\"text-align: right;\">\n",
              "      <th></th>\n",
              "      <th>asin</th>\n",
              "      <th>brand</th>\n",
              "      <th>title_x</th>\n",
              "      <th>url</th>\n",
              "      <th>image</th>\n",
              "      <th>rating_x</th>\n",
              "      <th>reviewUrl</th>\n",
              "      <th>totalReviews</th>\n",
              "      <th>price</th>\n",
              "      <th>originalPrice</th>\n",
              "      <th>name</th>\n",
              "      <th>rating_y</th>\n",
              "      <th>date</th>\n",
              "      <th>verified</th>\n",
              "      <th>title_y</th>\n",
              "      <th>body</th>\n",
              "      <th>helpfulVotes</th>\n",
              "      <th>clean_text</th>\n",
              "    </tr>\n",
              "  </thead>\n",
              "  <tbody>\n",
              "    <tr>\n",
              "      <th>37805</th>\n",
              "      <td>B0731HBTZ7</td>\n",
              "      <td>Apple</td>\n",
              "      <td>Apple iPhone 7 32GB, Rose Gold (Renewed)</td>\n",
              "      <td>https://www.amazon.com/Apple-iPhone-32GB-Rose-...</td>\n",
              "      <td>https://m.media-amazon.com/images/I/51cRE43zKw...</td>\n",
              "      <td>3.8</td>\n",
              "      <td>https://www.amazon.com/product-reviews/B0731HBTZ7</td>\n",
              "      <td>452</td>\n",
              "      <td>199.95</td>\n",
              "      <td>210.00</td>\n",
              "      <td>Zoriah Bradshaw</td>\n",
              "      <td>5</td>\n",
              "      <td>September 9, 2019</td>\n",
              "      <td>True</td>\n",
              "      <td>Works fine</td>\n",
              "      <td>Works fine</td>\n",
              "      <td>NaN</td>\n",
              "      <td>work fine</td>\n",
              "    </tr>\n",
              "    <tr>\n",
              "      <th>42149</th>\n",
              "      <td>B07755LZ67</td>\n",
              "      <td>Apple</td>\n",
              "      <td>Apple iPhone 8 Plus 64GB Unlocked GSM Phone - ...</td>\n",
              "      <td>https://www.amazon.com/Apple-iPhone-Unlocked-G...</td>\n",
              "      <td>https://m.media-amazon.com/images/I/810MbmOEoq...</td>\n",
              "      <td>4.0</td>\n",
              "      <td>https://www.amazon.com/product-reviews/B07755LZ67</td>\n",
              "      <td>176</td>\n",
              "      <td>374.99</td>\n",
              "      <td>0.00</td>\n",
              "      <td>Timothy</td>\n",
              "      <td>5</td>\n",
              "      <td>September 9, 2019</td>\n",
              "      <td>True</td>\n",
              "      <td>I like my new iPhone</td>\n",
              "      <td>It did not come with an AC charger</td>\n",
              "      <td>NaN</td>\n",
              "      <td>come ac charger</td>\n",
              "    </tr>\n",
              "    <tr>\n",
              "      <th>41893</th>\n",
              "      <td>B0775451TT</td>\n",
              "      <td>Apple</td>\n",
              "      <td>Apple iPhone X, 256GB, Silver - For AT&amp;T / T-M...</td>\n",
              "      <td>https://www.amazon.com/Apple-iPhone-Fully-Unlo...</td>\n",
              "      <td>https://m.media-amazon.com/images/I/81yZOQEC+N...</td>\n",
              "      <td>3.9</td>\n",
              "      <td>https://www.amazon.com/product-reviews/B0775451TT</td>\n",
              "      <td>436</td>\n",
              "      <td>479.00</td>\n",
              "      <td>749.99</td>\n",
              "      <td>Amazon Customer</td>\n",
              "      <td>5</td>\n",
              "      <td>September 9, 2019</td>\n",
              "      <td>True</td>\n",
              "      <td>Awesome !</td>\n",
              "      <td>Phone works perfect! Looks brand new ! No scra...</td>\n",
              "      <td>NaN</td>\n",
              "      <td>work perfect look brand new  scratch fresh sto...</td>\n",
              "    </tr>\n",
              "    <tr>\n",
              "      <th>35704</th>\n",
              "      <td>B071JPQYGK</td>\n",
              "      <td>Apple</td>\n",
              "      <td>Apple iPhone 7 Plus, AT&amp;T Locked, 128GB - Jet ...</td>\n",
              "      <td>https://www.amazon.com/Apple-iPhone-Plus-128GB...</td>\n",
              "      <td>https://m.media-amazon.com/images/I/61dI0syR1r...</td>\n",
              "      <td>3.5</td>\n",
              "      <td>https://www.amazon.com/product-reviews/B071JPQYGK</td>\n",
              "      <td>12</td>\n",
              "      <td>284.99</td>\n",
              "      <td>549.99</td>\n",
              "      <td>Amazon Customer</td>\n",
              "      <td>1</td>\n",
              "      <td>September 9, 2019</td>\n",
              "      <td>True</td>\n",
              "      <td>This product was a scam</td>\n",
              "      <td>The phone was either stolen or tossed by the o...</td>\n",
              "      <td>NaN</td>\n",
              "      <td>either stolen tossed owner att stated owner ow...</td>\n",
              "    </tr>\n",
              "    <tr>\n",
              "      <th>48696</th>\n",
              "      <td>B07D6TQP6F</td>\n",
              "      <td>Apple</td>\n",
              "      <td>Apple iPhone X, 256GB, Silver - For AT&amp;T (Rene...</td>\n",
              "      <td>https://www.amazon.com/Apple-iPhone-AT-256GB-R...</td>\n",
              "      <td>https://m.media-amazon.com/images/I/81yZOQEC+N...</td>\n",
              "      <td>3.9</td>\n",
              "      <td>https://www.amazon.com/product-reviews/B07D6TQP6F</td>\n",
              "      <td>436</td>\n",
              "      <td>476.00</td>\n",
              "      <td>0.00</td>\n",
              "      <td>Amazon Customer</td>\n",
              "      <td>5</td>\n",
              "      <td>September 9, 2019</td>\n",
              "      <td>True</td>\n",
              "      <td>Awesome !</td>\n",
              "      <td>Phone works perfect! Looks brand new ! No scra...</td>\n",
              "      <td>NaN</td>\n",
              "      <td>work perfect look brand new  scratch fresh sto...</td>\n",
              "    </tr>\n",
              "  </tbody>\n",
              "</table>\n",
              "</div>"
            ],
            "text/plain": [
              "             asin  ...                                         clean_text\n",
              "37805  B0731HBTZ7  ...                                          work fine\n",
              "42149  B07755LZ67  ...                                    come ac charger\n",
              "41893  B0775451TT  ...  work perfect look brand new  scratch fresh sto...\n",
              "35704  B071JPQYGK  ...  either stolen tossed owner att stated owner ow...\n",
              "48696  B07D6TQP6F  ...  work perfect look brand new  scratch fresh sto...\n",
              "\n",
              "[5 rows x 18 columns]"
            ]
          },
          "metadata": {
            "tags": []
          },
          "execution_count": 31
        }
      ]
    },
    {
      "cell_type": "code",
      "metadata": {
        "id": "fiUmO_T7hEzv",
        "colab_type": "code",
        "outputId": "4bf5b91b-185d-4584-cb9f-05f1116e4184",
        "colab": {
          "base_uri": "https://localhost:8080/",
          "height": 34
        }
      },
      "source": [
        "clean_text('Fuck that was good!')"
      ],
      "execution_count": 0,
      "outputs": [
        {
          "output_type": "execute_result",
          "data": {
            "text/plain": [
              "'fuck good'"
            ]
          },
          "metadata": {
            "tags": []
          },
          "execution_count": 32
        }
      ]
    },
    {
      "cell_type": "code",
      "metadata": {
        "id": "aW_HVw-ViO_w",
        "colab_type": "code",
        "outputId": "599874a9-b3a9-4158-a9c0-a1fe737fe5a9",
        "colab": {
          "base_uri": "https://localhost:8080/",
          "height": 34
        }
      },
      "source": [
        "clean_text('No no thats not how you clean. Delete it')"
      ],
      "execution_count": 0,
      "outputs": [
        {
          "output_type": "execute_result",
          "data": {
            "text/plain": [
              "'thats clean delete'"
            ]
          },
          "metadata": {
            "tags": []
          },
          "execution_count": 33
        }
      ]
    },
    {
      "cell_type": "markdown",
      "metadata": {
        "id": "M7u3kOWsk1fA",
        "colab_type": "text"
      },
      "source": [
        "## LDA - Latent Dirichlet Allocation"
      ]
    },
    {
      "cell_type": "code",
      "metadata": {
        "id": "VwgD1i22iZSE",
        "colab_type": "code",
        "colab": {}
      },
      "source": [
        "from sklearn.feature_extraction.text import TfidfVectorizer\n",
        "from sklearn.decomposition import LatentDirichletAllocation\n",
        "n_topics=10\n",
        "lda = LatentDirichletAllocation(n_components=n_topics, \n",
        "                                max_iter=50, \n",
        "                                learning_method='online',\n",
        "                                learning_offset=50.,\n",
        "                                random_state=0)"
      ],
      "execution_count": 0,
      "outputs": []
    },
    {
      "cell_type": "markdown",
      "metadata": {
        "id": "EvzPcZ-2lGlJ",
        "colab_type": "text"
      },
      "source": [
        "Creating a function for printing out the topics in good format"
      ]
    },
    {
      "cell_type": "code",
      "metadata": {
        "id": "zPHQkCpYitfN",
        "colab_type": "code",
        "colab": {}
      },
      "source": [
        "def print_topn_words(model, feature_names, topn):\n",
        "    for topic_idx, topic in enumerate(model.components_):\n",
        "        message = \"Topic #%d: \" % topic_idx\n",
        "        message += \" \".join([feature_names[i]\n",
        "                             for i in topic.argsort()[:-topn - 1:-1]])\n",
        "        print(message)\n",
        "    print()"
      ],
      "execution_count": 0,
      "outputs": []
    },
    {
      "cell_type": "code",
      "metadata": {
        "id": "Hwi1flkJi_ga",
        "colab_type": "code",
        "outputId": "a88faf79-0835-47cf-c5a0-bee578a6e62b",
        "colab": {
          "base_uri": "https://localhost:8080/",
          "height": 238
        }
      },
      "source": [
        "t0 = time.time()\n",
        "apple_tfidf = tfidf_vectorizer.fit_transform(apple[\"clean_text\"])\n",
        "apple_tfidf_feature_names = tfidf_vectorizer.get_feature_names()\n",
        "lda.fit(apple_tfidf)\n",
        "print(\"Below is the output from LDA model with {} topics (each includes Top10 words) for Apple.\".format(n_topics))\n",
        "print_topn_words(lda, apple_tfidf_feature_names, 10)\n",
        "print(\"Done in %0.3fs.\" % (time.time() - t0))"
      ],
      "execution_count": 0,
      "outputs": [
        {
          "output_type": "stream",
          "text": [
            "Below is the output from LDA model with 10 topics (each includes Top10 words) for Apple.\n",
            "Topic #0: new like look brand problem got work iphone came scratch\n",
            "Topic #1: unlocked working buy day bought work problem use great seller\n",
            "Topic #2: good great price battery new work iphone problem like look\n",
            "Topic #3: screen scratch time came work like new seller battery buy\n",
            "Topic #4: issue review purchase battery great iphone new came scratch day\n",
            "Topic #5: condition charger came great good work time scratch new day\n",
            "Topic #6: product refurbished bought happy purchase seller iphone buy time work\n",
            "Topic #7: work love great seller problem iphone new got bought time\n",
            "Topic #8: battery iphone life use day got problem seller great time\n",
            "Topic #9: perfect far condition work happy great bought scratch new day\n",
            "\n",
            "Done in 26.838s.\n"
          ],
          "name": "stdout"
        }
      ]
    },
    {
      "cell_type": "markdown",
      "metadata": {
        "id": "styoqGIoWhoh",
        "colab_type": "text"
      },
      "source": [
        "# Ngrams and plots"
      ]
    },
    {
      "cell_type": "code",
      "metadata": {
        "id": "v2npydnTA9Eo",
        "colab_type": "code",
        "colab": {}
      },
      "source": [
        "from textblob import TextBlob"
      ],
      "execution_count": 0,
      "outputs": []
    },
    {
      "cell_type": "code",
      "metadata": {
        "id": "eXJ-9VhrBIH2",
        "colab_type": "code",
        "outputId": "06e6aa8b-7a65-4059-e2f7-71d002d77869",
        "colab": {
          "base_uri": "https://localhost:8080/",
          "height": 187
        }
      },
      "source": [
        "def get_top_n_bigram(corpus, n=None):\n",
        "    vec = CountVectorizer(ngram_range=(2, 2), stop_words='english').fit(corpus)\n",
        "    bag_of_words = vec.transform(corpus)\n",
        "    sum_words = bag_of_words.sum(axis=0) \n",
        "    words_freq = [(word, sum_words[0, idx]) for word, idx in vec.vocabulary_.items()]\n",
        "    words_freq =sorted(words_freq, key = lambda x: x[1], reverse=True)\n",
        "    return words_freq[:n]\n",
        "common_words = get_top_n_bigram(merged_data[\"clean_text\"], 10)\n",
        "for word, freq in common_words:\n",
        "    print(word, freq)\n",
        "\n"
      ],
      "execution_count": 0,
      "outputs": [
        {
          "output_type": "stream",
          "text": [
            "battery life 5894\n",
            "sim card 3363\n",
            "work great 2188\n",
            "brand new 2120\n",
            "sd card 1355\n",
            "like new 1327\n",
            "screen protector 1032\n",
            "great price 983\n",
            "easy use 903\n",
            "work fine 768\n"
          ],
          "name": "stdout"
        }
      ]
    },
    {
      "cell_type": "code",
      "metadata": {
        "id": "Ogg3xvOfF8JT",
        "colab_type": "code",
        "outputId": "c8a9ae41-03b5-47df-93b2-4a0b9db546e2",
        "colab": {
          "base_uri": "https://localhost:8080/",
          "height": 204
        }
      },
      "source": [
        "df4 = pd.DataFrame(common_words, columns = ['Bigrams' , 'count'])\n",
        "df4.head()"
      ],
      "execution_count": 0,
      "outputs": [
        {
          "output_type": "execute_result",
          "data": {
            "text/html": [
              "<div>\n",
              "<style scoped>\n",
              "    .dataframe tbody tr th:only-of-type {\n",
              "        vertical-align: middle;\n",
              "    }\n",
              "\n",
              "    .dataframe tbody tr th {\n",
              "        vertical-align: top;\n",
              "    }\n",
              "\n",
              "    .dataframe thead th {\n",
              "        text-align: right;\n",
              "    }\n",
              "</style>\n",
              "<table border=\"1\" class=\"dataframe\">\n",
              "  <thead>\n",
              "    <tr style=\"text-align: right;\">\n",
              "      <th></th>\n",
              "      <th>Bigrams</th>\n",
              "      <th>count</th>\n",
              "    </tr>\n",
              "  </thead>\n",
              "  <tbody>\n",
              "    <tr>\n",
              "      <th>0</th>\n",
              "      <td>battery life</td>\n",
              "      <td>5894</td>\n",
              "    </tr>\n",
              "    <tr>\n",
              "      <th>1</th>\n",
              "      <td>sim card</td>\n",
              "      <td>3363</td>\n",
              "    </tr>\n",
              "    <tr>\n",
              "      <th>2</th>\n",
              "      <td>work great</td>\n",
              "      <td>2188</td>\n",
              "    </tr>\n",
              "    <tr>\n",
              "      <th>3</th>\n",
              "      <td>brand new</td>\n",
              "      <td>2120</td>\n",
              "    </tr>\n",
              "    <tr>\n",
              "      <th>4</th>\n",
              "      <td>sd card</td>\n",
              "      <td>1355</td>\n",
              "    </tr>\n",
              "  </tbody>\n",
              "</table>\n",
              "</div>"
            ],
            "text/plain": [
              "        Bigrams  count\n",
              "0  battery life   5894\n",
              "1      sim card   3363\n",
              "2    work great   2188\n",
              "3     brand new   2120\n",
              "4       sd card   1355"
            ]
          },
          "metadata": {
            "tags": []
          },
          "execution_count": 74
        }
      ]
    },
    {
      "cell_type": "code",
      "metadata": {
        "id": "BAMtKcF1KojJ",
        "colab_type": "code",
        "colab": {}
      },
      "source": [
        "import seaborn as sns\n",
        "import matplotlib.pyplot as plt"
      ],
      "execution_count": 0,
      "outputs": []
    },
    {
      "cell_type": "code",
      "metadata": {
        "id": "U9-xEv4aIXTb",
        "colab_type": "code",
        "outputId": "613a05c9-b6b4-4b48-efc0-4ca782c0d573",
        "colab": {
          "base_uri": "https://localhost:8080/",
          "height": 420
        }
      },
      "source": [
        "plt.figure(figsize=(25,5))\n",
        "sns.barplot(x='Bigrams',y='count',data=df4,color=\"salmon\")\n",
        "plt.xlabel('Top 10 Bigrams')\n",
        "plt.ylabel('Count')\n",
        "plt.title('Top 10 bigrams in review after removing stop words')\n",
        "plt.xticks(rotation=30);\n"
      ],
      "execution_count": 78,
      "outputs": [
        {
          "output_type": "display_data",
          "data": {
            "image/png": "[encoded data removed]",
            "text/plain": [
              "<Figure size 1800x360 with 1 Axes>"
            ]
          },
          "metadata": {
            "tags": [],
            "needs_background": "light"
          }
        }
      ]
    },
    {
      "cell_type": "code",
      "metadata": {
        "id": "k4HX17PmScm-",
        "colab_type": "code",
        "outputId": "458d237e-f683-49b8-f820-ed8abc9da6e2",
        "colab": {
          "base_uri": "https://localhost:8080/",
          "height": 544
        }
      },
      "source": [
        "def get_top_n_trigram(corpus, n=None):\n",
        "    vec = CountVectorizer(ngram_range=(3, 3), stop_words='english').fit(corpus)\n",
        "    bag_of_words = vec.transform(corpus)\n",
        "    sum_words = bag_of_words.sum(axis=0) \n",
        "    words_freq = [(word, sum_words[0, idx]) for word, idx in vec.vocabulary_.items()]\n",
        "    words_freq =sorted(words_freq, key = lambda x: x[1], reverse=True)\n",
        "    return words_freq[:n]\n",
        "common_words_trigrams = get_top_n_trigram(merged_data[\"clean_text\"], 20)\n",
        "for word, freq in common_words_trigrams:\n",
        "    print(word, freq)\n",
        "\n",
        "df5 = pd.DataFrame(common_words, columns = ['Trigrams' , 'count'])\n",
        "df5.head()"
      ],
      "execution_count": 0,
      "outputs": [
        {
          "output_type": "stream",
          "text": [
            "great battery life 444\n",
            "battery life good 368\n",
            "battery life great 344\n",
            "good battery life 342\n",
            "look brand new 322\n",
            "like brand new 308\n",
            "micro sd card 264\n",
            "look like new 194\n",
            "long battery life 188\n",
            "new sim card 178\n",
            "sd card slot 177\n",
            "looked brand new 173\n",
            "work like new 170\n",
            "galaxy s7 edge 167\n",
            "battery life amazing 163\n",
            "finger print reader 159\n",
            "case screen protector 156\n",
            "great great price 146\n",
            "glass screen protector 141\n",
            "mate 10 pro 131\n"
          ],
          "name": "stdout"
        },
        {
          "output_type": "execute_result",
          "data": {
            "text/html": [
              "<div>\n",
              "<style scoped>\n",
              "    .dataframe tbody tr th:only-of-type {\n",
              "        vertical-align: middle;\n",
              "    }\n",
              "\n",
              "    .dataframe tbody tr th {\n",
              "        vertical-align: top;\n",
              "    }\n",
              "\n",
              "    .dataframe thead th {\n",
              "        text-align: right;\n",
              "    }\n",
              "</style>\n",
              "<table border=\"1\" class=\"dataframe\">\n",
              "  <thead>\n",
              "    <tr style=\"text-align: right;\">\n",
              "      <th></th>\n",
              "      <th>Trigrams</th>\n",
              "      <th>count</th>\n",
              "    </tr>\n",
              "  </thead>\n",
              "  <tbody>\n",
              "    <tr>\n",
              "      <th>0</th>\n",
              "      <td>great battery life</td>\n",
              "      <td>444</td>\n",
              "    </tr>\n",
              "    <tr>\n",
              "      <th>1</th>\n",
              "      <td>battery life good</td>\n",
              "      <td>368</td>\n",
              "    </tr>\n",
              "    <tr>\n",
              "      <th>2</th>\n",
              "      <td>battery life great</td>\n",
              "      <td>344</td>\n",
              "    </tr>\n",
              "    <tr>\n",
              "      <th>3</th>\n",
              "      <td>good battery life</td>\n",
              "      <td>342</td>\n",
              "    </tr>\n",
              "    <tr>\n",
              "      <th>4</th>\n",
              "      <td>look brand new</td>\n",
              "      <td>322</td>\n",
              "    </tr>\n",
              "  </tbody>\n",
              "</table>\n",
              "</div>"
            ],
            "text/plain": [
              "             Trigrams  count\n",
              "0  great battery life    444\n",
              "1   battery life good    368\n",
              "2  battery life great    344\n",
              "3   good battery life    342\n",
              "4      look brand new    322"
            ]
          },
          "metadata": {
            "tags": []
          },
          "execution_count": 71
        }
      ]
    },
    {
      "cell_type": "code",
      "metadata": {
        "id": "TuunZPdXS055",
        "colab_type": "code",
        "outputId": "3c11ec12-e1be-41bf-cf64-d017b5dc8389",
        "colab": {
          "base_uri": "https://localhost:8080/",
          "height": 422
        }
      },
      "source": [
        "plt.figure(figsize=(25,5))\n",
        "sns.barplot(x='Trigrams',y='count',data=df5,color=\"salmon\")\n",
        "plt.xlabel('Top 10 Trigrams')\n",
        "plt.ylabel('Count')\n",
        "plt.title('Top 10 Trigrams in reviews after removing stop words')\n",
        "plt.xticks(rotation=30);"
      ],
      "execution_count": 77,
      "outputs": [
        {
          "output_type": "display_data",
          "data": {
            "image/png": "[encoded data removed]",
            "text/plain": [
              "<Figure size 1800x360 with 1 Axes>"
            ]
          },
          "metadata": {
            "tags": [],
            "needs_background": "light"
          }
        }
      ]
    },
    {
      "cell_type": "code",
      "metadata": {
        "id": "bogLOOSGWT1n",
        "colab_type": "code",
        "colab": {}
      },
      "source": [
        ""
      ],
      "execution_count": 0,
      "outputs": []
    }
  ]
}