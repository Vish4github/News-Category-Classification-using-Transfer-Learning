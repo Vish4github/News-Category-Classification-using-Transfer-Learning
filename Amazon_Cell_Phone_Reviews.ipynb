{
  "nbformat": 4,
  "nbformat_minor": 0,
  "metadata": {
    "colab": {
      "name": "Amazon Cell Phone Reviews.ipynb",
      "provenance": [],
      "collapsed_sections": [
        "XDbkLhjirs04",
        "WIJ5MnLmsvwU",
        "dQZdq3VDV0-c",
        "yJXEk7wVV9_q"
      ],
      "toc_visible": true,
      "include_colab_link": true
    },
    "kernelspec": {
      "name": "python3",
      "display_name": "Python 3"
    },
    "accelerator": "GPU"
  },
  "cells": [
    {
      "cell_type": "markdown",
      "metadata": {
        "id": "view-in-github",
        "colab_type": "text"
      },
      "source": [
        "<a href=\"https://colab.research.google.com/github/Vish4github/Projects/blob/master/Amazon_Cell_Phone_Reviews.ipynb\" target=\"_parent\"><img src=\"https://colab.research.google.com/assets/colab-badge.svg\" alt=\"Open In Colab\"/></a>"
      ]
    },
    {
      "cell_type": "markdown",
      "metadata": {
        "id": "XDbkLhjirs04",
        "colab_type": "text"
      },
      "source": [
        "# Python Libraries"
      ]
    },
    {
      "cell_type": "code",
      "metadata": {
        "id": "YvKBs7h5rjwL",
        "colab_type": "code",
        "outputId": "669a7e90-fc97-40fe-8843-5ad01acb585f",
        "colab": {
          "base_uri": "https://localhost:8080/",
          "height": 153
        }
      },
      "source": [
        "from __future__ import print_function\n",
        "\n",
        "import numpy as np\n",
        "import pandas as pd\n",
        "import re\n",
        "import string\n",
        "\n",
        "import nltk\n",
        "from nltk.tokenize import word_tokenize\n",
        "from nltk.tokenize import sent_tokenize\n",
        "from nltk.probability import FreqDist\n",
        "nltk.download('stopwords')\n",
        "from nltk.corpus import stopwords\n",
        "from nltk.stem import PorterStemmer\n",
        "nltk.download('wordnet')\n",
        "from nltk.stem.wordnet import WordNetLemmatizer\n",
        "nltk.download('punkt')\n",
        "\n",
        "from sklearn.feature_extraction.text import CountVectorizer\n",
        "\n",
        "from wordcloud import WordCloud\n",
        "\n",
        "# Sentiment Analysis\n",
        "import textblob as tb\n",
        "\n",
        "#Plots\n",
        "import matplotlib.pyplot as plt\n",
        "import seaborn as sns\n",
        "sns.set(style=\"darkgrid\")\n",
        "sns.set(font_scale=1.3)\n",
        "\n",
        "from google.colab import files\n",
        "from google.colab import drive as drive_colab\n",
        "from google.colab import auth\n",
        "\n",
        "from pydrive.auth import GoogleAuth\n",
        "from pydrive.drive import GoogleDrive\n",
        "\n",
        "from oauth2client.client import GoogleCredentials"
      ],
      "execution_count": 2,
      "outputs": [
        {
          "output_type": "stream",
          "text": [
            "[nltk_data] Downloading package stopwords to /root/nltk_data...\n",
            "[nltk_data]   Unzipping corpora/stopwords.zip.\n",
            "[nltk_data] Downloading package wordnet to /root/nltk_data...\n",
            "[nltk_data]   Unzipping corpora/wordnet.zip.\n",
            "[nltk_data] Downloading package punkt to /root/nltk_data...\n",
            "[nltk_data]   Unzipping tokenizers/punkt.zip.\n"
          ],
          "name": "stdout"
        },
        {
          "output_type": "stream",
          "text": [
            "/usr/local/lib/python3.6/dist-packages/statsmodels/tools/_testing.py:19: FutureWarning: pandas.util.testing is deprecated. Use the functions in the public API at pandas.testing instead.\n",
            "  import pandas.util.testing as tm\n"
          ],
          "name": "stderr"
        }
      ]
    },
    {
      "cell_type": "markdown",
      "metadata": {
        "id": "g3EATMG2NpXT",
        "colab_type": "text"
      },
      "source": [
        "# Data"
      ]
    },
    {
      "cell_type": "markdown",
      "metadata": {
        "id": "WIJ5MnLmsvwU",
        "colab_type": "text"
      },
      "source": [
        "## File Upload\n",
        "Upload all the required files.  \n",
        "**reviews.csv**: all available reviews  \n",
        "**items.csv**: all phones available  "
      ]
    },
    {
      "cell_type": "code",
      "metadata": {
        "id": "h1ZaFQx_RnLI",
        "colab_type": "code",
        "outputId": "0c447ad6-6f2f-4626-a679-68cb263bd056",
        "colab": {
          "base_uri": "https://localhost:8080/",
          "height": 122
        }
      },
      "source": [
        "# Authenticate user\n",
        "## You must go to the link and copy access code\n",
        "auth.authenticate_user()\n",
        "gauth = GoogleAuth()\n",
        "gauth.credentials = GoogleCredentials.get_application_default()\n",
        "drive = GoogleDrive(gauth)\n",
        "\n",
        "# Load all the required files\n",
        "file_id = '17-i-_a2zKwXJCNoOCt6R-Ezr2swO8x8r'\n",
        "downloaded = drive.CreateFile({'id': file_id})\n",
        "downloaded.GetContentFile('items.csv')\n",
        "\n",
        "file_id = '1flTqx4fnPVrk5zyydJDvh67z4IIN-2Ei'\n",
        "downloaded = drive.CreateFile({'id': file_id})\n",
        "downloaded.GetContentFile('reviews.csv')\n",
        "\n",
        "# Mount the drive to access files\n",
        "drive_colab.mount('/content/drive', force_remount=True)"
      ],
      "execution_count": 5,
      "outputs": [
        {
          "output_type": "stream",
          "text": [
            "Go to this URL in a browser: https://accounts.google.com/o/oauth2/auth?client_id=947318989803-6bn6qk8qdgf4n4g3pfee6491hc0brc4i.apps.googleusercontent.com&redirect_uri=urn%3aietf%3awg%3aoauth%3a2.0%3aoob&response_type=code&scope=email%20https%3a%2f%2fwww.googleapis.com%2fauth%2fdocs.test%20https%3a%2f%2fwww.googleapis.com%2fauth%2fdrive%20https%3a%2f%2fwww.googleapis.com%2fauth%2fdrive.photos.readonly%20https%3a%2f%2fwww.googleapis.com%2fauth%2fpeopleapi.readonly\n",
            "\n",
            "Enter your authorization code:\n",
            "··········\n",
            "Mounted at /content/drive\n"
          ],
          "name": "stdout"
        }
      ]
    },
    {
      "cell_type": "code",
      "metadata": {
        "id": "Bh9lspLasD2J",
        "colab_type": "code",
        "colab": {}
      },
      "source": [
        "reviews = pd.read_csv('reviews.csv')\n",
        "items = pd.read_csv('items.csv')"
      ],
      "execution_count": 0,
      "outputs": []
    },
    {
      "cell_type": "code",
      "metadata": {
        "id": "lXsDoOB5Td2n",
        "colab_type": "code",
        "outputId": "ae5b05eb-678f-4596-c02a-23631b81ff0d",
        "colab": {
          "base_uri": "https://localhost:8080/",
          "height": 98
        }
      },
      "source": [
        "reviews.head(1)"
      ],
      "execution_count": 0,
      "outputs": [
        {
          "output_type": "execute_result",
          "data": {
            "text/html": [
              "<div>\n",
              "<style scoped>\n",
              "    .dataframe tbody tr th:only-of-type {\n",
              "        vertical-align: middle;\n",
              "    }\n",
              "\n",
              "    .dataframe tbody tr th {\n",
              "        vertical-align: top;\n",
              "    }\n",
              "\n",
              "    .dataframe thead th {\n",
              "        text-align: right;\n",
              "    }\n",
              "</style>\n",
              "<table border=\"1\" class=\"dataframe\">\n",
              "  <thead>\n",
              "    <tr style=\"text-align: right;\">\n",
              "      <th></th>\n",
              "      <th>asin</th>\n",
              "      <th>name</th>\n",
              "      <th>rating</th>\n",
              "      <th>date</th>\n",
              "      <th>verified</th>\n",
              "      <th>title</th>\n",
              "      <th>body</th>\n",
              "      <th>helpfulVotes</th>\n",
              "    </tr>\n",
              "  </thead>\n",
              "  <tbody>\n",
              "    <tr>\n",
              "      <th>0</th>\n",
              "      <td>B0000SX2UC</td>\n",
              "      <td>Janet</td>\n",
              "      <td>3</td>\n",
              "      <td>October 11, 2005</td>\n",
              "      <td>False</td>\n",
              "      <td>Def not best, but not worst</td>\n",
              "      <td>I had the Samsung A600 for awhile which is abs...</td>\n",
              "      <td>1.0</td>\n",
              "    </tr>\n",
              "  </tbody>\n",
              "</table>\n",
              "</div>"
            ],
            "text/plain": [
              "         asin  ... helpfulVotes\n",
              "0  B0000SX2UC  ...          1.0\n",
              "\n",
              "[1 rows x 8 columns]"
            ]
          },
          "metadata": {
            "tags": []
          },
          "execution_count": 18
        }
      ]
    },
    {
      "cell_type": "code",
      "metadata": {
        "id": "rZDNyPLeThzU",
        "colab_type": "code",
        "outputId": "4cd2f534-8675-4be1-c2cf-1c0054a50cf5",
        "colab": {
          "base_uri": "https://localhost:8080/",
          "height": 240
        }
      },
      "source": [
        "items.head(1)"
      ],
      "execution_count": 0,
      "outputs": [
        {
          "output_type": "execute_result",
          "data": {
            "text/html": [
              "<div>\n",
              "<style scoped>\n",
              "    .dataframe tbody tr th:only-of-type {\n",
              "        vertical-align: middle;\n",
              "    }\n",
              "\n",
              "    .dataframe tbody tr th {\n",
              "        vertical-align: top;\n",
              "    }\n",
              "\n",
              "    .dataframe thead th {\n",
              "        text-align: right;\n",
              "    }\n",
              "</style>\n",
              "<table border=\"1\" class=\"dataframe\">\n",
              "  <thead>\n",
              "    <tr style=\"text-align: right;\">\n",
              "      <th></th>\n",
              "      <th>asin</th>\n",
              "      <th>brand</th>\n",
              "      <th>title</th>\n",
              "      <th>url</th>\n",
              "      <th>image</th>\n",
              "      <th>rating</th>\n",
              "      <th>reviewUrl</th>\n",
              "      <th>totalReviews</th>\n",
              "      <th>price</th>\n",
              "      <th>originalPrice</th>\n",
              "    </tr>\n",
              "  </thead>\n",
              "  <tbody>\n",
              "    <tr>\n",
              "      <th>0</th>\n",
              "      <td>B0000SX2UC</td>\n",
              "      <td>NaN</td>\n",
              "      <td>Dual-Band / Tri-Mode Sprint PCS Phone w/ Voice...</td>\n",
              "      <td>https://www.amazon.com/Dual-Band-Tri-Mode-Acti...</td>\n",
              "      <td>https://m.media-amazon.com/images/I/2143EBQ210...</td>\n",
              "      <td>3.0</td>\n",
              "      <td>https://www.amazon.com/product-reviews/B0000SX2UC</td>\n",
              "      <td>14</td>\n",
              "      <td>0.0</td>\n",
              "      <td>0.0</td>\n",
              "    </tr>\n",
              "  </tbody>\n",
              "</table>\n",
              "</div>"
            ],
            "text/plain": [
              "         asin brand  ... price originalPrice\n",
              "0  B0000SX2UC   NaN  ...   0.0           0.0\n",
              "\n",
              "[1 rows x 10 columns]"
            ]
          },
          "metadata": {
            "tags": []
          },
          "execution_count": 19
        }
      ]
    },
    {
      "cell_type": "markdown",
      "metadata": {
        "id": "rYCaaLjRLKeW",
        "colab_type": "text"
      },
      "source": [
        "# Exploratory Data Analysis"
      ]
    },
    {
      "cell_type": "markdown",
      "metadata": {
        "id": "dQZdq3VDV0-c",
        "colab_type": "text"
      },
      "source": [
        "## Items Dataset\n",
        "We have **720 phone models** and **10 features**.  \n",
        "*rating*, *totalReviews*, *price* and *originalPrice* are **numerical**.  \n",
        "All other features are **strings**.   \n",
        "\n",
        "No significant NA's in this dataset.  \n",
        "\n",
        "**Samsung** has the highest # of phones with 346, followed by **Motorola** having 105 and **Apple** has 63 phones.  \n",
        "\n",
        "**Xiaomi** has the best rating of 4.4/5 followed by **HUAWEI** and then **ASUS**."
      ]
    },
    {
      "cell_type": "code",
      "metadata": {
        "id": "b1QY54i5WLtH",
        "colab_type": "code",
        "outputId": "f3c72d88-5e61-48e2-8e77-c6e1bd02a870",
        "colab": {
          "base_uri": "https://localhost:8080/",
          "height": 223
        }
      },
      "source": [
        "items.dtypes"
      ],
      "execution_count": 0,
      "outputs": [
        {
          "output_type": "execute_result",
          "data": {
            "text/plain": [
              "asin              object\n",
              "brand             object\n",
              "title             object\n",
              "url               object\n",
              "image             object\n",
              "rating           float64\n",
              "reviewUrl         object\n",
              "totalReviews       int64\n",
              "price            float64\n",
              "originalPrice    float64\n",
              "dtype: object"
            ]
          },
          "metadata": {
            "tags": []
          },
          "execution_count": 6
        }
      ]
    },
    {
      "cell_type": "code",
      "metadata": {
        "id": "EFn0fpEiOZAq",
        "colab_type": "code",
        "outputId": "abd806a7-c5ca-44db-cd00-79e8dfeb4836",
        "colab": {
          "base_uri": "https://localhost:8080/",
          "height": 36
        }
      },
      "source": [
        "items.shape"
      ],
      "execution_count": 0,
      "outputs": [
        {
          "output_type": "execute_result",
          "data": {
            "text/plain": [
              "(720, 10)"
            ]
          },
          "metadata": {
            "tags": []
          },
          "execution_count": 7
        }
      ]
    },
    {
      "cell_type": "code",
      "metadata": {
        "id": "3FW7WPhIWLvx",
        "colab_type": "code",
        "outputId": "1a4190c4-83f8-4408-d226-f8ac8ae8a9c9",
        "colab": {
          "base_uri": "https://localhost:8080/",
          "height": 223
        }
      },
      "source": [
        "items.isna().sum()"
      ],
      "execution_count": 0,
      "outputs": [
        {
          "output_type": "execute_result",
          "data": {
            "text/plain": [
              "asin             0\n",
              "brand            4\n",
              "title            0\n",
              "url              0\n",
              "image            0\n",
              "rating           0\n",
              "reviewUrl        0\n",
              "totalReviews     0\n",
              "price            0\n",
              "originalPrice    0\n",
              "dtype: int64"
            ]
          },
          "metadata": {
            "tags": []
          },
          "execution_count": 8
        }
      ]
    },
    {
      "cell_type": "code",
      "metadata": {
        "id": "gwdj5f6wWP6v",
        "colab_type": "code",
        "outputId": "1727bf8e-2e9a-4aa0-e778-4ecc8965e172",
        "colab": {
          "base_uri": "https://localhost:8080/",
          "height": 394
        }
      },
      "source": [
        "item_brand = items.groupby('brand').agg({'asin':['count'], 'rating':['mean'], 'totalReviews':['sum']})\n",
        "item_brand.columns = ['count_phone', 'avg_rating', 'total_reviews']\n",
        "item_brand.sort_values(by=\"count_phone\", ascending=False)"
      ],
      "execution_count": 0,
      "outputs": [
        {
          "output_type": "execute_result",
          "data": {
            "text/html": [
              "<div>\n",
              "<style scoped>\n",
              "    .dataframe tbody tr th:only-of-type {\n",
              "        vertical-align: middle;\n",
              "    }\n",
              "\n",
              "    .dataframe tbody tr th {\n",
              "        vertical-align: top;\n",
              "    }\n",
              "\n",
              "    .dataframe thead th {\n",
              "        text-align: right;\n",
              "    }\n",
              "</style>\n",
              "<table border=\"1\" class=\"dataframe\">\n",
              "  <thead>\n",
              "    <tr style=\"text-align: right;\">\n",
              "      <th></th>\n",
              "      <th>count_phone</th>\n",
              "      <th>avg_rating</th>\n",
              "      <th>total_reviews</th>\n",
              "    </tr>\n",
              "    <tr>\n",
              "      <th>brand</th>\n",
              "      <th></th>\n",
              "      <th></th>\n",
              "      <th></th>\n",
              "    </tr>\n",
              "  </thead>\n",
              "  <tbody>\n",
              "    <tr>\n",
              "      <th>Samsung</th>\n",
              "      <td>346</td>\n",
              "      <td>3.632659</td>\n",
              "      <td>37701</td>\n",
              "    </tr>\n",
              "    <tr>\n",
              "      <th>Motorola</th>\n",
              "      <td>105</td>\n",
              "      <td>3.643810</td>\n",
              "      <td>9419</td>\n",
              "    </tr>\n",
              "    <tr>\n",
              "      <th>Apple</th>\n",
              "      <td>63</td>\n",
              "      <td>3.782540</td>\n",
              "      <td>6315</td>\n",
              "    </tr>\n",
              "    <tr>\n",
              "      <th>Xiaomi</th>\n",
              "      <td>46</td>\n",
              "      <td>4.415217</td>\n",
              "      <td>5574</td>\n",
              "    </tr>\n",
              "    <tr>\n",
              "      <th>Nokia</th>\n",
              "      <td>44</td>\n",
              "      <td>3.386364</td>\n",
              "      <td>6182</td>\n",
              "    </tr>\n",
              "    <tr>\n",
              "      <th>Google</th>\n",
              "      <td>38</td>\n",
              "      <td>3.771053</td>\n",
              "      <td>4238</td>\n",
              "    </tr>\n",
              "    <tr>\n",
              "      <th>HUAWEI</th>\n",
              "      <td>32</td>\n",
              "      <td>4.021875</td>\n",
              "      <td>2467</td>\n",
              "    </tr>\n",
              "    <tr>\n",
              "      <th>Sony</th>\n",
              "      <td>27</td>\n",
              "      <td>3.788889</td>\n",
              "      <td>3312</td>\n",
              "    </tr>\n",
              "    <tr>\n",
              "      <th>OnePlus</th>\n",
              "      <td>10</td>\n",
              "      <td>3.580000</td>\n",
              "      <td>406</td>\n",
              "    </tr>\n",
              "    <tr>\n",
              "      <th>ASUS</th>\n",
              "      <td>5</td>\n",
              "      <td>3.860000</td>\n",
              "      <td>263</td>\n",
              "    </tr>\n",
              "  </tbody>\n",
              "</table>\n",
              "</div>"
            ],
            "text/plain": [
              "          count_phone  avg_rating  total_reviews\n",
              "brand                                           \n",
              "Samsung           346    3.632659          37701\n",
              "Motorola          105    3.643810           9419\n",
              "Apple              63    3.782540           6315\n",
              "Xiaomi             46    4.415217           5574\n",
              "Nokia              44    3.386364           6182\n",
              "Google             38    3.771053           4238\n",
              "HUAWEI             32    4.021875           2467\n",
              "Sony               27    3.788889           3312\n",
              "OnePlus            10    3.580000            406\n",
              "ASUS                5    3.860000            263"
            ]
          },
          "metadata": {
            "tags": []
          },
          "execution_count": 42
        }
      ]
    },
    {
      "cell_type": "code",
      "metadata": {
        "id": "Pawg3-oYgocZ",
        "colab_type": "code",
        "outputId": "04e75e5f-c27a-47f2-d9fc-96fa90375150",
        "colab": {
          "base_uri": "https://localhost:8080/",
          "height": 394
        }
      },
      "source": [
        "item_brand.sort_values(by=\"avg_rating\", ascending=False)"
      ],
      "execution_count": 0,
      "outputs": [
        {
          "output_type": "execute_result",
          "data": {
            "text/html": [
              "<div>\n",
              "<style scoped>\n",
              "    .dataframe tbody tr th:only-of-type {\n",
              "        vertical-align: middle;\n",
              "    }\n",
              "\n",
              "    .dataframe tbody tr th {\n",
              "        vertical-align: top;\n",
              "    }\n",
              "\n",
              "    .dataframe thead th {\n",
              "        text-align: right;\n",
              "    }\n",
              "</style>\n",
              "<table border=\"1\" class=\"dataframe\">\n",
              "  <thead>\n",
              "    <tr style=\"text-align: right;\">\n",
              "      <th></th>\n",
              "      <th>count_phone</th>\n",
              "      <th>avg_rating</th>\n",
              "      <th>total_reviews</th>\n",
              "    </tr>\n",
              "    <tr>\n",
              "      <th>brand</th>\n",
              "      <th></th>\n",
              "      <th></th>\n",
              "      <th></th>\n",
              "    </tr>\n",
              "  </thead>\n",
              "  <tbody>\n",
              "    <tr>\n",
              "      <th>Xiaomi</th>\n",
              "      <td>46</td>\n",
              "      <td>4.415217</td>\n",
              "      <td>5574</td>\n",
              "    </tr>\n",
              "    <tr>\n",
              "      <th>HUAWEI</th>\n",
              "      <td>32</td>\n",
              "      <td>4.021875</td>\n",
              "      <td>2467</td>\n",
              "    </tr>\n",
              "    <tr>\n",
              "      <th>ASUS</th>\n",
              "      <td>5</td>\n",
              "      <td>3.860000</td>\n",
              "      <td>263</td>\n",
              "    </tr>\n",
              "    <tr>\n",
              "      <th>Sony</th>\n",
              "      <td>27</td>\n",
              "      <td>3.788889</td>\n",
              "      <td>3312</td>\n",
              "    </tr>\n",
              "    <tr>\n",
              "      <th>Apple</th>\n",
              "      <td>63</td>\n",
              "      <td>3.782540</td>\n",
              "      <td>6315</td>\n",
              "    </tr>\n",
              "    <tr>\n",
              "      <th>Google</th>\n",
              "      <td>38</td>\n",
              "      <td>3.771053</td>\n",
              "      <td>4238</td>\n",
              "    </tr>\n",
              "    <tr>\n",
              "      <th>Motorola</th>\n",
              "      <td>105</td>\n",
              "      <td>3.643810</td>\n",
              "      <td>9419</td>\n",
              "    </tr>\n",
              "    <tr>\n",
              "      <th>Samsung</th>\n",
              "      <td>346</td>\n",
              "      <td>3.632659</td>\n",
              "      <td>37701</td>\n",
              "    </tr>\n",
              "    <tr>\n",
              "      <th>OnePlus</th>\n",
              "      <td>10</td>\n",
              "      <td>3.580000</td>\n",
              "      <td>406</td>\n",
              "    </tr>\n",
              "    <tr>\n",
              "      <th>Nokia</th>\n",
              "      <td>44</td>\n",
              "      <td>3.386364</td>\n",
              "      <td>6182</td>\n",
              "    </tr>\n",
              "  </tbody>\n",
              "</table>\n",
              "</div>"
            ],
            "text/plain": [
              "          count_phone  avg_rating  total_reviews\n",
              "brand                                           \n",
              "Xiaomi             46    4.415217           5574\n",
              "HUAWEI             32    4.021875           2467\n",
              "ASUS                5    3.860000            263\n",
              "Sony               27    3.788889           3312\n",
              "Apple              63    3.782540           6315\n",
              "Google             38    3.771053           4238\n",
              "Motorola          105    3.643810           9419\n",
              "Samsung           346    3.632659          37701\n",
              "OnePlus            10    3.580000            406\n",
              "Nokia              44    3.386364           6182"
            ]
          },
          "metadata": {
            "tags": []
          },
          "execution_count": 43
        }
      ]
    },
    {
      "cell_type": "markdown",
      "metadata": {
        "id": "yJXEk7wVV9_q",
        "colab_type": "text"
      },
      "source": [
        "## Reviews Dataset\n",
        "We have **67986 reviews** with **8 features**.  \n",
        "*rating* and *helpfulVotes* are **numerical**.  \n",
        "All other features are **strings**.\n",
        "\n",
        "*helpfulVotes* has a lot of NA's.  \n",
        "The other features have very few NA's.  \n",
        "\n",
        "40% of the reviews are for **Samsung**."
      ]
    },
    {
      "cell_type": "code",
      "metadata": {
        "id": "iwYOOw16WFvz",
        "colab_type": "code",
        "outputId": "ed7022a3-a721-4a9b-c392-e9bd54af45c2",
        "colab": {
          "base_uri": "https://localhost:8080/",
          "height": 185
        }
      },
      "source": [
        "reviews.dtypes"
      ],
      "execution_count": 0,
      "outputs": [
        {
          "output_type": "execute_result",
          "data": {
            "text/plain": [
              "asin             object\n",
              "name             object\n",
              "rating            int64\n",
              "date             object\n",
              "verified           bool\n",
              "title            object\n",
              "body             object\n",
              "helpfulVotes    float64\n",
              "dtype: object"
            ]
          },
          "metadata": {
            "tags": []
          },
          "execution_count": 25
        }
      ]
    },
    {
      "cell_type": "code",
      "metadata": {
        "id": "wAAniTzIWvg2",
        "colab_type": "code",
        "outputId": "ceff9e71-71c0-4d4d-9f14-d98d4d325d67",
        "colab": {
          "base_uri": "https://localhost:8080/",
          "height": 185
        }
      },
      "source": [
        "reviews.isna().sum()"
      ],
      "execution_count": 0,
      "outputs": [
        {
          "output_type": "execute_result",
          "data": {
            "text/plain": [
              "asin                0\n",
              "name                2\n",
              "rating              0\n",
              "date                0\n",
              "verified            0\n",
              "title              14\n",
              "body               21\n",
              "helpfulVotes    40771\n",
              "dtype: int64"
            ]
          },
          "metadata": {
            "tags": []
          },
          "execution_count": 26
        }
      ]
    },
    {
      "cell_type": "code",
      "metadata": {
        "id": "-EreXKhfsIy0",
        "colab_type": "code",
        "outputId": "30e022d7-a90d-4531-cb9d-0cf476230d2c",
        "colab": {
          "base_uri": "https://localhost:8080/",
          "height": 36
        }
      },
      "source": [
        "reviews.shape"
      ],
      "execution_count": 0,
      "outputs": [
        {
          "output_type": "execute_result",
          "data": {
            "text/plain": [
              "(67986, 8)"
            ]
          },
          "metadata": {
            "tags": []
          },
          "execution_count": 27
        }
      ]
    },
    {
      "cell_type": "markdown",
      "metadata": {
        "id": "dbOayCrlWBfd",
        "colab_type": "text"
      },
      "source": [
        "## Merged Dataset\n",
        "\n",
        "The dataset pulled atleast 80% of data available at that time per brand. **Samsung**, **Motorola** and **Nokia** have 90+% data.  \n",
        "\n",
        "The highest deviation in ratings due to missing reviews is for OnePlus phones at 0.63. **Samsung**, **Motorola**, **Nokia** and **Apple** have less than 0.2 rating deviation.  \n",
        "\n",
        "We see a bi-modal distribution of ratings for all the brands which is also representative of the plot with all brands combined.  \n",
        "\n"
      ]
    },
    {
      "cell_type": "code",
      "metadata": {
        "id": "WB5Zk8GYOk1x",
        "colab_type": "code",
        "outputId": "669822e4-107f-4e53-f77d-4e4fbf124996",
        "colab": {
          "base_uri": "https://localhost:8080/",
          "height": 363
        }
      },
      "source": [
        "# Create a merged dataframe\n",
        "df = pd.merge(reviews, items, on='asin')\n",
        "\n",
        "# Find brand-wise summary\n",
        "df_brand = df.groupby('brand').agg({'asin':['count'], 'rating_x':['mean']}).reset_index()\n",
        "df_brand.columns = ['brand', 'reviews', 'avg_avlb_rating']\n",
        "df_brand = df_brand.sort_values(by='reviews',ascending=False)\n",
        "brand_summary = pd.merge(df_brand, item_brand, on='brand')\n",
        "brand_summary['data_ratio'] = brand_summary['reviews']/brand_summary['total_reviews']\n",
        "brand_summary['rating_dev'] = brand_summary['avg_avlb_rating'] - brand_summary['avg_rating']\n",
        "brand_summary"
      ],
      "execution_count": 0,
      "outputs": [
        {
          "output_type": "execute_result",
          "data": {
            "text/html": [
              "<div>\n",
              "<style scoped>\n",
              "    .dataframe tbody tr th:only-of-type {\n",
              "        vertical-align: middle;\n",
              "    }\n",
              "\n",
              "    .dataframe tbody tr th {\n",
              "        vertical-align: top;\n",
              "    }\n",
              "\n",
              "    .dataframe thead th {\n",
              "        text-align: right;\n",
              "    }\n",
              "</style>\n",
              "<table border=\"1\" class=\"dataframe\">\n",
              "  <thead>\n",
              "    <tr style=\"text-align: right;\">\n",
              "      <th></th>\n",
              "      <th>brand</th>\n",
              "      <th>reviews</th>\n",
              "      <th>avg_avlb_rating</th>\n",
              "      <th>count_phone</th>\n",
              "      <th>avg_rating</th>\n",
              "      <th>total_reviews</th>\n",
              "      <th>data_ratio</th>\n",
              "      <th>rating_dev</th>\n",
              "    </tr>\n",
              "  </thead>\n",
              "  <tbody>\n",
              "    <tr>\n",
              "      <th>0</th>\n",
              "      <td>Samsung</td>\n",
              "      <td>33629</td>\n",
              "      <td>3.781736</td>\n",
              "      <td>346</td>\n",
              "      <td>3.632659</td>\n",
              "      <td>37701</td>\n",
              "      <td>0.891992</td>\n",
              "      <td>0.149077</td>\n",
              "    </tr>\n",
              "    <tr>\n",
              "      <th>1</th>\n",
              "      <td>Motorola</td>\n",
              "      <td>8880</td>\n",
              "      <td>3.818694</td>\n",
              "      <td>105</td>\n",
              "      <td>3.643810</td>\n",
              "      <td>9419</td>\n",
              "      <td>0.942775</td>\n",
              "      <td>0.174884</td>\n",
              "    </tr>\n",
              "    <tr>\n",
              "      <th>2</th>\n",
              "      <td>Nokia</td>\n",
              "      <td>5915</td>\n",
              "      <td>3.584446</td>\n",
              "      <td>44</td>\n",
              "      <td>3.386364</td>\n",
              "      <td>6182</td>\n",
              "      <td>0.956810</td>\n",
              "      <td>0.198083</td>\n",
              "    </tr>\n",
              "    <tr>\n",
              "      <th>3</th>\n",
              "      <td>Apple</td>\n",
              "      <td>5145</td>\n",
              "      <td>3.701263</td>\n",
              "      <td>63</td>\n",
              "      <td>3.782540</td>\n",
              "      <td>6315</td>\n",
              "      <td>0.814727</td>\n",
              "      <td>-0.081276</td>\n",
              "    </tr>\n",
              "    <tr>\n",
              "      <th>4</th>\n",
              "      <td>Xiaomi</td>\n",
              "      <td>4411</td>\n",
              "      <td>4.371344</td>\n",
              "      <td>46</td>\n",
              "      <td>4.415217</td>\n",
              "      <td>5574</td>\n",
              "      <td>0.791353</td>\n",
              "      <td>-0.043873</td>\n",
              "    </tr>\n",
              "    <tr>\n",
              "      <th>5</th>\n",
              "      <td>Google</td>\n",
              "      <td>3787</td>\n",
              "      <td>3.584896</td>\n",
              "      <td>38</td>\n",
              "      <td>3.771053</td>\n",
              "      <td>4238</td>\n",
              "      <td>0.893582</td>\n",
              "      <td>-0.186157</td>\n",
              "    </tr>\n",
              "    <tr>\n",
              "      <th>6</th>\n",
              "      <td>Sony</td>\n",
              "      <td>3196</td>\n",
              "      <td>3.786921</td>\n",
              "      <td>27</td>\n",
              "      <td>3.788889</td>\n",
              "      <td>3312</td>\n",
              "      <td>0.964976</td>\n",
              "      <td>-0.001968</td>\n",
              "    </tr>\n",
              "    <tr>\n",
              "      <th>7</th>\n",
              "      <td>HUAWEI</td>\n",
              "      <td>2225</td>\n",
              "      <td>4.240899</td>\n",
              "      <td>32</td>\n",
              "      <td>4.021875</td>\n",
              "      <td>2467</td>\n",
              "      <td>0.901905</td>\n",
              "      <td>0.219024</td>\n",
              "    </tr>\n",
              "    <tr>\n",
              "      <th>8</th>\n",
              "      <td>OnePlus</td>\n",
              "      <td>347</td>\n",
              "      <td>4.213256</td>\n",
              "      <td>10</td>\n",
              "      <td>3.580000</td>\n",
              "      <td>406</td>\n",
              "      <td>0.854680</td>\n",
              "      <td>0.633256</td>\n",
              "    </tr>\n",
              "    <tr>\n",
              "      <th>9</th>\n",
              "      <td>ASUS</td>\n",
              "      <td>251</td>\n",
              "      <td>3.721116</td>\n",
              "      <td>5</td>\n",
              "      <td>3.860000</td>\n",
              "      <td>263</td>\n",
              "      <td>0.954373</td>\n",
              "      <td>-0.138884</td>\n",
              "    </tr>\n",
              "  </tbody>\n",
              "</table>\n",
              "</div>"
            ],
            "text/plain": [
              "      brand  reviews  avg_avlb_rating  ...  total_reviews  data_ratio  rating_dev\n",
              "0   Samsung    33629         3.781736  ...          37701    0.891992    0.149077\n",
              "1  Motorola     8880         3.818694  ...           9419    0.942775    0.174884\n",
              "2     Nokia     5915         3.584446  ...           6182    0.956810    0.198083\n",
              "3     Apple     5145         3.701263  ...           6315    0.814727   -0.081276\n",
              "4    Xiaomi     4411         4.371344  ...           5574    0.791353   -0.043873\n",
              "5    Google     3787         3.584896  ...           4238    0.893582   -0.186157\n",
              "6      Sony     3196         3.786921  ...           3312    0.964976   -0.001968\n",
              "7    HUAWEI     2225         4.240899  ...           2467    0.901905    0.219024\n",
              "8   OnePlus      347         4.213256  ...            406    0.854680    0.633256\n",
              "9      ASUS      251         3.721116  ...            263    0.954373   -0.138884\n",
              "\n",
              "[10 rows x 8 columns]"
            ]
          },
          "metadata": {
            "tags": []
          },
          "execution_count": 64
        }
      ]
    },
    {
      "cell_type": "code",
      "metadata": {
        "id": "LcHYfOST4HGw",
        "colab_type": "code",
        "outputId": "33fd4e00-973b-41ea-cc1d-4d579104ce29",
        "colab": {
          "base_uri": "https://localhost:8080/",
          "height": 394
        }
      },
      "source": [
        "brand_rating = pd.pivot_table(df, values='asin', index=['brand'], columns=['rating_x'], aggfunc='count')\n",
        "brand_rating"
      ],
      "execution_count": 0,
      "outputs": [
        {
          "output_type": "execute_result",
          "data": {
            "text/html": [
              "<div>\n",
              "<style scoped>\n",
              "    .dataframe tbody tr th:only-of-type {\n",
              "        vertical-align: middle;\n",
              "    }\n",
              "\n",
              "    .dataframe tbody tr th {\n",
              "        vertical-align: top;\n",
              "    }\n",
              "\n",
              "    .dataframe thead th {\n",
              "        text-align: right;\n",
              "    }\n",
              "</style>\n",
              "<table border=\"1\" class=\"dataframe\">\n",
              "  <thead>\n",
              "    <tr style=\"text-align: right;\">\n",
              "      <th>rating_x</th>\n",
              "      <th>1</th>\n",
              "      <th>2</th>\n",
              "      <th>3</th>\n",
              "      <th>4</th>\n",
              "      <th>5</th>\n",
              "    </tr>\n",
              "    <tr>\n",
              "      <th>brand</th>\n",
              "      <th></th>\n",
              "      <th></th>\n",
              "      <th></th>\n",
              "      <th></th>\n",
              "      <th></th>\n",
              "    </tr>\n",
              "  </thead>\n",
              "  <tbody>\n",
              "    <tr>\n",
              "      <th>ASUS</th>\n",
              "      <td>41</td>\n",
              "      <td>23</td>\n",
              "      <td>25</td>\n",
              "      <td>38</td>\n",
              "      <td>124</td>\n",
              "    </tr>\n",
              "    <tr>\n",
              "      <th>Apple</th>\n",
              "      <td>1191</td>\n",
              "      <td>243</td>\n",
              "      <td>322</td>\n",
              "      <td>545</td>\n",
              "      <td>2844</td>\n",
              "    </tr>\n",
              "    <tr>\n",
              "      <th>Google</th>\n",
              "      <td>883</td>\n",
              "      <td>286</td>\n",
              "      <td>267</td>\n",
              "      <td>435</td>\n",
              "      <td>1916</td>\n",
              "    </tr>\n",
              "    <tr>\n",
              "      <th>HUAWEI</th>\n",
              "      <td>246</td>\n",
              "      <td>63</td>\n",
              "      <td>124</td>\n",
              "      <td>268</td>\n",
              "      <td>1524</td>\n",
              "    </tr>\n",
              "    <tr>\n",
              "      <th>Motorola</th>\n",
              "      <td>1562</td>\n",
              "      <td>542</td>\n",
              "      <td>653</td>\n",
              "      <td>1310</td>\n",
              "      <td>4813</td>\n",
              "    </tr>\n",
              "    <tr>\n",
              "      <th>Nokia</th>\n",
              "      <td>1253</td>\n",
              "      <td>457</td>\n",
              "      <td>540</td>\n",
              "      <td>910</td>\n",
              "      <td>2755</td>\n",
              "    </tr>\n",
              "    <tr>\n",
              "      <th>OnePlus</th>\n",
              "      <td>46</td>\n",
              "      <td>6</td>\n",
              "      <td>13</td>\n",
              "      <td>45</td>\n",
              "      <td>237</td>\n",
              "    </tr>\n",
              "    <tr>\n",
              "      <th>Samsung</th>\n",
              "      <td>6646</td>\n",
              "      <td>1891</td>\n",
              "      <td>2292</td>\n",
              "      <td>4128</td>\n",
              "      <td>18672</td>\n",
              "    </tr>\n",
              "    <tr>\n",
              "      <th>Sony</th>\n",
              "      <td>511</td>\n",
              "      <td>259</td>\n",
              "      <td>280</td>\n",
              "      <td>496</td>\n",
              "      <td>1650</td>\n",
              "    </tr>\n",
              "    <tr>\n",
              "      <th>Xiaomi</th>\n",
              "      <td>334</td>\n",
              "      <td>126</td>\n",
              "      <td>222</td>\n",
              "      <td>615</td>\n",
              "      <td>3114</td>\n",
              "    </tr>\n",
              "  </tbody>\n",
              "</table>\n",
              "</div>"
            ],
            "text/plain": [
              "rating_x     1     2     3     4      5\n",
              "brand                                  \n",
              "ASUS        41    23    25    38    124\n",
              "Apple     1191   243   322   545   2844\n",
              "Google     883   286   267   435   1916\n",
              "HUAWEI     246    63   124   268   1524\n",
              "Motorola  1562   542   653  1310   4813\n",
              "Nokia     1253   457   540   910   2755\n",
              "OnePlus     46     6    13    45    237\n",
              "Samsung   6646  1891  2292  4128  18672\n",
              "Sony       511   259   280   496   1650\n",
              "Xiaomi     334   126   222   615   3114"
            ]
          },
          "metadata": {
            "tags": []
          },
          "execution_count": 85
        }
      ]
    },
    {
      "cell_type": "code",
      "metadata": {
        "id": "jFudd7JlACvG",
        "colab_type": "code",
        "outputId": "67e0d7b5-e950-499a-9b78-fba80d63ee94",
        "colab": {
          "base_uri": "https://localhost:8080/",
          "height": 394
        }
      },
      "source": [
        "brand_rating = brand_rating.div(brand_rating.sum(axis=1), axis=0)\n",
        "brand_rating"
      ],
      "execution_count": 0,
      "outputs": [
        {
          "output_type": "execute_result",
          "data": {
            "text/html": [
              "<div>\n",
              "<style scoped>\n",
              "    .dataframe tbody tr th:only-of-type {\n",
              "        vertical-align: middle;\n",
              "    }\n",
              "\n",
              "    .dataframe tbody tr th {\n",
              "        vertical-align: top;\n",
              "    }\n",
              "\n",
              "    .dataframe thead th {\n",
              "        text-align: right;\n",
              "    }\n",
              "</style>\n",
              "<table border=\"1\" class=\"dataframe\">\n",
              "  <thead>\n",
              "    <tr style=\"text-align: right;\">\n",
              "      <th>rating_x</th>\n",
              "      <th>1</th>\n",
              "      <th>2</th>\n",
              "      <th>3</th>\n",
              "      <th>4</th>\n",
              "      <th>5</th>\n",
              "    </tr>\n",
              "    <tr>\n",
              "      <th>brand</th>\n",
              "      <th></th>\n",
              "      <th></th>\n",
              "      <th></th>\n",
              "      <th></th>\n",
              "      <th></th>\n",
              "    </tr>\n",
              "  </thead>\n",
              "  <tbody>\n",
              "    <tr>\n",
              "      <th>ASUS</th>\n",
              "      <td>0.163347</td>\n",
              "      <td>0.091633</td>\n",
              "      <td>0.099602</td>\n",
              "      <td>0.151394</td>\n",
              "      <td>0.494024</td>\n",
              "    </tr>\n",
              "    <tr>\n",
              "      <th>Apple</th>\n",
              "      <td>0.231487</td>\n",
              "      <td>0.047230</td>\n",
              "      <td>0.062585</td>\n",
              "      <td>0.105928</td>\n",
              "      <td>0.552770</td>\n",
              "    </tr>\n",
              "    <tr>\n",
              "      <th>Google</th>\n",
              "      <td>0.233166</td>\n",
              "      <td>0.075522</td>\n",
              "      <td>0.070504</td>\n",
              "      <td>0.114867</td>\n",
              "      <td>0.505941</td>\n",
              "    </tr>\n",
              "    <tr>\n",
              "      <th>HUAWEI</th>\n",
              "      <td>0.110562</td>\n",
              "      <td>0.028315</td>\n",
              "      <td>0.055730</td>\n",
              "      <td>0.120449</td>\n",
              "      <td>0.684944</td>\n",
              "    </tr>\n",
              "    <tr>\n",
              "      <th>Motorola</th>\n",
              "      <td>0.175901</td>\n",
              "      <td>0.061036</td>\n",
              "      <td>0.073536</td>\n",
              "      <td>0.147523</td>\n",
              "      <td>0.542005</td>\n",
              "    </tr>\n",
              "    <tr>\n",
              "      <th>Nokia</th>\n",
              "      <td>0.211834</td>\n",
              "      <td>0.077261</td>\n",
              "      <td>0.091293</td>\n",
              "      <td>0.153846</td>\n",
              "      <td>0.465765</td>\n",
              "    </tr>\n",
              "    <tr>\n",
              "      <th>OnePlus</th>\n",
              "      <td>0.132565</td>\n",
              "      <td>0.017291</td>\n",
              "      <td>0.037464</td>\n",
              "      <td>0.129683</td>\n",
              "      <td>0.682997</td>\n",
              "    </tr>\n",
              "    <tr>\n",
              "      <th>Samsung</th>\n",
              "      <td>0.197627</td>\n",
              "      <td>0.056231</td>\n",
              "      <td>0.068155</td>\n",
              "      <td>0.122751</td>\n",
              "      <td>0.555235</td>\n",
              "    </tr>\n",
              "    <tr>\n",
              "      <th>Sony</th>\n",
              "      <td>0.159887</td>\n",
              "      <td>0.081039</td>\n",
              "      <td>0.087610</td>\n",
              "      <td>0.155194</td>\n",
              "      <td>0.516270</td>\n",
              "    </tr>\n",
              "    <tr>\n",
              "      <th>Xiaomi</th>\n",
              "      <td>0.075720</td>\n",
              "      <td>0.028565</td>\n",
              "      <td>0.050329</td>\n",
              "      <td>0.139424</td>\n",
              "      <td>0.705962</td>\n",
              "    </tr>\n",
              "  </tbody>\n",
              "</table>\n",
              "</div>"
            ],
            "text/plain": [
              "rating_x         1         2         3         4         5\n",
              "brand                                                     \n",
              "ASUS      0.163347  0.091633  0.099602  0.151394  0.494024\n",
              "Apple     0.231487  0.047230  0.062585  0.105928  0.552770\n",
              "Google    0.233166  0.075522  0.070504  0.114867  0.505941\n",
              "HUAWEI    0.110562  0.028315  0.055730  0.120449  0.684944\n",
              "Motorola  0.175901  0.061036  0.073536  0.147523  0.542005\n",
              "Nokia     0.211834  0.077261  0.091293  0.153846  0.465765\n",
              "OnePlus   0.132565  0.017291  0.037464  0.129683  0.682997\n",
              "Samsung   0.197627  0.056231  0.068155  0.122751  0.555235\n",
              "Sony      0.159887  0.081039  0.087610  0.155194  0.516270\n",
              "Xiaomi    0.075720  0.028565  0.050329  0.139424  0.705962"
            ]
          },
          "metadata": {
            "tags": []
          },
          "execution_count": 86
        }
      ]
    },
    {
      "cell_type": "code",
      "metadata": {
        "id": "1ccYDLVY__1O",
        "colab_type": "code",
        "outputId": "5ba057e2-e7ef-4ffa-ced7-fd84e15fa247",
        "colab": {
          "base_uri": "https://localhost:8080/",
          "height": 580
        }
      },
      "source": [
        "brand_rating.plot(kind='bar', figsize=(10,8))"
      ],
      "execution_count": 0,
      "outputs": [
        {
          "output_type": "execute_result",
          "data": {
            "text/plain": [
              "<matplotlib.axes._subplots.AxesSubplot at 0x7efc482be5f8>"
            ]
          },
          "metadata": {
            "tags": []
          },
          "execution_count": 96
        },
        {
          "output_type": "display_data",
          "data": {
            "image/png": "[encoded data removed]",
            "text/plain": [
              "<Figure size 720x576 with 1 Axes>"
            ]
          },
          "metadata": {
            "tags": [],
            "needs_background": "light"
          }
        }
      ]
    },
    {
      "cell_type": "code",
      "metadata": {
        "id": "VIn_JDG1Lu4V",
        "colab_type": "code",
        "outputId": "aa3508ce-f738-45cd-b262-e689ca8be4a6",
        "colab": {
          "base_uri": "https://localhost:8080/",
          "height": 522
        }
      },
      "source": [
        "pd.DataFrame(df['rating_x'].value_counts()).reset_index().sort_values(by=\"index\").plot(kind=\"bar\", x=\"index\", figsize=(10,8))"
      ],
      "execution_count": 0,
      "outputs": [
        {
          "output_type": "execute_result",
          "data": {
            "text/plain": [
              "<matplotlib.axes._subplots.AxesSubplot at 0x7efc48047ac8>"
            ]
          },
          "metadata": {
            "tags": []
          },
          "execution_count": 116
        },
        {
          "output_type": "display_data",
          "data": {
            "image/png": "[encoded data removed]",
            "text/plain": [
              "<Figure size 720x576 with 1 Axes>"
            ]
          },
          "metadata": {
            "tags": [],
            "needs_background": "light"
          }
        }
      ]
    },
    {
      "cell_type": "markdown",
      "metadata": {
        "id": "2YlyiVKDbn2n",
        "colab_type": "text"
      },
      "source": [
        "## Cleaning"
      ]
    },
    {
      "cell_type": "code",
      "metadata": {
        "id": "EntmmEBYRM-7",
        "colab_type": "code",
        "colab": {}
      },
      "source": [
        "df_reviews = df[['body', 'brand']].reset_index()\n",
        "df_reviews['body'] = df_reviews['body'].fillna(\"\")\n",
        "df_reviews['word_count'] = 0\n",
        "df_reviews['most_common'] = \"\"\n",
        "df_reviews['common_count'] = 0"
      ],
      "execution_count": 0,
      "outputs": []
    },
    {
      "cell_type": "code",
      "metadata": {
        "id": "MD0TqqJWRM0b",
        "colab_type": "code",
        "outputId": "abf7ba94-bc87-44cf-d7d4-735fe3a2690b",
        "colab": {
          "base_uri": "https://localhost:8080/",
          "height": 206
        }
      },
      "source": [
        "df_reviews.tail()"
      ],
      "execution_count": 0,
      "outputs": [
        {
          "output_type": "execute_result",
          "data": {
            "text/html": [
              "<div>\n",
              "<style scoped>\n",
              "    .dataframe tbody tr th:only-of-type {\n",
              "        vertical-align: middle;\n",
              "    }\n",
              "\n",
              "    .dataframe tbody tr th {\n",
              "        vertical-align: top;\n",
              "    }\n",
              "\n",
              "    .dataframe thead th {\n",
              "        text-align: right;\n",
              "    }\n",
              "</style>\n",
              "<table border=\"1\" class=\"dataframe\">\n",
              "  <thead>\n",
              "    <tr style=\"text-align: right;\">\n",
              "      <th></th>\n",
              "      <th>index</th>\n",
              "      <th>body</th>\n",
              "      <th>brand</th>\n",
              "      <th>word_count</th>\n",
              "      <th>most_common</th>\n",
              "      <th>common_count</th>\n",
              "    </tr>\n",
              "  </thead>\n",
              "  <tbody>\n",
              "    <tr>\n",
              "      <th>67981</th>\n",
              "      <td>67981</td>\n",
              "      <td>I love the camera on this phone. The screen is...</td>\n",
              "      <td>Sony</td>\n",
              "      <td>0</td>\n",
              "      <td></td>\n",
              "      <td>0</td>\n",
              "    </tr>\n",
              "    <tr>\n",
              "      <th>67982</th>\n",
              "      <td>67982</td>\n",
              "      <td>I've been an Xperia user for several years and...</td>\n",
              "      <td>Sony</td>\n",
              "      <td>0</td>\n",
              "      <td></td>\n",
              "      <td>0</td>\n",
              "    </tr>\n",
              "    <tr>\n",
              "      <th>67983</th>\n",
              "      <td>67983</td>\n",
              "      <td>buy one more for my cousin</td>\n",
              "      <td>Sony</td>\n",
              "      <td>0</td>\n",
              "      <td></td>\n",
              "      <td>0</td>\n",
              "    </tr>\n",
              "    <tr>\n",
              "      <th>67984</th>\n",
              "      <td>67984</td>\n",
              "      <td>Product looks and works like new. Very much re...</td>\n",
              "      <td>Apple</td>\n",
              "      <td>0</td>\n",
              "      <td></td>\n",
              "      <td>0</td>\n",
              "    </tr>\n",
              "    <tr>\n",
              "      <th>67985</th>\n",
              "      <td>67985</td>\n",
              "      <td>I love the size and style of this phone. It is...</td>\n",
              "      <td>Samsung</td>\n",
              "      <td>0</td>\n",
              "      <td></td>\n",
              "      <td>0</td>\n",
              "    </tr>\n",
              "  </tbody>\n",
              "</table>\n",
              "</div>"
            ],
            "text/plain": [
              "       index  ... common_count\n",
              "67981  67981  ...            0\n",
              "67982  67982  ...            0\n",
              "67983  67983  ...            0\n",
              "67984  67984  ...            0\n",
              "67985  67985  ...            0\n",
              "\n",
              "[5 rows x 6 columns]"
            ]
          },
          "metadata": {
            "tags": []
          },
          "execution_count": 132
        }
      ]
    },
    {
      "cell_type": "code",
      "metadata": {
        "id": "O5FhN0ggRMl0",
        "colab_type": "code",
        "colab": {}
      },
      "source": [
        "stop_words = set(stopwords.words(\"english\"))\n",
        "for i in range(df_reviews.shape[0]):\n",
        "    #Pick reviews one-by-one\n",
        "    rev = df_reviews.iloc[i,1]\n",
        "    \n",
        "    # Make text lowercase, remove punctuation and remove words containing numbers\n",
        "    rev = rev.lower()\n",
        "    rev = rev.replace(\".\",\" .\")\n",
        "    rev = rev.replace(\"’\",\" ’\")\n",
        "    rev = re.sub('[%s]' % re.escape(string.punctuation), '', rev)\n",
        "    rev = re.sub('\\w*\\d\\w*', '', rev)\n",
        "\n",
        "    # Tokenize the review\n",
        "    tok_rev = word_tokenize(rev)\n",
        "    \n",
        "    #remove stop words\n",
        "    filtered_rev = []\n",
        "    for w in tok_rev:\n",
        "        if w not in stop_words:\n",
        "            filtered_rev.append(w)\n",
        "    \n",
        "    #Compute number of words\n",
        "    df_reviews.iloc[i,3] = len(filtered_rev)\n",
        "    \n",
        "    #Find the most common word and its count\n",
        "    fdist = FreqDist(filtered_rev)\n",
        "    \n",
        "    if len(filtered_rev) > 1:\n",
        "        df_reviews.iloc[i,4] = fdist.most_common(1)[0][0]\n",
        "        df_reviews.iloc[i,5] = fdist.most_common(1)[0][1]\n",
        "    else:\n",
        "        df_reviews.iloc[i,4] = \"\"\n",
        "        df_reviews.iloc[i,5] = 0"
      ],
      "execution_count": 0,
      "outputs": []
    },
    {
      "cell_type": "code",
      "metadata": {
        "id": "grFRd9yaRTyl",
        "colab_type": "code",
        "outputId": "ffa90d9c-25a5-4551-d421-566b8c259437",
        "colab": {
          "base_uri": "https://localhost:8080/",
          "height": 206
        }
      },
      "source": [
        "df_reviews.head()"
      ],
      "execution_count": 0,
      "outputs": [
        {
          "output_type": "execute_result",
          "data": {
            "text/html": [
              "<div>\n",
              "<style scoped>\n",
              "    .dataframe tbody tr th:only-of-type {\n",
              "        vertical-align: middle;\n",
              "    }\n",
              "\n",
              "    .dataframe tbody tr th {\n",
              "        vertical-align: top;\n",
              "    }\n",
              "\n",
              "    .dataframe thead th {\n",
              "        text-align: right;\n",
              "    }\n",
              "</style>\n",
              "<table border=\"1\" class=\"dataframe\">\n",
              "  <thead>\n",
              "    <tr style=\"text-align: right;\">\n",
              "      <th></th>\n",
              "      <th>index</th>\n",
              "      <th>body</th>\n",
              "      <th>brand</th>\n",
              "      <th>word_count</th>\n",
              "      <th>most_common</th>\n",
              "      <th>common_count</th>\n",
              "    </tr>\n",
              "  </thead>\n",
              "  <tbody>\n",
              "    <tr>\n",
              "      <th>0</th>\n",
              "      <td>0</td>\n",
              "      <td>I had the Samsung A600 for awhile which is abs...</td>\n",
              "      <td>NaN</td>\n",
              "      <td>166</td>\n",
              "      <td>phone</td>\n",
              "      <td>7</td>\n",
              "    </tr>\n",
              "    <tr>\n",
              "      <th>1</th>\n",
              "      <td>1</td>\n",
              "      <td>Due to a software issue between Nokia and Spri...</td>\n",
              "      <td>NaN</td>\n",
              "      <td>68</td>\n",
              "      <td>sprint</td>\n",
              "      <td>3</td>\n",
              "    </tr>\n",
              "    <tr>\n",
              "      <th>2</th>\n",
              "      <td>2</td>\n",
              "      <td>This is a great, reliable phone. I also purcha...</td>\n",
              "      <td>NaN</td>\n",
              "      <td>69</td>\n",
              "      <td>phone</td>\n",
              "      <td>3</td>\n",
              "    </tr>\n",
              "    <tr>\n",
              "      <th>3</th>\n",
              "      <td>3</td>\n",
              "      <td>I love the phone and all, because I really did...</td>\n",
              "      <td>NaN</td>\n",
              "      <td>44</td>\n",
              "      <td>phone</td>\n",
              "      <td>5</td>\n",
              "    </tr>\n",
              "    <tr>\n",
              "      <th>4</th>\n",
              "      <td>4</td>\n",
              "      <td>The phone has been great for every purpose it ...</td>\n",
              "      <td>NaN</td>\n",
              "      <td>57</td>\n",
              "      <td>get</td>\n",
              "      <td>5</td>\n",
              "    </tr>\n",
              "  </tbody>\n",
              "</table>\n",
              "</div>"
            ],
            "text/plain": [
              "   index  ... common_count\n",
              "0      0  ...            7\n",
              "1      1  ...            3\n",
              "2      2  ...            3\n",
              "3      3  ...            5\n",
              "4      4  ...            5\n",
              "\n",
              "[5 rows x 6 columns]"
            ]
          },
          "metadata": {
            "tags": []
          },
          "execution_count": 134
        }
      ]
    },
    {
      "cell_type": "code",
      "metadata": {
        "id": "-Z2T5IEwRTtK",
        "colab_type": "code",
        "outputId": "1a180ea8-2c6a-45c7-b5e3-a54c8c34913d",
        "colab": {
          "base_uri": "https://localhost:8080/",
          "height": 36
        }
      },
      "source": [
        "df_reviews['word_count'].mean()"
      ],
      "execution_count": 0,
      "outputs": [
        {
          "output_type": "execute_result",
          "data": {
            "text/plain": [
              "28.143558968022827"
            ]
          },
          "metadata": {
            "tags": []
          },
          "execution_count": 135
        }
      ]
    },
    {
      "cell_type": "code",
      "metadata": {
        "id": "0whKJPKyTtlj",
        "colab_type": "code",
        "colab": {}
      },
      "source": [
        "df_reviews['sentiment'] = 0\n",
        "df_reviews['pos'] = 0\n",
        "df_reviews['neg'] = 0\n",
        "for i in range(df_reviews.shape[0]):\n",
        "  #Pick a review\n",
        "  rev = df_reviews.iloc[i,1]\n",
        "  df_reviews.iloc[i,6] = tb.TextBlob(rev).sentiment.polarity\n",
        "  df_reviews.iloc[i,7] = df_reviews.iloc[i,5] > 0\n",
        "  df_reviews.iloc[i,8] = df_reviews.iloc[i,6] < 0\n",
        "\n",
        "df_reviews"
      ],
      "execution_count": 0,
      "outputs": []
    },
    {
      "cell_type": "code",
      "metadata": {
        "id": "qpyj-iCeWEqT",
        "colab_type": "code",
        "outputId": "ae207e8d-391b-4761-ea83-43005d28f38d",
        "colab": {
          "base_uri": "https://localhost:8080/",
          "height": 394
        }
      },
      "source": [
        "df_reviews.groupby('brand').agg({'sentiment':['mean'], 'pos':['count'], 'neg':['count']}).reset_index()"
      ],
      "execution_count": 0,
      "outputs": [
        {
          "output_type": "execute_result",
          "data": {
            "text/html": [
              "<div>\n",
              "<style scoped>\n",
              "    .dataframe tbody tr th:only-of-type {\n",
              "        vertical-align: middle;\n",
              "    }\n",
              "\n",
              "    .dataframe tbody tr th {\n",
              "        vertical-align: top;\n",
              "    }\n",
              "\n",
              "    .dataframe thead tr th {\n",
              "        text-align: left;\n",
              "    }\n",
              "</style>\n",
              "<table border=\"1\" class=\"dataframe\">\n",
              "  <thead>\n",
              "    <tr>\n",
              "      <th></th>\n",
              "      <th>brand</th>\n",
              "      <th>sentiment</th>\n",
              "    </tr>\n",
              "    <tr>\n",
              "      <th></th>\n",
              "      <th></th>\n",
              "      <th>mean</th>\n",
              "    </tr>\n",
              "  </thead>\n",
              "  <tbody>\n",
              "    <tr>\n",
              "      <th>0</th>\n",
              "      <td>ASUS</td>\n",
              "      <td>0.253001</td>\n",
              "    </tr>\n",
              "    <tr>\n",
              "      <th>1</th>\n",
              "      <td>Apple</td>\n",
              "      <td>0.238408</td>\n",
              "    </tr>\n",
              "    <tr>\n",
              "      <th>2</th>\n",
              "      <td>Google</td>\n",
              "      <td>0.243897</td>\n",
              "    </tr>\n",
              "    <tr>\n",
              "      <th>3</th>\n",
              "      <td>HUAWEI</td>\n",
              "      <td>0.301263</td>\n",
              "    </tr>\n",
              "    <tr>\n",
              "      <th>4</th>\n",
              "      <td>Motorola</td>\n",
              "      <td>0.271063</td>\n",
              "    </tr>\n",
              "    <tr>\n",
              "      <th>5</th>\n",
              "      <td>Nokia</td>\n",
              "      <td>0.237997</td>\n",
              "    </tr>\n",
              "    <tr>\n",
              "      <th>6</th>\n",
              "      <td>OnePlus</td>\n",
              "      <td>0.294085</td>\n",
              "    </tr>\n",
              "    <tr>\n",
              "      <th>7</th>\n",
              "      <td>Samsung</td>\n",
              "      <td>0.276568</td>\n",
              "    </tr>\n",
              "    <tr>\n",
              "      <th>8</th>\n",
              "      <td>Sony</td>\n",
              "      <td>0.268844</td>\n",
              "    </tr>\n",
              "    <tr>\n",
              "      <th>9</th>\n",
              "      <td>Xiaomi</td>\n",
              "      <td>0.280397</td>\n",
              "    </tr>\n",
              "  </tbody>\n",
              "</table>\n",
              "</div>"
            ],
            "text/plain": [
              "      brand sentiment\n",
              "                 mean\n",
              "0      ASUS  0.253001\n",
              "1     Apple  0.238408\n",
              "2    Google  0.243897\n",
              "3    HUAWEI  0.301263\n",
              "4  Motorola  0.271063\n",
              "5     Nokia  0.237997\n",
              "6   OnePlus  0.294085\n",
              "7   Samsung  0.276568\n",
              "8      Sony  0.268844\n",
              "9    Xiaomi  0.280397"
            ]
          },
          "metadata": {
            "tags": []
          },
          "execution_count": 137
        }
      ]
    },
    {
      "cell_type": "code",
      "metadata": {
        "id": "Zn8-iBImRTmo",
        "colab_type": "code",
        "colab": {}
      },
      "source": [
        "top_words = df_reviews.groupby('most_common').agg({'index':['count']})\n",
        "top_words.columns = [\"_\".join(x) for x in top_words.columns.ravel()]\n",
        "top_words = top_words.sort_values(by='index_count',ascending=False)"
      ],
      "execution_count": 0,
      "outputs": []
    },
    {
      "cell_type": "code",
      "metadata": {
        "id": "D99Iy85RRTdR",
        "colab_type": "code",
        "outputId": "0f9df296-a39e-4438-b716-af50fdeadc7f",
        "colab": {
          "base_uri": "https://localhost:8080/",
          "height": 357
        }
      },
      "source": [
        "def plot_10_most_common_words(count_data, count_vectorizer):  \n",
        "    words = count_vectorizer.get_feature_names()  \n",
        "    total_counts = np.zeros(len(words))  \n",
        "    for t in count_data:  \n",
        "        total_counts+=t.toarray()[0] \n",
        "        count_dict = (zip(words, total_counts))  \n",
        "        count_dict = sorted(count_dict, key=lambda x:x[1], reverse=True)[0:10]  \n",
        "        words = [w[0] for w in count_dict]  \n",
        "        counts = [w[1] for w in count_dict]  \n",
        "        x_pos = np.arange(len(words))   \n",
        "     \n",
        "    plt.figure(2, figsize=(15, 15/1.6180))  \n",
        "    plt.subplot(title='10 most common words',axisbg='white')  \n",
        "    sns.set_context(\"notebook\", font_scale=1.25, rc={\"lines.linewidth\": 2.5})  \n",
        "    sns.barplot(x_pos, counts, palette='husl')  \n",
        "    plt.xticks(x_pos, words, rotation=90)   \n",
        "    plt.xlabel('words')  \n",
        "    plt.ylabel('counts')  \n",
        "    plt.show()\n",
        "count_vectorizer = CountVectorizer(stop_words='english')  \n",
        "count_data = count_vectorizer.fit_transform(df_reviews['body'])\n",
        "plot_10_most_common_words(count_data, count_vectorizer)"
      ],
      "execution_count": 0,
      "outputs": [
        {
          "output_type": "error",
          "ename": "AttributeError",
          "evalue": "ignored",
          "traceback": [
            "\u001b[0;31m---------------------------------------------------------------------------\u001b[0m",
            "\u001b[0;31mAttributeError\u001b[0m                            Traceback (most recent call last)",
            "\u001b[0;32m<ipython-input-32-352e7d8b8c74>\u001b[0m in \u001b[0;36m<module>\u001b[0;34m()\u001b[0m\n\u001b[1;32m     20\u001b[0m \u001b[0mcount_vectorizer\u001b[0m \u001b[0;34m=\u001b[0m \u001b[0mCountVectorizer\u001b[0m\u001b[0;34m(\u001b[0m\u001b[0mstop_words\u001b[0m\u001b[0;34m=\u001b[0m\u001b[0;34m'english'\u001b[0m\u001b[0;34m)\u001b[0m\u001b[0;34m\u001b[0m\u001b[0;34m\u001b[0m\u001b[0m\n\u001b[1;32m     21\u001b[0m \u001b[0mcount_data\u001b[0m \u001b[0;34m=\u001b[0m \u001b[0mcount_vectorizer\u001b[0m\u001b[0;34m.\u001b[0m\u001b[0mfit_transform\u001b[0m\u001b[0;34m(\u001b[0m\u001b[0mdf_reviews\u001b[0m\u001b[0;34m[\u001b[0m\u001b[0;34m'body'\u001b[0m\u001b[0;34m]\u001b[0m\u001b[0;34m)\u001b[0m\u001b[0;34m\u001b[0m\u001b[0;34m\u001b[0m\u001b[0m\n\u001b[0;32m---> 22\u001b[0;31m \u001b[0mplot_10_most_common_words\u001b[0m\u001b[0;34m(\u001b[0m\u001b[0mcount_data\u001b[0m\u001b[0;34m,\u001b[0m \u001b[0mcount_vectorizer\u001b[0m\u001b[0;34m)\u001b[0m\u001b[0;34m\u001b[0m\u001b[0;34m\u001b[0m\u001b[0m\n\u001b[0m",
            "\u001b[0;32m<ipython-input-32-352e7d8b8c74>\u001b[0m in \u001b[0;36mplot_10_most_common_words\u001b[0;34m(count_data, count_vectorizer)\u001b[0m\n\u001b[1;32m     11\u001b[0m \u001b[0;34m\u001b[0m\u001b[0m\n\u001b[1;32m     12\u001b[0m     \u001b[0mplt\u001b[0m\u001b[0;34m.\u001b[0m\u001b[0mfigure\u001b[0m\u001b[0;34m(\u001b[0m\u001b[0;36m2\u001b[0m\u001b[0;34m,\u001b[0m \u001b[0mfigsize\u001b[0m\u001b[0;34m=\u001b[0m\u001b[0;34m(\u001b[0m\u001b[0;36m15\u001b[0m\u001b[0;34m,\u001b[0m \u001b[0;36m15\u001b[0m\u001b[0;34m/\u001b[0m\u001b[0;36m1.6180\u001b[0m\u001b[0;34m)\u001b[0m\u001b[0;34m)\u001b[0m\u001b[0;34m\u001b[0m\u001b[0;34m\u001b[0m\u001b[0m\n\u001b[0;32m---> 13\u001b[0;31m     \u001b[0mplt\u001b[0m\u001b[0;34m.\u001b[0m\u001b[0msubplot\u001b[0m\u001b[0;34m(\u001b[0m\u001b[0mtitle\u001b[0m\u001b[0;34m=\u001b[0m\u001b[0;34m'10 most common words'\u001b[0m\u001b[0;34m,\u001b[0m\u001b[0maxisbg\u001b[0m\u001b[0;34m=\u001b[0m\u001b[0;34m'white'\u001b[0m\u001b[0;34m)\u001b[0m\u001b[0;34m\u001b[0m\u001b[0;34m\u001b[0m\u001b[0m\n\u001b[0m\u001b[1;32m     14\u001b[0m     \u001b[0msns\u001b[0m\u001b[0;34m.\u001b[0m\u001b[0mset_context\u001b[0m\u001b[0;34m(\u001b[0m\u001b[0;34m\"notebook\"\u001b[0m\u001b[0;34m,\u001b[0m \u001b[0mfont_scale\u001b[0m\u001b[0;34m=\u001b[0m\u001b[0;36m1.25\u001b[0m\u001b[0;34m,\u001b[0m \u001b[0mrc\u001b[0m\u001b[0;34m=\u001b[0m\u001b[0;34m{\u001b[0m\u001b[0;34m\"lines.linewidth\"\u001b[0m\u001b[0;34m:\u001b[0m \u001b[0;36m2.5\u001b[0m\u001b[0;34m}\u001b[0m\u001b[0;34m)\u001b[0m\u001b[0;34m\u001b[0m\u001b[0;34m\u001b[0m\u001b[0m\n\u001b[1;32m     15\u001b[0m     \u001b[0msns\u001b[0m\u001b[0;34m.\u001b[0m\u001b[0mbarplot\u001b[0m\u001b[0;34m(\u001b[0m\u001b[0mx_pos\u001b[0m\u001b[0;34m,\u001b[0m \u001b[0mcounts\u001b[0m\u001b[0;34m,\u001b[0m \u001b[0mpalette\u001b[0m\u001b[0;34m=\u001b[0m\u001b[0;34m'husl'\u001b[0m\u001b[0;34m)\u001b[0m\u001b[0;34m\u001b[0m\u001b[0;34m\u001b[0m\u001b[0m\n",
            "\u001b[0;32m/usr/local/lib/python3.6/dist-packages/matplotlib/pyplot.py\u001b[0m in \u001b[0;36msubplot\u001b[0;34m(*args, **kwargs)\u001b[0m\n\u001b[1;32m   1028\u001b[0m \u001b[0;34m\u001b[0m\u001b[0m\n\u001b[1;32m   1029\u001b[0m     \u001b[0mfig\u001b[0m \u001b[0;34m=\u001b[0m \u001b[0mgcf\u001b[0m\u001b[0;34m(\u001b[0m\u001b[0;34m)\u001b[0m\u001b[0;34m\u001b[0m\u001b[0;34m\u001b[0m\u001b[0m\n\u001b[0;32m-> 1030\u001b[0;31m     \u001b[0ma\u001b[0m \u001b[0;34m=\u001b[0m \u001b[0mfig\u001b[0m\u001b[0;34m.\u001b[0m\u001b[0madd_subplot\u001b[0m\u001b[0;34m(\u001b[0m\u001b[0;34m*\u001b[0m\u001b[0margs\u001b[0m\u001b[0;34m,\u001b[0m \u001b[0;34m**\u001b[0m\u001b[0mkwargs\u001b[0m\u001b[0;34m)\u001b[0m\u001b[0;34m\u001b[0m\u001b[0;34m\u001b[0m\u001b[0m\n\u001b[0m\u001b[1;32m   1031\u001b[0m     \u001b[0mbbox\u001b[0m \u001b[0;34m=\u001b[0m \u001b[0ma\u001b[0m\u001b[0;34m.\u001b[0m\u001b[0mbbox\u001b[0m\u001b[0;34m\u001b[0m\u001b[0;34m\u001b[0m\u001b[0m\n\u001b[1;32m   1032\u001b[0m     \u001b[0mbyebye\u001b[0m \u001b[0;34m=\u001b[0m \u001b[0;34m[\u001b[0m\u001b[0;34m]\u001b[0m\u001b[0;34m\u001b[0m\u001b[0;34m\u001b[0m\u001b[0m\n",
            "\u001b[0;32m/usr/local/lib/python3.6/dist-packages/matplotlib/figure.py\u001b[0m in \u001b[0;36madd_subplot\u001b[0;34m(self, *args, **kwargs)\u001b[0m\n\u001b[1;32m   1417\u001b[0m                     \u001b[0mself\u001b[0m\u001b[0;34m.\u001b[0m\u001b[0m_axstack\u001b[0m\u001b[0;34m.\u001b[0m\u001b[0mremove\u001b[0m\u001b[0;34m(\u001b[0m\u001b[0max\u001b[0m\u001b[0;34m)\u001b[0m\u001b[0;34m\u001b[0m\u001b[0;34m\u001b[0m\u001b[0m\n\u001b[1;32m   1418\u001b[0m \u001b[0;34m\u001b[0m\u001b[0m\n\u001b[0;32m-> 1419\u001b[0;31m             \u001b[0ma\u001b[0m \u001b[0;34m=\u001b[0m \u001b[0msubplot_class_factory\u001b[0m\u001b[0;34m(\u001b[0m\u001b[0mprojection_class\u001b[0m\u001b[0;34m)\u001b[0m\u001b[0;34m(\u001b[0m\u001b[0mself\u001b[0m\u001b[0;34m,\u001b[0m \u001b[0;34m*\u001b[0m\u001b[0margs\u001b[0m\u001b[0;34m,\u001b[0m \u001b[0;34m**\u001b[0m\u001b[0mkwargs\u001b[0m\u001b[0;34m)\u001b[0m\u001b[0;34m\u001b[0m\u001b[0;34m\u001b[0m\u001b[0m\n\u001b[0m\u001b[1;32m   1420\u001b[0m \u001b[0;34m\u001b[0m\u001b[0m\n\u001b[1;32m   1421\u001b[0m         \u001b[0;32mreturn\u001b[0m \u001b[0mself\u001b[0m\u001b[0;34m.\u001b[0m\u001b[0m_add_axes_internal\u001b[0m\u001b[0;34m(\u001b[0m\u001b[0mkey\u001b[0m\u001b[0;34m,\u001b[0m \u001b[0ma\u001b[0m\u001b[0;34m)\u001b[0m\u001b[0;34m\u001b[0m\u001b[0;34m\u001b[0m\u001b[0m\n",
            "\u001b[0;32m/usr/local/lib/python3.6/dist-packages/matplotlib/axes/_subplots.py\u001b[0m in \u001b[0;36m__init__\u001b[0;34m(self, fig, *args, **kwargs)\u001b[0m\n\u001b[1;32m     74\u001b[0m \u001b[0;34m\u001b[0m\u001b[0m\n\u001b[1;32m     75\u001b[0m         \u001b[0;31m# _axes_class is set in the subplot_class_factory\u001b[0m\u001b[0;34m\u001b[0m\u001b[0;34m\u001b[0m\u001b[0;34m\u001b[0m\u001b[0m\n\u001b[0;32m---> 76\u001b[0;31m         \u001b[0mself\u001b[0m\u001b[0;34m.\u001b[0m\u001b[0m_axes_class\u001b[0m\u001b[0;34m.\u001b[0m\u001b[0m__init__\u001b[0m\u001b[0;34m(\u001b[0m\u001b[0mself\u001b[0m\u001b[0;34m,\u001b[0m \u001b[0mfig\u001b[0m\u001b[0;34m,\u001b[0m \u001b[0mself\u001b[0m\u001b[0;34m.\u001b[0m\u001b[0mfigbox\u001b[0m\u001b[0;34m,\u001b[0m \u001b[0;34m**\u001b[0m\u001b[0mkwargs\u001b[0m\u001b[0;34m)\u001b[0m\u001b[0;34m\u001b[0m\u001b[0;34m\u001b[0m\u001b[0m\n\u001b[0m\u001b[1;32m     77\u001b[0m         \u001b[0;31m# add a layout box to this, for both the full axis, and the poss\u001b[0m\u001b[0;34m\u001b[0m\u001b[0;34m\u001b[0m\u001b[0;34m\u001b[0m\u001b[0m\n\u001b[1;32m     78\u001b[0m         \u001b[0;31m# of the axis.  We need both because the axes may become smaller\u001b[0m\u001b[0;34m\u001b[0m\u001b[0;34m\u001b[0m\u001b[0;34m\u001b[0m\u001b[0m\n",
            "\u001b[0;32m/usr/local/lib/python3.6/dist-packages/matplotlib/axes/_base.py\u001b[0m in \u001b[0;36m__init__\u001b[0;34m(self, fig, rect, facecolor, frameon, sharex, sharey, label, xscale, yscale, **kwargs)\u001b[0m\n\u001b[1;32m    466\u001b[0m             \u001b[0mself\u001b[0m\u001b[0;34m.\u001b[0m\u001b[0mset_yscale\u001b[0m\u001b[0;34m(\u001b[0m\u001b[0myscale\u001b[0m\u001b[0;34m)\u001b[0m\u001b[0;34m\u001b[0m\u001b[0;34m\u001b[0m\u001b[0m\n\u001b[1;32m    467\u001b[0m \u001b[0;34m\u001b[0m\u001b[0m\n\u001b[0;32m--> 468\u001b[0;31m         \u001b[0mself\u001b[0m\u001b[0;34m.\u001b[0m\u001b[0mupdate\u001b[0m\u001b[0;34m(\u001b[0m\u001b[0mkwargs\u001b[0m\u001b[0;34m)\u001b[0m\u001b[0;34m\u001b[0m\u001b[0;34m\u001b[0m\u001b[0m\n\u001b[0m\u001b[1;32m    469\u001b[0m \u001b[0;34m\u001b[0m\u001b[0m\n\u001b[1;32m    470\u001b[0m         \u001b[0;32mif\u001b[0m \u001b[0mself\u001b[0m\u001b[0;34m.\u001b[0m\u001b[0mxaxis\u001b[0m \u001b[0;32mis\u001b[0m \u001b[0;32mnot\u001b[0m \u001b[0;32mNone\u001b[0m\u001b[0;34m:\u001b[0m\u001b[0;34m\u001b[0m\u001b[0;34m\u001b[0m\u001b[0m\n",
            "\u001b[0;32m/usr/local/lib/python3.6/dist-packages/matplotlib/artist.py\u001b[0m in \u001b[0;36mupdate\u001b[0;34m(self, props)\u001b[0m\n\u001b[1;32m   1004\u001b[0m \u001b[0;34m\u001b[0m\u001b[0m\n\u001b[1;32m   1005\u001b[0m         \u001b[0;32mwith\u001b[0m \u001b[0mcbook\u001b[0m\u001b[0;34m.\u001b[0m\u001b[0m_setattr_cm\u001b[0m\u001b[0;34m(\u001b[0m\u001b[0mself\u001b[0m\u001b[0;34m,\u001b[0m \u001b[0meventson\u001b[0m\u001b[0;34m=\u001b[0m\u001b[0;32mFalse\u001b[0m\u001b[0;34m)\u001b[0m\u001b[0;34m:\u001b[0m\u001b[0;34m\u001b[0m\u001b[0;34m\u001b[0m\u001b[0m\n\u001b[0;32m-> 1006\u001b[0;31m             \u001b[0mret\u001b[0m \u001b[0;34m=\u001b[0m \u001b[0;34m[\u001b[0m\u001b[0m_update_property\u001b[0m\u001b[0;34m(\u001b[0m\u001b[0mself\u001b[0m\u001b[0;34m,\u001b[0m \u001b[0mk\u001b[0m\u001b[0;34m,\u001b[0m \u001b[0mv\u001b[0m\u001b[0;34m)\u001b[0m \u001b[0;32mfor\u001b[0m \u001b[0mk\u001b[0m\u001b[0;34m,\u001b[0m \u001b[0mv\u001b[0m \u001b[0;32min\u001b[0m \u001b[0mprops\u001b[0m\u001b[0;34m.\u001b[0m\u001b[0mitems\u001b[0m\u001b[0;34m(\u001b[0m\u001b[0;34m)\u001b[0m\u001b[0;34m]\u001b[0m\u001b[0;34m\u001b[0m\u001b[0;34m\u001b[0m\u001b[0m\n\u001b[0m\u001b[1;32m   1007\u001b[0m \u001b[0;34m\u001b[0m\u001b[0m\n\u001b[1;32m   1008\u001b[0m         \u001b[0;32mif\u001b[0m \u001b[0mlen\u001b[0m\u001b[0;34m(\u001b[0m\u001b[0mret\u001b[0m\u001b[0;34m)\u001b[0m\u001b[0;34m:\u001b[0m\u001b[0;34m\u001b[0m\u001b[0;34m\u001b[0m\u001b[0m\n",
            "\u001b[0;32m/usr/local/lib/python3.6/dist-packages/matplotlib/artist.py\u001b[0m in \u001b[0;36m<listcomp>\u001b[0;34m(.0)\u001b[0m\n\u001b[1;32m   1004\u001b[0m \u001b[0;34m\u001b[0m\u001b[0m\n\u001b[1;32m   1005\u001b[0m         \u001b[0;32mwith\u001b[0m \u001b[0mcbook\u001b[0m\u001b[0;34m.\u001b[0m\u001b[0m_setattr_cm\u001b[0m\u001b[0;34m(\u001b[0m\u001b[0mself\u001b[0m\u001b[0;34m,\u001b[0m \u001b[0meventson\u001b[0m\u001b[0;34m=\u001b[0m\u001b[0;32mFalse\u001b[0m\u001b[0;34m)\u001b[0m\u001b[0;34m:\u001b[0m\u001b[0;34m\u001b[0m\u001b[0;34m\u001b[0m\u001b[0m\n\u001b[0;32m-> 1006\u001b[0;31m             \u001b[0mret\u001b[0m \u001b[0;34m=\u001b[0m \u001b[0;34m[\u001b[0m\u001b[0m_update_property\u001b[0m\u001b[0;34m(\u001b[0m\u001b[0mself\u001b[0m\u001b[0;34m,\u001b[0m \u001b[0mk\u001b[0m\u001b[0;34m,\u001b[0m \u001b[0mv\u001b[0m\u001b[0;34m)\u001b[0m \u001b[0;32mfor\u001b[0m \u001b[0mk\u001b[0m\u001b[0;34m,\u001b[0m \u001b[0mv\u001b[0m \u001b[0;32min\u001b[0m \u001b[0mprops\u001b[0m\u001b[0;34m.\u001b[0m\u001b[0mitems\u001b[0m\u001b[0;34m(\u001b[0m\u001b[0;34m)\u001b[0m\u001b[0;34m]\u001b[0m\u001b[0;34m\u001b[0m\u001b[0;34m\u001b[0m\u001b[0m\n\u001b[0m\u001b[1;32m   1007\u001b[0m \u001b[0;34m\u001b[0m\u001b[0m\n\u001b[1;32m   1008\u001b[0m         \u001b[0;32mif\u001b[0m \u001b[0mlen\u001b[0m\u001b[0;34m(\u001b[0m\u001b[0mret\u001b[0m\u001b[0;34m)\u001b[0m\u001b[0;34m:\u001b[0m\u001b[0;34m\u001b[0m\u001b[0;34m\u001b[0m\u001b[0m\n",
            "\u001b[0;32m/usr/local/lib/python3.6/dist-packages/matplotlib/artist.py\u001b[0m in \u001b[0;36m_update_property\u001b[0;34m(self, k, v)\u001b[0m\n\u001b[1;32m   1000\u001b[0m                 \u001b[0;32mif\u001b[0m \u001b[0;32mnot\u001b[0m \u001b[0mcallable\u001b[0m\u001b[0;34m(\u001b[0m\u001b[0mfunc\u001b[0m\u001b[0;34m)\u001b[0m\u001b[0;34m:\u001b[0m\u001b[0;34m\u001b[0m\u001b[0;34m\u001b[0m\u001b[0m\n\u001b[1;32m   1001\u001b[0m                     raise AttributeError('{!r} object has no property {!r}'\n\u001b[0;32m-> 1002\u001b[0;31m                                          .format(type(self).__name__, k))\n\u001b[0m\u001b[1;32m   1003\u001b[0m                 \u001b[0;32mreturn\u001b[0m \u001b[0mfunc\u001b[0m\u001b[0;34m(\u001b[0m\u001b[0mv\u001b[0m\u001b[0;34m)\u001b[0m\u001b[0;34m\u001b[0m\u001b[0;34m\u001b[0m\u001b[0m\n\u001b[1;32m   1004\u001b[0m \u001b[0;34m\u001b[0m\u001b[0m\n",
            "\u001b[0;31mAttributeError\u001b[0m: 'AxesSubplot' object has no property 'axisbg'"
          ]
        },
        {
          "output_type": "display_data",
          "data": {
            "text/plain": [
              "<Figure size 1080x667.491 with 0 Axes>"
            ]
          },
          "metadata": {
            "tags": []
          }
        }
      ]
    },
    {
      "cell_type": "code",
      "metadata": {
        "id": "gs4vAk4KdSV1",
        "colab_type": "code",
        "outputId": "aafd7530-c683-4a10-8406-1e84d430e8f5",
        "colab": {
          "base_uri": "https://localhost:8080/",
          "height": 310
        }
      },
      "source": [
        "wc = WordCloud(stopwords=stop_words, background_color=\"white\", colormap=\"Dark2\",\n",
        "               max_font_size=150, random_state=42)\n",
        "wc.generate(str(df_reviews.body))\n",
        "plt.figure( figsize=(10,10) )\n",
        "plt.imshow(wc, interpolation='bilinear')\n",
        "plt.axis(\"off\")\n",
        "plt.show()"
      ],
      "execution_count": 0,
      "outputs": [
        {
          "output_type": "display_data",
          "data": {
            "image/png": "[encoded data removed]",
            "text/plain": [
              "<Figure size 720x720 with 1 Axes>"
            ]
          },
          "metadata": {
            "tags": []
          }
        }
      ]
    },
    {
      "cell_type": "code",
      "metadata": {
        "id": "5-78xGB3J2q-",
        "colab_type": "code",
        "colab": {}
      },
      "source": [
        ""
      ],
      "execution_count": 0,
      "outputs": []
    },
    {
      "cell_type": "code",
      "metadata": {
        "id": "kvPeX7JNf3j7",
        "colab_type": "code",
        "colab": {}
      },
      "source": [
        ""
      ],
      "execution_count": 0,
      "outputs": []
    },
    {
      "cell_type": "markdown",
      "metadata": {
        "id": "2DCHI1jVgbQz",
        "colab_type": "text"
      },
      "source": [
        "# Topic Modeling"
      ]
    },
    {
      "cell_type": "code",
      "metadata": {
        "id": "5NfLp2CHgnyb",
        "colab_type": "code",
        "outputId": "ed6d339e-ca02-4175-a0fc-cb436fe260eb",
        "colab": {
          "base_uri": "https://localhost:8080/",
          "height": 102
        }
      },
      "source": [
        "import nltk\n",
        "from nltk.stem.wordnet import WordNetLemmatizer\n",
        "from nltk.corpus import stopwords\n",
        "from nltk.stem.snowball import SnowballStemmer\n",
        "import string\n",
        "import time\n",
        "from sklearn.feature_extraction.text import TfidfVectorizer\n",
        "from sklearn.decomposition import LatentDirichletAllocation\n",
        "tfidf_vectorizer = TfidfVectorizer(max_df=0.9, min_df=0.05, stop_words=\"english\")\n",
        "nltk.download('stopwords')\n",
        "nltk.download('wordnet')"
      ],
      "execution_count": 7,
      "outputs": [
        {
          "output_type": "stream",
          "text": [
            "[nltk_data] Downloading package stopwords to /root/nltk_data...\n",
            "[nltk_data]   Package stopwords is already up-to-date!\n",
            "[nltk_data] Downloading package wordnet to /root/nltk_data...\n",
            "[nltk_data]   Package wordnet is already up-to-date!\n"
          ],
          "name": "stdout"
        },
        {
          "output_type": "execute_result",
          "data": {
            "text/plain": [
              "True"
            ]
          },
          "metadata": {
            "tags": []
          },
          "execution_count": 7
        }
      ]
    },
    {
      "cell_type": "markdown",
      "metadata": {
        "id": "pNyhhyKGkODF",
        "colab_type": "text"
      },
      "source": [
        "Just importing, imputing and cleaning the data again. Not required but for testing purposes"
      ]
    },
    {
      "cell_type": "code",
      "metadata": {
        "id": "uQkVv6DohwH1",
        "colab_type": "code",
        "outputId": "c2378afd-5930-44c1-db8a-49082d01b65e",
        "colab": {
          "base_uri": "https://localhost:8080/",
          "height": 34
        }
      },
      "source": [
        "items_df=items.copy()\n",
        "reviews_df=reviews.copy()\n",
        "items_df['brand'] = np.where((items_df.asin == 'B0000SX2UC'),'Nokia',items_df.brand)\n",
        "items_df['brand'] = np.where((items_df.asin == 'B01EWKHIAI'),'Nokia',items_df.brand)\n",
        "items_df['brand'] = np.where((items_df.asin == 'B07JHXX5YR'),'ASUS',items_df.brand)\n",
        "items_df['brand'] = np.where((items_df.asin == 'B07T3KMJW8'),'Xiaomi',items_df.brand)\n",
        "merged_data=pd.merge (items_df,reviews_df,how='left',on='asin')\n",
        "merged_data.shape"
      ],
      "execution_count": 8,
      "outputs": [
        {
          "output_type": "execute_result",
          "data": {
            "text/plain": [
              "(67986, 17)"
            ]
          },
          "metadata": {
            "tags": []
          },
          "execution_count": 8
        }
      ]
    },
    {
      "cell_type": "code",
      "metadata": {
        "id": "R_z521PL1piU",
        "colab_type": "code",
        "colab": {}
      },
      "source": [
        "merged_data=merged_data.rename(columns={'rating_x': 'Average_Rating','rating_y':'Customer_Rating','title_x':'Product_Name','title_y':'Review_title'})"
      ],
      "execution_count": 0,
      "outputs": []
    },
    {
      "cell_type": "markdown",
      "metadata": {
        "id": "B5mhcuH0kaZd",
        "colab_type": "text"
      },
      "source": [
        "## Cleaning using NLTK"
      ]
    },
    {
      "cell_type": "markdown",
      "metadata": {
        "id": "ei1sLfFfkjkS",
        "colab_type": "text"
      },
      "source": [
        "Need to clean the reviews - lower case,remove punctuations and keywords like brand name, phone and finally lemmatize"
      ]
    },
    {
      "cell_type": "code",
      "metadata": {
        "id": "frOsrEYujrHD",
        "colab_type": "code",
        "outputId": "7c08bd1f-3cd8-4196-cb21-d47f89bff0b8",
        "colab": {
          "base_uri": "https://localhost:8080/",
          "height": 34
        }
      },
      "source": [
        "import spacy\n",
        "nlp = spacy.load('en_core_web_sm')\n",
        "stemmer = SnowballStemmer(\"english\")\n",
        "spacy_stopwords = spacy.lang.en.stop_words.STOP_WORDS\n",
        "keywords = merged_data[\"brand\"].apply(lambda x: x.lower()).unique().tolist()\n",
        "keywords.append(\"phone\")\n",
        "keywords.append(\"iphone\")\n",
        "lemma = WordNetLemmatizer()\n",
        "def clean_text(text):\n",
        "    # Convert the text into lowercase\n",
        "    lower = text.lower()\n",
        "    # Split into list\n",
        "    wordList = lower.split()\n",
        "    # Remove punctuation\n",
        "    wordList_punc = [\"\".join(i for i in word if (i==\"'\")|(i not in string.punctuation)) for word in wordList]\n",
        "    # Remove stopwords\n",
        "    wordList_stop = [word for word in wordList_punc if word not in list(spacy_stopwords)]\n",
        "    # Remove other keywords\n",
        "    wordList_key = [word for word in wordList_stop if word not in keywords]\n",
        "    # Stemming\n",
        "    #words_stemmed= [stemmer.stem(word) for word in wordList_key]\n",
        "    # Lemmatisation\n",
        "    #lemma_word = nlp(wordList)\n",
        "    wordList_clean = [lemma.lemmatize(word) for word in wordList_key]\n",
        "    #wordList = [word.lemma_ for word in wordList]\n",
        "    return \" \".join(wordList_clean)\n",
        "clean_text('This is our collaboratory notebook for Data Mining Project. Okay you should be excited reading this!')"
      ],
      "execution_count": 16,
      "outputs": [
        {
          "output_type": "execute_result",
          "data": {
            "text/plain": [
              "'collaboratory notebook data mining project okay excited reading'"
            ]
          },
          "metadata": {
            "tags": []
          },
          "execution_count": 16
        }
      ]
    },
    {
      "cell_type": "code",
      "metadata": {
        "id": "coQU6_uC_iIM",
        "colab_type": "code",
        "outputId": "4653241d-d62e-4f93-bead-a4795a2bcf28",
        "colab": {
          "base_uri": "https://localhost:8080/",
          "height": 221
        }
      },
      "source": [
        "keywords"
      ],
      "execution_count": 17,
      "outputs": [
        {
          "output_type": "execute_result",
          "data": {
            "text/plain": [
              "['nokia',\n",
              " 'motorola',\n",
              " 'samsung',\n",
              " 'huawei',\n",
              " 'sony',\n",
              " 'apple',\n",
              " 'google',\n",
              " 'asus',\n",
              " 'oneplus',\n",
              " 'xiaomi',\n",
              " 'phone',\n",
              " 'iphone']"
            ]
          },
          "metadata": {
            "tags": []
          },
          "execution_count": 17
        }
      ]
    },
    {
      "cell_type": "code",
      "metadata": {
        "id": "kBF6iF4Qf5L4",
        "colab_type": "code",
        "colab": {}
      },
      "source": [
        "merged_data[\"body\"] = merged_data[\"body\"].astype(\"str\")\n",
        "merged_data[\"clean_text\"] = merged_data[\"body\"].apply(clean_text)\n",
        "merged_data[\"positivity\"] = merged_data[\"Customer_Rating\"].apply(lambda x: 1 if x>3 else(0 if x==3 else -1))"
      ],
      "execution_count": 0,
      "outputs": []
    },
    {
      "cell_type": "markdown",
      "metadata": {
        "id": "IcJCKBN-kr5I",
        "colab_type": "text"
      },
      "source": [
        "Creating an Apple only dataset"
      ]
    },
    {
      "cell_type": "code",
      "metadata": {
        "id": "acRk9nIujYS1",
        "colab_type": "code",
        "colab": {}
      },
      "source": [
        "merged_data[\"clean_text\"].head().values\n",
        "apple = merged_data[merged_data[\"brand\"]==\"Apple\"].sort_values(by=[\"date\"], ascending=False)\n",
        "apple[\"renewed\"] = apple[\"Product_Name\"].apply(lambda x: (\"Renewed\" in x) | (\"Refurbished\" in x))"
      ],
      "execution_count": 0,
      "outputs": []
    },
    {
      "cell_type": "code",
      "metadata": {
        "id": "b5hN8VtwgmYI",
        "colab_type": "code",
        "outputId": "c8380afa-b643-4559-a87b-e507714f31a6",
        "colab": {
          "base_uri": "https://localhost:8080/",
          "height": 1000
        }
      },
      "source": [
        "apple[apple['renewed']==True]\n",
        "#apple.shape"
      ],
      "execution_count": 20,
      "outputs": [
        {
          "output_type": "execute_result",
          "data": {
            "text/html": [
              "<div>\n",
              "<style scoped>\n",
              "    .dataframe tbody tr th:only-of-type {\n",
              "        vertical-align: middle;\n",
              "    }\n",
              "\n",
              "    .dataframe tbody tr th {\n",
              "        vertical-align: top;\n",
              "    }\n",
              "\n",
              "    .dataframe thead th {\n",
              "        text-align: right;\n",
              "    }\n",
              "</style>\n",
              "<table border=\"1\" class=\"dataframe\">\n",
              "  <thead>\n",
              "    <tr style=\"text-align: right;\">\n",
              "      <th></th>\n",
              "      <th>asin</th>\n",
              "      <th>brand</th>\n",
              "      <th>Product_Name</th>\n",
              "      <th>url</th>\n",
              "      <th>image</th>\n",
              "      <th>Average_Rating</th>\n",
              "      <th>reviewUrl</th>\n",
              "      <th>totalReviews</th>\n",
              "      <th>price</th>\n",
              "      <th>originalPrice</th>\n",
              "      <th>name</th>\n",
              "      <th>Customer_Rating</th>\n",
              "      <th>date</th>\n",
              "      <th>verified</th>\n",
              "      <th>Review_title</th>\n",
              "      <th>body</th>\n",
              "      <th>helpfulVotes</th>\n",
              "      <th>clean_text</th>\n",
              "      <th>positivity</th>\n",
              "      <th>renewed</th>\n",
              "    </tr>\n",
              "  </thead>\n",
              "  <tbody>\n",
              "    <tr>\n",
              "      <th>37805</th>\n",
              "      <td>B0731HBTZ7</td>\n",
              "      <td>Apple</td>\n",
              "      <td>Apple iPhone 7 32GB, Rose Gold (Renewed)</td>\n",
              "      <td>https://www.amazon.com/Apple-iPhone-32GB-Rose-...</td>\n",
              "      <td>https://m.media-amazon.com/images/I/51cRE43zKw...</td>\n",
              "      <td>3.8</td>\n",
              "      <td>https://www.amazon.com/product-reviews/B0731HBTZ7</td>\n",
              "      <td>452</td>\n",
              "      <td>199.95</td>\n",
              "      <td>210.00</td>\n",
              "      <td>Zoriah Bradshaw</td>\n",
              "      <td>5</td>\n",
              "      <td>September 9, 2019</td>\n",
              "      <td>True</td>\n",
              "      <td>Works fine</td>\n",
              "      <td>Works fine</td>\n",
              "      <td>NaN</td>\n",
              "      <td>work fine</td>\n",
              "      <td>1</td>\n",
              "      <td>True</td>\n",
              "    </tr>\n",
              "    <tr>\n",
              "      <th>42149</th>\n",
              "      <td>B07755LZ67</td>\n",
              "      <td>Apple</td>\n",
              "      <td>Apple iPhone 8 Plus 64GB Unlocked GSM Phone - ...</td>\n",
              "      <td>https://www.amazon.com/Apple-iPhone-Unlocked-G...</td>\n",
              "      <td>https://m.media-amazon.com/images/I/810MbmOEoq...</td>\n",
              "      <td>4.0</td>\n",
              "      <td>https://www.amazon.com/product-reviews/B07755LZ67</td>\n",
              "      <td>176</td>\n",
              "      <td>374.99</td>\n",
              "      <td>0.00</td>\n",
              "      <td>Timothy</td>\n",
              "      <td>5</td>\n",
              "      <td>September 9, 2019</td>\n",
              "      <td>True</td>\n",
              "      <td>I like my new iPhone</td>\n",
              "      <td>It did not come with an AC charger</td>\n",
              "      <td>NaN</td>\n",
              "      <td>come ac charger</td>\n",
              "      <td>1</td>\n",
              "      <td>True</td>\n",
              "    </tr>\n",
              "    <tr>\n",
              "      <th>41893</th>\n",
              "      <td>B0775451TT</td>\n",
              "      <td>Apple</td>\n",
              "      <td>Apple iPhone X, 256GB, Silver - For AT&amp;T / T-M...</td>\n",
              "      <td>https://www.amazon.com/Apple-iPhone-Fully-Unlo...</td>\n",
              "      <td>https://m.media-amazon.com/images/I/81yZOQEC+N...</td>\n",
              "      <td>3.9</td>\n",
              "      <td>https://www.amazon.com/product-reviews/B0775451TT</td>\n",
              "      <td>436</td>\n",
              "      <td>479.00</td>\n",
              "      <td>749.99</td>\n",
              "      <td>Amazon Customer</td>\n",
              "      <td>5</td>\n",
              "      <td>September 9, 2019</td>\n",
              "      <td>True</td>\n",
              "      <td>Awesome !</td>\n",
              "      <td>Phone works perfect! Looks brand new ! No scra...</td>\n",
              "      <td>NaN</td>\n",
              "      <td>work perfect look brand new  scratch fresh store</td>\n",
              "      <td>1</td>\n",
              "      <td>True</td>\n",
              "    </tr>\n",
              "    <tr>\n",
              "      <th>35704</th>\n",
              "      <td>B071JPQYGK</td>\n",
              "      <td>Apple</td>\n",
              "      <td>Apple iPhone 7 Plus, AT&amp;T Locked, 128GB - Jet ...</td>\n",
              "      <td>https://www.amazon.com/Apple-iPhone-Plus-128GB...</td>\n",
              "      <td>https://m.media-amazon.com/images/I/61dI0syR1r...</td>\n",
              "      <td>3.5</td>\n",
              "      <td>https://www.amazon.com/product-reviews/B071JPQYGK</td>\n",
              "      <td>12</td>\n",
              "      <td>284.99</td>\n",
              "      <td>549.99</td>\n",
              "      <td>Amazon Customer</td>\n",
              "      <td>1</td>\n",
              "      <td>September 9, 2019</td>\n",
              "      <td>True</td>\n",
              "      <td>This product was a scam</td>\n",
              "      <td>The phone was either stolen or tossed by the o...</td>\n",
              "      <td>NaN</td>\n",
              "      <td>stolen tossed owner att stated owner owes unlo...</td>\n",
              "      <td>-1</td>\n",
              "      <td>True</td>\n",
              "    </tr>\n",
              "    <tr>\n",
              "      <th>48696</th>\n",
              "      <td>B07D6TQP6F</td>\n",
              "      <td>Apple</td>\n",
              "      <td>Apple iPhone X, 256GB, Silver - For AT&amp;T (Rene...</td>\n",
              "      <td>https://www.amazon.com/Apple-iPhone-AT-256GB-R...</td>\n",
              "      <td>https://m.media-amazon.com/images/I/81yZOQEC+N...</td>\n",
              "      <td>3.9</td>\n",
              "      <td>https://www.amazon.com/product-reviews/B07D6TQP6F</td>\n",
              "      <td>436</td>\n",
              "      <td>476.00</td>\n",
              "      <td>0.00</td>\n",
              "      <td>Amazon Customer</td>\n",
              "      <td>5</td>\n",
              "      <td>September 9, 2019</td>\n",
              "      <td>True</td>\n",
              "      <td>Awesome !</td>\n",
              "      <td>Phone works perfect! Looks brand new ! No scra...</td>\n",
              "      <td>NaN</td>\n",
              "      <td>work perfect look brand new  scratch fresh store</td>\n",
              "      <td>1</td>\n",
              "      <td>True</td>\n",
              "    </tr>\n",
              "    <tr>\n",
              "      <th>...</th>\n",
              "      <td>...</td>\n",
              "      <td>...</td>\n",
              "      <td>...</td>\n",
              "      <td>...</td>\n",
              "      <td>...</td>\n",
              "      <td>...</td>\n",
              "      <td>...</td>\n",
              "      <td>...</td>\n",
              "      <td>...</td>\n",
              "      <td>...</td>\n",
              "      <td>...</td>\n",
              "      <td>...</td>\n",
              "      <td>...</td>\n",
              "      <td>...</td>\n",
              "      <td>...</td>\n",
              "      <td>...</td>\n",
              "      <td>...</td>\n",
              "      <td>...</td>\n",
              "      <td>...</td>\n",
              "      <td>...</td>\n",
              "    </tr>\n",
              "    <tr>\n",
              "      <th>37581</th>\n",
              "      <td>B0731HBTZ7</td>\n",
              "      <td>Apple</td>\n",
              "      <td>Apple iPhone 7 32GB, Rose Gold (Renewed)</td>\n",
              "      <td>https://www.amazon.com/Apple-iPhone-32GB-Rose-...</td>\n",
              "      <td>https://m.media-amazon.com/images/I/51cRE43zKw...</td>\n",
              "      <td>3.8</td>\n",
              "      <td>https://www.amazon.com/product-reviews/B0731HBTZ7</td>\n",
              "      <td>452</td>\n",
              "      <td>199.95</td>\n",
              "      <td>210.00</td>\n",
              "      <td>Greg</td>\n",
              "      <td>5</td>\n",
              "      <td>April 1, 2019</td>\n",
              "      <td>True</td>\n",
              "      <td>Seems like a great buy</td>\n",
              "      <td>I bought this for my daughter and she seems ve...</td>\n",
              "      <td>NaN</td>\n",
              "      <td>bought daughter pleased use ting service super...</td>\n",
              "      <td>1</td>\n",
              "      <td>True</td>\n",
              "    </tr>\n",
              "    <tr>\n",
              "      <th>37616</th>\n",
              "      <td>B0731HBTZ7</td>\n",
              "      <td>Apple</td>\n",
              "      <td>Apple iPhone 7 32GB, Rose Gold (Renewed)</td>\n",
              "      <td>https://www.amazon.com/Apple-iPhone-32GB-Rose-...</td>\n",
              "      <td>https://m.media-amazon.com/images/I/51cRE43zKw...</td>\n",
              "      <td>3.8</td>\n",
              "      <td>https://www.amazon.com/product-reviews/B0731HBTZ7</td>\n",
              "      <td>452</td>\n",
              "      <td>199.95</td>\n",
              "      <td>210.00</td>\n",
              "      <td>Michelle elder</td>\n",
              "      <td>4</td>\n",
              "      <td>April 1, 2019</td>\n",
              "      <td>True</td>\n",
              "      <td>Gets hot easy.. Kinda worried and honna keep a...</td>\n",
              "      <td>Works with safelink wireless. Put in sim card ...</td>\n",
              "      <td>NaN</td>\n",
              "      <td>work safelink wireless sim card old  worked im...</td>\n",
              "      <td>1</td>\n",
              "      <td>True</td>\n",
              "    </tr>\n",
              "    <tr>\n",
              "      <th>31785</th>\n",
              "      <td>B06XRJQX91</td>\n",
              "      <td>Apple</td>\n",
              "      <td>Apple iPhone 6S, 64GB, Rose Gold - For AT&amp;T / ...</td>\n",
              "      <td>https://www.amazon.com/Apple-iPhone-Unlocked-D...</td>\n",
              "      <td>https://m.media-amazon.com/images/I/61+mrwyL24...</td>\n",
              "      <td>3.6</td>\n",
              "      <td>https://www.amazon.com/product-reviews/B06XRJQX91</td>\n",
              "      <td>427</td>\n",
              "      <td>158.88</td>\n",
              "      <td>271.84</td>\n",
              "      <td>Insiya Hasan</td>\n",
              "      <td>3</td>\n",
              "      <td>April 1, 2018</td>\n",
              "      <td>True</td>\n",
              "      <td>Three Stars</td>\n",
              "      <td>The phone did have scratches and a dent on it ...</td>\n",
              "      <td>2.0</td>\n",
              "      <td>scratch dent tends overheat</td>\n",
              "      <td>0</td>\n",
              "      <td>True</td>\n",
              "    </tr>\n",
              "    <tr>\n",
              "      <th>42977</th>\n",
              "      <td>B077XM1GZM</td>\n",
              "      <td>Apple</td>\n",
              "      <td>Apple iPhone 6S Plus, 64GB, Silver - Fully Unl...</td>\n",
              "      <td>https://www.amazon.com/Apple-iPhone-a1687-Unlo...</td>\n",
              "      <td>https://m.media-amazon.com/images/I/81ia5dHUn3...</td>\n",
              "      <td>3.8</td>\n",
              "      <td>https://www.amazon.com/product-reviews/B077XM1GZM</td>\n",
              "      <td>12</td>\n",
              "      <td>258.80</td>\n",
              "      <td>349.99</td>\n",
              "      <td>Cheesey</td>\n",
              "      <td>5</td>\n",
              "      <td>April 1, 2018</td>\n",
              "      <td>True</td>\n",
              "      <td>Quality</td>\n",
              "      <td>Quality refurbished phone. Looks and works lik...</td>\n",
              "      <td>5.0</td>\n",
              "      <td>quality refurbished look work like brand new f...</td>\n",
              "      <td>1</td>\n",
              "      <td>True</td>\n",
              "    </tr>\n",
              "    <tr>\n",
              "      <th>29713</th>\n",
              "      <td>B01N9YO1DS</td>\n",
              "      <td>Apple</td>\n",
              "      <td>Apple iPhone 7, 128GB, Gold - For AT&amp;T / T-Mob...</td>\n",
              "      <td>https://www.amazon.com/Apple-iPhone-GSM-Unlock...</td>\n",
              "      <td>https://m.media-amazon.com/images/I/71RYhD1uzp...</td>\n",
              "      <td>3.5</td>\n",
              "      <td>https://www.amazon.com/product-reviews/B01N9YO1DS</td>\n",
              "      <td>227</td>\n",
              "      <td>215.00</td>\n",
              "      <td>399.99</td>\n",
              "      <td>Amazon Customer</td>\n",
              "      <td>1</td>\n",
              "      <td>April 1, 2018</td>\n",
              "      <td>True</td>\n",
              "      <td>Horrible phone, your better off paying $100 mo...</td>\n",
              "      <td>Horrible phone, your better off paying $100 mo...</td>\n",
              "      <td>NaN</td>\n",
              "      <td>horrible better paying 100  buying brand new 1...</td>\n",
              "      <td>-1</td>\n",
              "      <td>True</td>\n",
              "    </tr>\n",
              "  </tbody>\n",
              "</table>\n",
              "<p>5143 rows × 20 columns</p>\n",
              "</div>"
            ],
            "text/plain": [
              "             asin  brand  ... positivity renewed\n",
              "37805  B0731HBTZ7  Apple  ...          1    True\n",
              "42149  B07755LZ67  Apple  ...          1    True\n",
              "41893  B0775451TT  Apple  ...          1    True\n",
              "35704  B071JPQYGK  Apple  ...         -1    True\n",
              "48696  B07D6TQP6F  Apple  ...          1    True\n",
              "...           ...    ...  ...        ...     ...\n",
              "37581  B0731HBTZ7  Apple  ...          1    True\n",
              "37616  B0731HBTZ7  Apple  ...          1    True\n",
              "31785  B06XRJQX91  Apple  ...          0    True\n",
              "42977  B077XM1GZM  Apple  ...          1    True\n",
              "29713  B01N9YO1DS  Apple  ...         -1    True\n",
              "\n",
              "[5143 rows x 20 columns]"
            ]
          },
          "metadata": {
            "tags": []
          },
          "execution_count": 20
        }
      ]
    },
    {
      "cell_type": "code",
      "metadata": {
        "id": "fiUmO_T7hEzv",
        "colab_type": "code",
        "outputId": "ef7c1877-0da6-4b80-ea3d-edcc5c5e8271",
        "colab": {
          "base_uri": "https://localhost:8080/",
          "height": 34
        }
      },
      "source": [
        "clean_text('Fuck that was good!')"
      ],
      "execution_count": 21,
      "outputs": [
        {
          "output_type": "execute_result",
          "data": {
            "text/plain": [
              "'fuck good'"
            ]
          },
          "metadata": {
            "tags": []
          },
          "execution_count": 21
        }
      ]
    },
    {
      "cell_type": "code",
      "metadata": {
        "id": "aW_HVw-ViO_w",
        "colab_type": "code",
        "outputId": "8c7398af-a8f3-474e-ad3f-586a9633be57",
        "colab": {
          "base_uri": "https://localhost:8080/",
          "height": 34
        }
      },
      "source": [
        "clean_text('No no thats not how you clean. Delete it')"
      ],
      "execution_count": 22,
      "outputs": [
        {
          "output_type": "execute_result",
          "data": {
            "text/plain": [
              "'thats clean delete'"
            ]
          },
          "metadata": {
            "tags": []
          },
          "execution_count": 22
        }
      ]
    },
    {
      "cell_type": "markdown",
      "metadata": {
        "id": "styoqGIoWhoh",
        "colab_type": "text"
      },
      "source": [
        "## Ngrams and Wordclouds\n"
      ]
    },
    {
      "cell_type": "code",
      "metadata": {
        "id": "eXJ-9VhrBIH2",
        "colab_type": "code",
        "outputId": "b2cc7697-e164-41f1-fdcd-b400e4f030e0",
        "colab": {
          "base_uri": "https://localhost:8080/",
          "height": 187
        }
      },
      "source": [
        "def get_top_n_bigram(corpus, n=None):\n",
        "    vec = CountVectorizer(ngram_range=(2, 2), stop_words='english').fit(corpus)\n",
        "    bag_of_words = vec.transform(corpus)\n",
        "    sum_words = bag_of_words.sum(axis=0) \n",
        "    words_freq = [(word, sum_words[0, idx]) for word, idx in vec.vocabulary_.items()]\n",
        "    words_freq =sorted(words_freq, key = lambda x: x[1], reverse=True)\n",
        "    return words_freq[:n]\n",
        "common_words = get_top_n_bigram(apple[\"clean_text\"], 10)\n",
        "for word, freq in common_words:\n",
        "    print(word, freq)\n",
        "\n"
      ],
      "execution_count": 0,
      "outputs": [
        {
          "output_type": "stream",
          "text": [
            "brand new 366\n",
            "battery life 359\n",
            "like new 318\n",
            "sim card 214\n",
            "work great 176\n",
            "screen protector 150\n",
            "perfect condition 117\n",
            "look like 111\n",
            "battery health 100\n",
            "good condition 92\n"
          ],
          "name": "stdout"
        }
      ]
    },
    {
      "cell_type": "code",
      "metadata": {
        "id": "Ogg3xvOfF8JT",
        "colab_type": "code",
        "outputId": "7efa26a5-9d12-4561-97e8-34c3aa82b718",
        "colab": {
          "base_uri": "https://localhost:8080/",
          "height": 204
        }
      },
      "source": [
        "df4 = pd.DataFrame(common_words, columns = ['Bigrams' , 'count'])\n",
        "df4.head()"
      ],
      "execution_count": 0,
      "outputs": [
        {
          "output_type": "execute_result",
          "data": {
            "text/html": [
              "<div>\n",
              "<style scoped>\n",
              "    .dataframe tbody tr th:only-of-type {\n",
              "        vertical-align: middle;\n",
              "    }\n",
              "\n",
              "    .dataframe tbody tr th {\n",
              "        vertical-align: top;\n",
              "    }\n",
              "\n",
              "    .dataframe thead th {\n",
              "        text-align: right;\n",
              "    }\n",
              "</style>\n",
              "<table border=\"1\" class=\"dataframe\">\n",
              "  <thead>\n",
              "    <tr style=\"text-align: right;\">\n",
              "      <th></th>\n",
              "      <th>Bigrams</th>\n",
              "      <th>count</th>\n",
              "    </tr>\n",
              "  </thead>\n",
              "  <tbody>\n",
              "    <tr>\n",
              "      <th>0</th>\n",
              "      <td>brand new</td>\n",
              "      <td>366</td>\n",
              "    </tr>\n",
              "    <tr>\n",
              "      <th>1</th>\n",
              "      <td>battery life</td>\n",
              "      <td>359</td>\n",
              "    </tr>\n",
              "    <tr>\n",
              "      <th>2</th>\n",
              "      <td>like new</td>\n",
              "      <td>318</td>\n",
              "    </tr>\n",
              "    <tr>\n",
              "      <th>3</th>\n",
              "      <td>sim card</td>\n",
              "      <td>214</td>\n",
              "    </tr>\n",
              "    <tr>\n",
              "      <th>4</th>\n",
              "      <td>work great</td>\n",
              "      <td>176</td>\n",
              "    </tr>\n",
              "  </tbody>\n",
              "</table>\n",
              "</div>"
            ],
            "text/plain": [
              "        Bigrams  count\n",
              "0     brand new    366\n",
              "1  battery life    359\n",
              "2      like new    318\n",
              "3      sim card    214\n",
              "4    work great    176"
            ]
          },
          "metadata": {
            "tags": []
          },
          "execution_count": 18
        }
      ]
    },
    {
      "cell_type": "code",
      "metadata": {
        "id": "BAMtKcF1KojJ",
        "colab_type": "code",
        "colab": {}
      },
      "source": [
        "import seaborn as sns\n",
        "import matplotlib.pyplot as plt"
      ],
      "execution_count": 0,
      "outputs": []
    },
    {
      "cell_type": "code",
      "metadata": {
        "id": "U9-xEv4aIXTb",
        "colab_type": "code",
        "outputId": "adc6fe3b-30d1-4e16-b2f2-abb1c72920d9",
        "colab": {
          "base_uri": "https://localhost:8080/",
          "height": 422
        }
      },
      "source": [
        "plt.figure(figsize=(25,5))\n",
        "sns.barplot(x='Bigrams',y='count',data=df4,color=\"salmon\")\n",
        "plt.xlabel('Top 10 Bigrams')\n",
        "plt.ylabel('Count')\n",
        "plt.title('Top 10 bigrams in review after removing stop words')\n",
        "plt.xticks(rotation=30);\n"
      ],
      "execution_count": 0,
      "outputs": [
        {
          "output_type": "display_data",
          "data": {
            "image/png": "[encoded data removed]",
            "text/plain": [
              "<Figure size 1800x360 with 1 Axes>"
            ]
          },
          "metadata": {
            "tags": []
          }
        }
      ]
    },
    {
      "cell_type": "code",
      "metadata": {
        "id": "k4HX17PmScm-",
        "colab_type": "code",
        "outputId": "5c05b8b9-44b0-489e-ebf0-0bb5fadd19c1",
        "colab": {
          "base_uri": "https://localhost:8080/",
          "height": 374
        }
      },
      "source": [
        "def get_top_n_trigram(corpus, n=None):\n",
        "    vec = CountVectorizer(ngram_range=(3, 3), stop_words='english').fit(corpus)\n",
        "    bag_of_words = vec.transform(corpus)\n",
        "    sum_words = bag_of_words.sum(axis=0) \n",
        "    words_freq = [(word, sum_words[0, idx]) for word, idx in vec.vocabulary_.items()]\n",
        "    words_freq =sorted(words_freq, key = lambda x: x[1], reverse=True)\n",
        "    return words_freq[:n]\n",
        "common_words_trigrams = get_top_n_trigram(apple[\"clean_text\"], 10)\n",
        "for word, freq in common_words_trigrams:\n",
        "    print(word, freq)\n",
        "\n",
        "df5 = pd.DataFrame(common_words_trigrams, columns = ['Trigrams' , 'count'])\n",
        "df5.head()"
      ],
      "execution_count": 0,
      "outputs": [
        {
          "output_type": "stream",
          "text": [
            "like brand new 84\n",
            "look brand new 83\n",
            "look like new 61\n",
            "work like new 57\n",
            "looked brand new 37\n",
            "came screen protector 35\n",
            "like new condition 26\n",
            "brand new scratch 23\n",
            "came perfect condition 23\n",
            "glass screen protector 21\n"
          ],
          "name": "stdout"
        },
        {
          "output_type": "execute_result",
          "data": {
            "text/html": [
              "<div>\n",
              "<style scoped>\n",
              "    .dataframe tbody tr th:only-of-type {\n",
              "        vertical-align: middle;\n",
              "    }\n",
              "\n",
              "    .dataframe tbody tr th {\n",
              "        vertical-align: top;\n",
              "    }\n",
              "\n",
              "    .dataframe thead th {\n",
              "        text-align: right;\n",
              "    }\n",
              "</style>\n",
              "<table border=\"1\" class=\"dataframe\">\n",
              "  <thead>\n",
              "    <tr style=\"text-align: right;\">\n",
              "      <th></th>\n",
              "      <th>Trigrams</th>\n",
              "      <th>count</th>\n",
              "    </tr>\n",
              "  </thead>\n",
              "  <tbody>\n",
              "    <tr>\n",
              "      <th>0</th>\n",
              "      <td>like brand new</td>\n",
              "      <td>84</td>\n",
              "    </tr>\n",
              "    <tr>\n",
              "      <th>1</th>\n",
              "      <td>look brand new</td>\n",
              "      <td>83</td>\n",
              "    </tr>\n",
              "    <tr>\n",
              "      <th>2</th>\n",
              "      <td>look like new</td>\n",
              "      <td>61</td>\n",
              "    </tr>\n",
              "    <tr>\n",
              "      <th>3</th>\n",
              "      <td>work like new</td>\n",
              "      <td>57</td>\n",
              "    </tr>\n",
              "    <tr>\n",
              "      <th>4</th>\n",
              "      <td>looked brand new</td>\n",
              "      <td>37</td>\n",
              "    </tr>\n",
              "  </tbody>\n",
              "</table>\n",
              "</div>"
            ],
            "text/plain": [
              "           Trigrams  count\n",
              "0    like brand new     84\n",
              "1    look brand new     83\n",
              "2     look like new     61\n",
              "3     work like new     57\n",
              "4  looked brand new     37"
            ]
          },
          "metadata": {
            "tags": []
          },
          "execution_count": 21
        }
      ]
    },
    {
      "cell_type": "code",
      "metadata": {
        "id": "TuunZPdXS055",
        "colab_type": "code",
        "outputId": "0297f833-cf3b-4cd1-a5dc-d6c4c3dfa61f",
        "colab": {
          "base_uri": "https://localhost:8080/",
          "height": 444
        }
      },
      "source": [
        "plt.figure(figsize=(25,5))\n",
        "sns.barplot(x='Trigrams',y='count',data=df5,color=\"salmon\")\n",
        "plt.xlabel('Top 10 Trigrams')\n",
        "plt.ylabel('Count')\n",
        "plt.title('Top 10 Trigrams in reviews after removing stop words')\n",
        "plt.xticks(rotation=30);"
      ],
      "execution_count": 0,
      "outputs": [
        {
          "output_type": "display_data",
          "data": {
            "image/png": "[encoded data removed]",
            "text/plain": [
              "<Figure size 1800x360 with 1 Axes>"
            ]
          },
          "metadata": {
            "tags": []
          }
        }
      ]
    },
    {
      "cell_type": "code",
      "metadata": {
        "id": "11sf4-kGyY40",
        "colab_type": "code",
        "colab": {}
      },
      "source": [
        "from wordcloud import WordCloud, ImageColorGenerator\n",
        "\n",
        "# Define a function to create a wordcloud from dictionary of word frequency\n",
        "def wordcloud_from_frequency(word_freq_dict, title, figure_size=(10, 6)):\n",
        "    wordcloud.generate_from_frequencies(word_freq_dict)\n",
        "    plt.figure(figsize=figure_size)\n",
        "    plt.imshow(wordcloud)\n",
        "    plt.axis(\"off\")\n",
        "    plt.title(title)\n",
        "    plt.show()\n"
      ],
      "execution_count": 0,
      "outputs": []
    },
    {
      "cell_type": "code",
      "metadata": {
        "id": "bdIU6_ps7UGq",
        "colab_type": "code",
        "colab": {}
      },
      "source": [
        "def word_freq_dict(text):\n",
        "    # Convert text into word list\n",
        "    wordList = text.split()\n",
        "    # Generate word freq dictionary\n",
        "    wordFreqDict = {word: wordList.count(word) for word in wordList}\n",
        "    return wordFreqDict"
      ],
      "execution_count": 0,
      "outputs": []
    },
    {
      "cell_type": "code",
      "metadata": {
        "id": "bogLOOSGWT1n",
        "colab_type": "code",
        "outputId": "d8aceacf-f94d-4b54-e4e0-f515931c2401",
        "colab": {
          "base_uri": "https://localhost:8080/",
          "height": 375
        }
      },
      "source": [
        "apple_pos = \" \".join(apple[apple[\"positivity\"]==1][\"clean_text\"])\n",
        "apple_pos_word_freq = word_freq_dict(apple_pos)\n",
        "wordcloud = WordCloud(width=5000, \n",
        "                      height=3000, \n",
        "                      max_words=200, \n",
        "                      colormap=\"Blues\",\n",
        "                      background_color=\"white\")\n",
        "wordcloud_from_frequency(apple_pos_word_freq, \"Most Frequent Words in Positive Reviews for Apple\")"
      ],
      "execution_count": 0,
      "outputs": [
        {
          "output_type": "display_data",
          "data": {
            "image/png": "[encoded data removed]",
            "text/plain": [
              "<Figure size 720x432 with 1 Axes>"
            ]
          },
          "metadata": {
            "tags": []
          }
        }
      ]
    },
    {
      "cell_type": "code",
      "metadata": {
        "id": "wlqJsZWqbPcr",
        "colab_type": "code",
        "colab": {
          "base_uri": "https://localhost:8080/",
          "height": 51
        },
        "outputId": "a7562a82-b534-4697-fea3-85455af440a8"
      },
      "source": [
        "nltk.download('vader_lexicon')"
      ],
      "execution_count": 23,
      "outputs": [
        {
          "output_type": "stream",
          "text": [
            "[nltk_data] Downloading package vader_lexicon to /root/nltk_data...\n"
          ],
          "name": "stdout"
        },
        {
          "output_type": "execute_result",
          "data": {
            "text/plain": [
              "True"
            ]
          },
          "metadata": {
            "tags": []
          },
          "execution_count": 23
        }
      ]
    },
    {
      "cell_type": "code",
      "metadata": {
        "id": "5dIr9VldbZKG",
        "colab_type": "code",
        "colab": {}
      },
      "source": [
        "from nltk.sentiment.vader import SentimentIntensityAnalyzer"
      ],
      "execution_count": 0,
      "outputs": []
    },
    {
      "cell_type": "code",
      "metadata": {
        "id": "-hERdoFpbZSZ",
        "colab_type": "code",
        "colab": {}
      },
      "source": [
        "sid=SentimentIntensityAnalyzer()"
      ],
      "execution_count": 0,
      "outputs": []
    },
    {
      "cell_type": "code",
      "metadata": {
        "id": "hME_qKxnbZVu",
        "colab_type": "code",
        "colab": {}
      },
      "source": [
        "a='yes no'"
      ],
      "execution_count": 0,
      "outputs": []
    },
    {
      "cell_type": "code",
      "metadata": {
        "id": "428m4JjmbZgt",
        "colab_type": "code",
        "colab": {
          "base_uri": "https://localhost:8080/",
          "height": 34
        },
        "outputId": "e0a00d20-b729-4cb9-f144-3ee061ebdfb4"
      },
      "source": [
        "sid.polarity_scores(a)"
      ],
      "execution_count": 29,
      "outputs": [
        {
          "output_type": "execute_result",
          "data": {
            "text/plain": [
              "{'compound': 0.128, 'neg': 0.449, 'neu': 0.0, 'pos': 0.551}"
            ]
          },
          "metadata": {
            "tags": []
          },
          "execution_count": 29
        }
      ]
    },
    {
      "cell_type": "code",
      "metadata": {
        "id": "WX5ytcutbZfG",
        "colab_type": "code",
        "colab": {}
      },
      "source": [
        "apple['polarity']=apple['body'].apply(lambda review:sid.polarity_scores(review))\n",
        "apple['compound_polarity']=apple['polarity'].apply(lambda x:x['compound'])"
      ],
      "execution_count": 0,
      "outputs": []
    },
    {
      "cell_type": "code",
      "metadata": {
        "id": "dfcRLt16bZbY",
        "colab_type": "code",
        "colab": {
          "base_uri": "https://localhost:8080/",
          "height": 734
        },
        "outputId": "9351c436-6c9f-4db6-8a4c-501ada349080"
      },
      "source": [
        "apple.head()"
      ],
      "execution_count": 34,
      "outputs": [
        {
          "output_type": "execute_result",
          "data": {
            "text/html": [
              "<div>\n",
              "<style scoped>\n",
              "    .dataframe tbody tr th:only-of-type {\n",
              "        vertical-align: middle;\n",
              "    }\n",
              "\n",
              "    .dataframe tbody tr th {\n",
              "        vertical-align: top;\n",
              "    }\n",
              "\n",
              "    .dataframe thead th {\n",
              "        text-align: right;\n",
              "    }\n",
              "</style>\n",
              "<table border=\"1\" class=\"dataframe\">\n",
              "  <thead>\n",
              "    <tr style=\"text-align: right;\">\n",
              "      <th></th>\n",
              "      <th>asin</th>\n",
              "      <th>brand</th>\n",
              "      <th>Product_Name</th>\n",
              "      <th>url</th>\n",
              "      <th>image</th>\n",
              "      <th>Average_Rating</th>\n",
              "      <th>reviewUrl</th>\n",
              "      <th>totalReviews</th>\n",
              "      <th>price</th>\n",
              "      <th>originalPrice</th>\n",
              "      <th>name</th>\n",
              "      <th>Customer_Rating</th>\n",
              "      <th>date</th>\n",
              "      <th>verified</th>\n",
              "      <th>Review_title</th>\n",
              "      <th>body</th>\n",
              "      <th>helpfulVotes</th>\n",
              "      <th>clean_text</th>\n",
              "      <th>positivity</th>\n",
              "      <th>renewed</th>\n",
              "      <th>polarity</th>\n",
              "      <th>compound_polarity</th>\n",
              "    </tr>\n",
              "  </thead>\n",
              "  <tbody>\n",
              "    <tr>\n",
              "      <th>37805</th>\n",
              "      <td>B0731HBTZ7</td>\n",
              "      <td>Apple</td>\n",
              "      <td>Apple iPhone 7 32GB, Rose Gold (Renewed)</td>\n",
              "      <td>https://www.amazon.com/Apple-iPhone-32GB-Rose-...</td>\n",
              "      <td>https://m.media-amazon.com/images/I/51cRE43zKw...</td>\n",
              "      <td>3.8</td>\n",
              "      <td>https://www.amazon.com/product-reviews/B0731HBTZ7</td>\n",
              "      <td>452</td>\n",
              "      <td>199.95</td>\n",
              "      <td>210.00</td>\n",
              "      <td>Zoriah Bradshaw</td>\n",
              "      <td>5</td>\n",
              "      <td>September 9, 2019</td>\n",
              "      <td>True</td>\n",
              "      <td>Works fine</td>\n",
              "      <td>Works fine</td>\n",
              "      <td>NaN</td>\n",
              "      <td>work fine</td>\n",
              "      <td>1</td>\n",
              "      <td>True</td>\n",
              "      <td>{'neg': 0.0, 'neu': 0.357, 'pos': 0.643, 'comp...</td>\n",
              "      <td>0.2023</td>\n",
              "    </tr>\n",
              "    <tr>\n",
              "      <th>42149</th>\n",
              "      <td>B07755LZ67</td>\n",
              "      <td>Apple</td>\n",
              "      <td>Apple iPhone 8 Plus 64GB Unlocked GSM Phone - ...</td>\n",
              "      <td>https://www.amazon.com/Apple-iPhone-Unlocked-G...</td>\n",
              "      <td>https://m.media-amazon.com/images/I/810MbmOEoq...</td>\n",
              "      <td>4.0</td>\n",
              "      <td>https://www.amazon.com/product-reviews/B07755LZ67</td>\n",
              "      <td>176</td>\n",
              "      <td>374.99</td>\n",
              "      <td>0.00</td>\n",
              "      <td>Timothy</td>\n",
              "      <td>5</td>\n",
              "      <td>September 9, 2019</td>\n",
              "      <td>True</td>\n",
              "      <td>I like my new iPhone</td>\n",
              "      <td>It did not come with an AC charger</td>\n",
              "      <td>NaN</td>\n",
              "      <td>come ac charger</td>\n",
              "      <td>1</td>\n",
              "      <td>True</td>\n",
              "      <td>{'neg': 0.0, 'neu': 1.0, 'pos': 0.0, 'compound...</td>\n",
              "      <td>0.0000</td>\n",
              "    </tr>\n",
              "    <tr>\n",
              "      <th>41893</th>\n",
              "      <td>B0775451TT</td>\n",
              "      <td>Apple</td>\n",
              "      <td>Apple iPhone X, 256GB, Silver - For AT&amp;T / T-M...</td>\n",
              "      <td>https://www.amazon.com/Apple-iPhone-Fully-Unlo...</td>\n",
              "      <td>https://m.media-amazon.com/images/I/81yZOQEC+N...</td>\n",
              "      <td>3.9</td>\n",
              "      <td>https://www.amazon.com/product-reviews/B0775451TT</td>\n",
              "      <td>436</td>\n",
              "      <td>479.00</td>\n",
              "      <td>749.99</td>\n",
              "      <td>Amazon Customer</td>\n",
              "      <td>5</td>\n",
              "      <td>September 9, 2019</td>\n",
              "      <td>True</td>\n",
              "      <td>Awesome !</td>\n",
              "      <td>Phone works perfect! Looks brand new ! No scra...</td>\n",
              "      <td>NaN</td>\n",
              "      <td>work perfect look brand new  scratch fresh store</td>\n",
              "      <td>1</td>\n",
              "      <td>True</td>\n",
              "      <td>{'neg': 0.086, 'neu': 0.584, 'pos': 0.33, 'com...</td>\n",
              "      <td>0.7418</td>\n",
              "    </tr>\n",
              "    <tr>\n",
              "      <th>35704</th>\n",
              "      <td>B071JPQYGK</td>\n",
              "      <td>Apple</td>\n",
              "      <td>Apple iPhone 7 Plus, AT&amp;T Locked, 128GB - Jet ...</td>\n",
              "      <td>https://www.amazon.com/Apple-iPhone-Plus-128GB...</td>\n",
              "      <td>https://m.media-amazon.com/images/I/61dI0syR1r...</td>\n",
              "      <td>3.5</td>\n",
              "      <td>https://www.amazon.com/product-reviews/B071JPQYGK</td>\n",
              "      <td>12</td>\n",
              "      <td>284.99</td>\n",
              "      <td>549.99</td>\n",
              "      <td>Amazon Customer</td>\n",
              "      <td>1</td>\n",
              "      <td>September 9, 2019</td>\n",
              "      <td>True</td>\n",
              "      <td>This product was a scam</td>\n",
              "      <td>The phone was either stolen or tossed by the o...</td>\n",
              "      <td>NaN</td>\n",
              "      <td>stolen tossed owner att stated owner owes unlo...</td>\n",
              "      <td>-1</td>\n",
              "      <td>True</td>\n",
              "      <td>{'neg': 0.182, 'neu': 0.818, 'pos': 0.0, 'comp...</td>\n",
              "      <td>-0.7184</td>\n",
              "    </tr>\n",
              "    <tr>\n",
              "      <th>48696</th>\n",
              "      <td>B07D6TQP6F</td>\n",
              "      <td>Apple</td>\n",
              "      <td>Apple iPhone X, 256GB, Silver - For AT&amp;T (Rene...</td>\n",
              "      <td>https://www.amazon.com/Apple-iPhone-AT-256GB-R...</td>\n",
              "      <td>https://m.media-amazon.com/images/I/81yZOQEC+N...</td>\n",
              "      <td>3.9</td>\n",
              "      <td>https://www.amazon.com/product-reviews/B07D6TQP6F</td>\n",
              "      <td>436</td>\n",
              "      <td>476.00</td>\n",
              "      <td>0.00</td>\n",
              "      <td>Amazon Customer</td>\n",
              "      <td>5</td>\n",
              "      <td>September 9, 2019</td>\n",
              "      <td>True</td>\n",
              "      <td>Awesome !</td>\n",
              "      <td>Phone works perfect! Looks brand new ! No scra...</td>\n",
              "      <td>NaN</td>\n",
              "      <td>work perfect look brand new  scratch fresh store</td>\n",
              "      <td>1</td>\n",
              "      <td>True</td>\n",
              "      <td>{'neg': 0.086, 'neu': 0.584, 'pos': 0.33, 'com...</td>\n",
              "      <td>0.7418</td>\n",
              "    </tr>\n",
              "  </tbody>\n",
              "</table>\n",
              "</div>"
            ],
            "text/plain": [
              "             asin  ... compound_polarity\n",
              "37805  B0731HBTZ7  ...            0.2023\n",
              "42149  B07755LZ67  ...            0.0000\n",
              "41893  B0775451TT  ...            0.7418\n",
              "35704  B071JPQYGK  ...           -0.7184\n",
              "48696  B07D6TQP6F  ...            0.7418\n",
              "\n",
              "[5 rows x 22 columns]"
            ]
          },
          "metadata": {
            "tags": []
          },
          "execution_count": 34
        }
      ]
    },
    {
      "cell_type": "code",
      "metadata": {
        "id": "VSD-eKxabZZO",
        "colab_type": "code",
        "colab": {}
      },
      "source": [
        ""
      ],
      "execution_count": 0,
      "outputs": []
    },
    {
      "cell_type": "code",
      "metadata": {
        "id": "6AmR2spR79mj",
        "colab_type": "code",
        "outputId": "791c74be-4c78-4ff4-aff4-6555cc0b23d8",
        "colab": {
          "base_uri": "https://localhost:8080/",
          "height": 231
        }
      },
      "source": [
        "apple_neg = \" \".join(apple[apple[\"positivity\"]==-1][\"clean_text\"])\n",
        "apple_neg_word_freq = word_freq_dict(apple_neg)\n",
        "wordcloud = WordCloud(width=5000, \n",
        "                      height=3000, \n",
        "                      max_words=200, \n",
        "                      colormap=\"RdBu\",\n",
        "                      background_color=\"white\")\n",
        "wordcloud_from_frequency(apple_neg_word_freq, \"Most Frequent Words in Negative Reviews for Apple\")"
      ],
      "execution_count": 1,
      "outputs": [
        {
          "output_type": "error",
          "ename": "NameError",
          "evalue": "ignored",
          "traceback": [
            "\u001b[0;31m---------------------------------------------------------------------------\u001b[0m",
            "\u001b[0;31mNameError\u001b[0m                                 Traceback (most recent call last)",
            "\u001b[0;32m<ipython-input-1-cff9545a84ad>\u001b[0m in \u001b[0;36m<module>\u001b[0;34m()\u001b[0m\n\u001b[0;32m----> 1\u001b[0;31m \u001b[0mapple_neg\u001b[0m \u001b[0;34m=\u001b[0m \u001b[0;34m\" \"\u001b[0m\u001b[0;34m.\u001b[0m\u001b[0mjoin\u001b[0m\u001b[0;34m(\u001b[0m\u001b[0mapple\u001b[0m\u001b[0;34m[\u001b[0m\u001b[0mapple\u001b[0m\u001b[0;34m[\u001b[0m\u001b[0;34m\"positivity\"\u001b[0m\u001b[0;34m]\u001b[0m\u001b[0;34m==\u001b[0m\u001b[0;34m-\u001b[0m\u001b[0;36m1\u001b[0m\u001b[0;34m]\u001b[0m\u001b[0;34m[\u001b[0m\u001b[0;34m\"clean_text\"\u001b[0m\u001b[0;34m]\u001b[0m\u001b[0;34m)\u001b[0m\u001b[0;34m\u001b[0m\u001b[0;34m\u001b[0m\u001b[0m\n\u001b[0m\u001b[1;32m      2\u001b[0m \u001b[0mapple_neg_word_freq\u001b[0m \u001b[0;34m=\u001b[0m \u001b[0mword_freq_dict\u001b[0m\u001b[0;34m(\u001b[0m\u001b[0mapple_neg\u001b[0m\u001b[0;34m)\u001b[0m\u001b[0;34m\u001b[0m\u001b[0;34m\u001b[0m\u001b[0m\n\u001b[1;32m      3\u001b[0m wordcloud = WordCloud(width=5000, \n\u001b[1;32m      4\u001b[0m                       \u001b[0mheight\u001b[0m\u001b[0;34m=\u001b[0m\u001b[0;36m3000\u001b[0m\u001b[0;34m,\u001b[0m\u001b[0;34m\u001b[0m\u001b[0;34m\u001b[0m\u001b[0m\n\u001b[1;32m      5\u001b[0m                       \u001b[0mmax_words\u001b[0m\u001b[0;34m=\u001b[0m\u001b[0;36m200\u001b[0m\u001b[0;34m,\u001b[0m\u001b[0;34m\u001b[0m\u001b[0;34m\u001b[0m\u001b[0m\n",
            "\u001b[0;31mNameError\u001b[0m: name 'apple' is not defined"
          ]
        }
      ]
    },
    {
      "cell_type": "markdown",
      "metadata": {
        "id": "rU5nCGDZ9S_E",
        "colab_type": "text"
      },
      "source": [
        "# LDA - Latent Dirichlet Allocation"
      ]
    },
    {
      "cell_type": "code",
      "metadata": {
        "id": "OMvAjkY-Urcm",
        "colab_type": "code",
        "colab": {}
      },
      "source": [
        "#from sklearn.feature_extraction.text import CountVectorizer\n",
        "#cv = CountVectorizer(max_df=0.95,min_df=0.05,stop_words='english')\n",
        "from sklearn.feature_extraction.text import TfidfVectorizer\n",
        "tfidf_vectorizer = TfidfVectorizer(max_df=0.95, min_df=0.05, stop_words=\"english\")"
      ],
      "execution_count": 0,
      "outputs": []
    },
    {
      "cell_type": "code",
      "metadata": {
        "id": "pDSoO4_CUrpG",
        "colab_type": "code",
        "colab": {}
      },
      "source": [
        "#dtm = cv.fit_transform(apple['clean_text'])\n",
        "dtm = tfidf_vectorizer.fit_transform(apple[\"clean_text\"])"
      ],
      "execution_count": 0,
      "outputs": []
    },
    {
      "cell_type": "code",
      "metadata": {
        "id": "qCpCFKHNUrwx",
        "colab_type": "code",
        "outputId": "7a796372-95f7-41a7-bc98-e96ce41c21d8",
        "colab": {
          "base_uri": "https://localhost:8080/",
          "height": 136
        }
      },
      "source": [
        "from sklearn.decomposition import LatentDirichletAllocation\n",
        "n_topics=10\n",
        "lda = LatentDirichletAllocation(n_components=n_topics, \n",
        "                                max_iter=100, \n",
        "                                learning_method='online',\n",
        "                                learning_offset=100.0,\n",
        "                                n_jobs=1,\n",
        "                                random_state=0,learning_decay=0.5)\n",
        "lda.fit(dtm)"
      ],
      "execution_count": 0,
      "outputs": [
        {
          "output_type": "execute_result",
          "data": {
            "text/plain": [
              "LatentDirichletAllocation(batch_size=128, doc_topic_prior=None,\n",
              "                          evaluate_every=-1, learning_decay=0.5,\n",
              "                          learning_method='online', learning_offset=100.0,\n",
              "                          max_doc_update_iter=100, max_iter=100,\n",
              "                          mean_change_tol=0.001, n_components=10, n_jobs=1,\n",
              "                          perp_tol=0.1, random_state=0, topic_word_prior=None,\n",
              "                          total_samples=1000000.0, verbose=0)"
            ]
          },
          "metadata": {
            "tags": []
          },
          "execution_count": 98
        }
      ]
    },
    {
      "cell_type": "code",
      "metadata": {
        "id": "co7OO9VRUr4e",
        "colab_type": "code",
        "outputId": "4cf6702f-b96b-46c7-e8c6-57d109fbd1e6",
        "colab": {
          "base_uri": "https://localhost:8080/",
          "height": 187
        }
      },
      "source": [
        "single_topic=LDA.components_[0]   #len(LDA.components_)=10 , 10 topics\n",
        "top_ten_words=single_topic.argsort()[-10:]\n",
        "for index in top_ten_words:\n",
        "  print(tfidf_vectorizer.get_feature_names()[index])\n",
        "  #print(cv.get_feature_names()[index])"
      ],
      "execution_count": 0,
      "outputs": [
        {
          "output_type": "stream",
          "text": [
            "battery\n",
            "new\n",
            "good\n",
            "day\n",
            "screen\n",
            "scratch\n",
            "charger\n",
            "came\n",
            "product\n",
            "work\n"
          ],
          "name": "stdout"
        }
      ]
    },
    {
      "cell_type": "code",
      "metadata": {
        "id": "EQ6j_J8gUr-x",
        "colab_type": "code",
        "outputId": "f2e0d9e0-0201-46b6-e4ab-0f961da3323a",
        "colab": {
          "base_uri": "https://localhost:8080/",
          "height": 357
        }
      },
      "source": [
        "for i,topic in enumerate(LDA.components_):\n",
        "  print(f\"THE TOP 10 WORDS FOR TOPIC #{i}\")\n",
        "  print([tfidf_vectorizer.get_feature_names()[index] for index in topic.argsort()[-10:]])\n",
        "  #print('\\n')"
      ],
      "execution_count": 0,
      "outputs": [
        {
          "output_type": "stream",
          "text": [
            "THE TOP 10 WORDS FOR TOPIC #0\n",
            "['battery', 'new', 'good', 'day', 'screen', 'scratch', 'charger', 'came', 'product', 'work']\n",
            "THE TOP 10 WORDS FOR TOPIC #1\n",
            "['condition', 'scratch', 'product', 'good', 'great', 'problem', 'issue', 'day', 'far', 'working']\n",
            "THE TOP 10 WORDS FOR TOPIC #2\n",
            "['issue', 'use', 'product', 'look', 'price', 'review', 'condition', 'work', 'time', 'great']\n",
            "THE TOP 10 WORDS FOR TOPIC #3\n",
            "['scratch', 'day', 'iphone', 'like', 'battery', 'review', 'new', 'seller', 'purchase', 'happy']\n",
            "THE TOP 10 WORDS FOR TOPIC #4\n",
            "['time', 'day', 'use', 'work', 'battery', 'scratch', 'issue', 'problem', 'screen', 'iphone']\n",
            "THE TOP 10 WORDS FOR TOPIC #5\n",
            "['bought', 'condition', 'great', 'iphone', 'brand', 'work', 'look', 'new', 'love', 'like']\n",
            "THE TOP 10 WORDS FOR TOPIC #6\n",
            "['look', 'charger', 'battery', 'like', 'came', 'brand', 'new', 'scratch', 'price', 'got']\n",
            "THE TOP 10 WORDS FOR TOPIC #7\n",
            "['iphone', 'screen', 'new', 'product', 'day', 'use', 'battery', 'refurbished', 'bought', 'buy']\n",
            "THE TOP 10 WORDS FOR TOPIC #8\n",
            "['new', 'scratch', 'day', 'work', 'far', 'condition', 'use', 'life', 'battery', 'good']\n",
            "THE TOP 10 WORDS FOR TOPIC #9\n",
            "['battery', 'issue', 'review', 'use', 'scratch', 'came', 'work', 'condition', 'unlocked', 'perfect']\n"
          ],
          "name": "stdout"
        }
      ]
    },
    {
      "cell_type": "code",
      "metadata": {
        "id": "nBbucreUU9hQ",
        "colab_type": "code",
        "outputId": "15c8a5a7-dcf6-4673-f21f-e338be65a7aa",
        "colab": {
          "base_uri": "https://localhost:8080/",
          "height": 734
        }
      },
      "source": [
        "topic_results=LDA.transform(dtm)\n",
        "apple['Topic']=topic_results.argmax(axis=1)\n",
        "apple.head()"
      ],
      "execution_count": 0,
      "outputs": [
        {
          "output_type": "execute_result",
          "data": {
            "text/html": [
              "<div>\n",
              "<style scoped>\n",
              "    .dataframe tbody tr th:only-of-type {\n",
              "        vertical-align: middle;\n",
              "    }\n",
              "\n",
              "    .dataframe tbody tr th {\n",
              "        vertical-align: top;\n",
              "    }\n",
              "\n",
              "    .dataframe thead th {\n",
              "        text-align: right;\n",
              "    }\n",
              "</style>\n",
              "<table border=\"1\" class=\"dataframe\">\n",
              "  <thead>\n",
              "    <tr style=\"text-align: right;\">\n",
              "      <th></th>\n",
              "      <th>asin</th>\n",
              "      <th>brand</th>\n",
              "      <th>Product_Name</th>\n",
              "      <th>url</th>\n",
              "      <th>image</th>\n",
              "      <th>Average_Rating</th>\n",
              "      <th>reviewUrl</th>\n",
              "      <th>totalReviews</th>\n",
              "      <th>price</th>\n",
              "      <th>originalPrice</th>\n",
              "      <th>name</th>\n",
              "      <th>Customer_Rating</th>\n",
              "      <th>date</th>\n",
              "      <th>verified</th>\n",
              "      <th>Review_title</th>\n",
              "      <th>body</th>\n",
              "      <th>helpfulVotes</th>\n",
              "      <th>clean_text</th>\n",
              "      <th>positivity</th>\n",
              "      <th>Topic</th>\n",
              "    </tr>\n",
              "  </thead>\n",
              "  <tbody>\n",
              "    <tr>\n",
              "      <th>37805</th>\n",
              "      <td>B0731HBTZ7</td>\n",
              "      <td>Apple</td>\n",
              "      <td>Apple iPhone 7 32GB, Rose Gold (Renewed)</td>\n",
              "      <td>https://www.amazon.com/Apple-iPhone-32GB-Rose-...</td>\n",
              "      <td>https://m.media-amazon.com/images/I/51cRE43zKw...</td>\n",
              "      <td>3.8</td>\n",
              "      <td>https://www.amazon.com/product-reviews/B0731HBTZ7</td>\n",
              "      <td>452</td>\n",
              "      <td>199.95</td>\n",
              "      <td>210.00</td>\n",
              "      <td>Zoriah Bradshaw</td>\n",
              "      <td>5</td>\n",
              "      <td>September 9, 2019</td>\n",
              "      <td>True</td>\n",
              "      <td>Works fine</td>\n",
              "      <td>Works fine</td>\n",
              "      <td>NaN</td>\n",
              "      <td>work fine</td>\n",
              "      <td>1</td>\n",
              "      <td>0</td>\n",
              "    </tr>\n",
              "    <tr>\n",
              "      <th>42149</th>\n",
              "      <td>B07755LZ67</td>\n",
              "      <td>Apple</td>\n",
              "      <td>Apple iPhone 8 Plus 64GB Unlocked GSM Phone - ...</td>\n",
              "      <td>https://www.amazon.com/Apple-iPhone-Unlocked-G...</td>\n",
              "      <td>https://m.media-amazon.com/images/I/810MbmOEoq...</td>\n",
              "      <td>4.0</td>\n",
              "      <td>https://www.amazon.com/product-reviews/B07755LZ67</td>\n",
              "      <td>176</td>\n",
              "      <td>374.99</td>\n",
              "      <td>0.00</td>\n",
              "      <td>Timothy</td>\n",
              "      <td>5</td>\n",
              "      <td>September 9, 2019</td>\n",
              "      <td>True</td>\n",
              "      <td>I like my new iPhone</td>\n",
              "      <td>It did not come with an AC charger</td>\n",
              "      <td>NaN</td>\n",
              "      <td>come ac charger</td>\n",
              "      <td>1</td>\n",
              "      <td>0</td>\n",
              "    </tr>\n",
              "    <tr>\n",
              "      <th>41893</th>\n",
              "      <td>B0775451TT</td>\n",
              "      <td>Apple</td>\n",
              "      <td>Apple iPhone X, 256GB, Silver - For AT&amp;T / T-M...</td>\n",
              "      <td>https://www.amazon.com/Apple-iPhone-Fully-Unlo...</td>\n",
              "      <td>https://m.media-amazon.com/images/I/81yZOQEC+N...</td>\n",
              "      <td>3.9</td>\n",
              "      <td>https://www.amazon.com/product-reviews/B0775451TT</td>\n",
              "      <td>436</td>\n",
              "      <td>479.00</td>\n",
              "      <td>749.99</td>\n",
              "      <td>Amazon Customer</td>\n",
              "      <td>5</td>\n",
              "      <td>September 9, 2019</td>\n",
              "      <td>True</td>\n",
              "      <td>Awesome !</td>\n",
              "      <td>Phone works perfect! Looks brand new ! No scra...</td>\n",
              "      <td>NaN</td>\n",
              "      <td>work perfect look brand new  scratch fresh store</td>\n",
              "      <td>1</td>\n",
              "      <td>5</td>\n",
              "    </tr>\n",
              "    <tr>\n",
              "      <th>35704</th>\n",
              "      <td>B071JPQYGK</td>\n",
              "      <td>Apple</td>\n",
              "      <td>Apple iPhone 7 Plus, AT&amp;T Locked, 128GB - Jet ...</td>\n",
              "      <td>https://www.amazon.com/Apple-iPhone-Plus-128GB...</td>\n",
              "      <td>https://m.media-amazon.com/images/I/61dI0syR1r...</td>\n",
              "      <td>3.5</td>\n",
              "      <td>https://www.amazon.com/product-reviews/B071JPQYGK</td>\n",
              "      <td>12</td>\n",
              "      <td>284.99</td>\n",
              "      <td>549.99</td>\n",
              "      <td>Amazon Customer</td>\n",
              "      <td>1</td>\n",
              "      <td>September 9, 2019</td>\n",
              "      <td>True</td>\n",
              "      <td>This product was a scam</td>\n",
              "      <td>The phone was either stolen or tossed by the o...</td>\n",
              "      <td>NaN</td>\n",
              "      <td>stolen tossed owner att stated owner owes unlo...</td>\n",
              "      <td>-1</td>\n",
              "      <td>9</td>\n",
              "    </tr>\n",
              "    <tr>\n",
              "      <th>48696</th>\n",
              "      <td>B07D6TQP6F</td>\n",
              "      <td>Apple</td>\n",
              "      <td>Apple iPhone X, 256GB, Silver - For AT&amp;T (Rene...</td>\n",
              "      <td>https://www.amazon.com/Apple-iPhone-AT-256GB-R...</td>\n",
              "      <td>https://m.media-amazon.com/images/I/81yZOQEC+N...</td>\n",
              "      <td>3.9</td>\n",
              "      <td>https://www.amazon.com/product-reviews/B07D6TQP6F</td>\n",
              "      <td>436</td>\n",
              "      <td>476.00</td>\n",
              "      <td>0.00</td>\n",
              "      <td>Amazon Customer</td>\n",
              "      <td>5</td>\n",
              "      <td>September 9, 2019</td>\n",
              "      <td>True</td>\n",
              "      <td>Awesome !</td>\n",
              "      <td>Phone works perfect! Looks brand new ! No scra...</td>\n",
              "      <td>NaN</td>\n",
              "      <td>work perfect look brand new  scratch fresh store</td>\n",
              "      <td>1</td>\n",
              "      <td>5</td>\n",
              "    </tr>\n",
              "  </tbody>\n",
              "</table>\n",
              "</div>"
            ],
            "text/plain": [
              "             asin  brand  ... positivity Topic\n",
              "37805  B0731HBTZ7  Apple  ...          1     0\n",
              "42149  B07755LZ67  Apple  ...          1     0\n",
              "41893  B0775451TT  Apple  ...          1     5\n",
              "35704  B071JPQYGK  Apple  ...         -1     9\n",
              "48696  B07D6TQP6F  Apple  ...          1     5\n",
              "\n",
              "[5 rows x 20 columns]"
            ]
          },
          "metadata": {
            "tags": []
          },
          "execution_count": 104
        }
      ]
    },
    {
      "cell_type": "markdown",
      "metadata": {
        "id": "iq1g5Mo0PhhS",
        "colab_type": "text"
      },
      "source": [
        "# Ratings Prediction from reviews"
      ]
    },
    {
      "cell_type": "code",
      "metadata": {
        "id": "CQ2fz11vRsYs",
        "colab_type": "code",
        "colab": {}
      },
      "source": [
        "from sklearn import metrics\n",
        "from sklearn.feature_extraction.text import CountVectorizer, TfidfTransformer, TfidfVectorizer\n",
        "from sklearn.linear_model import LogisticRegression\n",
        "from sklearn.naive_bayes import MultinomialNB\n",
        "from sklearn.pipeline import Pipeline\n",
        "from sklearn.tree import DecisionTreeClassifier\n",
        "from sklearn.ensemble import RandomForestClassifier\n",
        "from sklearn.model_selection import cross_validate\n",
        "from sklearn.model_selection import train_test_split\n",
        "from sklearn.metrics import mean_squared_error, mean_absolute_error"
      ],
      "execution_count": 0,
      "outputs": []
    },
    {
      "cell_type": "code",
      "metadata": {
        "id": "iSq1RE82PluK",
        "colab_type": "code",
        "outputId": "1e588ebb-9c8b-4497-a7a6-7c7db6e29c61",
        "colab": {
          "base_uri": "https://localhost:8080/",
          "height": 292
        }
      },
      "source": [
        "pipeline = Pipeline([\n",
        "    ('Tf-Idf', TfidfVectorizer(ngram_range=(1,2), analyzer=clean_text)),\n",
        "    ('classifier', LogisticRegression(solver='newton-cg', multi_class='multinomial'))])\n",
        "X = apple['clean_text']\n",
        "y = apple['Customer_Rating']\n",
        "review_trainLR, review_testLR, label_trainLR, label_testLR = train_test_split(X, y, test_size=0.3, random_state=101)\n",
        "pipeline.fit(review_trainLR, label_trainLR)\n",
        "pipe_predictedLR = pipeline.predict(review_testLR)\n",
        "print(metrics.classification_report(label_testLR,pipe_predictedLR))\n",
        "scores_LR = cross_validate(pipeline, apple['clean_text'], apple['Customer_Rating'], cv=5,scoring=('r2', 'neg_mean_squared_error'))\n",
        "#print(scores_LR['test_score'].mean())\n",
        "print(scores_LR['test_r2'].mean())"
      ],
      "execution_count": 0,
      "outputs": [
        {
          "output_type": "stream",
          "text": [
            "/usr/local/lib/python3.6/dist-packages/sklearn/metrics/_classification.py:1272: UndefinedMetricWarning: Precision and F-score are ill-defined and being set to 0.0 in labels with no predicted samples. Use `zero_division` parameter to control this behavior.\n",
            "  _warn_prf(average, modifier, msg_start, len(result))\n"
          ],
          "name": "stderr"
        },
        {
          "output_type": "stream",
          "text": [
            "              precision    recall  f1-score   support\n",
            "\n",
            "           1       0.52      0.30      0.38       357\n",
            "           2       0.00      0.00      0.00        71\n",
            "           3       0.00      0.00      0.00        91\n",
            "           4       0.00      0.00      0.00       176\n",
            "           5       0.60      0.95      0.73       849\n",
            "\n",
            "    accuracy                           0.59      1544\n",
            "   macro avg       0.22      0.25      0.22      1544\n",
            "weighted avg       0.45      0.59      0.49      1544\n",
            "\n",
            "-0.4473772842462781\n"
          ],
          "name": "stdout"
        }
      ]
    },
    {
      "cell_type": "markdown",
      "metadata": {
        "id": "l0tbJ5omTaI0",
        "colab_type": "text"
      },
      "source": [
        "Naive Bayes Model"
      ]
    },
    {
      "cell_type": "code",
      "metadata": {
        "id": "L9U_0NHuQN56",
        "colab_type": "code",
        "outputId": "878fb371-3738-4220-ae44-2b0f4afb6152",
        "colab": {
          "base_uri": "https://localhost:8080/",
          "height": 292
        }
      },
      "source": [
        "#Multinomial Naive Bayes \n",
        "pipeline = Pipeline([\n",
        "    ('Tf-Idf', TfidfVectorizer(ngram_range=(1,2), analyzer=clean_text)),\n",
        "    ('classifier', MultinomialNB())\n",
        "])\n",
        "X2 = apple['clean_text']\n",
        "y2 = apple['Customer_Rating']\n",
        "review_train2, review_test2, label_train2, label_test2 = train_test_split(X2, y2, test_size=0.3)\n",
        "pipeline.fit(review_train2, label_train2)\n",
        "pip_pred2 = pipeline.predict(review_test2)\n",
        "print(metrics.classification_report(label_test2, pip_pred2))\n",
        "scores_NB = cross_validate(pipeline, apple['clean_text'], apple['Customer_Rating'], cv=5)\n",
        "print(scores_NB['test_score'].mean())"
      ],
      "execution_count": 0,
      "outputs": [
        {
          "output_type": "stream",
          "text": [
            "/usr/local/lib/python3.6/dist-packages/sklearn/metrics/_classification.py:1272: UndefinedMetricWarning: Precision and F-score are ill-defined and being set to 0.0 in labels with no predicted samples. Use `zero_division` parameter to control this behavior.\n",
            "  _warn_prf(average, modifier, msg_start, len(result))\n"
          ],
          "name": "stderr"
        },
        {
          "output_type": "stream",
          "text": [
            "              precision    recall  f1-score   support\n",
            "\n",
            "           1       1.00      0.01      0.01       335\n",
            "           2       0.00      0.00      0.00        70\n",
            "           3       0.00      0.00      0.00        99\n",
            "           4       0.00      0.00      0.00       158\n",
            "           5       0.57      1.00      0.73       882\n",
            "\n",
            "    accuracy                           0.57      1544\n",
            "   macro avg       0.31      0.20      0.15      1544\n",
            "weighted avg       0.54      0.57      0.42      1544\n",
            "\n",
            "0.5533527696793004\n"
          ],
          "name": "stdout"
        }
      ]
    },
    {
      "cell_type": "markdown",
      "metadata": {
        "id": "h9o13wSJS5ql",
        "colab_type": "text"
      },
      "source": [
        "Random Forest model"
      ]
    },
    {
      "cell_type": "code",
      "metadata": {
        "id": "RHws5rkeSqR5",
        "colab_type": "code",
        "outputId": "d8e5dee4-b917-4d7d-9914-b22f3fd5e0cb",
        "colab": {
          "base_uri": "https://localhost:8080/",
          "height": 238
        }
      },
      "source": [
        "# RandomForest\n",
        "pipeline = Pipeline([\n",
        "    ('Tf-Idf', TfidfVectorizer(ngram_range=(1,2), analyzer=clean_text)),\n",
        "    ('classifier', RandomForestClassifier())])\n",
        "X3 = apple['clean_text']\n",
        "y3 = apple['Customer_Rating']\n",
        "review_trainRF, review_testRF, label_trainRF, label_testRF = train_test_split(X3, y3, test_size=0.3)\n",
        "pipeline.fit(review_trainRF, label_trainRF)\n",
        "pipeline_predictedRF= pipeline.predict(review_testRF)\n",
        "print(metrics.classification_report(label_testRF, pipeline_predictedRF))\n",
        "scores_RF = cross_validate(pipeline, apple['clean_text'], apple['Customer_Rating'], cv=5)\n",
        "print(scores_RF['test_score'].mean())"
      ],
      "execution_count": 0,
      "outputs": [
        {
          "output_type": "stream",
          "text": [
            "              precision    recall  f1-score   support\n",
            "\n",
            "           1       0.67      0.41      0.51       356\n",
            "           2       1.00      0.12      0.22        80\n",
            "           3       1.00      0.16      0.28        94\n",
            "           4       0.77      0.15      0.25       154\n",
            "           5       0.65      0.96      0.78       860\n",
            "\n",
            "    accuracy                           0.66      1544\n",
            "   macro avg       0.82      0.36      0.41      1544\n",
            "weighted avg       0.71      0.66      0.60      1544\n",
            "\n",
            "0.5968901846452866\n"
          ],
          "name": "stdout"
        }
      ]
    }
  ]
}