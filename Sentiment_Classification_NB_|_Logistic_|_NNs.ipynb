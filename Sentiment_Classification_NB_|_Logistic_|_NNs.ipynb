{
  "nbformat": 4,
  "nbformat_minor": 0,
  "metadata": {
    "colab": {
      "name": "Sentiment Classification- NB | Logistic | NNs.ipynb",
      "provenance": [],
      "collapsed_sections": [],
      "authorship_tag": "ABX9TyP9qBTN5Fv7B3uc4g4Be9R+",
      "include_colab_link": true
    },
    "kernelspec": {
      "name": "python3",
      "display_name": "Python 3"
    }
  },
  "cells": [
    {
      "cell_type": "markdown",
      "metadata": {
        "id": "view-in-github",
        "colab_type": "text"
      },
      "source": [
        "<a href=\"https://colab.research.google.com/github/Vish4github/Projects/blob/master/Sentiment_Classification_NB_%7C_Logistic_%7C_NNs.ipynb\" target=\"_parent\"><img src=\"https://colab.research.google.com/assets/colab-badge.svg\" alt=\"Open In Colab\"/></a>"
      ]
    },
    {
      "cell_type": "code",
      "metadata": {
        "id": "F1Vip5bYYLQX",
        "colab_type": "code",
        "colab": {}
      },
      "source": [
        "#%pip install fastai --upgrade"
      ],
      "execution_count": 0,
      "outputs": []
    },
    {
      "cell_type": "code",
      "metadata": {
        "id": "jjOFuW7ZYT0g",
        "colab_type": "code",
        "colab": {}
      },
      "source": [
        "%reload_ext autoreload\n",
        "%autoreload 2\n",
        "%matplotlib inline"
      ],
      "execution_count": 0,
      "outputs": []
    },
    {
      "cell_type": "code",
      "metadata": {
        "id": "w1perEQYYp6j",
        "colab_type": "code",
        "colab": {}
      },
      "source": [
        "from fastai import*\n",
        "from fastai.text import*\n",
        "from fastai.vision import *"
      ],
      "execution_count": 0,
      "outputs": []
    },
    {
      "cell_type": "code",
      "metadata": {
        "id": "MX-VBvq-Ystc",
        "colab_type": "code",
        "colab": {}
      },
      "source": [
        "import sklearn.feature_extraction.text as sklearn_text"
      ],
      "execution_count": 0,
      "outputs": []
    },
    {
      "cell_type": "code",
      "metadata": {
        "id": "bzgrXLI_aVw6",
        "colab_type": "code",
        "colab": {}
      },
      "source": [
        "#?? URLs"
      ],
      "execution_count": 0,
      "outputs": []
    },
    {
      "cell_type": "code",
      "metadata": {
        "id": "_PNVNqVYYvIL",
        "colab_type": "code",
        "outputId": "30badfdb-bf7b-49d0-a4ff-d4f6f86c688a",
        "colab": {
          "base_uri": "https://localhost:8080/",
          "height": 34
        }
      },
      "source": [
        "path = untar_data(URLs.IMDB_SAMPLE)\n",
        "path"
      ],
      "execution_count": 7,
      "outputs": [
        {
          "output_type": "execute_result",
          "data": {
            "text/plain": [
              "PosixPath('/root/.fastai/data/imdb_sample')"
            ]
          },
          "metadata": {
            "tags": []
          },
          "execution_count": 7
        }
      ]
    },
    {
      "cell_type": "code",
      "metadata": {
        "id": "z0uvdVQMZNmv",
        "colab_type": "code",
        "colab": {}
      },
      "source": [
        "df=pd.read_csv(path/'texts.csv')"
      ],
      "execution_count": 0,
      "outputs": []
    },
    {
      "cell_type": "code",
      "metadata": {
        "id": "cBqOhEnKaR_s",
        "colab_type": "code",
        "outputId": "fe254649-445b-4625-c04d-497d71b65c09",
        "colab": {
          "base_uri": "https://localhost:8080/",
          "height": 204
        }
      },
      "source": [
        "df.head()"
      ],
      "execution_count": 9,
      "outputs": [
        {
          "output_type": "execute_result",
          "data": {
            "text/html": [
              "<div>\n",
              "<style scoped>\n",
              "    .dataframe tbody tr th:only-of-type {\n",
              "        vertical-align: middle;\n",
              "    }\n",
              "\n",
              "    .dataframe tbody tr th {\n",
              "        vertical-align: top;\n",
              "    }\n",
              "\n",
              "    .dataframe thead th {\n",
              "        text-align: right;\n",
              "    }\n",
              "</style>\n",
              "<table border=\"1\" class=\"dataframe\">\n",
              "  <thead>\n",
              "    <tr style=\"text-align: right;\">\n",
              "      <th></th>\n",
              "      <th>label</th>\n",
              "      <th>text</th>\n",
              "      <th>is_valid</th>\n",
              "    </tr>\n",
              "  </thead>\n",
              "  <tbody>\n",
              "    <tr>\n",
              "      <th>0</th>\n",
              "      <td>negative</td>\n",
              "      <td>Un-bleeping-believable! Meg Ryan doesn't even ...</td>\n",
              "      <td>False</td>\n",
              "    </tr>\n",
              "    <tr>\n",
              "      <th>1</th>\n",
              "      <td>positive</td>\n",
              "      <td>This is a extremely well-made film. The acting...</td>\n",
              "      <td>False</td>\n",
              "    </tr>\n",
              "    <tr>\n",
              "      <th>2</th>\n",
              "      <td>negative</td>\n",
              "      <td>Every once in a long while a movie will come a...</td>\n",
              "      <td>False</td>\n",
              "    </tr>\n",
              "    <tr>\n",
              "      <th>3</th>\n",
              "      <td>positive</td>\n",
              "      <td>Name just says it all. I watched this movie wi...</td>\n",
              "      <td>False</td>\n",
              "    </tr>\n",
              "    <tr>\n",
              "      <th>4</th>\n",
              "      <td>negative</td>\n",
              "      <td>This movie succeeds at being one of the most u...</td>\n",
              "      <td>False</td>\n",
              "    </tr>\n",
              "  </tbody>\n",
              "</table>\n",
              "</div>"
            ],
            "text/plain": [
              "      label                                               text  is_valid\n",
              "0  negative  Un-bleeping-believable! Meg Ryan doesn't even ...     False\n",
              "1  positive  This is a extremely well-made film. The acting...     False\n",
              "2  negative  Every once in a long while a movie will come a...     False\n",
              "3  positive  Name just says it all. I watched this movie wi...     False\n",
              "4  negative  This movie succeeds at being one of the most u...     False"
            ]
          },
          "metadata": {
            "tags": []
          },
          "execution_count": 9
        }
      ]
    },
    {
      "cell_type": "code",
      "metadata": {
        "id": "XHay62t4aTck",
        "colab_type": "code",
        "outputId": "43842dd4-7c68-473a-dabe-514225f2b55a",
        "colab": {
          "base_uri": "https://localhost:8080/",
          "height": 17
        }
      },
      "source": [
        "movie_reviews = (TextList.from_csv(path,'texts.csv',cols='text').split_from_df(col=2).label_from_df(cols=0))  #can help split data into test , validation etc - Here we are getting rid of col2 and saying col 0 is the label column"
      ],
      "execution_count": 10,
      "outputs": [
        {
          "output_type": "display_data",
          "data": {
            "text/html": [
              ""
            ],
            "text/plain": [
              "<IPython.core.display.HTML object>"
            ]
          },
          "metadata": {
            "tags": []
          }
        },
        {
          "output_type": "display_data",
          "data": {
            "text/html": [
              ""
            ],
            "text/plain": [
              "<IPython.core.display.HTML object>"
            ]
          },
          "metadata": {
            "tags": []
          }
        }
      ]
    },
    {
      "cell_type": "code",
      "metadata": {
        "id": "Px4MXmsebS3I",
        "colab_type": "code",
        "outputId": "166e2661-38d7-4d74-c9b3-50f77ab5010c",
        "colab": {
          "base_uri": "https://localhost:8080/",
          "height": 34
        }
      },
      "source": [
        "movie_reviews.valid.x[0],movie_reviews.valid.y[0]"
      ],
      "execution_count": 11,
      "outputs": [
        {
          "output_type": "execute_result",
          "data": {
            "text/plain": [
              "(Text [ 2  5 21 71 ... 15  5  0 52], Category 1)"
            ]
          },
          "metadata": {
            "tags": []
          },
          "execution_count": 11
        }
      ]
    },
    {
      "cell_type": "code",
      "metadata": {
        "id": "y4-vDKXcbxkF",
        "colab_type": "code",
        "outputId": "18c1e2a0-fc6c-4a1b-a7c0-d34c088a0723",
        "colab": {
          "base_uri": "https://localhost:8080/",
          "height": 34
        }
      },
      "source": [
        "len(movie_reviews.train.x),len(movie_reviews.valid.x)"
      ],
      "execution_count": 12,
      "outputs": [
        {
          "output_type": "execute_result",
          "data": {
            "text/plain": [
              "(800, 200)"
            ]
          },
          "metadata": {
            "tags": []
          },
          "execution_count": 12
        }
      ]
    },
    {
      "cell_type": "code",
      "metadata": {
        "id": "3zYRuilocmST",
        "colab_type": "code",
        "outputId": "a8777795-bb26-4215-8e1e-dbf490de065b",
        "colab": {
          "base_uri": "https://localhost:8080/",
          "height": 34
        }
      },
      "source": [
        "len(movie_reviews.vocab.itos),len(movie_reviews.vocab.stoi)  #itos - integer to string and stoi - string to integer; the reason the nos are different - many words would be mapped as unknown, many as capital etc"
      ],
      "execution_count": 13,
      "outputs": [
        {
          "output_type": "execute_result",
          "data": {
            "text/plain": [
              "(6008, 19159)"
            ]
          },
          "metadata": {
            "tags": []
          },
          "execution_count": 13
        }
      ]
    },
    {
      "cell_type": "code",
      "metadata": {
        "id": "ib4iS6MAc1kc",
        "colab_type": "code",
        "outputId": "e5f347ce-2897-49d0-acea-802abcf594e6",
        "colab": {
          "base_uri": "https://localhost:8080/",
          "height": 187
        }
      },
      "source": [
        "movie_reviews.vocab.itos[:10]  #based on frequency - what is itos - integer to strings - the movie reviews are stored as numbers(since the algo uses numbers and not strings) so if we want to see the actual words we need to use itos"
      ],
      "execution_count": 14,
      "outputs": [
        {
          "output_type": "execute_result",
          "data": {
            "text/plain": [
              "['xxunk',\n",
              " 'xxpad',\n",
              " 'xxbos',\n",
              " 'xxeos',\n",
              " 'xxfld',\n",
              " 'xxmaj',\n",
              " 'xxup',\n",
              " 'xxrep',\n",
              " 'xxwrep',\n",
              " 'the']"
            ]
          },
          "metadata": {
            "tags": []
          },
          "execution_count": 14
        }
      ]
    },
    {
      "cell_type": "code",
      "metadata": {
        "id": "Pp1asmwIdPkp",
        "colab_type": "code",
        "outputId": "db73d0bb-6959-4c31-d840-8bac8df51969",
        "colab": {
          "base_uri": "https://localhost:8080/",
          "height": 34
        }
      },
      "source": [
        "  c= Counter([4,2,8,8,8,4])  #creates a dictionary with values\n",
        "  c.values()\n"
      ],
      "execution_count": 15,
      "outputs": [
        {
          "output_type": "execute_result",
          "data": {
            "text/plain": [
              "dict_values([2, 1, 3])"
            ]
          },
          "metadata": {
            "tags": []
          },
          "execution_count": 15
        }
      ]
    },
    {
      "cell_type": "code",
      "metadata": {
        "id": "Xl_y_AKEANxP",
        "colab_type": "code",
        "outputId": "9ec28f32-b6a3-42fc-fb26-03cad4439058",
        "colab": {
          "base_uri": "https://localhost:8080/",
          "height": 34
        }
      },
      "source": [
        "c.keys()"
      ],
      "execution_count": 16,
      "outputs": [
        {
          "output_type": "execute_result",
          "data": {
            "text/plain": [
              "dict_keys([4, 2, 8])"
            ]
          },
          "metadata": {
            "tags": []
          },
          "execution_count": 16
        }
      ]
    },
    {
      "cell_type": "code",
      "metadata": {
        "id": "ESEgJxvKAPyP",
        "colab_type": "code",
        "outputId": "96e8bf09-263f-4107-a1ef-d2d4fcb564f9",
        "colab": {
          "base_uri": "https://localhost:8080/",
          "height": 34
        }
      },
      "source": [
        "c"
      ],
      "execution_count": 17,
      "outputs": [
        {
          "output_type": "execute_result",
          "data": {
            "text/plain": [
              "Counter({2: 1, 4: 2, 8: 3})"
            ]
          },
          "metadata": {
            "tags": []
          },
          "execution_count": 17
        }
      ]
    },
    {
      "cell_type": "markdown",
      "metadata": {
        "id": "4U0iKyNwAxLb",
        "colab_type": "text"
      },
      "source": [
        "A matrix with lots of zeroes is called . For sparse matrices a lot of memory can be saved"
      ]
    },
    {
      "cell_type": "code",
      "metadata": {
        "id": "CvwTFWrxIWYJ",
        "colab_type": "code",
        "colab": {}
      },
      "source": [
        "def get_doc_term_matrix(text_list, n_terms):\n",
        "    \n",
        "    # inputs:\n",
        "    #    text_list, a TextList object\n",
        "    #    n_terms, the number of tokens in our IMDb vocabulary\n",
        "    \n",
        "    # output: \n",
        "    #    the CSR format sparse representation of the document-term matrix in the form of a\n",
        "    #    scipy.sparse.csr.csr_matrix object\n",
        "\n",
        "    \n",
        "    # initialize arrays\n",
        "    values = []\n",
        "    column_indices = []\n",
        "    row_pointer = []\n",
        "    row_pointer.append(0)\n",
        "\n",
        "    # from the TextList object\n",
        "    for _, doc in enumerate(text_list):\n",
        "        feature_counter = Counter(doc.data)\n",
        "        column_indices.extend(feature_counter.keys())\n",
        "        values.extend(feature_counter.values())\n",
        "        # Tack on N (number of nonzero elements in the matrix) to the end of the row_pointer array\n",
        "        row_pointer.append(len(values))\n",
        "        \n",
        "    return scipy.sparse.csr_matrix((values, column_indices, row_pointer),\n",
        "                                   shape=(len(row_pointer) - 1, n_terms),\n",
        "                                   dtype=int)"
      ],
      "execution_count": 0,
      "outputs": []
    },
    {
      "cell_type": "code",
      "metadata": {
        "id": "CTCHgBCeHeNH",
        "colab_type": "code",
        "outputId": "96701f1b-9ab0-4c60-aa60-c96f96a50664",
        "colab": {
          "base_uri": "https://localhost:8080/",
          "height": 51
        }
      },
      "source": [
        "%%time\n",
        "train_doc_term = get_doc_term_matrix(movie_reviews.train.x, len(movie_reviews.vocab.itos))\n",
        "val_doc_term = get_doc_term_matrix(movie_reviews.valid.x,len(movie_reviews.vocab.itos))"
      ],
      "execution_count": 19,
      "outputs": [
        {
          "output_type": "stream",
          "text": [
            "CPU times: user 179 ms, sys: 4.77 ms, total: 184 ms\n",
            "Wall time: 184 ms\n"
          ],
          "name": "stdout"
        }
      ]
    },
    {
      "cell_type": "markdown",
      "metadata": {
        "id": "AQQlFPXAMCXG",
        "colab_type": "text"
      },
      "source": [
        "NAIVE BAYES"
      ]
    },
    {
      "cell_type": "code",
      "metadata": {
        "id": "UhOSAHt5MDeJ",
        "colab_type": "code",
        "outputId": "308819c3-c0d4-4be7-ac2e-8d420ffc329b",
        "colab": {
          "base_uri": "https://localhost:8080/",
          "height": 34
        }
      },
      "source": [
        "movie_reviews.y.classes"
      ],
      "execution_count": 20,
      "outputs": [
        {
          "output_type": "execute_result",
          "data": {
            "text/plain": [
              "['negative', 'positive']"
            ]
          },
          "metadata": {
            "tags": []
          },
          "execution_count": 20
        }
      ]
    },
    {
      "cell_type": "code",
      "metadata": {
        "id": "6uJTiLLYMFYw",
        "colab_type": "code",
        "colab": {}
      },
      "source": [
        "x = train_doc_term\n",
        "y = movie_reviews.train.y\n",
        "val_y = movie_reviews.valid.y\n",
        "v = movie_reviews.vocab"
      ],
      "execution_count": 0,
      "outputs": []
    },
    {
      "cell_type": "code",
      "metadata": {
        "id": "oFdClLsiMUQ4",
        "colab_type": "code",
        "colab": {}
      },
      "source": [
        "positive = y.c2i['positive']\n",
        "negative =y.c2i['negative']"
      ],
      "execution_count": 0,
      "outputs": []
    },
    {
      "cell_type": "code",
      "metadata": {
        "id": "FpRMsmEYHVib",
        "colab_type": "code",
        "outputId": "80b0767d-3c90-468d-b37f-147518d94810",
        "colab": {
          "base_uri": "https://localhost:8080/",
          "height": 34
        }
      },
      "source": [
        "x.shape"
      ],
      "execution_count": 23,
      "outputs": [
        {
          "output_type": "execute_result",
          "data": {
            "text/plain": [
              "(800, 6008)"
            ]
          },
          "metadata": {
            "tags": []
          },
          "execution_count": 23
        }
      ]
    },
    {
      "cell_type": "code",
      "metadata": {
        "id": "_Ue3l1s5Mk_X",
        "colab_type": "code",
        "colab": {}
      },
      "source": [
        "import numpy as np\n",
        "#to calculate the log count ratios\n",
        "\n",
        "p1 = np.squeeze(np.asarray(x[y.items==positive].sum(0)))   \n",
        "p0 = np.squeeze(np.asarray(x[y.items==negative].sum(0)))"
      ],
      "execution_count": 0,
      "outputs": []
    },
    {
      "cell_type": "code",
      "metadata": {
        "id": "z_tx2ClLDtMT",
        "colab_type": "code",
        "outputId": "7d677202-221a-403b-d2b6-453440dd35ec",
        "colab": {
          "base_uri": "https://localhost:8080/",
          "height": 34
        }
      },
      "source": [
        "p0[v.stoi['loved']],p1[v.stoi['loved']]  # no of times word loved appeared in negative and positive reviews"
      ],
      "execution_count": 25,
      "outputs": [
        {
          "output_type": "execute_result",
          "data": {
            "text/plain": [
              "(12, 29)"
            ]
          },
          "metadata": {
            "tags": []
          },
          "execution_count": 25
        }
      ]
    },
    {
      "cell_type": "code",
      "metadata": {
        "id": "j8qrfFOJKFtg",
        "colab_type": "code",
        "outputId": "095d5573-e700-499f-deb8-c2bdd7226e9a",
        "colab": {
          "base_uri": "https://localhost:8080/",
          "height": 34
        }
      },
      "source": [
        "p0[v.stoi['hate']],p1[v.stoi['hate']] "
      ],
      "execution_count": 26,
      "outputs": [
        {
          "output_type": "execute_result",
          "data": {
            "text/plain": [
              "(13, 5)"
            ]
          },
          "metadata": {
            "tags": []
          },
          "execution_count": 26
        }
      ]
    },
    {
      "cell_type": "code",
      "metadata": {
        "id": "Ya0WtakTKUhg",
        "colab_type": "code",
        "outputId": "c252d9c2-b92f-473b-c864-902911b910e0",
        "colab": {
          "base_uri": "https://localhost:8080/",
          "height": 34
        }
      },
      "source": [
        "v.stoi['hated']  # the integer value of word hate "
      ],
      "execution_count": 27,
      "outputs": [
        {
          "output_type": "execute_result",
          "data": {
            "text/plain": [
              "1977"
            ]
          },
          "metadata": {
            "tags": []
          },
          "execution_count": 27
        }
      ]
    },
    {
      "cell_type": "code",
      "metadata": {
        "id": "OlknJ9-gKx7P",
        "colab_type": "code",
        "outputId": "54147d26-a989-4c48-dae1-ac3ce2b8fa53",
        "colab": {
          "base_uri": "https://localhost:8080/",
          "height": 34
        }
      },
      "source": [
        "a = np.argwhere((x[:,1977]>0))[:,0];a    #rows or reviews from the dtm where the count of word hate > 1"
      ],
      "execution_count": 28,
      "outputs": [
        {
          "output_type": "execute_result",
          "data": {
            "text/plain": [
              "array([ 15,  49, 304, 351, 393, 612, 695, 773], dtype=int32)"
            ]
          },
          "metadata": {
            "tags": []
          },
          "execution_count": 28
        }
      ]
    },
    {
      "cell_type": "code",
      "metadata": {
        "id": "tMMIlnuMLOrG",
        "colab_type": "code",
        "outputId": "a4cd3776-1e90-44ee-ae5c-cab654e34d31",
        "colab": {
          "base_uri": "https://localhost:8080/",
          "height": 34
        }
      },
      "source": [
        "b = np.argwhere(y.items==positive)[:,0];b    #rows corresponding to positive reviews"
      ],
      "execution_count": 29,
      "outputs": [
        {
          "output_type": "execute_result",
          "data": {
            "text/plain": [
              "array([  1,   3,  10,  11, ..., 787, 789, 790, 797])"
            ]
          },
          "metadata": {
            "tags": []
          },
          "execution_count": 29
        }
      ]
    },
    {
      "cell_type": "code",
      "metadata": {
        "id": "-qGcqgBIL1T3",
        "colab_type": "code",
        "outputId": "3c7221e1-7792-4bed-b1f7-5f52cd98c70c",
        "colab": {
          "base_uri": "https://localhost:8080/",
          "height": 34
        }
      },
      "source": [
        "set(a).intersection(set(b))  # rows where the review is positive but it has the word hate"
      ],
      "execution_count": 30,
      "outputs": [
        {
          "output_type": "execute_result",
          "data": {
            "text/plain": [
              "{393, 612, 695}"
            ]
          },
          "metadata": {
            "tags": []
          },
          "execution_count": 30
        }
      ]
    },
    {
      "cell_type": "code",
      "metadata": {
        "id": "aFt1AR7lMAoj",
        "colab_type": "code",
        "outputId": "19f51623-fbd0-4e0b-c902-0d3867d062a3",
        "colab": {
          "base_uri": "https://localhost:8080/",
          "height": 156
        }
      },
      "source": [
        "review = movie_reviews.train.x[393];\n",
        "print(''.join(review.text))"
      ],
      "execution_count": 31,
      "outputs": [
        {
          "output_type": "stream",
          "text": [
            "xxbos xxmaj there are numerous films relating to xxup xxunk , but xxmaj mother xxmaj night is quite xxunk among them : xxmaj in this film , we are introduced to xxmaj howard xxmaj campbell ( xxmaj nolte ) , an xxmaj american living in xxmaj berlin and married to a xxmaj german , xxmaj xxunk xxmaj xxunk ( xxmaj lee ) , who decides to accept the role of a spy : xxmaj more specifically , a xxup cia agent xxmaj major xxmaj xxunk ( xxmaj goodman ) recruits xxmaj campbell who becomes a xxmaj nazi xxunk in order to enter the highest xxunk of the xxmaj hitler xxunk . xxmaj however , the deal is that the xxup us xxmaj government will never xxunk xxmaj campbell 's role in the war for national security reasons , and so xxmaj campbell becomes a hated figure across the xxup us . xxmaj after the war , he tries to xxunk his identity , but the past comes back and xxunk him . xxmaj his only \" friend \" is xxmaj xxunk , but even he can not do much for the xxunk of events that fall upon poor xxmaj campbell ... \n",
            " \n",
            "  xxmaj the story is deeply touching , as we watch the tragedy of xxmaj campbell who although a great patriot , is treated by xxunk by everybody who xxunk him . xxmaj not only that , but he also gradually realizes that even the persons who are most close to him , have many xxunk of their own . xxmaj vonnegut provides us with a moving atmosphere , with xxmaj campbell 's despair building up and almost choking the viewer . \n",
            " \n",
            "  xxmaj nolte plays the role of his life , in my opinion ; he is even better than in \" xxmaj xxunk \" , although in both roles he plays tragic figures who are destined to self - destruction . xxmaj xxunk xxmaj lee is also excellent , and the same can be said for the whole cast in general . \n",
            " \n",
            "  i have n't read the book , so i can not xxunk how the film compares to it . xxmaj in any case , this is something of no importance here : xxmaj my xxunk is upon the film per xxunk , and the film xxunk deserves a 9 / 10 .\n"
          ],
          "name": "stdout"
        }
      ]
    },
    {
      "cell_type": "markdown",
      "metadata": {
        "id": "vX2A5fqtOHTc",
        "colab_type": "text"
      },
      "source": [
        "Applying Naive Bayes"
      ]
    },
    {
      "cell_type": "code",
      "metadata": {
        "id": "Rq-cAasTOJmi",
        "colab_type": "code",
        "outputId": "47459fa6-d087-4b8b-ee9d-d9ca5ec3f084",
        "colab": {
          "base_uri": "https://localhost:8080/",
          "height": 34
        }
      },
      "source": [
        "pr1 = (p1+1)/((y.items==positive).sum()+1)  #adding 1 in num and deno for numerical stability\n",
        "pr0 = (p0+1)/((y.items==negative).sum()+1)\n",
        "\n",
        "r = np.log(pr1/pr0);r"
      ],
      "execution_count": 32,
      "outputs": [
        {
          "output_type": "execute_result",
          "data": {
            "text/plain": [
              "array([-0.015348,  0.084839,  0.      ,  0.084839, ...,  1.471133, -1.301455, -1.301455, -1.301455])"
            ]
          },
          "metadata": {
            "tags": []
          },
          "execution_count": 32
        }
      ]
    },
    {
      "cell_type": "code",
      "metadata": {
        "id": "-kguebtjOhd-",
        "colab_type": "code",
        "colab": {}
      },
      "source": [
        ""
      ],
      "execution_count": 0,
      "outputs": []
    },
    {
      "cell_type": "markdown",
      "metadata": {
        "id": "0EeyAXNcPh_B",
        "colab_type": "text"
      },
      "source": [
        "Vocab most likely associated with postive and negative reviews"
      ]
    },
    {
      "cell_type": "code",
      "metadata": {
        "id": "Bk-hI9kVPmfE",
        "colab_type": "code",
        "colab": {}
      },
      "source": [
        "biggest = np.argpartition(r,-10)[-10:]\n",
        "smallest = np.argpartition(r,10)[:10]"
      ],
      "execution_count": 0,
      "outputs": []
    },
    {
      "cell_type": "code",
      "metadata": {
        "id": "c4Mh7fsjSOyu",
        "colab_type": "code",
        "outputId": "d8205619-c8ba-4882-a7dc-76f203e0b415",
        "colab": {
          "base_uri": "https://localhost:8080/",
          "height": 187
        }
      },
      "source": [
        "#most positive\n",
        "[v.itos[k] for k in biggest]"
      ],
      "execution_count": 34,
      "outputs": [
        {
          "output_type": "execute_result",
          "data": {
            "text/plain": [
              "['han',\n",
              " 'jabba',\n",
              " 'gilliam',\n",
              " 'davies',\n",
              " 'noir',\n",
              " 'felix',\n",
              " 'jimmy',\n",
              " 'astaire',\n",
              " 'fanfan',\n",
              " 'biko']"
            ]
          },
          "metadata": {
            "tags": []
          },
          "execution_count": 34
        }
      ]
    },
    {
      "cell_type": "code",
      "metadata": {
        "id": "g9zOZMhuSUIL",
        "colab_type": "code",
        "outputId": "8bf66021-c9ca-46c6-ea89-4227244f27c9",
        "colab": {
          "base_uri": "https://localhost:8080/",
          "height": 34
        }
      },
      "source": [
        "np.argmax(train_doc_term[:,v.stoi['jimmy']])"
      ],
      "execution_count": 35,
      "outputs": [
        {
          "output_type": "execute_result",
          "data": {
            "text/plain": [
              "741"
            ]
          },
          "metadata": {
            "tags": []
          },
          "execution_count": 35
        }
      ]
    },
    {
      "cell_type": "code",
      "metadata": {
        "id": "qMzBaXLrSqtx",
        "colab_type": "code",
        "outputId": "bfdb019b-7e44-4e0f-a451-3382a202867e",
        "colab": {
          "base_uri": "https://localhost:8080/",
          "height": 54
        }
      },
      "source": [
        "movie_reviews.train.x[741].text  #jimmy appears multiple times in this positive review"
      ],
      "execution_count": 36,
      "outputs": [
        {
          "output_type": "execute_result",
          "data": {
            "text/plain": [
              "'xxbos * * * xxup spoilers * * * xxmaj all too , in real life as well as in the movies , familiar story that happens to many young men who are put in a war zone with a gun , or xxunk , in their hands . xxmaj the case of young and innocent , in never xxunk or firing a gun , xxmaj jimmy xxmaj davis , xxmaj xxunk xxmaj tone , has been repeated thousands of times over the xxunk when men , like xxmaj jimmy xxmaj davis , are forced to take up arms for their country . \\n \\n  xxmaj jimmy who at first wanted to be kicked out of the xxup us xxmaj army but was encouraged to stay , by being xxunk in the mouth , by his good friend xxmaj fred xxup xxunk xxmaj willis , xxmaj xxunk xxmaj tracy , ended up on the front lines in xxmaj france . xxmaj with xxmaj jimmy \\'s unit xxunk down by a xxmaj german machine gun nest he single xxunk put it out of xxunk picking off some half dozen xxmaj german soldiers from the xxunk of a nearby church xxunk . xxmaj it was when xxmaj jimmy xxunk down the last surviving xxmaj german , who raised his arms in surrender , that an xxunk shell hit the xxunk seriously xxunk him . \\n \\n  xxmaj xxunk from his wounds at an xxmaj army hospital xxmaj jimmy fell in love with xxup us xxmaj army xxunk nurse xxmaj rose xxmaj xxunk , xxmaj gladys xxmaj george . xxmaj rose was really in love with xxmaj jimmy \\'s good friend the happy go lucky xxmaj fred despite his obnoxious antics towards her . xxmaj it \\'s when xxmaj fred was lost during the fighting on the xxmaj western xxmaj front that xxmaj rose , thinking that he was killed , fell in love and later married xxmaj jimmy . xxmaj when xxmaj fred unexpectedly showed up in the xxmaj french town where xxmaj jimmy , now fully xxunk from his wounds , was xxunk at things got very xxunk for both him and xxmaj rose who had already accepted xxmaj jimmy \\'s xxunk of marriage to her ! \\n \\n  xxmaj with xxup xxunk over and xxmaj jimmy marrying xxmaj rose left xxmaj fred , who \\'s still in love with her , a bitter and xxunk young man . xxmaj it was almost by accident that xxmaj fred ran into xxmaj jimmy on the streets of xxmaj new xxmaj york xxmaj city and discovered to his shock and surprise that he completely changed from the meek and non - violent person that he knew before he was sent to war on the xxmaj european xxmaj western xxmaj front . xxmaj xxunk and sure of himself , and his ability to shoot a gun , xxmaj jimmy had become a top xxunk in xxmaj new xxmaj york xxmaj city \\'s xxunk ! xxmaj not only that but as xxmaj fred later found out his wife xxmaj rose had no idea what xxmaj jimmy was really involved in with xxmaj jimmy telling her that he works as a law abiding and xxunk insurance xxunk . \\n \\n  xxmaj jimmy \\'s life of crime came full circle when xxmaj rose , after she found out about his secret life , xxunk him out to the police to prevent him from xxunk a \" xxmaj valentine xxmaj day \" like massacre , with his gang members dressed as cops , of his xxunk xxunk . xxmaj while on trial xxmaj jimmy came to his senses and xxunk his guilt willing to face the music and then , after his three year sentence is up , get his life back together . \\n \\n  * * * xxup spoiler xxup alert * * * xxmaj hearing rumors from fellow xxunk that xxmaj rose and his best friend xxmaj fred were having an affair behind his back xxmaj jimmy broke out of prison ending up a xxunk from the law . xxmaj it \\'s at xxmaj fred \\'s circus , where he works as both xxunk and barker , that xxmaj jimmy in seeing that xxmaj rose as well as xxmaj fred were true to him that he , like at his trial , had a sudden change of heart . xxmaj but the thought of going back to prison , with at least another ten years added on to his sentence , was just too much for xxmaj jimmy ! xxmaj it was then that xxmaj jimmy decided to end it all by letting the police who by then xxunk him down do the job , that he himself did n\\'t have the heart to do , for him !'"
            ]
          },
          "metadata": {
            "tags": []
          },
          "execution_count": 36
        }
      ]
    },
    {
      "cell_type": "code",
      "metadata": {
        "id": "rxqjAl4dS4sz",
        "colab_type": "code",
        "colab": {}
      },
      "source": [
        "b = np.log((y.items==positive).mean()/(y.items==negative).mean())  #ratio of avg postive reviews to neg reviews"
      ],
      "execution_count": 0,
      "outputs": []
    },
    {
      "cell_type": "code",
      "metadata": {
        "id": "hrR-8Ao5T7mN",
        "colab_type": "code",
        "colab": {}
      },
      "source": [
        "preds = (val_doc_term @ r + b) > 0 "
      ],
      "execution_count": 0,
      "outputs": []
    },
    {
      "cell_type": "code",
      "metadata": {
        "id": "6K8IiOplUXim",
        "colab_type": "code",
        "outputId": "630b5e74-8019-4dbc-818d-cd08605b1faa",
        "colab": {
          "base_uri": "https://localhost:8080/",
          "height": 34
        }
      },
      "source": [
        "(preds == val_y.items).mean()"
      ],
      "execution_count": 39,
      "outputs": [
        {
          "output_type": "execute_result",
          "data": {
            "text/plain": [
              "0.645"
            ]
          },
          "metadata": {
            "tags": []
          },
          "execution_count": 39
        }
      ]
    },
    {
      "cell_type": "markdown",
      "metadata": {
        "id": "FIh2PQJmXJ-f",
        "colab_type": "text"
      },
      "source": [
        "Binarized Naive Bayes - maybe it only matters to know whether a word is in the review or not and not the frequency "
      ]
    },
    {
      "cell_type": "code",
      "metadata": {
        "id": "_1AbdKSZUgZb",
        "colab_type": "code",
        "colab": {}
      },
      "source": [
        "x = train_doc_term.sign()\n",
        "y= movie_reviews.train.y"
      ],
      "execution_count": 0,
      "outputs": []
    },
    {
      "cell_type": "code",
      "metadata": {
        "id": "axvX1_b9XU8W",
        "colab_type": "code",
        "colab": {}
      },
      "source": [
        "negative = y.c2i['negative']\n",
        "positive = y.c2i['positive']"
      ],
      "execution_count": 0,
      "outputs": []
    },
    {
      "cell_type": "code",
      "metadata": {
        "id": "_ZqG6-gQXmTF",
        "colab_type": "code",
        "colab": {}
      },
      "source": [
        "p1 = np.squeeze(np.asarray(x[y.items==positive].sum(0)))\n",
        "p0 = np.squeeze(np.asarray(x[y.items==negative].sum(0)))"
      ],
      "execution_count": 0,
      "outputs": []
    },
    {
      "cell_type": "code",
      "metadata": {
        "id": "GdAtr37TX_dl",
        "colab_type": "code",
        "colab": {}
      },
      "source": [
        "pr1 = (p1+1)/((y.items==positive).sum()+1)\n",
        "pr0 = (p0+1)/((y.items==negative).sum()+1)"
      ],
      "execution_count": 0,
      "outputs": []
    },
    {
      "cell_type": "code",
      "metadata": {
        "id": "_3R86yjRYSH5",
        "colab_type": "code",
        "colab": {}
      },
      "source": [
        "r = np.log(pr1/pr0)\n",
        "b = np.log((y.items==positive).mean()/(y.items==negative).mean())\n",
        "preds = (val_doc_term @ r +b) >0"
      ],
      "execution_count": 0,
      "outputs": []
    },
    {
      "cell_type": "code",
      "metadata": {
        "id": "YiEoSDKTYntr",
        "colab_type": "code",
        "outputId": "52d41e26-a6a5-40fb-8da4-1866ac6847ef",
        "colab": {
          "base_uri": "https://localhost:8080/",
          "height": 34
        }
      },
      "source": [
        "(preds == val_y.items).mean()"
      ],
      "execution_count": 45,
      "outputs": [
        {
          "output_type": "execute_result",
          "data": {
            "text/plain": [
              "0.66"
            ]
          },
          "metadata": {
            "tags": []
          },
          "execution_count": 45
        }
      ]
    },
    {
      "cell_type": "markdown",
      "metadata": {
        "id": "NkJh44XCY0tL",
        "colab_type": "text"
      },
      "source": [
        "Logistic Regression"
      ]
    },
    {
      "cell_type": "code",
      "metadata": {
        "id": "lxH7VuwsYu5A",
        "colab_type": "code",
        "colab": {}
      },
      "source": [
        "from sklearn.linear_model import LogisticRegression"
      ],
      "execution_count": 0,
      "outputs": []
    },
    {
      "cell_type": "code",
      "metadata": {
        "id": "4MZX8Mj-2ukD",
        "colab_type": "code",
        "colab": {
          "base_uri": "https://localhost:8080/",
          "height": 34
        },
        "outputId": "6ff026a0-3a52-4fcf-9c61-6881edfe926a"
      },
      "source": [
        "m= LogisticRegression(C=0.1,dual=False,solver='liblinear')\n",
        "m.fit(x,y.items.astype(int))\n",
        "preds=m.predict(val_doc_term)\n",
        "(preds==val_y.items).mean()"
      ],
      "execution_count": 47,
      "outputs": [
        {
          "output_type": "execute_result",
          "data": {
            "text/plain": [
              "0.685"
            ]
          },
          "metadata": {
            "tags": []
          },
          "execution_count": 47
        }
      ]
    },
    {
      "cell_type": "markdown",
      "metadata": {
        "id": "TDDJ81fl33re",
        "colab_type": "text"
      },
      "source": [
        "Binarized version"
      ]
    },
    {
      "cell_type": "code",
      "metadata": {
        "colab_type": "code",
        "outputId": "be83e7c2-245f-4999-8212-1c70fa26c849",
        "id": "3BuMT9Hq3iKR",
        "colab": {
          "base_uri": "https://localhost:8080/",
          "height": 34
        }
      },
      "source": [
        "m= LogisticRegression(C=0.1,dual=False,solver='liblinear')\n",
        "m.fit(train_doc_term.sign(),y.items.astype(int))\n",
        "preds=m.predict(val_doc_term.sign())\n",
        "(preds==val_y.items).mean()"
      ],
      "execution_count": 48,
      "outputs": [
        {
          "output_type": "execute_result",
          "data": {
            "text/plain": [
              "0.83"
            ]
          },
          "metadata": {
            "tags": []
          },
          "execution_count": 48
        }
      ]
    },
    {
      "cell_type": "markdown",
      "metadata": {
        "id": "6r1T-_WN5G4o",
        "colab_type": "text"
      },
      "source": [
        "With n-grams"
      ]
    },
    {
      "cell_type": "code",
      "metadata": {
        "id": "nhRlHZum3qcq",
        "colab_type": "code",
        "colab": {
          "base_uri": "https://localhost:8080/",
          "height": 34
        },
        "outputId": "1c3bb08b-d491-498d-e2f6-13a91180b408"
      },
      "source": [
        "vocab_sample = movie_reviews.vocab.itos\n",
        "vocab_len = len(vocab_sample)\n",
        "print(f'IMDb_sample vocabulary has {vocab_len} tokens')"
      ],
      "execution_count": 49,
      "outputs": [
        {
          "output_type": "stream",
          "text": [
            "IMDb_sample vocabulary has 6008 tokens\n"
          ],
          "name": "stdout"
        }
      ]
    },
    {
      "cell_type": "markdown",
      "metadata": {
        "id": "AYUnHDPy5PWx",
        "colab_type": "text"
      },
      "source": [
        "n gram token matrix"
      ]
    },
    {
      "cell_type": "code",
      "metadata": {
        "id": "P7-KE3cb5JOB",
        "colab_type": "code",
        "colab": {}
      },
      "source": [
        "min_n=1\n",
        "max_n=3\n",
        "\n",
        "j_indices = []\n",
        "indptr = []\n",
        "values = []\n",
        "indptr.append(0)\n",
        "num_tokens = vocab_len\n",
        "\n",
        "itongram = dict()\n",
        "ngramtoi = dict()"
      ],
      "execution_count": 0,
      "outputs": []
    },
    {
      "cell_type": "code",
      "metadata": {
        "id": "o4e78lGd5SLY",
        "colab_type": "code",
        "colab": {
          "base_uri": "https://localhost:8080/",
          "height": 51
        },
        "outputId": "4a03dd02-11e3-476f-bc64-4c8f7b97b3e9"
      },
      "source": [
        "%%time\n",
        "for i, doc in enumerate(movie_reviews.train.x):\n",
        "    feature_counter = Counter(doc.data)\n",
        "    j_indices.extend(feature_counter.keys())\n",
        "    values.extend(feature_counter.values())\n",
        "    this_doc_ngrams = list()\n",
        "\n",
        "    m = 0\n",
        "    for n in range(min_n, max_n + 1):\n",
        "        for k in range(vocab_len - n + 1):\n",
        "            ngram = doc.data[k: k + n]\n",
        "            if str(ngram) not in ngramtoi:\n",
        "                if len(ngram)==1:\n",
        "                    num = ngram[0]\n",
        "                    ngramtoi[str(ngram)] = num\n",
        "                    itongram[num] = ngram\n",
        "                else:\n",
        "                    ngramtoi[str(ngram)] = num_tokens\n",
        "                    itongram[num_tokens] = ngram\n",
        "                    num_tokens += 1\n",
        "            this_doc_ngrams.append(ngramtoi[str(ngram)])\n",
        "            m += 1\n",
        "\n",
        "    ngram_counter = Counter(this_doc_ngrams)\n",
        "    j_indices.extend(ngram_counter.keys())\n",
        "    values.extend(ngram_counter.values())\n",
        "    indptr.append(len(j_indices))"
      ],
      "execution_count": 51,
      "outputs": [
        {
          "output_type": "stream",
          "text": [
            "CPU times: user 2min 50s, sys: 424 ms, total: 2min 51s\n",
            "Wall time: 2min 51s\n"
          ],
          "name": "stdout"
        }
      ]
    },
    {
      "cell_type": "code",
      "metadata": {
        "id": "F0xJiu1e5WzK",
        "colab_type": "code",
        "colab": {
          "base_uri": "https://localhost:8080/",
          "height": 51
        },
        "outputId": "0d1e0576-527c-4668-ab3e-cab03c65ff9b"
      },
      "source": [
        "%%time\n",
        "train_ngram_doc_matrix = scipy.sparse.csr_matrix((values, j_indices, indptr),\n",
        "                                   shape=(len(indptr) - 1, len(ngramtoi)),\n",
        "                                   dtype=int)"
      ],
      "execution_count": 52,
      "outputs": [
        {
          "output_type": "stream",
          "text": [
            "CPU times: user 205 ms, sys: 0 ns, total: 205 ms\n",
            "Wall time: 205 ms\n"
          ],
          "name": "stdout"
        }
      ]
    },
    {
      "cell_type": "code",
      "metadata": {
        "id": "DK9RHalD6DVf",
        "colab_type": "code",
        "colab": {}
      },
      "source": [
        ""
      ],
      "execution_count": 0,
      "outputs": []
    },
    {
      "cell_type": "markdown",
      "metadata": {
        "id": "y3gnS5TW6LZw",
        "colab_type": "text"
      },
      "source": [
        "n gram doc matrix for validation data"
      ]
    },
    {
      "cell_type": "code",
      "metadata": {
        "id": "270vlWM66OBV",
        "colab_type": "code",
        "colab": {
          "base_uri": "https://localhost:8080/",
          "height": 51
        },
        "outputId": "76ae8150-7e3d-47d4-8084-1b1be9c59179"
      },
      "source": [
        "%%time\n",
        "j_indices = []\n",
        "indptr = []\n",
        "values = []\n",
        "indptr.append(0)\n",
        "\n",
        "for i, doc in enumerate(movie_reviews.valid.x):\n",
        "    feature_counter = Counter(doc.data)\n",
        "    j_indices.extend(feature_counter.keys())\n",
        "    values.extend(feature_counter.values())\n",
        "    this_doc_ngrams = list()\n",
        "\n",
        "    m = 0\n",
        "    for n in range(min_n, max_n + 1):\n",
        "        for k in range(vocab_len - n + 1):\n",
        "            ngram = doc.data[k: k + n]\n",
        "            if str(ngram) in ngramtoi:\n",
        "                this_doc_ngrams.append(ngramtoi[str(ngram)])\n",
        "            m += 1\n",
        "\n",
        "    ngram_counter = Counter(this_doc_ngrams)\n",
        "    j_indices.extend(ngram_counter.keys())\n",
        "    values.extend(ngram_counter.values())\n",
        "    indptr.append(len(j_indices))"
      ],
      "execution_count": 53,
      "outputs": [
        {
          "output_type": "stream",
          "text": [
            "CPU times: user 39.6 s, sys: 33 ms, total: 39.7 s\n",
            "Wall time: 39.7 s\n"
          ],
          "name": "stdout"
        }
      ]
    },
    {
      "cell_type": "code",
      "metadata": {
        "id": "9tpHdEuR6OpB",
        "colab_type": "code",
        "colab": {
          "base_uri": "https://localhost:8080/",
          "height": 51
        },
        "outputId": "2c12fe52-3865-4eee-e1b5-0aa4e2b7252f"
      },
      "source": [
        "%%time\n",
        "valid_ngram_doc_matrix = scipy.sparse.csr_matrix((values, j_indices, indptr),\n",
        "                                   shape=(len(indptr) - 1, len(ngramtoi)),\n",
        "                                   dtype=int)"
      ],
      "execution_count": 54,
      "outputs": [
        {
          "output_type": "stream",
          "text": [
            "CPU times: user 39.2 ms, sys: 2 µs, total: 39.2 ms\n",
            "Wall time: 39.7 ms\n"
          ],
          "name": "stdout"
        }
      ]
    },
    {
      "cell_type": "code",
      "metadata": {
        "id": "GsEIsYQr7vru",
        "colab_type": "code",
        "colab": {}
      },
      "source": [
        "# will save these files as they are slow to be constructed every time\n",
        "\n",
        "scipy.sparse.save_npz(\"train_ngram_matrix.npz\", train_ngram_doc_matrix)\n",
        "scipy.sparse.save_npz(\"valid_ngram_matrix.npz\", valid_ngram_doc_matrix)\n",
        "\n",
        "with open('itongram.pickle', 'wb') as handle:\n",
        "    pickle.dump(itongram, handle, protocol=pickle.HIGHEST_PROTOCOL)\n",
        "    \n",
        "with open('ngramtoi.pickle', 'wb') as handle:\n",
        "    pickle.dump(ngramtoi, handle, protocol=pickle.HIGHEST_PROTOCOL)"
      ],
      "execution_count": 0,
      "outputs": []
    },
    {
      "cell_type": "code",
      "metadata": {
        "id": "eKSMxZsQ76HY",
        "colab_type": "code",
        "colab": {}
      },
      "source": [
        "# lets load these n grams now\n",
        "\n",
        "train_ngram_doc_matrix = scipy.sparse.load_npz(\"train_ngram_matrix.npz\")\n",
        "valid_ngram_doc_matrix = scipy.sparse.load_npz(\"valid_ngram_matrix.npz\")\n",
        "\n",
        "\n",
        "with open('itongram.pickle', 'rb') as handle:\n",
        "    b = pickle.load(handle)\n",
        "    \n",
        "with open('ngramtoi.pickle', 'rb') as handle:\n",
        "    b = pickle.load(handle)"
      ],
      "execution_count": 0,
      "outputs": []
    },
    {
      "cell_type": "markdown",
      "metadata": {
        "id": "ycdur4SdQzqD",
        "colab_type": "text"
      },
      "source": [
        "Naive Bayes using N grams"
      ]
    },
    {
      "cell_type": "code",
      "metadata": {
        "id": "Utj2_h9I8OG2",
        "colab_type": "code",
        "colab": {}
      },
      "source": [
        "x = train_ngram_doc_matrix  #dtm \n",
        "y = movie_reviews.train.y  # train subset of responses"
      ],
      "execution_count": 0,
      "outputs": []
    },
    {
      "cell_type": "code",
      "metadata": {
        "id": "j0CxEx3QRCTr",
        "colab_type": "code",
        "colab": {
          "base_uri": "https://localhost:8080/",
          "height": 34
        },
        "outputId": "4a64ff8d-8105-41c3-a533-54a6f5be5e3b"
      },
      "source": [
        "positive = y.c2i['positive']\n",
        "negative = y.c2i['negative']\n",
        "negative"
      ],
      "execution_count": 58,
      "outputs": [
        {
          "output_type": "execute_result",
          "data": {
            "text/plain": [
              "0"
            ]
          },
          "metadata": {
            "tags": []
          },
          "execution_count": 58
        }
      ]
    },
    {
      "cell_type": "code",
      "metadata": {
        "id": "9FSjJ742RMSU",
        "colab_type": "code",
        "colab": {}
      },
      "source": [
        "x\n",
        "k=260382"
      ],
      "execution_count": 0,
      "outputs": []
    },
    {
      "cell_type": "code",
      "metadata": {
        "id": "8e9IxnypRN4k",
        "colab_type": "code",
        "colab": {
          "base_uri": "https://localhost:8080/",
          "height": 34
        },
        "outputId": "4b7dc99e-8106-463b-b93a-5ae05338d272"
      },
      "source": [
        "pos = (y.items==positive)[:k]  #positive subset - which all reviews are positive or negatively tagged in the train datset\n",
        "neg = (y.items == negative)[:k]  #negative subset\n",
        "neg"
      ],
      "execution_count": 60,
      "outputs": [
        {
          "output_type": "execute_result",
          "data": {
            "text/plain": [
              "array([ True, False,  True, False, ...,  True, False,  True,  True])"
            ]
          },
          "metadata": {
            "tags": []
          },
          "execution_count": 60
        }
      ]
    },
    {
      "cell_type": "code",
      "metadata": {
        "id": "y3gsKht5SDv1",
        "colab_type": "code",
        "colab": {}
      },
      "source": [
        "xx = x[:k]"
      ],
      "execution_count": 0,
      "outputs": []
    },
    {
      "cell_type": "code",
      "metadata": {
        "id": "oGo1PnklSKLN",
        "colab_type": "code",
        "colab": {}
      },
      "source": [
        "valid_labels = [o == positive for o in movie_reviews.valid.y.items]\n",
        "#valid_labels"
      ],
      "execution_count": 0,
      "outputs": []
    },
    {
      "cell_type": "code",
      "metadata": {
        "id": "sYrFZqI9SUtf",
        "colab_type": "code",
        "colab": {}
      },
      "source": [
        "p0 = np.squeeze(np.asarray(xx[neg].sum(0)))   #based on the dtm - will get the reviews which are positively or negativey tagged based on the index position from the responses\n",
        "p1 = np.squeeze(np.asarray(xx[pos].sum(0)))\n",
        "pr1 = (p1+1)/((y.items==positive).sum()+1)\n",
        "pr0 = (p0+1)/((y.items==negative).sum()+1)\n",
        "r = np.log(pr1/pr0)"
      ],
      "execution_count": 0,
      "outputs": []
    },
    {
      "cell_type": "code",
      "metadata": {
        "id": "M_-x09LGTOWd",
        "colab_type": "code",
        "colab": {}
      },
      "source": [
        "b = np.log((y.items==positive).mean()/(y.items==negative).mean())   #based on the responses (actual data)"
      ],
      "execution_count": 0,
      "outputs": []
    },
    {
      "cell_type": "code",
      "metadata": {
        "id": "2UPZ9SVGUFO3",
        "colab_type": "code",
        "colab": {}
      },
      "source": [
        "pre_preds = (valid_ngram_doc_matrix @ r.T + b) "
      ],
      "execution_count": 0,
      "outputs": []
    },
    {
      "cell_type": "code",
      "metadata": {
        "id": "aOSAj-SAUPQV",
        "colab_type": "code",
        "colab": {
          "base_uri": "https://localhost:8080/",
          "height": 34
        },
        "outputId": "3726d5ac-4f9a-47e9-e36c-1e31006a52ff"
      },
      "source": [
        "preds = pre_preds.T>0\n",
        "preds"
      ],
      "execution_count": 66,
      "outputs": [
        {
          "output_type": "execute_result",
          "data": {
            "text/plain": [
              "array([ True,  True,  True,  True, ...,  True, False, False,  True])"
            ]
          },
          "metadata": {
            "tags": []
          },
          "execution_count": 66
        }
      ]
    },
    {
      "cell_type": "code",
      "metadata": {
        "id": "3xUe8mouUZPI",
        "colab_type": "code",
        "colab": {
          "base_uri": "https://localhost:8080/",
          "height": 34
        },
        "outputId": "fc03c9b8-26ff-4a6b-8171-6eace808f650"
      },
      "source": [
        "(preds==valid_labels).mean()"
      ],
      "execution_count": 67,
      "outputs": [
        {
          "output_type": "execute_result",
          "data": {
            "text/plain": [
              "0.76"
            ]
          },
          "metadata": {
            "tags": []
          },
          "execution_count": 67
        }
      ]
    },
    {
      "cell_type": "markdown",
      "metadata": {
        "id": "HUsmEQKuVcTK",
        "colab_type": "text"
      },
      "source": [
        "Logistic Regression with n grams"
      ]
    },
    {
      "cell_type": "code",
      "metadata": {
        "id": "tP7qCx7dUdx5",
        "colab_type": "code",
        "colab": {}
      },
      "source": [
        "from sklearn.linear_model import LogisticRegression\n",
        "from sklearn.feature_extraction.text import CountVectorizer\n"
      ],
      "execution_count": 0,
      "outputs": []
    },
    {
      "cell_type": "code",
      "metadata": {
        "id": "0knkiNCSVgOe",
        "colab_type": "code",
        "colab": {}
      },
      "source": [
        "veczr = CountVectorizer(ngram_range=(1,3), preprocessor=noop, tokenizer=noop, max_features=800000)"
      ],
      "execution_count": 0,
      "outputs": []
    },
    {
      "cell_type": "code",
      "metadata": {
        "id": "BXIfResAVlnM",
        "colab_type": "code",
        "colab": {}
      },
      "source": [
        "train_docs = movie_reviews.train.x\n",
        "train_words = [[movie_reviews.vocab.itos[o] for o in doc.data] for doc in train_docs]"
      ],
      "execution_count": 0,
      "outputs": []
    },
    {
      "cell_type": "code",
      "metadata": {
        "id": "FWZByxkaVuui",
        "colab_type": "code",
        "colab": {}
      },
      "source": [
        "valid_docs = movie_reviews.valid.x\n",
        "valid_words = [[movie_reviews.vocab.itos[o] for o in doc.data] for doc in valid_docs]"
      ],
      "execution_count": 0,
      "outputs": []
    },
    {
      "cell_type": "code",
      "metadata": {
        "id": "L-T8vv7hVxav",
        "colab_type": "code",
        "colab": {
          "base_uri": "https://localhost:8080/",
          "height": 51
        },
        "outputId": "00ef01a4-e24b-4682-a35b-2cb582202097"
      },
      "source": [
        "%%time\n",
        "train_ngram_doc_matrix_veczr = veczr.fit_transform(train_words)\n",
        "train_ngram_doc_matrix_veczr"
      ],
      "execution_count": 72,
      "outputs": [
        {
          "output_type": "stream",
          "text": [
            "CPU times: user 1.53 s, sys: 9 ms, total: 1.54 s\n",
            "Wall time: 1.54 s\n"
          ],
          "name": "stdout"
        }
      ]
    },
    {
      "cell_type": "code",
      "metadata": {
        "id": "3gYcOPHAVzoX",
        "colab_type": "code",
        "colab": {
          "base_uri": "https://localhost:8080/",
          "height": 51
        },
        "outputId": "5e547875-2cbe-4461-e10e-5db6eef5322e"
      },
      "source": [
        "valid_ngram_doc_matrix_veczr = veczr.transform(valid_words)\n",
        "valid_ngram_doc_matrix_veczr"
      ],
      "execution_count": 73,
      "outputs": [
        {
          "output_type": "execute_result",
          "data": {
            "text/plain": [
              "<200x260381 sparse matrix of type '<class 'numpy.int64'>'\n",
              "\twith 93552 stored elements in Compressed Sparse Row format>"
            ]
          },
          "metadata": {
            "tags": []
          },
          "execution_count": 73
        }
      ]
    },
    {
      "cell_type": "code",
      "metadata": {
        "id": "doezKC1QV2Di",
        "colab_type": "code",
        "colab": {}
      },
      "source": [
        "vocab = veczr.get_feature_names()"
      ],
      "execution_count": 0,
      "outputs": []
    },
    {
      "cell_type": "code",
      "metadata": {
        "id": "9JFu5iJiV5_D",
        "colab_type": "code",
        "colab": {
          "base_uri": "https://localhost:8080/",
          "height": 34
        },
        "outputId": "fe37daf2-1598-45ff-f84f-dd7f5de3095b"
      },
      "source": [
        "m = LogisticRegression(C=0.1, dual=False, solver = 'liblinear')\n",
        "m.fit(train_ngram_doc_matrix_veczr, y.items);\n",
        "\n",
        "preds = m.predict(valid_ngram_doc_matrix_veczr)\n",
        "accuracy =(preds==valid_labels).mean()\n",
        "print(f'Accuracy  = {accuracy} for Logistic Regression, with full trigram counts from `CountVectorizer`' )"
      ],
      "execution_count": 75,
      "outputs": [
        {
          "output_type": "stream",
          "text": [
            "Accuracy  = 0.78 for Logistic Regression, with full trigram counts from `CountVectorizer`\n"
          ],
          "name": "stdout"
        }
      ]
    },
    {
      "cell_type": "code",
      "metadata": {
        "id": "gmusq5uxWISZ",
        "colab_type": "code",
        "colab": {
          "base_uri": "https://localhost:8080/",
          "height": 34
        },
        "outputId": "feacb5a1-f651-4eab-e014-b44a369b8245"
      },
      "source": [
        "# Using our dtm\n",
        "\n",
        "m2 = LogisticRegression(C=0.1, dual=False,solver='liblinear')\n",
        "m2.fit(train_ngram_doc_matrix, y.items)\n",
        "preds = m2.predict(valid_ngram_doc_matrix)\n",
        "accuracy = (preds==valid_labels).mean()\n",
        "print(f'Accuracy  = {accuracy} for Not-Binarized Logistic Regression, with our Trigrams' )"
      ],
      "execution_count": 76,
      "outputs": [
        {
          "output_type": "stream",
          "text": [
            "Accuracy  = 0.795 for Not-Binarized Logistic Regression, with our Trigrams\n"
          ],
          "name": "stdout"
        }
      ]
    },
    {
      "cell_type": "code",
      "metadata": {
        "id": "d7MfgBE7WUUy",
        "colab_type": "code",
        "colab": {}
      },
      "source": [
        ""
      ],
      "execution_count": 0,
      "outputs": []
    }
  ]
}