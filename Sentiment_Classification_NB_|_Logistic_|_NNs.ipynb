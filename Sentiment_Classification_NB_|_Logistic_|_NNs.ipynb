{
  "nbformat": 4,
  "nbformat_minor": 0,
  "metadata": {
    "colab": {
      "name": "Sentiment Classification- NB | Logistic | NNs.ipynb",
      "provenance": [],
      "collapsed_sections": [],
      "authorship_tag": "ABX9TyPHt00LIgy2vj+DprmjAeMD",
      "include_colab_link": true
    },
    "kernelspec": {
      "name": "python3",
      "display_name": "Python 3"
    }
  },
  "cells": [
    {
      "cell_type": "markdown",
      "metadata": {
        "id": "view-in-github",
        "colab_type": "text"
      },
      "source": [
        "<a href=\"https://colab.research.google.com/github/Vish4github/Projects/blob/master/Sentiment_Classification_NB_%7C_Logistic_%7C_NNs.ipynb\" target=\"_parent\"><img src=\"https://colab.research.google.com/assets/colab-badge.svg\" alt=\"Open In Colab\"/></a>"
      ]
    },
    {
      "cell_type": "code",
      "metadata": {
        "id": "F1Vip5bYYLQX",
        "colab_type": "code",
        "colab": {}
      },
      "source": [
        "#%pip install fastai --upgrade"
      ],
      "execution_count": 0,
      "outputs": []
    },
    {
      "cell_type": "code",
      "metadata": {
        "id": "jjOFuW7ZYT0g",
        "colab_type": "code",
        "colab": {}
      },
      "source": [
        "%reload_ext autoreload\n",
        "%autoreload 2\n",
        "%matplotlib inline"
      ],
      "execution_count": 0,
      "outputs": []
    },
    {
      "cell_type": "code",
      "metadata": {
        "id": "w1perEQYYp6j",
        "colab_type": "code",
        "colab": {}
      },
      "source": [
        "from fastai import*\n",
        "from fastai.text import*\n",
        "from fastai.vision import *"
      ],
      "execution_count": 0,
      "outputs": []
    },
    {
      "cell_type": "code",
      "metadata": {
        "id": "MX-VBvq-Ystc",
        "colab_type": "code",
        "colab": {}
      },
      "source": [
        "import sklearn.feature_extraction.text as sklearn_text"
      ],
      "execution_count": 0,
      "outputs": []
    },
    {
      "cell_type": "code",
      "metadata": {
        "id": "bzgrXLI_aVw6",
        "colab_type": "code",
        "colab": {}
      },
      "source": [
        "#?? URLs"
      ],
      "execution_count": 0,
      "outputs": []
    },
    {
      "cell_type": "code",
      "metadata": {
        "id": "_PNVNqVYYvIL",
        "colab_type": "code",
        "colab": {
          "base_uri": "https://localhost:8080/",
          "height": 51
        },
        "outputId": "ae9ce059-1f86-4d9d-9887-018230d04ced"
      },
      "source": [
        "path = untar_data(URLs.IMDB_SAMPLE)\n",
        "path"
      ],
      "execution_count": 6,
      "outputs": [
        {
          "output_type": "stream",
          "text": [
            "Downloading http://files.fast.ai/data/examples/imdb_sample.tgz\n"
          ],
          "name": "stdout"
        },
        {
          "output_type": "display_data",
          "data": {
            "text/html": [
              ""
            ],
            "text/plain": [
              "<IPython.core.display.HTML object>"
            ]
          },
          "metadata": {
            "tags": []
          }
        },
        {
          "output_type": "execute_result",
          "data": {
            "text/plain": [
              "PosixPath('/root/.fastai/data/imdb_sample')"
            ]
          },
          "metadata": {
            "tags": []
          },
          "execution_count": 6
        }
      ]
    },
    {
      "cell_type": "code",
      "metadata": {
        "id": "z0uvdVQMZNmv",
        "colab_type": "code",
        "colab": {}
      },
      "source": [
        "df=pd.read_csv(path/'texts.csv')"
      ],
      "execution_count": 0,
      "outputs": []
    },
    {
      "cell_type": "code",
      "metadata": {
        "id": "cBqOhEnKaR_s",
        "colab_type": "code",
        "colab": {
          "base_uri": "https://localhost:8080/",
          "height": 204
        },
        "outputId": "21bda02c-1595-4df9-d343-597aae621fac"
      },
      "source": [
        "df.head()"
      ],
      "execution_count": 8,
      "outputs": [
        {
          "output_type": "execute_result",
          "data": {
            "text/html": [
              "<div>\n",
              "<style scoped>\n",
              "    .dataframe tbody tr th:only-of-type {\n",
              "        vertical-align: middle;\n",
              "    }\n",
              "\n",
              "    .dataframe tbody tr th {\n",
              "        vertical-align: top;\n",
              "    }\n",
              "\n",
              "    .dataframe thead th {\n",
              "        text-align: right;\n",
              "    }\n",
              "</style>\n",
              "<table border=\"1\" class=\"dataframe\">\n",
              "  <thead>\n",
              "    <tr style=\"text-align: right;\">\n",
              "      <th></th>\n",
              "      <th>label</th>\n",
              "      <th>text</th>\n",
              "      <th>is_valid</th>\n",
              "    </tr>\n",
              "  </thead>\n",
              "  <tbody>\n",
              "    <tr>\n",
              "      <th>0</th>\n",
              "      <td>negative</td>\n",
              "      <td>Un-bleeping-believable! Meg Ryan doesn't even ...</td>\n",
              "      <td>False</td>\n",
              "    </tr>\n",
              "    <tr>\n",
              "      <th>1</th>\n",
              "      <td>positive</td>\n",
              "      <td>This is a extremely well-made film. The acting...</td>\n",
              "      <td>False</td>\n",
              "    </tr>\n",
              "    <tr>\n",
              "      <th>2</th>\n",
              "      <td>negative</td>\n",
              "      <td>Every once in a long while a movie will come a...</td>\n",
              "      <td>False</td>\n",
              "    </tr>\n",
              "    <tr>\n",
              "      <th>3</th>\n",
              "      <td>positive</td>\n",
              "      <td>Name just says it all. I watched this movie wi...</td>\n",
              "      <td>False</td>\n",
              "    </tr>\n",
              "    <tr>\n",
              "      <th>4</th>\n",
              "      <td>negative</td>\n",
              "      <td>This movie succeeds at being one of the most u...</td>\n",
              "      <td>False</td>\n",
              "    </tr>\n",
              "  </tbody>\n",
              "</table>\n",
              "</div>"
            ],
            "text/plain": [
              "      label                                               text  is_valid\n",
              "0  negative  Un-bleeping-believable! Meg Ryan doesn't even ...     False\n",
              "1  positive  This is a extremely well-made film. The acting...     False\n",
              "2  negative  Every once in a long while a movie will come a...     False\n",
              "3  positive  Name just says it all. I watched this movie wi...     False\n",
              "4  negative  This movie succeeds at being one of the most u...     False"
            ]
          },
          "metadata": {
            "tags": []
          },
          "execution_count": 8
        }
      ]
    },
    {
      "cell_type": "code",
      "metadata": {
        "id": "XHay62t4aTck",
        "colab_type": "code",
        "colab": {
          "base_uri": "https://localhost:8080/",
          "height": 17
        },
        "outputId": "918b1b74-5344-469b-9562-ca6f5f982dd3"
      },
      "source": [
        "movie_reviews = (TextList.from_csv(path,'texts.csv',cols='text').split_from_df(col=2).label_from_df(cols=0))  #can help split data into test , validation etc - Here we are getting rid of col2 and saying col 0 is the label column"
      ],
      "execution_count": 9,
      "outputs": [
        {
          "output_type": "display_data",
          "data": {
            "text/html": [
              ""
            ],
            "text/plain": [
              "<IPython.core.display.HTML object>"
            ]
          },
          "metadata": {
            "tags": []
          }
        },
        {
          "output_type": "display_data",
          "data": {
            "text/html": [
              ""
            ],
            "text/plain": [
              "<IPython.core.display.HTML object>"
            ]
          },
          "metadata": {
            "tags": []
          }
        }
      ]
    },
    {
      "cell_type": "code",
      "metadata": {
        "id": "Px4MXmsebS3I",
        "colab_type": "code",
        "colab": {
          "base_uri": "https://localhost:8080/",
          "height": 34
        },
        "outputId": "b8f3b425-8daf-48bd-c693-f404f8049830"
      },
      "source": [
        "movie_reviews.valid.x[0],movie_reviews.valid.y[0]"
      ],
      "execution_count": 10,
      "outputs": [
        {
          "output_type": "execute_result",
          "data": {
            "text/plain": [
              "(Text [ 2  5 21 71 ... 15  5  0 52], Category 1)"
            ]
          },
          "metadata": {
            "tags": []
          },
          "execution_count": 10
        }
      ]
    },
    {
      "cell_type": "code",
      "metadata": {
        "id": "y4-vDKXcbxkF",
        "colab_type": "code",
        "colab": {
          "base_uri": "https://localhost:8080/",
          "height": 34
        },
        "outputId": "b97cf184-606c-44a7-e1f8-81488b3efa5d"
      },
      "source": [
        "len(movie_reviews.train.x),len(movie_reviews.valid.x)"
      ],
      "execution_count": 11,
      "outputs": [
        {
          "output_type": "execute_result",
          "data": {
            "text/plain": [
              "(800, 200)"
            ]
          },
          "metadata": {
            "tags": []
          },
          "execution_count": 11
        }
      ]
    },
    {
      "cell_type": "code",
      "metadata": {
        "id": "3zYRuilocmST",
        "colab_type": "code",
        "colab": {
          "base_uri": "https://localhost:8080/",
          "height": 34
        },
        "outputId": "776bc055-ec43-4ac5-f81c-f1cec8627433"
      },
      "source": [
        "len(movie_reviews.vocab.itos),len(movie_reviews.vocab.stoi)  #itos - integer to string and stoi - string to integer; the reason the nos are different - many words would be mapped as unknown, many as capital etc"
      ],
      "execution_count": 12,
      "outputs": [
        {
          "output_type": "execute_result",
          "data": {
            "text/plain": [
              "(6008, 19159)"
            ]
          },
          "metadata": {
            "tags": []
          },
          "execution_count": 12
        }
      ]
    },
    {
      "cell_type": "code",
      "metadata": {
        "id": "ib4iS6MAc1kc",
        "colab_type": "code",
        "colab": {
          "base_uri": "https://localhost:8080/",
          "height": 187
        },
        "outputId": "f79c7c7b-6658-4145-bdd9-22bc5ee32b2c"
      },
      "source": [
        "movie_reviews.vocab.itos[:10]  #based on frequency - what is itos - integer to strings - the movie reviews are stored as numbers(since the algo uses numbers and not strings) so if we want to see the actual words we need to use itos"
      ],
      "execution_count": 13,
      "outputs": [
        {
          "output_type": "execute_result",
          "data": {
            "text/plain": [
              "['xxunk',\n",
              " 'xxpad',\n",
              " 'xxbos',\n",
              " 'xxeos',\n",
              " 'xxfld',\n",
              " 'xxmaj',\n",
              " 'xxup',\n",
              " 'xxrep',\n",
              " 'xxwrep',\n",
              " 'the']"
            ]
          },
          "metadata": {
            "tags": []
          },
          "execution_count": 13
        }
      ]
    },
    {
      "cell_type": "code",
      "metadata": {
        "id": "Pp1asmwIdPkp",
        "colab_type": "code",
        "colab": {
          "base_uri": "https://localhost:8080/",
          "height": 34
        },
        "outputId": "93c40995-4f6d-40ef-facd-18a1f7e54ec2"
      },
      "source": [
        "  c= Counter([4,2,8,8,8,4])  #creates a dictionary with values\n",
        "  c.values()\n"
      ],
      "execution_count": 14,
      "outputs": [
        {
          "output_type": "execute_result",
          "data": {
            "text/plain": [
              "dict_values([2, 1, 3])"
            ]
          },
          "metadata": {
            "tags": []
          },
          "execution_count": 14
        }
      ]
    },
    {
      "cell_type": "code",
      "metadata": {
        "id": "Xl_y_AKEANxP",
        "colab_type": "code",
        "colab": {
          "base_uri": "https://localhost:8080/",
          "height": 34
        },
        "outputId": "07d05576-81a1-4884-a31b-727a6f6c76ee"
      },
      "source": [
        "c.keys()"
      ],
      "execution_count": 15,
      "outputs": [
        {
          "output_type": "execute_result",
          "data": {
            "text/plain": [
              "dict_keys([4, 2, 8])"
            ]
          },
          "metadata": {
            "tags": []
          },
          "execution_count": 15
        }
      ]
    },
    {
      "cell_type": "code",
      "metadata": {
        "id": "ESEgJxvKAPyP",
        "colab_type": "code",
        "colab": {
          "base_uri": "https://localhost:8080/",
          "height": 34
        },
        "outputId": "9e9edb66-eef6-4aec-d5f3-f045884e4618"
      },
      "source": [
        "c"
      ],
      "execution_count": 16,
      "outputs": [
        {
          "output_type": "execute_result",
          "data": {
            "text/plain": [
              "Counter({2: 1, 4: 2, 8: 3})"
            ]
          },
          "metadata": {
            "tags": []
          },
          "execution_count": 16
        }
      ]
    },
    {
      "cell_type": "markdown",
      "metadata": {
        "id": "4U0iKyNwAxLb",
        "colab_type": "text"
      },
      "source": [
        "A matrix with lots of zeroes is called . For sparse matrices a lot of memory can be saved"
      ]
    },
    {
      "cell_type": "code",
      "metadata": {
        "id": "CvwTFWrxIWYJ",
        "colab_type": "code",
        "colab": {}
      },
      "source": [
        "def get_doc_term_matrix(text_list, n_terms):\n",
        "    \n",
        "    # inputs:\n",
        "    #    text_list, a TextList object\n",
        "    #    n_terms, the number of tokens in our IMDb vocabulary\n",
        "    \n",
        "    # output: \n",
        "    #    the CSR format sparse representation of the document-term matrix in the form of a\n",
        "    #    scipy.sparse.csr.csr_matrix object\n",
        "\n",
        "    \n",
        "    # initialize arrays\n",
        "    values = []\n",
        "    column_indices = []\n",
        "    row_pointer = []\n",
        "    row_pointer.append(0)\n",
        "\n",
        "    # from the TextList object\n",
        "    for _, doc in enumerate(text_list):\n",
        "        feature_counter = Counter(doc.data)\n",
        "        column_indices.extend(feature_counter.keys())\n",
        "        values.extend(feature_counter.values())\n",
        "        # Tack on N (number of nonzero elements in the matrix) to the end of the row_pointer array\n",
        "        row_pointer.append(len(values))\n",
        "        \n",
        "    return scipy.sparse.csr_matrix((values, column_indices, row_pointer),\n",
        "                                   shape=(len(row_pointer) - 1, n_terms),\n",
        "                                   dtype=int)"
      ],
      "execution_count": 0,
      "outputs": []
    },
    {
      "cell_type": "code",
      "metadata": {
        "id": "CTCHgBCeHeNH",
        "colab_type": "code",
        "colab": {
          "base_uri": "https://localhost:8080/",
          "height": 51
        },
        "outputId": "5b37a4bc-2341-491a-cebd-e443c27b0823"
      },
      "source": [
        "%%time\n",
        "train_doc_term = get_doc_term_matrix(movie_reviews.train.x, len(movie_reviews.vocab.itos))\n",
        "val_doc_term = get_doc_term_matrix(movie_reviews.valid.x,len(movie_reviews.vocab.itos))"
      ],
      "execution_count": 45,
      "outputs": [
        {
          "output_type": "stream",
          "text": [
            "CPU times: user 171 ms, sys: 1.21 ms, total: 172 ms\n",
            "Wall time: 173 ms\n"
          ],
          "name": "stdout"
        }
      ]
    },
    {
      "cell_type": "markdown",
      "metadata": {
        "id": "AQQlFPXAMCXG",
        "colab_type": "text"
      },
      "source": [
        "NAIVE BAYES"
      ]
    },
    {
      "cell_type": "code",
      "metadata": {
        "id": "UhOSAHt5MDeJ",
        "colab_type": "code",
        "colab": {
          "base_uri": "https://localhost:8080/",
          "height": 34
        },
        "outputId": "c94b6ede-7671-429c-9632-db0a3fd016d4"
      },
      "source": [
        "movie_reviews.y.classes"
      ],
      "execution_count": 20,
      "outputs": [
        {
          "output_type": "execute_result",
          "data": {
            "text/plain": [
              "['negative', 'positive']"
            ]
          },
          "metadata": {
            "tags": []
          },
          "execution_count": 20
        }
      ]
    },
    {
      "cell_type": "code",
      "metadata": {
        "id": "6uJTiLLYMFYw",
        "colab_type": "code",
        "colab": {}
      },
      "source": [
        "x = train_doc_term\n",
        "y = movie_reviews.train.y\n",
        "val_y = movie_reviews.valid.y\n",
        "v = movie_reviews.vocab"
      ],
      "execution_count": 0,
      "outputs": []
    },
    {
      "cell_type": "code",
      "metadata": {
        "id": "oFdClLsiMUQ4",
        "colab_type": "code",
        "colab": {}
      },
      "source": [
        "positive = y.c2i['positive']\n",
        "negative =y.c2i['negative']"
      ],
      "execution_count": 0,
      "outputs": []
    },
    {
      "cell_type": "code",
      "metadata": {
        "id": "FpRMsmEYHVib",
        "colab_type": "code",
        "colab": {
          "base_uri": "https://localhost:8080/",
          "height": 34
        },
        "outputId": "c702b685-6682-4a0b-863f-c32112df2810"
      },
      "source": [
        "x.shape"
      ],
      "execution_count": 50,
      "outputs": [
        {
          "output_type": "execute_result",
          "data": {
            "text/plain": [
              "(800, 6008)"
            ]
          },
          "metadata": {
            "tags": []
          },
          "execution_count": 50
        }
      ]
    },
    {
      "cell_type": "code",
      "metadata": {
        "id": "_Ue3l1s5Mk_X",
        "colab_type": "code",
        "colab": {}
      },
      "source": [
        "import numpy as np\n",
        "#to calculate the log count ratios\n",
        "\n",
        "p1 = np.squeeze(np.asarray(x[y.items==positive].sum(0)))   \n",
        "p0 = np.squeeze(np.asarray(x[y.items==negative].sum(0)))"
      ],
      "execution_count": 0,
      "outputs": []
    },
    {
      "cell_type": "code",
      "metadata": {
        "id": "z_tx2ClLDtMT",
        "colab_type": "code",
        "colab": {
          "base_uri": "https://localhost:8080/",
          "height": 34
        },
        "outputId": "84f572ac-edbb-4952-cce8-752d7795831e"
      },
      "source": [
        "p0[v.stoi['loved']],p1[v.stoi['loved']]  # no of times word loved appeared in negative and positive reviews"
      ],
      "execution_count": 53,
      "outputs": [
        {
          "output_type": "execute_result",
          "data": {
            "text/plain": [
              "(12, 29)"
            ]
          },
          "metadata": {
            "tags": []
          },
          "execution_count": 53
        }
      ]
    },
    {
      "cell_type": "code",
      "metadata": {
        "id": "j8qrfFOJKFtg",
        "colab_type": "code",
        "colab": {
          "base_uri": "https://localhost:8080/",
          "height": 34
        },
        "outputId": "97acd56f-8fea-47fc-bdae-7588c5025c86"
      },
      "source": [
        "p0[v.stoi['hate']],p1[v.stoi['hate']] "
      ],
      "execution_count": 54,
      "outputs": [
        {
          "output_type": "execute_result",
          "data": {
            "text/plain": [
              "(13, 5)"
            ]
          },
          "metadata": {
            "tags": []
          },
          "execution_count": 54
        }
      ]
    },
    {
      "cell_type": "code",
      "metadata": {
        "id": "Ya0WtakTKUhg",
        "colab_type": "code",
        "colab": {
          "base_uri": "https://localhost:8080/",
          "height": 34
        },
        "outputId": "d48447e1-0460-4ea0-9edf-94c2a0c1808f"
      },
      "source": [
        "v.stoi['hated']  # the integer value of word hate "
      ],
      "execution_count": 69,
      "outputs": [
        {
          "output_type": "execute_result",
          "data": {
            "text/plain": [
              "1977"
            ]
          },
          "metadata": {
            "tags": []
          },
          "execution_count": 69
        }
      ]
    },
    {
      "cell_type": "code",
      "metadata": {
        "id": "OlknJ9-gKx7P",
        "colab_type": "code",
        "colab": {
          "base_uri": "https://localhost:8080/",
          "height": 34
        },
        "outputId": "79f0fda2-8996-428d-96c4-0640514db0b8"
      },
      "source": [
        "a = np.argwhere((x[:,1977]>0))[:,0];a    #rows or reviews from the dtm where the count of word hate > 1"
      ],
      "execution_count": 74,
      "outputs": [
        {
          "output_type": "execute_result",
          "data": {
            "text/plain": [
              "array([ 15,  49, 304, 351, 393, 612, 695, 773], dtype=int32)"
            ]
          },
          "metadata": {
            "tags": []
          },
          "execution_count": 74
        }
      ]
    },
    {
      "cell_type": "code",
      "metadata": {
        "id": "tMMIlnuMLOrG",
        "colab_type": "code",
        "colab": {
          "base_uri": "https://localhost:8080/",
          "height": 34
        },
        "outputId": "355fe3f8-121d-4bc5-9111-946dc9178535"
      },
      "source": [
        "b = np.argwhere(y.items==positive)[:,0];b    #rows corresponding to positive reviews"
      ],
      "execution_count": 75,
      "outputs": [
        {
          "output_type": "execute_result",
          "data": {
            "text/plain": [
              "array([  1,   3,  10,  11, ..., 787, 789, 790, 797])"
            ]
          },
          "metadata": {
            "tags": []
          },
          "execution_count": 75
        }
      ]
    },
    {
      "cell_type": "code",
      "metadata": {
        "id": "-qGcqgBIL1T3",
        "colab_type": "code",
        "colab": {
          "base_uri": "https://localhost:8080/",
          "height": 34
        },
        "outputId": "7c0aa2cc-6503-4289-a88d-887221835a1d"
      },
      "source": [
        "set(a).intersection(set(b))  # rows where the review is positive but it has the word hate"
      ],
      "execution_count": 76,
      "outputs": [
        {
          "output_type": "execute_result",
          "data": {
            "text/plain": [
              "{393, 612, 695}"
            ]
          },
          "metadata": {
            "tags": []
          },
          "execution_count": 76
        }
      ]
    },
    {
      "cell_type": "code",
      "metadata": {
        "id": "aFt1AR7lMAoj",
        "colab_type": "code",
        "colab": {
          "base_uri": "https://localhost:8080/",
          "height": 156
        },
        "outputId": "51344f8c-acf3-4a91-8a4a-4d07c46af5e6"
      },
      "source": [
        "review = movie_reviews.train.x[393];\n",
        "print(''.join(review.text))"
      ],
      "execution_count": 77,
      "outputs": [
        {
          "output_type": "stream",
          "text": [
            "xxbos xxmaj there are numerous films relating to xxup xxunk , but xxmaj mother xxmaj night is quite xxunk among them : xxmaj in this film , we are introduced to xxmaj howard xxmaj campbell ( xxmaj nolte ) , an xxmaj american living in xxmaj berlin and married to a xxmaj german , xxmaj xxunk xxmaj xxunk ( xxmaj lee ) , who decides to accept the role of a spy : xxmaj more specifically , a xxup cia agent xxmaj major xxmaj xxunk ( xxmaj goodman ) recruits xxmaj campbell who becomes a xxmaj nazi xxunk in order to enter the highest xxunk of the xxmaj hitler xxunk . xxmaj however , the deal is that the xxup us xxmaj government will never xxunk xxmaj campbell 's role in the war for national security reasons , and so xxmaj campbell becomes a hated figure across the xxup us . xxmaj after the war , he tries to xxunk his identity , but the past comes back and xxunk him . xxmaj his only \" friend \" is xxmaj xxunk , but even he can not do much for the xxunk of events that fall upon poor xxmaj campbell ... \n",
            " \n",
            "  xxmaj the story is deeply touching , as we watch the tragedy of xxmaj campbell who although a great patriot , is treated by xxunk by everybody who xxunk him . xxmaj not only that , but he also gradually realizes that even the persons who are most close to him , have many xxunk of their own . xxmaj vonnegut provides us with a moving atmosphere , with xxmaj campbell 's despair building up and almost choking the viewer . \n",
            " \n",
            "  xxmaj nolte plays the role of his life , in my opinion ; he is even better than in \" xxmaj xxunk \" , although in both roles he plays tragic figures who are destined to self - destruction . xxmaj xxunk xxmaj lee is also excellent , and the same can be said for the whole cast in general . \n",
            " \n",
            "  i have n't read the book , so i can not xxunk how the film compares to it . xxmaj in any case , this is something of no importance here : xxmaj my xxunk is upon the film per xxunk , and the film xxunk deserves a 9 / 10 .\n"
          ],
          "name": "stdout"
        }
      ]
    },
    {
      "cell_type": "markdown",
      "metadata": {
        "id": "vX2A5fqtOHTc",
        "colab_type": "text"
      },
      "source": [
        "Applying Naive Bayes"
      ]
    },
    {
      "cell_type": "code",
      "metadata": {
        "id": "Rq-cAasTOJmi",
        "colab_type": "code",
        "colab": {
          "base_uri": "https://localhost:8080/",
          "height": 34
        },
        "outputId": "59535c60-4cf1-4b5a-ec81-9723d592f375"
      },
      "source": [
        "pr1 = (p1+1)/((y.items==positive).sum()+1)  #adding 1 in num and deno for numerical stability\n",
        "pr0 = (p0+1)/((y.items==negative).sum()+1)\n",
        "\n",
        "r = np.log(pr1/pr0);r"
      ],
      "execution_count": 80,
      "outputs": [
        {
          "output_type": "execute_result",
          "data": {
            "text/plain": [
              "array([-0.015348,  0.084839,  0.      ,  0.084839, ...,  1.471133, -1.301455, -1.301455, -1.301455])"
            ]
          },
          "metadata": {
            "tags": []
          },
          "execution_count": 80
        }
      ]
    },
    {
      "cell_type": "code",
      "metadata": {
        "id": "-kguebtjOhd-",
        "colab_type": "code",
        "colab": {}
      },
      "source": [
        ""
      ],
      "execution_count": 0,
      "outputs": []
    },
    {
      "cell_type": "markdown",
      "metadata": {
        "id": "0EeyAXNcPh_B",
        "colab_type": "text"
      },
      "source": [
        "Vocab most likely associated with postive and negative reviews"
      ]
    },
    {
      "cell_type": "code",
      "metadata": {
        "id": "Bk-hI9kVPmfE",
        "colab_type": "code",
        "colab": {}
      },
      "source": [
        "biggest = np.argpartition(r,-10)[-10:]\n",
        "smallest = np.argpartition(r,10)[:10]"
      ],
      "execution_count": 0,
      "outputs": []
    },
    {
      "cell_type": "code",
      "metadata": {
        "id": "c4Mh7fsjSOyu",
        "colab_type": "code",
        "colab": {
          "base_uri": "https://localhost:8080/",
          "height": 187
        },
        "outputId": "b3af8895-c483-4194-84cb-b8cbab552b61"
      },
      "source": [
        "#most positive\n",
        "[v.itos[k] for k in biggest]"
      ],
      "execution_count": 83,
      "outputs": [
        {
          "output_type": "execute_result",
          "data": {
            "text/plain": [
              "['han',\n",
              " 'jabba',\n",
              " 'gilliam',\n",
              " 'davies',\n",
              " 'noir',\n",
              " 'felix',\n",
              " 'jimmy',\n",
              " 'astaire',\n",
              " 'fanfan',\n",
              " 'biko']"
            ]
          },
          "metadata": {
            "tags": []
          },
          "execution_count": 83
        }
      ]
    },
    {
      "cell_type": "code",
      "metadata": {
        "id": "g9zOZMhuSUIL",
        "colab_type": "code",
        "colab": {
          "base_uri": "https://localhost:8080/",
          "height": 34
        },
        "outputId": "d70d9395-c368-47ad-d372-843fa5017501"
      },
      "source": [
        "np.argmax(train_doc_term[:,v.stoi['jimmy']])"
      ],
      "execution_count": 84,
      "outputs": [
        {
          "output_type": "execute_result",
          "data": {
            "text/plain": [
              "741"
            ]
          },
          "metadata": {
            "tags": []
          },
          "execution_count": 84
        }
      ]
    },
    {
      "cell_type": "code",
      "metadata": {
        "id": "qMzBaXLrSqtx",
        "colab_type": "code",
        "colab": {
          "base_uri": "https://localhost:8080/",
          "height": 54
        },
        "outputId": "98782cc4-71fb-4281-c40c-66b7197a7958"
      },
      "source": [
        "movie_reviews.train.x[741].text  #jimmy appears multiple times in this positive review"
      ],
      "execution_count": 86,
      "outputs": [
        {
          "output_type": "execute_result",
          "data": {
            "text/plain": [
              "'xxbos * * * xxup spoilers * * * xxmaj all too , in real life as well as in the movies , familiar story that happens to many young men who are put in a war zone with a gun , or xxunk , in their hands . xxmaj the case of young and innocent , in never xxunk or firing a gun , xxmaj jimmy xxmaj davis , xxmaj xxunk xxmaj tone , has been repeated thousands of times over the xxunk when men , like xxmaj jimmy xxmaj davis , are forced to take up arms for their country . \\n \\n  xxmaj jimmy who at first wanted to be kicked out of the xxup us xxmaj army but was encouraged to stay , by being xxunk in the mouth , by his good friend xxmaj fred xxup xxunk xxmaj willis , xxmaj xxunk xxmaj tracy , ended up on the front lines in xxmaj france . xxmaj with xxmaj jimmy \\'s unit xxunk down by a xxmaj german machine gun nest he single xxunk put it out of xxunk picking off some half dozen xxmaj german soldiers from the xxunk of a nearby church xxunk . xxmaj it was when xxmaj jimmy xxunk down the last surviving xxmaj german , who raised his arms in surrender , that an xxunk shell hit the xxunk seriously xxunk him . \\n \\n  xxmaj xxunk from his wounds at an xxmaj army hospital xxmaj jimmy fell in love with xxup us xxmaj army xxunk nurse xxmaj rose xxmaj xxunk , xxmaj gladys xxmaj george . xxmaj rose was really in love with xxmaj jimmy \\'s good friend the happy go lucky xxmaj fred despite his obnoxious antics towards her . xxmaj it \\'s when xxmaj fred was lost during the fighting on the xxmaj western xxmaj front that xxmaj rose , thinking that he was killed , fell in love and later married xxmaj jimmy . xxmaj when xxmaj fred unexpectedly showed up in the xxmaj french town where xxmaj jimmy , now fully xxunk from his wounds , was xxunk at things got very xxunk for both him and xxmaj rose who had already accepted xxmaj jimmy \\'s xxunk of marriage to her ! \\n \\n  xxmaj with xxup xxunk over and xxmaj jimmy marrying xxmaj rose left xxmaj fred , who \\'s still in love with her , a bitter and xxunk young man . xxmaj it was almost by accident that xxmaj fred ran into xxmaj jimmy on the streets of xxmaj new xxmaj york xxmaj city and discovered to his shock and surprise that he completely changed from the meek and non - violent person that he knew before he was sent to war on the xxmaj european xxmaj western xxmaj front . xxmaj xxunk and sure of himself , and his ability to shoot a gun , xxmaj jimmy had become a top xxunk in xxmaj new xxmaj york xxmaj city \\'s xxunk ! xxmaj not only that but as xxmaj fred later found out his wife xxmaj rose had no idea what xxmaj jimmy was really involved in with xxmaj jimmy telling her that he works as a law abiding and xxunk insurance xxunk . \\n \\n  xxmaj jimmy \\'s life of crime came full circle when xxmaj rose , after she found out about his secret life , xxunk him out to the police to prevent him from xxunk a \" xxmaj valentine xxmaj day \" like massacre , with his gang members dressed as cops , of his xxunk xxunk . xxmaj while on trial xxmaj jimmy came to his senses and xxunk his guilt willing to face the music and then , after his three year sentence is up , get his life back together . \\n \\n  * * * xxup spoiler xxup alert * * * xxmaj hearing rumors from fellow xxunk that xxmaj rose and his best friend xxmaj fred were having an affair behind his back xxmaj jimmy broke out of prison ending up a xxunk from the law . xxmaj it \\'s at xxmaj fred \\'s circus , where he works as both xxunk and barker , that xxmaj jimmy in seeing that xxmaj rose as well as xxmaj fred were true to him that he , like at his trial , had a sudden change of heart . xxmaj but the thought of going back to prison , with at least another ten years added on to his sentence , was just too much for xxmaj jimmy ! xxmaj it was then that xxmaj jimmy decided to end it all by letting the police who by then xxunk him down do the job , that he himself did n\\'t have the heart to do , for him !'"
            ]
          },
          "metadata": {
            "tags": []
          },
          "execution_count": 86
        }
      ]
    },
    {
      "cell_type": "code",
      "metadata": {
        "id": "rxqjAl4dS4sz",
        "colab_type": "code",
        "colab": {}
      },
      "source": [
        "b = np.log((y.items==positive).mean()/(y.items==negative).mean())  #ratio of avg postive reviews to neg reviews"
      ],
      "execution_count": 0,
      "outputs": []
    },
    {
      "cell_type": "code",
      "metadata": {
        "id": "hrR-8Ao5T7mN",
        "colab_type": "code",
        "colab": {}
      },
      "source": [
        "preds = (val_doc_term @ r + b) > 0 "
      ],
      "execution_count": 0,
      "outputs": []
    },
    {
      "cell_type": "code",
      "metadata": {
        "id": "6K8IiOplUXim",
        "colab_type": "code",
        "colab": {
          "base_uri": "https://localhost:8080/",
          "height": 34
        },
        "outputId": "4c29df69-c761-4a81-8511-2833e12a5e49"
      },
      "source": [
        "(preds == val_y.items).mean()"
      ],
      "execution_count": 90,
      "outputs": [
        {
          "output_type": "execute_result",
          "data": {
            "text/plain": [
              "0.645"
            ]
          },
          "metadata": {
            "tags": []
          },
          "execution_count": 90
        }
      ]
    },
    {
      "cell_type": "markdown",
      "metadata": {
        "id": "FIh2PQJmXJ-f",
        "colab_type": "text"
      },
      "source": [
        "Binarized Naive Bayes - maybe it only matters to know whether a word is in the review or not and not the frequency "
      ]
    },
    {
      "cell_type": "code",
      "metadata": {
        "id": "_1AbdKSZUgZb",
        "colab_type": "code",
        "colab": {}
      },
      "source": [
        "x = train_doc_term.sign()\n",
        "y= movie_reviews.train.y"
      ],
      "execution_count": 0,
      "outputs": []
    },
    {
      "cell_type": "code",
      "metadata": {
        "id": "axvX1_b9XU8W",
        "colab_type": "code",
        "colab": {}
      },
      "source": [
        "negative = y.c2i['negative']\n",
        "positive = y.c2i['positive']"
      ],
      "execution_count": 0,
      "outputs": []
    },
    {
      "cell_type": "code",
      "metadata": {
        "id": "_ZqG6-gQXmTF",
        "colab_type": "code",
        "colab": {}
      },
      "source": [
        "p1 = np.squeeze(np.asarray(x[y.items==positive].sum(0)))\n",
        "p0 = np.squeeze(np.asarray(x[y.items==negative].sum(0)))"
      ],
      "execution_count": 0,
      "outputs": []
    },
    {
      "cell_type": "code",
      "metadata": {
        "id": "GdAtr37TX_dl",
        "colab_type": "code",
        "colab": {}
      },
      "source": [
        "pr1 = (p1+1)/((y.items==positive).sum()+1)\n",
        "pr0 = (p0+1)/((y.items==negative).sum()+1)"
      ],
      "execution_count": 0,
      "outputs": []
    },
    {
      "cell_type": "code",
      "metadata": {
        "id": "_3R86yjRYSH5",
        "colab_type": "code",
        "colab": {}
      },
      "source": [
        "r = np.log(pr1/pr0)\n",
        "b = np.log((y.items==positive).mean()/(y.items==negative).mean())\n",
        "preds = (val_doc_term @ r +b) >0"
      ],
      "execution_count": 0,
      "outputs": []
    },
    {
      "cell_type": "code",
      "metadata": {
        "id": "YiEoSDKTYntr",
        "colab_type": "code",
        "colab": {
          "base_uri": "https://localhost:8080/",
          "height": 34
        },
        "outputId": "c5f7b0ba-e537-4ce3-accb-2e0c746d513b"
      },
      "source": [
        "(preds == val_y.items).mean()"
      ],
      "execution_count": 97,
      "outputs": [
        {
          "output_type": "execute_result",
          "data": {
            "text/plain": [
              "0.66"
            ]
          },
          "metadata": {
            "tags": []
          },
          "execution_count": 97
        }
      ]
    },
    {
      "cell_type": "markdown",
      "metadata": {
        "id": "NkJh44XCY0tL",
        "colab_type": "text"
      },
      "source": [
        "Logistic Regression"
      ]
    },
    {
      "cell_type": "code",
      "metadata": {
        "id": "lxH7VuwsYu5A",
        "colab_type": "code",
        "colab": {}
      },
      "source": [
        ""
      ],
      "execution_count": 0,
      "outputs": []
    }
  ]
}