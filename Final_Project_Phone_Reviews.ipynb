{
  "nbformat": 4,
  "nbformat_minor": 0,
  "metadata": {
    "colab": {
      "name": "Final Project - Phone Reviews.ipynb",
      "provenance": [],
      "collapsed_sections": [],
      "toc_visible": true,
      "include_colab_link": true
    },
    "kernelspec": {
      "name": "python3",
      "display_name": "Python 3"
    },
    "accelerator": "GPU"
  },
  "cells": [
    {
      "cell_type": "markdown",
      "metadata": {
        "id": "view-in-github",
        "colab_type": "text"
      },
      "source": [
        "<a href=\"https://colab.research.google.com/github/Vish4github/Projects/blob/master/Final_Project_Phone_Reviews.ipynb\" target=\"_parent\"><img src=\"https://colab.research.google.com/assets/colab-badge.svg\" alt=\"Open In Colab\"/></a>"
      ]
    },
    {
      "cell_type": "markdown",
      "metadata": {
        "id": "XDbkLhjirs04",
        "colab_type": "text"
      },
      "source": [
        "# Python Libraries\n"
      ]
    },
    {
      "cell_type": "code",
      "metadata": {
        "id": "ZomFzcnyjo69",
        "colab_type": "code",
        "cellView": "form",
        "outputId": "66aa312c-8cc8-461a-f9cf-49222b0a08fa",
        "colab": {
          "base_uri": "https://localhost:8080/",
          "height": 413
        }
      },
      "source": [
        "#@title Install non-generic libraries\n",
        "#@markdown vaderSentiment, pyLDAvis\n",
        "!pip install vaderSentiment\n",
        "!pip install pyLDAvis"
      ],
      "execution_count": 0,
      "outputs": [
        {
          "output_type": "stream",
          "text": [
            "Requirement already satisfied: vaderSentiment in /usr/local/lib/python3.6/dist-packages (3.3.1)\n",
            "Requirement already satisfied: pyLDAvis in /usr/local/lib/python3.6/dist-packages (2.1.2)\n",
            "Requirement already satisfied: scipy>=0.18.0 in /usr/local/lib/python3.6/dist-packages (from pyLDAvis) (1.4.1)\n",
            "Requirement already satisfied: future in /usr/local/lib/python3.6/dist-packages (from pyLDAvis) (0.16.0)\n",
            "Requirement already satisfied: numpy>=1.9.2 in /usr/local/lib/python3.6/dist-packages (from pyLDAvis) (1.18.3)\n",
            "Requirement already satisfied: funcy in /usr/local/lib/python3.6/dist-packages (from pyLDAvis) (1.14)\n",
            "Requirement already satisfied: wheel>=0.23.0 in /usr/local/lib/python3.6/dist-packages (from pyLDAvis) (0.34.2)\n",
            "Requirement already satisfied: pandas>=0.17.0 in /usr/local/lib/python3.6/dist-packages (from pyLDAvis) (1.0.3)\n",
            "Requirement already satisfied: joblib>=0.8.4 in /usr/local/lib/python3.6/dist-packages (from pyLDAvis) (0.14.1)\n",
            "Requirement already satisfied: numexpr in /usr/local/lib/python3.6/dist-packages (from pyLDAvis) (2.7.1)\n",
            "Requirement already satisfied: jinja2>=2.7.2 in /usr/local/lib/python3.6/dist-packages (from pyLDAvis) (2.11.2)\n",
            "Requirement already satisfied: pytest in /usr/local/lib/python3.6/dist-packages (from pyLDAvis) (3.6.4)\n",
            "Requirement already satisfied: pytz>=2017.2 in /usr/local/lib/python3.6/dist-packages (from pandas>=0.17.0->pyLDAvis) (2018.9)\n",
            "Requirement already satisfied: python-dateutil>=2.6.1 in /usr/local/lib/python3.6/dist-packages (from pandas>=0.17.0->pyLDAvis) (2.8.1)\n",
            "Requirement already satisfied: MarkupSafe>=0.23 in /usr/local/lib/python3.6/dist-packages (from jinja2>=2.7.2->pyLDAvis) (1.1.1)\n",
            "Requirement already satisfied: atomicwrites>=1.0 in /usr/local/lib/python3.6/dist-packages (from pytest->pyLDAvis) (1.3.0)\n",
            "Requirement already satisfied: setuptools in /usr/local/lib/python3.6/dist-packages (from pytest->pyLDAvis) (46.1.3)\n",
            "Requirement already satisfied: six>=1.10.0 in /usr/local/lib/python3.6/dist-packages (from pytest->pyLDAvis) (1.12.0)\n",
            "Requirement already satisfied: attrs>=17.4.0 in /usr/local/lib/python3.6/dist-packages (from pytest->pyLDAvis) (19.3.0)\n",
            "Requirement already satisfied: pluggy<0.8,>=0.5 in /usr/local/lib/python3.6/dist-packages (from pytest->pyLDAvis) (0.7.1)\n",
            "Requirement already satisfied: more-itertools>=4.0.0 in /usr/local/lib/python3.6/dist-packages (from pytest->pyLDAvis) (8.2.0)\n",
            "Requirement already satisfied: py>=1.5.0 in /usr/local/lib/python3.6/dist-packages (from pytest->pyLDAvis) (1.8.1)\n"
          ],
          "name": "stdout"
        }
      ]
    },
    {
      "cell_type": "code",
      "metadata": {
        "id": "YvKBs7h5rjwL",
        "colab_type": "code",
        "cellView": "form",
        "outputId": "d344b9cd-c21e-4f32-d41a-eca5e8ad4a5b",
        "colab": {
          "base_uri": "https://localhost:8080/",
          "height": 161
        }
      },
      "source": [
        "#@title Import libraries\n",
        "from __future__ import print_function\n",
        "\n",
        "import numpy as np\n",
        "import pandas as pd\n",
        "import re\n",
        "import string\n",
        "import pickle\n",
        "import time\n",
        "import sys\n",
        "#!{sys.executable} -m spacy download en\n",
        "import math\n",
        "from pprint import pprint\n",
        "import warnings\n",
        "\n",
        "\n",
        "# Gensim\n",
        "import gensim, logging, warnings\n",
        "import gensim.corpora as corpora\n",
        "from gensim.utils import lemmatize, simple_preprocess\n",
        "from gensim.models import CoherenceModel\n",
        "\n",
        "# NLTK\n",
        "import nltk\n",
        "from nltk.tokenize import word_tokenize\n",
        "from nltk.tokenize import sent_tokenize\n",
        "from nltk.probability import FreqDist\n",
        "from nltk.corpus import stopwords\n",
        "from nltk.stem import PorterStemmer\n",
        "from nltk.stem.wordnet import WordNetLemmatizer\n",
        "from nltk.stem.snowball import SnowballStemmer\n",
        "nltk.download('stopwords')\n",
        "nltk.download('wordnet')\n",
        "nltk.download('punkt')\n",
        "nltk.download('movie_reviews')\n",
        "\n",
        "#tfidf_vectorizer = TfidfVectorizer(max_df=0.9, min_df=0.05, stop_words=\"english\")\n",
        "\n",
        "# SpaCy\n",
        "import spacy\n",
        "nlp = spacy.load('en_core_web_sm')\n",
        "\n",
        "# SciKit Learn\n",
        "from sklearn.feature_extraction.text import CountVectorizer\n",
        "from sklearn.feature_extraction.text import TfidfVectorizer\n",
        "from sklearn.decomposition import LatentDirichletAllocation\n",
        "from sklearn.decomposition import LatentDirichletAllocation\n",
        "from sklearn import metrics\n",
        "from sklearn.feature_extraction.text import TfidfTransformer\n",
        "from sklearn.linear_model import LogisticRegression\n",
        "from sklearn.naive_bayes import MultinomialNB\n",
        "from sklearn.pipeline import Pipeline\n",
        "from sklearn.tree import DecisionTreeClassifier\n",
        "from sklearn.ensemble import RandomForestClassifier\n",
        "from sklearn.model_selection import cross_validate\n",
        "from sklearn.model_selection import train_test_split\n",
        "from sklearn.metrics import mean_squared_error, mean_absolute_error\n",
        "from sklearn.metrics import classification_report\n",
        "from sklearn.metrics import accuracy_score\n",
        "from sklearn.linear_model import SGDClassifier\n",
        "\n",
        "# Sentiment Analysis\n",
        "import textblob as tb\n",
        "from textblob.sentiments import NaiveBayesAnalyzer\n",
        "from vaderSentiment.vaderSentiment import SentimentIntensityAnalyzer\n",
        "\n",
        "# Plots\n",
        "import seaborn as sns\n",
        "sns.set(style=\"darkgrid\")\n",
        "sns.set(font_scale=1.3)\n",
        "import pyLDAvis.gensim\n",
        "from matplotlib import pyplot as plt\n",
        "from wordcloud import WordCloud, STOPWORDS\n",
        "import matplotlib.colors as mcolors\n",
        "from matplotlib.ticker import FuncFormatter\n",
        "\n",
        "# Google Colab imports\n",
        "from google.colab import files\n",
        "from google.colab import drive as drive_colab\n",
        "from google.colab import auth\n",
        "from pydrive.auth import GoogleAuth\n",
        "from pydrive.drive import GoogleDrive\n",
        "from oauth2client.client import GoogleCredentials"
      ],
      "execution_count": 0,
      "outputs": [
        {
          "output_type": "stream",
          "text": [
            "[nltk_data] Downloading package stopwords to /root/nltk_data...\n",
            "[nltk_data]   Package stopwords is already up-to-date!\n",
            "[nltk_data] Downloading package wordnet to /root/nltk_data...\n",
            "[nltk_data]   Package wordnet is already up-to-date!\n",
            "[nltk_data] Downloading package punkt to /root/nltk_data...\n",
            "[nltk_data]   Package punkt is already up-to-date!\n",
            "[nltk_data] Downloading package movie_reviews to /root/nltk_data...\n",
            "[nltk_data]   Package movie_reviews is already up-to-date!\n"
          ],
          "name": "stdout"
        }
      ]
    },
    {
      "cell_type": "markdown",
      "metadata": {
        "id": "g3EATMG2NpXT",
        "colab_type": "text"
      },
      "source": [
        "# Data"
      ]
    },
    {
      "cell_type": "code",
      "metadata": {
        "id": "h1ZaFQx_RnLI",
        "colab_type": "code",
        "cellView": "form",
        "outputId": "f9d2b232-4008-4768-993c-b61acf2e0d2c",
        "colab": {
          "base_uri": "https://localhost:8080/",
          "height": 127
        }
      },
      "source": [
        "#@title File Upload\n",
        "#@markdown Fetch all the required files.\n",
        "\n",
        "#@markdown **reviews.csv**: all available reviews\\\n",
        "#@markdown **items.csv**: all phones available\n",
        "\n",
        "# Authenticate user\n",
        "## You must go to the link and copy access code\n",
        "auth.authenticate_user()\n",
        "gauth = GoogleAuth()\n",
        "gauth.credentials = GoogleCredentials.get_application_default()\n",
        "drive = GoogleDrive(gauth)\n",
        "\n",
        "# Load all the required files\n",
        "file_id = '17-i-_a2zKwXJCNoOCt6R-Ezr2swO8x8r'\n",
        "downloaded = drive.CreateFile({'id': file_id})\n",
        "downloaded.GetContentFile('items.csv')\n",
        "\n",
        "file_id = '1flTqx4fnPVrk5zyydJDvh67z4IIN-2Ei'\n",
        "downloaded = drive.CreateFile({'id': file_id})\n",
        "downloaded.GetContentFile('reviews.csv')\n",
        "\n",
        "# Mount the drive to access files\n",
        "drive_colab.mount('drive')\n",
        "\n",
        "reviews = pd.read_csv('reviews.csv')\n",
        "items = pd.read_csv('items.csv')"
      ],
      "execution_count": 0,
      "outputs": [
        {
          "output_type": "stream",
          "text": [
            "Go to this URL in a browser: https://accounts.google.com/o/oauth2/auth?client_id=947318989803-6bn6qk8qdgf4n4g3pfee6491hc0brc4i.apps.googleusercontent.com&redirect_uri=urn%3aietf%3awg%3aoauth%3a2.0%3aoob&response_type=code&scope=email%20https%3a%2f%2fwww.googleapis.com%2fauth%2fdocs.test%20https%3a%2f%2fwww.googleapis.com%2fauth%2fdrive%20https%3a%2f%2fwww.googleapis.com%2fauth%2fdrive.photos.readonly%20https%3a%2f%2fwww.googleapis.com%2fauth%2fpeopleapi.readonly\n",
            "\n",
            "Enter your authorization code:\n",
            "··········\n",
            "Mounted at drive\n"
          ],
          "name": "stdout"
        }
      ]
    },
    {
      "cell_type": "markdown",
      "metadata": {
        "id": "rYCaaLjRLKeW",
        "colab_type": "text"
      },
      "source": [
        "# Exploratory Data Analysis"
      ]
    },
    {
      "cell_type": "markdown",
      "metadata": {
        "id": "dQZdq3VDV0-c",
        "colab_type": "text"
      },
      "source": [
        "## Items Dataset\n",
        "We have **720 phone models** and **10 features**.  \n",
        "*rating*, *totalReviews*, *price* and *originalPrice* are **numerical**.  \n",
        "All other features are **strings**.   \n",
        "\n",
        "No significant NA's in this dataset.  \n",
        "\n",
        "**Samsung** has the highest # of phones with 346, followed by **Motorola** having 105 and **Apple** has 63 phones.  \n",
        "\n",
        "**Xiaomi** has the best rating of 4.4/5 followed by **HUAWEI** and then **ASUS**."
      ]
    },
    {
      "cell_type": "code",
      "metadata": {
        "id": "b1QY54i5WLtH",
        "colab_type": "code",
        "outputId": "91112785-9376-47dd-a3b9-4bbaf88c550b",
        "colab": {
          "base_uri": "https://localhost:8080/",
          "height": 204
        }
      },
      "source": [
        "items.dtypes"
      ],
      "execution_count": 0,
      "outputs": [
        {
          "output_type": "execute_result",
          "data": {
            "text/plain": [
              "asin              object\n",
              "brand             object\n",
              "title             object\n",
              "url               object\n",
              "image             object\n",
              "rating           float64\n",
              "reviewUrl         object\n",
              "totalReviews       int64\n",
              "price            float64\n",
              "originalPrice    float64\n",
              "dtype: object"
            ]
          },
          "metadata": {
            "tags": []
          },
          "execution_count": 4
        }
      ]
    },
    {
      "cell_type": "code",
      "metadata": {
        "id": "EFn0fpEiOZAq",
        "colab_type": "code",
        "outputId": "103c1175-789d-48b4-b429-61d31ce33eb3",
        "colab": {
          "base_uri": "https://localhost:8080/",
          "height": 34
        }
      },
      "source": [
        "items.shape"
      ],
      "execution_count": 0,
      "outputs": [
        {
          "output_type": "execute_result",
          "data": {
            "text/plain": [
              "(720, 10)"
            ]
          },
          "metadata": {
            "tags": []
          },
          "execution_count": 5
        }
      ]
    },
    {
      "cell_type": "code",
      "metadata": {
        "id": "3FW7WPhIWLvx",
        "colab_type": "code",
        "outputId": "f2744edb-97d0-4df8-84a0-773fa0564315",
        "colab": {
          "base_uri": "https://localhost:8080/",
          "height": 204
        }
      },
      "source": [
        "items.isna().sum()"
      ],
      "execution_count": 0,
      "outputs": [
        {
          "output_type": "execute_result",
          "data": {
            "text/plain": [
              "asin             0\n",
              "brand            4\n",
              "title            0\n",
              "url              0\n",
              "image            0\n",
              "rating           0\n",
              "reviewUrl        0\n",
              "totalReviews     0\n",
              "price            0\n",
              "originalPrice    0\n",
              "dtype: int64"
            ]
          },
          "metadata": {
            "tags": []
          },
          "execution_count": 6
        }
      ]
    },
    {
      "cell_type": "code",
      "metadata": {
        "id": "gwdj5f6wWP6v",
        "colab_type": "code",
        "outputId": "556f8997-3c46-4de7-bdbc-dd1d9352cb97",
        "colab": {
          "base_uri": "https://localhost:8080/",
          "height": 390
        }
      },
      "source": [
        "item_brand = items.groupby('brand').agg({'asin':['count'], 'rating':['mean'], 'totalReviews':['sum']})\n",
        "item_brand.columns = ['count_phone', 'avg_rating', 'total_reviews']\n",
        "item_brand.sort_values(by=\"count_phone\", ascending=False)"
      ],
      "execution_count": 0,
      "outputs": [
        {
          "output_type": "execute_result",
          "data": {
            "text/html": [
              "<div>\n",
              "<style scoped>\n",
              "    .dataframe tbody tr th:only-of-type {\n",
              "        vertical-align: middle;\n",
              "    }\n",
              "\n",
              "    .dataframe tbody tr th {\n",
              "        vertical-align: top;\n",
              "    }\n",
              "\n",
              "    .dataframe thead th {\n",
              "        text-align: right;\n",
              "    }\n",
              "</style>\n",
              "<table border=\"1\" class=\"dataframe\">\n",
              "  <thead>\n",
              "    <tr style=\"text-align: right;\">\n",
              "      <th></th>\n",
              "      <th>count_phone</th>\n",
              "      <th>avg_rating</th>\n",
              "      <th>total_reviews</th>\n",
              "    </tr>\n",
              "    <tr>\n",
              "      <th>brand</th>\n",
              "      <th></th>\n",
              "      <th></th>\n",
              "      <th></th>\n",
              "    </tr>\n",
              "  </thead>\n",
              "  <tbody>\n",
              "    <tr>\n",
              "      <th>Samsung</th>\n",
              "      <td>346</td>\n",
              "      <td>3.632659</td>\n",
              "      <td>37701</td>\n",
              "    </tr>\n",
              "    <tr>\n",
              "      <th>Motorola</th>\n",
              "      <td>105</td>\n",
              "      <td>3.643810</td>\n",
              "      <td>9419</td>\n",
              "    </tr>\n",
              "    <tr>\n",
              "      <th>Apple</th>\n",
              "      <td>63</td>\n",
              "      <td>3.782540</td>\n",
              "      <td>6315</td>\n",
              "    </tr>\n",
              "    <tr>\n",
              "      <th>Xiaomi</th>\n",
              "      <td>46</td>\n",
              "      <td>4.415217</td>\n",
              "      <td>5574</td>\n",
              "    </tr>\n",
              "    <tr>\n",
              "      <th>Nokia</th>\n",
              "      <td>44</td>\n",
              "      <td>3.386364</td>\n",
              "      <td>6182</td>\n",
              "    </tr>\n",
              "    <tr>\n",
              "      <th>Google</th>\n",
              "      <td>38</td>\n",
              "      <td>3.771053</td>\n",
              "      <td>4238</td>\n",
              "    </tr>\n",
              "    <tr>\n",
              "      <th>HUAWEI</th>\n",
              "      <td>32</td>\n",
              "      <td>4.021875</td>\n",
              "      <td>2467</td>\n",
              "    </tr>\n",
              "    <tr>\n",
              "      <th>Sony</th>\n",
              "      <td>27</td>\n",
              "      <td>3.788889</td>\n",
              "      <td>3312</td>\n",
              "    </tr>\n",
              "    <tr>\n",
              "      <th>OnePlus</th>\n",
              "      <td>10</td>\n",
              "      <td>3.580000</td>\n",
              "      <td>406</td>\n",
              "    </tr>\n",
              "    <tr>\n",
              "      <th>ASUS</th>\n",
              "      <td>5</td>\n",
              "      <td>3.860000</td>\n",
              "      <td>263</td>\n",
              "    </tr>\n",
              "  </tbody>\n",
              "</table>\n",
              "</div>"
            ],
            "text/plain": [
              "          count_phone  avg_rating  total_reviews\n",
              "brand                                           \n",
              "Samsung           346    3.632659          37701\n",
              "Motorola          105    3.643810           9419\n",
              "Apple              63    3.782540           6315\n",
              "Xiaomi             46    4.415217           5574\n",
              "Nokia              44    3.386364           6182\n",
              "Google             38    3.771053           4238\n",
              "HUAWEI             32    4.021875           2467\n",
              "Sony               27    3.788889           3312\n",
              "OnePlus            10    3.580000            406\n",
              "ASUS                5    3.860000            263"
            ]
          },
          "metadata": {
            "tags": []
          },
          "execution_count": 7
        }
      ]
    },
    {
      "cell_type": "code",
      "metadata": {
        "id": "Pawg3-oYgocZ",
        "colab_type": "code",
        "outputId": "a50a567c-080a-443e-f2e6-97f6a87e5aa6",
        "colab": {
          "base_uri": "https://localhost:8080/",
          "height": 390
        }
      },
      "source": [
        "item_brand.sort_values(by=\"avg_rating\", ascending=False)"
      ],
      "execution_count": 0,
      "outputs": [
        {
          "output_type": "execute_result",
          "data": {
            "text/html": [
              "<div>\n",
              "<style scoped>\n",
              "    .dataframe tbody tr th:only-of-type {\n",
              "        vertical-align: middle;\n",
              "    }\n",
              "\n",
              "    .dataframe tbody tr th {\n",
              "        vertical-align: top;\n",
              "    }\n",
              "\n",
              "    .dataframe thead th {\n",
              "        text-align: right;\n",
              "    }\n",
              "</style>\n",
              "<table border=\"1\" class=\"dataframe\">\n",
              "  <thead>\n",
              "    <tr style=\"text-align: right;\">\n",
              "      <th></th>\n",
              "      <th>count_phone</th>\n",
              "      <th>avg_rating</th>\n",
              "      <th>total_reviews</th>\n",
              "    </tr>\n",
              "    <tr>\n",
              "      <th>brand</th>\n",
              "      <th></th>\n",
              "      <th></th>\n",
              "      <th></th>\n",
              "    </tr>\n",
              "  </thead>\n",
              "  <tbody>\n",
              "    <tr>\n",
              "      <th>Xiaomi</th>\n",
              "      <td>46</td>\n",
              "      <td>4.415217</td>\n",
              "      <td>5574</td>\n",
              "    </tr>\n",
              "    <tr>\n",
              "      <th>HUAWEI</th>\n",
              "      <td>32</td>\n",
              "      <td>4.021875</td>\n",
              "      <td>2467</td>\n",
              "    </tr>\n",
              "    <tr>\n",
              "      <th>ASUS</th>\n",
              "      <td>5</td>\n",
              "      <td>3.860000</td>\n",
              "      <td>263</td>\n",
              "    </tr>\n",
              "    <tr>\n",
              "      <th>Sony</th>\n",
              "      <td>27</td>\n",
              "      <td>3.788889</td>\n",
              "      <td>3312</td>\n",
              "    </tr>\n",
              "    <tr>\n",
              "      <th>Apple</th>\n",
              "      <td>63</td>\n",
              "      <td>3.782540</td>\n",
              "      <td>6315</td>\n",
              "    </tr>\n",
              "    <tr>\n",
              "      <th>Google</th>\n",
              "      <td>38</td>\n",
              "      <td>3.771053</td>\n",
              "      <td>4238</td>\n",
              "    </tr>\n",
              "    <tr>\n",
              "      <th>Motorola</th>\n",
              "      <td>105</td>\n",
              "      <td>3.643810</td>\n",
              "      <td>9419</td>\n",
              "    </tr>\n",
              "    <tr>\n",
              "      <th>Samsung</th>\n",
              "      <td>346</td>\n",
              "      <td>3.632659</td>\n",
              "      <td>37701</td>\n",
              "    </tr>\n",
              "    <tr>\n",
              "      <th>OnePlus</th>\n",
              "      <td>10</td>\n",
              "      <td>3.580000</td>\n",
              "      <td>406</td>\n",
              "    </tr>\n",
              "    <tr>\n",
              "      <th>Nokia</th>\n",
              "      <td>44</td>\n",
              "      <td>3.386364</td>\n",
              "      <td>6182</td>\n",
              "    </tr>\n",
              "  </tbody>\n",
              "</table>\n",
              "</div>"
            ],
            "text/plain": [
              "          count_phone  avg_rating  total_reviews\n",
              "brand                                           \n",
              "Xiaomi             46    4.415217           5574\n",
              "HUAWEI             32    4.021875           2467\n",
              "ASUS                5    3.860000            263\n",
              "Sony               27    3.788889           3312\n",
              "Apple              63    3.782540           6315\n",
              "Google             38    3.771053           4238\n",
              "Motorola          105    3.643810           9419\n",
              "Samsung           346    3.632659          37701\n",
              "OnePlus            10    3.580000            406\n",
              "Nokia              44    3.386364           6182"
            ]
          },
          "metadata": {
            "tags": []
          },
          "execution_count": 8
        }
      ]
    },
    {
      "cell_type": "markdown",
      "metadata": {
        "id": "yJXEk7wVV9_q",
        "colab_type": "text"
      },
      "source": [
        "## Reviews Dataset\n",
        "We have **67986 reviews** with **8 features**.  \n",
        "*rating* and *helpfulVotes* are **numerical**.  \n",
        "All other features are **strings**.\n",
        "\n",
        "*helpfulVotes* has a lot of NA's.  \n",
        "The other features have very few NA's.  \n",
        "\n",
        "40% of the reviews are for **Samsung**."
      ]
    },
    {
      "cell_type": "code",
      "metadata": {
        "id": "iwYOOw16WFvz",
        "colab_type": "code",
        "outputId": "a7c564b0-3a4c-413e-8d2a-9f459674c34d",
        "colab": {
          "base_uri": "https://localhost:8080/",
          "height": 179
        }
      },
      "source": [
        "reviews.dtypes"
      ],
      "execution_count": 0,
      "outputs": [
        {
          "output_type": "execute_result",
          "data": {
            "text/plain": [
              "asin             object\n",
              "name             object\n",
              "rating            int64\n",
              "date             object\n",
              "verified           bool\n",
              "title            object\n",
              "body             object\n",
              "helpfulVotes    float64\n",
              "dtype: object"
            ]
          },
          "metadata": {
            "tags": []
          },
          "execution_count": 16
        }
      ]
    },
    {
      "cell_type": "code",
      "metadata": {
        "id": "wAAniTzIWvg2",
        "colab_type": "code",
        "outputId": "16519711-2b6f-46bc-8af7-69f5e508eb02",
        "colab": {
          "base_uri": "https://localhost:8080/",
          "height": 179
        }
      },
      "source": [
        "reviews.isna().sum()"
      ],
      "execution_count": 0,
      "outputs": [
        {
          "output_type": "execute_result",
          "data": {
            "text/plain": [
              "asin                0\n",
              "name                2\n",
              "rating              0\n",
              "date                0\n",
              "verified            0\n",
              "title              14\n",
              "body               21\n",
              "helpfulVotes    40771\n",
              "dtype: int64"
            ]
          },
          "metadata": {
            "tags": []
          },
          "execution_count": 17
        }
      ]
    },
    {
      "cell_type": "code",
      "metadata": {
        "id": "-EreXKhfsIy0",
        "colab_type": "code",
        "outputId": "36d7e2bc-7c82-42ab-ff01-1b01261f8a79",
        "colab": {
          "base_uri": "https://localhost:8080/",
          "height": 35
        }
      },
      "source": [
        "reviews.shape"
      ],
      "execution_count": 0,
      "outputs": [
        {
          "output_type": "execute_result",
          "data": {
            "text/plain": [
              "(67986, 8)"
            ]
          },
          "metadata": {
            "tags": []
          },
          "execution_count": 21
        }
      ]
    },
    {
      "cell_type": "code",
      "metadata": {
        "id": "6or48gDFcut4",
        "colab_type": "code",
        "colab": {}
      },
      "source": [
        "#reviews.head(2)\n",
        "#reviews.loc[1,'body']\n",
        "#tb.TextBlob(reviews.loc[1,'title'])\n",
        "#tb.TextBlob(\"Text Messaging Doesn't Work\", analyzer=NaiveBayesAnalyzer()).sentiment"
      ],
      "execution_count": 0,
      "outputs": []
    },
    {
      "cell_type": "markdown",
      "metadata": {
        "id": "dbOayCrlWBfd",
        "colab_type": "text"
      },
      "source": [
        "## Merged Dataset\n",
        "\n",
        "The dataset pulled atleast 80% of data available at that time per brand. **Samsung**, **Motorola** and **Nokia** have 90+% data.  \n",
        "\n",
        "The highest deviation in ratings due to missing reviews is for OnePlus phones at 0.63. **Samsung**, **Motorola**, **Nokia** and **Apple** have less than 0.2 rating deviation.  \n",
        "\n",
        "We see a bi-modal distribution of ratings for all the brands which is also representative of the plot with all brands combined.  \n",
        "\n"
      ]
    },
    {
      "cell_type": "code",
      "metadata": {
        "id": "WB5Zk8GYOk1x",
        "colab_type": "code",
        "outputId": "ec7a26c3-2506-453c-f7d3-692796bf22bc",
        "colab": {
          "base_uri": "https://localhost:8080/",
          "height": 241
        }
      },
      "source": [
        "# Create a merged dataframe\n",
        "df = pd.merge(reviews, items, on='asin')\n",
        "\n",
        "# Find brand-wise summary\n",
        "df_brand = df.groupby('brand').agg({'asin':['count'], 'rating_x':['mean']}).reset_index()\n",
        "df_brand.columns = ['brand', 'reviews', 'avg_avlb_rating']\n",
        "df_brand = df_brand.sort_values(by='reviews',ascending=False)\n",
        "brand_summary = pd.merge(df_brand, item_brand, on='brand')\n",
        "brand_summary['data_ratio'] = brand_summary['reviews']/brand_summary['total_reviews']\n",
        "brand_summary['rating_dev'] = brand_summary['avg_avlb_rating'] - brand_summary['avg_rating']\n",
        "brand_summary.to_csv(\"brand_summary.csv\")\n",
        "brand_rating = pd.pivot_table(df, values='asin', index=['brand'], columns=['rating_x'], aggfunc='count')\n",
        "brand_rating.to_csv(\"brand_rating.csv\")\n",
        "# Run this only when you want to overwrite\n",
        "#!cp brand_rating.csv \"drive/My Drive/Amazon_Reviews/\"\n",
        "#!cp brand_summary.csv \"drive/My Drive/Amazon_Reviews/\"\n",
        "brand_summary"
      ],
      "execution_count": 0,
      "outputs": [
        {
          "output_type": "error",
          "ename": "NameError",
          "evalue": "ignored",
          "traceback": [
            "\u001b[0;31m---------------------------------------------------------------------------\u001b[0m",
            "\u001b[0;31mNameError\u001b[0m                                 Traceback (most recent call last)",
            "\u001b[0;32m<ipython-input-22-7cf9faa15b88>\u001b[0m in \u001b[0;36m<module>\u001b[0;34m()\u001b[0m\n\u001b[1;32m      5\u001b[0m \u001b[0mdf_brand\u001b[0m\u001b[0;34m.\u001b[0m\u001b[0mcolumns\u001b[0m \u001b[0;34m=\u001b[0m \u001b[0;34m[\u001b[0m\u001b[0;34m'brand'\u001b[0m\u001b[0;34m,\u001b[0m \u001b[0;34m'reviews'\u001b[0m\u001b[0;34m,\u001b[0m \u001b[0;34m'avg_avlb_rating'\u001b[0m\u001b[0;34m]\u001b[0m\u001b[0;34m\u001b[0m\u001b[0;34m\u001b[0m\u001b[0m\n\u001b[1;32m      6\u001b[0m \u001b[0mdf_brand\u001b[0m \u001b[0;34m=\u001b[0m \u001b[0mdf_brand\u001b[0m\u001b[0;34m.\u001b[0m\u001b[0msort_values\u001b[0m\u001b[0;34m(\u001b[0m\u001b[0mby\u001b[0m\u001b[0;34m=\u001b[0m\u001b[0;34m'reviews'\u001b[0m\u001b[0;34m,\u001b[0m\u001b[0mascending\u001b[0m\u001b[0;34m=\u001b[0m\u001b[0;32mFalse\u001b[0m\u001b[0;34m)\u001b[0m\u001b[0;34m\u001b[0m\u001b[0;34m\u001b[0m\u001b[0m\n\u001b[0;32m----> 7\u001b[0;31m \u001b[0mbrand_summary\u001b[0m \u001b[0;34m=\u001b[0m \u001b[0mpd\u001b[0m\u001b[0;34m.\u001b[0m\u001b[0mmerge\u001b[0m\u001b[0;34m(\u001b[0m\u001b[0mdf_brand\u001b[0m\u001b[0;34m,\u001b[0m \u001b[0mitem_brand\u001b[0m\u001b[0;34m,\u001b[0m \u001b[0mon\u001b[0m\u001b[0;34m=\u001b[0m\u001b[0;34m'brand'\u001b[0m\u001b[0;34m)\u001b[0m\u001b[0;34m\u001b[0m\u001b[0;34m\u001b[0m\u001b[0m\n\u001b[0m\u001b[1;32m      8\u001b[0m \u001b[0mbrand_summary\u001b[0m\u001b[0;34m[\u001b[0m\u001b[0;34m'data_ratio'\u001b[0m\u001b[0;34m]\u001b[0m \u001b[0;34m=\u001b[0m \u001b[0mbrand_summary\u001b[0m\u001b[0;34m[\u001b[0m\u001b[0;34m'reviews'\u001b[0m\u001b[0;34m]\u001b[0m\u001b[0;34m/\u001b[0m\u001b[0mbrand_summary\u001b[0m\u001b[0;34m[\u001b[0m\u001b[0;34m'total_reviews'\u001b[0m\u001b[0;34m]\u001b[0m\u001b[0;34m\u001b[0m\u001b[0;34m\u001b[0m\u001b[0m\n\u001b[1;32m      9\u001b[0m \u001b[0mbrand_summary\u001b[0m\u001b[0;34m[\u001b[0m\u001b[0;34m'rating_dev'\u001b[0m\u001b[0;34m]\u001b[0m \u001b[0;34m=\u001b[0m \u001b[0mbrand_summary\u001b[0m\u001b[0;34m[\u001b[0m\u001b[0;34m'avg_avlb_rating'\u001b[0m\u001b[0;34m]\u001b[0m \u001b[0;34m-\u001b[0m \u001b[0mbrand_summary\u001b[0m\u001b[0;34m[\u001b[0m\u001b[0;34m'avg_rating'\u001b[0m\u001b[0;34m]\u001b[0m\u001b[0;34m\u001b[0m\u001b[0;34m\u001b[0m\u001b[0m\n",
            "\u001b[0;31mNameError\u001b[0m: name 'item_brand' is not defined"
          ]
        }
      ]
    },
    {
      "cell_type": "code",
      "metadata": {
        "id": "LcHYfOST4HGw",
        "colab_type": "code",
        "outputId": "c077df6e-c094-4442-f9ef-fa76ba52f3a8",
        "colab": {
          "base_uri": "https://localhost:8080/",
          "height": 390
        }
      },
      "source": [
        "brand_rating"
      ],
      "execution_count": 0,
      "outputs": [
        {
          "output_type": "execute_result",
          "data": {
            "text/html": [
              "<div>\n",
              "<style scoped>\n",
              "    .dataframe tbody tr th:only-of-type {\n",
              "        vertical-align: middle;\n",
              "    }\n",
              "\n",
              "    .dataframe tbody tr th {\n",
              "        vertical-align: top;\n",
              "    }\n",
              "\n",
              "    .dataframe thead th {\n",
              "        text-align: right;\n",
              "    }\n",
              "</style>\n",
              "<table border=\"1\" class=\"dataframe\">\n",
              "  <thead>\n",
              "    <tr style=\"text-align: right;\">\n",
              "      <th>rating_x</th>\n",
              "      <th>1</th>\n",
              "      <th>2</th>\n",
              "      <th>3</th>\n",
              "      <th>4</th>\n",
              "      <th>5</th>\n",
              "    </tr>\n",
              "    <tr>\n",
              "      <th>brand</th>\n",
              "      <th></th>\n",
              "      <th></th>\n",
              "      <th></th>\n",
              "      <th></th>\n",
              "      <th></th>\n",
              "    </tr>\n",
              "  </thead>\n",
              "  <tbody>\n",
              "    <tr>\n",
              "      <th>ASUS</th>\n",
              "      <td>41</td>\n",
              "      <td>23</td>\n",
              "      <td>25</td>\n",
              "      <td>38</td>\n",
              "      <td>124</td>\n",
              "    </tr>\n",
              "    <tr>\n",
              "      <th>Apple</th>\n",
              "      <td>1191</td>\n",
              "      <td>243</td>\n",
              "      <td>322</td>\n",
              "      <td>545</td>\n",
              "      <td>2844</td>\n",
              "    </tr>\n",
              "    <tr>\n",
              "      <th>Google</th>\n",
              "      <td>883</td>\n",
              "      <td>286</td>\n",
              "      <td>267</td>\n",
              "      <td>435</td>\n",
              "      <td>1916</td>\n",
              "    </tr>\n",
              "    <tr>\n",
              "      <th>HUAWEI</th>\n",
              "      <td>246</td>\n",
              "      <td>63</td>\n",
              "      <td>124</td>\n",
              "      <td>268</td>\n",
              "      <td>1524</td>\n",
              "    </tr>\n",
              "    <tr>\n",
              "      <th>Motorola</th>\n",
              "      <td>1562</td>\n",
              "      <td>542</td>\n",
              "      <td>653</td>\n",
              "      <td>1310</td>\n",
              "      <td>4813</td>\n",
              "    </tr>\n",
              "    <tr>\n",
              "      <th>Nokia</th>\n",
              "      <td>1253</td>\n",
              "      <td>457</td>\n",
              "      <td>540</td>\n",
              "      <td>910</td>\n",
              "      <td>2755</td>\n",
              "    </tr>\n",
              "    <tr>\n",
              "      <th>OnePlus</th>\n",
              "      <td>46</td>\n",
              "      <td>6</td>\n",
              "      <td>13</td>\n",
              "      <td>45</td>\n",
              "      <td>237</td>\n",
              "    </tr>\n",
              "    <tr>\n",
              "      <th>Samsung</th>\n",
              "      <td>6646</td>\n",
              "      <td>1891</td>\n",
              "      <td>2292</td>\n",
              "      <td>4128</td>\n",
              "      <td>18672</td>\n",
              "    </tr>\n",
              "    <tr>\n",
              "      <th>Sony</th>\n",
              "      <td>511</td>\n",
              "      <td>259</td>\n",
              "      <td>280</td>\n",
              "      <td>496</td>\n",
              "      <td>1650</td>\n",
              "    </tr>\n",
              "    <tr>\n",
              "      <th>Xiaomi</th>\n",
              "      <td>334</td>\n",
              "      <td>126</td>\n",
              "      <td>222</td>\n",
              "      <td>615</td>\n",
              "      <td>3114</td>\n",
              "    </tr>\n",
              "  </tbody>\n",
              "</table>\n",
              "</div>"
            ],
            "text/plain": [
              "rating_x     1     2     3     4      5\n",
              "brand                                  \n",
              "ASUS        41    23    25    38    124\n",
              "Apple     1191   243   322   545   2844\n",
              "Google     883   286   267   435   1916\n",
              "HUAWEI     246    63   124   268   1524\n",
              "Motorola  1562   542   653  1310   4813\n",
              "Nokia     1253   457   540   910   2755\n",
              "OnePlus     46     6    13    45    237\n",
              "Samsung   6646  1891  2292  4128  18672\n",
              "Sony       511   259   280   496   1650\n",
              "Xiaomi     334   126   222   615   3114"
            ]
          },
          "metadata": {
            "tags": []
          },
          "execution_count": 14
        }
      ]
    },
    {
      "cell_type": "code",
      "metadata": {
        "id": "jFudd7JlACvG",
        "colab_type": "code",
        "outputId": "9ce2e942-bc0d-40ff-97ca-90243785ce5a",
        "colab": {
          "base_uri": "https://localhost:8080/",
          "height": 187
        }
      },
      "source": [
        "brand_rating = brand_rating.div(brand_rating.sum(axis=1), axis=0)\n",
        "brand_rating.plot(kind='bar', figsize=(10,8)).set_facecolor(\"white\");"
      ],
      "execution_count": 0,
      "outputs": [
        {
          "output_type": "error",
          "ename": "NameError",
          "evalue": "ignored",
          "traceback": [
            "\u001b[0;31m---------------------------------------------------------------------------\u001b[0m",
            "\u001b[0;31mNameError\u001b[0m                                 Traceback (most recent call last)",
            "\u001b[0;32m<ipython-input-23-4b8d3df81474>\u001b[0m in \u001b[0;36m<module>\u001b[0;34m()\u001b[0m\n\u001b[0;32m----> 1\u001b[0;31m \u001b[0mbrand_rating\u001b[0m \u001b[0;34m=\u001b[0m \u001b[0mbrand_rating\u001b[0m\u001b[0;34m.\u001b[0m\u001b[0mdiv\u001b[0m\u001b[0;34m(\u001b[0m\u001b[0mbrand_rating\u001b[0m\u001b[0;34m.\u001b[0m\u001b[0msum\u001b[0m\u001b[0;34m(\u001b[0m\u001b[0maxis\u001b[0m\u001b[0;34m=\u001b[0m\u001b[0;36m1\u001b[0m\u001b[0;34m)\u001b[0m\u001b[0;34m,\u001b[0m \u001b[0maxis\u001b[0m\u001b[0;34m=\u001b[0m\u001b[0;36m0\u001b[0m\u001b[0;34m)\u001b[0m\u001b[0;34m\u001b[0m\u001b[0;34m\u001b[0m\u001b[0m\n\u001b[0m\u001b[1;32m      2\u001b[0m \u001b[0mbrand_rating\u001b[0m\u001b[0;34m.\u001b[0m\u001b[0mplot\u001b[0m\u001b[0;34m(\u001b[0m\u001b[0mkind\u001b[0m\u001b[0;34m=\u001b[0m\u001b[0;34m'bar'\u001b[0m\u001b[0;34m,\u001b[0m \u001b[0mfigsize\u001b[0m\u001b[0;34m=\u001b[0m\u001b[0;34m(\u001b[0m\u001b[0;36m10\u001b[0m\u001b[0;34m,\u001b[0m\u001b[0;36m8\u001b[0m\u001b[0;34m)\u001b[0m\u001b[0;34m)\u001b[0m\u001b[0;34m.\u001b[0m\u001b[0mset_facecolor\u001b[0m\u001b[0;34m(\u001b[0m\u001b[0;34m\"white\"\u001b[0m\u001b[0;34m)\u001b[0m\u001b[0;34m;\u001b[0m\u001b[0;34m\u001b[0m\u001b[0;34m\u001b[0m\u001b[0m\n",
            "\u001b[0;31mNameError\u001b[0m: name 'brand_rating' is not defined"
          ]
        }
      ]
    },
    {
      "cell_type": "code",
      "metadata": {
        "id": "VIn_JDG1Lu4V",
        "colab_type": "code",
        "outputId": "73d14d87-6466-4994-8867-e3019d123f85",
        "colab": {
          "base_uri": "https://localhost:8080/",
          "height": 503
        }
      },
      "source": [
        "pd.DataFrame(df['rating_x'].value_counts()).reset_index().sort_values(by=\"index\").plot(kind=\"bar\", x=\"index\", figsize=(10,8)).set_facecolor(\"white\");"
      ],
      "execution_count": 0,
      "outputs": [
        {
          "output_type": "display_data",
          "data": {
            "image/png": "[encoded data removed]",
            "text/plain": [
              "<Figure size 720x576 with 1 Axes>"
            ]
          },
          "metadata": {
            "tags": []
          }
        }
      ]
    },
    {
      "cell_type": "markdown",
      "metadata": {
        "id": "qjXKIAL4g97V",
        "colab_type": "text"
      },
      "source": [
        "# Sentiment Analysis"
      ]
    },
    {
      "cell_type": "code",
      "metadata": {
        "id": "_5l5yTBhD2Ym",
        "colab_type": "code",
        "cellView": "form",
        "outputId": "584fe2ca-ecd3-4217-8fa2-05485886f104",
        "colab": {
          "base_uri": "https://localhost:8080/",
          "height": 36
        }
      },
      "source": [
        "#@title Review Data\n",
        "#@markdown Select the following option if you want to read the file that was already generated to save time. \\\n",
        "\n",
        "pick_from_drive = True #@param {type:\"boolean\"}\n",
        "if pick_from_drive:\n",
        "  file_id = '1-FKpLOlBGNMn8aclDygJ460dIJt-N9Q-'\n",
        "  downloaded = drive.CreateFile({'id': file_id})\n",
        "  downloaded.GetContentFile('df_reviews.csv')\n",
        "  df_reviews = pd.read_csv(\"df_reviews.csv\")\n",
        "  print(\"File read from drive\")\n",
        "else:\n",
        "  df_reviews = df[['body', 'brand']].reset_index()\n",
        "  df_reviews['body'] = df_reviews['body'].fillna(\"\")\n",
        "  df_reviews['word_count'] = 0\n",
        "  df_reviews['most_common'] = \"\"\n",
        "  df_reviews['common_count'] = 0\n",
        "  df_reviews['body_clean'] = \"\"\n",
        "  stop_words = set(stopwords.words(\"english\"))\n",
        "  for i in range(df_reviews.shape[0]):\n",
        "    #Pick reviews one-by-one\n",
        "    rev = df_reviews.iloc[i,1]\n",
        "    \n",
        "    # Make text lowercase, remove punctuation and remove words containing numbers\n",
        "    rev = rev.lower()\n",
        "    rev = rev.replace(\".\",\" .\")\n",
        "    rev = rev.replace(\"’\",\" ’\")\n",
        "    rev = re.sub(r'[%s]' % re.escape(string.punctuation), '', rev)\n",
        "    rev = re.sub(r'\\w*\\d\\w*', '', rev)\n",
        "\n",
        "    # Tokenize the review\n",
        "    tok_rev = word_tokenize(rev)\n",
        "    \n",
        "    #remove stop words\n",
        "    filtered_rev = []\n",
        "    for w in tok_rev:\n",
        "        if w not in stop_words:\n",
        "            filtered_rev.append(w)\n",
        "    \n",
        "    # store cleaned words\n",
        "    df_reviews.iloc[i,6] = ' '.join(filtered_rev)\n",
        "\n",
        "    #Compute number of words\n",
        "    df_reviews.iloc[i,3] = len(filtered_rev)\n",
        "    \n",
        "    #Find the most common word and its count\n",
        "    fdist = FreqDist(filtered_rev)\n",
        "    \n",
        "    if len(filtered_rev) > 1:\n",
        "        df_reviews.iloc[i,4] = fdist.most_common(1)[0][0]\n",
        "        df_reviews.iloc[i,5] = fdist.most_common(1)[0][1]\n",
        "    else:\n",
        "        df_reviews.iloc[i,4] = \"\"\n",
        "        df_reviews.iloc[i,5] = 0\n",
        "  df_reviews.head()\n",
        "  #df_reviews.to_csv(\"df_reviews.csv\")\n",
        "  #!cp df_reviews.csv \"drive/My Drive/Amazon_Reviews/\"\n",
        "#df_reviews['word_count'].mean()\n",
        "### example usage ###\n",
        "#tb.TextBlob(\"good is good\", analyzer=NaiveBayesAnalyzer()).sentiment\n",
        "#sent = \"good bad\"\n",
        "#analyzer = SentimentIntensityAnalyzer()\n",
        "#analyzer.polarity_scores(sent)['compound']\n",
        "\n",
        "#df_sent.to_csv(\"df_sent_0.csv\")\n",
        "#!cp df_sent_0.csv \"drive/My Drive/Amazon_Reviews/\""
      ],
      "execution_count": 0,
      "outputs": [
        {
          "output_type": "stream",
          "text": [
            "File read from drive\n"
          ],
          "name": "stdout"
        }
      ]
    },
    {
      "cell_type": "code",
      "metadata": {
        "id": "vrEzIuO1CvXo",
        "colab_type": "code",
        "cellView": "form",
        "outputId": "ebad4b89-f850-4f87-e6e3-d9fc7e47f4d6",
        "colab": {
          "base_uri": "https://localhost:8080/",
          "height": 36
        }
      },
      "source": [
        "#@title Sentiment Data\n",
        "\n",
        "pick_from_drive = True #@param {type:\"boolean\"}\n",
        "\n",
        "if pick_from_drive:\n",
        "  file_id = '1-hAZqHhS8pmiX3nJGV_WjQ_GG_cr9LRf'\n",
        "  downloaded = drive.CreateFile({'id': file_id})\n",
        "  downloaded.GetContentFile('df_sent_hybrid.csv')\n",
        "  df_sent = pd.read_csv(\"df_sent_hybrid.csv\")\n",
        "  print(\"File read from drive\")\n",
        "else:\n",
        "  # Create basic template of df for Sentiment Analysis\n",
        "  df_sent = df[['body', 'brand', 'rating_x']].reset_index()\n",
        "  df_sent['sent_tb'] = 0\n",
        "  df_sent['tb_p'] = 0\n",
        "  df_sent['tb_n'] = 0\n",
        "  df_sent['tbnb_p'] = 0\n",
        "  df_sent['tbnb_n'] = 0\n",
        "  df_sent['sent_vader'] = 0\n",
        "  df_sent['vader_p'] = 0\n",
        "  df_sent['vader_n'] = 0"
      ],
      "execution_count": 0,
      "outputs": [
        {
          "output_type": "stream",
          "text": [
            "File read from drive\n"
          ],
          "name": "stdout"
        }
      ]
    },
    {
      "cell_type": "code",
      "metadata": {
        "id": "0whKJPKyTtlj",
        "colab_type": "code",
        "cellView": "form",
        "outputId": "bfeff61f-1803-4432-adac-ad5b6ff4ba84",
        "colab": {
          "base_uri": "https://localhost:8080/",
          "height": 36
        }
      },
      "source": [
        "#@title Simple TextBlob Analyzer\n",
        "cutoff_sent =  0#@param {type:\"number\"}\n",
        "\n",
        "if pick_from_drive:\n",
        "  print(\"Data picked from drive\")\n",
        "else:\n",
        "  for i in range(df_sent.shape[0]):\n",
        "    #Pick a review\n",
        "    rev = str(df_sent.iloc[i,1])\n",
        "\n",
        "    # TextBlob Sentiment Analyzer\n",
        "    df_sent.iloc[i,4] = tb.TextBlob(rev).sentiment.polarity\n",
        "\n",
        "    # Pessimistic approach, neutral sentiment => bad review\n",
        "    if df_sent.iloc[i,4] > cutoff_sent:\n",
        "      df_sent.iloc[i,5] = 1\n",
        "    else:\n",
        "      df_sent.iloc[i,6] = 1"
      ],
      "execution_count": 0,
      "outputs": [
        {
          "output_type": "stream",
          "text": [
            "Data picked from drive\n"
          ],
          "name": "stdout"
        }
      ]
    },
    {
      "cell_type": "code",
      "metadata": {
        "id": "2zML1lU-K-LV",
        "colab_type": "code",
        "cellView": "form",
        "outputId": "147f7b17-f2bf-4a3e-9837-ea2f3d1446e2",
        "colab": {
          "base_uri": "https://localhost:8080/",
          "height": 374
        }
      },
      "source": [
        "#@title TextBlob Analyzer: NaiveBayesAnalyzer\n",
        "cutoff_sent = 0 #@param {type:\"number\"}\n",
        "\n",
        "if pick_from_drive:\n",
        "  print(\"Data picked from drive\")\n",
        "else:\n",
        "  for i in range(df_sent.shape[0]):\n",
        "    #Pick a review\n",
        "    rev = str(df_sent.iloc[i,1])\n",
        "\n",
        "    # TextBlob Sentiment Analyzer with Naive Bayes\n",
        "    tb_sent_class = tb.TextBlob(rev, analyzer=NaiveBayesAnalyzer()).sentiment.classification\n",
        "\n",
        "    # TextBlob with Naive Bayes Analyzer\n",
        "    if tb_sent_class == \"pos\":\n",
        "      df_sent.iloc[i,7] = 1\n",
        "    else:\n",
        "      df_sent.iloc[i,8] = 1"
      ],
      "execution_count": 0,
      "outputs": [
        {
          "output_type": "error",
          "ename": "KeyboardInterrupt",
          "evalue": "ignored",
          "traceback": [
            "\u001b[0;31m---------------------------------------------------------------------------\u001b[0m",
            "\u001b[0;31mKeyboardInterrupt\u001b[0m                         Traceback (most recent call last)",
            "\u001b[0;32m<ipython-input-20-c4912dce8648>\u001b[0m in \u001b[0;36m<module>\u001b[0;34m()\u001b[0m\n\u001b[1;32m      9\u001b[0m \u001b[0;34m\u001b[0m\u001b[0m\n\u001b[1;32m     10\u001b[0m     \u001b[0;31m# TextBlob Sentiment Analyzer with Naive Bayes\u001b[0m\u001b[0;34m\u001b[0m\u001b[0;34m\u001b[0m\u001b[0;34m\u001b[0m\u001b[0m\n\u001b[0;32m---> 11\u001b[0;31m     \u001b[0mtb_sent_class\u001b[0m \u001b[0;34m=\u001b[0m \u001b[0mtb\u001b[0m\u001b[0;34m.\u001b[0m\u001b[0mTextBlob\u001b[0m\u001b[0;34m(\u001b[0m\u001b[0mrev\u001b[0m\u001b[0;34m,\u001b[0m \u001b[0manalyzer\u001b[0m\u001b[0;34m=\u001b[0m\u001b[0mNaiveBayesAnalyzer\u001b[0m\u001b[0;34m(\u001b[0m\u001b[0;34m)\u001b[0m\u001b[0;34m)\u001b[0m\u001b[0;34m.\u001b[0m\u001b[0msentiment\u001b[0m\u001b[0;34m.\u001b[0m\u001b[0mclassification\u001b[0m\u001b[0;34m\u001b[0m\u001b[0;34m\u001b[0m\u001b[0m\n\u001b[0m\u001b[1;32m     12\u001b[0m \u001b[0;34m\u001b[0m\u001b[0m\n\u001b[1;32m     13\u001b[0m     \u001b[0;31m# TextBlob with Naive Bayes Analyzer\u001b[0m\u001b[0;34m\u001b[0m\u001b[0;34m\u001b[0m\u001b[0;34m\u001b[0m\u001b[0m\n",
            "\u001b[0;32m/usr/local/lib/python3.6/dist-packages/textblob/decorators.py\u001b[0m in \u001b[0;36m__get__\u001b[0;34m(self, obj, cls)\u001b[0m\n\u001b[1;32m     22\u001b[0m         \u001b[0;32mif\u001b[0m \u001b[0mobj\u001b[0m \u001b[0;32mis\u001b[0m \u001b[0;32mNone\u001b[0m\u001b[0;34m:\u001b[0m\u001b[0;34m\u001b[0m\u001b[0;34m\u001b[0m\u001b[0m\n\u001b[1;32m     23\u001b[0m             \u001b[0;32mreturn\u001b[0m \u001b[0mself\u001b[0m\u001b[0;34m\u001b[0m\u001b[0;34m\u001b[0m\u001b[0m\n\u001b[0;32m---> 24\u001b[0;31m         \u001b[0mvalue\u001b[0m \u001b[0;34m=\u001b[0m \u001b[0mobj\u001b[0m\u001b[0;34m.\u001b[0m\u001b[0m__dict__\u001b[0m\u001b[0;34m[\u001b[0m\u001b[0mself\u001b[0m\u001b[0;34m.\u001b[0m\u001b[0mfunc\u001b[0m\u001b[0;34m.\u001b[0m\u001b[0m__name__\u001b[0m\u001b[0;34m]\u001b[0m \u001b[0;34m=\u001b[0m \u001b[0mself\u001b[0m\u001b[0;34m.\u001b[0m\u001b[0mfunc\u001b[0m\u001b[0;34m(\u001b[0m\u001b[0mobj\u001b[0m\u001b[0;34m)\u001b[0m\u001b[0;34m\u001b[0m\u001b[0;34m\u001b[0m\u001b[0m\n\u001b[0m\u001b[1;32m     25\u001b[0m         \u001b[0;32mreturn\u001b[0m \u001b[0mvalue\u001b[0m\u001b[0;34m\u001b[0m\u001b[0;34m\u001b[0m\u001b[0m\n\u001b[1;32m     26\u001b[0m \u001b[0;34m\u001b[0m\u001b[0m\n",
            "\u001b[0;32m/usr/local/lib/python3.6/dist-packages/textblob/blob.py\u001b[0m in \u001b[0;36msentiment\u001b[0;34m(self)\u001b[0m\n\u001b[1;32m    430\u001b[0m         \u001b[0;34m:\u001b[0m\u001b[0mrtype\u001b[0m\u001b[0;34m:\u001b[0m \u001b[0mnamedtuple\u001b[0m \u001b[0mof\u001b[0m \u001b[0mthe\u001b[0m \u001b[0mform\u001b[0m\u001b[0;31m \u001b[0m\u001b[0;31m`\u001b[0m\u001b[0;31m`\u001b[0m\u001b[0mSentiment\u001b[0m\u001b[0;34m(\u001b[0m\u001b[0mpolarity\u001b[0m\u001b[0;34m,\u001b[0m \u001b[0msubjectivity\u001b[0m\u001b[0;34m)\u001b[0m\u001b[0;31m`\u001b[0m\u001b[0;31m`\u001b[0m\u001b[0;34m\u001b[0m\u001b[0;34m\u001b[0m\u001b[0m\n\u001b[1;32m    431\u001b[0m         \"\"\"\n\u001b[0;32m--> 432\u001b[0;31m         \u001b[0;32mreturn\u001b[0m \u001b[0mself\u001b[0m\u001b[0;34m.\u001b[0m\u001b[0manalyzer\u001b[0m\u001b[0;34m.\u001b[0m\u001b[0manalyze\u001b[0m\u001b[0;34m(\u001b[0m\u001b[0mself\u001b[0m\u001b[0;34m.\u001b[0m\u001b[0mraw\u001b[0m\u001b[0;34m)\u001b[0m\u001b[0;34m\u001b[0m\u001b[0;34m\u001b[0m\u001b[0m\n\u001b[0m\u001b[1;32m    433\u001b[0m \u001b[0;34m\u001b[0m\u001b[0m\n\u001b[1;32m    434\u001b[0m     \u001b[0;34m@\u001b[0m\u001b[0mcached_property\u001b[0m\u001b[0;34m\u001b[0m\u001b[0;34m\u001b[0m\u001b[0m\n",
            "\u001b[0;32m/usr/local/lib/python3.6/dist-packages/textblob/en/sentiments.py\u001b[0m in \u001b[0;36manalyze\u001b[0;34m(self, text)\u001b[0m\n\u001b[1;32m     86\u001b[0m         \"\"\"\n\u001b[1;32m     87\u001b[0m         \u001b[0;31m# Lazily train the classifier\u001b[0m\u001b[0;34m\u001b[0m\u001b[0;34m\u001b[0m\u001b[0;34m\u001b[0m\u001b[0m\n\u001b[0;32m---> 88\u001b[0;31m         \u001b[0msuper\u001b[0m\u001b[0;34m(\u001b[0m\u001b[0mNaiveBayesAnalyzer\u001b[0m\u001b[0;34m,\u001b[0m \u001b[0mself\u001b[0m\u001b[0;34m)\u001b[0m\u001b[0;34m.\u001b[0m\u001b[0manalyze\u001b[0m\u001b[0;34m(\u001b[0m\u001b[0mtext\u001b[0m\u001b[0;34m)\u001b[0m\u001b[0;34m\u001b[0m\u001b[0;34m\u001b[0m\u001b[0m\n\u001b[0m\u001b[1;32m     89\u001b[0m         \u001b[0mtokens\u001b[0m \u001b[0;34m=\u001b[0m \u001b[0mword_tokenize\u001b[0m\u001b[0;34m(\u001b[0m\u001b[0mtext\u001b[0m\u001b[0;34m,\u001b[0m \u001b[0minclude_punc\u001b[0m\u001b[0;34m=\u001b[0m\u001b[0;32mFalse\u001b[0m\u001b[0;34m)\u001b[0m\u001b[0;34m\u001b[0m\u001b[0;34m\u001b[0m\u001b[0m\n\u001b[1;32m     90\u001b[0m         \u001b[0mfiltered\u001b[0m \u001b[0;34m=\u001b[0m \u001b[0;34m(\u001b[0m\u001b[0mt\u001b[0m\u001b[0;34m.\u001b[0m\u001b[0mlower\u001b[0m\u001b[0;34m(\u001b[0m\u001b[0;34m)\u001b[0m \u001b[0;32mfor\u001b[0m \u001b[0mt\u001b[0m \u001b[0;32min\u001b[0m \u001b[0mtokens\u001b[0m \u001b[0;32mif\u001b[0m \u001b[0mlen\u001b[0m\u001b[0;34m(\u001b[0m\u001b[0mt\u001b[0m\u001b[0;34m)\u001b[0m \u001b[0;34m>=\u001b[0m \u001b[0;36m3\u001b[0m\u001b[0;34m)\u001b[0m\u001b[0;34m\u001b[0m\u001b[0;34m\u001b[0m\u001b[0m\n",
            "\u001b[0;32m/usr/local/lib/python3.6/dist-packages/textblob/base.py\u001b[0m in \u001b[0;36manalyze\u001b[0;34m(self, text)\u001b[0m\n\u001b[1;32m     92\u001b[0m         \u001b[0;31m# Lazily train the classifier\u001b[0m\u001b[0;34m\u001b[0m\u001b[0;34m\u001b[0m\u001b[0;34m\u001b[0m\u001b[0m\n\u001b[1;32m     93\u001b[0m         \u001b[0;32mif\u001b[0m \u001b[0;32mnot\u001b[0m \u001b[0mself\u001b[0m\u001b[0;34m.\u001b[0m\u001b[0m_trained\u001b[0m\u001b[0;34m:\u001b[0m\u001b[0;34m\u001b[0m\u001b[0;34m\u001b[0m\u001b[0m\n\u001b[0;32m---> 94\u001b[0;31m             \u001b[0mself\u001b[0m\u001b[0;34m.\u001b[0m\u001b[0mtrain\u001b[0m\u001b[0;34m(\u001b[0m\u001b[0;34m)\u001b[0m\u001b[0;34m\u001b[0m\u001b[0;34m\u001b[0m\u001b[0m\n\u001b[0m\u001b[1;32m     95\u001b[0m         \u001b[0;31m# Analyze text\u001b[0m\u001b[0;34m\u001b[0m\u001b[0;34m\u001b[0m\u001b[0;34m\u001b[0m\u001b[0m\n\u001b[1;32m     96\u001b[0m         \u001b[0;32mreturn\u001b[0m \u001b[0;32mNone\u001b[0m\u001b[0;34m\u001b[0m\u001b[0;34m\u001b[0m\u001b[0m\n",
            "\u001b[0;32m/usr/local/lib/python3.6/dist-packages/textblob/decorators.py\u001b[0m in \u001b[0;36mdecorated\u001b[0;34m(*args, **kwargs)\u001b[0m\n\u001b[1;32m     33\u001b[0m     \u001b[0;32mdef\u001b[0m \u001b[0mdecorated\u001b[0m\u001b[0;34m(\u001b[0m\u001b[0;34m*\u001b[0m\u001b[0margs\u001b[0m\u001b[0;34m,\u001b[0m \u001b[0;34m**\u001b[0m\u001b[0mkwargs\u001b[0m\u001b[0;34m)\u001b[0m\u001b[0;34m:\u001b[0m\u001b[0;34m\u001b[0m\u001b[0;34m\u001b[0m\u001b[0m\n\u001b[1;32m     34\u001b[0m         \u001b[0;32mtry\u001b[0m\u001b[0;34m:\u001b[0m\u001b[0;34m\u001b[0m\u001b[0;34m\u001b[0m\u001b[0m\n\u001b[0;32m---> 35\u001b[0;31m             \u001b[0;32mreturn\u001b[0m \u001b[0mfunc\u001b[0m\u001b[0;34m(\u001b[0m\u001b[0;34m*\u001b[0m\u001b[0margs\u001b[0m\u001b[0;34m,\u001b[0m \u001b[0;34m**\u001b[0m\u001b[0mkwargs\u001b[0m\u001b[0;34m)\u001b[0m\u001b[0;34m\u001b[0m\u001b[0;34m\u001b[0m\u001b[0m\n\u001b[0m\u001b[1;32m     36\u001b[0m         \u001b[0;32mexcept\u001b[0m \u001b[0mLookupError\u001b[0m \u001b[0;32mas\u001b[0m \u001b[0merr\u001b[0m\u001b[0;34m:\u001b[0m\u001b[0;34m\u001b[0m\u001b[0;34m\u001b[0m\u001b[0m\n\u001b[1;32m     37\u001b[0m             \u001b[0mprint\u001b[0m\u001b[0;34m(\u001b[0m\u001b[0merr\u001b[0m\u001b[0;34m)\u001b[0m\u001b[0;34m\u001b[0m\u001b[0;34m\u001b[0m\u001b[0m\n",
            "\u001b[0;32m/usr/local/lib/python3.6/dist-packages/textblob/en/sentiments.py\u001b[0m in \u001b[0;36mtrain\u001b[0;34m(self)\u001b[0m\n\u001b[1;32m     79\u001b[0m             nltk.corpus.movie_reviews.words(fileids=[f])), 'pos') for f in pos_ids]\n\u001b[1;32m     80\u001b[0m         \u001b[0mtrain_data\u001b[0m \u001b[0;34m=\u001b[0m \u001b[0mneg_feats\u001b[0m \u001b[0;34m+\u001b[0m \u001b[0mpos_feats\u001b[0m\u001b[0;34m\u001b[0m\u001b[0;34m\u001b[0m\u001b[0m\n\u001b[0;32m---> 81\u001b[0;31m         \u001b[0mself\u001b[0m\u001b[0;34m.\u001b[0m\u001b[0m_classifier\u001b[0m \u001b[0;34m=\u001b[0m \u001b[0mnltk\u001b[0m\u001b[0;34m.\u001b[0m\u001b[0mclassify\u001b[0m\u001b[0;34m.\u001b[0m\u001b[0mNaiveBayesClassifier\u001b[0m\u001b[0;34m.\u001b[0m\u001b[0mtrain\u001b[0m\u001b[0;34m(\u001b[0m\u001b[0mtrain_data\u001b[0m\u001b[0;34m)\u001b[0m\u001b[0;34m\u001b[0m\u001b[0;34m\u001b[0m\u001b[0m\n\u001b[0m\u001b[1;32m     82\u001b[0m \u001b[0;34m\u001b[0m\u001b[0m\n\u001b[1;32m     83\u001b[0m     \u001b[0;32mdef\u001b[0m \u001b[0manalyze\u001b[0m\u001b[0;34m(\u001b[0m\u001b[0mself\u001b[0m\u001b[0;34m,\u001b[0m \u001b[0mtext\u001b[0m\u001b[0;34m)\u001b[0m\u001b[0;34m:\u001b[0m\u001b[0;34m\u001b[0m\u001b[0;34m\u001b[0m\u001b[0m\n",
            "\u001b[0;32m/usr/local/lib/python3.6/dist-packages/nltk/classify/naivebayes.py\u001b[0m in \u001b[0;36mtrain\u001b[0;34m(cls, labeled_featuresets, estimator)\u001b[0m\n\u001b[1;32m    196\u001b[0m             \u001b[0;32mfor\u001b[0m \u001b[0mfname\u001b[0m\u001b[0;34m,\u001b[0m \u001b[0mfval\u001b[0m \u001b[0;32min\u001b[0m \u001b[0mfeatureset\u001b[0m\u001b[0;34m.\u001b[0m\u001b[0mitems\u001b[0m\u001b[0;34m(\u001b[0m\u001b[0;34m)\u001b[0m\u001b[0;34m:\u001b[0m\u001b[0;34m\u001b[0m\u001b[0;34m\u001b[0m\u001b[0m\n\u001b[1;32m    197\u001b[0m                 \u001b[0;31m# Increment freq(fval|label, fname)\u001b[0m\u001b[0;34m\u001b[0m\u001b[0;34m\u001b[0m\u001b[0;34m\u001b[0m\u001b[0m\n\u001b[0;32m--> 198\u001b[0;31m                 \u001b[0mfeature_freqdist\u001b[0m\u001b[0;34m[\u001b[0m\u001b[0mlabel\u001b[0m\u001b[0;34m,\u001b[0m \u001b[0mfname\u001b[0m\u001b[0;34m]\u001b[0m\u001b[0;34m[\u001b[0m\u001b[0mfval\u001b[0m\u001b[0;34m]\u001b[0m \u001b[0;34m+=\u001b[0m \u001b[0;36m1\u001b[0m\u001b[0;34m\u001b[0m\u001b[0;34m\u001b[0m\u001b[0m\n\u001b[0m\u001b[1;32m    199\u001b[0m                 \u001b[0;31m# Record that fname can take the value fval.\u001b[0m\u001b[0;34m\u001b[0m\u001b[0;34m\u001b[0m\u001b[0;34m\u001b[0m\u001b[0m\n\u001b[1;32m    200\u001b[0m                 \u001b[0mfeature_values\u001b[0m\u001b[0;34m[\u001b[0m\u001b[0mfname\u001b[0m\u001b[0;34m]\u001b[0m\u001b[0;34m.\u001b[0m\u001b[0madd\u001b[0m\u001b[0;34m(\u001b[0m\u001b[0mfval\u001b[0m\u001b[0;34m)\u001b[0m\u001b[0;34m\u001b[0m\u001b[0;34m\u001b[0m\u001b[0m\n",
            "\u001b[0;31mKeyboardInterrupt\u001b[0m: "
          ]
        }
      ]
    },
    {
      "cell_type": "code",
      "metadata": {
        "id": "R6DCq4kMLSe3",
        "colab_type": "code",
        "cellView": "form",
        "outputId": "0fb09bfb-8a42-4066-f76f-25cae6eae64c",
        "colab": {
          "base_uri": "https://localhost:8080/",
          "height": 36
        }
      },
      "source": [
        "#@title VADER Analyzer\n",
        "cutoff_sent =  0#@param {type:\"number\"}\n",
        "\n",
        "if pick_from_drive:\n",
        "  print(\"Data picked from drive\")\n",
        "else:\n",
        "  for i in range(df_sent.shape[0]):\n",
        "    # Pick a review\n",
        "    rev = str(df_sent.iloc[i,1])\n",
        "    rating = df_sent.iloc[i,3]\n",
        "\n",
        "    # VADER Sentiment Analyzer\n",
        "    analyzer = SentimentIntensityAnalyzer()\n",
        "    vs = analyzer.polarity_scores(rev)\n",
        "    score = vs['compound']\n",
        "    df_sent.iloc[i,9] = score\n",
        "\n",
        "    if score >= cutoff_sent:\n",
        "      df_sent.iloc[i,10] = 1\n",
        "    else:\n",
        "      df_sent.iloc[i,11] = 1\n",
        "  #df_sent.to_csv(\"df_sent_hybrid.csv\")\n",
        "  #!cp df_sent_hybrid.csv \"drive/My Drive/Amazon_Reviews/\"\n",
        "  #pd.concat([df_reviews, df['rating_x']], axis=1)"
      ],
      "execution_count": 0,
      "outputs": [
        {
          "output_type": "stream",
          "text": [
            "Data picked from drive\n"
          ],
          "name": "stdout"
        }
      ]
    },
    {
      "cell_type": "code",
      "metadata": {
        "id": "qpyj-iCeWEqT",
        "colab_type": "code",
        "cellView": "form",
        "outputId": "5a8b9062-c052-4003-91d0-b86ed2c0e0dc",
        "colab": {
          "base_uri": "https://localhost:8080/",
          "height": 363
        }
      },
      "source": [
        "#@title Brand-wise Sentiments\n",
        "review_sentiment = df_sent.groupby('brand').agg({'sent_tb':['mean'], \n",
        "                                                 'tb_p':['sum'],\n",
        "                                                 'tb_n':['sum'],\n",
        "                                                 'sent_vader':['mean'],\n",
        "                                                 'vader_p':['sum'],\n",
        "                                                 'vader_n':['sum']}).reset_index()\n",
        "review_sentiment.columns = ['brand', 'avg_sent_tb', 'tb_p', 'tb_n', 'avg_sent_vader', 'vader_p', 'vader_n']\n",
        "review_sentiment"
      ],
      "execution_count": 0,
      "outputs": [
        {
          "output_type": "execute_result",
          "data": {
            "text/html": [
              "<div>\n",
              "<style scoped>\n",
              "    .dataframe tbody tr th:only-of-type {\n",
              "        vertical-align: middle;\n",
              "    }\n",
              "\n",
              "    .dataframe tbody tr th {\n",
              "        vertical-align: top;\n",
              "    }\n",
              "\n",
              "    .dataframe thead th {\n",
              "        text-align: right;\n",
              "    }\n",
              "</style>\n",
              "<table border=\"1\" class=\"dataframe\">\n",
              "  <thead>\n",
              "    <tr style=\"text-align: right;\">\n",
              "      <th></th>\n",
              "      <th>brand</th>\n",
              "      <th>avg_sent_tb</th>\n",
              "      <th>tb_p</th>\n",
              "      <th>tb_n</th>\n",
              "      <th>avg_sent_vader</th>\n",
              "      <th>vader_p</th>\n",
              "      <th>vader_n</th>\n",
              "    </tr>\n",
              "  </thead>\n",
              "  <tbody>\n",
              "    <tr>\n",
              "      <th>0</th>\n",
              "      <td>ASUS</td>\n",
              "      <td>0.253001</td>\n",
              "      <td>198</td>\n",
              "      <td>53</td>\n",
              "      <td>0.450343</td>\n",
              "      <td>204</td>\n",
              "      <td>47</td>\n",
              "    </tr>\n",
              "    <tr>\n",
              "      <th>1</th>\n",
              "      <td>Apple</td>\n",
              "      <td>0.238408</td>\n",
              "      <td>3377</td>\n",
              "      <td>1768</td>\n",
              "      <td>0.303738</td>\n",
              "      <td>4045</td>\n",
              "      <td>1100</td>\n",
              "    </tr>\n",
              "    <tr>\n",
              "      <th>2</th>\n",
              "      <td>Google</td>\n",
              "      <td>0.243897</td>\n",
              "      <td>2904</td>\n",
              "      <td>883</td>\n",
              "      <td>0.371158</td>\n",
              "      <td>2896</td>\n",
              "      <td>891</td>\n",
              "    </tr>\n",
              "    <tr>\n",
              "      <th>3</th>\n",
              "      <td>HUAWEI</td>\n",
              "      <td>0.301263</td>\n",
              "      <td>1624</td>\n",
              "      <td>601</td>\n",
              "      <td>0.456779</td>\n",
              "      <td>1921</td>\n",
              "      <td>304</td>\n",
              "    </tr>\n",
              "    <tr>\n",
              "      <th>4</th>\n",
              "      <td>Motorola</td>\n",
              "      <td>0.271063</td>\n",
              "      <td>6742</td>\n",
              "      <td>2138</td>\n",
              "      <td>0.405286</td>\n",
              "      <td>7232</td>\n",
              "      <td>1648</td>\n",
              "    </tr>\n",
              "    <tr>\n",
              "      <th>5</th>\n",
              "      <td>Nokia</td>\n",
              "      <td>0.237997</td>\n",
              "      <td>4333</td>\n",
              "      <td>1582</td>\n",
              "      <td>0.373347</td>\n",
              "      <td>4631</td>\n",
              "      <td>1284</td>\n",
              "    </tr>\n",
              "    <tr>\n",
              "      <th>6</th>\n",
              "      <td>OnePlus</td>\n",
              "      <td>0.294085</td>\n",
              "      <td>281</td>\n",
              "      <td>66</td>\n",
              "      <td>0.488430</td>\n",
              "      <td>296</td>\n",
              "      <td>51</td>\n",
              "    </tr>\n",
              "    <tr>\n",
              "      <th>7</th>\n",
              "      <td>Samsung</td>\n",
              "      <td>0.276568</td>\n",
              "      <td>24076</td>\n",
              "      <td>9553</td>\n",
              "      <td>0.361681</td>\n",
              "      <td>27019</td>\n",
              "      <td>6610</td>\n",
              "    </tr>\n",
              "    <tr>\n",
              "      <th>8</th>\n",
              "      <td>Sony</td>\n",
              "      <td>0.268844</td>\n",
              "      <td>2526</td>\n",
              "      <td>670</td>\n",
              "      <td>0.447593</td>\n",
              "      <td>2581</td>\n",
              "      <td>615</td>\n",
              "    </tr>\n",
              "    <tr>\n",
              "      <th>9</th>\n",
              "      <td>Xiaomi</td>\n",
              "      <td>0.280397</td>\n",
              "      <td>2921</td>\n",
              "      <td>1490</td>\n",
              "      <td>0.396646</td>\n",
              "      <td>3798</td>\n",
              "      <td>613</td>\n",
              "    </tr>\n",
              "  </tbody>\n",
              "</table>\n",
              "</div>"
            ],
            "text/plain": [
              "      brand  avg_sent_tb   tb_p  tb_n  avg_sent_vader  vader_p  vader_n\n",
              "0      ASUS     0.253001    198    53        0.450343      204       47\n",
              "1     Apple     0.238408   3377  1768        0.303738     4045     1100\n",
              "2    Google     0.243897   2904   883        0.371158     2896      891\n",
              "3    HUAWEI     0.301263   1624   601        0.456779     1921      304\n",
              "4  Motorola     0.271063   6742  2138        0.405286     7232     1648\n",
              "5     Nokia     0.237997   4333  1582        0.373347     4631     1284\n",
              "6   OnePlus     0.294085    281    66        0.488430      296       51\n",
              "7   Samsung     0.276568  24076  9553        0.361681    27019     6610\n",
              "8      Sony     0.268844   2526   670        0.447593     2581      615\n",
              "9    Xiaomi     0.280397   2921  1490        0.396646     3798      613"
            ]
          },
          "metadata": {
            "tags": []
          },
          "execution_count": 8
        }
      ]
    },
    {
      "cell_type": "code",
      "metadata": {
        "id": "YeFr1n30BncT",
        "colab_type": "code",
        "cellView": "form",
        "colab": {}
      },
      "source": [
        "#@title Ratings Summary\n",
        "\n",
        "text = \"body\" #@param {type:\"string\"} ['title', 'body']\n",
        "cutoff = \"hybrid\" #@param {type:\"string\"} ['0', '0.5', 'hybrid']\n",
        "\n",
        "def pivot_ratings(df):\n",
        "  return pd.pivot_table(df, values='index', index=['vader_p'], columns=['rating_x'], aggfunc='count')\n",
        "\n",
        "if text == \"body\":\n",
        "  if cutoff == \"0/5\":\n",
        "    filename = \"df_sent_0pt5.csv\"\n",
        "  else:\n",
        "    filename = \"df_sent_\"+cutoff+\".csv\"\n",
        "else:\n",
        "  if cutoff == \"0.5\":\n",
        "    filename = \"df_sent_title_0pt5.csv\"\n",
        "  else:\n",
        "    if cutoff == \"hybrid\":\n",
        "      filename = \"df_sent_hybrid.csv\"\n",
        "      print(\"No data for hybrid title defaulting to df_sent_hybrid.csv\")\n",
        "    else:\n",
        "      filename = \"df_sent_title\"+cutoff+\".csv\"\n",
        "data = pd.read_csv(\"/content/drive/My Drive/Amazon_Reviews/\"+filename)\n",
        "pivot_ratings(data)"
      ],
      "execution_count": 0,
      "outputs": []
    },
    {
      "cell_type": "code",
      "metadata": {
        "id": "q3cOX2FNyS0v",
        "colab_type": "code",
        "cellView": "form",
        "colab": {}
      },
      "source": [
        "#@title Classification tables\n",
        "sentiment = \"negative\" #@param {type:\"string\"} ['positive', 'negative']\n",
        "rating = \"4 or 5\" #@param {type:\"string\"} ['1 or 2', '3', '4 or 5']\n",
        "package = \"VADER\" #@param {type:\"string\"} ['VADER', 'TextBlob']\n",
        "brand = \"Samsung\" #@param {type:\"string\"} ['Motorola', 'Nokia', 'Samsung', 'HUAWEI', 'Sony', 'Apple', 'Google', 'ASUS', 'OnePlus', 'Xiaomi']\n",
        "\n",
        "temp_df = pd.DataFrame()\n",
        "if package == \"VADER\":\n",
        "  if sentiment == \"positive\":\n",
        "    if rating == \"1 or 2\":\n",
        "      temp_df = df_sent[(df_sent['vader_p'] == 1) & (df_sent['rating_x'] < 3)]\n",
        "    elif rating == \"3\":\n",
        "      temp_df = df_sent[(df_sent['vader_p'] == 1) & (df_sent['rating_x'] == 3)]\n",
        "    else:\n",
        "      temp_df = df_sent[(df_sent['vader_p'] == 1) & (df_sent['rating_x'] > 3)]\n",
        "  else:\n",
        "    if rating == \"1 or 2\":\n",
        "      temp_df = df_sent[(df_sent['vader_n'] == 1) & (df_sent['rating_x'] < 3)]\n",
        "    elif rating == \"3\":\n",
        "      temp_df = df_sent[(df_sent['vader_n'] == 1) & (df_sent['rating_x'] == 3)]\n",
        "    else:\n",
        "      temp_df = df_sent[(df_sent['vader_n'] == 1) & (df_sent['rating_x'] > 3)]\n",
        "else:\n",
        "  if sentiment == \"positive\":\n",
        "    if rating == \"1 or 2\":\n",
        "      temp_df = df_sent[(df_sent['tb_p'] == 1) & (df_sent['rating_x'] < 3)]\n",
        "    elif rating == \"3\":\n",
        "      temp_df = df_sent[(df_sent['tb_p'] == 1) & (df_sent['rating_x'] == 3)]\n",
        "    else:\n",
        "      temp_df = df_sent[(df_sent['tb_p'] == 1) & (df_sent['rating_x'] > 3)]\n",
        "  else:\n",
        "    if rating == \"1 or 2\":\n",
        "      temp_df = df_sent[(df_sent['tb_n'] == 1) & (df_sent['rating_x'] < 3)]\n",
        "    elif rating == \"3\":\n",
        "      temp_df = df_sent[(df_sent['tb_n'] == 1) & (df_sent['rating_x'] == 3)]\n",
        "    else:\n",
        "      temp_df = df_sent[(df_sent['tb_n'] == 1) & (df_sent['rating_x'] > 3)]\n",
        "temp_df[temp_df['brand']==brand]"
      ],
      "execution_count": 0,
      "outputs": []
    },
    {
      "cell_type": "markdown",
      "metadata": {
        "id": "PSSJ4Sa1b73v",
        "colab_type": "text"
      },
      "source": [
        "# Topic Modeling"
      ]
    },
    {
      "cell_type": "code",
      "metadata": {
        "id": "ocL_1lPYEiqH",
        "colab_type": "code",
        "cellView": "form",
        "outputId": "a38b6ce7-62b1-4883-9f97-f784f96298dd",
        "colab": {
          "base_uri": "https://localhost:8080/",
          "height": 35
        }
      },
      "source": [
        "#@title Import data for Topic Modeling\n",
        "pick_from_drive = True #@param {type:\"boolean\"}\n",
        "\n",
        "if pick_from_drive:\n",
        "  file_id = '1-hAZqHhS8pmiX3nJGV_WjQ_GG_cr9LRf'\n",
        "  downloaded = drive.CreateFile({'id': file_id})\n",
        "  downloaded.GetContentFile('df_sent_hybrid.csv')\n",
        "  topic_df = pd.read_csv(\"df_sent_hybrid.csv\")\n",
        "  topic_df['brand'] = topic_df['brand'].astype(str)\n",
        "  print(\"Data imported from Drive\")\n",
        "else:\n",
        "  print(\"Using current session Data\")"
      ],
      "execution_count": 0,
      "outputs": [
        {
          "output_type": "stream",
          "text": [
            "Data imported from Drive\n"
          ],
          "name": "stdout"
        }
      ]
    },
    {
      "cell_type": "code",
      "metadata": {
        "id": "d4wZYNZgcgAO",
        "colab_type": "code",
        "cellView": "form",
        "colab": {}
      },
      "source": [
        "#@title Select Brand & Sentiment\n",
        "brand = \"Xiaomi\" #@param {type:\"string\"} ['Motorola', 'Nokia', 'Samsung', 'HUAWEI', 'Sony', 'Apple', 'Google', 'ASUS', 'OnePlus', 'Xiaomi']\n",
        "sentiment_topic = \"positive\" #@param {type:\"string\"} ['negative', 'positive']\n",
        "\n",
        "# Subset brand data\n",
        "topic_df_brand = topic_df[topic_df['brand']==brand]\n",
        "topic_df_brand = topic_df_brand.astype({'body': 'str'})\n",
        "\n",
        "# Filter Positive Reviews\n",
        "if sentiment_topic == \"positive\":\n",
        "  vader_sentiment = topic_df_brand['sent_vader']\n",
        "  rating = topic_df_brand['rating_x']\n",
        "  # Pick the REALLY good sentiment in bad rated review\n",
        "  brand_neg = topic_df_brand[((topic_df_brand['vader_p']==1) & (topic_df_brand['rating_x']!=1)) |\n",
        "                             ((topic_df_brand['sent_vader']>=0.75) & (topic_df_brand['rating_x']==1))]\n",
        "\n",
        "# Filter Negative Review\n",
        "else:\n",
        "  brand_neg = topic_df_brand[(((topic_df_brand['vader_n']==1) & (topic_df_brand['rating_x']!=5)) |\n",
        "                             ((topic_df_brand['sent_vader']<=-0.75) & (topic_df_brand['rating_x']==5)))]"
      ],
      "execution_count": 0,
      "outputs": []
    },
    {
      "cell_type": "code",
      "metadata": {
        "id": "l_BA4MSzYrnP",
        "colab_type": "code",
        "cellView": "form",
        "colab": {}
      },
      "source": [
        "#@title Clean data module\n",
        "keywords = topic_df[\"brand\"].apply(lambda x: x.lower()).unique().tolist()\n",
        "keywords.append(\"phone\")\n",
        "keywords.append(\"iphone\")\n",
        "lemma = WordNetLemmatizer()\n",
        "spacy_stopwords = spacy.lang.en.stop_words.STOP_WORDS\n",
        "def clean_text(text):\n",
        "    # Convert the text into lowercase\n",
        "    lower = text.lower()\n",
        "    # Split into list\n",
        "    wordList = lower.split()\n",
        "    # Remove punctuation\n",
        "    wordList_punc = [\"\".join(i for i in word if (i==\"'\")|(i not in string.punctuation)) for word in wordList]\n",
        "    # Remove stopwords\n",
        "    wordList_stop = [word for word in wordList_punc if word not in list(spacy_stopwords)]\n",
        "    # Remove other keywords\n",
        "    wordList_key = [word for word in wordList_stop if word not in keywords]\n",
        "    # Stemming\n",
        "    #words_stemmed= [stemmer.stem(word) for word in wordList_key]\n",
        "    # Lemmatisation\n",
        "    #lemma_word = nlp(wordList)\n",
        "    wordList_clean = [lemma.lemmatize(word) for word in wordList_key]\n",
        "    #wordList = [word.lemma_ for word in wordList]\n",
        "    return \" \".join(wordList_clean)\n",
        "\n",
        "#dtm = cv.fit_transform(topic_df[\"body\"])\n",
        "#common_words_bigrams = get_top_n_bigram(topic_df_Apple_neg['body'])\n",
        "#bigrams_list = [a_tuple[0] for a_tuple in common_words_bigrams]"
      ],
      "execution_count": 0,
      "outputs": []
    },
    {
      "cell_type": "code",
      "metadata": {
        "colab_type": "code",
        "id": "BPInCqDXrBe2",
        "cellView": "form",
        "outputId": "a035e57f-9c81-47a4-fff6-585a95efafd5",
        "colab": {
          "base_uri": "https://localhost:8080/",
          "height": 331
        }
      },
      "source": [
        "#@title Gensim\n",
        "import numpy\n",
        "warnings.filterwarnings(\"ignore\", category=DeprecationWarning)\n",
        "\n",
        "# Stop Words\n",
        "custom_stop_words = stopwords.words('english')\n",
        "custom_stop_words.extend(['phone','from', 'subject', 're', 'edu', 'use', 'not', 'would', 'say', 'could', '_', 'be', 'know', 'good', 'go', 'get', 'do', 'done', 'try', 'many', 'some', 'nice', 'thank', 'think', 'see', 'rather', 'easy', 'easily', 'lot', 'lack', 'make', 'want', 'seem', 'run', 'need', 'even', 'right', 'line', 'even', 'also', 'may', 'take', 'come'])\n",
        "\n",
        "# Common keyowords\n",
        "keywords = topic_df[\"brand\"].apply(lambda x: x.lower()).unique().tolist()\n",
        "keywords.append(\"phone\")\n",
        "keywords.append(\"iphone\")\n",
        "keywords.append(\"ipad\")\n",
        "\n",
        "def sent_to_words(sentences):\n",
        "    for sent in sentences:\n",
        "        sent = re.sub(r'\\S*@\\S*\\s?', '', sent)  # remove emails\n",
        "        sent = re.sub(r'\\s+', ' ', sent)  # remove newline chars\n",
        "        sent = re.sub(r\"\\'\", \"\", sent)  # remove single quotes\n",
        "        sent = gensim.utils.simple_preprocess(str(sent), deacc=True)\n",
        "        yield(sent)\n",
        "\n",
        "def process_words(texts, stop_words=custom_stop_words, allowed_postags=['NOUN', 'ADJ', 'VERB', 'ADV']):\n",
        "    texts = [[word for word in simple_preprocess(str(doc)) if word not in stop_words] for doc in texts]\n",
        "    texts = [bigram_mod[doc] for doc in texts]\n",
        "    texts = [trigram_mod[bigram_mod[doc]] for doc in texts]\n",
        "    texts_out = []\n",
        "    nlp = spacy.load('en', disable=['parser', 'ner'])\n",
        "    for sent in texts:\n",
        "        doc = nlp(\" \".join(sent)) \n",
        "        texts_out.append([token.lemma_ for token in doc if token.pos_ in allowed_postags])\n",
        "    # remove stopwords once more after lemmatization\n",
        "    texts_out = [[word for word in simple_preprocess(str(doc)) if word not in stop_words] for doc in texts_out]   \n",
        "    # Remove other keywords\n",
        "    texts_out = [[word for word in simple_preprocess(str(doc)) if word not in keywords] for doc in texts_out]\n",
        "    return texts_out\n",
        "\n",
        "# Convert to list\n",
        "data = brand_neg.body.values.tolist()\n",
        "data_words = list(sent_to_words(data))\n",
        "\n",
        "# Build the bigram and trigram models\n",
        "bigram = gensim.models.Phrases(data_words, min_count=5, threshold=100) # higher threshold fewer phrases.\n",
        "trigram = gensim.models.Phrases(bigram[data_words], threshold=100)  \n",
        "bigram_mod = gensim.models.phrases.Phraser(bigram)\n",
        "trigram_mod = gensim.models.phrases.Phraser(trigram)\n",
        "\n",
        "data_ready = process_words(data_words)\n",
        "\n",
        "num_topics =  8#@param {type:\"integer\"}\n",
        "\n",
        "# Create Dictionary\n",
        "id2word = corpora.Dictionary(data_ready)\n",
        "\n",
        "# Create Corpus: Term Document Frequency using BOW model\n",
        "corpus = [id2word.doc2bow(text) for text in data_ready]\n",
        "\n",
        "#Using Tfidf - replace corpus with corpus_tfidf\n",
        "from gensim import corpora, models\n",
        "#tfidf = models.TfidfModel(corpus)\n",
        "#corpus_tfidf = tfidf[corpus]\n",
        "\n",
        "#corpus = [id2word.doc2bow(text) for text in data_ready]\n",
        "# Build LDA model\n",
        "#Nmf(corpus_tfidf, num_topics=50, kappa=0.1, eval_every=5) #NMF\n",
        "lda_model = gensim.models.ldamodel.LdaModel(\n",
        "                corpus=corpus,\n",
        "                id2word=id2word,\n",
        "                num_topics=num_topics, \n",
        "                random_state=100,\n",
        "                update_every=1,\n",
        "                chunksize=10,\n",
        "                passes=10,\n",
        "                alpha='symmetric',\n",
        "                iterations=100,\n",
        "                per_word_topics=True)\n",
        "\n",
        "def format_topics_sentences(ldamodel=None, corpus=corpus, texts=data):\n",
        "  # Init output\n",
        "  sent_topics_df = pd.DataFrame()\n",
        "\n",
        "  # Get main topic in each document\n",
        "  for i, row_list in enumerate(ldamodel[corpus]):\n",
        "    row = row_list[0] if ldamodel.per_word_topics else row_list            \n",
        "    # print(row)\n",
        "    row = sorted(row, key=lambda x: (x[1]), reverse=True)\n",
        "    # Get the Dominant topic, Perc Contribution and Keywords for each document\n",
        "    for j, (topic_num, prop_topic) in enumerate(row):\n",
        "      if j == 0:  # => dominant topic\n",
        "        wp = ldamodel.show_topic(topic_num)\n",
        "        topic_keywords = \", \".join([word for word, prop in wp])\n",
        "        sent_topics_df = sent_topics_df.append(pd.Series([int(topic_num), round(prop_topic,4), topic_keywords]), ignore_index=True)\n",
        "      else:\n",
        "        break\n",
        "  sent_topics_df.columns = ['Dominant_Topic', 'Perc_Contribution', 'Topic_Keywords']\n",
        "\n",
        "  # Add original text to the end of the output\n",
        "  contents = pd.Series(texts)\n",
        "  sent_topics_df = pd.concat([sent_topics_df, contents], axis=1)\n",
        "  return(sent_topics_df)\n",
        "\n",
        "df_topic_sents_keywords = format_topics_sentences(ldamodel=lda_model, corpus=corpus, texts=data_ready)\n",
        "\n",
        "# Format\n",
        "df_dominant_topic = df_topic_sents_keywords.reset_index()\n",
        "df_dominant_topic.columns = ['Document_No', 'Dominant_Topic', 'Topic_Perc_Contrib', 'Keywords', 'Text']\n",
        "\n",
        "# Display setting to show more characters in column\n",
        "pd.options.display.max_colwidth = 100\n",
        "\n",
        "sent_topics_sorteddf_mallet = pd.DataFrame()\n",
        "sent_topics_outdf_grpd = df_topic_sents_keywords.groupby('Dominant_Topic')\n",
        "\n",
        "for i, grp in sent_topics_outdf_grpd:\n",
        "  sent_topics_sorteddf_mallet = pd.concat([sent_topics_sorteddf_mallet, \n",
        "                                          grp.sort_values(['Perc_Contribution'], ascending=False).head(1)], \n",
        "                                          axis=0)\n",
        "\n",
        "# Reset Index    \n",
        "sent_topics_sorteddf_mallet.reset_index(drop=True, inplace=True)\n",
        "\n",
        "# Format\n",
        "sent_topics_sorteddf_mallet.columns = ['Topic_Num', \"Topic_Perc_Contrib\", \"Keywords\", \"Representative Text\"]\n",
        "\n",
        "# Show\n",
        "sent_topics_sorteddf_mallet"
      ],
      "execution_count": 0,
      "outputs": [
        {
          "output_type": "stream",
          "text": [
            "/usr/local/lib/python3.6/dist-packages/gensim/models/phrases.py:598: UserWarning: For a faster implementation, use the gensim.models.phrases.Phraser class\n",
            "  warnings.warn(\"For a faster implementation, use the gensim.models.phrases.Phraser class\")\n"
          ],
          "name": "stderr"
        },
        {
          "output_type": "execute_result",
          "data": {
            "text/html": [
              "<div>\n",
              "<style scoped>\n",
              "    .dataframe tbody tr th:only-of-type {\n",
              "        vertical-align: middle;\n",
              "    }\n",
              "\n",
              "    .dataframe tbody tr th {\n",
              "        vertical-align: top;\n",
              "    }\n",
              "\n",
              "    .dataframe thead th {\n",
              "        text-align: right;\n",
              "    }\n",
              "</style>\n",
              "<table border=\"1\" class=\"dataframe\">\n",
              "  <thead>\n",
              "    <tr style=\"text-align: right;\">\n",
              "      <th></th>\n",
              "      <th>Topic_Num</th>\n",
              "      <th>Topic_Perc_Contrib</th>\n",
              "      <th>Keywords</th>\n",
              "      <th>Representative Text</th>\n",
              "    </tr>\n",
              "  </thead>\n",
              "  <tbody>\n",
              "    <tr>\n",
              "      <th>0</th>\n",
              "      <td>0.0</td>\n",
              "      <td>0.9028</td>\n",
              "      <td>camera, great, work, battery, well, fast, day, buy, price, charger</td>\n",
              "      <td>[ridiculously, fast, charge, great, battery, life, fast, processor]</td>\n",
              "    </tr>\n",
              "    <tr>\n",
              "      <th>1</th>\n",
              "      <td>1.0</td>\n",
              "      <td>0.8248</td>\n",
              "      <td>price, feel, expect, happy, bit, year, purchase, old, long, instead</td>\n",
              "      <td>[excelent, purshase, working, suppose]</td>\n",
              "    </tr>\n",
              "    <tr>\n",
              "      <th>2</th>\n",
              "      <td>2.0</td>\n",
              "      <td>0.8542</td>\n",
              "      <td>look, feature, product, money, value, telefono, load, early, original, ago</td>\n",
              "      <td>[auto, voice, call, recording, facility]</td>\n",
              "    </tr>\n",
              "    <tr>\n",
              "      <th>3</th>\n",
              "      <td>3.0</td>\n",
              "      <td>0.7810</td>\n",
              "      <td>thing, excellent, return, note, video, network, suck, awesome, enough, give</td>\n",
              "      <td>[smartphone, meet, requirement]</td>\n",
              "    </tr>\n",
              "    <tr>\n",
              "      <th>4</th>\n",
              "      <td>4.0</td>\n",
              "      <td>0.7083</td>\n",
              "      <td>love, pic, bad, little, perfect, indoor, responsive, first, band, task</td>\n",
              "      <td>[love, bad]</td>\n",
              "    </tr>\n",
              "    <tr>\n",
              "      <th>5</th>\n",
              "      <td>5.0</td>\n",
              "      <td>0.7812</td>\n",
              "      <td>much, quality, screen, display, amazing, photo, picture, sound, hand, clear</td>\n",
              "      <td>[understand, anytime, best]</td>\n",
              "    </tr>\n",
              "    <tr>\n",
              "      <th>6</th>\n",
              "      <td>6.0</td>\n",
              "      <td>0.7812</td>\n",
              "      <td>really, screen, better, overall, set, sure, back, compete, worth, resolution</td>\n",
              "      <td>[producto, cumple, con]</td>\n",
              "    </tr>\n",
              "    <tr>\n",
              "      <th>7</th>\n",
              "      <td>7.0</td>\n",
              "      <td>0.8541</td>\n",
              "      <td>beautiful, arrive, star, cost, decent, redmi_note_pro, mean, ever, soon, spec</td>\n",
              "      <td>[puse, llevo, vario, mese, satisfecho]</td>\n",
              "    </tr>\n",
              "  </tbody>\n",
              "</table>\n",
              "</div>"
            ],
            "text/plain": [
              "   Topic_Num  ...                                                  Representative Text\n",
              "0        0.0  ...  [ridiculously, fast, charge, great, battery, life, fast, processor]\n",
              "1        1.0  ...                               [excelent, purshase, working, suppose]\n",
              "2        2.0  ...                             [auto, voice, call, recording, facility]\n",
              "3        3.0  ...                                      [smartphone, meet, requirement]\n",
              "4        4.0  ...                                                          [love, bad]\n",
              "5        5.0  ...                                          [understand, anytime, best]\n",
              "6        6.0  ...                                              [producto, cumple, con]\n",
              "7        7.0  ...                               [puse, llevo, vario, mese, satisfecho]\n",
              "\n",
              "[8 rows x 4 columns]"
            ]
          },
          "metadata": {
            "tags": []
          },
          "execution_count": 28
        }
      ]
    },
    {
      "cell_type": "code",
      "metadata": {
        "id": "wBlcqrkcsqBi",
        "colab_type": "code",
        "cellView": "form",
        "outputId": "86b7f235-d0f0-4252-9096-8288e8c8325a",
        "colab": {
          "base_uri": "https://localhost:8080/",
          "height": 241
        }
      },
      "source": [
        "#@title Word Cloud of Top Words\n",
        "max_words = 10 #@param {type:\"integer\"}\n",
        "# Wordcloud of Top N words in each topic\n",
        "\n",
        "cols = [color for name, color in mcolors.TABLEAU_COLORS.items()]  # more colors: 'mcolors.XKCD_COLORS'\n",
        "cloud = WordCloud(stopwords=custom_stop_words,\n",
        "                  background_color='white',\n",
        "                  width=2500,\n",
        "                  height=1800,\n",
        "                  max_words=max_words,\n",
        "                  colormap='tab10',\n",
        "                  color_func=lambda *args, **kwargs: cols[i],\n",
        "                  prefer_horizontal=1.0)\n",
        "\n",
        "topics = lda_model.show_topics(num_topics=num_topics,num_words=max_words,formatted=False)\n",
        "columns= math.ceil(num_topics/2)\n",
        "rows = 2\n",
        "fig, axes = plt.subplots(rows, columns, figsize=(3*columns,3*rows), sharex=True, sharey=True)\n",
        "\n",
        "for i, ax in enumerate(axes.flatten()):\n",
        "  if i < num_topics:\n",
        "    fig.add_subplot(ax)\n",
        "    topic_words = dict(topics[i][1])\n",
        "    cloud.generate_from_frequencies(topic_words, max_font_size=300)\n",
        "    plt.gca().imshow(cloud)\n",
        "    plt.gca().set_title('Topic ' + str(i), fontdict=dict(size=16))\n",
        "    plt.gca().axis('off')\n",
        "\n",
        "plt.subplots_adjust(wspace=0, hspace=0)\n",
        "plt.axis('off')\n",
        "plt.margins(x=0, y=0)\n",
        "plt.tight_layout()\n",
        "plt.show()"
      ],
      "execution_count": 0,
      "outputs": [
        {
          "output_type": "error",
          "ename": "NameError",
          "evalue": "ignored",
          "traceback": [
            "\u001b[0;31m---------------------------------------------------------------------------\u001b[0m",
            "\u001b[0;31mNameError\u001b[0m                                 Traceback (most recent call last)",
            "\u001b[0;32m<ipython-input-26-8ab7021d28fd>\u001b[0m in \u001b[0;36m<module>\u001b[0;34m()\u001b[0m\n\u001b[1;32m      3\u001b[0m \u001b[0;34m\u001b[0m\u001b[0m\n\u001b[1;32m      4\u001b[0m \u001b[0mcols\u001b[0m \u001b[0;34m=\u001b[0m \u001b[0;34m[\u001b[0m\u001b[0mcolor\u001b[0m \u001b[0;32mfor\u001b[0m \u001b[0mname\u001b[0m\u001b[0;34m,\u001b[0m \u001b[0mcolor\u001b[0m \u001b[0;32min\u001b[0m \u001b[0mmcolors\u001b[0m\u001b[0;34m.\u001b[0m\u001b[0mTABLEAU_COLORS\u001b[0m\u001b[0;34m.\u001b[0m\u001b[0mitems\u001b[0m\u001b[0;34m(\u001b[0m\u001b[0;34m)\u001b[0m\u001b[0;34m]\u001b[0m  \u001b[0;31m# more colors: 'mcolors.XKCD_COLORS'\u001b[0m\u001b[0;34m\u001b[0m\u001b[0;34m\u001b[0m\u001b[0m\n\u001b[0;32m----> 5\u001b[0;31m cloud = WordCloud(stopwords=custom_stop_words,\n\u001b[0m\u001b[1;32m      6\u001b[0m                   \u001b[0mbackground_color\u001b[0m\u001b[0;34m=\u001b[0m\u001b[0;34m'white'\u001b[0m\u001b[0;34m,\u001b[0m\u001b[0;34m\u001b[0m\u001b[0;34m\u001b[0m\u001b[0m\n\u001b[1;32m      7\u001b[0m                   \u001b[0mwidth\u001b[0m\u001b[0;34m=\u001b[0m\u001b[0;36m2500\u001b[0m\u001b[0;34m,\u001b[0m\u001b[0;34m\u001b[0m\u001b[0;34m\u001b[0m\u001b[0m\n",
            "\u001b[0;31mNameError\u001b[0m: name 'custom_stop_words' is not defined"
          ]
        }
      ]
    },
    {
      "cell_type": "code",
      "metadata": {
        "id": "7EcZ5ofSsxca",
        "colab_type": "code",
        "outputId": "bea0db75-1b9a-4e42-e404-84beb47a5364",
        "cellView": "form",
        "colab": {
          "base_uri": "https://localhost:8080/",
          "height": 436
        }
      },
      "source": [
        "#@title Dominant Topics and Weightage\n",
        "# Sentence Coloring of N Sentences\n",
        "def topics_per_document(model, corpus, start=0, end=1):\n",
        "    corpus_sel = corpus[start:end]\n",
        "    dominant_topics = []\n",
        "    topic_percentages = []\n",
        "    for i, corp in enumerate(corpus_sel):\n",
        "        topic_percs, wordid_topics, wordid_phivalues = model[corp]\n",
        "        dominant_topic = sorted(topic_percs, key = lambda x: x[1], reverse=True)[0][0]\n",
        "        dominant_topics.append((i, dominant_topic))\n",
        "        topic_percentages.append(topic_percs)\n",
        "    return(dominant_topics, topic_percentages)\n",
        "\n",
        "dominant_topics, topic_percentages = topics_per_document(model=lda_model, corpus=corpus, end=-1)            \n",
        "\n",
        "# Distribution of Dominant Topics in Each Document\n",
        "df = pd.DataFrame(dominant_topics, columns=['Document_Id', 'Dominant_Topic'])\n",
        "dominant_topic_in_each_doc = df.groupby('Dominant_Topic').size()\n",
        "df_dominant_topic_in_each_doc = dominant_topic_in_each_doc.to_frame(name='count').reset_index()\n",
        "\n",
        "# Total Topic Distribution by actual weight\n",
        "topic_weightage_by_doc = pd.DataFrame([dict(t) for t in topic_percentages])\n",
        "df_topic_weightage_by_doc = topic_weightage_by_doc.sum().to_frame(name='count').reset_index()\n",
        "\n",
        "# Top 3 Keywords for each Topic\n",
        "topic_top3words = [(i, topic) for i, topics in lda_model.show_topics(formatted=False) \n",
        "                                 for j, (topic, wt) in enumerate(topics) if j < 3]\n",
        "\n",
        "df_top3words_stacked = pd.DataFrame(topic_top3words, columns=['topic_id', 'words'])\n",
        "df_top3words = df_top3words_stacked.groupby('topic_id').agg(', \\n'.join)\n",
        "df_top3words.reset_index(level=0,inplace=True)\n",
        "\n",
        "# Plot\n",
        "fig, (ax1, ax2) = plt.subplots(1, 2, figsize=(30, 10), dpi=50, sharey=True)\n",
        "\n",
        "# Topic Distribution by Dominant Topics\n",
        "ax1.bar(x='Dominant_Topic', height='count', data=df_dominant_topic_in_each_doc, width=.5, color='firebrick')\n",
        "ax1.set_xticks(range(df_dominant_topic_in_each_doc.Dominant_Topic.unique().__len__()))\n",
        "tick_formatter = FuncFormatter(lambda x, pos: 'Topic ' + str(x)+ '\\n' + df_top3words.loc[df_top3words.topic_id==x, 'words'].values[0])\n",
        "#ax1.xaxis.set_major_formatter(tick_formatter)\n",
        "ax1.set_title('Topic Dominance', fontdict=dict(size=20))\n",
        "ax1.set_ylabel('Number of Documents')\n",
        "#ax1.set_ylim(0, 1000)\n",
        "\n",
        "# Topic Distribution by Topic Weights\n",
        "ax2.bar(x='index', height='count', data=df_topic_weightage_by_doc, width=.5, color='steelblue')\n",
        "ax2.set_xticks(range(df_topic_weightage_by_doc.index.unique().__len__()))\n",
        "#ax2.xaxis.set_major_formatter(tick_formatter)\n",
        "ax2.set_title('Topic Weightage', fontdict=dict(size=20))\n",
        "\n",
        "plt.show()"
      ],
      "execution_count": 0,
      "outputs": [
        {
          "output_type": "display_data",
          "data": {
            "image/png": "[encoded data removed]",
            "text/plain": [
              "<Figure size 1500x500 with 2 Axes>"
            ]
          },
          "metadata": {
            "tags": []
          }
        }
      ]
    },
    {
      "cell_type": "code",
      "metadata": {
        "id": "N1qL8QO4s2fT",
        "colab_type": "code",
        "outputId": "d43bcf8c-2ef3-4b2b-f25c-e951ec59f04a",
        "cellView": "form",
        "colab": {
          "base_uri": "https://localhost:8080/",
          "height": 861
        }
      },
      "source": [
        "#@title Visualize with pyLDAvis\n",
        "pyLDAvis.enable_notebook()\n",
        "vis = pyLDAvis.gensim.prepare(lda_model, corpus, dictionary=lda_model.id2word)\n",
        "vis"
      ],
      "execution_count": 0,
      "outputs": [
        {
          "output_type": "execute_result",
          "data": {
            "text/html": [
              "\n",
              "<link rel=\"stylesheet\" type=\"text/css\" href=\"https://cdn.rawgit.com/bmabey/pyLDAvis/files/ldavis.v1.0.0.css\">\n",
              "\n",
              "\n",
              "<div id=\"ldavis_el1231397331711853689768050382\"></div>\n",
              "<script type=\"text/javascript\">\n",
              "\n",
              "var ldavis_el1231397331711853689768050382_data = {\"mdsDat\": {\"x\": [-0.25712594441605224, 0.30548757876111304, 0.032954736195718135, -0.07412242921463953, 0.030492722222799622, 0.021887389020620398, -0.02177650561731981, -0.037797546952239455], \"y\": [0.1247489519218675, 0.1490098907745933, -0.3428755080858128, 0.012329072602267725, 0.01661399527732268, -0.01679574462496929, 0.048877253551735056, 0.008092088582995973], \"topics\": [1, 2, 3, 4, 5, 6, 7, 8], \"cluster\": [1, 1, 1, 1, 1, 1, 1, 1], \"Freq\": [17.43711280822754, 16.683523178100586, 15.352008819580078, 13.75132942199707, 12.188825607299805, 9.36450481414795, 8.36223030090332, 6.860465049743652]}, \"tinfo\": {\"Term\": [\"bad\", \"screen\", \"battery\", \"work\", \"day\", \"new\", \"problem\", \"scratch\", \"buy\", \"seller\", \"update\", \"receive\", \"life\", \"money\", \"order\", \"condition\", \"turn\", \"product\", \"charge\", \"return\", \"expect\", \"purchase\", \"really\", \"store\", \"people\", \"camera\", \"price\", \"look\", \"sound\", \"pay\", \"screen\", \"work\", \"problem\", \"scratch\", \"turn\", \"look\", \"thing\", \"still\", \"disappointed\", \"fine\", \"first\", \"front\", \"back\", \"service\", \"serious\", \"bit\", \"else\", \"black\", \"keep\", \"perfectly\", \"annoying\", \"freeze\", \"protector\", \"pretty\", \"able\", \"complete\", \"promise\", \"chance\", \"cracked\", \"fact\", \"time\", \"facetime\", \"send\", \"start\", \"really\", \"price\", \"pay\", \"replace\", \"speaker\", \"point\", \"unlocked\", \"original\", \"one\", \"sure\", \"renew\", \"experience\", \"give\", \"charger\", \"case\", \"sell\", \"recommend\", \"next\", \"arrive\", \"wifi\", \"second\", \"check\", \"wait\", \"end\", \"drop\", \"refund\", \"happen\", \"kinda\", \"charging_cable\", \"plug\", \"tell\", \"update\", \"product\", \"return\", \"purchase\", \"store\", \"camera\", \"reset\", \"issue\", \"unable\", \"find\", \"fix\", \"repair\", \"review\", \"month\", \"spend\", \"never\", \"packaging\", \"support\", \"figure\", \"restore\", \"state\", \"flash\", \"warranty\", \"contact\", \"description\", \"wrong\", \"way\", \"cover\", \"stopped_worke\", \"twice\", \"tell\", \"refurbish\", \"battery\", \"new\", \"life\", \"order\", \"charge\", \"horrible\", \"minute\", \"break\", \"stay\", \"ship\", \"currently\", \"shut\", \"randomly\", \"sad\", \"cost\", \"last\", \"various\", \"ever\", \"include\", \"avoid\", \"less\", \"fully\", \"fault\", \"internally\", \"matter\", \"originally\", \"dollar\", \"shoot\", \"slight\", \"several\", \"face_id\", \"buy\", \"start\", \"feature\", \"refurbish\", \"show\", \"time\", \"receive\", \"sound\", \"call\", \"hot\", \"care\", \"hour\", \"well\", \"much\", \"hard\", \"broken\", \"properly\", \"full\", \"couple\", \"picture\", \"report\", \"useless\", \"set\", \"put\", \"immediately\", \"notice\", \"respond\", \"old\", \"microphone\", \"worry\", \"number\", \"water\", \"certain\", \"damage\", \"impossible\", \"certify\", \"unit\", \"bad\", \"day\", \"money\", \"people\", \"terrible\", \"save\", \"low\", \"waste\", \"little\", \"device\", \"total\", \"stop\", \"short\", \"already\", \"dog\", \"shatter\", \"unfortunately\", \"week\", \"brand_new\", \"risk\", \"refuse\", \"clearly\", \"super\", \"party\", \"third\", \"soon\", \"carefully\", \"cheat\", \"excited\", \"account\", \"buy\", \"show\", \"rip\", \"version\", \"outer\", \"condition\", \"quality\", \"poor\", \"item\", \"glass\", \"carrier\", \"annoy\", \"especially\", \"cheap\", \"hold\", \"often\", \"program\", \"bottom\", \"accessory\", \"disappoint\", \"sin\", \"talk\", \"top\", \"high\", \"crack\", \"clean\", \"believe\", \"package\", \"video\", \"extremely\", \"sorry\", \"describe\", \"unsupported\", \"browser\", \"remain\", \"distort\", \"plenty\", \"cool\", \"seller\", \"expect\", \"shape\", \"headphone\", \"unlock\", \"cable\", \"advertise\", \"audio\", \"happy\", \"app\", \"adapter\", \"highly\", \"inch\", \"upgrade\", \"headache\", \"reason\", \"mobile\", \"edge\", \"disappointing\", \"consistently\", \"claim\", \"least\", \"garbage\", \"locked\", \"tray\", \"great\", \"scam\", \"earphone\", \"network\", \"visible\", \"rough\", \"refunded\"], \"Freq\": [191.0, 251.0, 202.0, 226.0, 119.0, 140.0, 154.0, 140.0, 164.0, 87.0, 106.0, 92.0, 96.0, 73.0, 86.0, 66.0, 93.0, 84.0, 78.0, 82.0, 54.0, 78.0, 80.0, 74.0, 54.0, 65.0, 66.0, 66.0, 48.0, 57.0, 251.18740844726562, 225.3509521484375, 154.26036071777344, 140.15345764160156, 92.49999237060547, 65.66438293457031, 56.305702209472656, 51.2852668762207, 49.735557556152344, 49.26544189453125, 44.67298889160156, 37.410343170166016, 36.48420715332031, 32.87675094604492, 27.157346725463867, 22.8147029876709, 23.328088760375977, 20.008533477783203, 18.374286651611328, 18.278980255126953, 18.152008056640625, 16.475725173950195, 16.14228057861328, 15.334702491760254, 14.869760513305664, 14.519105911254883, 14.422018051147461, 12.508153915405273, 13.202254295349121, 12.007784843444824, 54.51279830932617, 13.17100715637207, 25.6688289642334, 27.175809860229492, 79.79296875, 65.41373443603516, 56.6237907409668, 55.0720100402832, 54.584434509277344, 52.52177047729492, 50.73196792602539, 49.05995559692383, 41.742950439453125, 41.2979736328125, 40.09587097167969, 38.672916412353516, 37.9819221496582, 36.03528594970703, 35.23902130126953, 34.67496871948242, 34.06993865966797, 32.82231140136719, 30.099964141845703, 27.619014739990234, 27.232017517089844, 26.21867561340332, 24.95519256591797, 24.4216365814209, 23.54364776611328, 21.779794692993164, 21.681673049926758, 20.823448181152344, 26.24152183532715, 20.304048538208008, 20.361671447753906, 105.41583251953125, 83.44145965576172, 81.96092224121094, 77.41570281982422, 73.76698303222656, 64.40738677978516, 45.38337326049805, 43.968021392822266, 41.94034957885742, 40.3004150390625, 39.023250579833984, 38.755409240722656, 37.44044876098633, 36.62816619873047, 36.03847122192383, 34.8598747253418, 30.0606746673584, 29.723867416381836, 28.3565673828125, 27.745502471923828, 26.15528678894043, 26.17513656616211, 22.907806396484375, 20.569744110107422, 19.18126678466797, 18.27841567993164, 17.992433547973633, 16.730247497558594, 14.901710510253906, 14.618111610412598, 31.3322696685791, 28.32915496826172, 201.39935302734375, 140.19322204589844, 95.57087707519531, 85.31633758544922, 77.55226135253906, 47.95654296875, 31.78550148010254, 30.761362075805664, 30.538482666015625, 23.560728073120117, 20.621912002563477, 18.308609008789062, 16.7371768951416, 16.57748031616211, 15.548014640808105, 15.294288635253906, 14.655177116394043, 14.283125877380371, 14.045014381408691, 13.246320724487305, 11.941460609436035, 11.741080284118652, 11.753664016723633, 11.45179557800293, 12.998369216918945, 9.967528343200684, 9.274222373962402, 10.8960599899292, 10.217927932739258, 8.220026016235352, 11.34412956237793, 113.55180358886719, 49.301658630371094, 10.626911163330078, 20.310169219970703, 14.895698547363281, 11.684281349182129, 92.07856750488281, 47.32659912109375, 39.41682052612305, 39.51185989379883, 38.190608978271484, 35.83393096923828, 34.311378479003906, 34.21498107910156, 33.52980422973633, 32.62201690673828, 31.294254302978516, 28.15760612487793, 27.331466674804688, 24.631134033203125, 23.931297302246094, 23.385499954223633, 22.93433380126953, 22.144426345825195, 20.908706665039062, 20.3565731048584, 29.65353775024414, 20.00005531311035, 21.50951385498047, 19.933937072753906, 18.438087463378906, 17.243078231811523, 16.894197463989258, 16.357622146606445, 16.360488891601562, 16.17498779296875, 16.608943939208984, 190.8109130859375, 118.41329193115234, 73.04052734375, 53.58885955810547, 37.24567413330078, 30.74444007873535, 25.230701446533203, 24.064746856689453, 20.638212203979492, 16.45635986328125, 15.447444915771484, 14.844870567321777, 21.293691635131836, 10.973369598388672, 10.950207710266113, 10.954109191894531, 9.75565242767334, 9.671316146850586, 9.523094177246094, 8.4275484085083, 7.028288841247559, 7.039775848388672, 6.174688339233398, 4.793166637420654, 4.757338047027588, 3.134442090988159, 2.8457159996032715, 2.95310640335083, 2.7501680850982666, 2.643977165222168, 50.398136138916016, 13.044637680053711, 9.570862770080566, 7.707871437072754, 4.080019474029541, 65.71157836914062, 33.23219680786133, 30.166471481323242, 28.676897048950195, 26.94272232055664, 23.608905792236328, 23.71774673461914, 23.20911407470703, 23.288692474365234, 22.805810928344727, 22.693273544311523, 21.500438690185547, 21.611787796020508, 19.84917449951172, 18.357999801635742, 18.236101150512695, 14.373795509338379, 13.307266235351562, 15.328080177307129, 12.002213478088379, 11.468941688537598, 10.530560493469238, 10.069246292114258, 8.099300384521484, 7.946074962615967, 7.742596626281738, 10.531558990478516, 7.676331043243408, 7.676331043243408, 7.075357913970947, 14.770747184753418, 9.444564819335938, 9.022936820983887, 87.17749786376953, 53.383487701416016, 28.036535263061523, 24.162830352783203, 23.59024429321289, 23.117443084716797, 18.205921173095703, 18.15020179748535, 15.840280532836914, 15.160380363464355, 13.876154899597168, 13.601825714111328, 13.337519645690918, 12.981132507324219, 12.77035903930664, 12.060473442077637, 11.461836814880371, 11.162857055664062, 10.661102294921875, 10.53103256225586, 10.95873737335205, 9.902008056640625, 8.625696182250977, 8.272246360778809, 7.25112771987915, 5.6678619384765625, 5.2447967529296875, 11.825729370117188, 3.9234864711761475, 3.7992234230041504, 10.032689094543457, 6.815546035766602], \"Total\": [191.0, 251.0, 202.0, 226.0, 119.0, 140.0, 154.0, 140.0, 164.0, 87.0, 106.0, 92.0, 96.0, 73.0, 86.0, 66.0, 93.0, 84.0, 78.0, 82.0, 54.0, 78.0, 80.0, 74.0, 54.0, 65.0, 66.0, 66.0, 48.0, 57.0, 251.8911895751953, 226.05506896972656, 154.96588134765625, 140.8574676513672, 93.20382690429688, 66.36869049072266, 57.01144027709961, 51.990501403808594, 50.439544677734375, 49.970436096191406, 45.376747131347656, 38.11508560180664, 37.18781661987305, 33.58038330078125, 27.867393493652344, 23.51958465576172, 24.05341911315918, 20.71195411682129, 19.077598571777344, 18.984655380249023, 18.856178283691406, 17.179718017578125, 16.845781326293945, 16.038965225219727, 15.573270797729492, 15.229039192199707, 15.163492202758789, 13.215084075927734, 13.952589988708496, 12.722701072692871, 66.79478454589844, 14.163891792297363, 39.345802307128906, 77.07576751708984, 80.52261352539062, 66.1446762084961, 57.353187561035156, 55.80174255371094, 55.314388275146484, 53.25238037109375, 51.46316909790039, 49.78950119018555, 42.472965240478516, 42.02794647216797, 40.83068084716797, 39.40583038330078, 38.7111701965332, 36.764190673828125, 35.96962356567383, 35.40863800048828, 34.80312728881836, 33.55276870727539, 30.83156967163086, 28.349653244018555, 27.962196350097656, 26.95246124267578, 25.68659019470215, 25.153047561645508, 24.273374557495117, 22.509334564208984, 22.41120147705078, 21.557302474975586, 27.1844425201416, 21.03377914428711, 52.317752838134766, 106.12366485595703, 84.14761352539062, 82.66808319091797, 78.12226104736328, 74.4742660522461, 65.11919403076172, 46.09052658081055, 44.67454528808594, 42.646942138671875, 41.007381439208984, 39.730133056640625, 39.461692810058594, 38.14698028564453, 37.334163665771484, 36.74483108520508, 35.5662727355957, 30.773313522338867, 30.430814743041992, 29.062965393066406, 28.452499389648438, 26.86274528503418, 26.885831832885742, 23.614561080932617, 21.276269912719727, 19.888595581054688, 18.984119415283203, 18.698801040649414, 17.441852569580078, 15.609821319580078, 15.335737228393555, 52.317752838134766, 49.2393798828125, 202.10592651367188, 140.9010772705078, 96.27750396728516, 86.02420043945312, 78.25908660888672, 48.664573669433594, 32.49427795410156, 31.469579696655273, 31.25215721130371, 24.268442153930664, 21.330421447753906, 19.0173282623291, 17.445751190185547, 17.288043975830078, 16.25495719909668, 16.000513076782227, 15.36581802368164, 14.989931106567383, 14.752668380737305, 13.980547904968262, 12.648150444030762, 12.45069408416748, 12.468186378479004, 12.158659934997559, 13.897254943847656, 10.708636283874512, 9.987585067749023, 11.734450340270996, 11.03797721862793, 8.928740501403809, 12.363449096679688, 164.53997802734375, 77.07576751708984, 11.704751968383789, 49.2393798828125, 28.53092384338379, 66.79478454589844, 92.77609252929688, 48.026329040527344, 40.11376953125, 40.21198654174805, 38.889076232910156, 36.53186798095703, 35.00880813598633, 34.91398620605469, 34.22698211669922, 33.33235168457031, 31.99140739440918, 28.857040405273438, 28.03011703491211, 25.336776733398438, 24.629228591918945, 24.086902618408203, 23.631437301635742, 22.843095779418945, 21.606534957885742, 21.054655075073242, 30.675384521484375, 20.697877883911133, 22.282302856445312, 20.685684204101562, 19.13580894470215, 17.940446853637695, 17.59524917602539, 17.054861068725586, 17.064556121826172, 16.875141143798828, 17.341777801513672, 191.5072784423828, 119.11033630371094, 73.73655700683594, 54.29003143310547, 37.9427490234375, 31.44572639465332, 25.92866325378418, 24.760005950927734, 21.33600616455078, 17.151975631713867, 16.1441707611084, 15.54134750366211, 22.479389190673828, 11.669135093688965, 11.647302627563477, 11.651551246643066, 10.452656745910645, 10.36709213256836, 10.21965217590332, 9.1343355178833, 7.724349498748779, 7.738365173339844, 6.870220184326172, 5.488368034362793, 5.45264196395874, 3.8319637775421143, 3.545036792755127, 3.699166774749756, 3.4485793113708496, 3.3417954444885254, 164.53997802734375, 28.53092384338379, 19.733360290527344, 15.392171859741211, 24.15819549560547, 66.43958282470703, 33.95821762084961, 30.892494201660156, 29.40420913696289, 27.66898536682129, 24.33519172668457, 24.44780921936035, 23.93622589111328, 24.01847267150879, 23.538883209228516, 23.425291061401367, 22.275310516357422, 22.391101837158203, 20.576133728027344, 19.08293914794922, 18.9606876373291, 15.108344078063965, 14.032442092895508, 16.18779754638672, 12.727865219116211, 12.195085525512695, 11.272624015808105, 10.79438304901123, 8.824126243591309, 8.671074867248535, 8.467889785766602, 11.557644844055176, 8.430083274841309, 8.430083274841309, 7.80056619644165, 19.089561462402344, 11.740127563476562, 11.814894676208496, 87.90263366699219, 54.108577728271484, 28.8272705078125, 24.887571334838867, 24.31399917602539, 23.84175682067871, 18.932119369506836, 18.87523078918457, 16.564891815185547, 15.889985084533691, 14.603113174438477, 14.327272415161133, 14.062209129333496, 13.713266372680664, 13.499902725219727, 12.785747528076172, 12.186079978942871, 11.899247169494629, 11.387678146362305, 11.259758949279785, 11.749109268188477, 10.629308700561523, 9.349410057067871, 8.998141288757324, 7.974818229675293, 6.3913254737854, 5.9702301025390625, 13.73922348022461, 4.646684646606445, 4.522557258605957, 12.693517684936523, 9.365913391113281], \"Category\": [\"Default\", \"Default\", \"Default\", \"Default\", \"Default\", \"Default\", \"Default\", \"Default\", \"Default\", \"Default\", \"Default\", \"Default\", \"Default\", \"Default\", \"Default\", \"Default\", \"Default\", \"Default\", \"Default\", \"Default\", \"Default\", \"Default\", \"Default\", \"Default\", \"Default\", \"Default\", \"Default\", \"Default\", \"Default\", \"Default\", \"Topic1\", \"Topic1\", \"Topic1\", \"Topic1\", \"Topic1\", \"Topic1\", \"Topic1\", \"Topic1\", \"Topic1\", \"Topic1\", \"Topic1\", \"Topic1\", \"Topic1\", \"Topic1\", \"Topic1\", \"Topic1\", \"Topic1\", \"Topic1\", \"Topic1\", \"Topic1\", \"Topic1\", \"Topic1\", \"Topic1\", \"Topic1\", \"Topic1\", \"Topic1\", \"Topic1\", \"Topic1\", \"Topic1\", \"Topic1\", \"Topic1\", \"Topic1\", \"Topic1\", \"Topic1\", \"Topic2\", \"Topic2\", \"Topic2\", \"Topic2\", \"Topic2\", \"Topic2\", \"Topic2\", \"Topic2\", \"Topic2\", \"Topic2\", \"Topic2\", \"Topic2\", \"Topic2\", \"Topic2\", \"Topic2\", \"Topic2\", \"Topic2\", \"Topic2\", \"Topic2\", \"Topic2\", \"Topic2\", \"Topic2\", \"Topic2\", \"Topic2\", \"Topic2\", \"Topic2\", \"Topic2\", \"Topic2\", \"Topic2\", \"Topic2\", \"Topic2\", \"Topic3\", \"Topic3\", \"Topic3\", \"Topic3\", \"Topic3\", \"Topic3\", \"Topic3\", \"Topic3\", \"Topic3\", \"Topic3\", \"Topic3\", \"Topic3\", \"Topic3\", \"Topic3\", \"Topic3\", \"Topic3\", \"Topic3\", \"Topic3\", \"Topic3\", \"Topic3\", \"Topic3\", \"Topic3\", \"Topic3\", \"Topic3\", \"Topic3\", \"Topic3\", \"Topic3\", \"Topic3\", \"Topic3\", \"Topic3\", \"Topic3\", \"Topic3\", \"Topic4\", \"Topic4\", \"Topic4\", \"Topic4\", \"Topic4\", \"Topic4\", \"Topic4\", \"Topic4\", \"Topic4\", \"Topic4\", \"Topic4\", \"Topic4\", \"Topic4\", \"Topic4\", \"Topic4\", \"Topic4\", \"Topic4\", \"Topic4\", \"Topic4\", \"Topic4\", \"Topic4\", \"Topic4\", \"Topic4\", \"Topic4\", \"Topic4\", \"Topic4\", \"Topic4\", \"Topic4\", \"Topic4\", \"Topic4\", \"Topic4\", \"Topic4\", \"Topic4\", \"Topic4\", \"Topic4\", \"Topic4\", \"Topic4\", \"Topic5\", \"Topic5\", \"Topic5\", \"Topic5\", \"Topic5\", \"Topic5\", \"Topic5\", \"Topic5\", \"Topic5\", \"Topic5\", \"Topic5\", \"Topic5\", \"Topic5\", \"Topic5\", \"Topic5\", \"Topic5\", \"Topic5\", \"Topic5\", \"Topic5\", \"Topic5\", \"Topic5\", \"Topic5\", \"Topic5\", \"Topic5\", \"Topic5\", \"Topic5\", \"Topic5\", \"Topic5\", \"Topic5\", \"Topic5\", \"Topic5\", \"Topic6\", \"Topic6\", \"Topic6\", \"Topic6\", \"Topic6\", \"Topic6\", \"Topic6\", \"Topic6\", \"Topic6\", \"Topic6\", \"Topic6\", \"Topic6\", \"Topic6\", \"Topic6\", \"Topic6\", \"Topic6\", \"Topic6\", \"Topic6\", \"Topic6\", \"Topic6\", \"Topic6\", \"Topic6\", \"Topic6\", \"Topic6\", \"Topic6\", \"Topic6\", \"Topic6\", \"Topic6\", \"Topic6\", \"Topic6\", \"Topic6\", \"Topic6\", \"Topic6\", \"Topic6\", \"Topic6\", \"Topic7\", \"Topic7\", \"Topic7\", \"Topic7\", \"Topic7\", \"Topic7\", \"Topic7\", \"Topic7\", \"Topic7\", \"Topic7\", \"Topic7\", \"Topic7\", \"Topic7\", \"Topic7\", \"Topic7\", \"Topic7\", \"Topic7\", \"Topic7\", \"Topic7\", \"Topic7\", \"Topic7\", \"Topic7\", \"Topic7\", \"Topic7\", \"Topic7\", \"Topic7\", \"Topic7\", \"Topic7\", \"Topic7\", \"Topic7\", \"Topic7\", \"Topic7\", \"Topic7\", \"Topic8\", \"Topic8\", \"Topic8\", \"Topic8\", \"Topic8\", \"Topic8\", \"Topic8\", \"Topic8\", \"Topic8\", \"Topic8\", \"Topic8\", \"Topic8\", \"Topic8\", \"Topic8\", \"Topic8\", \"Topic8\", \"Topic8\", \"Topic8\", \"Topic8\", \"Topic8\", \"Topic8\", \"Topic8\", \"Topic8\", \"Topic8\", \"Topic8\", \"Topic8\", \"Topic8\", \"Topic8\", \"Topic8\", \"Topic8\", \"Topic8\", \"Topic8\"], \"logprob\": [30.0, 29.0, 28.0, 27.0, 26.0, 25.0, 24.0, 23.0, 22.0, 21.0, 20.0, 19.0, 18.0, 17.0, 16.0, 15.0, 14.0, 13.0, 12.0, 11.0, 10.0, 9.0, 8.0, 7.0, 6.0, 5.0, 4.0, 3.0, 2.0, 1.0, -2.198699951171875, -2.3071999549865723, -2.686300039291382, -2.7822000980377197, -3.197700023651123, -3.540299892425537, -3.6940999031066895, -3.7874999046325684, -3.81820011138916, -3.827699899673462, -3.92549991607666, -4.103000164031982, -4.127999782562256, -4.232100009918213, -4.423299789428711, -4.597499847412109, -4.575200080871582, -4.728700160980225, -4.814000129699707, -4.819200038909912, -4.826099872589111, -4.922999858856201, -4.94350004196167, -4.994800090789795, -5.025599956512451, -5.0493998527526855, -5.056099891662598, -5.198500156402588, -5.144499778747559, -5.239299774169922, -3.7265000343322754, -5.146900177001953, -4.479599952697754, -4.422599792480469, -3.301300048828125, -3.5, -3.6442999839782715, -3.672100067138672, -3.680999994277954, -3.7195000648498535, -3.754199981689453, -3.7876999378204346, -3.949199914932251, -3.95989990234375, -3.989500045776367, -4.025599956512451, -4.043600082397461, -4.096199989318848, -4.118599891662598, -4.134699821472168, -4.152299880981445, -4.189599990844727, -4.276199817657471, -4.362199783325195, -4.376299858093262, -4.414299964904785, -4.463600158691406, -4.485300064086914, -4.521900177001953, -4.599699974060059, -4.604300022125244, -4.644599914550781, -4.413400173187256, -4.669899940490723, -4.667099952697754, -2.9395999908447266, -3.1733999252319336, -3.1912999153137207, -3.2483999729156494, -3.296600103378296, -3.432300090789795, -3.782399892807007, -3.8141000270843506, -3.861299991607666, -3.90120005607605, -3.9333999156951904, -3.9402999877929688, -3.9748001098632812, -3.9967000484466553, -4.013000011444092, -4.046199798583984, -4.194300174713135, -4.205599784851074, -4.252699851989746, -4.274499893188477, -4.333499908447266, -4.332699775695801, -4.466100215911865, -4.573699951171875, -4.643599987030029, -4.691800117492676, -4.707600116729736, -4.780300140380859, -4.896100044250488, -4.915299892425537, -4.152900218963623, -4.253699779510498, -2.1821000576019287, -2.5443999767303467, -2.9275999069213867, -3.041100025177002, -3.1364998817443848, -3.6171000003814697, -4.02839994430542, -4.061200141906738, -4.06850004196167, -4.327899932861328, -4.461100101470947, -4.580100059509277, -4.6697998046875, -4.6793999671936035, -4.743500232696533, -4.760000228881836, -4.802599906921387, -4.828400135040283, -4.845200061798096, -4.90369987487793, -5.007400035858154, -5.0243000984191895, -5.0233001708984375, -5.049300193786621, -4.922599792480469, -5.1880998611450195, -5.260200023651123, -5.098999977111816, -5.163300037384033, -5.380899906158447, -5.058700084686279, -2.755199909210205, -3.5894999504089355, -5.124000072479248, -4.47629976272583, -4.786399841308594, -5.029200077056885, -2.8441998958587646, -3.509700059890747, -3.6926000118255615, -3.690200090408325, -3.7242000102996826, -3.787899971008301, -3.8313000202178955, -3.834199905395508, -3.8543999195098877, -3.8817999362945557, -3.9233999252319336, -4.0289998054504395, -4.058800220489502, -4.162799835205078, -4.1915998458862305, -4.214700222015381, -4.2342000007629395, -4.269199848175049, -4.326700210571289, -4.353400230407715, -3.9772000312805176, -4.371099948883057, -4.298299789428711, -4.3744001388549805, -4.452400207519531, -4.519400119781494, -4.539899826049805, -4.5721001625061035, -4.572000026702881, -4.583399772644043, -4.5569000244140625, -1.8518999814987183, -2.3289999961853027, -2.8122000694274902, -3.1219000816345215, -3.4856998920440674, -3.677500009536743, -3.875200033187866, -3.922499895095825, -4.076099872589111, -4.302499771118164, -4.365799903869629, -4.405600070953369, -4.0447998046875, -4.707799911499023, -4.70989990234375, -4.709499835968018, -4.825399875640869, -4.834099769592285, -4.8495001792907715, -4.971700191497803, -5.153299808502197, -5.151700019836426, -5.282800197601318, -5.535999774932861, -5.543499946594238, -5.9608001708984375, -6.057400226593018, -6.020400047302246, -6.091599941253662, -6.130899906158447, -3.183300018310547, -4.534900188446045, -4.8445000648498535, -5.060999870300293, -5.6971001625061035, -2.804800033569336, -3.4865000247955322, -3.5833001136779785, -3.6338999271392822, -3.6963000297546387, -3.828399896621704, -3.8238000869750977, -3.8454999923706055, -3.842099905014038, -3.86299991607666, -3.868000030517578, -3.921999931335449, -3.916800022125244, -4.0019001960754395, -4.079999923706055, -4.086599826812744, -4.3246002197265625, -4.401700019836426, -4.260300159454346, -4.504899978637695, -4.5503997802734375, -4.635700225830078, -4.680500030517578, -4.898200035095215, -4.917399883270264, -4.943299770355225, -4.635700225830078, -4.951900005340576, -4.951900005340576, -5.033400058746338, -4.297399997711182, -4.74459981918335, -4.790299892425537, -2.3241000175476074, -2.8145999908447266, -3.4586000442504883, -3.607300043106079, -3.631200075149536, -3.6514999866485596, -3.8903000354766846, -3.893399953842163, -4.0295000076293945, -4.073400020599365, -4.161900043487549, -4.1819000244140625, -4.201499938964844, -4.228600025177002, -4.244999885559082, -4.30210018157959, -4.353099822998047, -4.379499912261963, -4.42549991607666, -4.43779993057251, -4.397900104522705, -4.499300003051758, -4.63730001449585, -4.679200172424316, -4.8109002113342285, -5.057300090789795, -5.134799957275391, -4.321800231933594, -5.425099849700928, -5.457300186157227, -4.486199855804443, -4.872900009155273], \"loglift\": [30.0, 29.0, 28.0, 27.0, 26.0, 25.0, 24.0, 23.0, 22.0, 21.0, 20.0, 19.0, 18.0, 17.0, 16.0, 15.0, 14.0, 13.0, 12.0, 11.0, 10.0, 9.0, 8.0, 7.0, 6.0, 5.0, 4.0, 3.0, 2.0, 1.0, 1.7438000440597534, 1.743399977684021, 1.7419999837875366, 1.7416000366210938, 1.7389999628067017, 1.7359000444412231, 1.7340999841690063, 1.7329000234603882, 1.7324999570846558, 1.7323999404907227, 1.7309000492095947, 1.7279000282287598, 1.7274999618530273, 1.7253999710083008, 1.7208000421524048, 1.7160999774932861, 1.715999960899353, 1.7120000123977661, 1.7089999914169312, 1.7086999416351318, 1.7085000276565552, 1.704699993133545, 1.7038999795913696, 1.70169997215271, 1.7002999782562256, 1.698799967765808, 1.6964000463485718, 1.69159996509552, 1.6913000345230103, 1.6886999607086182, 1.5434000492095947, 1.6739000082015991, 1.3194999694824219, 0.7041000127792358, 1.781599998474121, 1.7796000242233276, 1.777899980545044, 1.7776000499725342, 1.777500033378601, 1.776900053024292, 1.7763999700546265, 1.7760000228881836, 1.7733999490737915, 1.7732000350952148, 1.7726000547409058, 1.7719999551773071, 1.7717000246047974, 1.7706999778747559, 1.7702000141143799, 1.7697999477386475, 1.7695000171661377, 1.7687000036239624, 1.766700029373169, 1.7646000385284424, 1.764299988746643, 1.763100028038025, 1.7618999481201172, 1.761199951171875, 1.760200023651123, 1.7577999830245972, 1.757699966430664, 1.756100058555603, 1.7553999423980713, 1.7553999423980713, 0.847100019454956, 1.8672000169754028, 1.8654999732971191, 1.8653000593185425, 1.864799976348877, 1.864400029182434, 1.8629000186920166, 1.8585000038146973, 1.8580000400543213, 1.857200026512146, 1.8565000295639038, 1.8559999465942383, 1.8559000492095947, 1.8552000522613525, 1.8547999858856201, 1.8545000553131104, 1.8538999557495117, 1.8504999876022339, 1.8503999710083008, 1.8493000268936157, 1.8487999439239502, 1.8472000360488892, 1.847100019454956, 1.843500018119812, 1.8401999473571777, 1.8377000093460083, 1.8359999656677246, 1.8353999853134155, 1.8322999477386475, 1.8274999856948853, 1.8259999752044678, 1.361199975013733, 1.3210999965667725, 1.9804999828338623, 1.9789999723434448, 1.976699948310852, 1.9758000373840332, 1.975000023841858, 1.9694000482559204, 1.9620000123977661, 1.961300015449524, 1.9608999490737915, 1.9543999433517456, 1.9502999782562256, 1.9460999965667725, 1.9426000118255615, 1.9421000480651855, 1.9395999908447266, 1.9388999938964844, 1.9366999864578247, 1.9357000589370728, 1.9349000453948975, 1.9300999641418457, 1.9264999628067017, 1.9254000186920166, 1.9249999523162842, 1.9241000413894653, 1.917199969291687, 1.9122999906539917, 1.9098999500274658, 1.9098999500274658, 1.9068000316619873, 1.9012999534606934, 1.8980000019073486, 1.6131000518798828, 1.5371999740600586, 1.8874000310897827, 1.0985000133514404, 1.3341000080108643, 0.24070000648498535, 2.097100019454956, 2.0899999141693115, 2.087100028991699, 2.087100028991699, 2.0864999294281006, 2.085400104522705, 2.0845000743865967, 2.084399938583374, 2.0841000080108643, 2.0831000804901123, 2.0826001167297363, 2.0801000595092773, 2.079400062561035, 2.0764000415802, 2.075900077819824, 2.0750999450683594, 2.074700117111206, 2.0736000537872314, 2.0717999935150146, 2.0708999633789062, 2.0708000659942627, 2.0703999996185303, 2.0694000720977783, 2.0676000118255615, 2.067500114440918, 2.065000057220459, 2.063999891281128, 2.0629000663757324, 2.0625, 2.062299966812134, 2.061500072479248, 2.3645999431610107, 2.3624000549316406, 2.358799934387207, 2.3552000522613525, 2.3496999740600586, 2.3457000255584717, 2.3410000801086426, 2.3397998809814453, 2.3350000381469727, 2.3268001079559326, 2.3241000175476074, 2.3224000930786133, 2.3141000270843506, 2.30679988861084, 2.30649995803833, 2.30649995803833, 2.2992000579833984, 2.298799991607666, 2.2976999282836914, 2.2876999378204346, 2.2737998962402344, 2.2736001014709473, 2.2614998817443848, 2.232800006866455, 2.231800079345703, 2.16729998588562, 2.1484999656677246, 2.1429998874664307, 2.141900062561035, 2.134000062942505, 1.184999942779541, 1.5856000185012817, 1.644700050354004, 1.6765999794006348, 0.5896999835968018, 2.470400094985962, 2.4598000049591064, 2.45770001411438, 2.456399917602539, 2.4547998905181885, 2.4511001110076904, 2.4511001110076904, 2.4505999088287354, 2.4505999088287354, 2.4498000144958496, 2.449700117111206, 2.446000099182129, 2.446000099182129, 2.445499897003174, 2.442699909210205, 2.442500114440918, 2.4316000938415527, 2.4284000396728516, 2.4268999099731445, 2.4226999282836914, 2.420099973678589, 2.413300037384033, 2.411900043487549, 2.395699977874756, 2.3940999507904053, 2.391900062561035, 2.3884999752044678, 2.3877999782562256, 2.3877999782562256, 2.3838999271392822, 2.2249999046325684, 2.2639000415802, 2.211899995803833, 2.671099901199341, 2.6658999919891357, 2.651599884033203, 2.6498000621795654, 2.649199962615967, 2.6484999656677246, 2.6403000354766846, 2.640199899673462, 2.634700059890747, 2.6324000358581543, 2.6282999515533447, 2.6273999214172363, 2.626499891281128, 2.624500036239624, 2.623800039291382, 2.621000051498413, 2.6180999279022217, 2.615499973297119, 2.6135001182556152, 2.612499952316284, 2.609800100326538, 2.6085000038146973, 2.59879994392395, 2.5952999591827393, 2.5843000411987305, 2.559299945831299, 2.549799919128418, 2.529400110244751, 2.510200023651123, 2.5051000118255615, 2.444200038909912, 2.3615000247955322]}, \"token.table\": {\"Topic\": [1, 7, 6, 8, 8, 6, 7, 1, 8, 2, 8, 4, 1, 6, 4, 7, 1, 1, 7, 6, 4, 5, 7, 4, 6, 8, 5, 3, 5, 6, 7, 2, 5, 5, 1, 4, 2, 2, 7, 6, 2, 8, 7, 6, 1, 7, 8, 3, 3, 7, 4, 5, 3, 7, 1, 4, 5, 6, 7, 3, 6, 7, 1, 8, 2, 5, 7, 6, 4, 2, 5, 8, 8, 1, 2, 7, 4, 6, 8, 2, 7, 4, 1, 1, 4, 4, 3, 3, 1, 1, 3, 3, 1, 1, 5, 4, 8, 2, 7, 8, 2, 8, 5, 8, 8, 7, 8, 7, 4, 5, 5, 5, 5, 8, 4, 4, 3, 7, 1, 2, 4, 8, 4, 4, 6, 8, 1, 6, 4, 5, 4, 8, 6, 3, 5, 8, 3, 4, 2, 5, 5, 7, 5, 2, 4, 2, 4, 1, 2, 4, 5, 6, 7, 7, 3, 6, 2, 6, 1, 5, 3, 7, 2, 2, 7, 1, 2, 1, 3, 7, 1, 5, 1, 3, 5, 7, 4, 2, 8, 5, 2, 2, 1, 6, 8, 3, 4, 6, 7, 2, 3, 2, 5, 3, 5, 3, 3, 3, 1, 2, 4, 5, 6, 8, 6, 1, 8, 4, 6, 8, 1, 1, 2, 2, 8, 1, 5, 1, 1, 5, 4, 8, 6, 4, 4, 6, 4, 6, 4, 7, 4, 6, 7, 5, 2, 3, 1, 4, 3, 4, 1, 6, 3, 3, 6, 3, 2, 7, 2, 3, 6, 1, 6, 1, 4, 7, 6, 8, 1, 3, 3, 6, 5, 8, 2, 7, 3, 8, 5, 4, 2, 3, 5, 6, 7, 8, 2, 3, 6, 5, 3, 6, 5, 2, 1, 5, 3], \"Freq\": [0.9631888270378113, 0.9719998836517334, 0.897720992565155, 0.9586997032165527, 0.9507651925086975, 0.9426577091217041, 0.981683075428009, 0.9545942544937134, 0.9439908266067505, 0.9730286598205566, 0.9536307454109192, 0.9298633933067322, 0.9680590033531189, 0.9973511099815369, 0.9945279955863953, 0.9758154153823853, 0.9779084324836731, 0.9656259417533875, 0.9825331568717957, 0.978506863117218, 0.9850782752037048, 0.9900291562080383, 0.948982298374176, 0.6928407549858093, 0.30387750267982483, 0.9646940231323242, 0.9722347259521484, 0.9828131198883057, 0.9771381616592407, 0.8462535738945007, 0.9862260222434998, 0.9730432629585266, 0.9661698937416077, 0.9481402039527893, 0.9837243556976318, 0.9966893792152405, 0.9792137145996094, 0.9564294219017029, 0.9575963020324707, 0.8109934329986572, 0.9646614193916321, 0.9362412095069885, 0.9020026922225952, 0.9045838117599487, 0.9849603772163391, 0.9933837056159973, 0.9769303202629089, 0.9870151281356812, 0.1692778468132019, 0.761750340461731, 0.9843150973320007, 0.9632496237754822, 0.9746671319007874, 0.9428132772445679, 0.9317266345024109, 0.9845094084739685, 0.9381489753723145, 0.990678071975708, 0.9517509937286377, 0.9553213715553284, 0.9328371286392212, 0.9432509541511536, 0.9912857413291931, 0.9659563302993774, 0.10476929694414139, 0.052384648472070694, 0.7857697606086731, 0.9444246888160706, 0.9011187553405762, 0.9887377023696899, 0.07278431951999664, 0.8734118342399597, 0.9244282245635986, 0.9562050104141235, 0.9541587233543396, 0.9608866572380066, 0.9339602589607239, 0.86992347240448, 0.9795119762420654, 0.9897012710571289, 0.9226076602935791, 0.8897193670272827, 0.9178268313407898, 0.9431959390640259, 0.9624494910240173, 0.9397892355918884, 0.9634254574775696, 0.9754341244697571, 0.9805797934532166, 0.991697371006012, 0.9816226959228516, 0.9670521020889282, 0.9313307404518127, 0.970744252204895, 0.9703004956245422, 0.9638016819953918, 0.9626275897026062, 0.9816288352012634, 0.975821852684021, 0.9387723803520203, 0.9816519618034363, 0.9658982753753662, 0.9933683276176453, 0.9629698991775513, 0.9643367528915405, 0.9266238808631897, 0.9771573543548584, 0.9771066904067993, 0.9863438010215759, 0.9947282671928406, 0.9854409694671631, 0.9719281792640686, 0.9376159310340881, 0.9244635701179504, 0.9489808678627014, 0.9047049880027771, 0.9849008917808533, 0.9862533807754517, 0.9435150027275085, 0.9741478562355042, 0.9374699592590332, 0.9407949447631836, 0.9487553238868713, 0.9971176385879517, 0.9842516779899597, 0.8890724778175354, 0.9944447875022888, 0.9641839265823364, 0.9354365468025208, 0.9873306155204773, 0.9847887754440308, 0.9026692509651184, 0.9900109767913818, 0.9910494089126587, 0.973821759223938, 0.8608288168907166, 0.9840784072875977, 0.9936048984527588, 0.9835253953933716, 0.9499086737632751, 0.9406448602676392, 0.9818447828292847, 0.9662826657295227, 0.9888643026351929, 0.9880940318107605, 0.9841431975364685, 0.9338257312774658, 0.0827876403927803, 0.4553320109844208, 0.0827876403927803, 0.12418145686388016, 0.1655752807855606, 0.0827876403927803, 0.9264077544212341, 0.9748706221580505, 0.9110175967216492, 0.9938418865203857, 0.9946577548980713, 0.9481341242790222, 0.9867079854011536, 0.0851779505610466, 0.7666015625, 0.9508515000343323, 0.9952606558799744, 0.9711096882820129, 0.9352224469184875, 0.9826943278312683, 0.9937671422958374, 0.9863619208335876, 0.9876405596733093, 0.9232701659202576, 0.9690101742744446, 0.9497926831245422, 0.9856345653533936, 0.9630918502807617, 0.9717824459075928, 0.9744492769241333, 0.9935097098350525, 0.9385450482368469, 0.9916347861289978, 0.9769237041473389, 0.9773722887039185, 0.10677015036344528, 0.10677015036344528, 0.7473910450935364, 0.5686505436897278, 0.40617895126342773, 0.9062252044677734, 0.8973707556724548, 0.9796554446220398, 0.9883002042770386, 0.9856323003768921, 0.9744519591331482, 0.9763394594192505, 0.9779828786849976, 0.984096348285675, 0.9919185042381287, 0.9699326157569885, 0.05067560821771622, 0.05067560821771622, 0.15202681720256805, 0.05067560821771622, 0.506756067276001, 0.2533780336380005, 0.875816285610199, 0.07878036797046661, 0.7878037095069885, 0.9833385348320007, 0.9858255386352539, 0.8374886512756348, 0.9939125180244446, 0.9964619874954224, 0.9655894041061401, 0.9884593486785889, 0.9897314310073853, 0.6608074903488159, 0.33040374517440796, 0.9688742756843567, 0.9827166199684143, 0.9732797741889954, 0.8959830403327942, 0.9713025093078613, 0.9440802931785583, 0.9889386296272278, 0.9374107718467712, 0.9341890811920166, 0.5257453322410583, 0.45564594864845276, 0.9465051889419556, 0.9493326544761658, 0.905963122844696, 0.7828884124755859, 0.9447454214096069, 0.9786298871040344, 0.9943163394927979, 0.9797296524047852, 0.35030466318130493, 0.6357380747795105, 0.9678832292556763, 0.9919314980506897, 0.9809483885765076, 0.9651672840118408, 0.9609335064888, 0.9936318397521973, 0.8733344674110413, 0.9858428239822388, 0.975541353225708, 0.9266402721405029, 0.3822794258594513, 0.5925331115722656, 0.975153386592865, 0.9822589755058289, 0.9169866442680359, 0.823417603969574, 0.17965474724769592, 0.9264246225357056, 0.9291279315948486, 0.8777629733085632, 0.987083911895752, 0.9781075119972229, 0.9848302602767944, 0.9566946029663086, 0.9802916646003723, 0.9870856404304504, 0.9909999966621399, 0.948982298374176, 0.9894117116928101, 0.9479871392250061, 0.9548757672309875, 0.9761927127838135, 0.06496808677911758, 0.3248404562473297, 0.12993617355823517, 0.5197446942329407, 0.9066053628921509, 0.8844553828239441, 0.9732704758644104, 0.9739753603935242, 0.9693050980567932, 0.9475795030593872, 0.9626285433769226, 0.9645906090736389, 0.9711841344833374, 0.9876664280891418, 0.9953327178955078, 0.9668522477149963, 0.9481608867645264], \"Term\": [\"able\", \"accessory\", \"account\", \"adapter\", \"advertise\", \"already\", \"annoy\", \"annoying\", \"app\", \"arrive\", \"audio\", \"avoid\", \"back\", \"bad\", \"battery\", \"believe\", \"bit\", \"black\", \"bottom\", \"brand_new\", \"break\", \"broken\", \"browser\", \"buy\", \"buy\", \"cable\", \"call\", \"camera\", \"care\", \"carefully\", \"carrier\", \"case\", \"certain\", \"certify\", \"chance\", \"charge\", \"charger\", \"charging_cable\", \"cheap\", \"cheat\", \"check\", \"claim\", \"clean\", \"clearly\", \"complete\", \"condition\", \"consistently\", \"contact\", \"cool\", \"cool\", \"cost\", \"couple\", \"cover\", \"crack\", \"cracked\", \"currently\", \"damage\", \"day\", \"describe\", \"description\", \"device\", \"disappoint\", \"disappointed\", \"disappointing\", \"distort\", \"distort\", \"distort\", \"dog\", \"dollar\", \"drop\", \"earphone\", \"earphone\", \"edge\", \"else\", \"end\", \"especially\", \"ever\", \"excited\", \"expect\", \"experience\", \"extremely\", \"face_id\", \"facetime\", \"fact\", \"fault\", \"feature\", \"figure\", \"find\", \"fine\", \"first\", \"fix\", \"flash\", \"freeze\", \"front\", \"full\", \"fully\", \"garbage\", \"give\", \"glass\", \"great\", \"happen\", \"happy\", \"hard\", \"headache\", \"headphone\", \"high\", \"highly\", \"hold\", \"horrible\", \"hot\", \"hour\", \"immediately\", \"impossible\", \"inch\", \"include\", \"internally\", \"issue\", \"item\", \"keep\", \"kinda\", \"last\", \"least\", \"less\", \"life\", \"little\", \"locked\", \"look\", \"low\", \"matter\", \"microphone\", \"minute\", \"mobile\", \"money\", \"month\", \"much\", \"network\", \"never\", \"new\", \"next\", \"notice\", \"number\", \"often\", \"old\", \"one\", \"order\", \"original\", \"originally\", \"outer\", \"outer\", \"outer\", \"outer\", \"outer\", \"outer\", \"package\", \"packaging\", \"party\", \"pay\", \"people\", \"perfectly\", \"picture\", \"plenty\", \"plenty\", \"plug\", \"point\", \"poor\", \"pretty\", \"price\", \"problem\", \"product\", \"program\", \"promise\", \"properly\", \"protector\", \"purchase\", \"put\", \"quality\", \"randomly\", \"really\", \"reason\", \"receive\", \"recommend\", \"refund\", \"refunded\", \"refunded\", \"refunded\", \"refurbish\", \"refurbish\", \"refuse\", \"remain\", \"renew\", \"repair\", \"replace\", \"report\", \"reset\", \"respond\", \"restore\", \"return\", \"review\", \"rip\", \"rip\", \"rip\", \"rip\", \"rip\", \"rip\", \"risk\", \"rough\", \"rough\", \"sad\", \"save\", \"scam\", \"scratch\", \"screen\", \"second\", \"sell\", \"seller\", \"send\", \"send\", \"serious\", \"service\", \"set\", \"several\", \"shape\", \"shatter\", \"ship\", \"shoot\", \"short\", \"show\", \"show\", \"shut\", \"sin\", \"slight\", \"soon\", \"sorry\", \"sound\", \"speaker\", \"spend\", \"start\", \"start\", \"state\", \"stay\", \"still\", \"stop\", \"stopped_worke\", \"store\", \"super\", \"support\", \"sure\", \"talk\", \"tell\", \"tell\", \"terrible\", \"thing\", \"third\", \"time\", \"time\", \"top\", \"total\", \"tray\", \"turn\", \"twice\", \"unable\", \"unfortunately\", \"unit\", \"unlock\", \"unlocked\", \"unsupported\", \"update\", \"upgrade\", \"useless\", \"various\", \"version\", \"version\", \"version\", \"version\", \"video\", \"visible\", \"wait\", \"warranty\", \"waste\", \"water\", \"way\", \"week\", \"well\", \"wifi\", \"work\", \"worry\", \"wrong\"]}, \"R\": 30, \"lambda.step\": 0.01, \"plot.opts\": {\"xlab\": \"PC1\", \"ylab\": \"PC2\"}, \"topic.order\": [7, 6, 2, 4, 3, 8, 5, 1]};\n",
              "\n",
              "function LDAvis_load_lib(url, callback){\n",
              "  var s = document.createElement('script');\n",
              "  s.src = url;\n",
              "  s.async = true;\n",
              "  s.onreadystatechange = s.onload = callback;\n",
              "  s.onerror = function(){console.warn(\"failed to load library \" + url);};\n",
              "  document.getElementsByTagName(\"head\")[0].appendChild(s);\n",
              "}\n",
              "\n",
              "if(typeof(LDAvis) !== \"undefined\"){\n",
              "   // already loaded: just create the visualization\n",
              "   !function(LDAvis){\n",
              "       new LDAvis(\"#\" + \"ldavis_el1231397331711853689768050382\", ldavis_el1231397331711853689768050382_data);\n",
              "   }(LDAvis);\n",
              "}else if(typeof define === \"function\" && define.amd){\n",
              "   // require.js is available: use it to load d3/LDAvis\n",
              "   require.config({paths: {d3: \"https://cdnjs.cloudflare.com/ajax/libs/d3/3.5.5/d3.min\"}});\n",
              "   require([\"d3\"], function(d3){\n",
              "      window.d3 = d3;\n",
              "      LDAvis_load_lib(\"https://cdn.rawgit.com/bmabey/pyLDAvis/files/ldavis.v1.0.0.js\", function(){\n",
              "        new LDAvis(\"#\" + \"ldavis_el1231397331711853689768050382\", ldavis_el1231397331711853689768050382_data);\n",
              "      });\n",
              "    });\n",
              "}else{\n",
              "    // require.js not available: dynamically load d3 & LDAvis\n",
              "    LDAvis_load_lib(\"https://cdnjs.cloudflare.com/ajax/libs/d3/3.5.5/d3.min.js\", function(){\n",
              "         LDAvis_load_lib(\"https://cdn.rawgit.com/bmabey/pyLDAvis/files/ldavis.v1.0.0.js\", function(){\n",
              "                 new LDAvis(\"#\" + \"ldavis_el1231397331711853689768050382\", ldavis_el1231397331711853689768050382_data);\n",
              "            })\n",
              "         });\n",
              "}\n",
              "</script>"
            ],
            "text/plain": [
              "PreparedData(topic_coordinates=              x         y  topics  cluster       Freq\n",
              "topic                                                \n",
              "6     -0.257126  0.124749       1        1  17.437113\n",
              "5      0.305488  0.149010       2        1  16.683523\n",
              "1      0.032955 -0.342876       3        1  15.352009\n",
              "3     -0.074122  0.012329       4        1  13.751329\n",
              "2      0.030493  0.016614       5        1  12.188826\n",
              "7      0.021887 -0.016796       6        1   9.364505\n",
              "4     -0.021777  0.048877       7        1   8.362230\n",
              "0     -0.037798  0.008092       8        1   6.860465, topic_info=          Term        Freq       Total Category  logprob  loglift\n",
              "198        bad  191.000000  191.000000  Default  30.0000  30.0000\n",
              "113     screen  251.000000  251.000000  Default  29.0000  29.0000\n",
              "51     battery  202.000000  202.000000  Default  28.0000  28.0000\n",
              "120       work  226.000000  226.000000  Default  27.0000  27.0000\n",
              "97         day  119.000000  119.000000  Default  26.0000  26.0000\n",
              "...        ...         ...         ...      ...      ...      ...\n",
              "1869  earphone   11.825729   13.739223   Topic8  -4.3218   2.5294\n",
              "655    network    3.923486    4.646685   Topic8  -5.4251   2.5102\n",
              "795    visible    3.799223    4.522557   Topic8  -5.4573   2.5051\n",
              "1826     rough   10.032689   12.693518   Topic8  -4.4862   2.4442\n",
              "1874  refunded    6.815546    9.365913   Topic8  -4.8729   2.3615\n",
              "\n",
              "[295 rows x 6 columns], token_table=      Topic      Freq       Term\n",
              "term                            \n",
              "92        1  0.963189       able\n",
              "1199      7  0.972000  accessory\n",
              "525       6  0.897721    account\n",
              "1317      8  0.958700    adapter\n",
              "1079      8  0.950765  advertise\n",
              "...     ...       ...        ...\n",
              "150       5  0.971184       well\n",
              "599       2  0.987666       wifi\n",
              "120       1  0.995333       work\n",
              "1576      5  0.966852      worry\n",
              "49        3  0.948161      wrong\n",
              "\n",
              "[287 rows x 3 columns], R=30, lambda_step=0.01, plot_opts={'xlab': 'PC1', 'ylab': 'PC2'}, topic_order=[7, 6, 2, 4, 3, 8, 5, 1])"
            ]
          },
          "metadata": {
            "tags": []
          },
          "execution_count": 102
        }
      ]
    },
    {
      "cell_type": "code",
      "metadata": {
        "id": "sjsf0nDy1cT8",
        "colab_type": "code",
        "outputId": "53541393-3a03-4228-9eee-8978b85d1894",
        "cellView": "form",
        "colab": {
          "base_uri": "https://localhost:8080/",
          "height": 325
        }
      },
      "source": [
        "#@title Coherence Scores\n",
        "from gensim.models.ldamodel import LdaModel\n",
        "coherence_model_lda = CoherenceModel(model=lda_model, texts=data_ready, dictionary=id2word, coherence='c_v')\n",
        "coherence_lda = coherence_model_lda.get_coherence()\n",
        "print('\\nCoherence Score: ', coherence_lda)\n",
        "warnings.filterwarnings(\"ignore\", category=DeprecationWarning)\n",
        "\n",
        "def compute_coherence_values(dictionary, corpus, texts, limit, start=2, step=3):\n",
        "    coherence_values = []\n",
        "    model_list = []\n",
        "    for num_topics in range(start, limit, step):\n",
        "        model=LdaModel(corpus=corpus, id2word=dictionary, num_topics=num_topics)\n",
        "        model_list.append(model)\n",
        "        coherencemodel = CoherenceModel(model=model, texts=texts, dictionary=dictionary, coherence='c_v')\n",
        "        coherence_values.append(coherencemodel.get_coherence())\n",
        "\n",
        "    return model_list, coherence_values\n",
        "\n",
        "model_list, coherence_values = compute_coherence_values(dictionary=id2word, corpus=corpus, texts=data_ready, start=2, limit=40, step=6)\n",
        "# Show graph\n",
        "import matplotlib.pyplot as plt\n",
        "limit=40; start=2; step=6;\n",
        "x = range(start, limit, step)\n",
        "plt.plot(x, coherence_values)\n",
        "plt.xlabel(\"Num Topics\")\n",
        "plt.ylabel(\"Coherence score\")\n",
        "plt.legend((\"coherence_values\"), loc='best')\n",
        "plt.show()"
      ],
      "execution_count": 0,
      "outputs": [
        {
          "output_type": "stream",
          "text": [
            "\n",
            "Coherence Score:  0.37280413286395553\n"
          ],
          "name": "stdout"
        },
        {
          "output_type": "display_data",
          "data": {
            "image/png": "[encoded data removed]",
            "text/plain": [
              "<Figure size 432x288 with 1 Axes>"
            ]
          },
          "metadata": {
            "tags": []
          }
        }
      ]
    },
    {
      "cell_type": "markdown",
      "metadata": {
        "id": "6UBIHYIU-CxQ",
        "colab_type": "text"
      },
      "source": [
        "## NMF"
      ]
    },
    {
      "cell_type": "code",
      "metadata": {
        "id": "q3xc028WWt5N",
        "colab_type": "code",
        "outputId": "7e9f51de-d9bf-48d1-ef40-d9d5c57f8141",
        "colab": {
          "base_uri": "https://localhost:8080/",
          "height": 669
        }
      },
      "source": [
        "from sklearn.feature_extraction.text import CountVectorizer, TfidfTransformer;\n",
        "from sklearn.decomposition import NMF;\n",
        "from sklearn.preprocessing import normalize;\n",
        "\n",
        "num_topics=6\n",
        "\n",
        "corpus_nmf = [' '.join(text) for text in data_ready]\n",
        "vectorizer = CountVectorizer(analyzer='word', max_features=5000,ngram_range=(2,3));\n",
        "\n",
        "x_counts = vectorizer.fit_transform(corpus_nmf);\n",
        "transformer = TfidfTransformer(smooth_idf=False);\n",
        "x_tfidf = transformer.fit_transform(x_counts)\n",
        "xtfidf_norm = normalize(x_tfidf, norm='l1', axis=1)\n",
        "\n",
        "model = NMF(n_components=num_topics, init='nndsvd');\n",
        "nmf_model=model.fit(xtfidf_norm)\n",
        "\n",
        "def get_nmf_topics(model, n_top_words):\n",
        "    \n",
        "    #the word ids obtained need to be reverse-mapped to the words so we can print the topic names.\n",
        "    feat_names = vectorizer.get_feature_names()\n",
        "    \n",
        "    word_dict = {};\n",
        "    for i in range(num_topics):\n",
        "        \n",
        "        #for each topic, obtain the largest values, and add the words they map to into the dictionary.\n",
        "        words_ids = model.components_[i].argsort()[:-20 - 1:-1]\n",
        "        words = [feat_names[key] for key in words_ids]\n",
        "        word_dict['Topic # ' + '{:02d}'.format(i+1)] = words;\n",
        "    \n",
        "    return pd.DataFrame(word_dict);\n",
        "get_nmf_topics(model, 20)"
      ],
      "execution_count": 0,
      "outputs": [
        {
          "output_type": "execute_result",
          "data": {
            "text/html": [
              "<div>\n",
              "<style scoped>\n",
              "    .dataframe tbody tr th:only-of-type {\n",
              "        vertical-align: middle;\n",
              "    }\n",
              "\n",
              "    .dataframe tbody tr th {\n",
              "        vertical-align: top;\n",
              "    }\n",
              "\n",
              "    .dataframe thead th {\n",
              "        text-align: right;\n",
              "    }\n",
              "</style>\n",
              "<table border=\"1\" class=\"dataframe\">\n",
              "  <thead>\n",
              "    <tr style=\"text-align: right;\">\n",
              "      <th></th>\n",
              "      <th>Topic # 01</th>\n",
              "      <th>Topic # 02</th>\n",
              "      <th>Topic # 03</th>\n",
              "      <th>Topic # 04</th>\n",
              "      <th>Topic # 05</th>\n",
              "      <th>Topic # 06</th>\n",
              "    </tr>\n",
              "  </thead>\n",
              "  <tbody>\n",
              "    <tr>\n",
              "      <th>0</th>\n",
              "      <td>great price</td>\n",
              "      <td>value money</td>\n",
              "      <td>excellent product</td>\n",
              "      <td>best ever</td>\n",
              "      <td>amazing price</td>\n",
              "      <td>work great</td>\n",
              "    </tr>\n",
              "    <tr>\n",
              "      <th>1</th>\n",
              "      <td>price buy</td>\n",
              "      <td>great value</td>\n",
              "      <td>product perfect</td>\n",
              "      <td>ever buy</td>\n",
              "      <td>absolutely amazing</td>\n",
              "      <td>amazing work</td>\n",
              "    </tr>\n",
              "    <tr>\n",
              "      <th>2</th>\n",
              "      <td>great great price</td>\n",
              "      <td>great value money</td>\n",
              "      <td>incomparable service</td>\n",
              "      <td>life day</td>\n",
              "      <td>really amazing</td>\n",
              "      <td>buy wife</td>\n",
              "    </tr>\n",
              "    <tr>\n",
              "      <th>3</th>\n",
              "      <td>great great</td>\n",
              "      <td>fast shipping</td>\n",
              "      <td>product describe</td>\n",
              "      <td>lightne fast</td>\n",
              "      <td>price well</td>\n",
              "      <td>battery life</td>\n",
              "    </tr>\n",
              "    <tr>\n",
              "      <th>4</th>\n",
              "      <td>snappy responsive</td>\n",
              "      <td>awesome value</td>\n",
              "      <td>product great</td>\n",
              "      <td>call call</td>\n",
              "      <td>great fast</td>\n",
              "      <td>great problem</td>\n",
              "    </tr>\n",
              "    <tr>\n",
              "      <th>5</th>\n",
              "      <td>price work</td>\n",
              "      <td>half price</td>\n",
              "      <td>half price</td>\n",
              "      <td>great far</td>\n",
              "      <td>fast amazing</td>\n",
              "      <td>like work</td>\n",
              "    </tr>\n",
              "    <tr>\n",
              "      <th>6</th>\n",
              "      <td>great camera</td>\n",
              "      <td>spend much</td>\n",
              "      <td>great camara</td>\n",
              "      <td>work perfectly</td>\n",
              "      <td>love amazing</td>\n",
              "      <td>work perfectly</td>\n",
              "    </tr>\n",
              "    <tr>\n",
              "      <th>7</th>\n",
              "      <td>fast shipping</td>\n",
              "      <td>last year</td>\n",
              "      <td>product love</td>\n",
              "      <td>love device</td>\n",
              "      <td>arrive today</td>\n",
              "      <td>great day</td>\n",
              "    </tr>\n",
              "    <tr>\n",
              "      <th>8</th>\n",
              "      <td>really amazing</td>\n",
              "      <td>processing power</td>\n",
              "      <td>love far</td>\n",
              "      <td>battery life</td>\n",
              "      <td>fall love</td>\n",
              "      <td>charger version</td>\n",
              "    </tr>\n",
              "    <tr>\n",
              "      <th>9</th>\n",
              "      <td>picture quality</td>\n",
              "      <td>impress far</td>\n",
              "      <td>overall excellent</td>\n",
              "      <td>great camera</td>\n",
              "      <td>still better</td>\n",
              "      <td>love work</td>\n",
              "    </tr>\n",
              "    <tr>\n",
              "      <th>10</th>\n",
              "      <td>replaceable battery</td>\n",
              "      <td>battery life</td>\n",
              "      <td>excellent price</td>\n",
              "      <td>excellent happy</td>\n",
              "      <td>thing redemi note</td>\n",
              "      <td>love work great</td>\n",
              "    </tr>\n",
              "    <tr>\n",
              "      <th>11</th>\n",
              "      <td>price wish</td>\n",
              "      <td>battery well</td>\n",
              "      <td>product money</td>\n",
              "      <td>give best</td>\n",
              "      <td>thing redemi</td>\n",
              "      <td>great well</td>\n",
              "    </tr>\n",
              "    <tr>\n",
              "      <th>12</th>\n",
              "      <td>price great</td>\n",
              "      <td>value money price</td>\n",
              "      <td>camera overall</td>\n",
              "      <td>happy purchase</td>\n",
              "      <td>price compete</td>\n",
              "      <td>great picture</td>\n",
              "    </tr>\n",
              "    <tr>\n",
              "      <th>13</th>\n",
              "      <td>battery life</td>\n",
              "      <td>exceed expectation</td>\n",
              "      <td>money pay</td>\n",
              "      <td>love much</td>\n",
              "      <td>price cost</td>\n",
              "      <td>great product</td>\n",
              "    </tr>\n",
              "    <tr>\n",
              "      <th>14</th>\n",
              "      <td>buy love</td>\n",
              "      <td>money price</td>\n",
              "      <td>sun long</td>\n",
              "      <td>work great camera</td>\n",
              "      <td>worth pay</td>\n",
              "      <td>money work</td>\n",
              "    </tr>\n",
              "    <tr>\n",
              "      <th>15</th>\n",
              "      <td>son love</td>\n",
              "      <td>way better</td>\n",
              "      <td>sun long operate</td>\n",
              "      <td>better old</td>\n",
              "      <td>price compare</td>\n",
              "      <td>worth money</td>\n",
              "    </tr>\n",
              "    <tr>\n",
              "      <th>16</th>\n",
              "      <td>mobile lte</td>\n",
              "      <td>international charger</td>\n",
              "      <td>display look great</td>\n",
              "      <td>much work</td>\n",
              "      <td>price still</td>\n",
              "      <td>name brand</td>\n",
              "    </tr>\n",
              "    <tr>\n",
              "      <th>17</th>\n",
              "      <td>price excellent</td>\n",
              "      <td>price performance</td>\n",
              "      <td>display look</td>\n",
              "      <td>great battery life</td>\n",
              "      <td>great amazing</td>\n",
              "      <td>brand work</td>\n",
              "    </tr>\n",
              "    <tr>\n",
              "      <th>18</th>\n",
              "      <td>hard find</td>\n",
              "      <td>incredible value</td>\n",
              "      <td>small hand</td>\n",
              "      <td>great battery</td>\n",
              "      <td>thing consider</td>\n",
              "      <td>great fast</td>\n",
              "    </tr>\n",
              "    <tr>\n",
              "      <th>19</th>\n",
              "      <td>price hard</td>\n",
              "      <td>great battery</td>\n",
              "      <td>fast smooth</td>\n",
              "      <td>picture video</td>\n",
              "      <td>pretty price</td>\n",
              "      <td>great far</td>\n",
              "    </tr>\n",
              "  </tbody>\n",
              "</table>\n",
              "</div>"
            ],
            "text/plain": [
              "             Topic # 01  ...       Topic # 06\n",
              "0           great price  ...       work great\n",
              "1             price buy  ...     amazing work\n",
              "2     great great price  ...         buy wife\n",
              "3           great great  ...     battery life\n",
              "4     snappy responsive  ...    great problem\n",
              "5            price work  ...        like work\n",
              "6          great camera  ...   work perfectly\n",
              "7         fast shipping  ...        great day\n",
              "8        really amazing  ...  charger version\n",
              "9       picture quality  ...        love work\n",
              "10  replaceable battery  ...  love work great\n",
              "11           price wish  ...       great well\n",
              "12          price great  ...    great picture\n",
              "13         battery life  ...    great product\n",
              "14             buy love  ...       money work\n",
              "15             son love  ...      worth money\n",
              "16           mobile lte  ...       name brand\n",
              "17      price excellent  ...       brand work\n",
              "18            hard find  ...       great fast\n",
              "19           price hard  ...        great far\n",
              "\n",
              "[20 rows x 6 columns]"
            ]
          },
          "metadata": {
            "tags": []
          },
          "execution_count": 89
        }
      ]
    },
    {
      "cell_type": "markdown",
      "metadata": {
        "id": "lFRtOzxW97na",
        "colab_type": "text"
      },
      "source": [
        "# Predictions - Logistic Regression, Naive Bayes, SVM and Random Forests"
      ]
    },
    {
      "cell_type": "code",
      "metadata": {
        "id": "xYkgsjIt993I",
        "colab_type": "code",
        "cellView": "both",
        "colab": {}
      },
      "source": [
        "#@title Data setup\n",
        "topic_df['body'] = topic_df['body'].astype(str)\n",
        "predictions_data = topic_df.copy()\n",
        "predictions_data['clean_text'] = predictions_data['body'].apply(clean_text)\n",
        "X = predictions_data.clean_text\n",
        "y = predictions_data.rating_x\n",
        "X_train, X_test, y_train, y_test = train_test_split(X, y, test_size=0.3, random_state = 42)\n",
        "\n",
        "def round_perc(decimal):\n",
        "  value = str(round(decimal*100, 2))+\"%\"\n",
        "  return value\n",
        "#tfidf_vectorizer=TfidfVectorizer(ngram_range=(1,2))\n",
        "#vectors = tfidf_vectorizer.fit_transform(topic_df['rating_x'])"
      ],
      "execution_count": 0,
      "outputs": []
    },
    {
      "cell_type": "code",
      "metadata": {
        "id": "0sGubvp1VOCA",
        "colab_type": "code",
        "cellView": "both",
        "outputId": "2a949db7-5e19-4416-fb82-35f02bdb7b6d",
        "colab": {
          "base_uri": "https://localhost:8080/",
          "height": 238
        }
      },
      "source": [
        "#@title Logistic Regression\n",
        " \n",
        "logreg = Pipeline([('vect', CountVectorizer()),\n",
        "                ('tfidf', TfidfTransformer()),\n",
        "                ('clf', LogisticRegression(max_iter=100,n_jobs=-1, C=1e5)),\n",
        "               ])\n",
        "logreg.fit(X_train, y_train)\n",
        "\n",
        "y_pred = logreg.predict(X_test)\n",
        "\n",
        "print('Accuracy = %s' % round_perc(accuracy_score(y_pred, y_test)))\n",
        "print(classification_report(y_test, y_pred))"
      ],
      "execution_count": 0,
      "outputs": [
        {
          "output_type": "stream",
          "text": [
            "Accuracy = 68.68%\n",
            "              precision    recall  f1-score   support\n",
            "\n",
            "           1       0.68      0.71      0.69      3844\n",
            "           2       0.24      0.24      0.24      1122\n",
            "           3       0.27      0.20      0.23      1409\n",
            "           4       0.34      0.20      0.25      2606\n",
            "           5       0.80      0.90      0.85     11415\n",
            "\n",
            "    accuracy                           0.69     20396\n",
            "   macro avg       0.47      0.45      0.45     20396\n",
            "weighted avg       0.65      0.69      0.67     20396\n",
            "\n"
          ],
          "name": "stdout"
        }
      ]
    },
    {
      "cell_type": "code",
      "metadata": {
        "id": "sE8A05rBrWIp",
        "colab_type": "code",
        "cellView": "both",
        "outputId": "93df2ddf-8a28-483b-c681-dd32fdd27351",
        "colab": {
          "base_uri": "https://localhost:8080/",
          "height": 238
        }
      },
      "source": [
        "#@title Support Vector Machines\n",
        "\n",
        "sgd = Pipeline([('vect', CountVectorizer()),\n",
        "                ('tfidf', TfidfTransformer()),\n",
        "                ('clf', SGDClassifier(loss='hinge', penalty='l2',alpha=1e-3, random_state=42, max_iter=5, tol=None)),\n",
        "               ])\n",
        "sgd.fit(X_train, y_train)\n",
        "\n",
        "y_pred = sgd.predict(X_test)\n",
        "\n",
        "print('Accuracy = %s' % round_perc(accuracy_score(y_pred, y_test)))\n",
        "print(classification_report(y_test, y_pred))\n"
      ],
      "execution_count": 0,
      "outputs": [
        {
          "output_type": "stream",
          "text": [
            "Accuracy = 66.19%\n",
            "              precision    recall  f1-score   support\n",
            "\n",
            "           1       0.70      0.56      0.62      3844\n",
            "           2       1.00      0.00      0.00      1122\n",
            "           3       0.42      0.00      0.01      1409\n",
            "           4       0.22      0.00      0.00      2606\n",
            "           5       0.66      0.99      0.79     11415\n",
            "\n",
            "    accuracy                           0.66     20396\n",
            "   macro avg       0.60      0.31      0.29     20396\n",
            "weighted avg       0.61      0.66      0.56     20396\n",
            "\n"
          ],
          "name": "stdout"
        }
      ]
    },
    {
      "cell_type": "code",
      "metadata": {
        "id": "O6ADyd_grdCy",
        "colab_type": "code",
        "cellView": "both",
        "outputId": "47385a9e-8330-4d7d-ec55-0b60b6fbf9a0",
        "colab": {
          "base_uri": "https://localhost:8080/",
          "height": 292
        }
      },
      "source": [
        "#@title Naive Bayes Classifier\n",
        "\n",
        "nb = Pipeline([('vect', CountVectorizer()),\n",
        "               ('tfidf', TfidfTransformer()),\n",
        "               ('clf', MultinomialNB()),\n",
        "              ])\n",
        "nb.fit(X_train, y_train)\n",
        "\n",
        "from sklearn.metrics import classification_report\n",
        "y_pred = nb.predict(X_test)\n",
        "\n",
        "print('Accuracy = %s' % round_perc(accuracy_score(y_pred, y_test)))\n",
        "print(classification_report(y_test, y_pred))"
      ],
      "execution_count": 0,
      "outputs": [
        {
          "output_type": "stream",
          "text": [
            "Accuracy = 64.9%\n",
            "              precision    recall  f1-score   support\n",
            "\n",
            "           1       0.77      0.49      0.60      3844\n",
            "           2       0.00      0.00      0.00      1122\n",
            "           3       0.00      0.00      0.00      1409\n",
            "           4       0.33      0.00      0.00      2606\n",
            "           5       0.63      1.00      0.77     11415\n",
            "\n",
            "    accuracy                           0.65     20396\n",
            "   macro avg       0.35      0.30      0.27     20396\n",
            "weighted avg       0.54      0.65      0.55     20396\n",
            "\n"
          ],
          "name": "stdout"
        },
        {
          "output_type": "stream",
          "text": [
            "/usr/local/lib/python3.6/dist-packages/sklearn/metrics/_classification.py:1272: UndefinedMetricWarning: Precision and F-score are ill-defined and being set to 0.0 in labels with no predicted samples. Use `zero_division` parameter to control this behavior.\n",
            "  _warn_prf(average, modifier, msg_start, len(result))\n"
          ],
          "name": "stderr"
        }
      ]
    },
    {
      "cell_type": "code",
      "metadata": {
        "id": "kQkoLdWadv9U",
        "colab_type": "code",
        "cellView": "both",
        "outputId": "e56ccf13-9fb4-4183-ff11-dbb7ff32317a",
        "colab": {
          "base_uri": "https://localhost:8080/",
          "height": 238
        }
      },
      "source": [
        "#@title Random Forest\n",
        "pipeline = Pipeline([\n",
        "    ('Tf-Idf', TfidfVectorizer(ngram_range=(1,2), analyzer=clean_text)),\n",
        "    ('classifier', RandomForestClassifier())])\n",
        "\n",
        "pipeline.fit(X_train, y_train)\n",
        "pipeline_predictedRF= pipeline.predict(X_test)\n",
        "print(metrics.classification_report(y_test, pipeline_predictedRF))\n",
        "print('Accuracy = %s' % round_perc(accuracy_score(pipeline_predictedRF, y_test)))"
      ],
      "execution_count": 0,
      "outputs": [
        {
          "output_type": "stream",
          "text": [
            "              precision    recall  f1-score   support\n",
            "\n",
            "           1       0.62      0.33      0.43      3844\n",
            "           2       0.87      0.07      0.13      1122\n",
            "           3       0.92      0.07      0.13      1409\n",
            "           4       0.76      0.06      0.11      2606\n",
            "           5       0.62      0.97      0.76     11415\n",
            "\n",
            "    accuracy                           0.62     20396\n",
            "   macro avg       0.76      0.30      0.31     20396\n",
            "weighted avg       0.67      0.62      0.53     20396\n",
            "\n",
            "Accuracy = 62.28%\n"
          ],
          "name": "stdout"
        }
      ]
    },
    {
      "cell_type": "code",
      "metadata": {
        "id": "e7fT0y6tokTX",
        "colab_type": "code",
        "colab": {}
      },
      "source": [
        ""
      ],
      "execution_count": 0,
      "outputs": []
    }
  ]
}