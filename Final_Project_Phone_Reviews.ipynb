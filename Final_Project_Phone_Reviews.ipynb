{
  "nbformat": 4,
  "nbformat_minor": 0,
  "metadata": {
    "colab": {
      "name": "Final Project - Phone Reviews.ipynb",
      "provenance": [],
      "collapsed_sections": [],
      "toc_visible": true,
      "include_colab_link": true
    },
    "kernelspec": {
      "name": "python3",
      "display_name": "Python 3"
    },
    "accelerator": "GPU"
  },
  "cells": [
    {
      "cell_type": "markdown",
      "metadata": {
        "id": "view-in-github",
        "colab_type": "text"
      },
      "source": [
        "<a href=\"https://colab.research.google.com/github/Vish4github/Projects/blob/master/Final_Project_Phone_Reviews.ipynb\" target=\"_parent\"><img src=\"https://colab.research.google.com/assets/colab-badge.svg\" alt=\"Open In Colab\"/></a>"
      ]
    },
    {
      "cell_type": "markdown",
      "metadata": {
        "id": "XDbkLhjirs04",
        "colab_type": "text"
      },
      "source": [
        "# Python Libraries\n"
      ]
    },
    {
      "cell_type": "code",
      "metadata": {
        "id": "ZomFzcnyjo69",
        "colab_type": "code",
        "outputId": "5c72e5e6-2431-42e9-9aff-10e803aab334",
        "cellView": "form",
        "colab": {
          "base_uri": "https://localhost:8080/",
          "height": 448
        }
      },
      "source": [
        "#@title Install non-generic libraries\n",
        "#@markdown vaderSentiment, pyLDAvis\n",
        "!pip install vaderSentiment\n",
        "!pip install pyLDAvis"
      ],
      "execution_count": 0,
      "outputs": [
        {
          "output_type": "stream",
          "text": [
            "Requirement already satisfied: vaderSentiment in /usr/local/lib/python3.6/dist-packages (3.3.1)\n",
            "Requirement already satisfied: pyLDAvis in /usr/local/lib/python3.6/dist-packages (2.1.2)\n",
            "Requirement already satisfied: future in /usr/local/lib/python3.6/dist-packages (from pyLDAvis) (0.16.0)\n",
            "Requirement already satisfied: pytest in /usr/local/lib/python3.6/dist-packages (from pyLDAvis) (3.6.4)\n",
            "Requirement already satisfied: numpy>=1.9.2 in /usr/local/lib/python3.6/dist-packages (from pyLDAvis) (1.18.3)\n",
            "Requirement already satisfied: funcy in /usr/local/lib/python3.6/dist-packages (from pyLDAvis) (1.14)\n",
            "Requirement already satisfied: jinja2>=2.7.2 in /usr/local/lib/python3.6/dist-packages (from pyLDAvis) (2.11.2)\n",
            "Requirement already satisfied: wheel>=0.23.0 in /usr/local/lib/python3.6/dist-packages (from pyLDAvis) (0.34.2)\n",
            "Requirement already satisfied: joblib>=0.8.4 in /usr/local/lib/python3.6/dist-packages (from pyLDAvis) (0.14.1)\n",
            "Requirement already satisfied: numexpr in /usr/local/lib/python3.6/dist-packages (from pyLDAvis) (2.7.1)\n",
            "Requirement already satisfied: scipy>=0.18.0 in /usr/local/lib/python3.6/dist-packages (from pyLDAvis) (1.4.1)\n",
            "Requirement already satisfied: pandas>=0.17.0 in /usr/local/lib/python3.6/dist-packages (from pyLDAvis) (1.0.3)\n",
            "Requirement already satisfied: six>=1.10.0 in /usr/local/lib/python3.6/dist-packages (from pytest->pyLDAvis) (1.12.0)\n",
            "Requirement already satisfied: setuptools in /usr/local/lib/python3.6/dist-packages (from pytest->pyLDAvis) (46.1.3)\n",
            "Requirement already satisfied: attrs>=17.4.0 in /usr/local/lib/python3.6/dist-packages (from pytest->pyLDAvis) (19.3.0)\n",
            "Requirement already satisfied: py>=1.5.0 in /usr/local/lib/python3.6/dist-packages (from pytest->pyLDAvis) (1.8.1)\n",
            "Requirement already satisfied: pluggy<0.8,>=0.5 in /usr/local/lib/python3.6/dist-packages (from pytest->pyLDAvis) (0.7.1)\n",
            "Requirement already satisfied: more-itertools>=4.0.0 in /usr/local/lib/python3.6/dist-packages (from pytest->pyLDAvis) (8.2.0)\n",
            "Requirement already satisfied: atomicwrites>=1.0 in /usr/local/lib/python3.6/dist-packages (from pytest->pyLDAvis) (1.3.0)\n",
            "Requirement already satisfied: MarkupSafe>=0.23 in /usr/local/lib/python3.6/dist-packages (from jinja2>=2.7.2->pyLDAvis) (1.1.1)\n",
            "Requirement already satisfied: python-dateutil>=2.6.1 in /usr/local/lib/python3.6/dist-packages (from pandas>=0.17.0->pyLDAvis) (2.8.1)\n",
            "Requirement already satisfied: pytz>=2017.2 in /usr/local/lib/python3.6/dist-packages (from pandas>=0.17.0->pyLDAvis) (2018.9)\n"
          ],
          "name": "stdout"
        }
      ]
    },
    {
      "cell_type": "code",
      "metadata": {
        "id": "YvKBs7h5rjwL",
        "colab_type": "code",
        "outputId": "de02fbcf-24dc-456c-eebe-ce82f10e7381",
        "cellView": "form",
        "colab": {
          "base_uri": "https://localhost:8080/",
          "height": 166
        }
      },
      "source": [
        "#@title Import libraries\n",
        "from __future__ import print_function\n",
        "\n",
        "import numpy as np\n",
        "import pandas as pd\n",
        "import re\n",
        "import string\n",
        "import pickle\n",
        "import time\n",
        "import sys\n",
        "#!{sys.executable} -m spacy download en\n",
        "import math\n",
        "from pprint import pprint\n",
        "import warnings\n",
        "\n",
        "\n",
        "# Gensim\n",
        "import gensim, logging, warnings\n",
        "import gensim.corpora as corpora\n",
        "from gensim.utils import lemmatize, simple_preprocess\n",
        "from gensim.models import CoherenceModel\n",
        "\n",
        "# NLTK\n",
        "import nltk\n",
        "from nltk.tokenize import word_tokenize\n",
        "from nltk.tokenize import sent_tokenize\n",
        "from nltk.probability import FreqDist\n",
        "from nltk.corpus import stopwords\n",
        "from nltk.stem import PorterStemmer\n",
        "from nltk.stem.wordnet import WordNetLemmatizer\n",
        "from nltk.stem.snowball import SnowballStemmer\n",
        "nltk.download('stopwords')\n",
        "nltk.download('wordnet')\n",
        "nltk.download('punkt')\n",
        "nltk.download('movie_reviews')\n",
        "\n",
        "#tfidf_vectorizer = TfidfVectorizer(max_df=0.9, min_df=0.05, stop_words=\"english\")\n",
        "\n",
        "# SpaCy\n",
        "import spacy\n",
        "nlp = spacy.load('en_core_web_sm')\n",
        "\n",
        "# SciKit Learn\n",
        "from sklearn.feature_extraction.text import CountVectorizer\n",
        "from sklearn.feature_extraction.text import TfidfVectorizer\n",
        "from sklearn.decomposition import LatentDirichletAllocation\n",
        "from sklearn.decomposition import LatentDirichletAllocation\n",
        "from sklearn import metrics\n",
        "from sklearn.feature_extraction.text import TfidfTransformer\n",
        "from sklearn.linear_model import LogisticRegression\n",
        "from sklearn.naive_bayes import MultinomialNB\n",
        "from sklearn.pipeline import Pipeline\n",
        "from sklearn.tree import DecisionTreeClassifier\n",
        "from sklearn.ensemble import RandomForestClassifier\n",
        "from sklearn.model_selection import cross_validate\n",
        "from sklearn.model_selection import train_test_split\n",
        "from sklearn.metrics import mean_squared_error, mean_absolute_error\n",
        "from sklearn.metrics import classification_report\n",
        "from sklearn.metrics import accuracy_score\n",
        "from sklearn.linear_model import SGDClassifier\n",
        "\n",
        "# Sentiment Analysis\n",
        "import textblob as tb\n",
        "from textblob.sentiments import NaiveBayesAnalyzer\n",
        "from vaderSentiment.vaderSentiment import SentimentIntensityAnalyzer\n",
        "\n",
        "# Plots\n",
        "import seaborn as sns\n",
        "sns.set(style=\"darkgrid\")\n",
        "sns.set(font_scale=1.3)\n",
        "import pyLDAvis.gensim\n",
        "from matplotlib import pyplot as plt\n",
        "from wordcloud import WordCloud, STOPWORDS\n",
        "import matplotlib.colors as mcolors\n",
        "from matplotlib.ticker import FuncFormatter\n",
        "\n",
        "# Google Colab imports\n",
        "from google.colab import files\n",
        "from google.colab import drive as drive_colab\n",
        "from google.colab import auth\n",
        "from pydrive.auth import GoogleAuth\n",
        "from pydrive.drive import GoogleDrive\n",
        "from oauth2client.client import GoogleCredentials"
      ],
      "execution_count": 0,
      "outputs": [
        {
          "output_type": "stream",
          "text": [
            "[nltk_data] Downloading package stopwords to /root/nltk_data...\n",
            "[nltk_data]   Package stopwords is already up-to-date!\n",
            "[nltk_data] Downloading package wordnet to /root/nltk_data...\n",
            "[nltk_data]   Package wordnet is already up-to-date!\n",
            "[nltk_data] Downloading package punkt to /root/nltk_data...\n",
            "[nltk_data]   Package punkt is already up-to-date!\n",
            "[nltk_data] Downloading package movie_reviews to /root/nltk_data...\n",
            "[nltk_data]   Package movie_reviews is already up-to-date!\n"
          ],
          "name": "stdout"
        }
      ]
    },
    {
      "cell_type": "markdown",
      "metadata": {
        "id": "g3EATMG2NpXT",
        "colab_type": "text"
      },
      "source": [
        "# Data"
      ]
    },
    {
      "cell_type": "code",
      "metadata": {
        "id": "h1ZaFQx_RnLI",
        "colab_type": "code",
        "outputId": "796cdecb-ee0c-493f-9ba3-c2b6308f190c",
        "cellView": "form",
        "colab": {
          "base_uri": "https://localhost:8080/",
          "height": 36
        }
      },
      "source": [
        "#@title File Upload\n",
        "#@markdown Fetch all the required files.\n",
        "\n",
        "#@markdown **reviews.csv**: all available reviews\\\n",
        "#@markdown **items.csv**: all phones available\n",
        "\n",
        "# Authenticate user\n",
        "## You must go to the link and copy access code\n",
        "auth.authenticate_user()\n",
        "gauth = GoogleAuth()\n",
        "gauth.credentials = GoogleCredentials.get_application_default()\n",
        "drive = GoogleDrive(gauth)\n",
        "\n",
        "# Load all the required files\n",
        "file_id = '17-i-_a2zKwXJCNoOCt6R-Ezr2swO8x8r'\n",
        "downloaded = drive.CreateFile({'id': file_id})\n",
        "downloaded.GetContentFile('items.csv')\n",
        "\n",
        "file_id = '1flTqx4fnPVrk5zyydJDvh67z4IIN-2Ei'\n",
        "downloaded = drive.CreateFile({'id': file_id})\n",
        "downloaded.GetContentFile('reviews.csv')\n",
        "\n",
        "# Mount the drive to access files\n",
        "drive_colab.mount('drive')\n",
        "\n",
        "reviews = pd.read_csv('reviews.csv')\n",
        "items = pd.read_csv('items.csv')"
      ],
      "execution_count": 0,
      "outputs": [
        {
          "output_type": "stream",
          "text": [
            "Drive already mounted at drive; to attempt to forcibly remount, call drive.mount(\"drive\", force_remount=True).\n"
          ],
          "name": "stdout"
        }
      ]
    },
    {
      "cell_type": "markdown",
      "metadata": {
        "id": "rYCaaLjRLKeW",
        "colab_type": "text"
      },
      "source": [
        "# Exploratory Data Analysis"
      ]
    },
    {
      "cell_type": "markdown",
      "metadata": {
        "id": "dQZdq3VDV0-c",
        "colab_type": "text"
      },
      "source": [
        "## Items Dataset\n",
        "We have **720 phone models** and **10 features**.  \n",
        "*rating*, *totalReviews*, *price* and *originalPrice* are **numerical**.  \n",
        "All other features are **strings**.   \n",
        "\n",
        "No significant NA's in this dataset.  \n",
        "\n",
        "**Samsung** has the highest # of phones with 346, followed by **Motorola** having 105 and **Apple** has 63 phones.  \n",
        "\n",
        "**Xiaomi** has the best rating of 4.4/5 followed by **HUAWEI** and then **ASUS**."
      ]
    },
    {
      "cell_type": "code",
      "metadata": {
        "id": "b1QY54i5WLtH",
        "colab_type": "code",
        "outputId": "c2257b9f-f089-4123-ca7c-8e9fd2da6f16",
        "colab": {
          "base_uri": "https://localhost:8080/",
          "height": 223
        }
      },
      "source": [
        "items.dtypes"
      ],
      "execution_count": 0,
      "outputs": [
        {
          "output_type": "execute_result",
          "data": {
            "text/plain": [
              "asin              object\n",
              "brand             object\n",
              "title             object\n",
              "url               object\n",
              "image             object\n",
              "rating           float64\n",
              "reviewUrl         object\n",
              "totalReviews       int64\n",
              "price            float64\n",
              "originalPrice    float64\n",
              "dtype: object"
            ]
          },
          "metadata": {
            "tags": []
          },
          "execution_count": 23
        }
      ]
    },
    {
      "cell_type": "code",
      "metadata": {
        "id": "EFn0fpEiOZAq",
        "colab_type": "code",
        "outputId": "dbc4b158-801e-44e2-d107-cff74a6613c7",
        "colab": {
          "base_uri": "https://localhost:8080/",
          "height": 36
        }
      },
      "source": [
        "items.shape"
      ],
      "execution_count": 0,
      "outputs": [
        {
          "output_type": "execute_result",
          "data": {
            "text/plain": [
              "(720, 10)"
            ]
          },
          "metadata": {
            "tags": []
          },
          "execution_count": 24
        }
      ]
    },
    {
      "cell_type": "code",
      "metadata": {
        "id": "3FW7WPhIWLvx",
        "colab_type": "code",
        "outputId": "aeddb0a4-a020-4e22-aefd-ddc3b387ac82",
        "colab": {
          "base_uri": "https://localhost:8080/",
          "height": 223
        }
      },
      "source": [
        "items.isna().sum()"
      ],
      "execution_count": 0,
      "outputs": [
        {
          "output_type": "execute_result",
          "data": {
            "text/plain": [
              "asin             0\n",
              "brand            4\n",
              "title            0\n",
              "url              0\n",
              "image            0\n",
              "rating           0\n",
              "reviewUrl        0\n",
              "totalReviews     0\n",
              "price            0\n",
              "originalPrice    0\n",
              "dtype: int64"
            ]
          },
          "metadata": {
            "tags": []
          },
          "execution_count": 25
        }
      ]
    },
    {
      "cell_type": "code",
      "metadata": {
        "id": "gwdj5f6wWP6v",
        "colab_type": "code",
        "outputId": "6d6a4f90-9a76-45df-dfa9-8520e56ece9f",
        "colab": {
          "base_uri": "https://localhost:8080/",
          "height": 394
        }
      },
      "source": [
        "item_brand = items.groupby('brand').agg({'asin':['count'], 'rating':['mean'], 'totalReviews':['sum']})\n",
        "item_brand.columns = ['count_phone', 'avg_rating', 'total_reviews']\n",
        "item_brand.sort_values(by=\"count_phone\", ascending=False)"
      ],
      "execution_count": 0,
      "outputs": [
        {
          "output_type": "execute_result",
          "data": {
            "text/html": [
              "<div>\n",
              "<style scoped>\n",
              "    .dataframe tbody tr th:only-of-type {\n",
              "        vertical-align: middle;\n",
              "    }\n",
              "\n",
              "    .dataframe tbody tr th {\n",
              "        vertical-align: top;\n",
              "    }\n",
              "\n",
              "    .dataframe thead th {\n",
              "        text-align: right;\n",
              "    }\n",
              "</style>\n",
              "<table border=\"1\" class=\"dataframe\">\n",
              "  <thead>\n",
              "    <tr style=\"text-align: right;\">\n",
              "      <th></th>\n",
              "      <th>count_phone</th>\n",
              "      <th>avg_rating</th>\n",
              "      <th>total_reviews</th>\n",
              "    </tr>\n",
              "    <tr>\n",
              "      <th>brand</th>\n",
              "      <th></th>\n",
              "      <th></th>\n",
              "      <th></th>\n",
              "    </tr>\n",
              "  </thead>\n",
              "  <tbody>\n",
              "    <tr>\n",
              "      <th>Samsung</th>\n",
              "      <td>346</td>\n",
              "      <td>3.632659</td>\n",
              "      <td>37701</td>\n",
              "    </tr>\n",
              "    <tr>\n",
              "      <th>Motorola</th>\n",
              "      <td>105</td>\n",
              "      <td>3.643810</td>\n",
              "      <td>9419</td>\n",
              "    </tr>\n",
              "    <tr>\n",
              "      <th>Apple</th>\n",
              "      <td>63</td>\n",
              "      <td>3.782540</td>\n",
              "      <td>6315</td>\n",
              "    </tr>\n",
              "    <tr>\n",
              "      <th>Xiaomi</th>\n",
              "      <td>46</td>\n",
              "      <td>4.415217</td>\n",
              "      <td>5574</td>\n",
              "    </tr>\n",
              "    <tr>\n",
              "      <th>Nokia</th>\n",
              "      <td>44</td>\n",
              "      <td>3.386364</td>\n",
              "      <td>6182</td>\n",
              "    </tr>\n",
              "    <tr>\n",
              "      <th>Google</th>\n",
              "      <td>38</td>\n",
              "      <td>3.771053</td>\n",
              "      <td>4238</td>\n",
              "    </tr>\n",
              "    <tr>\n",
              "      <th>HUAWEI</th>\n",
              "      <td>32</td>\n",
              "      <td>4.021875</td>\n",
              "      <td>2467</td>\n",
              "    </tr>\n",
              "    <tr>\n",
              "      <th>Sony</th>\n",
              "      <td>27</td>\n",
              "      <td>3.788889</td>\n",
              "      <td>3312</td>\n",
              "    </tr>\n",
              "    <tr>\n",
              "      <th>OnePlus</th>\n",
              "      <td>10</td>\n",
              "      <td>3.580000</td>\n",
              "      <td>406</td>\n",
              "    </tr>\n",
              "    <tr>\n",
              "      <th>ASUS</th>\n",
              "      <td>5</td>\n",
              "      <td>3.860000</td>\n",
              "      <td>263</td>\n",
              "    </tr>\n",
              "  </tbody>\n",
              "</table>\n",
              "</div>"
            ],
            "text/plain": [
              "          count_phone  avg_rating  total_reviews\n",
              "brand                                           \n",
              "Samsung           346    3.632659          37701\n",
              "Motorola          105    3.643810           9419\n",
              "Apple              63    3.782540           6315\n",
              "Xiaomi             46    4.415217           5574\n",
              "Nokia              44    3.386364           6182\n",
              "Google             38    3.771053           4238\n",
              "HUAWEI             32    4.021875           2467\n",
              "Sony               27    3.788889           3312\n",
              "OnePlus            10    3.580000            406\n",
              "ASUS                5    3.860000            263"
            ]
          },
          "metadata": {
            "tags": []
          },
          "execution_count": 26
        }
      ]
    },
    {
      "cell_type": "code",
      "metadata": {
        "id": "Pawg3-oYgocZ",
        "colab_type": "code",
        "outputId": "ade0126b-9668-4505-e7f7-2c677fdf3d82",
        "colab": {
          "base_uri": "https://localhost:8080/",
          "height": 394
        }
      },
      "source": [
        "item_brand.sort_values(by=\"avg_rating\", ascending=False)"
      ],
      "execution_count": 0,
      "outputs": [
        {
          "output_type": "execute_result",
          "data": {
            "text/html": [
              "<div>\n",
              "<style scoped>\n",
              "    .dataframe tbody tr th:only-of-type {\n",
              "        vertical-align: middle;\n",
              "    }\n",
              "\n",
              "    .dataframe tbody tr th {\n",
              "        vertical-align: top;\n",
              "    }\n",
              "\n",
              "    .dataframe thead th {\n",
              "        text-align: right;\n",
              "    }\n",
              "</style>\n",
              "<table border=\"1\" class=\"dataframe\">\n",
              "  <thead>\n",
              "    <tr style=\"text-align: right;\">\n",
              "      <th></th>\n",
              "      <th>count_phone</th>\n",
              "      <th>avg_rating</th>\n",
              "      <th>total_reviews</th>\n",
              "    </tr>\n",
              "    <tr>\n",
              "      <th>brand</th>\n",
              "      <th></th>\n",
              "      <th></th>\n",
              "      <th></th>\n",
              "    </tr>\n",
              "  </thead>\n",
              "  <tbody>\n",
              "    <tr>\n",
              "      <th>Xiaomi</th>\n",
              "      <td>46</td>\n",
              "      <td>4.415217</td>\n",
              "      <td>5574</td>\n",
              "    </tr>\n",
              "    <tr>\n",
              "      <th>HUAWEI</th>\n",
              "      <td>32</td>\n",
              "      <td>4.021875</td>\n",
              "      <td>2467</td>\n",
              "    </tr>\n",
              "    <tr>\n",
              "      <th>ASUS</th>\n",
              "      <td>5</td>\n",
              "      <td>3.860000</td>\n",
              "      <td>263</td>\n",
              "    </tr>\n",
              "    <tr>\n",
              "      <th>Sony</th>\n",
              "      <td>27</td>\n",
              "      <td>3.788889</td>\n",
              "      <td>3312</td>\n",
              "    </tr>\n",
              "    <tr>\n",
              "      <th>Apple</th>\n",
              "      <td>63</td>\n",
              "      <td>3.782540</td>\n",
              "      <td>6315</td>\n",
              "    </tr>\n",
              "    <tr>\n",
              "      <th>Google</th>\n",
              "      <td>38</td>\n",
              "      <td>3.771053</td>\n",
              "      <td>4238</td>\n",
              "    </tr>\n",
              "    <tr>\n",
              "      <th>Motorola</th>\n",
              "      <td>105</td>\n",
              "      <td>3.643810</td>\n",
              "      <td>9419</td>\n",
              "    </tr>\n",
              "    <tr>\n",
              "      <th>Samsung</th>\n",
              "      <td>346</td>\n",
              "      <td>3.632659</td>\n",
              "      <td>37701</td>\n",
              "    </tr>\n",
              "    <tr>\n",
              "      <th>OnePlus</th>\n",
              "      <td>10</td>\n",
              "      <td>3.580000</td>\n",
              "      <td>406</td>\n",
              "    </tr>\n",
              "    <tr>\n",
              "      <th>Nokia</th>\n",
              "      <td>44</td>\n",
              "      <td>3.386364</td>\n",
              "      <td>6182</td>\n",
              "    </tr>\n",
              "  </tbody>\n",
              "</table>\n",
              "</div>"
            ],
            "text/plain": [
              "          count_phone  avg_rating  total_reviews\n",
              "brand                                           \n",
              "Xiaomi             46    4.415217           5574\n",
              "HUAWEI             32    4.021875           2467\n",
              "ASUS                5    3.860000            263\n",
              "Sony               27    3.788889           3312\n",
              "Apple              63    3.782540           6315\n",
              "Google             38    3.771053           4238\n",
              "Motorola          105    3.643810           9419\n",
              "Samsung           346    3.632659          37701\n",
              "OnePlus            10    3.580000            406\n",
              "Nokia              44    3.386364           6182"
            ]
          },
          "metadata": {
            "tags": []
          },
          "execution_count": 27
        }
      ]
    },
    {
      "cell_type": "markdown",
      "metadata": {
        "id": "yJXEk7wVV9_q",
        "colab_type": "text"
      },
      "source": [
        "## Reviews Dataset\n",
        "We have **67986 reviews** with **8 features**.  \n",
        "*rating* and *helpfulVotes* are **numerical**.  \n",
        "All other features are **strings**.\n",
        "\n",
        "*helpfulVotes* has a lot of NA's.  \n",
        "The other features have very few NA's.  \n",
        "\n",
        "40% of the reviews are for **Samsung**."
      ]
    },
    {
      "cell_type": "code",
      "metadata": {
        "id": "iwYOOw16WFvz",
        "colab_type": "code",
        "outputId": "9a634f7d-28c7-4eb1-a3f8-ee2d836cb64d",
        "colab": {
          "base_uri": "https://localhost:8080/",
          "height": 185
        }
      },
      "source": [
        "reviews.dtypes"
      ],
      "execution_count": 0,
      "outputs": [
        {
          "output_type": "execute_result",
          "data": {
            "text/plain": [
              "asin             object\n",
              "name             object\n",
              "rating            int64\n",
              "date             object\n",
              "verified           bool\n",
              "title            object\n",
              "body             object\n",
              "helpfulVotes    float64\n",
              "dtype: object"
            ]
          },
          "metadata": {
            "tags": []
          },
          "execution_count": 28
        }
      ]
    },
    {
      "cell_type": "code",
      "metadata": {
        "id": "wAAniTzIWvg2",
        "colab_type": "code",
        "outputId": "ed66e2ba-f5af-4a68-a3ed-da230c0fc669",
        "colab": {
          "base_uri": "https://localhost:8080/",
          "height": 185
        }
      },
      "source": [
        "reviews.isna().sum()"
      ],
      "execution_count": 0,
      "outputs": [
        {
          "output_type": "execute_result",
          "data": {
            "text/plain": [
              "asin                0\n",
              "name                2\n",
              "rating              0\n",
              "date                0\n",
              "verified            0\n",
              "title              14\n",
              "body               21\n",
              "helpfulVotes    40771\n",
              "dtype: int64"
            ]
          },
          "metadata": {
            "tags": []
          },
          "execution_count": 29
        }
      ]
    },
    {
      "cell_type": "code",
      "metadata": {
        "id": "-EreXKhfsIy0",
        "colab_type": "code",
        "outputId": "390672bc-47be-4f07-fe49-4b952ee69d74",
        "colab": {
          "base_uri": "https://localhost:8080/",
          "height": 36
        }
      },
      "source": [
        "reviews.shape"
      ],
      "execution_count": 0,
      "outputs": [
        {
          "output_type": "execute_result",
          "data": {
            "text/plain": [
              "(67986, 8)"
            ]
          },
          "metadata": {
            "tags": []
          },
          "execution_count": 30
        }
      ]
    },
    {
      "cell_type": "code",
      "metadata": {
        "id": "6or48gDFcut4",
        "colab_type": "code",
        "colab": {}
      },
      "source": [
        "#reviews.head(2)\n",
        "#reviews.loc[1,'body']\n",
        "#tb.TextBlob(reviews.loc[1,'title'])\n",
        "#tb.TextBlob(\"Text Messaging Doesn't Work\", analyzer=NaiveBayesAnalyzer()).sentiment"
      ],
      "execution_count": 0,
      "outputs": []
    },
    {
      "cell_type": "markdown",
      "metadata": {
        "id": "dbOayCrlWBfd",
        "colab_type": "text"
      },
      "source": [
        "## Merged Dataset\n",
        "\n",
        "The dataset pulled atleast 80% of data available at that time per brand. **Samsung**, **Motorola** and **Nokia** have 90+% data.  \n",
        "\n",
        "The highest deviation in ratings due to missing reviews is for OnePlus phones at 0.63. **Samsung**, **Motorola**, **Nokia** and **Apple** have less than 0.2 rating deviation.  \n",
        "\n",
        "We see a bi-modal distribution of ratings for all the brands which is also representative of the plot with all brands combined.  \n",
        "\n"
      ]
    },
    {
      "cell_type": "code",
      "metadata": {
        "id": "WB5Zk8GYOk1x",
        "colab_type": "code",
        "outputId": "78ab7cae-1a4f-404f-8584-f4c9557383e8",
        "colab": {
          "base_uri": "https://localhost:8080/",
          "height": 363
        }
      },
      "source": [
        "# Create a merged dataframe\n",
        "df = pd.merge(reviews, items, on='asin')\n",
        "\n",
        "# Find brand-wise summary\n",
        "df_brand = df.groupby('brand').agg({'asin':['count'], 'rating_x':['mean']}).reset_index()\n",
        "df_brand.columns = ['brand', 'reviews', 'avg_avlb_rating']\n",
        "df_brand = df_brand.sort_values(by='reviews',ascending=False)\n",
        "brand_summary = pd.merge(df_brand, item_brand, on='brand')\n",
        "brand_summary['data_ratio'] = brand_summary['reviews']/brand_summary['total_reviews']\n",
        "brand_summary['rating_dev'] = brand_summary['avg_avlb_rating'] - brand_summary['avg_rating']\n",
        "brand_summary.to_csv(\"brand_summary.csv\")\n",
        "brand_rating = pd.pivot_table(df, values='asin', index=['brand'], columns=['rating_x'], aggfunc='count')\n",
        "brand_rating.to_csv(\"brand_rating.csv\")\n",
        "# Run this only when you want to overwrite\n",
        "#!cp brand_rating.csv \"drive/My Drive/Amazon_Reviews/\"\n",
        "#!cp brand_summary.csv \"drive/My Drive/Amazon_Reviews/\"\n",
        "brand_summary"
      ],
      "execution_count": 0,
      "outputs": [
        {
          "output_type": "execute_result",
          "data": {
            "text/html": [
              "<div>\n",
              "<style scoped>\n",
              "    .dataframe tbody tr th:only-of-type {\n",
              "        vertical-align: middle;\n",
              "    }\n",
              "\n",
              "    .dataframe tbody tr th {\n",
              "        vertical-align: top;\n",
              "    }\n",
              "\n",
              "    .dataframe thead th {\n",
              "        text-align: right;\n",
              "    }\n",
              "</style>\n",
              "<table border=\"1\" class=\"dataframe\">\n",
              "  <thead>\n",
              "    <tr style=\"text-align: right;\">\n",
              "      <th></th>\n",
              "      <th>brand</th>\n",
              "      <th>reviews</th>\n",
              "      <th>avg_avlb_rating</th>\n",
              "      <th>count_phone</th>\n",
              "      <th>avg_rating</th>\n",
              "      <th>total_reviews</th>\n",
              "      <th>data_ratio</th>\n",
              "      <th>rating_dev</th>\n",
              "    </tr>\n",
              "  </thead>\n",
              "  <tbody>\n",
              "    <tr>\n",
              "      <th>0</th>\n",
              "      <td>Samsung</td>\n",
              "      <td>33629</td>\n",
              "      <td>3.781736</td>\n",
              "      <td>346</td>\n",
              "      <td>3.632659</td>\n",
              "      <td>37701</td>\n",
              "      <td>0.891992</td>\n",
              "      <td>0.149077</td>\n",
              "    </tr>\n",
              "    <tr>\n",
              "      <th>1</th>\n",
              "      <td>Motorola</td>\n",
              "      <td>8880</td>\n",
              "      <td>3.818694</td>\n",
              "      <td>105</td>\n",
              "      <td>3.643810</td>\n",
              "      <td>9419</td>\n",
              "      <td>0.942775</td>\n",
              "      <td>0.174884</td>\n",
              "    </tr>\n",
              "    <tr>\n",
              "      <th>2</th>\n",
              "      <td>Nokia</td>\n",
              "      <td>5915</td>\n",
              "      <td>3.584446</td>\n",
              "      <td>44</td>\n",
              "      <td>3.386364</td>\n",
              "      <td>6182</td>\n",
              "      <td>0.956810</td>\n",
              "      <td>0.198083</td>\n",
              "    </tr>\n",
              "    <tr>\n",
              "      <th>3</th>\n",
              "      <td>Apple</td>\n",
              "      <td>5145</td>\n",
              "      <td>3.701263</td>\n",
              "      <td>63</td>\n",
              "      <td>3.782540</td>\n",
              "      <td>6315</td>\n",
              "      <td>0.814727</td>\n",
              "      <td>-0.081276</td>\n",
              "    </tr>\n",
              "    <tr>\n",
              "      <th>4</th>\n",
              "      <td>Xiaomi</td>\n",
              "      <td>4411</td>\n",
              "      <td>4.371344</td>\n",
              "      <td>46</td>\n",
              "      <td>4.415217</td>\n",
              "      <td>5574</td>\n",
              "      <td>0.791353</td>\n",
              "      <td>-0.043873</td>\n",
              "    </tr>\n",
              "    <tr>\n",
              "      <th>5</th>\n",
              "      <td>Google</td>\n",
              "      <td>3787</td>\n",
              "      <td>3.584896</td>\n",
              "      <td>38</td>\n",
              "      <td>3.771053</td>\n",
              "      <td>4238</td>\n",
              "      <td>0.893582</td>\n",
              "      <td>-0.186157</td>\n",
              "    </tr>\n",
              "    <tr>\n",
              "      <th>6</th>\n",
              "      <td>Sony</td>\n",
              "      <td>3196</td>\n",
              "      <td>3.786921</td>\n",
              "      <td>27</td>\n",
              "      <td>3.788889</td>\n",
              "      <td>3312</td>\n",
              "      <td>0.964976</td>\n",
              "      <td>-0.001968</td>\n",
              "    </tr>\n",
              "    <tr>\n",
              "      <th>7</th>\n",
              "      <td>HUAWEI</td>\n",
              "      <td>2225</td>\n",
              "      <td>4.240899</td>\n",
              "      <td>32</td>\n",
              "      <td>4.021875</td>\n",
              "      <td>2467</td>\n",
              "      <td>0.901905</td>\n",
              "      <td>0.219024</td>\n",
              "    </tr>\n",
              "    <tr>\n",
              "      <th>8</th>\n",
              "      <td>OnePlus</td>\n",
              "      <td>347</td>\n",
              "      <td>4.213256</td>\n",
              "      <td>10</td>\n",
              "      <td>3.580000</td>\n",
              "      <td>406</td>\n",
              "      <td>0.854680</td>\n",
              "      <td>0.633256</td>\n",
              "    </tr>\n",
              "    <tr>\n",
              "      <th>9</th>\n",
              "      <td>ASUS</td>\n",
              "      <td>251</td>\n",
              "      <td>3.721116</td>\n",
              "      <td>5</td>\n",
              "      <td>3.860000</td>\n",
              "      <td>263</td>\n",
              "      <td>0.954373</td>\n",
              "      <td>-0.138884</td>\n",
              "    </tr>\n",
              "  </tbody>\n",
              "</table>\n",
              "</div>"
            ],
            "text/plain": [
              "      brand  reviews  avg_avlb_rating  ...  total_reviews  data_ratio  rating_dev\n",
              "0   Samsung    33629         3.781736  ...          37701    0.891992    0.149077\n",
              "1  Motorola     8880         3.818694  ...           9419    0.942775    0.174884\n",
              "2     Nokia     5915         3.584446  ...           6182    0.956810    0.198083\n",
              "3     Apple     5145         3.701263  ...           6315    0.814727   -0.081276\n",
              "4    Xiaomi     4411         4.371344  ...           5574    0.791353   -0.043873\n",
              "5    Google     3787         3.584896  ...           4238    0.893582   -0.186157\n",
              "6      Sony     3196         3.786921  ...           3312    0.964976   -0.001968\n",
              "7    HUAWEI     2225         4.240899  ...           2467    0.901905    0.219024\n",
              "8   OnePlus      347         4.213256  ...            406    0.854680    0.633256\n",
              "9      ASUS      251         3.721116  ...            263    0.954373   -0.138884\n",
              "\n",
              "[10 rows x 8 columns]"
            ]
          },
          "metadata": {
            "tags": []
          },
          "execution_count": 32
        }
      ]
    },
    {
      "cell_type": "code",
      "metadata": {
        "id": "LcHYfOST4HGw",
        "colab_type": "code",
        "outputId": "76128d45-ca45-4afc-a082-8216f1319a07",
        "colab": {
          "base_uri": "https://localhost:8080/",
          "height": 394
        }
      },
      "source": [
        "brand_rating"
      ],
      "execution_count": 0,
      "outputs": [
        {
          "output_type": "execute_result",
          "data": {
            "text/html": [
              "<div>\n",
              "<style scoped>\n",
              "    .dataframe tbody tr th:only-of-type {\n",
              "        vertical-align: middle;\n",
              "    }\n",
              "\n",
              "    .dataframe tbody tr th {\n",
              "        vertical-align: top;\n",
              "    }\n",
              "\n",
              "    .dataframe thead th {\n",
              "        text-align: right;\n",
              "    }\n",
              "</style>\n",
              "<table border=\"1\" class=\"dataframe\">\n",
              "  <thead>\n",
              "    <tr style=\"text-align: right;\">\n",
              "      <th>rating_x</th>\n",
              "      <th>1</th>\n",
              "      <th>2</th>\n",
              "      <th>3</th>\n",
              "      <th>4</th>\n",
              "      <th>5</th>\n",
              "    </tr>\n",
              "    <tr>\n",
              "      <th>brand</th>\n",
              "      <th></th>\n",
              "      <th></th>\n",
              "      <th></th>\n",
              "      <th></th>\n",
              "      <th></th>\n",
              "    </tr>\n",
              "  </thead>\n",
              "  <tbody>\n",
              "    <tr>\n",
              "      <th>ASUS</th>\n",
              "      <td>41</td>\n",
              "      <td>23</td>\n",
              "      <td>25</td>\n",
              "      <td>38</td>\n",
              "      <td>124</td>\n",
              "    </tr>\n",
              "    <tr>\n",
              "      <th>Apple</th>\n",
              "      <td>1191</td>\n",
              "      <td>243</td>\n",
              "      <td>322</td>\n",
              "      <td>545</td>\n",
              "      <td>2844</td>\n",
              "    </tr>\n",
              "    <tr>\n",
              "      <th>Google</th>\n",
              "      <td>883</td>\n",
              "      <td>286</td>\n",
              "      <td>267</td>\n",
              "      <td>435</td>\n",
              "      <td>1916</td>\n",
              "    </tr>\n",
              "    <tr>\n",
              "      <th>HUAWEI</th>\n",
              "      <td>246</td>\n",
              "      <td>63</td>\n",
              "      <td>124</td>\n",
              "      <td>268</td>\n",
              "      <td>1524</td>\n",
              "    </tr>\n",
              "    <tr>\n",
              "      <th>Motorola</th>\n",
              "      <td>1562</td>\n",
              "      <td>542</td>\n",
              "      <td>653</td>\n",
              "      <td>1310</td>\n",
              "      <td>4813</td>\n",
              "    </tr>\n",
              "    <tr>\n",
              "      <th>Nokia</th>\n",
              "      <td>1253</td>\n",
              "      <td>457</td>\n",
              "      <td>540</td>\n",
              "      <td>910</td>\n",
              "      <td>2755</td>\n",
              "    </tr>\n",
              "    <tr>\n",
              "      <th>OnePlus</th>\n",
              "      <td>46</td>\n",
              "      <td>6</td>\n",
              "      <td>13</td>\n",
              "      <td>45</td>\n",
              "      <td>237</td>\n",
              "    </tr>\n",
              "    <tr>\n",
              "      <th>Samsung</th>\n",
              "      <td>6646</td>\n",
              "      <td>1891</td>\n",
              "      <td>2292</td>\n",
              "      <td>4128</td>\n",
              "      <td>18672</td>\n",
              "    </tr>\n",
              "    <tr>\n",
              "      <th>Sony</th>\n",
              "      <td>511</td>\n",
              "      <td>259</td>\n",
              "      <td>280</td>\n",
              "      <td>496</td>\n",
              "      <td>1650</td>\n",
              "    </tr>\n",
              "    <tr>\n",
              "      <th>Xiaomi</th>\n",
              "      <td>334</td>\n",
              "      <td>126</td>\n",
              "      <td>222</td>\n",
              "      <td>615</td>\n",
              "      <td>3114</td>\n",
              "    </tr>\n",
              "  </tbody>\n",
              "</table>\n",
              "</div>"
            ],
            "text/plain": [
              "rating_x     1     2     3     4      5\n",
              "brand                                  \n",
              "ASUS        41    23    25    38    124\n",
              "Apple     1191   243   322   545   2844\n",
              "Google     883   286   267   435   1916\n",
              "HUAWEI     246    63   124   268   1524\n",
              "Motorola  1562   542   653  1310   4813\n",
              "Nokia     1253   457   540   910   2755\n",
              "OnePlus     46     6    13    45    237\n",
              "Samsung   6646  1891  2292  4128  18672\n",
              "Sony       511   259   280   496   1650\n",
              "Xiaomi     334   126   222   615   3114"
            ]
          },
          "metadata": {
            "tags": []
          },
          "execution_count": 33
        }
      ]
    },
    {
      "cell_type": "code",
      "metadata": {
        "id": "jFudd7JlACvG",
        "colab_type": "code",
        "outputId": "b25e40ec-bc2c-4ba7-e7f0-96807dd68dc0",
        "colab": {
          "base_uri": "https://localhost:8080/",
          "height": 561
        }
      },
      "source": [
        "brand_rating = brand_rating.div(brand_rating.sum(axis=1), axis=0)\n",
        "brand_rating.plot(kind='bar', figsize=(10,8)).set_facecolor(\"white\");"
      ],
      "execution_count": 0,
      "outputs": [
        {
          "output_type": "display_data",
          "data": {
            "image/png": "[encoded data removed]",
            "text/plain": [
              "<Figure size 720x576 with 1 Axes>"
            ]
          },
          "metadata": {
            "tags": []
          }
        }
      ]
    },
    {
      "cell_type": "code",
      "metadata": {
        "id": "VIn_JDG1Lu4V",
        "colab_type": "code",
        "outputId": "64e3a3e9-3dfb-4b39-83dc-f771229ec32a",
        "colab": {
          "base_uri": "https://localhost:8080/",
          "height": 503
        }
      },
      "source": [
        "pd.DataFrame(df['rating_x'].value_counts()).reset_index().sort_values(by=\"index\").plot(kind=\"bar\", x=\"index\", figsize=(10,8)).set_facecolor(\"white\");"
      ],
      "execution_count": 0,
      "outputs": [
        {
          "output_type": "display_data",
          "data": {
            "image/png": "[encoded data removed]",
            "text/plain": [
              "<Figure size 720x576 with 1 Axes>"
            ]
          },
          "metadata": {
            "tags": []
          }
        }
      ]
    },
    {
      "cell_type": "markdown",
      "metadata": {
        "id": "qjXKIAL4g97V",
        "colab_type": "text"
      },
      "source": [
        "# Sentiment Analysis"
      ]
    },
    {
      "cell_type": "code",
      "metadata": {
        "id": "_5l5yTBhD2Ym",
        "colab_type": "code",
        "cellView": "form",
        "outputId": "d5bf13c7-42fb-445c-8443-9bf3feda7da7",
        "colab": {
          "base_uri": "https://localhost:8080/",
          "height": 36
        }
      },
      "source": [
        "#@title Review Data\n",
        "#@markdown Select the following option if you want to read the file that was already generated to save time. \\\n",
        "\n",
        "pick_from_drive = True #@param {type:\"boolean\"}\n",
        "if pick_from_drive:\n",
        "  file_id = '1-FKpLOlBGNMn8aclDygJ460dIJt-N9Q-'\n",
        "  downloaded = drive.CreateFile({'id': file_id})\n",
        "  downloaded.GetContentFile('df_reviews.csv')\n",
        "  df_reviews = pd.read_csv(\"df_reviews.csv\")\n",
        "  print(\"File read from drive\")\n",
        "else:\n",
        "  df_reviews = df[['body', 'brand']].reset_index()\n",
        "  df_reviews['body'] = df_reviews['body'].fillna(\"\")\n",
        "  df_reviews['word_count'] = 0\n",
        "  df_reviews['most_common'] = \"\"\n",
        "  df_reviews['common_count'] = 0\n",
        "  df_reviews['body_clean'] = \"\"\n",
        "  stop_words = set(stopwords.words(\"english\"))\n",
        "  for i in range(df_reviews.shape[0]):\n",
        "    #Pick reviews one-by-one\n",
        "    rev = df_reviews.iloc[i,1]\n",
        "    \n",
        "    # Make text lowercase, remove punctuation and remove words containing numbers\n",
        "    rev = rev.lower()\n",
        "    rev = rev.replace(\".\",\" .\")\n",
        "    rev = rev.replace(\"’\",\" ’\")\n",
        "    rev = re.sub(r'[%s]' % re.escape(string.punctuation), '', rev)\n",
        "    rev = re.sub(r'\\w*\\d\\w*', '', rev)\n",
        "\n",
        "    # Tokenize the review\n",
        "    tok_rev = word_tokenize(rev)\n",
        "    \n",
        "    #remove stop words\n",
        "    filtered_rev = []\n",
        "    for w in tok_rev:\n",
        "        if w not in stop_words:\n",
        "            filtered_rev.append(w)\n",
        "    \n",
        "    # store cleaned words\n",
        "    df_reviews.iloc[i,6] = ' '.join(filtered_rev)\n",
        "\n",
        "    #Compute number of words\n",
        "    df_reviews.iloc[i,3] = len(filtered_rev)\n",
        "    \n",
        "    #Find the most common word and its count\n",
        "    fdist = FreqDist(filtered_rev)\n",
        "    \n",
        "    if len(filtered_rev) > 1:\n",
        "        df_reviews.iloc[i,4] = fdist.most_common(1)[0][0]\n",
        "        df_reviews.iloc[i,5] = fdist.most_common(1)[0][1]\n",
        "    else:\n",
        "        df_reviews.iloc[i,4] = \"\"\n",
        "        df_reviews.iloc[i,5] = 0\n",
        "  df_reviews.head()\n",
        "  #df_reviews.to_csv(\"df_reviews.csv\")\n",
        "  #!cp df_reviews.csv \"drive/My Drive/Amazon_Reviews/\"\n",
        "#df_reviews['word_count'].mean()\n",
        "### example usage ###\n",
        "#tb.TextBlob(\"good is good\", analyzer=NaiveBayesAnalyzer()).sentiment\n",
        "#sent = \"good bad\"\n",
        "#analyzer = SentimentIntensityAnalyzer()\n",
        "#analyzer.polarity_scores(sent)['compound']\n",
        "\n",
        "#df_sent.to_csv(\"df_sent_0.csv\")\n",
        "#!cp df_sent_0.csv \"drive/My Drive/Amazon_Reviews/\""
      ],
      "execution_count": 0,
      "outputs": [
        {
          "output_type": "stream",
          "text": [
            "File read from drive\n"
          ],
          "name": "stdout"
        }
      ]
    },
    {
      "cell_type": "code",
      "metadata": {
        "id": "vrEzIuO1CvXo",
        "colab_type": "code",
        "cellView": "form",
        "colab": {}
      },
      "source": [
        "#@title Sentiment Data\n",
        "\n",
        "pick_from_drive = False #@param {type:\"boolean\"}\n",
        "\n",
        "if pick_from_drive:\n",
        "  file_id = '1-hAZqHhS8pmiX3nJGV_WjQ_GG_cr9LRf'\n",
        "  downloaded = drive.CreateFile({'id': file_id})\n",
        "  downloaded.GetContentFile('df_sent_hybrid.csv')\n",
        "  df_sent = pd.read_csv(\"df_sent_hybrid.csv\")\n",
        "  print(\"File read from drive\")\n",
        "else:\n",
        "  # Create basic template of df for Sentiment Analysis\n",
        "  df_sent = df[['body', 'brand', 'rating_x']].reset_index()\n",
        "  df_sent['sent_tb'] = 0\n",
        "  df_sent['tb_p'] = 0\n",
        "  df_sent['tb_n'] = 0\n",
        "  df_sent['tbnb_p'] = 0\n",
        "  df_sent['tbnb_n'] = 0\n",
        "  df_sent['sent_vader'] = 0\n",
        "  df_sent['vader_p'] = 0\n",
        "  df_sent['vader_n'] = 0"
      ],
      "execution_count": 0,
      "outputs": []
    },
    {
      "cell_type": "code",
      "metadata": {
        "id": "0whKJPKyTtlj",
        "colab_type": "code",
        "cellView": "form",
        "colab": {}
      },
      "source": [
        "#@title Simple TextBlob Analyzer\n",
        "cutoff_sent =  0#@param {type:\"number\"}\n",
        "\n",
        "if pick_from_drive:\n",
        "  print(\"Data picked from drive\")\n",
        "else:\n",
        "  for i in range(df_sent.shape[0]):\n",
        "    #Pick a review\n",
        "    rev = str(df_sent.iloc[i,1])\n",
        "\n",
        "    # TextBlob Sentiment Analyzer\n",
        "    df_sent.iloc[i,4] = tb.TextBlob(rev).sentiment.polarity\n",
        "\n",
        "    # Pessimistic approach, neutral sentiment => bad review\n",
        "    if df_sent.iloc[i,4] > cutoff_sent:\n",
        "      df_sent.iloc[i,5] = 1\n",
        "    else:\n",
        "      df_sent.iloc[i,6] = 1"
      ],
      "execution_count": 0,
      "outputs": []
    },
    {
      "cell_type": "code",
      "metadata": {
        "id": "2zML1lU-K-LV",
        "colab_type": "code",
        "cellView": "form",
        "outputId": "b0448017-e23b-4a2b-e33c-e3aba68751de",
        "colab": {
          "base_uri": "https://localhost:8080/",
          "height": 36
        }
      },
      "source": [
        "#@title TextBlob Analyzer: NaiveBayesAnalyzer\n",
        "cutoff_sent = 0 #@param {type:\"number\"}\n",
        "\n",
        "if pick_from_drive:\n",
        "  print(\"Data picked from drive\")\n",
        "else:\n",
        "  for i in range(df_sent.shape[0]):\n",
        "    #Pick a review\n",
        "    rev = str(df_sent.iloc[i,1])\n",
        "\n",
        "    # TextBlob Sentiment Analyzer with Naive Bayes\n",
        "    tb_sent_class = tb.TextBlob(rev, analyzer=NaiveBayesAnalyzer()).sentiment.classification\n",
        "\n",
        "    # TextBlob with Naive Bayes Analyzer\n",
        "    if tb_sent_class == \"pos\":\n",
        "      df_sent.iloc[i,7] = 1\n",
        "    else:\n",
        "      df_sent.iloc[i,8] = 1"
      ],
      "execution_count": 0,
      "outputs": [
        {
          "output_type": "stream",
          "text": [
            "Data picked from drive\n"
          ],
          "name": "stdout"
        }
      ]
    },
    {
      "cell_type": "code",
      "metadata": {
        "id": "R6DCq4kMLSe3",
        "colab_type": "code",
        "cellView": "form",
        "colab": {}
      },
      "source": [
        "#@title VADER Analyzer\n",
        "cutoff_sent =  0#@param {type:\"number\"}\n",
        "\n",
        "if pick_from_drive:\n",
        "  print(\"Data picked from drive\")\n",
        "else:\n",
        "  for i in range(df_sent.shape[0]):\n",
        "    # Pick a review\n",
        "    rev = str(df_sent.iloc[i,1])\n",
        "    rating = df_sent.iloc[i,3]\n",
        "\n",
        "    # VADER Sentiment Analyzer\n",
        "    analyzer = SentimentIntensityAnalyzer()\n",
        "    vs = analyzer.polarity_scores(rev)\n",
        "    score = vs['compound']\n",
        "    df_sent.iloc[i,9] = score\n",
        "\n",
        "    if score >= cutoff_sent:\n",
        "      df_sent.iloc[i,10] = 1\n",
        "    else:\n",
        "      df_sent.iloc[i,11] = 1\n",
        "  #df_sent.to_csv(\"df_sent_hybrid.csv\")\n",
        "  #!cp df_sent_hybrid.csv \"drive/My Drive/Amazon_Reviews/\"\n",
        "  #pd.concat([df_reviews, df['rating_x']], axis=1)"
      ],
      "execution_count": 0,
      "outputs": []
    },
    {
      "cell_type": "code",
      "metadata": {
        "id": "qpyj-iCeWEqT",
        "colab_type": "code",
        "outputId": "9f3f7031-26c4-4d6d-89a5-8b56ae40df71",
        "cellView": "form",
        "colab": {
          "base_uri": "https://localhost:8080/",
          "height": 363
        }
      },
      "source": [
        "#@title Brand-wise Sentiments\n",
        "review_sentiment = df_sent.groupby('brand').agg({'sent_tb':['mean'], \n",
        "                                                 'tb_p':['sum'],\n",
        "                                                 'tb_n':['sum'],\n",
        "                                                 'sent_vader':['mean'],\n",
        "                                                 'vader_p':['sum'],\n",
        "                                                 'vader_n':['sum']}).reset_index()\n",
        "review_sentiment.columns = ['brand', 'avg_sent_tb', 'tb_p', 'tb_n', 'avg_sent_vader', 'vader_p', 'vader_n']\n",
        "review_sentiment"
      ],
      "execution_count": 0,
      "outputs": [
        {
          "output_type": "execute_result",
          "data": {
            "text/html": [
              "<div>\n",
              "<style scoped>\n",
              "    .dataframe tbody tr th:only-of-type {\n",
              "        vertical-align: middle;\n",
              "    }\n",
              "\n",
              "    .dataframe tbody tr th {\n",
              "        vertical-align: top;\n",
              "    }\n",
              "\n",
              "    .dataframe thead th {\n",
              "        text-align: right;\n",
              "    }\n",
              "</style>\n",
              "<table border=\"1\" class=\"dataframe\">\n",
              "  <thead>\n",
              "    <tr style=\"text-align: right;\">\n",
              "      <th></th>\n",
              "      <th>brand</th>\n",
              "      <th>avg_sent_tb</th>\n",
              "      <th>tb_p</th>\n",
              "      <th>tb_n</th>\n",
              "      <th>avg_sent_vader</th>\n",
              "      <th>vader_p</th>\n",
              "      <th>vader_n</th>\n",
              "    </tr>\n",
              "  </thead>\n",
              "  <tbody>\n",
              "    <tr>\n",
              "      <th>0</th>\n",
              "      <td>ASUS</td>\n",
              "      <td>0.253001</td>\n",
              "      <td>198</td>\n",
              "      <td>53</td>\n",
              "      <td>0.450343</td>\n",
              "      <td>204</td>\n",
              "      <td>47</td>\n",
              "    </tr>\n",
              "    <tr>\n",
              "      <th>1</th>\n",
              "      <td>Apple</td>\n",
              "      <td>0.238408</td>\n",
              "      <td>3377</td>\n",
              "      <td>1768</td>\n",
              "      <td>0.303738</td>\n",
              "      <td>4045</td>\n",
              "      <td>1100</td>\n",
              "    </tr>\n",
              "    <tr>\n",
              "      <th>2</th>\n",
              "      <td>Google</td>\n",
              "      <td>0.243897</td>\n",
              "      <td>2904</td>\n",
              "      <td>883</td>\n",
              "      <td>0.371158</td>\n",
              "      <td>2896</td>\n",
              "      <td>891</td>\n",
              "    </tr>\n",
              "    <tr>\n",
              "      <th>3</th>\n",
              "      <td>HUAWEI</td>\n",
              "      <td>0.301263</td>\n",
              "      <td>1624</td>\n",
              "      <td>601</td>\n",
              "      <td>0.456779</td>\n",
              "      <td>1921</td>\n",
              "      <td>304</td>\n",
              "    </tr>\n",
              "    <tr>\n",
              "      <th>4</th>\n",
              "      <td>Motorola</td>\n",
              "      <td>0.271063</td>\n",
              "      <td>6742</td>\n",
              "      <td>2138</td>\n",
              "      <td>0.405286</td>\n",
              "      <td>7232</td>\n",
              "      <td>1648</td>\n",
              "    </tr>\n",
              "    <tr>\n",
              "      <th>5</th>\n",
              "      <td>Nokia</td>\n",
              "      <td>0.237997</td>\n",
              "      <td>4333</td>\n",
              "      <td>1582</td>\n",
              "      <td>0.373347</td>\n",
              "      <td>4631</td>\n",
              "      <td>1284</td>\n",
              "    </tr>\n",
              "    <tr>\n",
              "      <th>6</th>\n",
              "      <td>OnePlus</td>\n",
              "      <td>0.294085</td>\n",
              "      <td>281</td>\n",
              "      <td>66</td>\n",
              "      <td>0.488430</td>\n",
              "      <td>296</td>\n",
              "      <td>51</td>\n",
              "    </tr>\n",
              "    <tr>\n",
              "      <th>7</th>\n",
              "      <td>Samsung</td>\n",
              "      <td>0.276568</td>\n",
              "      <td>24076</td>\n",
              "      <td>9553</td>\n",
              "      <td>0.361681</td>\n",
              "      <td>27019</td>\n",
              "      <td>6610</td>\n",
              "    </tr>\n",
              "    <tr>\n",
              "      <th>8</th>\n",
              "      <td>Sony</td>\n",
              "      <td>0.268844</td>\n",
              "      <td>2526</td>\n",
              "      <td>670</td>\n",
              "      <td>0.447593</td>\n",
              "      <td>2581</td>\n",
              "      <td>615</td>\n",
              "    </tr>\n",
              "    <tr>\n",
              "      <th>9</th>\n",
              "      <td>Xiaomi</td>\n",
              "      <td>0.280397</td>\n",
              "      <td>2921</td>\n",
              "      <td>1490</td>\n",
              "      <td>0.396646</td>\n",
              "      <td>3798</td>\n",
              "      <td>613</td>\n",
              "    </tr>\n",
              "  </tbody>\n",
              "</table>\n",
              "</div>"
            ],
            "text/plain": [
              "      brand  avg_sent_tb   tb_p  tb_n  avg_sent_vader  vader_p  vader_n\n",
              "0      ASUS     0.253001    198    53        0.450343      204       47\n",
              "1     Apple     0.238408   3377  1768        0.303738     4045     1100\n",
              "2    Google     0.243897   2904   883        0.371158     2896      891\n",
              "3    HUAWEI     0.301263   1624   601        0.456779     1921      304\n",
              "4  Motorola     0.271063   6742  2138        0.405286     7232     1648\n",
              "5     Nokia     0.237997   4333  1582        0.373347     4631     1284\n",
              "6   OnePlus     0.294085    281    66        0.488430      296       51\n",
              "7   Samsung     0.276568  24076  9553        0.361681    27019     6610\n",
              "8      Sony     0.268844   2526   670        0.447593     2581      615\n",
              "9    Xiaomi     0.280397   2921  1490        0.396646     3798      613"
            ]
          },
          "metadata": {
            "tags": []
          },
          "execution_count": 43
        }
      ]
    },
    {
      "cell_type": "code",
      "metadata": {
        "id": "YeFr1n30BncT",
        "colab_type": "code",
        "cellView": "form",
        "outputId": "d8e2730d-6ddf-4429-8a40-ee4afe74365c",
        "colab": {
          "base_uri": "https://localhost:8080/",
          "height": 143
        }
      },
      "source": [
        "#@title Ratings Summary\n",
        "\n",
        "text = \"body\" #@param {type:\"string\"} ['title', 'body']\n",
        "cutoff = \"hybrid\" #@param {type:\"string\"} ['0', '0.5', 'hybrid']\n",
        "\n",
        "def pivot_ratings(df):\n",
        "  return pd.pivot_table(df, values='index', index=['vader_p'], columns=['rating_x'], aggfunc='count')\n",
        "\n",
        "if text == \"body\":\n",
        "  if cutoff == \"0/5\":\n",
        "    filename = \"df_sent_0pt5.csv\"\n",
        "  else:\n",
        "    filename = \"df_sent_\"+cutoff+\".csv\"\n",
        "else:\n",
        "  if cutoff == \"0.5\":\n",
        "    filename = \"df_sent_title_0pt5.csv\"\n",
        "  else:\n",
        "    if cutoff == \"hybrid\":\n",
        "      filename = \"df_sent_hybrid.csv\"\n",
        "      print(\"No data for hybrid title defaulting to df_sent_hybrid.csv\")\n",
        "    else:\n",
        "      filename = \"df_sent_title\"+cutoff+\".csv\"\n",
        "data = pd.read_csv(\"/content/drive/My Drive/Amazon_Reviews/\"+filename)\n",
        "pivot_ratings(data)"
      ],
      "execution_count": 0,
      "outputs": [
        {
          "output_type": "execute_result",
          "data": {
            "text/html": [
              "<div>\n",
              "<style scoped>\n",
              "    .dataframe tbody tr th:only-of-type {\n",
              "        vertical-align: middle;\n",
              "    }\n",
              "\n",
              "    .dataframe tbody tr th {\n",
              "        vertical-align: top;\n",
              "    }\n",
              "\n",
              "    .dataframe thead th {\n",
              "        text-align: right;\n",
              "    }\n",
              "</style>\n",
              "<table border=\"1\" class=\"dataframe\">\n",
              "  <thead>\n",
              "    <tr style=\"text-align: right;\">\n",
              "      <th>rating_x</th>\n",
              "      <th>1</th>\n",
              "      <th>2</th>\n",
              "      <th>3</th>\n",
              "      <th>4</th>\n",
              "      <th>5</th>\n",
              "    </tr>\n",
              "    <tr>\n",
              "      <th>vader_p</th>\n",
              "      <th></th>\n",
              "      <th></th>\n",
              "      <th></th>\n",
              "      <th></th>\n",
              "      <th></th>\n",
              "    </tr>\n",
              "  </thead>\n",
              "  <tbody>\n",
              "    <tr>\n",
              "      <th>0</th>\n",
              "      <td>7285</td>\n",
              "      <td>1866</td>\n",
              "      <td>1517</td>\n",
              "      <td>1001</td>\n",
              "      <td>1524</td>\n",
              "    </tr>\n",
              "    <tr>\n",
              "      <th>1</th>\n",
              "      <td>5458</td>\n",
              "      <td>2049</td>\n",
              "      <td>3235</td>\n",
              "      <td>7823</td>\n",
              "      <td>36228</td>\n",
              "    </tr>\n",
              "  </tbody>\n",
              "</table>\n",
              "</div>"
            ],
            "text/plain": [
              "rating_x     1     2     3     4      5\n",
              "vader_p                                \n",
              "0         7285  1866  1517  1001   1524\n",
              "1         5458  2049  3235  7823  36228"
            ]
          },
          "metadata": {
            "tags": []
          },
          "execution_count": 44
        }
      ]
    },
    {
      "cell_type": "code",
      "metadata": {
        "id": "q3cOX2FNyS0v",
        "colab_type": "code",
        "outputId": "30ef62b6-421b-4287-9d87-a7e4fe6b5ad1",
        "cellView": "form",
        "colab": {
          "base_uri": "https://localhost:8080/",
          "height": 580
        }
      },
      "source": [
        "#@title Classification tables\n",
        "sentiment = \"negative\" #@param {type:\"string\"} ['positive', 'negative']\n",
        "rating = \"4 or 5\" #@param {type:\"string\"} ['1 or 2', '3', '4 or 5']\n",
        "package = \"VADER\" #@param {type:\"string\"} ['VADER', 'TextBlob']\n",
        "brand = \"Samsung\" #@param {type:\"string\"} ['Motorola', 'Nokia', 'Samsung', 'HUAWEI', 'Sony', 'Apple', 'Google', 'ASUS', 'OnePlus', 'Xiaomi']\n",
        "\n",
        "temp_df = pd.DataFrame()\n",
        "if package == \"VADER\":\n",
        "  if sentiment == \"positive\":\n",
        "    if rating == \"1 or 2\":\n",
        "      temp_df = df_sent[(df_sent['vader_p'] == 1) & (df_sent['rating_x'] < 3)]\n",
        "    elif rating == \"3\":\n",
        "      temp_df = df_sent[(df_sent['vader_p'] == 1) & (df_sent['rating_x'] == 3)]\n",
        "    else:\n",
        "      temp_df = df_sent[(df_sent['vader_p'] == 1) & (df_sent['rating_x'] > 3)]\n",
        "  else:\n",
        "    if rating == \"1 or 2\":\n",
        "      temp_df = df_sent[(df_sent['vader_n'] == 1) & (df_sent['rating_x'] < 3)]\n",
        "    elif rating == \"3\":\n",
        "      temp_df = df_sent[(df_sent['vader_n'] == 1) & (df_sent['rating_x'] == 3)]\n",
        "    else:\n",
        "      temp_df = df_sent[(df_sent['vader_n'] == 1) & (df_sent['rating_x'] > 3)]\n",
        "else:\n",
        "  if sentiment == \"positive\":\n",
        "    if rating == \"1 or 2\":\n",
        "      temp_df = df_sent[(df_sent['tb_p'] == 1) & (df_sent['rating_x'] < 3)]\n",
        "    elif rating == \"3\":\n",
        "      temp_df = df_sent[(df_sent['tb_p'] == 1) & (df_sent['rating_x'] == 3)]\n",
        "    else:\n",
        "      temp_df = df_sent[(df_sent['tb_p'] == 1) & (df_sent['rating_x'] > 3)]\n",
        "  else:\n",
        "    if rating == \"1 or 2\":\n",
        "      temp_df = df_sent[(df_sent['tb_n'] == 1) & (df_sent['rating_x'] < 3)]\n",
        "    elif rating == \"3\":\n",
        "      temp_df = df_sent[(df_sent['tb_n'] == 1) & (df_sent['rating_x'] == 3)]\n",
        "    else:\n",
        "      temp_df = df_sent[(df_sent['tb_n'] == 1) & (df_sent['rating_x'] > 3)]\n",
        "temp_df[temp_df['brand']==brand]"
      ],
      "execution_count": 0,
      "outputs": [
        {
          "output_type": "execute_result",
          "data": {
            "text/html": [
              "<div>\n",
              "<style scoped>\n",
              "    .dataframe tbody tr th:only-of-type {\n",
              "        vertical-align: middle;\n",
              "    }\n",
              "\n",
              "    .dataframe tbody tr th {\n",
              "        vertical-align: top;\n",
              "    }\n",
              "\n",
              "    .dataframe thead th {\n",
              "        text-align: right;\n",
              "    }\n",
              "</style>\n",
              "<table border=\"1\" class=\"dataframe\">\n",
              "  <thead>\n",
              "    <tr style=\"text-align: right;\">\n",
              "      <th></th>\n",
              "      <th>index</th>\n",
              "      <th>body</th>\n",
              "      <th>brand</th>\n",
              "      <th>rating_x</th>\n",
              "      <th>sent_tb</th>\n",
              "      <th>tb_p</th>\n",
              "      <th>tb_n</th>\n",
              "      <th>tbnb_p</th>\n",
              "      <th>tbnb_n</th>\n",
              "      <th>sent_vader</th>\n",
              "      <th>vader_p</th>\n",
              "      <th>vader_n</th>\n",
              "    </tr>\n",
              "  </thead>\n",
              "  <tbody>\n",
              "    <tr>\n",
              "      <th>772</th>\n",
              "      <td>772</td>\n",
              "      <td>This phone has lasted me three years and it's ...</td>\n",
              "      <td>Samsung</td>\n",
              "      <td>5</td>\n",
              "      <td>0.100000</td>\n",
              "      <td>1</td>\n",
              "      <td>0</td>\n",
              "      <td>0</td>\n",
              "      <td>0</td>\n",
              "      <td>-0.4325</td>\n",
              "      <td>0</td>\n",
              "      <td>1</td>\n",
              "    </tr>\n",
              "    <tr>\n",
              "      <th>790</th>\n",
              "      <td>790</td>\n",
              "      <td>phone works as expected. very low battery cons...</td>\n",
              "      <td>Samsung</td>\n",
              "      <td>5</td>\n",
              "      <td>-0.050000</td>\n",
              "      <td>0</td>\n",
              "      <td>1</td>\n",
              "      <td>0</td>\n",
              "      <td>0</td>\n",
              "      <td>-0.3384</td>\n",
              "      <td>0</td>\n",
              "      <td>1</td>\n",
              "    </tr>\n",
              "    <tr>\n",
              "      <th>819</th>\n",
              "      <td>819</td>\n",
              "      <td>Thi sis a replacement for a lost phone. No sur...</td>\n",
              "      <td>Samsung</td>\n",
              "      <td>5</td>\n",
              "      <td>0.000000</td>\n",
              "      <td>0</td>\n",
              "      <td>1</td>\n",
              "      <td>0</td>\n",
              "      <td>0</td>\n",
              "      <td>-0.2182</td>\n",
              "      <td>0</td>\n",
              "      <td>1</td>\n",
              "    </tr>\n",
              "    <tr>\n",
              "      <th>835</th>\n",
              "      <td>835</td>\n",
              "      <td>This phone has taken everything I have thrown ...</td>\n",
              "      <td>Samsung</td>\n",
              "      <td>5</td>\n",
              "      <td>0.168939</td>\n",
              "      <td>1</td>\n",
              "      <td>0</td>\n",
              "      <td>0</td>\n",
              "      <td>0</td>\n",
              "      <td>-0.7543</td>\n",
              "      <td>0</td>\n",
              "      <td>1</td>\n",
              "    </tr>\n",
              "    <tr>\n",
              "      <th>931</th>\n",
              "      <td>931</td>\n",
              "      <td>This was used as a replacement. It can only be...</td>\n",
              "      <td>Samsung</td>\n",
              "      <td>5</td>\n",
              "      <td>0.033333</td>\n",
              "      <td>1</td>\n",
              "      <td>0</td>\n",
              "      <td>0</td>\n",
              "      <td>0</td>\n",
              "      <td>-0.3089</td>\n",
              "      <td>0</td>\n",
              "      <td>1</td>\n",
              "    </tr>\n",
              "    <tr>\n",
              "      <th>...</th>\n",
              "      <td>...</td>\n",
              "      <td>...</td>\n",
              "      <td>...</td>\n",
              "      <td>...</td>\n",
              "      <td>...</td>\n",
              "      <td>...</td>\n",
              "      <td>...</td>\n",
              "      <td>...</td>\n",
              "      <td>...</td>\n",
              "      <td>...</td>\n",
              "      <td>...</td>\n",
              "      <td>...</td>\n",
              "    </tr>\n",
              "    <tr>\n",
              "      <th>67028</th>\n",
              "      <td>67028</td>\n",
              "      <td>Cheap, but wimpy. Dropped it once with a case,...</td>\n",
              "      <td>Samsung</td>\n",
              "      <td>4</td>\n",
              "      <td>0.400000</td>\n",
              "      <td>1</td>\n",
              "      <td>0</td>\n",
              "      <td>0</td>\n",
              "      <td>0</td>\n",
              "      <td>-0.3291</td>\n",
              "      <td>0</td>\n",
              "      <td>1</td>\n",
              "    </tr>\n",
              "    <tr>\n",
              "      <th>67093</th>\n",
              "      <td>67093</td>\n",
              "      <td>The phone arrived quickly and I was able to se...</td>\n",
              "      <td>Samsung</td>\n",
              "      <td>5</td>\n",
              "      <td>0.025926</td>\n",
              "      <td>1</td>\n",
              "      <td>0</td>\n",
              "      <td>0</td>\n",
              "      <td>0</td>\n",
              "      <td>-0.5598</td>\n",
              "      <td>0</td>\n",
              "      <td>1</td>\n",
              "    </tr>\n",
              "    <tr>\n",
              "      <th>67740</th>\n",
              "      <td>67740</td>\n",
              "      <td>There is no such thing as 'international versi...</td>\n",
              "      <td>Samsung</td>\n",
              "      <td>4</td>\n",
              "      <td>-0.101488</td>\n",
              "      <td>0</td>\n",
              "      <td>1</td>\n",
              "      <td>0</td>\n",
              "      <td>0</td>\n",
              "      <td>-0.9738</td>\n",
              "      <td>0</td>\n",
              "      <td>1</td>\n",
              "    </tr>\n",
              "    <tr>\n",
              "      <th>67828</th>\n",
              "      <td>67828</td>\n",
              "      <td>No case in box</td>\n",
              "      <td>Samsung</td>\n",
              "      <td>5</td>\n",
              "      <td>0.000000</td>\n",
              "      <td>0</td>\n",
              "      <td>1</td>\n",
              "      <td>0</td>\n",
              "      <td>0</td>\n",
              "      <td>-0.2960</td>\n",
              "      <td>0</td>\n",
              "      <td>1</td>\n",
              "    </tr>\n",
              "    <tr>\n",
              "      <th>67876</th>\n",
              "      <td>67876</td>\n",
              "      <td>Buenas tardes , ya tengo el celular en mi mano...</td>\n",
              "      <td>Samsung</td>\n",
              "      <td>4</td>\n",
              "      <td>0.000000</td>\n",
              "      <td>0</td>\n",
              "      <td>1</td>\n",
              "      <td>0</td>\n",
              "      <td>0</td>\n",
              "      <td>-0.2960</td>\n",
              "      <td>0</td>\n",
              "      <td>1</td>\n",
              "    </tr>\n",
              "  </tbody>\n",
              "</table>\n",
              "<p>1159 rows × 12 columns</p>\n",
              "</div>"
            ],
            "text/plain": [
              "       index  ... vader_n\n",
              "772      772  ...       1\n",
              "790      790  ...       1\n",
              "819      819  ...       1\n",
              "835      835  ...       1\n",
              "931      931  ...       1\n",
              "...      ...  ...     ...\n",
              "67028  67028  ...       1\n",
              "67093  67093  ...       1\n",
              "67740  67740  ...       1\n",
              "67828  67828  ...       1\n",
              "67876  67876  ...       1\n",
              "\n",
              "[1159 rows x 12 columns]"
            ]
          },
          "metadata": {
            "tags": []
          },
          "execution_count": 45
        }
      ]
    },
    {
      "cell_type": "markdown",
      "metadata": {
        "id": "PSSJ4Sa1b73v",
        "colab_type": "text"
      },
      "source": [
        "# Topic Modeling"
      ]
    },
    {
      "cell_type": "code",
      "metadata": {
        "id": "ocL_1lPYEiqH",
        "colab_type": "code",
        "cellView": "form",
        "outputId": "9920a85e-671f-4df4-bf19-3c08a43206f5",
        "colab": {
          "base_uri": "https://localhost:8080/",
          "height": 36
        }
      },
      "source": [
        "#@title Import data for Topic Modeling\n",
        "pick_from_drive = True #@param {type:\"boolean\"}\n",
        "\n",
        "if pick_from_drive:\n",
        "  file_id = '1-hAZqHhS8pmiX3nJGV_WjQ_GG_cr9LRf'\n",
        "  downloaded = drive.CreateFile({'id': file_id})\n",
        "  downloaded.GetContentFile('df_sent_hybrid.csv')\n",
        "  topic_df = pd.read_csv(\"df_sent_hybrid.csv\")\n",
        "  topic_df['brand'] = topic_df['brand'].astype(str)\n",
        "  print(\"Data imported from Drive\")\n",
        "else:\n",
        "  print(\"Using current session Data\")"
      ],
      "execution_count": 0,
      "outputs": [
        {
          "output_type": "stream",
          "text": [
            "Data imported from Drive\n"
          ],
          "name": "stdout"
        }
      ]
    },
    {
      "cell_type": "code",
      "metadata": {
        "id": "d4wZYNZgcgAO",
        "colab_type": "code",
        "cellView": "form",
        "colab": {}
      },
      "source": [
        "#@title Select Brand & Sentiment\n",
        "brand = \"Samsung\" #@param {type:\"string\"} ['Motorola', 'Nokia', 'Samsung', 'HUAWEI', 'Sony', 'Apple', 'Google', 'ASUS', 'OnePlus', 'Xiaomi']\n",
        "sentiment_topic = \"negative\" #@param {type:\"string\"} ['negative', 'positive']\n",
        "\n",
        "# Subset brand data\n",
        "topic_df_brand = topic_df[topic_df['brand']==brand]\n",
        "topic_df_brand = topic_df_brand.astype({'body': 'str'})\n",
        "\n",
        "# Filter Positive Reviews\n",
        "if sentiment_topic == \"positive\":\n",
        "  vader_sentiment = topic_df_brand['sent_vader']\n",
        "  rating = topic_df_brand['rating_x']\n",
        "  # Pick the REALLY good sentiment in bad rated review\n",
        "  brand_neg = topic_df_brand[((topic_df_brand['vader_p']==1) & (topic_df_brand['rating_x']!=1)) |\n",
        "                             ((topic_df_brand['sent_vader']>=0.75) & (topic_df_brand['rating_x']==1))]\n",
        "\n",
        "# Filter Negative Review\n",
        "else:\n",
        "  brand_neg = topic_df_brand[(((topic_df_brand['vader_n']==1) & (topic_df_brand['rating_x']!=5)) |\n",
        "                             ((topic_df_brand['sent_vader']<=-0.75) & (topic_df_brand['rating_x']==5)))]"
      ],
      "execution_count": 0,
      "outputs": []
    },
    {
      "cell_type": "code",
      "metadata": {
        "id": "l_BA4MSzYrnP",
        "colab_type": "code",
        "cellView": "form",
        "colab": {}
      },
      "source": [
        "#@title Clean data module\n",
        "keywords = topic_df[\"brand\"].apply(lambda x: x.lower()).unique().tolist()\n",
        "keywords.append(\"phone\")\n",
        "keywords.append(\"iphone\")\n",
        "lemma = WordNetLemmatizer()\n",
        "spacy_stopwords = spacy.lang.en.stop_words.STOP_WORDS\n",
        "def clean_text(text):\n",
        "    # Convert the text into lowercase\n",
        "    lower = text.lower()\n",
        "    # Split into list\n",
        "    wordList = lower.split()\n",
        "    # Remove punctuation\n",
        "    wordList_punc = [\"\".join(i for i in word if (i==\"'\")|(i not in string.punctuation)) for word in wordList]\n",
        "    # Remove stopwords\n",
        "    wordList_stop = [word for word in wordList_punc if word not in list(spacy_stopwords)]\n",
        "    # Remove other keywords\n",
        "    wordList_key = [word for word in wordList_stop if word not in keywords]\n",
        "    # Stemming\n",
        "    #words_stemmed= [stemmer.stem(word) for word in wordList_key]\n",
        "    # Lemmatisation\n",
        "    #lemma_word = nlp(wordList)\n",
        "    wordList_clean = [lemma.lemmatize(word) for word in wordList_key]\n",
        "    #wordList = [word.lemma_ for word in wordList]\n",
        "    return \" \".join(wordList_clean)\n",
        "\n",
        "#dtm = cv.fit_transform(topic_df[\"body\"])\n",
        "#common_words_bigrams = get_top_n_bigram(topic_df_Apple_neg['body'])\n",
        "#bigrams_list = [a_tuple[0] for a_tuple in common_words_bigrams]"
      ],
      "execution_count": 0,
      "outputs": []
    },
    {
      "cell_type": "code",
      "metadata": {
        "colab_type": "code",
        "id": "BPInCqDXrBe2",
        "cellView": "form",
        "outputId": "3869976f-72f2-4fbd-f443-1ab933ac355d",
        "colab": {
          "base_uri": "https://localhost:8080/",
          "height": 302
        }
      },
      "source": [
        "#@title Gensim\n",
        "import numpy\n",
        "warnings.filterwarnings(\"ignore\", category=DeprecationWarning)\n",
        "\n",
        "# Stop Words\n",
        "custom_stop_words = stopwords.words('english')\n",
        "custom_stop_words.extend(['phone','from', 'subject', 're', 'edu', 'use', 'not', 'would', 'say', 'could', '_', 'be', 'know', 'good', 'go', 'get', 'do', 'done', 'try', 'many', 'some', 'nice', 'thank', 'think', 'see', 'rather', 'easy', 'easily', 'lot', 'lack', 'make', 'want', 'seem', 'run', 'need', 'even', 'right', 'line', 'even', 'also', 'may', 'take', 'come'])\n",
        "\n",
        "# Common keyowords\n",
        "keywords = topic_df[\"brand\"].apply(lambda x: x.lower()).unique().tolist()\n",
        "keywords.append(\"phone\")\n",
        "keywords.append(\"iphone\")\n",
        "keywords.append(\"ipad\")\n",
        "\n",
        "def sent_to_words(sentences):\n",
        "    for sent in sentences:\n",
        "        sent = re.sub(r'\\S*@\\S*\\s?', '', sent)  # remove emails\n",
        "        sent = re.sub(r'\\s+', ' ', sent)  # remove newline chars\n",
        "        sent = re.sub(r\"\\'\", \"\", sent)  # remove single quotes\n",
        "        sent = gensim.utils.simple_preprocess(str(sent), deacc=True)\n",
        "        yield(sent)\n",
        "\n",
        "def process_words(texts, stop_words=custom_stop_words, allowed_postags=['NOUN', 'ADJ', 'VERB', 'ADV']):\n",
        "    texts = [[word for word in simple_preprocess(str(doc)) if word not in stop_words] for doc in texts]\n",
        "    texts = [bigram_mod[doc] for doc in texts]\n",
        "    texts = [trigram_mod[bigram_mod[doc]] for doc in texts]\n",
        "    texts_out = []\n",
        "    nlp = spacy.load('en', disable=['parser', 'ner'])\n",
        "    for sent in texts:\n",
        "        doc = nlp(\" \".join(sent)) \n",
        "        texts_out.append([token.lemma_ for token in doc if token.pos_ in allowed_postags])\n",
        "    # remove stopwords once more after lemmatization\n",
        "    texts_out = [[word for word in simple_preprocess(str(doc)) if word not in stop_words] for doc in texts_out]   \n",
        "    # Remove other keywords\n",
        "    texts_out = [[word for word in simple_preprocess(str(doc)) if word not in keywords] for doc in texts_out]\n",
        "    return texts_out\n",
        "\n",
        "# Convert to list\n",
        "data = brand_neg.body.values.tolist()\n",
        "data_words = list(sent_to_words(data))\n",
        "\n",
        "# Build the bigram and trigram models\n",
        "bigram = gensim.models.Phrases(data_words, min_count=5, threshold=100) # higher threshold fewer phrases.\n",
        "trigram = gensim.models.Phrases(bigram[data_words], threshold=100)  \n",
        "bigram_mod = gensim.models.phrases.Phraser(bigram)\n",
        "trigram_mod = gensim.models.phrases.Phraser(trigram)\n",
        "\n",
        "data_ready = process_words(data_words)\n",
        "\n",
        "num_topics =  4#@param {type:\"integer\"}\n",
        "\n",
        "# Create Dictionary\n",
        "id2word = corpora.Dictionary(data_ready)\n",
        "\n",
        "# Create Corpus: Term Document Frequency using BOW model\n",
        "corpus = [id2word.doc2bow(text) for text in data_ready]\n",
        "\n",
        "#Using Tfidf - replace corpus with corpus_tfidf\n",
        "from gensim import corpora, models\n",
        "#tfidf = models.TfidfModel(corpus)\n",
        "#corpus_tfidf = tfidf[corpus]\n",
        "\n",
        "#corpus = [id2word.doc2bow(text) for text in data_ready]\n",
        "# Build LDA model\n",
        "#Nmf(corpus_tfidf, num_topics=50, kappa=0.1, eval_every=5) #NMF\n",
        "lda_model = gensim.models.ldamodel.LdaModel(\n",
        "                corpus=corpus,\n",
        "                id2word=id2word,\n",
        "                num_topics=num_topics, \n",
        "                random_state=100,\n",
        "                update_every=1,\n",
        "                chunksize=10,\n",
        "                passes=10,\n",
        "                alpha='symmetric',\n",
        "                iterations=100,\n",
        "                per_word_topics=True)\n",
        "\n",
        "def format_topics_sentences(ldamodel=None, corpus=corpus, texts=data):\n",
        "  # Init output\n",
        "  sent_topics_df = pd.DataFrame()\n",
        "\n",
        "  # Get main topic in each document\n",
        "  for i, row_list in enumerate(ldamodel[corpus]):\n",
        "    row = row_list[0] if ldamodel.per_word_topics else row_list            \n",
        "    # print(row)\n",
        "    row = sorted(row, key=lambda x: (x[1]), reverse=True)\n",
        "    # Get the Dominant topic, Perc Contribution and Keywords for each document\n",
        "    for j, (topic_num, prop_topic) in enumerate(row):\n",
        "      if j == 0:  # => dominant topic\n",
        "        wp = ldamodel.show_topic(topic_num)\n",
        "        topic_keywords = \", \".join([word for word, prop in wp])\n",
        "        sent_topics_df = sent_topics_df.append(pd.Series([int(topic_num), round(prop_topic,4), topic_keywords]), ignore_index=True)\n",
        "      else:\n",
        "        break\n",
        "  sent_topics_df.columns = ['Dominant_Topic', 'Perc_Contribution', 'Topic_Keywords']\n",
        "\n",
        "  # Add original text to the end of the output\n",
        "  contents = pd.Series(texts)\n",
        "  sent_topics_df = pd.concat([sent_topics_df, contents], axis=1)\n",
        "  return(sent_topics_df)\n",
        "\n",
        "df_topic_sents_keywords = format_topics_sentences(ldamodel=lda_model, corpus=corpus, texts=data_ready)\n",
        "\n",
        "# Format\n",
        "df_dominant_topic = df_topic_sents_keywords.reset_index()\n",
        "df_dominant_topic.columns = ['Document_No', 'Dominant_Topic', 'Topic_Perc_Contrib', 'Keywords', 'Text']\n",
        "\n",
        "# Display setting to show more characters in column\n",
        "pd.options.display.max_colwidth = 100\n",
        "\n",
        "sent_topics_sorteddf_mallet = pd.DataFrame()\n",
        "sent_topics_outdf_grpd = df_topic_sents_keywords.groupby('Dominant_Topic')\n",
        "\n",
        "for i, grp in sent_topics_outdf_grpd:\n",
        "  sent_topics_sorteddf_mallet = pd.concat([sent_topics_sorteddf_mallet, \n",
        "                                          grp.sort_values(['Perc_Contribution'], ascending=False).head(1)], \n",
        "                                          axis=0)\n",
        "\n",
        "# Reset Index    \n",
        "sent_topics_sorteddf_mallet.reset_index(drop=True, inplace=True)\n",
        "\n",
        "# Format\n",
        "sent_topics_sorteddf_mallet.columns = ['Topic_Num', \"Topic_Perc_Contrib\", \"Keywords\", \"Representative Text\"]\n",
        "\n",
        "# Show\n",
        "sent_topics_sorteddf_mallet"
      ],
      "execution_count": 0,
      "outputs": [
        {
          "output_type": "stream",
          "text": [
            "/usr/local/lib/python3.6/dist-packages/gensim/models/phrases.py:598: UserWarning: For a faster implementation, use the gensim.models.phrases.Phraser class\n",
            "  warnings.warn(\"For a faster implementation, use the gensim.models.phrases.Phraser class\")\n"
          ],
          "name": "stderr"
        },
        {
          "output_type": "execute_result",
          "data": {
            "text/html": [
              "<div>\n",
              "<style scoped>\n",
              "    .dataframe tbody tr th:only-of-type {\n",
              "        vertical-align: middle;\n",
              "    }\n",
              "\n",
              "    .dataframe tbody tr th {\n",
              "        vertical-align: top;\n",
              "    }\n",
              "\n",
              "    .dataframe thead th {\n",
              "        text-align: right;\n",
              "    }\n",
              "</style>\n",
              "<table border=\"1\" class=\"dataframe\">\n",
              "  <thead>\n",
              "    <tr style=\"text-align: right;\">\n",
              "      <th></th>\n",
              "      <th>Topic_Num</th>\n",
              "      <th>Topic_Perc_Contrib</th>\n",
              "      <th>Keywords</th>\n",
              "      <th>Representative Text</th>\n",
              "    </tr>\n",
              "  </thead>\n",
              "  <tbody>\n",
              "    <tr>\n",
              "      <th>0</th>\n",
              "      <td>0.0</td>\n",
              "      <td>0.9250</td>\n",
              "      <td>return, receive, work, purchase, product, buy, send, seller, verizon, carrier</td>\n",
              "      <td>[miss, charging_cable, adapter, indicate, website, seller, include, charging_cable, adapter]</td>\n",
              "    </tr>\n",
              "    <tr>\n",
              "      <th>1</th>\n",
              "      <td>1.0</td>\n",
              "      <td>0.9044</td>\n",
              "      <td>work, note, call, mobile, problem, time, issue, feature, well, camera</td>\n",
              "      <td>[work, great, gps, tracking, issue, frustrating, deal_breaker]</td>\n",
              "    </tr>\n",
              "    <tr>\n",
              "      <th>2</th>\n",
              "      <td>2.0</td>\n",
              "      <td>0.9445</td>\n",
              "      <td>screen, buy, charge, battery, day, new, month, never, work, week</td>\n",
              "      <td>[buy, month, ago, fifth, screen, bad, time, time, replace, warranty, charge, warranty, replacement]</td>\n",
              "    </tr>\n",
              "    <tr>\n",
              "      <th>3</th>\n",
              "      <td>3.0</td>\n",
              "      <td>0.9371</td>\n",
              "      <td>bad, box, pay, money, waste, time, quality, order, price, ever</td>\n",
              "      <td>[sound, quality, low, raise, volume, voice, distort, difficult, understand, person, stay]</td>\n",
              "    </tr>\n",
              "  </tbody>\n",
              "</table>\n",
              "</div>"
            ],
            "text/plain": [
              "   Topic_Num  ...                                                                                  Representative Text\n",
              "0        0.0  ...         [miss, charging_cable, adapter, indicate, website, seller, include, charging_cable, adapter]\n",
              "1        1.0  ...                                       [work, great, gps, tracking, issue, frustrating, deal_breaker]\n",
              "2        2.0  ...  [buy, month, ago, fifth, screen, bad, time, time, replace, warranty, charge, warranty, replacement]\n",
              "3        3.0  ...            [sound, quality, low, raise, volume, voice, distort, difficult, understand, person, stay]\n",
              "\n",
              "[4 rows x 4 columns]"
            ]
          },
          "metadata": {
            "tags": []
          },
          "execution_count": 104
        }
      ]
    },
    {
      "cell_type": "code",
      "metadata": {
        "id": "wBlcqrkcsqBi",
        "colab_type": "code",
        "cellView": "form",
        "outputId": "4719192c-4b81-4812-ff5d-bd427d4b2d34",
        "colab": {
          "base_uri": "https://localhost:8080/",
          "height": 615
        }
      },
      "source": [
        "#@title Word Cloud of Top Words\n",
        "max_words = 8 #@param {type:\"integer\"}\n",
        "# Wordcloud of Top N words in each topic\n",
        "\n",
        "cols = [color for name, color in mcolors.TABLEAU_COLORS.items()]  # more colors: 'mcolors.XKCD_COLORS'\n",
        "cloud = WordCloud(stopwords=custom_stop_words,\n",
        "                  background_color='white',\n",
        "                  width=2500,\n",
        "                  height=1800,\n",
        "                  max_words=max_words,\n",
        "                  colormap='tab10',\n",
        "                  color_func=lambda *args, **kwargs: cols[i],\n",
        "                  prefer_horizontal=1.0)\n",
        "\n",
        "topics = lda_model.show_topics(num_topics=num_topics,num_words=max_words,formatted=False)\n",
        "rows = math.ceil(num_topics/2)\n",
        "columns = 2\n",
        "fig, axes = plt.subplots(rows, columns, figsize=(10,10), sharex=True, sharey=True)\n",
        "\n",
        "for i, ax in enumerate(axes.flatten()):\n",
        "  if i < num_topics:\n",
        "    fig.add_subplot(ax)\n",
        "    topic_words = dict(topics[i][1])\n",
        "    cloud.generate_from_frequencies(topic_words, max_font_size=300)\n",
        "    plt.gca().imshow(cloud)\n",
        "    plt.gca().set_title('Topic ' + str(i), fontdict=dict(size=16))\n",
        "    plt.gca().axis('off')\n",
        "\n",
        "plt.subplots_adjust(wspace=0, hspace=0)\n",
        "plt.axis('off')\n",
        "plt.margins(x=0, y=0)\n",
        "plt.tight_layout()\n",
        "plt.show()"
      ],
      "execution_count": 0,
      "outputs": [
        {
          "output_type": "display_data",
          "data": {
            "image/png": "[encoded data removed]",
            "text/plain": [
              "<Figure size 720x720 with 4 Axes>"
            ]
          },
          "metadata": {
            "tags": []
          }
        }
      ]
    },
    {
      "cell_type": "code",
      "metadata": {
        "id": "7EcZ5ofSsxca",
        "colab_type": "code",
        "outputId": "52bd8f82-b9e5-453a-c738-387999a14001",
        "cellView": "form",
        "colab": {
          "base_uri": "https://localhost:8080/",
          "height": 399
        }
      },
      "source": [
        "#@title Dominant Topics and Weightage\n",
        "# Sentence Coloring of N Sentences\n",
        "def topics_per_document(model, corpus, start=0, end=1):\n",
        "    corpus_sel = corpus[start:end]\n",
        "    dominant_topics = []\n",
        "    topic_percentages = []\n",
        "    for i, corp in enumerate(corpus_sel):\n",
        "        topic_percs, wordid_topics, wordid_phivalues = model[corp]\n",
        "        dominant_topic = sorted(topic_percs, key = lambda x: x[1], reverse=True)[0][0]\n",
        "        dominant_topics.append((i, dominant_topic))\n",
        "        topic_percentages.append(topic_percs)\n",
        "    return(dominant_topics, topic_percentages)\n",
        "\n",
        "dominant_topics, topic_percentages = topics_per_document(model=lda_model, corpus=corpus, end=-1)            \n",
        "\n",
        "# Distribution of Dominant Topics in Each Document\n",
        "df = pd.DataFrame(dominant_topics, columns=['Document_Id', 'Dominant_Topic'])\n",
        "dominant_topic_in_each_doc = df.groupby('Dominant_Topic').size()\n",
        "df_dominant_topic_in_each_doc = dominant_topic_in_each_doc.to_frame(name='count').reset_index()\n",
        "\n",
        "# Total Topic Distribution by actual weight\n",
        "topic_weightage_by_doc = pd.DataFrame([dict(t) for t in topic_percentages])\n",
        "df_topic_weightage_by_doc = topic_weightage_by_doc.sum().to_frame(name='count').reset_index()\n",
        "\n",
        "# Top 3 Keywords for each Topic\n",
        "topic_top3words = [(i, topic) for i, topics in lda_model.show_topics(formatted=False) \n",
        "                                 for j, (topic, wt) in enumerate(topics) if j < 3]\n",
        "\n",
        "df_top3words_stacked = pd.DataFrame(topic_top3words, columns=['topic_id', 'words'])\n",
        "df_top3words = df_top3words_stacked.groupby('topic_id').agg(', \\n'.join)\n",
        "df_top3words.reset_index(level=0,inplace=True)\n",
        "\n",
        "# Plot\n",
        "fig, (ax1, ax2) = plt.subplots(1, 2, figsize=(30, 10), dpi=50, sharey=True)\n",
        "\n",
        "# Topic Distribution by Dominant Topics\n",
        "ax1.bar(x='Dominant_Topic', height='count', data=df_dominant_topic_in_each_doc, width=.5, color='firebrick')\n",
        "ax1.set_xticks(range(df_dominant_topic_in_each_doc.Dominant_Topic.unique().__len__()))\n",
        "tick_formatter = FuncFormatter(lambda x, pos: 'Topic ' + str(x)+ '\\n' + df_top3words.loc[df_top3words.topic_id==x, 'words'].values[0])\n",
        "ax1.xaxis.set_major_formatter(tick_formatter)\n",
        "ax1.set_title('Number of Documents by Dominant Topic', fontdict=dict(size=10))\n",
        "ax1.set_ylabel('Number of Documents')\n",
        "#ax1.set_ylim(0, 1000)\n",
        "\n",
        "# Topic Distribution by Topic Weights\n",
        "ax2.bar(x='index', height='count', data=df_topic_weightage_by_doc, width=.5, color='steelblue')\n",
        "ax2.set_xticks(range(df_topic_weightage_by_doc.index.unique().__len__()))\n",
        "ax2.xaxis.set_major_formatter(tick_formatter)\n",
        "ax2.set_title('Number of Documents by Topic Weightage', fontdict=dict(size=10))\n",
        "\n",
        "plt.show()"
      ],
      "execution_count": 0,
      "outputs": [
        {
          "output_type": "display_data",
          "data": {
            "image/png": "[encoded data removed]",
            "text/plain": [
              "<Figure size 1500x500 with 2 Axes>"
            ]
          },
          "metadata": {
            "tags": []
          }
        }
      ]
    },
    {
      "cell_type": "code",
      "metadata": {
        "id": "N1qL8QO4s2fT",
        "colab_type": "code",
        "outputId": "8e061f17-398c-40ee-f121-41303cb8a9f0",
        "cellView": "form",
        "colab": {
          "base_uri": "https://localhost:8080/",
          "height": 881
        }
      },
      "source": [
        "#@title Visualize with pyLDAvis\n",
        "pyLDAvis.enable_notebook()\n",
        "vis = pyLDAvis.gensim.prepare(lda_model, corpus, dictionary=lda_model.id2word)\n",
        "vis"
      ],
      "execution_count": 0,
      "outputs": [
        {
          "output_type": "execute_result",
          "data": {
            "text/html": [
              "\n",
              "<link rel=\"stylesheet\" type=\"text/css\" href=\"https://cdn.rawgit.com/bmabey/pyLDAvis/files/ldavis.v1.0.0.css\">\n",
              "\n",
              "\n",
              "<div id=\"ldavis_el1241406051732173446930857510\"></div>\n",
              "<script type=\"text/javascript\">\n",
              "\n",
              "var ldavis_el1241406051732173446930857510_data = {\"mdsDat\": {\"x\": [0.05376270040536431, -0.10780797548136681, -0.2388567284354296, 0.29290200351143203], \"y\": [0.1841593760636579, 0.1812282639617319, -0.21938467896936445, -0.1460029610560254], \"topics\": [1, 2, 3, 4], \"cluster\": [1, 1, 1, 1], \"Freq\": [33.749813079833984, 25.4147891998291, 21.087343215942383, 19.748048782348633]}, \"tinfo\": {\"Term\": [\"screen\", \"charge\", \"note\", \"buy\", \"battery\", \"receive\", \"return\", \"box\", \"day\", \"new\", \"bad\", \"work\", \"month\", \"pay\", \"purchase\", \"money\", \"call\", \"product\", \"waste\", \"mobile\", \"seller\", \"quality\", \"verizon\", \"carrier\", \"send\", \"feature\", \"order\", \"never\", \"price\", \"problem\", \"screen\", \"charge\", \"battery\", \"new\", \"day\", \"month\", \"week\", \"drop\", \"last\", \"warranty\", \"first\", \"turn\", \"year\", \"hour\", \"replacement\", \"replace\", \"life\", \"start\", \"fix\", \"show\", \"brand\", \"case\", \"almost\", \"break\", \"signal\", \"deal\", \"wait\", \"second\", \"crack\", \"long\", \"watch\", \"never\", \"buy\", \"still\", \"back\", \"problem\", \"look\", \"work\", \"time\", \"issue\", \"return\", \"note\", \"mobile\", \"feature\", \"well\", \"camera\", \"update\", \"app\", \"support\", \"stop\", \"service\", \"horrible\", \"expect\", \"number\", \"hate\", \"network\", \"video\", \"picture\", \"slow\", \"let\", \"software\", \"help\", \"however\", \"remove\", \"switch\", \"fine\", \"one\", \"pen\", \"freeze\", \"recognize\", \"unfortunately\", \"available\", \"multiple\", \"call\", \"work\", \"issue\", \"problem\", \"time\", \"give\", \"much\", \"keep\", \"box\", \"money\", \"pay\", \"waste\", \"quality\", \"order\", \"ever\", \"price\", \"fast\", \"open\", \"version\", \"text\", \"touch\", \"speaker\", \"side\", \"low\", \"hear\", \"instead\", \"happy\", \"feel\", \"display\", \"sound\", \"terrible\", \"refurbish\", \"poor\", \"hard\", \"talk\", \"damage\", \"notification\", \"far\", \"upgrade\", \"bad\", \"thing\", \"time\", \"call\", \"really\", \"receive\", \"purchase\", \"product\", \"seller\", \"verizon\", \"carrier\", \"connect\", \"miss\", \"unlocked\", \"experience\", \"scratch\", \"unlock\", \"review\", \"defective\", \"store\", \"compatible\", \"disappoint\", \"activate\", \"description\", \"item\", \"charger\", \"disappointed\", \"lock\", \"refund\", \"able\", \"sell\", \"sure\", \"seal\", \"include\", \"mean\", \"return\", \"send\", \"work\", \"buy\", \"device\", \"find\", \"back\"], \"Freq\": [1636.0, 1103.0, 866.0, 1723.0, 964.0, 552.0, 874.0, 551.0, 792.0, 783.0, 842.0, 2037.0, 712.0, 465.0, 446.0, 460.0, 862.0, 422.0, 407.0, 429.0, 342.0, 347.0, 319.0, 318.0, 522.0, 372.0, 326.0, 727.0, 306.0, 845.0, 1636.0867919921875, 1102.398193359375, 964.07275390625, 782.4489135742188, 792.0263061523438, 711.6286010742188, 435.98602294921875, 435.7099914550781, 367.75750732421875, 338.67803955078125, 337.42156982421875, 333.3310241699219, 292.30145263671875, 287.7672424316406, 278.8937683105469, 264.65582275390625, 250.0912322998047, 245.17034912109375, 243.68821716308594, 236.03060913085938, 226.7952423095703, 226.55943298339844, 221.60939025878906, 198.5765380859375, 220.1455535888672, 222.86782836914062, 215.3628387451172, 196.3253631591797, 190.71762084960938, 197.56214904785156, 228.02197265625, 637.9325561523438, 1323.6688232421875, 374.10894775390625, 408.3877868652344, 426.6902160644531, 313.67962646484375, 498.70184326171875, 389.9599304199219, 307.29266357421875, 262.8392028808594, 865.8103637695312, 428.9031677246094, 371.5054016113281, 336.0860900878906, 301.7725524902344, 293.5013732910156, 234.5189666748047, 249.74427795410156, 229.7886199951172, 211.948974609375, 200.2235565185547, 203.14996337890625, 219.77882385253906, 207.25341796875, 177.04025268554688, 177.22767639160156, 158.91244506835938, 159.19837951660156, 176.75405883789062, 157.73924255371094, 157.38861083984375, 161.53659057617188, 158.58636474609375, 145.27464294433594, 144.35433959960938, 145.98330688476562, 138.0795135498047, 141.685302734375, 129.85052490234375, 131.07644653320312, 138.5662078857422, 132.52391052246094, 643.4503173828125, 1023.3132934570312, 373.3188171386719, 418.6777038574219, 395.07122802734375, 230.2049560546875, 187.15072631835938, 173.56527709960938, 550.6672973632812, 459.5999755859375, 464.7992248535156, 406.9395446777344, 346.856201171875, 325.5475769042969, 304.0246887207031, 305.2532043457031, 270.69781494140625, 232.8014678955078, 209.5458984375, 208.23370361328125, 204.76348876953125, 194.7699737548828, 196.58847045898438, 197.39894104003906, 180.0006866455078, 171.96214294433594, 170.57945251464844, 165.12667846679688, 163.16319274902344, 165.8435821533203, 149.9116668701172, 150.83653259277344, 153.3690948486328, 145.7681427001953, 144.21250915527344, 139.58897399902344, 137.18055725097656, 124.47276306152344, 168.57260131835938, 618.0408935546875, 253.1980743408203, 388.3384704589844, 218.2420654296875, 159.86666870117188, 551.762939453125, 445.6478576660156, 421.2832946777344, 341.2698669433594, 318.7043151855469, 317.3883972167969, 276.03765869140625, 270.7016296386719, 246.025634765625, 291.1851501464844, 240.07872009277344, 220.65753173828125, 232.80023193359375, 234.4881591796875, 236.10867309570312, 214.25697326660156, 220.35922241210938, 226.59681701660156, 205.412353515625, 209.44789123535156, 195.0299072265625, 205.93983459472656, 179.1974639892578, 178.99200439453125, 188.3540496826172, 177.20262145996094, 186.0355987548828, 161.25624084472656, 169.28854370117188, 180.26365661621094, 611.2145385742188, 352.8238525390625, 514.8206787109375, 399.6444091796875, 205.12185668945312, 185.65875244140625, 188.07354736328125], \"Total\": [1636.0, 1103.0, 866.0, 1723.0, 964.0, 552.0, 874.0, 551.0, 792.0, 783.0, 842.0, 2037.0, 712.0, 465.0, 446.0, 460.0, 862.0, 422.0, 407.0, 429.0, 342.0, 347.0, 319.0, 318.0, 522.0, 372.0, 326.0, 727.0, 306.0, 845.0, 1636.959716796875, 1103.2613525390625, 964.9451293945312, 783.3335571289062, 792.922119140625, 712.489013671875, 436.8565979003906, 436.58892822265625, 368.6444091796875, 339.530517578125, 338.2884826660156, 334.1954040527344, 293.1902160644531, 288.677001953125, 279.799560546875, 265.55596923828125, 250.94801330566406, 246.02127075195312, 244.54769897460938, 236.9335479736328, 227.6729736328125, 227.4488067626953, 222.52670288085938, 199.42408752441406, 221.08580017089844, 223.822998046875, 216.32127380371094, 197.2005615234375, 191.58424377441406, 198.4690704345703, 229.0941925048828, 727.065673828125, 1723.92529296875, 514.5187377929688, 673.83837890625, 845.9541625976562, 539.8397216796875, 2037.148681640625, 1173.66162109375, 681.2011108398438, 874.6676635742188, 866.8216552734375, 429.8832702636719, 372.48516845703125, 337.0484924316406, 302.7008361816406, 294.4776916503906, 235.44326782226562, 250.74337768554688, 230.8225860595703, 212.9425048828125, 201.19093322753906, 204.14822387695312, 220.87730407714844, 208.3030548095703, 177.9820098876953, 178.17466735839844, 159.83670043945312, 160.13246154785156, 177.7913055419922, 158.68736267089844, 158.34030151367188, 162.52581787109375, 159.59303283691406, 146.24501037597656, 145.32293701171875, 147.00064086914062, 139.05174255371094, 142.7035675048828, 130.8136749267578, 132.0541229248047, 139.70626831054688, 133.61373901367188, 862.3439331054688, 2037.148681640625, 681.2011108398438, 845.9541625976562, 1173.66162109375, 430.3497009277344, 316.198974609375, 370.2569274902344, 551.603759765625, 460.5436706542969, 465.76214599609375, 407.8944396972656, 347.82000732421875, 326.5010070800781, 304.9483337402344, 306.19842529296875, 271.66143798828125, 233.72360229492188, 210.46868896484375, 209.19815063476562, 205.71475219726562, 195.68968200683594, 197.5552215576172, 198.37478637695312, 180.92164611816406, 172.90269470214844, 171.53182983398438, 166.0813446044922, 164.13677978515625, 166.8342742919922, 150.82281494140625, 151.75613403320312, 154.31446838378906, 146.71340942382812, 145.1579132080078, 140.52850341796875, 138.11639404296875, 125.40028381347656, 169.89523315429688, 842.1726684570312, 401.4932861328125, 1173.66162109375, 862.3439331054688, 468.44805908203125, 552.7409057617188, 446.6302185058594, 422.23199462890625, 342.218505859375, 319.65338134765625, 318.34332275390625, 277.0549011230469, 271.70892333984375, 246.97128295898438, 292.3202209472656, 241.03953552246094, 221.58705139160156, 233.78707885742188, 235.4853973388672, 237.1265106201172, 215.19320678710938, 221.32794189453125, 227.6292266845703, 206.35755920410156, 210.4124298095703, 195.98976135253906, 207.0290069580078, 180.14599609375, 179.94435119628906, 189.3611297607422, 178.16864013671875, 187.07423400878906, 162.21517944335938, 170.3180694580078, 181.46226501464844, 874.6676635742188, 522.3526000976562, 2037.148681640625, 1723.92529296875, 322.7086181640625, 327.97052001953125, 673.83837890625], \"Category\": [\"Default\", \"Default\", \"Default\", \"Default\", \"Default\", \"Default\", \"Default\", \"Default\", \"Default\", \"Default\", \"Default\", \"Default\", \"Default\", \"Default\", \"Default\", \"Default\", \"Default\", \"Default\", \"Default\", \"Default\", \"Default\", \"Default\", \"Default\", \"Default\", \"Default\", \"Default\", \"Default\", \"Default\", \"Default\", \"Default\", \"Topic1\", \"Topic1\", \"Topic1\", \"Topic1\", \"Topic1\", \"Topic1\", \"Topic1\", \"Topic1\", \"Topic1\", \"Topic1\", \"Topic1\", \"Topic1\", \"Topic1\", \"Topic1\", \"Topic1\", \"Topic1\", \"Topic1\", \"Topic1\", \"Topic1\", \"Topic1\", \"Topic1\", \"Topic1\", \"Topic1\", \"Topic1\", \"Topic1\", \"Topic1\", \"Topic1\", \"Topic1\", \"Topic1\", \"Topic1\", \"Topic1\", \"Topic1\", \"Topic1\", \"Topic1\", \"Topic1\", \"Topic1\", \"Topic1\", \"Topic1\", \"Topic1\", \"Topic1\", \"Topic1\", \"Topic2\", \"Topic2\", \"Topic2\", \"Topic2\", \"Topic2\", \"Topic2\", \"Topic2\", \"Topic2\", \"Topic2\", \"Topic2\", \"Topic2\", \"Topic2\", \"Topic2\", \"Topic2\", \"Topic2\", \"Topic2\", \"Topic2\", \"Topic2\", \"Topic2\", \"Topic2\", \"Topic2\", \"Topic2\", \"Topic2\", \"Topic2\", \"Topic2\", \"Topic2\", \"Topic2\", \"Topic2\", \"Topic2\", \"Topic2\", \"Topic2\", \"Topic2\", \"Topic2\", \"Topic2\", \"Topic2\", \"Topic2\", \"Topic2\", \"Topic2\", \"Topic2\", \"Topic2\", \"Topic3\", \"Topic3\", \"Topic3\", \"Topic3\", \"Topic3\", \"Topic3\", \"Topic3\", \"Topic3\", \"Topic3\", \"Topic3\", \"Topic3\", \"Topic3\", \"Topic3\", \"Topic3\", \"Topic3\", \"Topic3\", \"Topic3\", \"Topic3\", \"Topic3\", \"Topic3\", \"Topic3\", \"Topic3\", \"Topic3\", \"Topic3\", \"Topic3\", \"Topic3\", \"Topic3\", \"Topic3\", \"Topic3\", \"Topic3\", \"Topic3\", \"Topic3\", \"Topic3\", \"Topic3\", \"Topic3\", \"Topic3\", \"Topic4\", \"Topic4\", \"Topic4\", \"Topic4\", \"Topic4\", \"Topic4\", \"Topic4\", \"Topic4\", \"Topic4\", \"Topic4\", \"Topic4\", \"Topic4\", \"Topic4\", \"Topic4\", \"Topic4\", \"Topic4\", \"Topic4\", \"Topic4\", \"Topic4\", \"Topic4\", \"Topic4\", \"Topic4\", \"Topic4\", \"Topic4\", \"Topic4\", \"Topic4\", \"Topic4\", \"Topic4\", \"Topic4\", \"Topic4\", \"Topic4\", \"Topic4\", \"Topic4\", \"Topic4\", \"Topic4\", \"Topic4\", \"Topic4\"], \"logprob\": [30.0, 29.0, 28.0, 27.0, 26.0, 25.0, 24.0, 23.0, 22.0, 21.0, 20.0, 19.0, 18.0, 17.0, 16.0, 15.0, 14.0, 13.0, 12.0, 11.0, 10.0, 9.0, 8.0, 7.0, 6.0, 5.0, 4.0, 3.0, 2.0, 1.0, -3.0964999198913574, -3.4914000034332275, -3.6254000663757324, -3.834199905395508, -3.822000026702881, -3.9291000366210938, -4.419000148773193, -4.419600009918213, -4.589200019836426, -4.671599864959717, -4.675300121307373, -4.6875, -4.81879997253418, -4.834499835968018, -4.865799903869629, -4.9182000160217285, -4.974800109863281, -4.994699954986572, -5.000699996948242, -5.032599925994873, -5.0725998878479, -5.073599815368652, -5.095699787139893, -5.205399990081787, -5.10230016708374, -5.090000152587891, -5.124300003051758, -5.216800212860107, -5.245800018310547, -5.210599899291992, -5.067200183868408, -4.038400173187256, -3.3083999156951904, -4.5721001625061035, -4.484399795532227, -4.4405999183654785, -4.748199939727783, -4.284599781036377, -4.530600070953369, -4.768799781799316, -4.925099849700928, -3.4493000507354736, -4.151700019836426, -4.295400142669678, -4.395599842071533, -4.503300189971924, -4.531099796295166, -4.75540018081665, -4.692500114440918, -4.7758002281188965, -4.856599807739258, -4.91349983215332, -4.89900016784668, -4.820300102233887, -4.879000186920166, -5.036600112915039, -5.0355000495910645, -5.144599914550781, -5.1427998542785645, -5.0381999015808105, -5.1519999504089355, -5.154200077056885, -5.128200054168701, -5.146699905395508, -5.234300136566162, -5.240699768066406, -5.229499816894531, -5.285099983215332, -5.259399890899658, -5.34660005569458, -5.337200164794922, -5.281599998474121, -5.326200008392334, -3.7460999488830566, -3.2822000980377197, -4.290500164031982, -4.175899982452393, -4.23390007019043, -4.77400016784668, -4.981100082397461, -5.056399822235107, -3.7151999473571777, -3.8959999084472656, -3.884700059890747, -4.017600059509277, -4.1774001121521, -4.240799903869629, -4.309199810028076, -4.305200099945068, -4.425300121307373, -4.576099872589111, -4.681399822235107, -4.687600135803223, -4.704500198364258, -4.754499912261963, -4.745200157165527, -4.741099834442139, -4.8333001136779785, -4.879000186920166, -4.8871002197265625, -4.919600009918213, -4.931600093841553, -4.915299892425537, -5.016300201416016, -5.0100998878479, -4.993500232696533, -5.044300079345703, -5.054999828338623, -5.087600231170654, -5.105000019073486, -5.202199935913086, -4.898900032043457, -3.5998001098632812, -4.492099761962891, -4.0644001960754395, -4.640699863433838, -4.952000141143799, -3.647599935531616, -3.8612000942230225, -3.9173998832702637, -4.127999782562256, -4.196400165557861, -4.2006001472473145, -4.340199947357178, -4.3597002029418945, -4.4552998542785645, -4.2866997718811035, -4.479700088500977, -4.5640997886657715, -4.510499954223633, -4.503300189971924, -4.496399879455566, -4.593500137329102, -4.565400123596191, -4.537499904632568, -4.635700225830078, -4.616199970245361, -4.6875, -4.6331000328063965, -4.772200107574463, -4.7733001708984375, -4.722400188446045, -4.783400058746338, -4.734799861907959, -4.877699851989746, -4.829100131988525, -4.766300201416016, -3.5452001094818115, -4.094699859619141, -3.716900110244751, -3.970099925994873, -4.6371002197265625, -4.736800193786621, -4.723899841308594], \"loglift\": [30.0, 29.0, 28.0, 27.0, 26.0, 25.0, 24.0, 23.0, 22.0, 21.0, 20.0, 19.0, 18.0, 17.0, 16.0, 15.0, 14.0, 13.0, 12.0, 11.0, 10.0, 9.0, 8.0, 7.0, 6.0, 5.0, 4.0, 3.0, 2.0, 1.0, 1.0857000350952148, 1.0853999853134155, 1.0852999687194824, 1.0851000547409058, 1.0851000547409058, 1.0850000381469727, 1.0842000246047974, 1.0842000246047974, 1.083799958229065, 1.0836999416351318, 1.0836000442504883, 1.0836000442504883, 1.0831999778747559, 1.0829999446868896, 1.0829999446868896, 1.082800030708313, 1.082800030708313, 1.0827000141143799, 1.0827000141143799, 1.0823999643325806, 1.0822999477386475, 1.0822999477386475, 1.0821000337600708, 1.0819000005722046, 1.0819000005722046, 1.0819000005722046, 1.0817999839782715, 1.0816999673843384, 1.0816999673843384, 1.0815999507904053, 1.0815000534057617, 0.9553999900817871, 0.8220000267028809, 0.7674999833106995, 0.5853999853134155, 0.4018000066280365, 0.5432999730110168, -0.32109999656677246, -0.015599999576807022, 0.29010000824928284, -0.1160999983549118, 1.3687000274658203, 1.3675999641418457, 1.3672000169754028, 1.3669999837875366, 1.3667999505996704, 1.3665000200271606, 1.3659000396728516, 1.3658000230789185, 1.3653000593185425, 1.3652000427246094, 1.3650000095367432, 1.36489999294281, 1.36489999294281, 1.364799976348877, 1.3645000457763672, 1.3645000457763672, 1.3639999628067017, 1.3639999628067017, 1.3639999628067017, 1.363800048828125, 1.363800048828125, 1.363700032234192, 1.3634999990463257, 1.3631999492645264, 1.3631999492645264, 1.3629000186920166, 1.3628000020980835, 1.3626999855041504, 1.3624000549316406, 1.3624000549316406, 1.3616000413894653, 1.3616000413894653, 1.0770000219345093, 0.6812999844551086, 0.7684000134468079, 0.6664999723434448, 0.2809999883174896, 0.7441999912261963, 0.8453999757766724, 0.6122000217437744, 1.554800033569336, 1.5543999671936035, 1.5543999671936035, 1.5542000532150269, 1.5536999702453613, 1.5535999536514282, 1.5535000562667847, 1.5534000396728516, 1.552899956703186, 1.5525000095367432, 1.5520999431610107, 1.551900029182434, 1.551900029182434, 1.551800012588501, 1.5515999794006348, 1.5515999794006348, 1.5513999462127686, 1.5509999990463257, 1.5508999824523926, 1.5506999492645264, 1.5505000352859497, 1.5505000352859497, 1.5504000186920166, 1.5504000186920166, 1.5504000186920166, 1.5499999523162842, 1.5499999523162842, 1.5498000383377075, 1.5497000217437744, 1.5491000413894653, 1.548699975013733, 1.2470999956130981, 1.0954999923706055, 0.4505000114440918, 0.18240000307559967, 0.4814000129699707, 1.620300054550171, 1.6198999881744385, 1.6198999881744385, 1.6193000078201294, 1.6190999746322632, 1.6190999746322632, 1.618399977684021, 1.618399977684021, 1.618299961090088, 1.6181999444961548, 1.6181000471115112, 1.617900013923645, 1.617900013923645, 1.617900013923645, 1.617799997329712, 1.617799997329712, 1.6176999807357788, 1.6175999641418457, 1.6174999475479126, 1.6174999475479126, 1.6172000169754028, 1.6167999505996704, 1.6167999505996704, 1.6167999505996704, 1.6167999505996704, 1.6167000532150269, 1.6165000200271606, 1.6161999702453613, 1.6160999536514282, 1.6154999732971191, 1.263700008392334, 1.229699969291687, 0.24660000205039978, 0.16030000150203705, 1.1690000295639038, 1.0530999898910522, 0.34599998593330383]}, \"token.table\": {\"Topic\": [4, 4, 1, 2, 2, 1, 3, 4, 1, 3, 1, 3, 1, 1, 1, 4, 2, 3, 2, 4, 1, 1, 4, 4, 4, 1, 3, 1, 1, 4, 4, 2, 4, 4, 4, 3, 1, 3, 2, 4, 3, 3, 2, 3, 2, 4, 2, 1, 1, 2, 1, 2, 3, 3, 2, 3, 2, 2, 1, 2, 4, 3, 1, 2, 4, 1, 2, 3, 1, 2, 1, 4, 1, 1, 2, 3, 3, 4, 4, 2, 3, 1, 1, 2, 3, 2, 2, 1, 2, 1, 2, 3, 2, 2, 3, 3, 3, 2, 2, 3, 3, 1, 2, 4, 4, 3, 1, 2, 3, 4, 4, 2, 4, 3, 2, 1, 1, 1, 4, 4, 4, 1, 4, 1, 4, 4, 1, 4, 2, 1, 3, 1, 2, 2, 3, 3, 1, 1, 2, 2, 4, 2, 4, 2, 3, 3, 3, 2, 3, 1, 2, 3, 3, 1, 2, 4, 4, 2, 2, 3, 4, 3, 2, 1, 1, 3, 1, 1, 2, 1, 2, 4, 1], \"Freq\": [0.9928119778633118, 0.9972357153892517, 0.9976330995559692, 0.9981173276901245, 0.9949446320533752, 0.6054864525794983, 0.11427072435617447, 0.27899864315986633, 0.26597872376441956, 0.7338162660598755, 0.999020516872406, 0.9989054203033447, 0.9970441460609436, 0.9978734254837036, 0.7680147290229797, 0.23202861845493317, 0.7456421852111816, 0.2527993619441986, 0.9976847171783447, 0.9957802891731262, 0.9980267882347107, 0.9988567233085632, 0.9949499368667603, 0.9944551587104797, 0.996192455291748, 0.9969504475593567, 0.996239185333252, 0.9988370537757874, 0.9963229894638062, 0.99369215965271, 0.9934213161468506, 0.3625561594963074, 0.6352480053901672, 0.9940001368522644, 0.995029628276825, 0.9930741786956787, 0.9986510872840881, 0.9968901872634888, 0.9943755269050598, 0.9954836368560791, 0.988833487033844, 0.9975652098655701, 0.9986974596977234, 0.9934890866279602, 0.4329657554626465, 0.5671241283416748, 0.9908965826034546, 0.996191143989563, 0.9977603554725647, 0.9950697422027588, 0.4647383391857147, 0.5344491004943848, 0.9968995451927185, 0.9951373934745789, 0.993744432926178, 0.9949058294296265, 0.9915353059768677, 0.9940806031227112, 0.9976547956466675, 0.9967647194862366, 0.9922611117362976, 0.9947791695594788, 0.45067453384399414, 0.5475622415542603, 0.9932873249053955, 0.3268001079559326, 0.46994394063949585, 0.20256204903125763, 0.9982519745826721, 0.9955492615699768, 0.9962222576141357, 0.9936385154724121, 0.9976365566253662, 0.5816541314125061, 0.21117378771305084, 0.20746898651123047, 0.9930697679519653, 0.9919417500495911, 0.997390866279602, 0.9979453086853027, 0.9988195300102234, 0.9993136525154114, 0.2087293267250061, 0.5913997888565063, 0.1960790604352951, 0.9954066276550293, 0.9944825172424316, 0.8774998188018799, 0.12240985035896301, 0.9982975721359253, 0.999052107334137, 0.9919170141220093, 0.9960280656814575, 0.9931929707527161, 0.9969040155410767, 0.9984655380249023, 0.9983636736869812, 0.9924363493919373, 0.9947652816772461, 0.9914819002151489, 0.9960861206054688, 0.5047554969787598, 0.49529871344566345, 0.9970821738243103, 0.9985889196395874, 0.997642457485199, 0.2625691294670105, 0.3287450969219208, 0.34155333042144775, 0.06831067055463791, 0.9986595511436462, 0.9937798976898193, 0.9947519898414612, 0.9950174689292908, 0.9962840676307678, 0.9979063868522644, 0.9971423745155334, 0.3006856441497803, 0.6985510587692261, 0.9966333508491516, 0.9956873059272766, 0.9994137287139893, 0.9925088286399841, 0.9939119815826416, 0.9934408068656921, 0.9964393973350525, 0.3235362470149994, 0.6757887005805969, 0.995573878288269, 0.9960598945617676, 0.9971895217895508, 0.9950887560844421, 0.9929279685020447, 0.9956684708595276, 0.9949994087219238, 0.9964756369590759, 0.9958488345146179, 0.72689288854599, 0.27209892868995667, 0.9964362978935242, 0.995249330997467, 0.9970353245735168, 0.9942576885223389, 0.9914868474006653, 0.9920230507850647, 0.994544506072998, 0.9942726492881775, 0.36862385272979736, 0.6301475167274475, 0.33229339122772217, 0.33655357360839844, 0.33058932423591614, 0.9965255260467529, 0.996423065662384, 0.9920175075531006, 0.9973506927490234, 0.996067225933075, 0.9983778595924377, 0.005885980557650328, 0.9947306513786316, 0.9979559779167175, 0.9977731108665466, 0.9934071898460388, 0.9938920736312866, 0.9984375238418579, 0.9978072047233582, 0.9952238202095032, 0.998039186000824, 0.9968891739845276, 0.24495020508766174, 0.5021724700927734, 0.25280433893203735, 0.9959404468536377], \"Term\": [\"able\", \"activate\", \"almost\", \"app\", \"available\", \"back\", \"back\", \"back\", \"bad\", \"bad\", \"battery\", \"box\", \"brand\", \"break\", \"buy\", \"buy\", \"call\", \"call\", \"camera\", \"carrier\", \"case\", \"charge\", \"charger\", \"compatible\", \"connect\", \"crack\", \"damage\", \"day\", \"deal\", \"defective\", \"description\", \"device\", \"device\", \"disappoint\", \"disappointed\", \"display\", \"drop\", \"ever\", \"expect\", \"experience\", \"far\", \"fast\", \"feature\", \"feel\", \"find\", \"find\", \"fine\", \"first\", \"fix\", \"freeze\", \"give\", \"give\", \"happy\", \"hard\", \"hate\", \"hear\", \"help\", \"horrible\", \"hour\", \"however\", \"include\", \"instead\", \"issue\", \"issue\", \"item\", \"keep\", \"keep\", \"keep\", \"last\", \"let\", \"life\", \"lock\", \"long\", \"look\", \"look\", \"look\", \"low\", \"mean\", \"miss\", \"mobile\", \"money\", \"month\", \"much\", \"much\", \"much\", \"multiple\", \"network\", \"never\", \"never\", \"new\", \"note\", \"notification\", \"number\", \"one\", \"open\", \"order\", \"pay\", \"pen\", \"picture\", \"poor\", \"price\", \"problem\", \"problem\", \"product\", \"purchase\", \"quality\", \"really\", \"really\", \"really\", \"really\", \"receive\", \"recognize\", \"refund\", \"refurbish\", \"remove\", \"replace\", \"replacement\", \"return\", \"return\", \"review\", \"scratch\", \"screen\", \"seal\", \"second\", \"sell\", \"seller\", \"send\", \"send\", \"service\", \"show\", \"side\", \"signal\", \"slow\", \"software\", \"sound\", \"speaker\", \"start\", \"still\", \"still\", \"stop\", \"store\", \"support\", \"sure\", \"switch\", \"talk\", \"terrible\", \"text\", \"thing\", \"thing\", \"time\", \"time\", \"time\", \"touch\", \"turn\", \"unfortunately\", \"unlock\", \"unlocked\", \"update\", \"upgrade\", \"upgrade\", \"verizon\", \"version\", \"video\", \"wait\", \"warranty\", \"waste\", \"watch\", \"week\", \"well\", \"work\", \"work\", \"work\", \"year\"]}, \"R\": 30, \"lambda.step\": 0.01, \"plot.opts\": {\"xlab\": \"PC1\", \"ylab\": \"PC2\"}, \"topic.order\": [3, 2, 4, 1]};\n",
              "\n",
              "function LDAvis_load_lib(url, callback){\n",
              "  var s = document.createElement('script');\n",
              "  s.src = url;\n",
              "  s.async = true;\n",
              "  s.onreadystatechange = s.onload = callback;\n",
              "  s.onerror = function(){console.warn(\"failed to load library \" + url);};\n",
              "  document.getElementsByTagName(\"head\")[0].appendChild(s);\n",
              "}\n",
              "\n",
              "if(typeof(LDAvis) !== \"undefined\"){\n",
              "   // already loaded: just create the visualization\n",
              "   !function(LDAvis){\n",
              "       new LDAvis(\"#\" + \"ldavis_el1241406051732173446930857510\", ldavis_el1241406051732173446930857510_data);\n",
              "   }(LDAvis);\n",
              "}else if(typeof define === \"function\" && define.amd){\n",
              "   // require.js is available: use it to load d3/LDAvis\n",
              "   require.config({paths: {d3: \"https://cdnjs.cloudflare.com/ajax/libs/d3/3.5.5/d3.min\"}});\n",
              "   require([\"d3\"], function(d3){\n",
              "      window.d3 = d3;\n",
              "      LDAvis_load_lib(\"https://cdn.rawgit.com/bmabey/pyLDAvis/files/ldavis.v1.0.0.js\", function(){\n",
              "        new LDAvis(\"#\" + \"ldavis_el1241406051732173446930857510\", ldavis_el1241406051732173446930857510_data);\n",
              "      });\n",
              "    });\n",
              "}else{\n",
              "    // require.js not available: dynamically load d3 & LDAvis\n",
              "    LDAvis_load_lib(\"https://cdnjs.cloudflare.com/ajax/libs/d3/3.5.5/d3.min.js\", function(){\n",
              "         LDAvis_load_lib(\"https://cdn.rawgit.com/bmabey/pyLDAvis/files/ldavis.v1.0.0.js\", function(){\n",
              "                 new LDAvis(\"#\" + \"ldavis_el1241406051732173446930857510\", ldavis_el1241406051732173446930857510_data);\n",
              "            })\n",
              "         });\n",
              "}\n",
              "</script>"
            ],
            "text/plain": [
              "PreparedData(topic_coordinates=              x         y  topics  cluster       Freq\n",
              "topic                                                \n",
              "2      0.053763  0.184159       1        1  33.749813\n",
              "1     -0.107808  0.181228       2        1  25.414789\n",
              "3     -0.238857 -0.219385       3        1  21.087343\n",
              "0      0.292902 -0.146003       4        1  19.748049, topic_info=        Term         Freq        Total Category  logprob  loglift\n",
              "217   screen  1636.000000  1636.000000  Default  30.0000  30.0000\n",
              "48    charge  1103.000000  1103.000000  Default  29.0000  29.0000\n",
              "595     note   866.000000   866.000000  Default  28.0000  28.0000\n",
              "448      buy  1723.000000  1723.000000  Default  27.0000  27.0000\n",
              "28   battery   964.000000   964.000000  Default  26.0000  26.0000\n",
              "..       ...          ...          ...      ...      ...      ...\n",
              "276     work   514.820679  2037.148682   Topic4  -3.7169   0.2466\n",
              "448      buy   399.644409  1723.925293   Topic4  -3.9701   0.1603\n",
              "302   device   205.121857   322.708618   Topic4  -4.6371   1.1690\n",
              "91      find   185.658752   327.970520   Topic4  -4.7368   1.0531\n",
              "23      back   188.073547   673.838379   Topic4  -4.7239   0.3460\n",
              "\n",
              "[184 rows x 6 columns], token_table=      Topic      Freq       Term\n",
              "term                            \n",
              "486       4  0.992812       able\n",
              "474       4  0.997236   activate\n",
              "9         1  0.997633     almost\n",
              "590       2  0.998117        app\n",
              "861       2  0.994945  available\n",
              "...     ...       ...        ...\n",
              "272       2  0.996889       well\n",
              "276       1  0.244950       work\n",
              "276       2  0.502172       work\n",
              "276       4  0.252804       work\n",
              "447       1  0.995940       year\n",
              "\n",
              "[173 rows x 3 columns], R=30, lambda_step=0.01, plot_opts={'xlab': 'PC1', 'ylab': 'PC2'}, topic_order=[3, 2, 4, 1])"
            ]
          },
          "metadata": {
            "tags": []
          },
          "execution_count": 107
        }
      ]
    },
    {
      "cell_type": "code",
      "metadata": {
        "id": "sjsf0nDy1cT8",
        "colab_type": "code",
        "outputId": "c3a7cf21-3de4-442c-ca4d-5bb7b5ce611f",
        "cellView": "form",
        "colab": {
          "base_uri": "https://localhost:8080/",
          "height": 331
        }
      },
      "source": [
        "#@title Coherence Scores\n",
        "from gensim.models.ldamodel import LdaModel\n",
        "coherence_model_lda = CoherenceModel(model=lda_model, texts=data_ready, dictionary=id2word, coherence='c_v')\n",
        "coherence_lda = coherence_model_lda.get_coherence()\n",
        "print('\\nCoherence Score: ', coherence_lda)\n",
        "warnings.filterwarnings(\"ignore\", category=DeprecationWarning)\n",
        "\n",
        "def compute_coherence_values(dictionary, corpus, texts, limit, start=2, step=3):\n",
        "    coherence_values = []\n",
        "    model_list = []\n",
        "    for num_topics in range(start, limit, step):\n",
        "        model=LdaModel(corpus=corpus, id2word=dictionary, num_topics=num_topics)\n",
        "        model_list.append(model)\n",
        "        coherencemodel = CoherenceModel(model=model, texts=texts, dictionary=dictionary, coherence='c_v')\n",
        "        coherence_values.append(coherencemodel.get_coherence())\n",
        "\n",
        "    return model_list, coherence_values\n",
        "\n",
        "model_list, coherence_values = compute_coherence_values(dictionary=id2word, corpus=corpus, texts=data_ready, start=2, limit=40, step=6)\n",
        "# Show graph\n",
        "import matplotlib.pyplot as plt\n",
        "limit=40; start=2; step=6;\n",
        "x = range(start, limit, step)\n",
        "plt.plot(x, coherence_values)\n",
        "plt.xlabel(\"Num Topics\")\n",
        "plt.ylabel(\"Coherence score\")\n",
        "plt.legend((\"coherence_values\"), loc='best')\n",
        "plt.show()"
      ],
      "execution_count": 0,
      "outputs": [
        {
          "output_type": "stream",
          "text": [
            "\n",
            "Coherence Score:  0.4424598638819431\n"
          ],
          "name": "stdout"
        },
        {
          "output_type": "display_data",
          "data": {
            "image/png": "[encoded data removed]",
            "text/plain": [
              "<Figure size 432x288 with 1 Axes>"
            ]
          },
          "metadata": {
            "tags": []
          }
        }
      ]
    },
    {
      "cell_type": "markdown",
      "metadata": {
        "id": "6UBIHYIU-CxQ",
        "colab_type": "text"
      },
      "source": [
        "## NMF"
      ]
    },
    {
      "cell_type": "code",
      "metadata": {
        "id": "q3xc028WWt5N",
        "colab_type": "code",
        "outputId": "c77a5edd-932e-45cb-a610-23e738d468d4",
        "colab": {
          "base_uri": "https://localhost:8080/",
          "height": 677
        }
      },
      "source": [
        "from sklearn.feature_extraction.text import CountVectorizer, TfidfTransformer;\n",
        "from sklearn.decomposition import NMF;\n",
        "from sklearn.preprocessing import normalize;\n",
        "\n",
        "num_topics=8\n",
        "\n",
        "corpus_nmf = [' '.join(text) for text in data_ready]\n",
        "vectorizer = CountVectorizer(analyzer='word', max_features=5000);\n",
        "x_counts = vectorizer.fit_transform(corpus_nmf);\n",
        "transformer = TfidfTransformer(smooth_idf=False);\n",
        "x_tfidf = transformer.fit_transform(x_counts)\n",
        "xtfidf_norm = normalize(x_tfidf, norm='l1', axis=1)\n",
        "model = NMF(n_components=num_topics, init='nndsvd');\n",
        "nmf_model=model.fit(xtfidf_norm)\n",
        "\n",
        "def get_nmf_topics(model, n_top_words):\n",
        "    \n",
        "    #the word ids obtained need to be reverse-mapped to the words so we can print the topic names.\n",
        "    feat_names = vectorizer.get_feature_names()\n",
        "    \n",
        "    word_dict = {};\n",
        "    for i in range(num_topics):\n",
        "        \n",
        "        #for each topic, obtain the largest values, and add the words they map to into the dictionary.\n",
        "        words_ids = model.components_[i].argsort()[:-20 - 1:-1]\n",
        "        words = [feat_names[key] for key in words_ids]\n",
        "        word_dict['Topic # ' + '{:02d}'.format(i+1)] = words;\n",
        "    \n",
        "    return pd.DataFrame(word_dict);\n",
        "get_nmf_topics(model, 20)"
      ],
      "execution_count": 0,
      "outputs": [
        {
          "output_type": "execute_result",
          "data": {
            "text/html": [
              "<div>\n",
              "<style scoped>\n",
              "    .dataframe tbody tr th:only-of-type {\n",
              "        vertical-align: middle;\n",
              "    }\n",
              "\n",
              "    .dataframe tbody tr th {\n",
              "        vertical-align: top;\n",
              "    }\n",
              "\n",
              "    .dataframe thead th {\n",
              "        text-align: right;\n",
              "    }\n",
              "</style>\n",
              "<table border=\"1\" class=\"dataframe\">\n",
              "  <thead>\n",
              "    <tr style=\"text-align: right;\">\n",
              "      <th></th>\n",
              "      <th>Topic # 01</th>\n",
              "      <th>Topic # 02</th>\n",
              "      <th>Topic # 03</th>\n",
              "      <th>Topic # 04</th>\n",
              "      <th>Topic # 05</th>\n",
              "      <th>Topic # 06</th>\n",
              "      <th>Topic # 07</th>\n",
              "      <th>Topic # 08</th>\n",
              "    </tr>\n",
              "  </thead>\n",
              "  <tbody>\n",
              "    <tr>\n",
              "      <th>0</th>\n",
              "      <td>bad</td>\n",
              "      <td>battery</td>\n",
              "      <td>work</td>\n",
              "      <td>buy</td>\n",
              "      <td>month</td>\n",
              "      <td>fake</td>\n",
              "      <td>tray</td>\n",
              "      <td>comentario</td>\n",
              "    </tr>\n",
              "    <tr>\n",
              "      <th>1</th>\n",
              "      <td>dog</td>\n",
              "      <td>life</td>\n",
              "      <td>scratch</td>\n",
              "      <td>crap</td>\n",
              "      <td>die</td>\n",
              "      <td>review</td>\n",
              "      <td>miss</td>\n",
              "      <td>sirve</td>\n",
              "    </tr>\n",
              "    <tr>\n",
              "      <th>2</th>\n",
              "      <td>condition</td>\n",
              "      <td>suck</td>\n",
              "      <td>back</td>\n",
              "      <td>turn</td>\n",
              "      <td>dead</td>\n",
              "      <td>price</td>\n",
              "      <td>unlocked</td>\n",
              "      <td>despue</td>\n",
              "    </tr>\n",
              "    <tr>\n",
              "      <th>3</th>\n",
              "      <td>battery</td>\n",
              "      <td>horrible</td>\n",
              "      <td>steal</td>\n",
              "      <td>new</td>\n",
              "      <td>lasted</td>\n",
              "      <td>product</td>\n",
              "      <td>receive</td>\n",
              "      <td>porque</td>\n",
              "    </tr>\n",
              "    <tr>\n",
              "      <th>4</th>\n",
              "      <td>working</td>\n",
              "      <td>scratch</td>\n",
              "      <td>stop</td>\n",
              "      <td>day</td>\n",
              "      <td>week</td>\n",
              "      <td>original</td>\n",
              "      <td>refund</td>\n",
              "      <td>voy</td>\n",
              "    </tr>\n",
              "    <tr>\n",
              "      <th>5</th>\n",
              "      <td>ever</td>\n",
              "      <td>charge</td>\n",
              "      <td>screen</td>\n",
              "      <td>screen</td>\n",
              "      <td>disappoint</td>\n",
              "      <td>break</td>\n",
              "      <td>expect</td>\n",
              "      <td>pero</td>\n",
              "    </tr>\n",
              "    <tr>\n",
              "      <th>6</th>\n",
              "      <td>scratch</td>\n",
              "      <td>mess</td>\n",
              "      <td>far</td>\n",
              "      <td>return</td>\n",
              "      <td>first</td>\n",
              "      <td>makwe</td>\n",
              "      <td>damn</td>\n",
              "      <td>comun</td>\n",
              "    </tr>\n",
              "    <tr>\n",
              "      <th>7</th>\n",
              "      <td>return</td>\n",
              "      <td>low</td>\n",
              "      <td>send</td>\n",
              "      <td>disappoint</td>\n",
              "      <td>cell</td>\n",
              "      <td>charger</td>\n",
              "      <td>puede</td>\n",
              "      <td>todo</td>\n",
              "    </tr>\n",
              "    <tr>\n",
              "      <th>8</th>\n",
              "      <td>headset</td>\n",
              "      <td>quality</td>\n",
              "      <td>camera</td>\n",
              "      <td>back</td>\n",
              "      <td>front</td>\n",
              "      <td>look</td>\n",
              "      <td>condition</td>\n",
              "      <td>pue</td>\n",
              "    </tr>\n",
              "    <tr>\n",
              "      <th>9</th>\n",
              "      <td>look</td>\n",
              "      <td>dead</td>\n",
              "      <td>purchase</td>\n",
              "      <td>send</td>\n",
              "      <td>camera</td>\n",
              "      <td>upset</td>\n",
              "      <td>headphone</td>\n",
              "      <td>lleve</td>\n",
              "    </tr>\n",
              "    <tr>\n",
              "      <th>10</th>\n",
              "      <td>listen</td>\n",
              "      <td>complaint</td>\n",
              "      <td>disappointed</td>\n",
              "      <td>break</td>\n",
              "      <td>screen</td>\n",
              "      <td>real</td>\n",
              "      <td>adapter</td>\n",
              "      <td>estando</td>\n",
              "    </tr>\n",
              "    <tr>\n",
              "      <th>11</th>\n",
              "      <td>money</td>\n",
              "      <td>replace</td>\n",
              "      <td>money</td>\n",
              "      <td>never</td>\n",
              "      <td>touch</td>\n",
              "      <td>defect</td>\n",
              "      <td>break</td>\n",
              "      <td>reparacion</td>\n",
              "    </tr>\n",
              "    <tr>\n",
              "      <th>12</th>\n",
              "      <td>bayery</td>\n",
              "      <td>terrible</td>\n",
              "      <td>well</td>\n",
              "      <td>charge</td>\n",
              "      <td>damage</td>\n",
              "      <td>headphone</td>\n",
              "      <td>shortly</td>\n",
              "      <td>vece</td>\n",
              "    </tr>\n",
              "    <tr>\n",
              "      <th>13</th>\n",
              "      <td>smartphone</td>\n",
              "      <td>drain</td>\n",
              "      <td>seller</td>\n",
              "      <td>product</td>\n",
              "      <td>purchase</td>\n",
              "      <td>sin</td>\n",
              "      <td>happy</td>\n",
              "      <td>increible</td>\n",
              "    </tr>\n",
              "    <tr>\n",
              "      <th>14</th>\n",
              "      <td>review</td>\n",
              "      <td>hour</td>\n",
              "      <td>disappoint</td>\n",
              "      <td>look</td>\n",
              "      <td>completely</td>\n",
              "      <td>listen</td>\n",
              "      <td>order</td>\n",
              "      <td>esta</td>\n",
              "    </tr>\n",
              "    <tr>\n",
              "      <th>15</th>\n",
              "      <td>hear</td>\n",
              "      <td>day</td>\n",
              "      <td>like</td>\n",
              "      <td>money</td>\n",
              "      <td>exchange</td>\n",
              "      <td>looking</td>\n",
              "      <td>pay</td>\n",
              "      <td>vendedor</td>\n",
              "    </tr>\n",
              "    <tr>\n",
              "      <th>16</th>\n",
              "      <td>back</td>\n",
              "      <td>problem</td>\n",
              "      <td>feel</td>\n",
              "      <td>receive</td>\n",
              "      <td>defective</td>\n",
              "      <td>like</td>\n",
              "      <td>extra</td>\n",
              "      <td>este</td>\n",
              "    </tr>\n",
              "    <tr>\n",
              "      <th>17</th>\n",
              "      <td>screen</td>\n",
              "      <td>poor</td>\n",
              "      <td>look</td>\n",
              "      <td>touch</td>\n",
              "      <td>refund</td>\n",
              "      <td>audifono</td>\n",
              "      <td>still</td>\n",
              "      <td>original</td>\n",
              "    </tr>\n",
              "    <tr>\n",
              "      <th>18</th>\n",
              "      <td>end</td>\n",
              "      <td>new</td>\n",
              "      <td>blank</td>\n",
              "      <td>time</td>\n",
              "      <td>ever</td>\n",
              "      <td>really</td>\n",
              "      <td>item</td>\n",
              "      <td>sin</td>\n",
              "    </tr>\n",
              "    <tr>\n",
              "      <th>19</th>\n",
              "      <td>purchase</td>\n",
              "      <td>time</td>\n",
              "      <td>issue</td>\n",
              "      <td>terrible</td>\n",
              "      <td>nonfunctional</td>\n",
              "      <td>accessory</td>\n",
              "      <td>guarantee</td>\n",
              "      <td>tengo</td>\n",
              "    </tr>\n",
              "  </tbody>\n",
              "</table>\n",
              "</div>"
            ],
            "text/plain": [
              "    Topic # 01 Topic # 02    Topic # 03  ... Topic # 06 Topic # 07  Topic # 08\n",
              "0          bad    battery          work  ...       fake       tray  comentario\n",
              "1          dog       life       scratch  ...     review       miss       sirve\n",
              "2    condition       suck          back  ...      price   unlocked      despue\n",
              "3      battery   horrible         steal  ...    product    receive      porque\n",
              "4      working    scratch          stop  ...   original     refund         voy\n",
              "5         ever     charge        screen  ...      break     expect        pero\n",
              "6      scratch       mess           far  ...      makwe       damn       comun\n",
              "7       return        low          send  ...    charger      puede        todo\n",
              "8      headset    quality        camera  ...       look  condition         pue\n",
              "9         look       dead      purchase  ...      upset  headphone       lleve\n",
              "10      listen  complaint  disappointed  ...       real    adapter     estando\n",
              "11       money    replace         money  ...     defect      break  reparacion\n",
              "12      bayery   terrible          well  ...  headphone    shortly        vece\n",
              "13  smartphone      drain        seller  ...        sin      happy   increible\n",
              "14      review       hour    disappoint  ...     listen      order        esta\n",
              "15        hear        day          like  ...    looking        pay    vendedor\n",
              "16        back    problem          feel  ...       like      extra        este\n",
              "17      screen       poor          look  ...   audifono      still    original\n",
              "18         end        new         blank  ...     really       item         sin\n",
              "19    purchase       time         issue  ...  accessory  guarantee       tengo\n",
              "\n",
              "[20 rows x 8 columns]"
            ]
          },
          "metadata": {
            "tags": []
          },
          "execution_count": 99
        }
      ]
    },
    {
      "cell_type": "markdown",
      "metadata": {
        "id": "lFRtOzxW97na",
        "colab_type": "text"
      },
      "source": [
        "# Predictions - Logistic Regression, Naive Bayes, SVM and Random Forests"
      ]
    },
    {
      "cell_type": "code",
      "metadata": {
        "id": "xYkgsjIt993I",
        "colab_type": "code",
        "cellView": "form",
        "colab": {}
      },
      "source": [
        "#@title Data setup\n",
        "topic_df['body'] = topic_df['body'].astype(str)\n",
        "predictions_data = topic_df.copy()\n",
        "predictions_data['clean_text'] = predictions_data['body'].apply(clean_text)\n",
        "X = predictions_data.clean_text\n",
        "y = predictions_data.rating_x\n",
        "X_train, X_test, y_train, y_test = train_test_split(X, y, test_size=0.3, random_state = 42)\n",
        "\n",
        "def round_perc(decimal):\n",
        "  value = str(round(decimal*100, 2))+\"%\"\n",
        "  return value\n",
        "#tfidf_vectorizer=TfidfVectorizer(ngram_range=(1,2))\n",
        "#vectors = tfidf_vectorizer.fit_transform(topic_df['rating_x'])"
      ],
      "execution_count": 0,
      "outputs": []
    },
    {
      "cell_type": "code",
      "metadata": {
        "id": "0sGubvp1VOCA",
        "colab_type": "code",
        "outputId": "2d79947f-e16e-45b8-957d-aced6ec302b8",
        "cellView": "form",
        "colab": {
          "base_uri": "https://localhost:8080/",
          "height": 260
        }
      },
      "source": [
        "#@title Logistic Regression\n",
        " \n",
        "logreg = Pipeline([('vect', CountVectorizer()),\n",
        "                ('tfidf', TfidfTransformer()),\n",
        "                ('clf', LogisticRegression(max_iter=100,n_jobs=-1, C=1e5)),\n",
        "               ])\n",
        "logreg.fit(X_train, y_train)\n",
        "\n",
        "y_pred = logreg.predict(X_test)\n",
        "\n",
        "print('Accuracy = %s' % round_perc(accuracy_score(y_pred, y_test)))\n",
        "print(classification_report(y_test, y_pred))"
      ],
      "execution_count": 0,
      "outputs": [
        {
          "output_type": "stream",
          "text": [
            "Accuracy = 68.68%\n",
            "              precision    recall  f1-score   support\n",
            "\n",
            "           1       0.68      0.71      0.69      3844\n",
            "           2       0.24      0.24      0.24      1122\n",
            "           3       0.27      0.20      0.23      1409\n",
            "           4       0.34      0.20      0.25      2606\n",
            "           5       0.80      0.90      0.85     11415\n",
            "\n",
            "    accuracy                           0.69     20396\n",
            "   macro avg       0.47      0.45      0.45     20396\n",
            "weighted avg       0.65      0.69      0.67     20396\n",
            "\n"
          ],
          "name": "stdout"
        }
      ]
    },
    {
      "cell_type": "code",
      "metadata": {
        "id": "sE8A05rBrWIp",
        "colab_type": "code",
        "outputId": "cabd8ec7-a899-4120-9901-6e10c9ca8447",
        "cellView": "form",
        "colab": {
          "base_uri": "https://localhost:8080/",
          "height": 260
        }
      },
      "source": [
        "#@title Support Vector Machines\n",
        "\n",
        "sgd = Pipeline([('vect', CountVectorizer()),\n",
        "                ('tfidf', TfidfTransformer()),\n",
        "                ('clf', SGDClassifier(loss='hinge', penalty='l2',alpha=1e-3, random_state=42, max_iter=5, tol=None)),\n",
        "               ])\n",
        "sgd.fit(X_train, y_train)\n",
        "\n",
        "y_pred = sgd.predict(X_test)\n",
        "\n",
        "print('Accuracy = %s' % round_perc(accuracy_score(y_pred, y_test)))\n",
        "print(classification_report(y_test, y_pred))\n"
      ],
      "execution_count": 0,
      "outputs": [
        {
          "output_type": "stream",
          "text": [
            "Accuracy = 66.19%\n",
            "              precision    recall  f1-score   support\n",
            "\n",
            "           1       0.70      0.56      0.62      3844\n",
            "           2       1.00      0.00      0.00      1122\n",
            "           3       0.42      0.00      0.01      1409\n",
            "           4       0.22      0.00      0.00      2606\n",
            "           5       0.66      0.99      0.79     11415\n",
            "\n",
            "    accuracy                           0.66     20396\n",
            "   macro avg       0.60      0.31      0.29     20396\n",
            "weighted avg       0.61      0.66      0.56     20396\n",
            "\n"
          ],
          "name": "stdout"
        }
      ]
    },
    {
      "cell_type": "code",
      "metadata": {
        "id": "O6ADyd_grdCy",
        "colab_type": "code",
        "outputId": "ce1dbd09-396c-4e07-bd6f-cd780f90908d",
        "cellView": "form",
        "colab": {
          "base_uri": "https://localhost:8080/",
          "height": 317
        }
      },
      "source": [
        "#@title Naive Bayes Classifier\n",
        "\n",
        "nb = Pipeline([('vect', CountVectorizer()),\n",
        "               ('tfidf', TfidfTransformer()),\n",
        "               ('clf', MultinomialNB()),\n",
        "              ])\n",
        "nb.fit(X_train, y_train)\n",
        "\n",
        "from sklearn.metrics import classification_report\n",
        "y_pred = nb.predict(X_test)\n",
        "\n",
        "print('Accuracy = %s' % round_perc(accuracy_score(y_pred, y_test)))\n",
        "print(classification_report(y_test, y_pred))"
      ],
      "execution_count": 0,
      "outputs": [
        {
          "output_type": "stream",
          "text": [
            "Accuracy = 64.9%\n",
            "              precision    recall  f1-score   support\n",
            "\n",
            "           1       0.77      0.49      0.60      3844\n",
            "           2       0.00      0.00      0.00      1122\n",
            "           3       0.00      0.00      0.00      1409\n",
            "           4       0.33      0.00      0.00      2606\n",
            "           5       0.63      1.00      0.77     11415\n",
            "\n",
            "    accuracy                           0.65     20396\n",
            "   macro avg       0.35      0.30      0.27     20396\n",
            "weighted avg       0.54      0.65      0.55     20396\n",
            "\n"
          ],
          "name": "stdout"
        },
        {
          "output_type": "stream",
          "text": [
            "/usr/local/lib/python3.6/dist-packages/sklearn/metrics/_classification.py:1272: UndefinedMetricWarning: Precision and F-score are ill-defined and being set to 0.0 in labels with no predicted samples. Use `zero_division` parameter to control this behavior.\n",
            "  _warn_prf(average, modifier, msg_start, len(result))\n"
          ],
          "name": "stderr"
        }
      ]
    },
    {
      "cell_type": "code",
      "metadata": {
        "id": "kQkoLdWadv9U",
        "colab_type": "code",
        "outputId": "2f9f58ac-c6af-41ea-8478-c1d118516b2c",
        "cellView": "both",
        "colab": {
          "base_uri": "https://localhost:8080/",
          "height": 260
        }
      },
      "source": [
        "#@title Random Forest\n",
        "pipeline = Pipeline([\n",
        "    ('Tf-Idf', TfidfVectorizer(ngram_range=(1,2), analyzer=clean_text)),\n",
        "    ('classifier', RandomForestClassifier())])\n",
        "\n",
        "pipeline.fit(X_train, y_train)\n",
        "pipeline_predictedRF= pipeline.predict(X_test)\n",
        "print(metrics.classification_report(y_test, pipeline_predictedRF))\n",
        "print('Accuracy = %s' % round_perc(accuracy_score(pipeline_predictedRF, y_test)))"
      ],
      "execution_count": 0,
      "outputs": [
        {
          "output_type": "stream",
          "text": [
            "              precision    recall  f1-score   support\n",
            "\n",
            "           1       0.62      0.33      0.43      3844\n",
            "           2       0.87      0.07      0.13      1122\n",
            "           3       0.93      0.07      0.13      1409\n",
            "           4       0.73      0.06      0.11      2606\n",
            "           5       0.62      0.97      0.76     11415\n",
            "\n",
            "    accuracy                           0.62     20396\n",
            "   macro avg       0.75      0.30      0.31     20396\n",
            "weighted avg       0.67      0.62      0.54     20396\n",
            "\n",
            "Accuracy = 62.3%\n"
          ],
          "name": "stdout"
        }
      ]
    },
    {
      "cell_type": "code",
      "metadata": {
        "id": "e7fT0y6tokTX",
        "colab_type": "code",
        "colab": {}
      },
      "source": [
        ""
      ],
      "execution_count": 0,
      "outputs": []
    }
  ]
}